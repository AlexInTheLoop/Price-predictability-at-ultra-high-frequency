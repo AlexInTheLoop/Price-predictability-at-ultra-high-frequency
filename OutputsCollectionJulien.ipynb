{
 "cells": [
  {
   "cell_type": "markdown",
   "id": "859df6eb",
   "metadata": {},
   "source": [
    "### SET UP"
   ]
  },
  {
   "cell_type": "code",
   "execution_count": null,
   "id": "ebb8af39",
   "metadata": {},
   "outputs": [
    {
     "ename": "ImportError",
     "evalue": "cannot import name 'HistoricalDataColleector' from 'data.DataCollectors' (c:\\Users\\julie\\Documents\\Python\\Projets - Gestion Quant\\GQ2\\Price-predictability-at-ultra-high-frequency\\data\\DataCollectors.py)",
     "output_type": "error",
     "traceback": [
      "\u001b[1;31m---------------------------------------------------------------------------\u001b[0m",
      "\u001b[1;31mImportError\u001b[0m                               Traceback (most recent call last)",
      "Cell \u001b[1;32mIn[1], line 5\u001b[0m\n\u001b[0;32m      3\u001b[0m \u001b[38;5;28;01mfrom\u001b[39;00m\u001b[38;5;250m \u001b[39m\u001b[38;5;21;01mdata\u001b[39;00m\u001b[38;5;21;01m.\u001b[39;00m\u001b[38;5;21;01mDataManager\u001b[39;00m\u001b[38;5;250m \u001b[39m\u001b[38;5;28;01mimport\u001b[39;00m DataManager\n\u001b[0;32m      4\u001b[0m \u001b[38;5;28;01mfrom\u001b[39;00m\u001b[38;5;250m \u001b[39m\u001b[38;5;21;01mdata\u001b[39;00m\u001b[38;5;21;01m.\u001b[39;00m\u001b[38;5;21;01mDataGenerator\u001b[39;00m\u001b[38;5;250m \u001b[39m\u001b[38;5;28;01mimport\u001b[39;00m DataGenerator\n\u001b[1;32m----> 5\u001b[0m \u001b[38;5;28;01mfrom\u001b[39;00m\u001b[38;5;250m \u001b[39m\u001b[38;5;21;01mdata\u001b[39;00m\u001b[38;5;21;01m.\u001b[39;00m\u001b[38;5;21;01mDataCollectors\u001b[39;00m\u001b[38;5;250m \u001b[39m\u001b[38;5;28;01mimport\u001b[39;00m HistoricalDataColleector, RealTimeDataCollector, HistoricalDataCollectorParquet\n\u001b[0;32m      6\u001b[0m \u001b[38;5;28;01mfrom\u001b[39;00m\u001b[38;5;250m \u001b[39m\u001b[38;5;21;01mmain\u001b[39;00m\u001b[38;5;21;01m.\u001b[39;00m\u001b[38;5;21;01mRandomnessAnalysis\u001b[39;00m\u001b[38;5;250m \u001b[39m\u001b[38;5;28;01mimport\u001b[39;00m RandomnessAnalysis\n\u001b[0;32m      7\u001b[0m \u001b[38;5;28;01mfrom\u001b[39;00m\u001b[38;5;250m \u001b[39m\u001b[38;5;21;01mmain\u001b[39;00m\u001b[38;5;21;01m.\u001b[39;00m\u001b[38;5;21;01mPredictableDayAnalysis\u001b[39;00m\u001b[38;5;250m \u001b[39m\u001b[38;5;28;01mimport\u001b[39;00m PredictableDayAnalysis\n",
      "\u001b[1;31mImportError\u001b[0m: cannot import name 'HistoricalDataColleector' from 'data.DataCollectors' (c:\\Users\\julie\\Documents\\Python\\Projets - Gestion Quant\\GQ2\\Price-predictability-at-ultra-high-frequency\\data\\DataCollectors.py)"
     ]
    }
   ],
   "source": [
    "import numpy as np\n",
    "import pandas as pd\n",
    "from data.DataManager import DataManager\n",
    "from data.DataGenerator import DataGenerator\n",
    "from data.DataCollectors import HistoricalDataCollector, RealTimeDataCollector, HistoricalDataCollectorParquet\n",
    "from main.RandomnessAnalysis import RandomnessAnalysis\n",
    "from main.PredictableDayAnalysis import PredictableDayAnalysis\n",
    "from utils.Analysis import get_assets_properties, localization_predictable_intervals\n",
    "from utils.MultiTester import MultiTester\n",
    "from utils.VisualizationTools import plot_block_frequencies\n",
    "from utils.Analysis import intervals_analysis\n",
    "from utils.VisualizationTools import plot_test"
   ]
  },
  {
   "cell_type": "code",
   "execution_count": null,
   "id": "4a1b94b3",
   "metadata": {},
   "outputs": [],
   "source": [
    "asset_pairs = ['BTCUSDT','ETHUSDT','UNIUSDT']\n",
    "symbols = {\n",
    "            0: [(-np.inf, 0)\n",
    "                , (False, False)],\n",
    "            1: [(0, np.inf), (False, False)]\n",
    "        }\n",
    "s = 2"
   ]
  },
  {
   "cell_type": "code",
   "execution_count": null,
   "id": "32407d2c",
   "metadata": {},
   "outputs": [],
   "source": [
    "year, month, day = 2025, 2, None"
   ]
  },
  {
   "cell_type": "code",
   "execution_count": 9,
   "id": "3edaced4",
   "metadata": {},
   "outputs": [
    {
     "name": "stdout",
     "output_type": "stream",
     "text": [
      "[SYSTEM] Processing BTCUSDT...\n",
      "[SYSTEM] Downloading BTCUSDT-trades-2025-02.zip from https://data.binance.vision/data/spot/monthly/trades/BTCUSDT/BTCUSDT-trades-2025-02.zip ...\n",
      "[SYSTEM] File downloaded: BTCUSDT-trades-2025-02.zip\n",
      "[SYSTEM] Extracting data/raw_data\\BTCUSDT-trades-2025-02.zip ...\n",
      "[SYSTEM] Extraction finished.\n",
      "[SYSTEM] Converting BTCUSDT-trades-2025-02.csv → Parquet ...\n",
      "[SYSTEM] Saved parquet to: data/raw_data_parquet\\BTCUSDT-trades-2025-02.parquet\n",
      "[SYSTEM] Deleted temporary CSV file: data/raw_data\\BTCUSDT-trades-2025-02.csv\n",
      "[SYSTEM] Deleted ZIP: data/raw_data\\BTCUSDT-trades-2025-02.zip\n",
      "[SYSTEM] Processing ETHUSDT...\n",
      "[SYSTEM] Downloading ETHUSDT-trades-2025-02.zip from https://data.binance.vision/data/spot/monthly/trades/ETHUSDT/ETHUSDT-trades-2025-02.zip ...\n",
      "[SYSTEM] File downloaded: ETHUSDT-trades-2025-02.zip\n",
      "[SYSTEM] Extracting data/raw_data\\ETHUSDT-trades-2025-02.zip ...\n",
      "[SYSTEM] Extraction finished.\n",
      "[SYSTEM] Converting ETHUSDT-trades-2025-02.csv → Parquet ...\n",
      "[SYSTEM] Saved parquet to: data/raw_data_parquet\\ETHUSDT-trades-2025-02.parquet\n",
      "[SYSTEM] Deleted temporary CSV file: data/raw_data\\ETHUSDT-trades-2025-02.csv\n",
      "[SYSTEM] Deleted ZIP: data/raw_data\\ETHUSDT-trades-2025-02.zip\n",
      "[SYSTEM] Processing UNIUSDT...\n",
      "[SYSTEM] Downloading UNIUSDT-trades-2025-02.zip from https://data.binance.vision/data/spot/monthly/trades/UNIUSDT/UNIUSDT-trades-2025-02.zip ...\n",
      "[SYSTEM] File downloaded: UNIUSDT-trades-2025-02.zip\n",
      "[SYSTEM] Extracting data/raw_data\\UNIUSDT-trades-2025-02.zip ...\n",
      "[SYSTEM] Extraction finished.\n",
      "[SYSTEM] Converting UNIUSDT-trades-2025-02.csv → Parquet ...\n",
      "[SYSTEM] Saved parquet to: data/raw_data_parquet\\UNIUSDT-trades-2025-02.parquet\n",
      "[SYSTEM] Deleted temporary CSV file: data/raw_data\\UNIUSDT-trades-2025-02.csv\n",
      "[SYSTEM] Deleted ZIP: data/raw_data\\UNIUSDT-trades-2025-02.zip\n"
     ]
    }
   ],
   "source": [
    "historical_collector = HistoricalDataCollectorParquet(pairs=asset_pairs, year=year, month=month, day=day)\n",
    "historical_collector.collect()"
   ]
  },
  {
   "cell_type": "code",
   "execution_count": 8,
   "id": "4d8cce89",
   "metadata": {},
   "outputs": [
    {
     "name": "stdout",
     "output_type": "stream",
     "text": [
      "[DataManager] Loading parquet file: data/raw_data_parquet\\BTCUSDT-trades-2025-02-01.parquet\n",
      "[INFO] Fichier parquet brut : data/raw_data_parquet/BTCUSDT-trades-2025-02-01.parquet\n",
      "[INFO] Nombre de lignes dans le parquet : 2588786\n",
      "[INFO] Colonnes : ['trade_id', 'price', 'volume', 'quote_qty', 'timestamp', 'is_buyer_maker', 'is_best_match']\n",
      "     trade_id      price   volume  quote_qty         timestamp  \\\n",
      "0  4495881901  102429.56  0.00005   5.121478  1738368000182381   \n",
      "1  4495881902  102429.56  0.00006   6.145774  1738368000182381   \n",
      "2  4495881903  102429.56  0.00006   6.145774  1738368000302865   \n",
      "3  4495881904  102429.56  0.00006   6.145774  1738368000302865   \n",
      "4  4495881905  102429.56  0.00012  12.291547  1738368000302865   \n",
      "\n",
      "   is_buyer_maker  is_best_match  \n",
      "0           False           True  \n",
      "1           False           True  \n",
      "2           False           True  \n",
      "3           False           True  \n",
      "4           False           True  \n",
      "\n",
      "[INFO] DataManager dataset :\n",
      "[INFO] Nombre de lignes après preprocessing : 556714\n",
      "[INFO] Colonnes : ['price', 'volume', 'returns', 'symbol']\n",
      "                                price   volume       returns  symbol\n",
      "timestamp                                                           \n",
      "2025-02-01 00:00:00.302865  11.536936  0.00006  5.662412e-06       1\n",
      "2025-02-01 00:00:00.302865  11.536945  0.00006  8.786438e-06       1\n",
      "2025-02-01 00:00:00.302865  11.536947  0.00006  1.464399e-06       1\n",
      "2025-02-01 00:00:00.302865  11.536947  0.00006  9.762651e-08       1\n",
      "2025-02-01 00:00:00.302865  11.536947  0.00006  9.762650e-08       1\n",
      "\n",
      "[INFO] Blocs :\n",
      "[INFO] Nombre total de blocs : 556713 (should be n_rows - block_size + 1)\n",
      "[INFO] Forme blocs : (556713, 2)\n",
      "   0  1\n",
      "0  1  1\n",
      "1  1  1\n",
      "2  1  1\n",
      "3  1  1\n",
      "4  1  1\n",
      "5  1  1\n",
      "6  1  0\n",
      "7  0  1\n",
      "8  1  0\n",
      "9  0  1\n"
     ]
    }
   ],
   "source": [
    "import pandas as pd\n",
    "\n",
    "pair = \"BTCUSDT\"\n",
    "data_manager = DataManager([\"BTCUSDT\"], symbols, year=year, month=month, day=day, aggregation_level=1)\n",
    "blocks = data_manager.block_constructor(block_size=2, overlapping=True)\n",
    "# 1. Charger directement le parquet \"raw_data_parquet\"\n",
    "parquet_file = f\"data/raw_data_parquet/{pair}-trades-{year}-{month:02d}-{day:02d}.parquet\"\n",
    "df_parquet = pd.read_parquet(parquet_file)\n",
    "print(f\"[INFO] Fichier parquet brut : {parquet_file}\")\n",
    "print(f\"[INFO] Nombre de lignes dans le parquet : {len(df_parquet)}\")\n",
    "print(f\"[INFO] Colonnes : {df_parquet.columns.tolist()}\")\n",
    "print(df_parquet.head())\n",
    "\n",
    "# 2. Récupérer le DataFrame préprocessé par DataManager\n",
    "df_preprocessed = data_manager.datasets[pair]\n",
    "print(\"\\n[INFO] DataManager dataset :\")\n",
    "print(f\"[INFO] Nombre de lignes après preprocessing : {len(df_preprocessed)}\")\n",
    "print(f\"[INFO] Colonnes : {df_preprocessed.columns.tolist()}\")\n",
    "print(df_preprocessed.head())\n",
    "\n",
    "# 3. Récupérer les blocs\n",
    "blocks = data_manager.block_constructor(block_size=2, overlapping=True)\n",
    "blocks_btc = blocks[pair]\n",
    "print(\"\\n[INFO] Blocs :\")\n",
    "print(f\"[INFO] Nombre total de blocs : {len(blocks_btc)} (should be n_rows - block_size + 1)\")\n",
    "print(f\"[INFO] Forme blocs : {blocks_btc.shape}\")\n",
    "print(blocks_btc.head(10))  # afficher 10 blocs\n"
   ]
  },
  {
   "cell_type": "markdown",
   "id": "525fb5f8",
   "metadata": {},
   "source": [
    "### Efficient vs Inefficient days"
   ]
  },
  {
   "cell_type": "markdown",
   "id": "278c40d3",
   "metadata": {},
   "source": [
    "#### BTC"
   ]
  },
  {
   "cell_type": "code",
   "execution_count": 4,
   "id": "0c3363db",
   "metadata": {},
   "outputs": [
    {
     "ename": "KeyboardInterrupt",
     "evalue": "",
     "output_type": "error",
     "traceback": [
      "\u001b[1;31m---------------------------------------------------------------------------\u001b[0m",
      "\u001b[1;31mKeyboardInterrupt\u001b[0m                         Traceback (most recent call last)",
      "Cell \u001b[1;32mIn[4], line 2\u001b[0m\n\u001b[0;32m      1\u001b[0m data_manager \u001b[38;5;241m=\u001b[39m DataManager([\u001b[38;5;124m\"\u001b[39m\u001b[38;5;124mBTCUSDT\u001b[39m\u001b[38;5;124m\"\u001b[39m], symbols, year\u001b[38;5;241m=\u001b[39myear, month\u001b[38;5;241m=\u001b[39mmonth, aggregation_level\u001b[38;5;241m=\u001b[39m\u001b[38;5;241m1\u001b[39m)\n\u001b[1;32m----> 2\u001b[0m blocks \u001b[38;5;241m=\u001b[39m \u001b[43mdata_manager\u001b[49m\u001b[38;5;241;43m.\u001b[39;49m\u001b[43mblock_constructor\u001b[49m\u001b[43m(\u001b[49m\u001b[43mblock_size\u001b[49m\u001b[38;5;241;43m=\u001b[39;49m\u001b[38;5;241;43m2\u001b[39;49m\u001b[43m,\u001b[49m\u001b[43m \u001b[49m\u001b[43moverlapping\u001b[49m\u001b[38;5;241;43m=\u001b[39;49m\u001b[38;5;28;43;01mTrue\u001b[39;49;00m\u001b[43m)\u001b[49m\n\u001b[0;32m      3\u001b[0m analysis \u001b[38;5;241m=\u001b[39m PredictableDayAnalysis(pair\u001b[38;5;241m=\u001b[39m\u001b[38;5;124m\"\u001b[39m\u001b[38;5;124mBTCUSDT\u001b[39m\u001b[38;5;124m\"\u001b[39m,data_manager\u001b[38;5;241m=\u001b[39mdata_manager)\n\u001b[0;32m      4\u001b[0m analysis\u001b[38;5;241m.\u001b[39manalyze_days(blocks)\n",
      "File \u001b[1;32mc:\\Users\\julie\\Documents\\Python\\Projets - Gestion Quant\\GQ2\\Price-predictability-at-ultra-high-frequency\\data\\DataManager.py:206\u001b[0m, in \u001b[0;36mblock_constructor\u001b[1;34m(self, pairs, block_size, overlapping)\u001b[0m\n\u001b[0;32m      0\u001b[0m <Error retrieving source code with stack_data see ipython/ipython#13598>\n",
      "File \u001b[1;32mc:\\Users\\julie\\Documents\\Python\\Projets - Gestion Quant\\GQ2\\Price-predictability-at-ultra-high-frequency\\utils\\BlockConstructors.py:15\u001b[0m, in \u001b[0;36moverlapping_blocks\u001b[1;34m(symbols, block_size)\u001b[0m\n\u001b[0;32m     13\u001b[0m n \u001b[38;5;241m=\u001b[39m symbols\u001b[38;5;241m.\u001b[39mshape[\u001b[38;5;241m0\u001b[39m]\n\u001b[0;32m     14\u001b[0m \u001b[38;5;28;01mif\u001b[39;00m n \u001b[38;5;241m<\u001b[39m block_size:\n\u001b[1;32m---> 15\u001b[0m     \u001b[38;5;28;01mreturn\u001b[39;00m \u001b[43mnp\u001b[49m\u001b[38;5;241;43m.\u001b[39;49m\u001b[43mempty\u001b[49m\u001b[43m(\u001b[49m\u001b[43m(\u001b[49m\u001b[38;5;241;43m0\u001b[39;49m\u001b[43m,\u001b[49m\u001b[43m \u001b[49m\u001b[43mblock_size\u001b[49m\u001b[43m)\u001b[49m\u001b[43m,\u001b[49m\u001b[43m \u001b[49m\u001b[43mdtype\u001b[49m\u001b[38;5;241;43m=\u001b[39;49m\u001b[43msymbols\u001b[49m\u001b[38;5;241;43m.\u001b[39;49m\u001b[43mdtype\u001b[49m\u001b[43m)\u001b[49m\n\u001b[0;32m     17\u001b[0m shape \u001b[38;5;241m=\u001b[39m (n \u001b[38;5;241m-\u001b[39m block_size \u001b[38;5;241m+\u001b[39m \u001b[38;5;241m1\u001b[39m, block_size)\n\u001b[0;32m     18\u001b[0m strides \u001b[38;5;241m=\u001b[39m (symbols\u001b[38;5;241m.\u001b[39mstrides[\u001b[38;5;241m0\u001b[39m], symbols\u001b[38;5;241m.\u001b[39mstrides[\u001b[38;5;241m0\u001b[39m])\n",
      "File \u001b[1;32mc:\\Users\\julie\\AppData\\Local\\Programs\\Python\\Python312\\Lib\\site-packages\\numpy\\lib\\_function_base_impl.py:5692\u001b[0m, in \u001b[0;36mappend\u001b[1;34m(arr, values, axis)\u001b[0m\n\u001b[0;32m   5690\u001b[0m     values \u001b[38;5;241m=\u001b[39m ravel(values)\n\u001b[0;32m   5691\u001b[0m     axis \u001b[38;5;241m=\u001b[39m arr\u001b[38;5;241m.\u001b[39mndim\u001b[38;5;241m-\u001b[39m\u001b[38;5;241m1\u001b[39m\n\u001b[1;32m-> 5692\u001b[0m \u001b[38;5;28;01mreturn\u001b[39;00m \u001b[43mconcatenate\u001b[49m\u001b[43m(\u001b[49m\u001b[43m(\u001b[49m\u001b[43marr\u001b[49m\u001b[43m,\u001b[49m\u001b[43m \u001b[49m\u001b[43mvalues\u001b[49m\u001b[43m)\u001b[49m\u001b[43m,\u001b[49m\u001b[43m \u001b[49m\u001b[43maxis\u001b[49m\u001b[38;5;241;43m=\u001b[39;49m\u001b[43maxis\u001b[49m\u001b[43m)\u001b[49m\n",
      "\u001b[1;31mKeyboardInterrupt\u001b[0m: "
     ]
    }
   ],
   "source": [
    "data_manager = DataManager([\"BTCUSDT\"], symbols, year=year, month=month, aggregation_level=1)\n",
    "blocks = data_manager.block_constructor(block_size=2, overlapping=True)\n",
    "analysis = PredictableDayAnalysis(pair=\"BTCUSDT\",data_manager=data_manager)\n",
    "analysis.analyze_days(blocks)\n",
    "analysis.efficient_df"
   ]
  },
  {
   "cell_type": "code",
   "execution_count": 2,
   "id": "dc3c491f",
   "metadata": {},
   "outputs": [
    {
     "ename": "NameError",
     "evalue": "name 'symbols' is not defined",
     "output_type": "error",
     "traceback": [
      "\u001b[1;31m---------------------------------------------------------------------------\u001b[0m",
      "\u001b[1;31mNameError\u001b[0m                                 Traceback (most recent call last)",
      "Cell \u001b[1;32mIn[2], line 2\u001b[0m\n\u001b[0;32m      1\u001b[0m \u001b[38;5;66;03m#Nouvelle version : \u001b[39;00m\n\u001b[1;32m----> 2\u001b[0m data_manager \u001b[38;5;241m=\u001b[39m DataManager([\u001b[38;5;124m\"\u001b[39m\u001b[38;5;124mBTCUSDT\u001b[39m\u001b[38;5;124m\"\u001b[39m], \u001b[43msymbols\u001b[49m, year\u001b[38;5;241m=\u001b[39myear, month\u001b[38;5;241m=\u001b[39mmonth, day\u001b[38;5;241m=\u001b[39mday, aggregation_level\u001b[38;5;241m=\u001b[39m\u001b[38;5;241m1\u001b[39m)\n\u001b[0;32m      3\u001b[0m blocks \u001b[38;5;241m=\u001b[39m data_manager\u001b[38;5;241m.\u001b[39mblock_constructor(block_size\u001b[38;5;241m=\u001b[39m\u001b[38;5;241m2\u001b[39m, overlapping\u001b[38;5;241m=\u001b[39m\u001b[38;5;28;01mTrue\u001b[39;00m)\n\u001b[0;32m      4\u001b[0m analysis \u001b[38;5;241m=\u001b[39m PredictableDayAnalysis(pair\u001b[38;5;241m=\u001b[39m\u001b[38;5;124m\"\u001b[39m\u001b[38;5;124mBTCUSDT\u001b[39m\u001b[38;5;124m\"\u001b[39m, data_manager\u001b[38;5;241m=\u001b[39mdata_manager)\n",
      "\u001b[1;31mNameError\u001b[0m: name 'symbols' is not defined"
     ]
    }
   ],
   "source": [
    "#Nouvelle version : \n",
    "data_manager = DataManager([\"BTCUSDT\"], symbols, year=year, month=month, day=day, aggregation_level=1)\n",
    "blocks = data_manager.block_constructor(block_size=2, overlapping=True)\n",
    "analysis = PredictableDayAnalysis(pair=\"BTCUSDT\", data_manager=data_manager)\n",
    "analysis.analyze_days(block_size=2, n_jobs=8)\n",
    "\n",
    "analysis.efficient_df"
   ]
  },
  {
   "cell_type": "code",
   "execution_count": 5,
   "id": "e803999d",
   "metadata": {},
   "outputs": [
    {
     "data": {
      "text/html": [
       "<div>\n",
       "<style scoped>\n",
       "    .dataframe tbody tr th:only-of-type {\n",
       "        vertical-align: middle;\n",
       "    }\n",
       "\n",
       "    .dataframe tbody tr th {\n",
       "        vertical-align: top;\n",
       "    }\n",
       "\n",
       "    .dataframe thead th {\n",
       "        text-align: right;\n",
       "    }\n",
       "</style>\n",
       "<table border=\"1\" class=\"dataframe\">\n",
       "  <thead>\n",
       "    <tr style=\"text-align: right;\">\n",
       "      <th></th>\n",
       "      <th>Jump fraction</th>\n",
       "      <th>Autocorrelation</th>\n",
       "      <th>Autocorrelation of squared returns</th>\n",
       "      <th>Student distribution degree of freedom</th>\n",
       "      <th>Student distribution mean</th>\n",
       "      <th>Student distribution standard deviation</th>\n",
       "      <th>Returns mean</th>\n",
       "      <th>Fractions of zero-returns</th>\n",
       "      <th>KL Divergence statistics</th>\n",
       "      <th>Empirical quantile</th>\n",
       "      <th>Hypothesis</th>\n",
       "    </tr>\n",
       "  </thead>\n",
       "  <tbody>\n",
       "    <tr>\n",
       "      <th>0</th>\n",
       "      <td>0.010247</td>\n",
       "      <td>-0.103459</td>\n",
       "      <td>0.273165</td>\n",
       "      <td>0.549179</td>\n",
       "      <td>-1.127923e-08</td>\n",
       "      <td>1.869436e-07</td>\n",
       "      <td>-3.144649e-08</td>\n",
       "      <td>0.0</td>\n",
       "      <td>65872.415735</td>\n",
       "      <td>6.634897</td>\n",
       "      <td>True</td>\n",
       "    </tr>\n",
       "    <tr>\n",
       "      <th>1</th>\n",
       "      <td>0.013440</td>\n",
       "      <td>-0.243606</td>\n",
       "      <td>0.471878</td>\n",
       "      <td>1.988299</td>\n",
       "      <td>-3.996320e-08</td>\n",
       "      <td>1.116391e-06</td>\n",
       "      <td>-3.430418e-08</td>\n",
       "      <td>0.0</td>\n",
       "      <td>18936.767006</td>\n",
       "      <td>6.634897</td>\n",
       "      <td>True</td>\n",
       "    </tr>\n",
       "  </tbody>\n",
       "</table>\n",
       "</div>"
      ],
      "text/plain": [
       "   Jump fraction  Autocorrelation  Autocorrelation of squared returns  \\\n",
       "0       0.010247        -0.103459                            0.273165   \n",
       "1       0.013440        -0.243606                            0.471878   \n",
       "\n",
       "   Student distribution degree of freedom  Student distribution mean  \\\n",
       "0                                0.549179              -1.127923e-08   \n",
       "1                                1.988299              -3.996320e-08   \n",
       "\n",
       "   Student distribution standard deviation  Returns mean  \\\n",
       "0                             1.869436e-07 -3.144649e-08   \n",
       "1                             1.116391e-06 -3.430418e-08   \n",
       "\n",
       "   Fractions of zero-returns  KL Divergence statistics  Empirical quantile  \\\n",
       "0                        0.0              65872.415735            6.634897   \n",
       "1                        0.0              18936.767006            6.634897   \n",
       "\n",
       "   Hypothesis  \n",
       "0        True  \n",
       "1        True  "
      ]
     },
     "execution_count": 5,
     "metadata": {},
     "output_type": "execute_result"
    }
   ],
   "source": [
    "analysis.inefficient_df"
   ]
  },
  {
   "cell_type": "markdown",
   "id": "4310d922",
   "metadata": {},
   "source": [
    "#### ETH"
   ]
  },
  {
   "cell_type": "code",
   "execution_count": null,
   "id": "63f86244",
   "metadata": {},
   "outputs": [],
   "source": [
    "data_manager = DataManager([\"ETHUSDT\"], symbols, year=year, month=month, aggregation_level=1)\n",
    "blocks = data_manager.block_constructor(block_size=2, overlapping=True)\n",
    "analysis = PredictableDayAnalysis(pair=\"ETHUSDT\",data_manager=data_manager)\n",
    "analysis.analyze_days(blocks)\n",
    "analysis.efficient_df"
   ]
  },
  {
   "cell_type": "code",
   "execution_count": null,
   "id": "fd7ddba9",
   "metadata": {},
   "outputs": [],
   "source": [
    "analysis.inefficient_df"
   ]
  },
  {
   "cell_type": "markdown",
   "id": "94cbbdf5",
   "metadata": {},
   "source": [
    "### Predictable intervals locations (BTC)"
   ]
  },
  {
   "cell_type": "code",
   "execution_count": null,
   "id": "9349faf5",
   "metadata": {},
   "outputs": [],
   "source": [
    "df = localization_predictable_intervals(data_manager, \"BTCUSDT\", test='NP Statistic')\n",
    "df.head(10)"
   ]
  },
  {
   "cell_type": "markdown",
   "id": "ff2d3118",
   "metadata": {},
   "source": [
    "### Aggregation level 1"
   ]
  },
  {
   "cell_type": "code",
   "execution_count": null,
   "id": "68bad3da",
   "metadata": {},
   "outputs": [],
   "source": [
    "data_manager = DataManager(asset_pairs, symbols, year=year, month=month, aggregation_level=1)"
   ]
  },
  {
   "cell_type": "markdown",
   "id": "77c369eb",
   "metadata": {},
   "source": [
    "#### Non overlapping"
   ]
  },
  {
   "cell_type": "code",
   "execution_count": null,
   "id": "a37bf851",
   "metadata": {},
   "outputs": [],
   "source": [
    "blocks_size_2 = data_manager.block_constructor(block_size=2, overlapping=False)\n",
    "blocks_size_3 = data_manager.block_constructor(block_size=3, overlapping=False)\n",
    "blocks_size_5 = data_manager.block_constructor(block_size=5, overlapping=False)"
   ]
  },
  {
   "cell_type": "markdown",
   "id": "971116cc",
   "metadata": {},
   "source": [
    "##### Block size 2"
   ]
  },
  {
   "cell_type": "code",
   "execution_count": null,
   "id": "4606b774",
   "metadata": {},
   "outputs": [],
   "source": [
    "blocks_btc = blocks_size_2['BTCUSDT']\n",
    "analyser = RandomnessAnalysis(blocks_df=blocks_btc, s=s)\n",
    "frequencies_df = analyser.compute_blocks_frequencies()\n",
    "plot_block_frequencies(frequencies_df)"
   ]
  },
  {
   "cell_type": "code",
   "execution_count": null,
   "id": "b1177465",
   "metadata": {},
   "outputs": [],
   "source": [
    "test_entropy = analyser.entropy_bias_test()\n",
    "test_entropy"
   ]
  },
  {
   "cell_type": "code",
   "execution_count": null,
   "id": "39382c9c",
   "metadata": {},
   "outputs": [],
   "source": [
    "blocks_eth = blocks_size_2['ETHUSDT']\n",
    "analyser = RandomnessAnalysis(blocks_df=blocks_eth, s=s)\n",
    "frequencies_df = analyser.compute_blocks_frequencies()\n",
    "plot_block_frequencies(frequencies_df)"
   ]
  },
  {
   "cell_type": "code",
   "execution_count": null,
   "id": "14caf361",
   "metadata": {},
   "outputs": [],
   "source": [
    "test_entropy = analyser.entropy_bias_test()\n",
    "test_entropy"
   ]
  },
  {
   "cell_type": "code",
   "execution_count": null,
   "id": "90ba85db",
   "metadata": {},
   "outputs": [],
   "source": [
    "blocks_uni = blocks_size_2['UNIUSDT']\n",
    "analyser = RandomnessAnalysis(blocks_df=blocks_uni, s=s)\n",
    "frequencies_df = analyser.compute_blocks_frequencies()\n",
    "plot_block_frequencies(frequencies_df)"
   ]
  },
  {
   "cell_type": "code",
   "execution_count": null,
   "id": "2d14b964",
   "metadata": {},
   "outputs": [],
   "source": [
    "test_entropy = analyser.entropy_bias_test()\n",
    "test_entropy"
   ]
  },
  {
   "cell_type": "markdown",
   "id": "6b1ea084",
   "metadata": {},
   "source": [
    "##### Block size 3"
   ]
  },
  {
   "cell_type": "code",
   "execution_count": null,
   "id": "e293d229",
   "metadata": {},
   "outputs": [],
   "source": [
    "blocks_btc = blocks_size_3['BTCUSDT']\n",
    "analyser = RandomnessAnalysis(blocks_df=blocks_btc, s=s)\n",
    "frequencies_df = analyser.compute_blocks_frequencies()\n",
    "plot_block_frequencies(frequencies_df)"
   ]
  },
  {
   "cell_type": "code",
   "execution_count": null,
   "id": "557b137d",
   "metadata": {},
   "outputs": [],
   "source": [
    "blocks_eth = blocks_size_3['ETHUSDT']\n",
    "analyser = RandomnessAnalysis(blocks_df=blocks_eth, s=s)\n",
    "frequencies_df = analyser.compute_blocks_frequencies()\n",
    "plot_block_frequencies(frequencies_df)"
   ]
  },
  {
   "cell_type": "code",
   "execution_count": null,
   "id": "6a709a7a",
   "metadata": {},
   "outputs": [],
   "source": [
    "blocks_uni = blocks_size_3['UNIUSDT']\n",
    "analyser = RandomnessAnalysis(blocks_df=blocks_uni, s=s)\n",
    "frequencies_df = analyser.compute_blocks_frequencies()\n",
    "plot_block_frequencies(frequencies_df)"
   ]
  },
  {
   "cell_type": "markdown",
   "id": "53b0b7ab",
   "metadata": {},
   "source": [
    "##### Block size 5"
   ]
  },
  {
   "cell_type": "code",
   "execution_count": null,
   "id": "1de157c7",
   "metadata": {},
   "outputs": [],
   "source": [
    "blocks_btc = blocks_size_5['BTCUSDT']\n",
    "analyser = RandomnessAnalysis(blocks_df=blocks_btc, s=s)\n",
    "frequencies_df = analyser.compute_blocks_frequencies()\n",
    "plot_block_frequencies(frequencies_df)"
   ]
  },
  {
   "cell_type": "code",
   "execution_count": null,
   "id": "f26e5484",
   "metadata": {},
   "outputs": [],
   "source": [
    "blocks_eth = blocks_size_5['ETHUSDT']\n",
    "analyser = RandomnessAnalysis(blocks_df=blocks_eth, s=s)\n",
    "frequencies_df = analyser.compute_blocks_frequencies()\n",
    "plot_block_frequencies(frequencies_df)"
   ]
  },
  {
   "cell_type": "code",
   "execution_count": null,
   "id": "da418c1e",
   "metadata": {},
   "outputs": [],
   "source": [
    "blocks_uni = blocks_size_5['UNIUSDT']\n",
    "analyser = RandomnessAnalysis(blocks_df=blocks_uni, s=s)\n",
    "frequencies_df = analyser.compute_blocks_frequencies()\n",
    "plot_block_frequencies(frequencies_df)"
   ]
  },
  {
   "cell_type": "markdown",
   "id": "ff9c233d",
   "metadata": {},
   "source": [
    "#### Overlapping"
   ]
  },
  {
   "cell_type": "code",
   "execution_count": null,
   "id": "96a90aa3",
   "metadata": {},
   "outputs": [],
   "source": [
    "blocks_size_2 = data_manager.block_constructor(block_size=2, overlapping=True)\n",
    "blocks_size_3 = data_manager.block_constructor(block_size=3, overlapping=True)\n",
    "blocks_size_5 = data_manager.block_constructor(block_size=5, overlapping=True)"
   ]
  },
  {
   "cell_type": "markdown",
   "id": "9102de9d",
   "metadata": {},
   "source": [
    "##### Block size 2"
   ]
  },
  {
   "cell_type": "code",
   "execution_count": null,
   "id": "bab48889",
   "metadata": {},
   "outputs": [],
   "source": [
    "blocks_btc = blocks_size_2['BTCUSDT']\n",
    "analyser = RandomnessAnalysis(blocks_df=blocks_btc, s=s)\n",
    "frequencies_df = analyser.compute_blocks_frequencies()\n",
    "plot_block_frequencies(frequencies_df)"
   ]
  },
  {
   "cell_type": "code",
   "execution_count": null,
   "id": "5a49966c",
   "metadata": {},
   "outputs": [],
   "source": [
    "test_divergence = analyser.KL_divergence_test()\n",
    "test_divergence"
   ]
  },
  {
   "cell_type": "code",
   "execution_count": null,
   "id": "5ec85287",
   "metadata": {},
   "outputs": [],
   "source": [
    "blocks_eth = blocks_size_2['ETHUSDT']\n",
    "analyser = RandomnessAnalysis(blocks_df=blocks_eth, s=s)\n",
    "frequencies_df = analyser.compute_blocks_frequencies()\n",
    "plot_block_frequencies(frequencies_df)"
   ]
  },
  {
   "cell_type": "code",
   "execution_count": null,
   "id": "1ee78dfb",
   "metadata": {},
   "outputs": [],
   "source": [
    "test_divergence = analyser.KL_divergence_test()\n",
    "test_divergence"
   ]
  },
  {
   "cell_type": "code",
   "execution_count": null,
   "id": "1f8f678d",
   "metadata": {},
   "outputs": [],
   "source": [
    "blocks_uni = blocks_size_2['UNIUSDT']\n",
    "analyser = RandomnessAnalysis(blocks_df=blocks_uni, s=s)\n",
    "frequencies_df = analyser.compute_blocks_frequencies()\n",
    "plot_block_frequencies(frequencies_df)"
   ]
  },
  {
   "cell_type": "code",
   "execution_count": null,
   "id": "89198a4d",
   "metadata": {},
   "outputs": [],
   "source": [
    "test_divergence = analyser.KL_divergence_test()\n",
    "test_divergence"
   ]
  },
  {
   "cell_type": "markdown",
   "id": "cac0c0d0",
   "metadata": {},
   "source": [
    "##### Block size 3"
   ]
  },
  {
   "cell_type": "code",
   "execution_count": null,
   "id": "4fdace74",
   "metadata": {},
   "outputs": [],
   "source": [
    "blocks_btc = blocks_size_3['BTCUSDT']\n",
    "analyser = RandomnessAnalysis(blocks_df=blocks_btc, s=s)\n",
    "frequencies_df = analyser.compute_blocks_frequencies()\n",
    "plot_block_frequencies(frequencies_df)"
   ]
  },
  {
   "cell_type": "code",
   "execution_count": null,
   "id": "d236d1aa",
   "metadata": {},
   "outputs": [],
   "source": [
    "blocks_eth = blocks_size_3['ETHUSDT']\n",
    "analyser = RandomnessAnalysis(blocks_df=blocks_eth, s=s)\n",
    "frequencies_df = analyser.compute_blocks_frequencies()\n",
    "plot_block_frequencies(frequencies_df)"
   ]
  },
  {
   "cell_type": "code",
   "execution_count": null,
   "id": "a4d2ccf1",
   "metadata": {},
   "outputs": [],
   "source": [
    "blocks_uni = blocks_size_3['UNIUSDT']\n",
    "analyser = RandomnessAnalysis(blocks_df=blocks_uni, s=s)\n",
    "frequencies_df = analyser.compute_blocks_frequencies()\n",
    "plot_block_frequencies(frequencies_df)"
   ]
  },
  {
   "cell_type": "markdown",
   "id": "472c5c50",
   "metadata": {},
   "source": [
    "##### Block size 5"
   ]
  },
  {
   "cell_type": "code",
   "execution_count": null,
   "id": "4e40f5f2",
   "metadata": {},
   "outputs": [],
   "source": [
    "blocks_btc = blocks_size_5['BTCUSDT']\n",
    "analyser = RandomnessAnalysis(blocks_df=blocks_btc, s=s)\n",
    "frequencies_df = analyser.compute_blocks_frequencies()\n",
    "plot_block_frequencies(frequencies_df)"
   ]
  },
  {
   "cell_type": "code",
   "execution_count": null,
   "id": "621f9f6b",
   "metadata": {},
   "outputs": [],
   "source": [
    "blocks_eth = blocks_size_5['ETHUSDT']\n",
    "analyser = RandomnessAnalysis(blocks_df=blocks_eth, s=s)\n",
    "frequencies_df = analyser.compute_blocks_frequencies()\n",
    "plot_block_frequencies(frequencies_df)"
   ]
  },
  {
   "cell_type": "code",
   "execution_count": null,
   "id": "88a1bfac",
   "metadata": {},
   "outputs": [],
   "source": [
    "blocks_uni = blocks_size_5['UNIUSDT']\n",
    "analyser = RandomnessAnalysis(blocks_df=blocks_uni, s=s)\n",
    "frequencies_df = analyser.compute_blocks_frequencies()\n",
    "plot_block_frequencies(frequencies_df)"
   ]
  },
  {
   "cell_type": "markdown",
   "id": "19e27f23",
   "metadata": {},
   "source": [
    "### Aggregation level 5"
   ]
  },
  {
   "cell_type": "code",
   "execution_count": null,
   "id": "a4f2f758",
   "metadata": {},
   "outputs": [],
   "source": [
    "data_manager = DataManager(asset_pairs, symbols, year=year, month=month, aggregation_level=5)"
   ]
  },
  {
   "cell_type": "markdown",
   "id": "30a9ae25",
   "metadata": {},
   "source": [
    "#### Non overlapping"
   ]
  },
  {
   "cell_type": "code",
   "execution_count": null,
   "id": "d6337ff9",
   "metadata": {},
   "outputs": [],
   "source": [
    "blocks_size_2 = data_manager.block_constructor(block_size=2, overlapping=False)\n",
    "blocks_size_3 = data_manager.block_constructor(block_size=3, overlapping=False)\n",
    "blocks_size_5 = data_manager.block_constructor(block_size=5, overlapping=False)"
   ]
  },
  {
   "cell_type": "markdown",
   "id": "4b2568a1",
   "metadata": {},
   "source": [
    "##### Block size 2"
   ]
  },
  {
   "cell_type": "code",
   "execution_count": null,
   "id": "3e85af7f",
   "metadata": {},
   "outputs": [],
   "source": [
    "blocks_btc = blocks_size_2['BTCUSDT']\n",
    "analyser = RandomnessAnalysis(blocks_df=blocks_btc, s=s)\n",
    "frequencies_df = analyser.compute_blocks_frequencies()\n",
    "plot_block_frequencies(frequencies_df)"
   ]
  },
  {
   "cell_type": "code",
   "execution_count": null,
   "id": "75315d20",
   "metadata": {},
   "outputs": [],
   "source": [
    "test_entropy = analyser.entropy_bias_test()\n",
    "test_entropy"
   ]
  },
  {
   "cell_type": "code",
   "execution_count": null,
   "id": "83333ebf",
   "metadata": {},
   "outputs": [],
   "source": [
    "blocks_eth = blocks_size_2['ETHUSDT']\n",
    "analyser = RandomnessAnalysis(blocks_df=blocks_eth, s=s)\n",
    "frequencies_df = analyser.compute_blocks_frequencies()\n",
    "plot_block_frequencies(frequencies_df)"
   ]
  },
  {
   "cell_type": "code",
   "execution_count": null,
   "id": "fe632ce8",
   "metadata": {},
   "outputs": [],
   "source": [
    "test_entropy = analyser.entropy_bias_test()\n",
    "test_entropy"
   ]
  },
  {
   "cell_type": "code",
   "execution_count": null,
   "id": "7ead65b3",
   "metadata": {},
   "outputs": [],
   "source": [
    "blocks_uni = blocks_size_2['UNIUSDT']\n",
    "analyser = RandomnessAnalysis(blocks_df=blocks_uni, s=s)\n",
    "frequencies_df = analyser.compute_blocks_frequencies()\n",
    "plot_block_frequencies(frequencies_df)"
   ]
  },
  {
   "cell_type": "code",
   "execution_count": null,
   "id": "8d0c794a",
   "metadata": {},
   "outputs": [],
   "source": [
    "test_entropy = analyser.entropy_bias_test()\n",
    "test_entropy"
   ]
  },
  {
   "cell_type": "markdown",
   "id": "9bc532d1",
   "metadata": {},
   "source": [
    "##### Block size 3"
   ]
  },
  {
   "cell_type": "code",
   "execution_count": null,
   "id": "da496395",
   "metadata": {},
   "outputs": [],
   "source": [
    "blocks_btc = blocks_size_3['BTCUSDT']\n",
    "analyser = RandomnessAnalysis(blocks_df=blocks_btc, s=s)\n",
    "frequencies_df = analyser.compute_blocks_frequencies()\n",
    "plot_block_frequencies(frequencies_df)"
   ]
  },
  {
   "cell_type": "code",
   "execution_count": null,
   "id": "26cd31ad",
   "metadata": {},
   "outputs": [],
   "source": [
    "blocks_eth = blocks_size_3['ETHUSDT']\n",
    "analyser = RandomnessAnalysis(blocks_df=blocks_eth, s=s)\n",
    "frequencies_df = analyser.compute_blocks_frequencies()\n",
    "plot_block_frequencies(frequencies_df)"
   ]
  },
  {
   "cell_type": "code",
   "execution_count": null,
   "id": "8d84b8ac",
   "metadata": {},
   "outputs": [],
   "source": [
    "blocks_uni = blocks_size_3['UNIUSDT']\n",
    "analyser = RandomnessAnalysis(blocks_df=blocks_uni, s=s)\n",
    "frequencies_df = analyser.compute_blocks_frequencies()\n",
    "plot_block_frequencies(frequencies_df)"
   ]
  },
  {
   "cell_type": "markdown",
   "id": "95a68757",
   "metadata": {},
   "source": [
    "##### Block size 5"
   ]
  },
  {
   "cell_type": "code",
   "execution_count": null,
   "id": "bef03c19",
   "metadata": {},
   "outputs": [],
   "source": [
    "blocks_btc = blocks_size_5['BTCUSDT']\n",
    "analyser = RandomnessAnalysis(blocks_df=blocks_btc, s=s)\n",
    "frequencies_df = analyser.compute_blocks_frequencies()\n",
    "plot_block_frequencies(frequencies_df)"
   ]
  },
  {
   "cell_type": "code",
   "execution_count": null,
   "id": "acfe267f",
   "metadata": {},
   "outputs": [],
   "source": [
    "blocks_eth = blocks_size_5['ETHUSDT']\n",
    "analyser = RandomnessAnalysis(blocks_df=blocks_eth, s=s)\n",
    "frequencies_df = analyser.compute_blocks_frequencies()\n",
    "plot_block_frequencies(frequencies_df)"
   ]
  },
  {
   "cell_type": "code",
   "execution_count": null,
   "id": "3697856c",
   "metadata": {},
   "outputs": [],
   "source": [
    "blocks_uni = blocks_size_5['UNIUSDT']\n",
    "analyser = RandomnessAnalysis(blocks_df=blocks_uni, s=s)\n",
    "frequencies_df = analyser.compute_blocks_frequencies()\n",
    "plot_block_frequencies(frequencies_df)"
   ]
  },
  {
   "cell_type": "markdown",
   "id": "63c96b05",
   "metadata": {},
   "source": [
    "#### Overlapping"
   ]
  },
  {
   "cell_type": "code",
   "execution_count": null,
   "id": "f97530b3",
   "metadata": {},
   "outputs": [],
   "source": [
    "blocks_size_2 = data_manager.block_constructor(block_size=2, overlapping=True)\n",
    "blocks_size_3 = data_manager.block_constructor(block_size=3, overlapping=True)\n",
    "blocks_size_5 = data_manager.block_constructor(block_size=5, overlapping=True)"
   ]
  },
  {
   "cell_type": "markdown",
   "id": "9706b9e2",
   "metadata": {},
   "source": [
    "##### Block size 2"
   ]
  },
  {
   "cell_type": "code",
   "execution_count": null,
   "id": "8ced8fcd",
   "metadata": {},
   "outputs": [],
   "source": [
    "blocks_btc = blocks_size_2['BTCUSDT']\n",
    "analyser = RandomnessAnalysis(blocks_df=blocks_btc, s=s)\n",
    "frequencies_df = analyser.compute_blocks_frequencies()\n",
    "plot_block_frequencies(frequencies_df)"
   ]
  },
  {
   "cell_type": "code",
   "execution_count": null,
   "id": "19a8ab6d",
   "metadata": {},
   "outputs": [],
   "source": [
    "test_divergence = analyser.KL_divergence_test()\n",
    "test_divergence"
   ]
  },
  {
   "cell_type": "code",
   "execution_count": null,
   "id": "2026b3bb",
   "metadata": {},
   "outputs": [],
   "source": [
    "blocks_eth = blocks_size_2['ETHUSDT']\n",
    "analyser = RandomnessAnalysis(blocks_df=blocks_eth, s=s)\n",
    "frequencies_df = analyser.compute_blocks_frequencies()\n",
    "plot_block_frequencies(frequencies_df)"
   ]
  },
  {
   "cell_type": "code",
   "execution_count": null,
   "id": "9f2c04f6",
   "metadata": {},
   "outputs": [],
   "source": [
    "test_divergence = analyser.KL_divergence_test()\n",
    "test_divergence"
   ]
  },
  {
   "cell_type": "code",
   "execution_count": null,
   "id": "7b2ef9e0",
   "metadata": {},
   "outputs": [],
   "source": [
    "blocks_uni = blocks_size_2['UNIUSDT']\n",
    "analyser = RandomnessAnalysis(blocks_df=blocks_uni, s=s)\n",
    "frequencies_df = analyser.compute_blocks_frequencies()\n",
    "plot_block_frequencies(frequencies_df)"
   ]
  },
  {
   "cell_type": "code",
   "execution_count": null,
   "id": "3397f992",
   "metadata": {},
   "outputs": [],
   "source": [
    "test_divergence = analyser.KL_divergence_test()\n",
    "test_divergence"
   ]
  },
  {
   "cell_type": "markdown",
   "id": "9e0b5f5b",
   "metadata": {},
   "source": [
    "##### Block size 3"
   ]
  },
  {
   "cell_type": "code",
   "execution_count": null,
   "id": "74239942",
   "metadata": {},
   "outputs": [],
   "source": [
    "blocks_btc = blocks_size_3['BTCUSDT']\n",
    "analyser = RandomnessAnalysis(blocks_df=blocks_btc, s=s)\n",
    "frequencies_df = analyser.compute_blocks_frequencies()\n",
    "plot_block_frequencies(frequencies_df)"
   ]
  },
  {
   "cell_type": "code",
   "execution_count": null,
   "id": "21a48a45",
   "metadata": {},
   "outputs": [],
   "source": [
    "blocks_eth = blocks_size_3['ETHUSDT']\n",
    "analyser = RandomnessAnalysis(blocks_df=blocks_eth, s=s)\n",
    "frequencies_df = analyser.compute_blocks_frequencies()\n",
    "plot_block_frequencies(frequencies_df)"
   ]
  },
  {
   "cell_type": "code",
   "execution_count": null,
   "id": "c97846f7",
   "metadata": {},
   "outputs": [],
   "source": [
    "blocks_uni = blocks_size_3['UNIUSDT']\n",
    "analyser = RandomnessAnalysis(blocks_df=blocks_uni, s=s)\n",
    "frequencies_df = analyser.compute_blocks_frequencies()\n",
    "plot_block_frequencies(frequencies_df)"
   ]
  },
  {
   "cell_type": "markdown",
   "id": "2175a9eb",
   "metadata": {},
   "source": [
    "##### Block size 5"
   ]
  },
  {
   "cell_type": "code",
   "execution_count": null,
   "id": "94f774be",
   "metadata": {},
   "outputs": [],
   "source": [
    "blocks_btc = blocks_size_5['BTCUSDT']\n",
    "analyser = RandomnessAnalysis(blocks_df=blocks_btc, s=s)\n",
    "frequencies_df = analyser.compute_blocks_frequencies()\n",
    "plot_block_frequencies(frequencies_df)"
   ]
  },
  {
   "cell_type": "code",
   "execution_count": null,
   "id": "64103e5a",
   "metadata": {},
   "outputs": [],
   "source": [
    "blocks_eth = blocks_size_5['ETHUSDT']\n",
    "analyser = RandomnessAnalysis(blocks_df=blocks_eth, s=s)\n",
    "frequencies_df = analyser.compute_blocks_frequencies()\n",
    "plot_block_frequencies(frequencies_df)"
   ]
  },
  {
   "cell_type": "code",
   "execution_count": null,
   "id": "3542b7e5",
   "metadata": {},
   "outputs": [],
   "source": [
    "blocks_uni = blocks_size_5['UNIUSDT']\n",
    "analyser = RandomnessAnalysis(blocks_df=blocks_uni, s=s)\n",
    "frequencies_df = analyser.compute_blocks_frequencies()\n",
    "plot_block_frequencies(frequencies_df)"
   ]
  },
  {
   "cell_type": "markdown",
   "id": "1bb91fb6",
   "metadata": {},
   "source": [
    "### Aggregation level 20"
   ]
  },
  {
   "cell_type": "code",
   "execution_count": null,
   "id": "474a28cc",
   "metadata": {},
   "outputs": [],
   "source": [
    "data_manager = DataManager(asset_pairs, symbols, year=year, month=month, aggregation_level=20)"
   ]
  },
  {
   "cell_type": "markdown",
   "id": "162101c1",
   "metadata": {},
   "source": [
    "#### Non overlapping"
   ]
  },
  {
   "cell_type": "code",
   "execution_count": null,
   "id": "744b8986",
   "metadata": {},
   "outputs": [],
   "source": [
    "blocks_size_2 = data_manager.block_constructor(block_size=2, overlapping=False)\n",
    "blocks_size_3 = data_manager.block_constructor(block_size=3, overlapping=False)\n",
    "blocks_size_5 = data_manager.block_constructor(block_size=5, overlapping=False)"
   ]
  },
  {
   "cell_type": "markdown",
   "id": "2468f475",
   "metadata": {},
   "source": [
    "##### Block size 2"
   ]
  },
  {
   "cell_type": "code",
   "execution_count": null,
   "id": "139f5c2b",
   "metadata": {},
   "outputs": [],
   "source": [
    "blocks_btc = blocks_size_2['BTCUSDT']\n",
    "analyser = RandomnessAnalysis(blocks_df=blocks_btc, s=s)\n",
    "frequencies_df = analyser.compute_blocks_frequencies()\n",
    "plot_block_frequencies(frequencies_df)"
   ]
  },
  {
   "cell_type": "code",
   "execution_count": null,
   "id": "3f2e4b1e",
   "metadata": {},
   "outputs": [],
   "source": [
    "test_entropy = analyser.entropy_bias_test()\n",
    "test_entropy"
   ]
  },
  {
   "cell_type": "code",
   "execution_count": null,
   "id": "2e954c6f",
   "metadata": {},
   "outputs": [],
   "source": [
    "blocks_eth = blocks_size_2['ETHUSDT']\n",
    "analyser = RandomnessAnalysis(blocks_df=blocks_eth, s=s)\n",
    "frequencies_df = analyser.compute_blocks_frequencies()\n",
    "plot_block_frequencies(frequencies_df)"
   ]
  },
  {
   "cell_type": "code",
   "execution_count": null,
   "id": "8a54aeec",
   "metadata": {},
   "outputs": [],
   "source": [
    "test_entropy = analyser.entropy_bias_test()\n",
    "test_entropy"
   ]
  },
  {
   "cell_type": "code",
   "execution_count": null,
   "id": "04840863",
   "metadata": {},
   "outputs": [],
   "source": [
    "blocks_uni = blocks_size_2['UNIUSDT']\n",
    "analyser = RandomnessAnalysis(blocks_df=blocks_uni, s=s)\n",
    "frequencies_df = analyser.compute_blocks_frequencies()\n",
    "plot_block_frequencies(frequencies_df)"
   ]
  },
  {
   "cell_type": "code",
   "execution_count": null,
   "id": "ef145f52",
   "metadata": {},
   "outputs": [],
   "source": [
    "test_entropy = analyser.entropy_bias_test()\n",
    "test_entropy"
   ]
  },
  {
   "cell_type": "markdown",
   "id": "3edee481",
   "metadata": {},
   "source": [
    "##### Block size 3"
   ]
  },
  {
   "cell_type": "code",
   "execution_count": null,
   "id": "664848b2",
   "metadata": {},
   "outputs": [],
   "source": [
    "blocks_btc = blocks_size_3['BTCUSDT']\n",
    "analyser = RandomnessAnalysis(blocks_df=blocks_btc, s=s)\n",
    "frequencies_df = analyser.compute_blocks_frequencies()\n",
    "plot_block_frequencies(frequencies_df)"
   ]
  },
  {
   "cell_type": "code",
   "execution_count": null,
   "id": "11633df5",
   "metadata": {},
   "outputs": [],
   "source": [
    "blocks_eth = blocks_size_3['ETHUSDT']\n",
    "analyser = RandomnessAnalysis(blocks_df=blocks_eth, s=s)\n",
    "frequencies_df = analyser.compute_blocks_frequencies()\n",
    "plot_block_frequencies(frequencies_df)"
   ]
  },
  {
   "cell_type": "code",
   "execution_count": null,
   "id": "89a136b5",
   "metadata": {},
   "outputs": [],
   "source": [
    "blocks_uni = blocks_size_3['UNIUSDT']\n",
    "analyser = RandomnessAnalysis(blocks_df=blocks_uni, s=s)\n",
    "frequencies_df = analyser.compute_blocks_frequencies()\n",
    "plot_block_frequencies(frequencies_df)"
   ]
  },
  {
   "cell_type": "markdown",
   "id": "3fa03a02",
   "metadata": {},
   "source": [
    "##### Block size 5"
   ]
  },
  {
   "cell_type": "code",
   "execution_count": null,
   "id": "85676c46",
   "metadata": {},
   "outputs": [],
   "source": [
    "blocks_btc = blocks_size_5['BTCUSDT']\n",
    "analyser = RandomnessAnalysis(blocks_df=blocks_btc, s=s)\n",
    "frequencies_df = analyser.compute_blocks_frequencies()\n",
    "plot_block_frequencies(frequencies_df)"
   ]
  },
  {
   "cell_type": "code",
   "execution_count": null,
   "id": "3a3400f8",
   "metadata": {},
   "outputs": [],
   "source": [
    "blocks_eth = blocks_size_5['ETHUSDT']\n",
    "analyser = RandomnessAnalysis(blocks_df=blocks_eth, s=s)\n",
    "frequencies_df = analyser.compute_blocks_frequencies()\n",
    "plot_block_frequencies(frequencies_df)"
   ]
  },
  {
   "cell_type": "code",
   "execution_count": null,
   "id": "f43925a6",
   "metadata": {},
   "outputs": [],
   "source": [
    "blocks_uni = blocks_size_5['UNIUSDT']\n",
    "analyser = RandomnessAnalysis(blocks_df=blocks_uni, s=s)\n",
    "frequencies_df = analyser.compute_blocks_frequencies()\n",
    "plot_block_frequencies(frequencies_df)"
   ]
  },
  {
   "cell_type": "markdown",
   "id": "5022db7e",
   "metadata": {},
   "source": [
    "#### Overlapping"
   ]
  },
  {
   "cell_type": "code",
   "execution_count": null,
   "id": "9aa5fd05",
   "metadata": {},
   "outputs": [],
   "source": [
    "blocks_size_2 = data_manager.block_constructor(block_size=2, overlapping=True)\n",
    "blocks_size_3 = data_manager.block_constructor(block_size=3, overlapping=True)\n",
    "blocks_size_5 = data_manager.block_constructor(block_size=5, overlapping=True)"
   ]
  },
  {
   "cell_type": "markdown",
   "id": "d4e07cec",
   "metadata": {},
   "source": [
    "##### Block size 2"
   ]
  },
  {
   "cell_type": "code",
   "execution_count": null,
   "id": "366d6bd5",
   "metadata": {},
   "outputs": [],
   "source": [
    "blocks_btc = blocks_size_2['BTCUSDT']\n",
    "analyser = RandomnessAnalysis(blocks_df=blocks_btc, s=s)\n",
    "frequencies_df = analyser.compute_blocks_frequencies()\n",
    "plot_block_frequencies(frequencies_df)"
   ]
  },
  {
   "cell_type": "code",
   "execution_count": null,
   "id": "099d8034",
   "metadata": {},
   "outputs": [],
   "source": [
    "test_divergence = analyser.KL_divergence_test()\n",
    "test_divergence"
   ]
  },
  {
   "cell_type": "code",
   "execution_count": null,
   "id": "0a598f46",
   "metadata": {},
   "outputs": [],
   "source": [
    "blocks_eth = blocks_size_2['ETHUSDT']\n",
    "analyser = RandomnessAnalysis(blocks_df=blocks_eth, s=s)\n",
    "frequencies_df = analyser.compute_blocks_frequencies()\n",
    "plot_block_frequencies(frequencies_df)"
   ]
  },
  {
   "cell_type": "code",
   "execution_count": null,
   "id": "87ce7cc5",
   "metadata": {},
   "outputs": [],
   "source": [
    "test_divergence = analyser.KL_divergence_test()\n",
    "test_divergence"
   ]
  },
  {
   "cell_type": "code",
   "execution_count": null,
   "id": "dac8f261",
   "metadata": {},
   "outputs": [],
   "source": [
    "blocks_uni = blocks_size_2['UNIUSDT']\n",
    "analyser = RandomnessAnalysis(blocks_df=blocks_uni, s=s)\n",
    "frequencies_df = analyser.compute_blocks_frequencies()\n",
    "plot_block_frequencies(frequencies_df)"
   ]
  },
  {
   "cell_type": "code",
   "execution_count": null,
   "id": "6b2e65db",
   "metadata": {},
   "outputs": [],
   "source": [
    "test_divergence = analyser.KL_divergence_test()\n",
    "test_divergence"
   ]
  },
  {
   "cell_type": "markdown",
   "id": "7052fbe8",
   "metadata": {},
   "source": [
    "##### Block size 3"
   ]
  },
  {
   "cell_type": "code",
   "execution_count": null,
   "id": "d71f8740",
   "metadata": {},
   "outputs": [],
   "source": [
    "blocks_btc = blocks_size_3['BTCUSDT']\n",
    "analyser = RandomnessAnalysis(blocks_df=blocks_btc, s=s)\n",
    "frequencies_df = analyser.compute_blocks_frequencies()\n",
    "plot_block_frequencies(frequencies_df)"
   ]
  },
  {
   "cell_type": "code",
   "execution_count": null,
   "id": "c1d17a11",
   "metadata": {},
   "outputs": [],
   "source": [
    "blocks_eth = blocks_size_3['ETHUSDT']\n",
    "analyser = RandomnessAnalysis(blocks_df=blocks_eth, s=s)\n",
    "frequencies_df = analyser.compute_blocks_frequencies()\n",
    "plot_block_frequencies(frequencies_df)"
   ]
  },
  {
   "cell_type": "code",
   "execution_count": null,
   "id": "d28391b4",
   "metadata": {},
   "outputs": [],
   "source": [
    "blocks_uni = blocks_size_3['UNIUSDT']\n",
    "analyser = RandomnessAnalysis(blocks_df=blocks_uni, s=s)\n",
    "frequencies_df = analyser.compute_blocks_frequencies()\n",
    "plot_block_frequencies(frequencies_df)"
   ]
  },
  {
   "cell_type": "markdown",
   "id": "763342d5",
   "metadata": {},
   "source": [
    "##### Block size 5"
   ]
  },
  {
   "cell_type": "code",
   "execution_count": null,
   "id": "bd43dd8a",
   "metadata": {},
   "outputs": [],
   "source": [
    "blocks_btc = blocks_size_5['BTCUSDT']\n",
    "analyser = RandomnessAnalysis(blocks_df=blocks_btc, s=s)\n",
    "frequencies_df = analyser.compute_blocks_frequencies()\n",
    "plot_block_frequencies(frequencies_df)"
   ]
  },
  {
   "cell_type": "code",
   "execution_count": null,
   "id": "5a67d065",
   "metadata": {},
   "outputs": [],
   "source": [
    "blocks_eth = blocks_size_5['ETHUSDT']\n",
    "analyser = RandomnessAnalysis(blocks_df=blocks_eth, s=s)\n",
    "frequencies_df = analyser.compute_blocks_frequencies()\n",
    "plot_block_frequencies(frequencies_df)"
   ]
  },
  {
   "cell_type": "code",
   "execution_count": null,
   "id": "6f26d4fe",
   "metadata": {},
   "outputs": [],
   "source": [
    "blocks_uni = blocks_size_5['UNIUSDT']\n",
    "analyser = RandomnessAnalysis(blocks_df=blocks_uni, s=s)\n",
    "frequencies_df = analyser.compute_blocks_frequencies()\n",
    "plot_block_frequencies(frequencies_df)"
   ]
  },
  {
   "cell_type": "markdown",
   "id": "b9fae856",
   "metadata": {},
   "source": [
    "### Aggregation level 50"
   ]
  },
  {
   "cell_type": "code",
   "execution_count": null,
   "id": "37307101",
   "metadata": {},
   "outputs": [],
   "source": [
    "data_manager = DataManager(asset_pairs, symbols, year=year, month=month, aggregation_level=50)"
   ]
  },
  {
   "cell_type": "markdown",
   "id": "74a14f05",
   "metadata": {},
   "source": [
    "#### Non overlapping"
   ]
  },
  {
   "cell_type": "code",
   "execution_count": null,
   "id": "efe3e3a4",
   "metadata": {},
   "outputs": [],
   "source": [
    "blocks_size_2 = data_manager.block_constructor(block_size=2, overlapping=False)\n",
    "blocks_size_3 = data_manager.block_constructor(block_size=3, overlapping=False)\n",
    "blocks_size_5 = data_manager.block_constructor(block_size=5, overlapping=False)"
   ]
  },
  {
   "cell_type": "markdown",
   "id": "b008c7a5",
   "metadata": {},
   "source": [
    "##### Block size 2"
   ]
  },
  {
   "cell_type": "code",
   "execution_count": null,
   "id": "8ed05c82",
   "metadata": {},
   "outputs": [],
   "source": [
    "blocks_btc = blocks_size_2['BTCUSDT']\n",
    "analyser = RandomnessAnalysis(blocks_df=blocks_btc, s=s)\n",
    "frequencies_df = analyser.compute_blocks_frequencies()\n",
    "plot_block_frequencies(frequencies_df)"
   ]
  },
  {
   "cell_type": "code",
   "execution_count": null,
   "id": "9e40d132",
   "metadata": {},
   "outputs": [],
   "source": [
    "test_entropy = analyser.entropy_bias_test()\n",
    "test_entropy"
   ]
  },
  {
   "cell_type": "code",
   "execution_count": null,
   "id": "b690c5d6",
   "metadata": {},
   "outputs": [],
   "source": [
    "blocks_eth = blocks_size_2['ETHUSDT']\n",
    "analyser = RandomnessAnalysis(blocks_df=blocks_eth, s=s)\n",
    "frequencies_df = analyser.compute_blocks_frequencies()\n",
    "plot_block_frequencies(frequencies_df)"
   ]
  },
  {
   "cell_type": "code",
   "execution_count": null,
   "id": "618a82cd",
   "metadata": {},
   "outputs": [],
   "source": [
    "test_entropy = analyser.entropy_bias_test()\n",
    "test_entropy"
   ]
  },
  {
   "cell_type": "code",
   "execution_count": null,
   "id": "59ae48d7",
   "metadata": {},
   "outputs": [],
   "source": [
    "blocks_uni = blocks_size_2['UNIUSDT']\n",
    "analyser = RandomnessAnalysis(blocks_df=blocks_uni, s=s)\n",
    "frequencies_df = analyser.compute_blocks_frequencies()\n",
    "plot_block_frequencies(frequencies_df)"
   ]
  },
  {
   "cell_type": "code",
   "execution_count": null,
   "id": "4dac1897",
   "metadata": {},
   "outputs": [],
   "source": [
    "test_entropy = analyser.entropy_bias_test()\n",
    "test_entropy"
   ]
  },
  {
   "cell_type": "markdown",
   "id": "0eb3b3ff",
   "metadata": {},
   "source": [
    "##### Block size 3"
   ]
  },
  {
   "cell_type": "code",
   "execution_count": null,
   "id": "6119f1b4",
   "metadata": {},
   "outputs": [],
   "source": [
    "blocks_btc = blocks_size_3['BTCUSDT']\n",
    "analyser = RandomnessAnalysis(blocks_df=blocks_btc, s=s)\n",
    "frequencies_df = analyser.compute_blocks_frequencies()\n",
    "plot_block_frequencies(frequencies_df)"
   ]
  },
  {
   "cell_type": "code",
   "execution_count": null,
   "id": "0d8bcf81",
   "metadata": {},
   "outputs": [],
   "source": [
    "blocks_eth = blocks_size_3['ETHUSDT']\n",
    "analyser = RandomnessAnalysis(blocks_df=blocks_eth, s=s)\n",
    "frequencies_df = analyser.compute_blocks_frequencies()\n",
    "plot_block_frequencies(frequencies_df)"
   ]
  },
  {
   "cell_type": "code",
   "execution_count": null,
   "id": "4b3e5ba4",
   "metadata": {},
   "outputs": [],
   "source": [
    "blocks_uni = blocks_size_3['UNIUSDT']\n",
    "analyser = RandomnessAnalysis(blocks_df=blocks_uni, s=s)\n",
    "frequencies_df = analyser.compute_blocks_frequencies()\n",
    "plot_block_frequencies(frequencies_df)"
   ]
  },
  {
   "cell_type": "markdown",
   "id": "ef1d992a",
   "metadata": {},
   "source": [
    "##### Block size 5"
   ]
  },
  {
   "cell_type": "code",
   "execution_count": null,
   "id": "d7831f5b",
   "metadata": {},
   "outputs": [],
   "source": [
    "blocks_btc = blocks_size_5['BTCUSDT']\n",
    "analyser = RandomnessAnalysis(blocks_df=blocks_btc, s=s)\n",
    "frequencies_df = analyser.compute_blocks_frequencies()\n",
    "plot_block_frequencies(frequencies_df)"
   ]
  },
  {
   "cell_type": "code",
   "execution_count": null,
   "id": "68690d3d",
   "metadata": {},
   "outputs": [],
   "source": [
    "blocks_eth = blocks_size_5['ETHUSDT']\n",
    "analyser = RandomnessAnalysis(blocks_df=blocks_eth, s=s)\n",
    "frequencies_df = analyser.compute_blocks_frequencies()\n",
    "plot_block_frequencies(frequencies_df)"
   ]
  },
  {
   "cell_type": "code",
   "execution_count": null,
   "id": "cdd21e8a",
   "metadata": {},
   "outputs": [],
   "source": [
    "blocks_uni = blocks_size_5['UNIUSDT']\n",
    "analyser = RandomnessAnalysis(blocks_df=blocks_uni, s=s)\n",
    "frequencies_df = analyser.compute_blocks_frequencies()\n",
    "plot_block_frequencies(frequencies_df)"
   ]
  },
  {
   "cell_type": "markdown",
   "id": "03c493d6",
   "metadata": {},
   "source": [
    "#### Overlapping"
   ]
  },
  {
   "cell_type": "code",
   "execution_count": null,
   "id": "3e85a72f",
   "metadata": {},
   "outputs": [],
   "source": [
    "blocks_size_2 = data_manager.block_constructor(block_size=2, overlapping=False)\n",
    "blocks_size_3 = data_manager.block_constructor(block_size=3, overlapping=False)\n",
    "blocks_size_5 = data_manager.block_constructor(block_size=5, overlapping=False)"
   ]
  },
  {
   "cell_type": "markdown",
   "id": "82e47bd8",
   "metadata": {},
   "source": [
    "##### Block size 2"
   ]
  },
  {
   "cell_type": "code",
   "execution_count": null,
   "id": "a068d6bc",
   "metadata": {},
   "outputs": [],
   "source": [
    "blocks_btc = blocks_size_2['BTCUSDT']\n",
    "analyser = RandomnessAnalysis(blocks_df=blocks_btc, s=s)\n",
    "frequencies_df = analyser.compute_blocks_frequencies()\n",
    "plot_block_frequencies(frequencies_df)"
   ]
  },
  {
   "cell_type": "code",
   "execution_count": null,
   "id": "f6c5a156",
   "metadata": {},
   "outputs": [],
   "source": [
    "test_divergence = analyser.KL_divergence_test()\n",
    "test_divergence"
   ]
  },
  {
   "cell_type": "code",
   "execution_count": null,
   "id": "66555388",
   "metadata": {},
   "outputs": [],
   "source": [
    "blocks_eth = blocks_size_2['ETHUSDT']\n",
    "analyser = RandomnessAnalysis(blocks_df=blocks_eth, s=s)\n",
    "frequencies_df = analyser.compute_blocks_frequencies()\n",
    "plot_block_frequencies(frequencies_df)"
   ]
  },
  {
   "cell_type": "code",
   "execution_count": null,
   "id": "0c222310",
   "metadata": {},
   "outputs": [],
   "source": [
    "test_divergence = analyser.KL_divergence_test()\n",
    "test_divergence"
   ]
  },
  {
   "cell_type": "code",
   "execution_count": null,
   "id": "1783cb41",
   "metadata": {},
   "outputs": [],
   "source": [
    "blocks_uni = blocks_size_2['UNIUSDT']\n",
    "analyser = RandomnessAnalysis(blocks_df=blocks_uni, s=s)\n",
    "frequencies_df = analyser.compute_blocks_frequencies()\n",
    "plot_block_frequencies(frequencies_df)"
   ]
  },
  {
   "cell_type": "code",
   "execution_count": null,
   "id": "fbc18b16",
   "metadata": {},
   "outputs": [],
   "source": [
    "test_divergence = analyser.KL_divergence_test()\n",
    "test_divergence"
   ]
  },
  {
   "cell_type": "markdown",
   "id": "19dc70ae",
   "metadata": {},
   "source": [
    "##### Block size 3"
   ]
  },
  {
   "cell_type": "code",
   "execution_count": null,
   "id": "3e69a85a",
   "metadata": {},
   "outputs": [],
   "source": [
    "blocks_btc = blocks_size_3['BTCUSDT']\n",
    "analyser = RandomnessAnalysis(blocks_df=blocks_btc, s=s)\n",
    "frequencies_df = analyser.compute_blocks_frequencies()\n",
    "plot_block_frequencies(frequencies_df)"
   ]
  },
  {
   "cell_type": "code",
   "execution_count": null,
   "id": "3f7f9696",
   "metadata": {},
   "outputs": [],
   "source": [
    "blocks_eth = blocks_size_3['ETHUSDT']\n",
    "analyser = RandomnessAnalysis(blocks_df=blocks_eth, s=s)\n",
    "frequencies_df = analyser.compute_blocks_frequencies()\n",
    "plot_block_frequencies(frequencies_df)"
   ]
  },
  {
   "cell_type": "code",
   "execution_count": null,
   "id": "557d5d59",
   "metadata": {},
   "outputs": [],
   "source": [
    "blocks_uni = blocks_size_3['UNIUSDT']\n",
    "analyser = RandomnessAnalysis(blocks_df=blocks_uni, s=s)\n",
    "frequencies_df = analyser.compute_blocks_frequencies()\n",
    "plot_block_frequencies(frequencies_df)"
   ]
  },
  {
   "cell_type": "markdown",
   "id": "24201e89",
   "metadata": {},
   "source": [
    "##### Block size 5"
   ]
  },
  {
   "cell_type": "code",
   "execution_count": null,
   "id": "6e8259de",
   "metadata": {},
   "outputs": [],
   "source": [
    "blocks_btc = blocks_size_5['BTCUSDT']\n",
    "analyser = RandomnessAnalysis(blocks_df=blocks_btc, s=s)\n",
    "frequencies_df = analyser.compute_blocks_frequencies()\n",
    "plot_block_frequencies(frequencies_df)"
   ]
  },
  {
   "cell_type": "code",
   "execution_count": null,
   "id": "522a184b",
   "metadata": {},
   "outputs": [],
   "source": [
    "blocks_eth = blocks_size_5['ETHUSDT']\n",
    "analyser = RandomnessAnalysis(blocks_df=blocks_eth, s=s)\n",
    "frequencies_df = analyser.compute_blocks_frequencies()\n",
    "plot_block_frequencies(frequencies_df)"
   ]
  },
  {
   "cell_type": "code",
   "execution_count": null,
   "id": "20ba633e",
   "metadata": {},
   "outputs": [],
   "source": [
    "blocks_uni = blocks_size_5['UNIUSDT']\n",
    "analyser = RandomnessAnalysis(blocks_df=blocks_uni, s=s)\n",
    "frequencies_df = analyser.compute_blocks_frequencies()\n",
    "plot_block_frequencies(frequencies_df)"
   ]
  },
  {
   "cell_type": "markdown",
   "id": "f55c298f",
   "metadata": {},
   "source": [
    "### MultiTester BTC"
   ]
  },
  {
   "cell_type": "code",
   "execution_count": null,
   "id": "26ac4277",
   "metadata": {},
   "outputs": [],
   "source": [
    "multi_tester = MultiTester(asset='BTCUSDT',symbols=symbols,overlapping=False)\n",
    "df_test_block = multi_tester.test_by_block_size(test='Entropy Bias',\n",
    "                                    max_block_size=15,\n",
    "                                    year=year,\n",
    "                                    month=month,\n",
    "                                    aggregation_level=5)\n",
    "df_test_block"
   ]
  },
  {
   "cell_type": "code",
   "execution_count": null,
   "id": "255d8642",
   "metadata": {},
   "outputs": [],
   "source": [
    "plot_test(x_values=df_test_block.index, \n",
    "          y1_values=df_test_block['Test statistic'].values,\n",
    "          y2_values=df_test_block['Quantile 99'].values,\n",
    "          test='Entropy Bias',\n",
    "          x_label='Block size',\n",
    "          pair='BTCUSDT')"
   ]
  },
  {
   "cell_type": "code",
   "execution_count": null,
   "id": "b59d935e",
   "metadata": {},
   "outputs": [],
   "source": [
    "multi_tester = MultiTester(asset='BTCUSDT',symbols=symbols,overlapping=True)\n",
    "df_test_agg = multi_tester.test_by_aggregation_level(test='NP Statistic',\n",
    "                                           max_aggregation_level=50,\n",
    "                                           year=year,\n",
    "                                           month=month,\n",
    "                                           block_size=2)\n",
    "df_test_agg"
   ]
  },
  {
   "cell_type": "code",
   "execution_count": null,
   "id": "bef5c80f",
   "metadata": {},
   "outputs": [],
   "source": [
    "plot_test(x_values=df_test_agg.index, \n",
    "          y1_values=df_test_agg['Test statistic'].values,\n",
    "          y2_values=df_test_agg['Quantile 99'].values,\n",
    "          test='NP Statistic',\n",
    "          x_label='Aggregation level',\n",
    "          pair='BTCUSDT')"
   ]
  },
  {
   "cell_type": "code",
   "execution_count": null,
   "id": "6cb9e636",
   "metadata": {},
   "outputs": [],
   "source": [
    "btc_multi_tester = MultiTester(asset='BTCUSDT',symbols=symbols,overlapping=False)\n",
    "btc_multi_tester.plot_3D_test_result(asset='BTCUSDT',\n",
    "                                     test='Entropy Bias',\n",
    "                                     max_block_size=15,\n",
    "                                     year=year,month=month,\n",
    "                                     max_aggregation_level=50)"
   ]
  },
  {
   "cell_type": "markdown",
   "id": "a26c256d",
   "metadata": {},
   "source": [
    "### MultiTester ETH"
   ]
  },
  {
   "cell_type": "code",
   "execution_count": null,
   "id": "9d4f98b6",
   "metadata": {},
   "outputs": [],
   "source": [
    "multi_tester = MultiTester(asset='ETHUSDT',symbols=symbols,overlapping=False)\n",
    "df_test_block = multi_tester.test_by_block_size(test='Entropy Bias',\n",
    "                                    max_block_size=15,\n",
    "                                    year=year,\n",
    "                                    month=month,\n",
    "                                    aggregation_level=5)\n",
    "df_test_block"
   ]
  },
  {
   "cell_type": "code",
   "execution_count": null,
   "id": "9d374b53",
   "metadata": {},
   "outputs": [],
   "source": [
    "plot_test(x_values=df_test_block.index, \n",
    "          y1_values=df_test_block['Test statistic'].values,\n",
    "          y2_values=df_test_block['Quantile 99'].values,\n",
    "          test='Entropy Bias',\n",
    "          x_label='Block size',\n",
    "          pair='BTCUSDT')"
   ]
  },
  {
   "cell_type": "code",
   "execution_count": null,
   "id": "ae848062",
   "metadata": {},
   "outputs": [],
   "source": [
    "multi_tester = MultiTester(asset='BTCUSDT',symbols=symbols,overlapping=True)\n",
    "df_test_agg = multi_tester.test_by_aggregation_level(test='NP Statistic',\n",
    "                                           max_aggregation_level=50,\n",
    "                                           year=year,\n",
    "                                           month=month,\n",
    "                                           block_size=2)\n",
    "df_test_agg"
   ]
  },
  {
   "cell_type": "code",
   "execution_count": null,
   "id": "a490296c",
   "metadata": {},
   "outputs": [],
   "source": [
    "plot_test(x_values=df_test_agg.index, \n",
    "          y1_values=df_test_agg['Test statistic'].values,\n",
    "          y2_values=df_test_agg['Quantile 99'].values,\n",
    "          test='NP Statistic',\n",
    "          x_label='Aggregation level',\n",
    "          pair='BTCUSDT')"
   ]
  },
  {
   "cell_type": "markdown",
   "id": "d6c40282",
   "metadata": {},
   "source": [
    "### MultiTester UNI"
   ]
  },
  {
   "cell_type": "code",
   "execution_count": null,
   "id": "e47945ff",
   "metadata": {},
   "outputs": [],
   "source": [
    "multi_tester = MultiTester(asset='UNIUSDT',symbols=symbols,overlapping=False)\n",
    "df_test_block = multi_tester.test_by_block_size(test='Entropy Bias',\n",
    "                                    max_block_size=15,\n",
    "                                    year=year,\n",
    "                                    month=month,\n",
    "                                    aggregation_level=5)\n",
    "df_test_block"
   ]
  },
  {
   "cell_type": "code",
   "execution_count": null,
   "id": "5b6caaf0",
   "metadata": {},
   "outputs": [],
   "source": [
    "plot_test(x_values=df_test_block.index, \n",
    "          y1_values=df_test_block['Test statistic'].values,\n",
    "          y2_values=df_test_block['Quantile 99'].values,\n",
    "          test='Entropy Bias',\n",
    "          x_label='Block size',\n",
    "          pair='BTCUSDT')"
   ]
  },
  {
   "cell_type": "code",
   "execution_count": null,
   "id": "35c89f78",
   "metadata": {},
   "outputs": [],
   "source": [
    "multi_tester = MultiTester(asset='BTCUSDT',symbols=symbols,overlapping=True)\n",
    "df_test_agg = multi_tester.test_by_aggregation_level(test='NP Statistic',\n",
    "                                           max_aggregation_level=50,\n",
    "                                           year=year,\n",
    "                                           month=month,\n",
    "                                           block_size=2)\n",
    "df_test_agg"
   ]
  },
  {
   "cell_type": "code",
   "execution_count": null,
   "id": "d223b2b9",
   "metadata": {},
   "outputs": [],
   "source": [
    "plot_test(x_values=df_test_agg.index, \n",
    "          y1_values=df_test_agg['Test statistic'].values,\n",
    "          y2_values=df_test_agg['Quantile 99'].values,\n",
    "          test='NP Statistic',\n",
    "          x_label='Aggregation level',\n",
    "          pair='BTCUSDT')"
   ]
  },
  {
   "cell_type": "markdown",
   "id": "aa05e27f",
   "metadata": {},
   "source": [
    "### Fraction of predictable days"
   ]
  },
  {
   "cell_type": "code",
   "execution_count": null,
   "id": "6c13d2ff",
   "metadata": {},
   "outputs": [],
   "source": [
    "asset_pairs = ['BTCUSDT','ETHUSDT','SOLUSDT',\n",
    "               'BNBUSDT', 'AVAXUSDT', 'UNIUSDT',\n",
    "               'LINKUSDT', 'AXSUSDT', 'RENDERUSDT']"
   ]
  },
  {
   "cell_type": "code",
   "execution_count": null,
   "id": "35a2d53b",
   "metadata": {},
   "outputs": [],
   "source": [
    "intervals_analysis(pairs=asset_pairs,\n",
    "                   symbols=symbols,\n",
    "                   max_aggregation_level=50,\n",
    "                   year=year,\n",
    "                   month=[month])"
   ]
  },
  {
   "cell_type": "code",
   "execution_count": null,
   "id": "ae38fe16",
   "metadata": {},
   "outputs": [],
   "source": [
    "intervals_analysis(pairs=asset_pairs,\n",
    "                   symbols=symbols,\n",
    "                   max_aggregation_level=50,\n",
    "                   year=year,\n",
    "                   month=[month],\n",
    "                   test = 'NP Statistic')"
   ]
  },
  {
   "cell_type": "code",
   "execution_count": null,
   "id": "ad6c5c10",
   "metadata": {},
   "outputs": [],
   "source": [
    "historical_collector = HistoricalDataCollector(pairs=asset_pairs, year=2025, month=2)\n",
    "historical_collector.collect()"
   ]
  },
  {
   "cell_type": "markdown",
   "id": "ee19d82c",
   "metadata": {},
   "source": [
    "### Assets properties"
   ]
  },
  {
   "cell_type": "code",
   "execution_count": null,
   "id": "bd73508a",
   "metadata": {},
   "outputs": [],
   "source": [
    "data_manager = DataManager(asset_pairs, symbols, year=year, month=month, aggregation_level=1)\n",
    "df_prop = get_assets_properties(asset_pairs, s=2, year=year, month=month)\n",
    "df_prop"
   ]
  }
 ],
 "metadata": {
  "kernelspec": {
   "display_name": "Python 3",
   "language": "python",
   "name": "python3"
  },
  "language_info": {
   "codemirror_mode": {
    "name": "ipython",
    "version": 3
   },
   "file_extension": ".py",
   "mimetype": "text/x-python",
   "name": "python",
   "nbconvert_exporter": "python",
   "pygments_lexer": "ipython3",
   "version": "3.12.0"
  }
 },
 "nbformat": 4,
 "nbformat_minor": 5
}
