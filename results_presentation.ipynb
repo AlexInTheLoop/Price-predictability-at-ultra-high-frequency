{
 "cells": [
  {
   "cell_type": "markdown",
   "id": "fe3639f7",
   "metadata": {},
   "source": [
    "Moduls importations"
   ]
  },
  {
   "cell_type": "code",
   "execution_count": 2,
   "id": "b14c54d9",
   "metadata": {},
   "outputs": [],
   "source": [
    "import numpy as np\n",
    "import pandas as pd\n",
    "from data.DataManager import DataManager\n",
    "from data.DataGenerator import DataGenerator\n",
    "from data.DataCollectors import HistoricalDataCollector, RealTimeDataCollector\n",
    "from main.RandomnessAnalysis import RandomnessAnalysis\n",
    "from main.PredictableDayAnalysis import PredictableDayAnalysis\n",
    "from utils.Analysis import get_assets_properties, localization_predictable_intervals\n",
    "from utils.MultiTester import MultiTester\n",
    "from utils.VisualizationTools import plot_block_frequencies\n",
    "from utils.Analysis import intervals_analysis\n",
    "from utils.VisualizationTools import plot_test"
   ]
  },
  {
   "cell_type": "markdown",
   "id": "4baaa5c6",
   "metadata": {},
   "source": [
    "To import the data, one must first declare the pairs and the symbols associated to the return intervals that will be studied. The symbols variable must be a dictionary with symbols as keys and lists of two tuples as values. The first tuple corresponds to the interval associated with the key and the second specifies if the bounds of the interval are included (True) or not (False)."
   ]
  },
  {
   "cell_type": "code",
   "execution_count": 3,
   "id": "feefa29e",
   "metadata": {},
   "outputs": [],
   "source": [
    "asset_pairs = ['BTCUSDT','ETHUSDT','SOLUSDT']\n",
    "symbols = {\n",
    "            0: [(-np.inf, 0)\n",
    "                , (False, False)],\n",
    "            1: [(0, np.inf), (False, False)]\n",
    "        }"
   ]
  },
  {
   "cell_type": "markdown",
   "id": "4ee208f9",
   "metadata": {},
   "source": [
    "Then to start collecting data, one has the choice between:\n",
    "- using the class `RealTimeDataCollector()` to collect them in real time for a certain duration in hours\n",
    "- using the class `HistoricalDataCollector()` to collect them for a given year and month\n",
    "\n",
    "In order to get a great deal of data quickly, the second option is the best."
   ]
  },
  {
   "cell_type": "code",
   "execution_count": 3,
   "id": "11d0eda9",
   "metadata": {},
   "outputs": [
    {
     "data": {
      "text/plain": [
       "<coroutine object RealTimeDataCollector.run at 0x0000022F12905340>"
      ]
     },
     "execution_count": 3,
     "metadata": {},
     "output_type": "execute_result"
    }
   ],
   "source": [
    "real_time_collection = RealTimeDataCollector(pairs=asset_pairs,\n",
    "                                             duration_hours=1,\n",
    "                                             update_interval=30)\n",
    "real_time_collection.run()"
   ]
  },
  {
   "cell_type": "markdown",
   "id": "34bacad1",
   "metadata": {},
   "source": [
    "For every asset pair asked, the collector will download the zip file of the historical trades for the year and month given. Then it will unzip it, save it as csv file and delete the original zip file. If the csv file for a certain pair, year and month is already present in the folder data/raw_data, the method `collect()` will notice it and won't download it again to save some execution time."
   ]
  },
  {
   "cell_type": "code",
   "execution_count": 3,
   "id": "9696e80f",
   "metadata": {},
   "outputs": [
    {
     "name": "stdout",
     "output_type": "stream",
     "text": [
      "[SYSTEM] Processing BTCUSDT...\n",
      "[SYSTEM] Downloading BTCUSDT-trades-2024-11-01.zip from https://data.binance.vision/data/spot/daily/trades/BTCUSDT/BTCUSDT-trades-2024-11-01.zip ...\n",
      "[SYSTEM] File downloaded: BTCUSDT-trades-2024-11-01.zip\n",
      "[SYSTEM] Extracting .\\BTCUSDT-trades-2024-11-01.zip ...\n",
      "[SYSTEM] Extraction finished.\n",
      "[SYSTEM] ZIP file deleted: BTCUSDT-trades-2024-11-01.zip\n",
      "[SYSTEM] Processing ETHUSDT...\n",
      "[SYSTEM] Downloading ETHUSDT-trades-2024-11-01.zip from https://data.binance.vision/data/spot/daily/trades/ETHUSDT/ETHUSDT-trades-2024-11-01.zip ...\n",
      "[SYSTEM] File downloaded: ETHUSDT-trades-2024-11-01.zip\n",
      "[SYSTEM] Extracting .\\ETHUSDT-trades-2024-11-01.zip ...\n",
      "[SYSTEM] Extraction finished.\n",
      "[SYSTEM] ZIP file deleted: ETHUSDT-trades-2024-11-01.zip\n",
      "[SYSTEM] Processing SOLUSDT...\n",
      "[SYSTEM] Downloading SOLUSDT-trades-2024-11-01.zip from https://data.binance.vision/data/spot/daily/trades/SOLUSDT/SOLUSDT-trades-2024-11-01.zip ...\n",
      "[SYSTEM] File downloaded: SOLUSDT-trades-2024-11-01.zip\n",
      "[SYSTEM] Extracting .\\SOLUSDT-trades-2024-11-01.zip ...\n",
      "[SYSTEM] Extraction finished.\n",
      "[SYSTEM] ZIP file deleted: SOLUSDT-trades-2024-11-01.zip\n"
     ]
    }
   ],
   "source": [
    "historical_collector = HistoricalDataCollector(pairs=asset_pairs, year=2024, month=11, day = 1)\n",
    "historical_collector.collect()"
   ]
  },
  {
   "cell_type": "markdown",
   "id": "fd74ef5a",
   "metadata": {},
   "source": [
    "Once the data is collected, one can preprocessed them just by creating an instance of the class `DataManager()` and then use the method `block constructor()` to build the blocks for a given size. The method will return a dictionary where each key is a pair and each value is a `pd.Dataframe` containing the built blocks for the pair."
   ]
  },
  {
   "cell_type": "code",
   "execution_count": 4,
   "id": "f94e30a6",
   "metadata": {},
   "outputs": [
    {
     "name": "stdout",
     "output_type": "stream",
     "text": [
      "[DataManager] Loading csv file: data/raw_data\\BTCUSDT-trades-2024-11-01.csv\n",
      "[DataManager] Loading csv file: data/raw_data\\ETHUSDT-trades-2024-11-01.csv\n",
      "[DataManager] Loading csv file: data/raw_data\\SOLUSDT-trades-2024-11-01.csv\n"
     ]
    },
    {
     "data": {
      "text/html": [
       "<div>\n",
       "<style scoped>\n",
       "    .dataframe tbody tr th:only-of-type {\n",
       "        vertical-align: middle;\n",
       "    }\n",
       "\n",
       "    .dataframe tbody tr th {\n",
       "        vertical-align: top;\n",
       "    }\n",
       "\n",
       "    .dataframe thead th {\n",
       "        text-align: right;\n",
       "    }\n",
       "</style>\n",
       "<table border=\"1\" class=\"dataframe\">\n",
       "  <thead>\n",
       "    <tr style=\"text-align: right;\">\n",
       "      <th></th>\n",
       "      <th>0</th>\n",
       "      <th>1</th>\n",
       "    </tr>\n",
       "  </thead>\n",
       "  <tbody>\n",
       "    <tr>\n",
       "      <th>0</th>\n",
       "      <td>1</td>\n",
       "      <td>0</td>\n",
       "    </tr>\n",
       "    <tr>\n",
       "      <th>1</th>\n",
       "      <td>1</td>\n",
       "      <td>0</td>\n",
       "    </tr>\n",
       "    <tr>\n",
       "      <th>2</th>\n",
       "      <td>0</td>\n",
       "      <td>1</td>\n",
       "    </tr>\n",
       "  </tbody>\n",
       "</table>\n",
       "</div>"
      ],
      "text/plain": [
       "   0  1\n",
       "0  1  0\n",
       "1  1  0\n",
       "2  0  1"
      ]
     },
     "execution_count": 4,
     "metadata": {},
     "output_type": "execute_result"
    }
   ],
   "source": [
    "data_manager = DataManager(asset_pairs, symbols, year=2024, month=11, day=1, aggregation_level=5)\n",
    "blocks = data_manager.block_constructor(block_size=2, overlapping=False)\n",
    "blocks_btc = blocks['BTCUSDT']\n",
    "blocks_btc.head(3)"
   ]
  },
  {
   "cell_type": "markdown",
   "id": "22fd433c",
   "metadata": {},
   "source": [
    "Now that the blocks are built, one can compute the blocks relative frequencies by creating an instance of the class `RandomnessAnalysis()` and executing the method `compute_blocks_frequencies()` which will return a `pd.Dataframe` with the blocks as index and the absolute and relative frequencies in columns."
   ]
  },
  {
   "cell_type": "code",
   "execution_count": null,
   "id": "03d9e4ea",
   "metadata": {},
   "outputs": [
    {
     "data": {
      "text/html": [
       "<div>\n",
       "<style scoped>\n",
       "    .dataframe tbody tr th:only-of-type {\n",
       "        vertical-align: middle;\n",
       "    }\n",
       "\n",
       "    .dataframe tbody tr th {\n",
       "        vertical-align: top;\n",
       "    }\n",
       "\n",
       "    .dataframe thead th {\n",
       "        text-align: right;\n",
       "    }\n",
       "</style>\n",
       "<table border=\"1\" class=\"dataframe\">\n",
       "  <thead>\n",
       "    <tr style=\"text-align: right;\">\n",
       "      <th></th>\n",
       "      <th>block</th>\n",
       "      <th>absolute frequency</th>\n",
       "      <th>relative frequency</th>\n",
       "    </tr>\n",
       "  </thead>\n",
       "  <tbody>\n",
       "    <tr>\n",
       "      <th>0</th>\n",
       "      <td>0</td>\n",
       "      <td>134163</td>\n",
       "      <td>0.442213</td>\n",
       "    </tr>\n",
       "    <tr>\n",
       "      <th>1</th>\n",
       "      <td>1</td>\n",
       "      <td>15021</td>\n",
       "      <td>0.049511</td>\n",
       "    </tr>\n",
       "    <tr>\n",
       "      <th>2</th>\n",
       "      <td>2</td>\n",
       "      <td>14980</td>\n",
       "      <td>0.049375</td>\n",
       "    </tr>\n",
       "    <tr>\n",
       "      <th>3</th>\n",
       "      <td>3</td>\n",
       "      <td>139226</td>\n",
       "      <td>0.458901</td>\n",
       "    </tr>\n",
       "  </tbody>\n",
       "</table>\n",
       "</div>"
      ],
      "text/plain": [
       "   block  absolute frequency  relative frequency\n",
       "0      0              134163            0.442213\n",
       "1      1               15021            0.049511\n",
       "2      2               14980            0.049375\n",
       "3      3              139226            0.458901"
      ]
     },
     "execution_count": 5,
     "metadata": {},
     "output_type": "execute_result"
    }
   ],
   "source": [
    "s = 2\n",
    "analyser = RandomnessAnalysis(blocks_df=blocks_btc, s=s)\n",
    "frequencies_df = analyser.compute_blocks_frequencies()\n",
    "frequencies_df"
   ]
  },
  {
   "cell_type": "markdown",
   "id": "fd6b6d56",
   "metadata": {},
   "source": [
    "To better visualize the frequencies distributions, one can apply the function `plot_block_frequencies()` on the dataframe."
   ]
  },
  {
   "cell_type": "code",
   "execution_count": 6,
   "id": "27f454b2",
   "metadata": {},
   "outputs": [
    {
     "data": {
      "application/vnd.plotly.v1+json": {
       "config": {
        "plotlyServerURL": "https://plot.ly"
       },
       "data": [
        {
         "marker": {
          "color": "gray"
         },
         "name": "Blocks absolute frequency",
         "type": "bar",
         "x": [
          "(0, 0)",
          "(0, 1)",
          "(1, 0)",
          "(1, 1)"
         ],
         "xaxis": "x",
         "y": [
          141438,
          14324,
          14463,
          156959
         ],
         "yaxis": "y"
        },
        {
         "marker": {
          "color": "black"
         },
         "name": "Blocks relative frequency",
         "type": "bar",
         "x": [
          "(0, 0)",
          "(0, 1)",
          "(1, 0)",
          "(1, 1)"
         ],
         "xaxis": "x2",
         "y": [
          0.4322888649811727,
          0.043779646926500076,
          0.04420448432686195,
          0.4797270037654653
         ],
         "yaxis": "y2"
        }
       ],
       "layout": {
        "annotations": [
         {
          "font": {
           "size": 16
          },
          "showarrow": false,
          "text": "Blocks absolute frequency",
          "x": 0.225,
          "xanchor": "center",
          "xref": "paper",
          "y": 1,
          "yanchor": "bottom",
          "yref": "paper"
         },
         {
          "font": {
           "size": 16
          },
          "showarrow": false,
          "text": "Blocks relative frequency",
          "x": 0.775,
          "xanchor": "center",
          "xref": "paper",
          "y": 1,
          "yanchor": "bottom",
          "yref": "paper"
         }
        ],
        "height": 600,
        "showlegend": false,
        "template": {
         "data": {
          "bar": [
           {
            "error_x": {
             "color": "#2a3f5f"
            },
            "error_y": {
             "color": "#2a3f5f"
            },
            "marker": {
             "line": {
              "color": "#E5ECF6",
              "width": 0.5
             },
             "pattern": {
              "fillmode": "overlay",
              "size": 10,
              "solidity": 0.2
             }
            },
            "type": "bar"
           }
          ],
          "barpolar": [
           {
            "marker": {
             "line": {
              "color": "#E5ECF6",
              "width": 0.5
             },
             "pattern": {
              "fillmode": "overlay",
              "size": 10,
              "solidity": 0.2
             }
            },
            "type": "barpolar"
           }
          ],
          "carpet": [
           {
            "aaxis": {
             "endlinecolor": "#2a3f5f",
             "gridcolor": "white",
             "linecolor": "white",
             "minorgridcolor": "white",
             "startlinecolor": "#2a3f5f"
            },
            "baxis": {
             "endlinecolor": "#2a3f5f",
             "gridcolor": "white",
             "linecolor": "white",
             "minorgridcolor": "white",
             "startlinecolor": "#2a3f5f"
            },
            "type": "carpet"
           }
          ],
          "choropleth": [
           {
            "colorbar": {
             "outlinewidth": 0,
             "ticks": ""
            },
            "type": "choropleth"
           }
          ],
          "contour": [
           {
            "colorbar": {
             "outlinewidth": 0,
             "ticks": ""
            },
            "colorscale": [
             [
              0,
              "#0d0887"
             ],
             [
              0.1111111111111111,
              "#46039f"
             ],
             [
              0.2222222222222222,
              "#7201a8"
             ],
             [
              0.3333333333333333,
              "#9c179e"
             ],
             [
              0.4444444444444444,
              "#bd3786"
             ],
             [
              0.5555555555555556,
              "#d8576b"
             ],
             [
              0.6666666666666666,
              "#ed7953"
             ],
             [
              0.7777777777777778,
              "#fb9f3a"
             ],
             [
              0.8888888888888888,
              "#fdca26"
             ],
             [
              1,
              "#f0f921"
             ]
            ],
            "type": "contour"
           }
          ],
          "contourcarpet": [
           {
            "colorbar": {
             "outlinewidth": 0,
             "ticks": ""
            },
            "type": "contourcarpet"
           }
          ],
          "heatmap": [
           {
            "colorbar": {
             "outlinewidth": 0,
             "ticks": ""
            },
            "colorscale": [
             [
              0,
              "#0d0887"
             ],
             [
              0.1111111111111111,
              "#46039f"
             ],
             [
              0.2222222222222222,
              "#7201a8"
             ],
             [
              0.3333333333333333,
              "#9c179e"
             ],
             [
              0.4444444444444444,
              "#bd3786"
             ],
             [
              0.5555555555555556,
              "#d8576b"
             ],
             [
              0.6666666666666666,
              "#ed7953"
             ],
             [
              0.7777777777777778,
              "#fb9f3a"
             ],
             [
              0.8888888888888888,
              "#fdca26"
             ],
             [
              1,
              "#f0f921"
             ]
            ],
            "type": "heatmap"
           }
          ],
          "heatmapgl": [
           {
            "colorbar": {
             "outlinewidth": 0,
             "ticks": ""
            },
            "colorscale": [
             [
              0,
              "#0d0887"
             ],
             [
              0.1111111111111111,
              "#46039f"
             ],
             [
              0.2222222222222222,
              "#7201a8"
             ],
             [
              0.3333333333333333,
              "#9c179e"
             ],
             [
              0.4444444444444444,
              "#bd3786"
             ],
             [
              0.5555555555555556,
              "#d8576b"
             ],
             [
              0.6666666666666666,
              "#ed7953"
             ],
             [
              0.7777777777777778,
              "#fb9f3a"
             ],
             [
              0.8888888888888888,
              "#fdca26"
             ],
             [
              1,
              "#f0f921"
             ]
            ],
            "type": "heatmapgl"
           }
          ],
          "histogram": [
           {
            "marker": {
             "pattern": {
              "fillmode": "overlay",
              "size": 10,
              "solidity": 0.2
             }
            },
            "type": "histogram"
           }
          ],
          "histogram2d": [
           {
            "colorbar": {
             "outlinewidth": 0,
             "ticks": ""
            },
            "colorscale": [
             [
              0,
              "#0d0887"
             ],
             [
              0.1111111111111111,
              "#46039f"
             ],
             [
              0.2222222222222222,
              "#7201a8"
             ],
             [
              0.3333333333333333,
              "#9c179e"
             ],
             [
              0.4444444444444444,
              "#bd3786"
             ],
             [
              0.5555555555555556,
              "#d8576b"
             ],
             [
              0.6666666666666666,
              "#ed7953"
             ],
             [
              0.7777777777777778,
              "#fb9f3a"
             ],
             [
              0.8888888888888888,
              "#fdca26"
             ],
             [
              1,
              "#f0f921"
             ]
            ],
            "type": "histogram2d"
           }
          ],
          "histogram2dcontour": [
           {
            "colorbar": {
             "outlinewidth": 0,
             "ticks": ""
            },
            "colorscale": [
             [
              0,
              "#0d0887"
             ],
             [
              0.1111111111111111,
              "#46039f"
             ],
             [
              0.2222222222222222,
              "#7201a8"
             ],
             [
              0.3333333333333333,
              "#9c179e"
             ],
             [
              0.4444444444444444,
              "#bd3786"
             ],
             [
              0.5555555555555556,
              "#d8576b"
             ],
             [
              0.6666666666666666,
              "#ed7953"
             ],
             [
              0.7777777777777778,
              "#fb9f3a"
             ],
             [
              0.8888888888888888,
              "#fdca26"
             ],
             [
              1,
              "#f0f921"
             ]
            ],
            "type": "histogram2dcontour"
           }
          ],
          "mesh3d": [
           {
            "colorbar": {
             "outlinewidth": 0,
             "ticks": ""
            },
            "type": "mesh3d"
           }
          ],
          "parcoords": [
           {
            "line": {
             "colorbar": {
              "outlinewidth": 0,
              "ticks": ""
             }
            },
            "type": "parcoords"
           }
          ],
          "pie": [
           {
            "automargin": true,
            "type": "pie"
           }
          ],
          "scatter": [
           {
            "fillpattern": {
             "fillmode": "overlay",
             "size": 10,
             "solidity": 0.2
            },
            "type": "scatter"
           }
          ],
          "scatter3d": [
           {
            "line": {
             "colorbar": {
              "outlinewidth": 0,
              "ticks": ""
             }
            },
            "marker": {
             "colorbar": {
              "outlinewidth": 0,
              "ticks": ""
             }
            },
            "type": "scatter3d"
           }
          ],
          "scattercarpet": [
           {
            "marker": {
             "colorbar": {
              "outlinewidth": 0,
              "ticks": ""
             }
            },
            "type": "scattercarpet"
           }
          ],
          "scattergeo": [
           {
            "marker": {
             "colorbar": {
              "outlinewidth": 0,
              "ticks": ""
             }
            },
            "type": "scattergeo"
           }
          ],
          "scattergl": [
           {
            "marker": {
             "colorbar": {
              "outlinewidth": 0,
              "ticks": ""
             }
            },
            "type": "scattergl"
           }
          ],
          "scattermapbox": [
           {
            "marker": {
             "colorbar": {
              "outlinewidth": 0,
              "ticks": ""
             }
            },
            "type": "scattermapbox"
           }
          ],
          "scatterpolar": [
           {
            "marker": {
             "colorbar": {
              "outlinewidth": 0,
              "ticks": ""
             }
            },
            "type": "scatterpolar"
           }
          ],
          "scatterpolargl": [
           {
            "marker": {
             "colorbar": {
              "outlinewidth": 0,
              "ticks": ""
             }
            },
            "type": "scatterpolargl"
           }
          ],
          "scatterternary": [
           {
            "marker": {
             "colorbar": {
              "outlinewidth": 0,
              "ticks": ""
             }
            },
            "type": "scatterternary"
           }
          ],
          "surface": [
           {
            "colorbar": {
             "outlinewidth": 0,
             "ticks": ""
            },
            "colorscale": [
             [
              0,
              "#0d0887"
             ],
             [
              0.1111111111111111,
              "#46039f"
             ],
             [
              0.2222222222222222,
              "#7201a8"
             ],
             [
              0.3333333333333333,
              "#9c179e"
             ],
             [
              0.4444444444444444,
              "#bd3786"
             ],
             [
              0.5555555555555556,
              "#d8576b"
             ],
             [
              0.6666666666666666,
              "#ed7953"
             ],
             [
              0.7777777777777778,
              "#fb9f3a"
             ],
             [
              0.8888888888888888,
              "#fdca26"
             ],
             [
              1,
              "#f0f921"
             ]
            ],
            "type": "surface"
           }
          ],
          "table": [
           {
            "cells": {
             "fill": {
              "color": "#EBF0F8"
             },
             "line": {
              "color": "white"
             }
            },
            "header": {
             "fill": {
              "color": "#C8D4E3"
             },
             "line": {
              "color": "white"
             }
            },
            "type": "table"
           }
          ]
         },
         "layout": {
          "annotationdefaults": {
           "arrowcolor": "#2a3f5f",
           "arrowhead": 0,
           "arrowwidth": 1
          },
          "autotypenumbers": "strict",
          "coloraxis": {
           "colorbar": {
            "outlinewidth": 0,
            "ticks": ""
           }
          },
          "colorscale": {
           "diverging": [
            [
             0,
             "#8e0152"
            ],
            [
             0.1,
             "#c51b7d"
            ],
            [
             0.2,
             "#de77ae"
            ],
            [
             0.3,
             "#f1b6da"
            ],
            [
             0.4,
             "#fde0ef"
            ],
            [
             0.5,
             "#f7f7f7"
            ],
            [
             0.6,
             "#e6f5d0"
            ],
            [
             0.7,
             "#b8e186"
            ],
            [
             0.8,
             "#7fbc41"
            ],
            [
             0.9,
             "#4d9221"
            ],
            [
             1,
             "#276419"
            ]
           ],
           "sequential": [
            [
             0,
             "#0d0887"
            ],
            [
             0.1111111111111111,
             "#46039f"
            ],
            [
             0.2222222222222222,
             "#7201a8"
            ],
            [
             0.3333333333333333,
             "#9c179e"
            ],
            [
             0.4444444444444444,
             "#bd3786"
            ],
            [
             0.5555555555555556,
             "#d8576b"
            ],
            [
             0.6666666666666666,
             "#ed7953"
            ],
            [
             0.7777777777777778,
             "#fb9f3a"
            ],
            [
             0.8888888888888888,
             "#fdca26"
            ],
            [
             1,
             "#f0f921"
            ]
           ],
           "sequentialminus": [
            [
             0,
             "#0d0887"
            ],
            [
             0.1111111111111111,
             "#46039f"
            ],
            [
             0.2222222222222222,
             "#7201a8"
            ],
            [
             0.3333333333333333,
             "#9c179e"
            ],
            [
             0.4444444444444444,
             "#bd3786"
            ],
            [
             0.5555555555555556,
             "#d8576b"
            ],
            [
             0.6666666666666666,
             "#ed7953"
            ],
            [
             0.7777777777777778,
             "#fb9f3a"
            ],
            [
             0.8888888888888888,
             "#fdca26"
            ],
            [
             1,
             "#f0f921"
            ]
           ]
          },
          "colorway": [
           "#636efa",
           "#EF553B",
           "#00cc96",
           "#ab63fa",
           "#FFA15A",
           "#19d3f3",
           "#FF6692",
           "#B6E880",
           "#FF97FF",
           "#FECB52"
          ],
          "font": {
           "color": "#2a3f5f"
          },
          "geo": {
           "bgcolor": "white",
           "lakecolor": "white",
           "landcolor": "#E5ECF6",
           "showlakes": true,
           "showland": true,
           "subunitcolor": "white"
          },
          "hoverlabel": {
           "align": "left"
          },
          "hovermode": "closest",
          "mapbox": {
           "style": "light"
          },
          "paper_bgcolor": "white",
          "plot_bgcolor": "#E5ECF6",
          "polar": {
           "angularaxis": {
            "gridcolor": "white",
            "linecolor": "white",
            "ticks": ""
           },
           "bgcolor": "#E5ECF6",
           "radialaxis": {
            "gridcolor": "white",
            "linecolor": "white",
            "ticks": ""
           }
          },
          "scene": {
           "xaxis": {
            "backgroundcolor": "#E5ECF6",
            "gridcolor": "white",
            "gridwidth": 2,
            "linecolor": "white",
            "showbackground": true,
            "ticks": "",
            "zerolinecolor": "white"
           },
           "yaxis": {
            "backgroundcolor": "#E5ECF6",
            "gridcolor": "white",
            "gridwidth": 2,
            "linecolor": "white",
            "showbackground": true,
            "ticks": "",
            "zerolinecolor": "white"
           },
           "zaxis": {
            "backgroundcolor": "#E5ECF6",
            "gridcolor": "white",
            "gridwidth": 2,
            "linecolor": "white",
            "showbackground": true,
            "ticks": "",
            "zerolinecolor": "white"
           }
          },
          "shapedefaults": {
           "line": {
            "color": "#2a3f5f"
           }
          },
          "ternary": {
           "aaxis": {
            "gridcolor": "white",
            "linecolor": "white",
            "ticks": ""
           },
           "baxis": {
            "gridcolor": "white",
            "linecolor": "white",
            "ticks": ""
           },
           "bgcolor": "#E5ECF6",
           "caxis": {
            "gridcolor": "white",
            "linecolor": "white",
            "ticks": ""
           }
          },
          "title": {
           "x": 0.05
          },
          "xaxis": {
           "automargin": true,
           "gridcolor": "white",
           "linecolor": "white",
           "ticks": "",
           "title": {
            "standoff": 15
           },
           "zerolinecolor": "white",
           "zerolinewidth": 2
          },
          "yaxis": {
           "automargin": true,
           "gridcolor": "white",
           "linecolor": "white",
           "ticks": "",
           "title": {
            "standoff": 15
           },
           "zerolinecolor": "white",
           "zerolinewidth": 2
          }
         }
        },
        "title": {
         "text": "Blocks Analysis"
        },
        "width": 1200,
        "xaxis": {
         "anchor": "y",
         "domain": [
          0,
          0.45
         ],
         "title": {
          "text": "Blocks"
         }
        },
        "xaxis2": {
         "anchor": "y2",
         "domain": [
          0.55,
          1
         ],
         "title": {
          "text": "Blocks"
         }
        },
        "yaxis": {
         "anchor": "x",
         "domain": [
          0,
          1
         ],
         "title": {
          "text": "Absolute Frequency"
         }
        },
        "yaxis2": {
         "anchor": "x2",
         "domain": [
          0,
          1
         ],
         "title": {
          "text": "Relative Frequency"
         }
        }
       }
      }
     },
     "metadata": {},
     "output_type": "display_data"
    }
   ],
   "source": [
    "plot_block_frequencies(frequencies_df)"
   ]
  },
  {
   "cell_type": "markdown",
   "id": "491c66de",
   "metadata": {},
   "source": [
    "The class `RandomnessAnalysis()` has also two other methods :\n",
    "- `entropy_bias_test()` to launch a predictability hypothesis test based on Entropy Bias\n",
    "- `KL_divergence_test()` to launch a predictability hypothesis test based on KL Divergence\n",
    "\n",
    "For both methods, the output is the test results in a `pd.Dataframe` format."
   ]
  },
  {
   "cell_type": "code",
   "execution_count": 7,
   "id": "f2d57410",
   "metadata": {},
   "outputs": [
    {
     "data": {
      "text/html": [
       "<div>\n",
       "<style scoped>\n",
       "    .dataframe tbody tr th:only-of-type {\n",
       "        vertical-align: middle;\n",
       "    }\n",
       "\n",
       "    .dataframe tbody tr th {\n",
       "        vertical-align: top;\n",
       "    }\n",
       "\n",
       "    .dataframe thead th {\n",
       "        text-align: right;\n",
       "    }\n",
       "</style>\n",
       "<table border=\"1\" class=\"dataframe\">\n",
       "  <thead>\n",
       "    <tr style=\"text-align: right;\">\n",
       "      <th></th>\n",
       "      <th>Entropy Bias test</th>\n",
       "    </tr>\n",
       "  </thead>\n",
       "  <tbody>\n",
       "    <tr>\n",
       "      <th>Bias</th>\n",
       "      <td>259478.925051</td>\n",
       "    </tr>\n",
       "    <tr>\n",
       "      <th>Quantile 90%</th>\n",
       "      <td>6.251389</td>\n",
       "    </tr>\n",
       "    <tr>\n",
       "      <th>Quantile 95%</th>\n",
       "      <td>7.814728</td>\n",
       "    </tr>\n",
       "    <tr>\n",
       "      <th>Quantile 99%</th>\n",
       "      <td>11.344867</td>\n",
       "    </tr>\n",
       "    <tr>\n",
       "      <th>P-value</th>\n",
       "      <td>0.0</td>\n",
       "    </tr>\n",
       "    <tr>\n",
       "      <th>Mean</th>\n",
       "      <td>3</td>\n",
       "    </tr>\n",
       "    <tr>\n",
       "      <th>Hypothesis 1</th>\n",
       "      <td>True</td>\n",
       "    </tr>\n",
       "  </tbody>\n",
       "</table>\n",
       "</div>"
      ],
      "text/plain": [
       "             Entropy Bias test\n",
       "Bias             259478.925051\n",
       "Quantile 90%          6.251389\n",
       "Quantile 95%          7.814728\n",
       "Quantile 99%         11.344867\n",
       "P-value                    0.0\n",
       "Mean                         3\n",
       "Hypothesis 1              True"
      ]
     },
     "execution_count": 7,
     "metadata": {},
     "output_type": "execute_result"
    }
   ],
   "source": [
    "test_entropy = analyser.entropy_bias_test()\n",
    "test_entropy"
   ]
  },
  {
   "cell_type": "code",
   "execution_count": 6,
   "id": "ef961000",
   "metadata": {},
   "outputs": [
    {
     "data": {
      "text/html": [
       "<div>\n",
       "<style scoped>\n",
       "    .dataframe tbody tr th:only-of-type {\n",
       "        vertical-align: middle;\n",
       "    }\n",
       "\n",
       "    .dataframe tbody tr th {\n",
       "        vertical-align: top;\n",
       "    }\n",
       "\n",
       "    .dataframe thead th {\n",
       "        text-align: right;\n",
       "    }\n",
       "</style>\n",
       "<table border=\"1\" class=\"dataframe\">\n",
       "  <thead>\n",
       "    <tr style=\"text-align: right;\">\n",
       "      <th></th>\n",
       "      <th>NP Statistic test</th>\n",
       "    </tr>\n",
       "  </thead>\n",
       "  <tbody>\n",
       "    <tr>\n",
       "      <th>NP Statistic</th>\n",
       "      <td>224748.343879</td>\n",
       "    </tr>\n",
       "    <tr>\n",
       "      <th>Quantile 90%</th>\n",
       "      <td>2.705543</td>\n",
       "    </tr>\n",
       "    <tr>\n",
       "      <th>Quantile 95%</th>\n",
       "      <td>3.841459</td>\n",
       "    </tr>\n",
       "    <tr>\n",
       "      <th>Quantile 99%</th>\n",
       "      <td>6.634897</td>\n",
       "    </tr>\n",
       "    <tr>\n",
       "      <th>P-value</th>\n",
       "      <td>0.0</td>\n",
       "    </tr>\n",
       "    <tr>\n",
       "      <th>Mean</th>\n",
       "      <td>1</td>\n",
       "    </tr>\n",
       "    <tr>\n",
       "      <th>Hypothesis 1</th>\n",
       "      <td>True</td>\n",
       "    </tr>\n",
       "  </tbody>\n",
       "</table>\n",
       "</div>"
      ],
      "text/plain": [
       "             NP Statistic test\n",
       "NP Statistic     224748.343879\n",
       "Quantile 90%          2.705543\n",
       "Quantile 95%          3.841459\n",
       "Quantile 99%          6.634897\n",
       "P-value                    0.0\n",
       "Mean                         1\n",
       "Hypothesis 1              True"
      ]
     },
     "execution_count": 6,
     "metadata": {},
     "output_type": "execute_result"
    }
   ],
   "source": [
    "test_divergence = analyser.KL_divergence_test()\n",
    "test_divergence"
   ]
  },
  {
   "cell_type": "markdown",
   "id": "07cf4da8",
   "metadata": {},
   "source": [
    "If one wants to perform multiple predictability tests for different sets of parameters (block size or aggregation level), the class `MultiTester()` can manage it with the methods `test_by_block_size()` and `test_by_aggregation_level()`. The output is displayed in a `pd.Dataframe` with the test statistics, the quantiles and the theoretical distribution mean by block size or aggregation level."
   ]
  },
  {
   "cell_type": "code",
   "execution_count": 8,
   "id": "317cde8d",
   "metadata": {},
   "outputs": [
    {
     "data": {
      "text/html": [
       "<div>\n",
       "<style scoped>\n",
       "    .dataframe tbody tr th:only-of-type {\n",
       "        vertical-align: middle;\n",
       "    }\n",
       "\n",
       "    .dataframe tbody tr th {\n",
       "        vertical-align: top;\n",
       "    }\n",
       "\n",
       "    .dataframe thead th {\n",
       "        text-align: right;\n",
       "    }\n",
       "</style>\n",
       "<table border=\"1\" class=\"dataframe\">\n",
       "  <thead>\n",
       "    <tr style=\"text-align: right;\">\n",
       "      <th></th>\n",
       "      <th>Test statistic</th>\n",
       "      <th>Quantile 99</th>\n",
       "      <th>Quantile 95</th>\n",
       "      <th>Quantile 90</th>\n",
       "      <th>Mean</th>\n",
       "    </tr>\n",
       "    <tr>\n",
       "      <th>Block size</th>\n",
       "      <th></th>\n",
       "      <th></th>\n",
       "      <th></th>\n",
       "      <th></th>\n",
       "      <th></th>\n",
       "    </tr>\n",
       "  </thead>\n",
       "  <tbody>\n",
       "    <tr>\n",
       "      <th>1</th>\n",
       "      <td>1473.127510</td>\n",
       "      <td>6.634897</td>\n",
       "      <td>3.841459</td>\n",
       "      <td>2.705543</td>\n",
       "      <td>1</td>\n",
       "    </tr>\n",
       "    <tr>\n",
       "      <th>2</th>\n",
       "      <td>259478.925051</td>\n",
       "      <td>11.344867</td>\n",
       "      <td>7.814728</td>\n",
       "      <td>6.251389</td>\n",
       "      <td>3</td>\n",
       "    </tr>\n",
       "    <tr>\n",
       "      <th>3</th>\n",
       "      <td>370554.077159</td>\n",
       "      <td>18.475307</td>\n",
       "      <td>14.067140</td>\n",
       "      <td>12.017037</td>\n",
       "      <td>7</td>\n",
       "    </tr>\n",
       "    <tr>\n",
       "      <th>4</th>\n",
       "      <td>430657.512803</td>\n",
       "      <td>30.577914</td>\n",
       "      <td>24.995790</td>\n",
       "      <td>22.307130</td>\n",
       "      <td>15</td>\n",
       "    </tr>\n",
       "    <tr>\n",
       "      <th>5</th>\n",
       "      <td>466766.477413</td>\n",
       "      <td>52.191395</td>\n",
       "      <td>44.985343</td>\n",
       "      <td>41.421736</td>\n",
       "      <td>31</td>\n",
       "    </tr>\n",
       "    <tr>\n",
       "      <th>6</th>\n",
       "      <td>491823.758053</td>\n",
       "      <td>92.010024</td>\n",
       "      <td>82.528727</td>\n",
       "      <td>77.745385</td>\n",
       "      <td>63</td>\n",
       "    </tr>\n",
       "    <tr>\n",
       "      <th>7</th>\n",
       "      <td>509449.581121</td>\n",
       "      <td>166.987390</td>\n",
       "      <td>154.301516</td>\n",
       "      <td>147.804813</td>\n",
       "      <td>127</td>\n",
       "    </tr>\n",
       "    <tr>\n",
       "      <th>8</th>\n",
       "      <td>522619.136222</td>\n",
       "      <td>310.457388</td>\n",
       "      <td>293.247835</td>\n",
       "      <td>284.335908</td>\n",
       "      <td>255</td>\n",
       "    </tr>\n",
       "    <tr>\n",
       "      <th>9</th>\n",
       "      <td>533171.923821</td>\n",
       "      <td>588.297794</td>\n",
       "      <td>564.696133</td>\n",
       "      <td>552.373933</td>\n",
       "      <td>511</td>\n",
       "    </tr>\n",
       "    <tr>\n",
       "      <th>10</th>\n",
       "      <td>542251.621520</td>\n",
       "      <td>1131.158739</td>\n",
       "      <td>1098.520782</td>\n",
       "      <td>1081.379444</td>\n",
       "      <td>1023</td>\n",
       "    </tr>\n",
       "    <tr>\n",
       "      <th>11</th>\n",
       "      <td>549405.576027</td>\n",
       "      <td>2198.784497</td>\n",
       "      <td>2153.369631</td>\n",
       "      <td>2129.415591</td>\n",
       "      <td>2047</td>\n",
       "    </tr>\n",
       "    <tr>\n",
       "      <th>12</th>\n",
       "      <td>557028.650747</td>\n",
       "      <td>4308.467866</td>\n",
       "      <td>4244.985308</td>\n",
       "      <td>4211.398462</td>\n",
       "      <td>4095</td>\n",
       "    </tr>\n",
       "    <tr>\n",
       "      <th>13</th>\n",
       "      <td>563156.510133</td>\n",
       "      <td>8491.692343</td>\n",
       "      <td>8402.659295</td>\n",
       "      <td>8355.450875</td>\n",
       "      <td>8191</td>\n",
       "    </tr>\n",
       "    <tr>\n",
       "      <th>14</th>\n",
       "      <td>570236.123185</td>\n",
       "      <td>16807.040058</td>\n",
       "      <td>16681.873910</td>\n",
       "      <td>16615.402568</td>\n",
       "      <td>16383</td>\n",
       "    </tr>\n",
       "    <tr>\n",
       "      <th>15</th>\n",
       "      <td>576110.937593</td>\n",
       "      <td>33365.475611</td>\n",
       "      <td>33189.210063</td>\n",
       "      <td>33095.497464</td>\n",
       "      <td>32767</td>\n",
       "    </tr>\n",
       "  </tbody>\n",
       "</table>\n",
       "</div>"
      ],
      "text/plain": [
       "            Test statistic   Quantile 99   Quantile 95   Quantile 90   Mean\n",
       "Block size                                                                 \n",
       "1              1473.127510      6.634897      3.841459      2.705543      1\n",
       "2            259478.925051     11.344867      7.814728      6.251389      3\n",
       "3            370554.077159     18.475307     14.067140     12.017037      7\n",
       "4            430657.512803     30.577914     24.995790     22.307130     15\n",
       "5            466766.477413     52.191395     44.985343     41.421736     31\n",
       "6            491823.758053     92.010024     82.528727     77.745385     63\n",
       "7            509449.581121    166.987390    154.301516    147.804813    127\n",
       "8            522619.136222    310.457388    293.247835    284.335908    255\n",
       "9            533171.923821    588.297794    564.696133    552.373933    511\n",
       "10           542251.621520   1131.158739   1098.520782   1081.379444   1023\n",
       "11           549405.576027   2198.784497   2153.369631   2129.415591   2047\n",
       "12           557028.650747   4308.467866   4244.985308   4211.398462   4095\n",
       "13           563156.510133   8491.692343   8402.659295   8355.450875   8191\n",
       "14           570236.123185  16807.040058  16681.873910  16615.402568  16383\n",
       "15           576110.937593  33365.475611  33189.210063  33095.497464  32767"
      ]
     },
     "execution_count": 8,
     "metadata": {},
     "output_type": "execute_result"
    }
   ],
   "source": [
    "btc_multi_tester = MultiTester(asset='BTCUSDT',symbols=symbols,overlapping=False)\n",
    "df_test_block = btc_multi_tester.test_by_block_size(test='Entropy Bias',\n",
    "                                    max_block_size=15,\n",
    "                                    year=2024,\n",
    "                                    month=11,\n",
    "                                    day=5,\n",
    "                                    aggregation_level=5)\n",
    "df_test_block"
   ]
  },
  {
   "cell_type": "code",
   "execution_count": 9,
   "id": "59db8e16",
   "metadata": {},
   "outputs": [
    {
     "data": {
      "application/vnd.plotly.v1+json": {
       "config": {
        "plotlyServerURL": "https://plot.ly"
       },
       "data": [
        {
         "line": {
          "color": "dark red",
          "width": 2
         },
         "mode": "lines",
         "name": "Test statistic",
         "type": "scatter",
         "x": [
          1,
          2,
          3,
          4,
          5,
          6,
          7,
          8,
          9,
          10,
          11,
          12,
          13,
          14,
          15
         ],
         "y": [
          1473.127509946277,
          259478.92505113178,
          370554.0771592313,
          430657.5128027066,
          466766.47741296724,
          491823.7580530787,
          509449.58112062357,
          522619.1362224547,
          533171.9238212074,
          542251.6215195357,
          549405.5760269343,
          557028.6507474524,
          563156.5101327143,
          570236.1231854032,
          576110.9375927221
         ]
        },
        {
         "line": {
          "color": "dark green",
          "width": 2
         },
         "mode": "lines",
         "name": "Quantile 99%",
         "type": "scatter",
         "x": [
          1,
          2,
          3,
          4,
          5,
          6,
          7,
          8,
          9,
          10,
          11,
          12,
          13,
          14,
          15
         ],
         "y": [
          6.6348966010212145,
          11.344866730144373,
          18.475306906582357,
          30.57791416689249,
          52.19139483319193,
          92.01002361413214,
          166.98739013667387,
          310.45738821990585,
          588.2977941452372,
          1131.158738963494,
          2198.7844972643143,
          4308.467865579965,
          8491.692342852493,
          16807.040058145798,
          33365.47561133769
         ]
        }
       ],
       "layout": {
        "height": 700,
        "legend": {
         "x": 0.99,
         "xanchor": "left",
         "y": 0.99,
         "yanchor": "top"
        },
        "template": {
         "data": {
          "bar": [
           {
            "error_x": {
             "color": "#2a3f5f"
            },
            "error_y": {
             "color": "#2a3f5f"
            },
            "marker": {
             "line": {
              "color": "white",
              "width": 0.5
             },
             "pattern": {
              "fillmode": "overlay",
              "size": 10,
              "solidity": 0.2
             }
            },
            "type": "bar"
           }
          ],
          "barpolar": [
           {
            "marker": {
             "line": {
              "color": "white",
              "width": 0.5
             },
             "pattern": {
              "fillmode": "overlay",
              "size": 10,
              "solidity": 0.2
             }
            },
            "type": "barpolar"
           }
          ],
          "carpet": [
           {
            "aaxis": {
             "endlinecolor": "#2a3f5f",
             "gridcolor": "#C8D4E3",
             "linecolor": "#C8D4E3",
             "minorgridcolor": "#C8D4E3",
             "startlinecolor": "#2a3f5f"
            },
            "baxis": {
             "endlinecolor": "#2a3f5f",
             "gridcolor": "#C8D4E3",
             "linecolor": "#C8D4E3",
             "minorgridcolor": "#C8D4E3",
             "startlinecolor": "#2a3f5f"
            },
            "type": "carpet"
           }
          ],
          "choropleth": [
           {
            "colorbar": {
             "outlinewidth": 0,
             "ticks": ""
            },
            "type": "choropleth"
           }
          ],
          "contour": [
           {
            "colorbar": {
             "outlinewidth": 0,
             "ticks": ""
            },
            "colorscale": [
             [
              0,
              "#0d0887"
             ],
             [
              0.1111111111111111,
              "#46039f"
             ],
             [
              0.2222222222222222,
              "#7201a8"
             ],
             [
              0.3333333333333333,
              "#9c179e"
             ],
             [
              0.4444444444444444,
              "#bd3786"
             ],
             [
              0.5555555555555556,
              "#d8576b"
             ],
             [
              0.6666666666666666,
              "#ed7953"
             ],
             [
              0.7777777777777778,
              "#fb9f3a"
             ],
             [
              0.8888888888888888,
              "#fdca26"
             ],
             [
              1,
              "#f0f921"
             ]
            ],
            "type": "contour"
           }
          ],
          "contourcarpet": [
           {
            "colorbar": {
             "outlinewidth": 0,
             "ticks": ""
            },
            "type": "contourcarpet"
           }
          ],
          "heatmap": [
           {
            "colorbar": {
             "outlinewidth": 0,
             "ticks": ""
            },
            "colorscale": [
             [
              0,
              "#0d0887"
             ],
             [
              0.1111111111111111,
              "#46039f"
             ],
             [
              0.2222222222222222,
              "#7201a8"
             ],
             [
              0.3333333333333333,
              "#9c179e"
             ],
             [
              0.4444444444444444,
              "#bd3786"
             ],
             [
              0.5555555555555556,
              "#d8576b"
             ],
             [
              0.6666666666666666,
              "#ed7953"
             ],
             [
              0.7777777777777778,
              "#fb9f3a"
             ],
             [
              0.8888888888888888,
              "#fdca26"
             ],
             [
              1,
              "#f0f921"
             ]
            ],
            "type": "heatmap"
           }
          ],
          "heatmapgl": [
           {
            "colorbar": {
             "outlinewidth": 0,
             "ticks": ""
            },
            "colorscale": [
             [
              0,
              "#0d0887"
             ],
             [
              0.1111111111111111,
              "#46039f"
             ],
             [
              0.2222222222222222,
              "#7201a8"
             ],
             [
              0.3333333333333333,
              "#9c179e"
             ],
             [
              0.4444444444444444,
              "#bd3786"
             ],
             [
              0.5555555555555556,
              "#d8576b"
             ],
             [
              0.6666666666666666,
              "#ed7953"
             ],
             [
              0.7777777777777778,
              "#fb9f3a"
             ],
             [
              0.8888888888888888,
              "#fdca26"
             ],
             [
              1,
              "#f0f921"
             ]
            ],
            "type": "heatmapgl"
           }
          ],
          "histogram": [
           {
            "marker": {
             "pattern": {
              "fillmode": "overlay",
              "size": 10,
              "solidity": 0.2
             }
            },
            "type": "histogram"
           }
          ],
          "histogram2d": [
           {
            "colorbar": {
             "outlinewidth": 0,
             "ticks": ""
            },
            "colorscale": [
             [
              0,
              "#0d0887"
             ],
             [
              0.1111111111111111,
              "#46039f"
             ],
             [
              0.2222222222222222,
              "#7201a8"
             ],
             [
              0.3333333333333333,
              "#9c179e"
             ],
             [
              0.4444444444444444,
              "#bd3786"
             ],
             [
              0.5555555555555556,
              "#d8576b"
             ],
             [
              0.6666666666666666,
              "#ed7953"
             ],
             [
              0.7777777777777778,
              "#fb9f3a"
             ],
             [
              0.8888888888888888,
              "#fdca26"
             ],
             [
              1,
              "#f0f921"
             ]
            ],
            "type": "histogram2d"
           }
          ],
          "histogram2dcontour": [
           {
            "colorbar": {
             "outlinewidth": 0,
             "ticks": ""
            },
            "colorscale": [
             [
              0,
              "#0d0887"
             ],
             [
              0.1111111111111111,
              "#46039f"
             ],
             [
              0.2222222222222222,
              "#7201a8"
             ],
             [
              0.3333333333333333,
              "#9c179e"
             ],
             [
              0.4444444444444444,
              "#bd3786"
             ],
             [
              0.5555555555555556,
              "#d8576b"
             ],
             [
              0.6666666666666666,
              "#ed7953"
             ],
             [
              0.7777777777777778,
              "#fb9f3a"
             ],
             [
              0.8888888888888888,
              "#fdca26"
             ],
             [
              1,
              "#f0f921"
             ]
            ],
            "type": "histogram2dcontour"
           }
          ],
          "mesh3d": [
           {
            "colorbar": {
             "outlinewidth": 0,
             "ticks": ""
            },
            "type": "mesh3d"
           }
          ],
          "parcoords": [
           {
            "line": {
             "colorbar": {
              "outlinewidth": 0,
              "ticks": ""
             }
            },
            "type": "parcoords"
           }
          ],
          "pie": [
           {
            "automargin": true,
            "type": "pie"
           }
          ],
          "scatter": [
           {
            "fillpattern": {
             "fillmode": "overlay",
             "size": 10,
             "solidity": 0.2
            },
            "type": "scatter"
           }
          ],
          "scatter3d": [
           {
            "line": {
             "colorbar": {
              "outlinewidth": 0,
              "ticks": ""
             }
            },
            "marker": {
             "colorbar": {
              "outlinewidth": 0,
              "ticks": ""
             }
            },
            "type": "scatter3d"
           }
          ],
          "scattercarpet": [
           {
            "marker": {
             "colorbar": {
              "outlinewidth": 0,
              "ticks": ""
             }
            },
            "type": "scattercarpet"
           }
          ],
          "scattergeo": [
           {
            "marker": {
             "colorbar": {
              "outlinewidth": 0,
              "ticks": ""
             }
            },
            "type": "scattergeo"
           }
          ],
          "scattergl": [
           {
            "marker": {
             "colorbar": {
              "outlinewidth": 0,
              "ticks": ""
             }
            },
            "type": "scattergl"
           }
          ],
          "scattermapbox": [
           {
            "marker": {
             "colorbar": {
              "outlinewidth": 0,
              "ticks": ""
             }
            },
            "type": "scattermapbox"
           }
          ],
          "scatterpolar": [
           {
            "marker": {
             "colorbar": {
              "outlinewidth": 0,
              "ticks": ""
             }
            },
            "type": "scatterpolar"
           }
          ],
          "scatterpolargl": [
           {
            "marker": {
             "colorbar": {
              "outlinewidth": 0,
              "ticks": ""
             }
            },
            "type": "scatterpolargl"
           }
          ],
          "scatterternary": [
           {
            "marker": {
             "colorbar": {
              "outlinewidth": 0,
              "ticks": ""
             }
            },
            "type": "scatterternary"
           }
          ],
          "surface": [
           {
            "colorbar": {
             "outlinewidth": 0,
             "ticks": ""
            },
            "colorscale": [
             [
              0,
              "#0d0887"
             ],
             [
              0.1111111111111111,
              "#46039f"
             ],
             [
              0.2222222222222222,
              "#7201a8"
             ],
             [
              0.3333333333333333,
              "#9c179e"
             ],
             [
              0.4444444444444444,
              "#bd3786"
             ],
             [
              0.5555555555555556,
              "#d8576b"
             ],
             [
              0.6666666666666666,
              "#ed7953"
             ],
             [
              0.7777777777777778,
              "#fb9f3a"
             ],
             [
              0.8888888888888888,
              "#fdca26"
             ],
             [
              1,
              "#f0f921"
             ]
            ],
            "type": "surface"
           }
          ],
          "table": [
           {
            "cells": {
             "fill": {
              "color": "#EBF0F8"
             },
             "line": {
              "color": "white"
             }
            },
            "header": {
             "fill": {
              "color": "#C8D4E3"
             },
             "line": {
              "color": "white"
             }
            },
            "type": "table"
           }
          ]
         },
         "layout": {
          "annotationdefaults": {
           "arrowcolor": "#2a3f5f",
           "arrowhead": 0,
           "arrowwidth": 1
          },
          "autotypenumbers": "strict",
          "coloraxis": {
           "colorbar": {
            "outlinewidth": 0,
            "ticks": ""
           }
          },
          "colorscale": {
           "diverging": [
            [
             0,
             "#8e0152"
            ],
            [
             0.1,
             "#c51b7d"
            ],
            [
             0.2,
             "#de77ae"
            ],
            [
             0.3,
             "#f1b6da"
            ],
            [
             0.4,
             "#fde0ef"
            ],
            [
             0.5,
             "#f7f7f7"
            ],
            [
             0.6,
             "#e6f5d0"
            ],
            [
             0.7,
             "#b8e186"
            ],
            [
             0.8,
             "#7fbc41"
            ],
            [
             0.9,
             "#4d9221"
            ],
            [
             1,
             "#276419"
            ]
           ],
           "sequential": [
            [
             0,
             "#0d0887"
            ],
            [
             0.1111111111111111,
             "#46039f"
            ],
            [
             0.2222222222222222,
             "#7201a8"
            ],
            [
             0.3333333333333333,
             "#9c179e"
            ],
            [
             0.4444444444444444,
             "#bd3786"
            ],
            [
             0.5555555555555556,
             "#d8576b"
            ],
            [
             0.6666666666666666,
             "#ed7953"
            ],
            [
             0.7777777777777778,
             "#fb9f3a"
            ],
            [
             0.8888888888888888,
             "#fdca26"
            ],
            [
             1,
             "#f0f921"
            ]
           ],
           "sequentialminus": [
            [
             0,
             "#0d0887"
            ],
            [
             0.1111111111111111,
             "#46039f"
            ],
            [
             0.2222222222222222,
             "#7201a8"
            ],
            [
             0.3333333333333333,
             "#9c179e"
            ],
            [
             0.4444444444444444,
             "#bd3786"
            ],
            [
             0.5555555555555556,
             "#d8576b"
            ],
            [
             0.6666666666666666,
             "#ed7953"
            ],
            [
             0.7777777777777778,
             "#fb9f3a"
            ],
            [
             0.8888888888888888,
             "#fdca26"
            ],
            [
             1,
             "#f0f921"
            ]
           ]
          },
          "colorway": [
           "#636efa",
           "#EF553B",
           "#00cc96",
           "#ab63fa",
           "#FFA15A",
           "#19d3f3",
           "#FF6692",
           "#B6E880",
           "#FF97FF",
           "#FECB52"
          ],
          "font": {
           "color": "#2a3f5f"
          },
          "geo": {
           "bgcolor": "white",
           "lakecolor": "white",
           "landcolor": "white",
           "showlakes": true,
           "showland": true,
           "subunitcolor": "#C8D4E3"
          },
          "hoverlabel": {
           "align": "left"
          },
          "hovermode": "closest",
          "mapbox": {
           "style": "light"
          },
          "paper_bgcolor": "white",
          "plot_bgcolor": "white",
          "polar": {
           "angularaxis": {
            "gridcolor": "#EBF0F8",
            "linecolor": "#EBF0F8",
            "ticks": ""
           },
           "bgcolor": "white",
           "radialaxis": {
            "gridcolor": "#EBF0F8",
            "linecolor": "#EBF0F8",
            "ticks": ""
           }
          },
          "scene": {
           "xaxis": {
            "backgroundcolor": "white",
            "gridcolor": "#DFE8F3",
            "gridwidth": 2,
            "linecolor": "#EBF0F8",
            "showbackground": true,
            "ticks": "",
            "zerolinecolor": "#EBF0F8"
           },
           "yaxis": {
            "backgroundcolor": "white",
            "gridcolor": "#DFE8F3",
            "gridwidth": 2,
            "linecolor": "#EBF0F8",
            "showbackground": true,
            "ticks": "",
            "zerolinecolor": "#EBF0F8"
           },
           "zaxis": {
            "backgroundcolor": "white",
            "gridcolor": "#DFE8F3",
            "gridwidth": 2,
            "linecolor": "#EBF0F8",
            "showbackground": true,
            "ticks": "",
            "zerolinecolor": "#EBF0F8"
           }
          },
          "shapedefaults": {
           "line": {
            "color": "#2a3f5f"
           }
          },
          "ternary": {
           "aaxis": {
            "gridcolor": "#DFE8F3",
            "linecolor": "#A2B1C6",
            "ticks": ""
           },
           "baxis": {
            "gridcolor": "#DFE8F3",
            "linecolor": "#A2B1C6",
            "ticks": ""
           },
           "bgcolor": "white",
           "caxis": {
            "gridcolor": "#DFE8F3",
            "linecolor": "#A2B1C6",
            "ticks": ""
           }
          },
          "title": {
           "x": 0.05
          },
          "xaxis": {
           "automargin": true,
           "gridcolor": "#EBF0F8",
           "linecolor": "#EBF0F8",
           "ticks": "",
           "title": {
            "standoff": 15
           },
           "zerolinecolor": "#EBF0F8",
           "zerolinewidth": 2
          },
          "yaxis": {
           "automargin": true,
           "gridcolor": "#EBF0F8",
           "linecolor": "#EBF0F8",
           "ticks": "",
           "title": {
            "standoff": 15
           },
           "zerolinecolor": "#EBF0F8",
           "zerolinewidth": 2
          }
         }
        },
        "title": {
         "font": {
          "size": 20
         },
         "text": "Entropy Bias by Block size for BTCUSDT",
         "x": 0.5,
         "xanchor": "center"
        },
        "width": 900,
        "xaxis": {
         "title": {
          "font": {
           "size": 16
          },
          "text": "By Block size"
         }
        },
        "yaxis": {
         "title": {
          "font": {
           "size": 16
          },
          "text": "Entropy Bias statistic and quantile 99%"
         }
        }
       }
      }
     },
     "metadata": {},
     "output_type": "display_data"
    }
   ],
   "source": [
    "plot_test(x_values=df_test_block.index, \n",
    "          y1_values=df_test_block['Test statistic'].values,\n",
    "          y2_values=df_test_block['Quantile 99'].values,\n",
    "          test='Entropy Bias',\n",
    "          x_label='Block size',\n",
    "          pair='BTCUSDT')"
   ]
  },
  {
   "cell_type": "code",
   "execution_count": 10,
   "id": "0d387f47",
   "metadata": {},
   "outputs": [],
   "source": [
    "btc_multi_tester = MultiTester(asset='BTCUSDT',symbols=symbols,overlapping=True)"
   ]
  },
  {
   "cell_type": "code",
   "execution_count": 11,
   "id": "25f60b48",
   "metadata": {},
   "outputs": [
    {
     "ename": "KeyboardInterrupt",
     "evalue": "",
     "output_type": "error",
     "traceback": [
      "\u001b[1;31m---------------------------------------------------------------------------\u001b[0m",
      "\u001b[1;31mKeyboardInterrupt\u001b[0m                         Traceback (most recent call last)",
      "Cell \u001b[1;32mIn[11], line 1\u001b[0m\n\u001b[1;32m----> 1\u001b[0m df_test_agg \u001b[38;5;241m=\u001b[39m \u001b[43mbtc_multi_tester\u001b[49m\u001b[38;5;241;43m.\u001b[39;49m\u001b[43mtest_by_aggregation_level\u001b[49m\u001b[43m(\u001b[49m\u001b[43mtest\u001b[49m\u001b[38;5;241;43m=\u001b[39;49m\u001b[38;5;124;43m'\u001b[39;49m\u001b[38;5;124;43mKL Divergence\u001b[39;49m\u001b[38;5;124;43m'\u001b[39;49m\u001b[43m,\u001b[49m\n\u001b[0;32m      2\u001b[0m \u001b[43m                                           \u001b[49m\u001b[43mmax_aggregation_level\u001b[49m\u001b[38;5;241;43m=\u001b[39;49m\u001b[38;5;241;43m10\u001b[39;49m\u001b[43m,\u001b[49m\n\u001b[0;32m      3\u001b[0m \u001b[43m                                           \u001b[49m\u001b[43myear\u001b[49m\u001b[38;5;241;43m=\u001b[39;49m\u001b[38;5;241;43m2024\u001b[39;49m\u001b[43m,\u001b[49m\n\u001b[0;32m      4\u001b[0m \u001b[43m                                           \u001b[49m\u001b[43mmonth\u001b[49m\u001b[38;5;241;43m=\u001b[39;49m\u001b[38;5;241;43m11\u001b[39;49m\u001b[43m,\u001b[49m\n\u001b[0;32m      5\u001b[0m \u001b[43m                                           \u001b[49m\u001b[43mday\u001b[49m\u001b[38;5;241;43m=\u001b[39;49m\u001b[38;5;241;43m5\u001b[39;49m\u001b[43m,\u001b[49m\n\u001b[0;32m      6\u001b[0m \u001b[43m                                           \u001b[49m\u001b[43mblock_size\u001b[49m\u001b[38;5;241;43m=\u001b[39;49m\u001b[38;5;241;43m2\u001b[39;49m\u001b[43m)\u001b[49m\n\u001b[0;32m      7\u001b[0m df_test_agg\n",
      "File \u001b[1;32mc:\\Users\\rabhi\\Documents\\Master 272 IEF - Dauphine\\M2\\S2\\Gestion Quantitative 2\\Price predictability at ultra-high frequency\\utils\\MultiTester.py:88\u001b[0m, in \u001b[0;36mMultiTester.test_by_aggregation_level\u001b[1;34m(self, test, max_aggregation_level, step, block_size, year, month, day)\u001b[0m\n\u001b[0;32m     86\u001b[0m     test_result \u001b[38;5;241m=\u001b[39m analysis\u001b[38;5;241m.\u001b[39mentropy_bias_test()\n\u001b[0;32m     87\u001b[0m \u001b[38;5;28;01melif\u001b[39;00m test \u001b[38;5;241m==\u001b[39m \u001b[38;5;124m'\u001b[39m\u001b[38;5;124mNP Statistic\u001b[39m\u001b[38;5;124m'\u001b[39m:\n\u001b[1;32m---> 88\u001b[0m     test_result \u001b[38;5;241m=\u001b[39m \u001b[43manalysis\u001b[49m\u001b[38;5;241;43m.\u001b[39;49m\u001b[43mKL_divergence_test\u001b[49m\u001b[43m(\u001b[49m\u001b[43m)\u001b[49m\n\u001b[0;32m     89\u001b[0m \u001b[38;5;28;01melse\u001b[39;00m:\n\u001b[0;32m     90\u001b[0m     \u001b[38;5;28;01mraise\u001b[39;00m \u001b[38;5;167;01mValueError\u001b[39;00m(\u001b[38;5;124m\"\u001b[39m\u001b[38;5;124mInvalid test type. Use \u001b[39m\u001b[38;5;124m'\u001b[39m\u001b[38;5;124mEntropy Bias\u001b[39m\u001b[38;5;124m'\u001b[39m\u001b[38;5;124m or \u001b[39m\u001b[38;5;124m'\u001b[39m\u001b[38;5;124mNP Statistic\u001b[39m\u001b[38;5;124m'\u001b[39m\u001b[38;5;124m.\u001b[39m\u001b[38;5;124m\"\u001b[39m)\n",
      "File \u001b[1;32mc:\\Users\\rabhi\\Documents\\Master 272 IEF - Dauphine\\M2\\S2\\Gestion Quantitative 2\\Price predictability at ultra-high frequency\\main\\RandomnessAnalysis.py:104\u001b[0m, in \u001b[0;36mRandomnessAnalysis.KL_divergence_test\u001b[1;34m(self, m)\u001b[0m\n\u001b[0;32m    102\u001b[0m \u001b[38;5;28;01mdef\u001b[39;00m \u001b[38;5;21mKL_divergence_test\u001b[39m(\u001b[38;5;28mself\u001b[39m,m\u001b[38;5;241m=\u001b[39m\u001b[38;5;241m1\u001b[39m):\n\u001b[1;32m--> 104\u001b[0m     D \u001b[38;5;241m=\u001b[39m \u001b[38;5;28;43mself\u001b[39;49m\u001b[38;5;241;43m.\u001b[39;49m\u001b[43mKL_divergence\u001b[49m\u001b[43m(\u001b[49m\u001b[43m)\u001b[49m\n\u001b[0;32m    105\u001b[0m     df \u001b[38;5;241m=\u001b[39m (\u001b[38;5;28mself\u001b[39m\u001b[38;5;241m.\u001b[39ms\u001b[38;5;241m*\u001b[39m\u001b[38;5;241m*\u001b[39m(\u001b[38;5;28mself\u001b[39m\u001b[38;5;241m.\u001b[39mk\u001b[38;5;241m-\u001b[39m\u001b[38;5;241m1\u001b[39m) \u001b[38;5;241m-\u001b[39m \u001b[38;5;241m1\u001b[39m) \u001b[38;5;241m*\u001b[39m (\u001b[38;5;28mself\u001b[39m\u001b[38;5;241m.\u001b[39ms \u001b[38;5;241m-\u001b[39m \u001b[38;5;241m1\u001b[39m)\n\u001b[0;32m    107\u001b[0m     alpha_90 \u001b[38;5;241m=\u001b[39m \u001b[38;5;241m1\u001b[39m \u001b[38;5;241m-\u001b[39m (\u001b[38;5;241m1\u001b[39m \u001b[38;5;241m-\u001b[39m \u001b[38;5;241m0.1\u001b[39m) \u001b[38;5;241m*\u001b[39m\u001b[38;5;241m*\u001b[39m (\u001b[38;5;241m1\u001b[39m \u001b[38;5;241m/\u001b[39m m)\n",
      "File \u001b[1;32mc:\\Users\\rabhi\\Documents\\Master 272 IEF - Dauphine\\M2\\S2\\Gestion Quantitative 2\\Price predictability at ultra-high frequency\\main\\RandomnessAnalysis.py:87\u001b[0m, in \u001b[0;36mRandomnessAnalysis.KL_divergence\u001b[1;34m(self)\u001b[0m\n\u001b[0;32m     84\u001b[0m f_dot_j \u001b[38;5;241m=\u001b[39m Counter()\n\u001b[0;32m     86\u001b[0m \u001b[38;5;28;01mfor\u001b[39;00m i \u001b[38;5;129;01min\u001b[39;00m \u001b[38;5;28mrange\u001b[39m(\u001b[38;5;28mself\u001b[39m\u001b[38;5;241m.\u001b[39mn_blocks):\n\u001b[1;32m---> 87\u001b[0m     block_i \u001b[38;5;241m=\u001b[39m \u001b[38;5;28mtuple\u001b[39m(\u001b[38;5;28;43mself\u001b[39;49m\u001b[38;5;241;43m.\u001b[39;49m\u001b[43mblocks_df\u001b[49m\u001b[38;5;241;43m.\u001b[39;49m\u001b[43miloc\u001b[49m\u001b[43m[\u001b[49m\u001b[43mi\u001b[49m\u001b[43m,\u001b[49m\u001b[43m:\u001b[49m\u001b[38;5;241;43m-\u001b[39;49m\u001b[38;5;241;43m1\u001b[39;49m\u001b[43m]\u001b[49m\u001b[38;5;241;43m.\u001b[39;49m\u001b[43mvalues\u001b[49m\u001b[38;5;241;43m.\u001b[39;49m\u001b[43mflatten\u001b[49m\u001b[43m(\u001b[49m\u001b[43m)\u001b[49m)\n\u001b[0;32m     88\u001b[0m     symbol_j \u001b[38;5;241m=\u001b[39m \u001b[38;5;28mself\u001b[39m\u001b[38;5;241m.\u001b[39mblocks_df\u001b[38;5;241m.\u001b[39miloc[i, \u001b[38;5;241m-\u001b[39m\u001b[38;5;241m1\u001b[39m]\n\u001b[0;32m     89\u001b[0m     f_ij[(block_i, symbol_j)] \u001b[38;5;241m+\u001b[39m\u001b[38;5;241m=\u001b[39m \u001b[38;5;241m1\u001b[39m\n",
      "\u001b[1;31mKeyboardInterrupt\u001b[0m: "
     ]
    }
   ],
   "source": [
    "df_test_agg = btc_multi_tester.test_by_aggregation_level(test='NP Statistic',\n",
    "                                           max_aggregation_level=10,\n",
    "                                           year=2024,\n",
    "                                           month=11,\n",
    "                                           day=5,\n",
    "                                           block_size=2)\n",
    "df_test_agg"
   ]
  },
  {
   "cell_type": "code",
   "execution_count": null,
   "id": "5966b3c8",
   "metadata": {},
   "outputs": [
    {
     "data": {
      "application/vnd.plotly.v1+json": {
       "config": {
        "plotlyServerURL": "https://plot.ly"
       },
       "data": [
        {
         "line": {
          "color": "dark red",
          "width": 2
         },
         "mode": "lines",
         "name": "Test statistic",
         "type": "scatter",
         "x": [
          1,
          2,
          3,
          4,
          5,
          6,
          7,
          8,
          9,
          10
         ],
         "y": [
          196063.17640097556,
          317357.8881908226,
          295681.5733783051,
          274670.8271689462,
          258005.67917000482,
          243123.3607201662,
          225318.10714502973,
          208009.31520703115,
          193073.19466050377,
          181569.89478358053
         ]
        },
        {
         "line": {
          "color": "dark green",
          "width": 2
         },
         "mode": "lines",
         "name": "Quantile 99%",
         "type": "scatter",
         "x": [
          1,
          2,
          3,
          4,
          5,
          6,
          7,
          8,
          9,
          10
         ],
         "y": [
          6.6348966010212145,
          6.6348966010212145,
          6.6348966010212145,
          6.6348966010212145,
          6.6348966010212145,
          6.6348966010212145,
          6.6348966010212145,
          6.6348966010212145,
          6.6348966010212145,
          6.6348966010212145
         ]
        }
       ],
       "layout": {
        "height": 700,
        "legend": {
         "x": 0.99,
         "xanchor": "left",
         "y": 0.99,
         "yanchor": "top"
        },
        "template": {
         "data": {
          "bar": [
           {
            "error_x": {
             "color": "#2a3f5f"
            },
            "error_y": {
             "color": "#2a3f5f"
            },
            "marker": {
             "line": {
              "color": "white",
              "width": 0.5
             },
             "pattern": {
              "fillmode": "overlay",
              "size": 10,
              "solidity": 0.2
             }
            },
            "type": "bar"
           }
          ],
          "barpolar": [
           {
            "marker": {
             "line": {
              "color": "white",
              "width": 0.5
             },
             "pattern": {
              "fillmode": "overlay",
              "size": 10,
              "solidity": 0.2
             }
            },
            "type": "barpolar"
           }
          ],
          "carpet": [
           {
            "aaxis": {
             "endlinecolor": "#2a3f5f",
             "gridcolor": "#C8D4E3",
             "linecolor": "#C8D4E3",
             "minorgridcolor": "#C8D4E3",
             "startlinecolor": "#2a3f5f"
            },
            "baxis": {
             "endlinecolor": "#2a3f5f",
             "gridcolor": "#C8D4E3",
             "linecolor": "#C8D4E3",
             "minorgridcolor": "#C8D4E3",
             "startlinecolor": "#2a3f5f"
            },
            "type": "carpet"
           }
          ],
          "choropleth": [
           {
            "colorbar": {
             "outlinewidth": 0,
             "ticks": ""
            },
            "type": "choropleth"
           }
          ],
          "contour": [
           {
            "colorbar": {
             "outlinewidth": 0,
             "ticks": ""
            },
            "colorscale": [
             [
              0,
              "#0d0887"
             ],
             [
              0.1111111111111111,
              "#46039f"
             ],
             [
              0.2222222222222222,
              "#7201a8"
             ],
             [
              0.3333333333333333,
              "#9c179e"
             ],
             [
              0.4444444444444444,
              "#bd3786"
             ],
             [
              0.5555555555555556,
              "#d8576b"
             ],
             [
              0.6666666666666666,
              "#ed7953"
             ],
             [
              0.7777777777777778,
              "#fb9f3a"
             ],
             [
              0.8888888888888888,
              "#fdca26"
             ],
             [
              1,
              "#f0f921"
             ]
            ],
            "type": "contour"
           }
          ],
          "contourcarpet": [
           {
            "colorbar": {
             "outlinewidth": 0,
             "ticks": ""
            },
            "type": "contourcarpet"
           }
          ],
          "heatmap": [
           {
            "colorbar": {
             "outlinewidth": 0,
             "ticks": ""
            },
            "colorscale": [
             [
              0,
              "#0d0887"
             ],
             [
              0.1111111111111111,
              "#46039f"
             ],
             [
              0.2222222222222222,
              "#7201a8"
             ],
             [
              0.3333333333333333,
              "#9c179e"
             ],
             [
              0.4444444444444444,
              "#bd3786"
             ],
             [
              0.5555555555555556,
              "#d8576b"
             ],
             [
              0.6666666666666666,
              "#ed7953"
             ],
             [
              0.7777777777777778,
              "#fb9f3a"
             ],
             [
              0.8888888888888888,
              "#fdca26"
             ],
             [
              1,
              "#f0f921"
             ]
            ],
            "type": "heatmap"
           }
          ],
          "heatmapgl": [
           {
            "colorbar": {
             "outlinewidth": 0,
             "ticks": ""
            },
            "colorscale": [
             [
              0,
              "#0d0887"
             ],
             [
              0.1111111111111111,
              "#46039f"
             ],
             [
              0.2222222222222222,
              "#7201a8"
             ],
             [
              0.3333333333333333,
              "#9c179e"
             ],
             [
              0.4444444444444444,
              "#bd3786"
             ],
             [
              0.5555555555555556,
              "#d8576b"
             ],
             [
              0.6666666666666666,
              "#ed7953"
             ],
             [
              0.7777777777777778,
              "#fb9f3a"
             ],
             [
              0.8888888888888888,
              "#fdca26"
             ],
             [
              1,
              "#f0f921"
             ]
            ],
            "type": "heatmapgl"
           }
          ],
          "histogram": [
           {
            "marker": {
             "pattern": {
              "fillmode": "overlay",
              "size": 10,
              "solidity": 0.2
             }
            },
            "type": "histogram"
           }
          ],
          "histogram2d": [
           {
            "colorbar": {
             "outlinewidth": 0,
             "ticks": ""
            },
            "colorscale": [
             [
              0,
              "#0d0887"
             ],
             [
              0.1111111111111111,
              "#46039f"
             ],
             [
              0.2222222222222222,
              "#7201a8"
             ],
             [
              0.3333333333333333,
              "#9c179e"
             ],
             [
              0.4444444444444444,
              "#bd3786"
             ],
             [
              0.5555555555555556,
              "#d8576b"
             ],
             [
              0.6666666666666666,
              "#ed7953"
             ],
             [
              0.7777777777777778,
              "#fb9f3a"
             ],
             [
              0.8888888888888888,
              "#fdca26"
             ],
             [
              1,
              "#f0f921"
             ]
            ],
            "type": "histogram2d"
           }
          ],
          "histogram2dcontour": [
           {
            "colorbar": {
             "outlinewidth": 0,
             "ticks": ""
            },
            "colorscale": [
             [
              0,
              "#0d0887"
             ],
             [
              0.1111111111111111,
              "#46039f"
             ],
             [
              0.2222222222222222,
              "#7201a8"
             ],
             [
              0.3333333333333333,
              "#9c179e"
             ],
             [
              0.4444444444444444,
              "#bd3786"
             ],
             [
              0.5555555555555556,
              "#d8576b"
             ],
             [
              0.6666666666666666,
              "#ed7953"
             ],
             [
              0.7777777777777778,
              "#fb9f3a"
             ],
             [
              0.8888888888888888,
              "#fdca26"
             ],
             [
              1,
              "#f0f921"
             ]
            ],
            "type": "histogram2dcontour"
           }
          ],
          "mesh3d": [
           {
            "colorbar": {
             "outlinewidth": 0,
             "ticks": ""
            },
            "type": "mesh3d"
           }
          ],
          "parcoords": [
           {
            "line": {
             "colorbar": {
              "outlinewidth": 0,
              "ticks": ""
             }
            },
            "type": "parcoords"
           }
          ],
          "pie": [
           {
            "automargin": true,
            "type": "pie"
           }
          ],
          "scatter": [
           {
            "fillpattern": {
             "fillmode": "overlay",
             "size": 10,
             "solidity": 0.2
            },
            "type": "scatter"
           }
          ],
          "scatter3d": [
           {
            "line": {
             "colorbar": {
              "outlinewidth": 0,
              "ticks": ""
             }
            },
            "marker": {
             "colorbar": {
              "outlinewidth": 0,
              "ticks": ""
             }
            },
            "type": "scatter3d"
           }
          ],
          "scattercarpet": [
           {
            "marker": {
             "colorbar": {
              "outlinewidth": 0,
              "ticks": ""
             }
            },
            "type": "scattercarpet"
           }
          ],
          "scattergeo": [
           {
            "marker": {
             "colorbar": {
              "outlinewidth": 0,
              "ticks": ""
             }
            },
            "type": "scattergeo"
           }
          ],
          "scattergl": [
           {
            "marker": {
             "colorbar": {
              "outlinewidth": 0,
              "ticks": ""
             }
            },
            "type": "scattergl"
           }
          ],
          "scattermapbox": [
           {
            "marker": {
             "colorbar": {
              "outlinewidth": 0,
              "ticks": ""
             }
            },
            "type": "scattermapbox"
           }
          ],
          "scatterpolar": [
           {
            "marker": {
             "colorbar": {
              "outlinewidth": 0,
              "ticks": ""
             }
            },
            "type": "scatterpolar"
           }
          ],
          "scatterpolargl": [
           {
            "marker": {
             "colorbar": {
              "outlinewidth": 0,
              "ticks": ""
             }
            },
            "type": "scatterpolargl"
           }
          ],
          "scatterternary": [
           {
            "marker": {
             "colorbar": {
              "outlinewidth": 0,
              "ticks": ""
             }
            },
            "type": "scatterternary"
           }
          ],
          "surface": [
           {
            "colorbar": {
             "outlinewidth": 0,
             "ticks": ""
            },
            "colorscale": [
             [
              0,
              "#0d0887"
             ],
             [
              0.1111111111111111,
              "#46039f"
             ],
             [
              0.2222222222222222,
              "#7201a8"
             ],
             [
              0.3333333333333333,
              "#9c179e"
             ],
             [
              0.4444444444444444,
              "#bd3786"
             ],
             [
              0.5555555555555556,
              "#d8576b"
             ],
             [
              0.6666666666666666,
              "#ed7953"
             ],
             [
              0.7777777777777778,
              "#fb9f3a"
             ],
             [
              0.8888888888888888,
              "#fdca26"
             ],
             [
              1,
              "#f0f921"
             ]
            ],
            "type": "surface"
           }
          ],
          "table": [
           {
            "cells": {
             "fill": {
              "color": "#EBF0F8"
             },
             "line": {
              "color": "white"
             }
            },
            "header": {
             "fill": {
              "color": "#C8D4E3"
             },
             "line": {
              "color": "white"
             }
            },
            "type": "table"
           }
          ]
         },
         "layout": {
          "annotationdefaults": {
           "arrowcolor": "#2a3f5f",
           "arrowhead": 0,
           "arrowwidth": 1
          },
          "autotypenumbers": "strict",
          "coloraxis": {
           "colorbar": {
            "outlinewidth": 0,
            "ticks": ""
           }
          },
          "colorscale": {
           "diverging": [
            [
             0,
             "#8e0152"
            ],
            [
             0.1,
             "#c51b7d"
            ],
            [
             0.2,
             "#de77ae"
            ],
            [
             0.3,
             "#f1b6da"
            ],
            [
             0.4,
             "#fde0ef"
            ],
            [
             0.5,
             "#f7f7f7"
            ],
            [
             0.6,
             "#e6f5d0"
            ],
            [
             0.7,
             "#b8e186"
            ],
            [
             0.8,
             "#7fbc41"
            ],
            [
             0.9,
             "#4d9221"
            ],
            [
             1,
             "#276419"
            ]
           ],
           "sequential": [
            [
             0,
             "#0d0887"
            ],
            [
             0.1111111111111111,
             "#46039f"
            ],
            [
             0.2222222222222222,
             "#7201a8"
            ],
            [
             0.3333333333333333,
             "#9c179e"
            ],
            [
             0.4444444444444444,
             "#bd3786"
            ],
            [
             0.5555555555555556,
             "#d8576b"
            ],
            [
             0.6666666666666666,
             "#ed7953"
            ],
            [
             0.7777777777777778,
             "#fb9f3a"
            ],
            [
             0.8888888888888888,
             "#fdca26"
            ],
            [
             1,
             "#f0f921"
            ]
           ],
           "sequentialminus": [
            [
             0,
             "#0d0887"
            ],
            [
             0.1111111111111111,
             "#46039f"
            ],
            [
             0.2222222222222222,
             "#7201a8"
            ],
            [
             0.3333333333333333,
             "#9c179e"
            ],
            [
             0.4444444444444444,
             "#bd3786"
            ],
            [
             0.5555555555555556,
             "#d8576b"
            ],
            [
             0.6666666666666666,
             "#ed7953"
            ],
            [
             0.7777777777777778,
             "#fb9f3a"
            ],
            [
             0.8888888888888888,
             "#fdca26"
            ],
            [
             1,
             "#f0f921"
            ]
           ]
          },
          "colorway": [
           "#636efa",
           "#EF553B",
           "#00cc96",
           "#ab63fa",
           "#FFA15A",
           "#19d3f3",
           "#FF6692",
           "#B6E880",
           "#FF97FF",
           "#FECB52"
          ],
          "font": {
           "color": "#2a3f5f"
          },
          "geo": {
           "bgcolor": "white",
           "lakecolor": "white",
           "landcolor": "white",
           "showlakes": true,
           "showland": true,
           "subunitcolor": "#C8D4E3"
          },
          "hoverlabel": {
           "align": "left"
          },
          "hovermode": "closest",
          "mapbox": {
           "style": "light"
          },
          "paper_bgcolor": "white",
          "plot_bgcolor": "white",
          "polar": {
           "angularaxis": {
            "gridcolor": "#EBF0F8",
            "linecolor": "#EBF0F8",
            "ticks": ""
           },
           "bgcolor": "white",
           "radialaxis": {
            "gridcolor": "#EBF0F8",
            "linecolor": "#EBF0F8",
            "ticks": ""
           }
          },
          "scene": {
           "xaxis": {
            "backgroundcolor": "white",
            "gridcolor": "#DFE8F3",
            "gridwidth": 2,
            "linecolor": "#EBF0F8",
            "showbackground": true,
            "ticks": "",
            "zerolinecolor": "#EBF0F8"
           },
           "yaxis": {
            "backgroundcolor": "white",
            "gridcolor": "#DFE8F3",
            "gridwidth": 2,
            "linecolor": "#EBF0F8",
            "showbackground": true,
            "ticks": "",
            "zerolinecolor": "#EBF0F8"
           },
           "zaxis": {
            "backgroundcolor": "white",
            "gridcolor": "#DFE8F3",
            "gridwidth": 2,
            "linecolor": "#EBF0F8",
            "showbackground": true,
            "ticks": "",
            "zerolinecolor": "#EBF0F8"
           }
          },
          "shapedefaults": {
           "line": {
            "color": "#2a3f5f"
           }
          },
          "ternary": {
           "aaxis": {
            "gridcolor": "#DFE8F3",
            "linecolor": "#A2B1C6",
            "ticks": ""
           },
           "baxis": {
            "gridcolor": "#DFE8F3",
            "linecolor": "#A2B1C6",
            "ticks": ""
           },
           "bgcolor": "white",
           "caxis": {
            "gridcolor": "#DFE8F3",
            "linecolor": "#A2B1C6",
            "ticks": ""
           }
          },
          "title": {
           "x": 0.05
          },
          "xaxis": {
           "automargin": true,
           "gridcolor": "#EBF0F8",
           "linecolor": "#EBF0F8",
           "ticks": "",
           "title": {
            "standoff": 15
           },
           "zerolinecolor": "#EBF0F8",
           "zerolinewidth": 2
          },
          "yaxis": {
           "automargin": true,
           "gridcolor": "#EBF0F8",
           "linecolor": "#EBF0F8",
           "ticks": "",
           "title": {
            "standoff": 15
           },
           "zerolinecolor": "#EBF0F8",
           "zerolinewidth": 2
          }
         }
        },
        "title": {
         "font": {
          "size": 20
         },
         "text": "KL Divergence by Aggregation level for BTCUSDT",
         "x": 0.5,
         "xanchor": "center"
        },
        "width": 900,
        "xaxis": {
         "title": {
          "font": {
           "size": 16
          },
          "text": "By Aggregation level"
         }
        },
        "yaxis": {
         "title": {
          "font": {
           "size": 16
          },
          "text": "KL Divergence statistic and quantile 99%"
         }
        }
       }
      }
     },
     "metadata": {},
     "output_type": "display_data"
    }
   ],
   "source": [
    "plot_test(x_values=df_test_agg.index, \n",
    "          y1_values=df_test_agg['Test statistic'].values,\n",
    "          y2_values=df_test_agg['Quantile 99'].values,\n",
    "          test='NP Statistic',\n",
    "          x_label='Aggregation level',\n",
    "          pair='BTCUSDT')"
   ]
  },
  {
   "cell_type": "markdown",
   "id": "96c00479",
   "metadata": {},
   "source": [
    "It is also possible to perfom multiple hypothesis tests by block size and by aggregation level and see the test results in a 3D plot with the method `plot_3D_test_result()`."
   ]
  },
  {
   "cell_type": "code",
   "execution_count": 18,
   "id": "aaeab359",
   "metadata": {},
   "outputs": [],
   "source": [
    "import importlib\n",
    "import utils.MultiTester\n",
    "importlib.reload(utils.MultiTester)\n",
    "from utils.MultiTester import MultiTester"
   ]
  },
  {
   "cell_type": "code",
   "execution_count": null,
   "id": "505a9f16",
   "metadata": {},
   "outputs": [],
   "source": [
    "btc_multi_tester = MultiTester(asset='BTCUSDT',symbols=symbols,overlapping=False)\n",
    "btc_multi_tester.plot_3D_test_result(asset='BTCUSDT',\n",
    "                                     test='Entropy Bias',\n",
    "                                     max_block_size=15,\n",
    "                                     year=2024,month=11,\n",
    "                                     max_aggregation_level=50)"
   ]
  },
  {
   "cell_type": "markdown",
   "id": "f67c0e58",
   "metadata": {},
   "source": [
    "To generate articial transaction data and see the fraction of predictable days by aggregation level and by time lag, the class `DataGenerator()` has 3 methods related to 3 different models to produce those charts:\n",
    "- `lambda_model()` generate the data according to the λ-model\n",
    "- `OD_model()` generate the data according to the Order Driven model\n",
    "- `TS_model()` generate the data according to the TS model\n",
    "\n",
    "In each method, with the argument `plots`, one can specify if he wants the two charts of fraction of predictable days by aggregation level and by time lag (`plots=(True,True)`) or just one chart."
   ]
  },
  {
   "cell_type": "code",
   "execution_count": null,
   "id": "a9fb28fb",
   "metadata": {},
   "outputs": [
    {
     "name": "stdout",
     "output_type": "stream",
     "text": [
      "Day 1/2\n"
     ]
    },
    {
     "ename": "KeyboardInterrupt",
     "evalue": "",
     "output_type": "error",
     "traceback": [
      "\u001b[1;31m---------------------------------------------------------------------------\u001b[0m",
      "\u001b[1;31mKeyboardInterrupt\u001b[0m                         Traceback (most recent call last)",
      "Cell \u001b[1;32mIn[3], line 2\u001b[0m\n\u001b[0;32m      1\u001b[0m data_gen \u001b[38;5;241m=\u001b[39m DataGenerator()\n\u001b[1;32m----> 2\u001b[0m \u001b[43mdata_gen\u001b[49m\u001b[38;5;241;43m.\u001b[39;49m\u001b[43mlambda_model\u001b[49m\u001b[43m(\u001b[49m\u001b[43mtest\u001b[49m\u001b[38;5;241;43m=\u001b[39;49m\u001b[38;5;124;43m'\u001b[39;49m\u001b[38;5;124;43mKL Divergence\u001b[39;49m\u001b[38;5;124;43m'\u001b[39;49m\u001b[43m,\u001b[49m\n\u001b[0;32m      3\u001b[0m \u001b[43m                      \u001b[49m\u001b[43moverlapping\u001b[49m\u001b[38;5;241;43m=\u001b[39;49m\u001b[38;5;28;43;01mTrue\u001b[39;49;00m\u001b[43m,\u001b[49m\n\u001b[0;32m      4\u001b[0m \u001b[43m                      \u001b[49m\u001b[43mmax_aggregation_level\u001b[49m\u001b[38;5;241;43m=\u001b[39;49m\u001b[38;5;241;43m5\u001b[39;49m\u001b[43m,\u001b[49m\n\u001b[0;32m      5\u001b[0m \u001b[43m                      \u001b[49m\u001b[43mmax_time_lag\u001b[49m\u001b[38;5;241;43m=\u001b[39;49m\u001b[38;5;241;43m5\u001b[39;49m\u001b[43m,\u001b[49m\n\u001b[0;32m      6\u001b[0m \u001b[43m                      \u001b[49m\u001b[43mn_days\u001b[49m\u001b[38;5;241;43m=\u001b[39;49m\u001b[38;5;241;43m2\u001b[39;49m\u001b[43m,\u001b[49m\n\u001b[0;32m      7\u001b[0m \u001b[43m                      \u001b[49m\u001b[43mplots\u001b[49m\u001b[38;5;241;43m=\u001b[39;49m\u001b[43m(\u001b[49m\u001b[38;5;28;43;01mFalse\u001b[39;49;00m\u001b[43m,\u001b[49m\u001b[38;5;28;43;01mTrue\u001b[39;49;00m\u001b[43m)\u001b[49m\u001b[43m)\u001b[49m\n\u001b[0;32m      8\u001b[0m data_gen\u001b[38;5;241m.\u001b[39mOD_model(test\u001b[38;5;241m=\u001b[39m\u001b[38;5;124m'\u001b[39m\u001b[38;5;124mKL Divergence\u001b[39m\u001b[38;5;124m'\u001b[39m,\n\u001b[0;32m      9\u001b[0m                   overlapping\u001b[38;5;241m=\u001b[39m\u001b[38;5;28;01mTrue\u001b[39;00m,\n\u001b[0;32m     10\u001b[0m                   max_aggregation_level\u001b[38;5;241m=\u001b[39m\u001b[38;5;241m5\u001b[39m,\n\u001b[0;32m     11\u001b[0m                   max_time_lag\u001b[38;5;241m=\u001b[39m\u001b[38;5;241m5\u001b[39m,\n\u001b[0;32m     12\u001b[0m                   n_days\u001b[38;5;241m=\u001b[39m\u001b[38;5;241m2\u001b[39m,\n\u001b[0;32m     13\u001b[0m                   plots\u001b[38;5;241m=\u001b[39m(\u001b[38;5;28;01mFalse\u001b[39;00m,\u001b[38;5;28;01mTrue\u001b[39;00m))\n\u001b[0;32m     14\u001b[0m data_gen\u001b[38;5;241m.\u001b[39mTS_model(test\u001b[38;5;241m=\u001b[39m\u001b[38;5;124m'\u001b[39m\u001b[38;5;124mKL Divergence\u001b[39m\u001b[38;5;124m'\u001b[39m,\n\u001b[0;32m     15\u001b[0m                   overlapping\u001b[38;5;241m=\u001b[39m\u001b[38;5;28;01mTrue\u001b[39;00m,\n\u001b[0;32m     16\u001b[0m                   max_aggregation_level\u001b[38;5;241m=\u001b[39m\u001b[38;5;241m10\u001b[39m,\n\u001b[0;32m     17\u001b[0m                   max_time_lag\u001b[38;5;241m=\u001b[39m\u001b[38;5;241m5\u001b[39m,\n\u001b[0;32m     18\u001b[0m                   n_days\u001b[38;5;241m=\u001b[39m\u001b[38;5;241m2\u001b[39m,\n\u001b[0;32m     19\u001b[0m                   plots\u001b[38;5;241m=\u001b[39m(\u001b[38;5;28;01mFalse\u001b[39;00m,\u001b[38;5;28;01mTrue\u001b[39;00m))\n",
      "File \u001b[1;32mc:\\Users\\rabhi\\Documents\\Master 272 IEF - Dauphine\\M2\\S2\\Gestion Quantitative 2\\Price predictability at ultra-high frequency\\data\\DataGenerator.py:59\u001b[0m, in \u001b[0;36mDataGenerator.lambda_model\u001b[1;34m(self, max_aggregation_level, max_time_lag, series_length, nb_initial_orders, n_days, alpha, prob, test, overlapping, k, plots)\u001b[0m\n\u001b[0;32m     57\u001b[0m k \u001b[38;5;241m=\u001b[39m \u001b[38;5;28mint\u001b[39m(np\u001b[38;5;241m.\u001b[39mround(np\u001b[38;5;241m.\u001b[39mlog(np\u001b[38;5;241m.\u001b[39msize(data))\u001b[38;5;241m/\u001b[39mnp\u001b[38;5;241m.\u001b[39mlog(\u001b[38;5;28mself\u001b[39m\u001b[38;5;241m.\u001b[39ms)\u001b[38;5;241m/\u001b[39m\u001b[38;5;241m2\u001b[39m)) \u001b[38;5;28;01mif\u001b[39;00m k \u001b[38;5;129;01mis\u001b[39;00m \u001b[38;5;28;01mNone\u001b[39;00m \u001b[38;5;28;01melse\u001b[39;00m k\n\u001b[0;32m     58\u001b[0m \u001b[38;5;28;01mif\u001b[39;00m overlapping:\n\u001b[1;32m---> 59\u001b[0m     blocks_df \u001b[38;5;241m=\u001b[39m pd\u001b[38;5;241m.\u001b[39mDataFrame(\u001b[43moverlapping_blocks\u001b[49m\u001b[43m(\u001b[49m\u001b[43msymbols\u001b[49m\u001b[38;5;241;43m=\u001b[39;49m\u001b[43mdata\u001b[49m\u001b[43m,\u001b[49m\u001b[43m \u001b[49m\u001b[43mblock_size\u001b[49m\u001b[38;5;241;43m=\u001b[39;49m\u001b[43mk\u001b[49m\u001b[43m)\u001b[49m)\n\u001b[0;32m     60\u001b[0m \u001b[38;5;28;01melse\u001b[39;00m:\n\u001b[0;32m     61\u001b[0m     blocks_df \u001b[38;5;241m=\u001b[39m pd\u001b[38;5;241m.\u001b[39mDataFrame(non_overlapping_blocks(symbols\u001b[38;5;241m=\u001b[39mdata, block_size\u001b[38;5;241m=\u001b[39mk))\n",
      "File \u001b[1;32mc:\\Users\\rabhi\\Documents\\Master 272 IEF - Dauphine\\M2\\S2\\Gestion Quantitative 2\\Price predictability at ultra-high frequency\\utils\\BlockConstructors.py:15\u001b[0m, in \u001b[0;36moverlapping_blocks\u001b[1;34m(symbols, block_size)\u001b[0m\n\u001b[0;32m     13\u001b[0m blocks \u001b[38;5;241m=\u001b[39m np\u001b[38;5;241m.\u001b[39marray([],dtype\u001b[38;5;241m=\u001b[39m\u001b[38;5;28mint\u001b[39m)\n\u001b[0;32m     14\u001b[0m \u001b[38;5;28;01mfor\u001b[39;00m i \u001b[38;5;129;01min\u001b[39;00m \u001b[38;5;28mrange\u001b[39m(n \u001b[38;5;241m-\u001b[39m block_size \u001b[38;5;241m+\u001b[39m \u001b[38;5;241m1\u001b[39m):\n\u001b[1;32m---> 15\u001b[0m     blocks \u001b[38;5;241m=\u001b[39m \u001b[43mnp\u001b[49m\u001b[38;5;241;43m.\u001b[39;49m\u001b[43mappend\u001b[49m\u001b[43m(\u001b[49m\u001b[43mblocks\u001b[49m\u001b[43m,\u001b[49m\u001b[43m \u001b[49m\u001b[43msymbols\u001b[49m\u001b[43m[\u001b[49m\u001b[43mi\u001b[49m\u001b[43m:\u001b[49m\u001b[43mi\u001b[49m\u001b[43m \u001b[49m\u001b[38;5;241;43m+\u001b[39;49m\u001b[43m \u001b[49m\u001b[43mblock_size\u001b[49m\u001b[43m]\u001b[49m\u001b[43m)\u001b[49m\n\u001b[0;32m     16\u001b[0m blocks \u001b[38;5;241m=\u001b[39m blocks\u001b[38;5;241m.\u001b[39mreshape(\u001b[38;5;241m-\u001b[39m\u001b[38;5;241m1\u001b[39m, block_size)\n\u001b[0;32m     17\u001b[0m \u001b[38;5;28;01mreturn\u001b[39;00m blocks\n",
      "File \u001b[1;32m~\\AppData\\Local\\Packages\\PythonSoftwareFoundation.Python.3.12_qbz5n2kfra8p0\\LocalCache\\local-packages\\Python312\\site-packages\\numpy\\lib\\function_base.py:5617\u001b[0m, in \u001b[0;36mappend\u001b[1;34m(arr, values, axis)\u001b[0m\n\u001b[0;32m   5615\u001b[0m     values \u001b[38;5;241m=\u001b[39m ravel(values)\n\u001b[0;32m   5616\u001b[0m     axis \u001b[38;5;241m=\u001b[39m arr\u001b[38;5;241m.\u001b[39mndim\u001b[38;5;241m-\u001b[39m\u001b[38;5;241m1\u001b[39m\n\u001b[1;32m-> 5617\u001b[0m \u001b[38;5;28;01mreturn\u001b[39;00m \u001b[43mconcatenate\u001b[49m\u001b[43m(\u001b[49m\u001b[43m(\u001b[49m\u001b[43marr\u001b[49m\u001b[43m,\u001b[49m\u001b[43m \u001b[49m\u001b[43mvalues\u001b[49m\u001b[43m)\u001b[49m\u001b[43m,\u001b[49m\u001b[43m \u001b[49m\u001b[43maxis\u001b[49m\u001b[38;5;241;43m=\u001b[39;49m\u001b[43maxis\u001b[49m\u001b[43m)\u001b[49m\n",
      "\u001b[1;31mKeyboardInterrupt\u001b[0m: "
     ]
    }
   ],
   "source": [
    "data_gen = DataGenerator()\n",
    "data_gen.lambda_model(test='NP Statistic',\n",
    "                      overlapping=True,\n",
    "                      max_aggregation_level=5,\n",
    "                      max_time_lag=5,\n",
    "                      n_days=2,\n",
    "                      plots=(False,True))\n",
    "data_gen.OD_model(test='NP Statistic',\n",
    "                  overlapping=True,\n",
    "                  max_aggregation_level=5,\n",
    "                  max_time_lag=5,\n",
    "                  n_days=2,\n",
    "                  plots=(False,True))\n",
    "data_gen.TS_model(test='NP Statistic',\n",
    "                  overlapping=True,\n",
    "                  max_aggregation_level=10,\n",
    "                  max_time_lag=5,\n",
    "                  n_days=2,\n",
    "                  plots=(False,True))"
   ]
  },
  {
   "cell_type": "markdown",
   "id": "ca4eb4aa",
   "metadata": {},
   "source": [
    "To observe the fraction of predictable days by aggregation level or by time lag for the data generated by the 3 models on a single chart, one can use the method `plot_all()` and specifiy in the what argument the chart wanted."
   ]
  },
  {
   "cell_type": "code",
   "execution_count": 4,
   "id": "58ace18c",
   "metadata": {},
   "outputs": [
    {
     "name": "stdout",
     "output_type": "stream",
     "text": [
      "Day 1/80\n",
      "Day 2/80\n"
     ]
    },
    {
     "ename": "KeyboardInterrupt",
     "evalue": "",
     "output_type": "error",
     "traceback": [
      "\u001b[1;31m---------------------------------------------------------------------------\u001b[0m",
      "\u001b[1;31mKeyboardInterrupt\u001b[0m                         Traceback (most recent call last)",
      "Cell \u001b[1;32mIn[4], line 1\u001b[0m\n\u001b[1;32m----> 1\u001b[0m \u001b[43mdata_gen\u001b[49m\u001b[38;5;241;43m.\u001b[39;49m\u001b[43mplot_all\u001b[49m\u001b[43m(\u001b[49m\u001b[43mwhat\u001b[49m\u001b[38;5;241;43m=\u001b[39;49m\u001b[38;5;124;43m'\u001b[39;49m\u001b[38;5;124;43maggregation level\u001b[39;49m\u001b[38;5;124;43m'\u001b[39;49m\u001b[43m)\u001b[49m\n\u001b[0;32m      2\u001b[0m data_gen\u001b[38;5;241m.\u001b[39mplot_all(what\u001b[38;5;241m=\u001b[39m\u001b[38;5;124m'\u001b[39m\u001b[38;5;124mtime lag\u001b[39m\u001b[38;5;124m'\u001b[39m)\n",
      "File \u001b[1;32mc:\\Users\\rabhi\\Documents\\Master 272 IEF - Dauphine\\M2\\S2\\Gestion Quantitative 2\\Price predictability at ultra-high frequency\\data\\DataGenerator.py:333\u001b[0m, in \u001b[0;36mDataGenerator.plot_all\u001b[1;34m(self, what, max_aggregation_level, max_time_lag)\u001b[0m\n\u001b[0;32m    331\u001b[0m all_present \u001b[38;5;241m=\u001b[39m \u001b[38;5;28mall\u001b[39m(item \u001b[38;5;129;01min\u001b[39;00m \u001b[38;5;28mself\u001b[39m\u001b[38;5;241m.\u001b[39mfreq_pred_agg \u001b[38;5;28;01mfor\u001b[39;00m item \u001b[38;5;129;01min\u001b[39;00m models)\n\u001b[0;32m    332\u001b[0m \u001b[38;5;28;01mif\u001b[39;00m \u001b[38;5;129;01mnot\u001b[39;00m(all_present):\n\u001b[1;32m--> 333\u001b[0m     \u001b[38;5;28;43mself\u001b[39;49m\u001b[38;5;241;43m.\u001b[39;49m\u001b[43mlambda_model\u001b[49m\u001b[43m(\u001b[49m\u001b[43mmax_aggregation_level\u001b[49m\u001b[38;5;241;43m=\u001b[39;49m\u001b[43mmax_aggregation_level\u001b[49m\u001b[43m,\u001b[49m\n\u001b[0;32m    334\u001b[0m \u001b[43m                      \u001b[49m\u001b[43mmax_time_lag\u001b[49m\u001b[38;5;241;43m=\u001b[39;49m\u001b[43mmax_time_lag\u001b[49m\u001b[43m,\u001b[49m\n\u001b[0;32m    335\u001b[0m \u001b[43m                      \u001b[49m\u001b[43mplots\u001b[49m\u001b[38;5;241;43m=\u001b[39;49m\u001b[43m(\u001b[49m\u001b[38;5;28;43;01mFalse\u001b[39;49;00m\u001b[43m,\u001b[49m\u001b[38;5;28;43;01mFalse\u001b[39;49;00m\u001b[43m)\u001b[49m\u001b[43m)\u001b[49m\n\u001b[0;32m    336\u001b[0m     \u001b[38;5;28mself\u001b[39m\u001b[38;5;241m.\u001b[39mOD_model(max_aggregation_level\u001b[38;5;241m=\u001b[39mmax_aggregation_level,\n\u001b[0;32m    337\u001b[0m                   max_time_lag\u001b[38;5;241m=\u001b[39mmax_time_lag,\n\u001b[0;32m    338\u001b[0m                   plots\u001b[38;5;241m=\u001b[39m(\u001b[38;5;28;01mFalse\u001b[39;00m,\u001b[38;5;28;01mFalse\u001b[39;00m))\n\u001b[0;32m    339\u001b[0m     \u001b[38;5;28mself\u001b[39m\u001b[38;5;241m.\u001b[39mTS_model(max_aggregation_level\u001b[38;5;241m=\u001b[39mmax_aggregation_level,\n\u001b[0;32m    340\u001b[0m                   max_time_lag\u001b[38;5;241m=\u001b[39mmax_time_lag,\n\u001b[0;32m    341\u001b[0m                   plots\u001b[38;5;241m=\u001b[39m(\u001b[38;5;28;01mFalse\u001b[39;00m,\u001b[38;5;28;01mFalse\u001b[39;00m))\n",
      "File \u001b[1;32mc:\\Users\\rabhi\\Documents\\Master 272 IEF - Dauphine\\M2\\S2\\Gestion Quantitative 2\\Price predictability at ultra-high frequency\\data\\DataGenerator.py:78\u001b[0m, in \u001b[0;36mDataGenerator.lambda_model\u001b[1;34m(self, max_aggregation_level, max_time_lag, series_length, nb_initial_orders, n_days, alpha, prob, test, overlapping, k, plots)\u001b[0m\n\u001b[0;32m     76\u001b[0m     result \u001b[38;5;241m=\u001b[39m analysis\u001b[38;5;241m.\u001b[39mentropy_bias_test()\n\u001b[0;32m     77\u001b[0m \u001b[38;5;28;01melif\u001b[39;00m test \u001b[38;5;241m==\u001b[39m \u001b[38;5;124m'\u001b[39m\u001b[38;5;124mKL Divergence\u001b[39m\u001b[38;5;124m'\u001b[39m:\n\u001b[1;32m---> 78\u001b[0m     result \u001b[38;5;241m=\u001b[39m \u001b[43manalysis\u001b[49m\u001b[38;5;241;43m.\u001b[39;49m\u001b[43mKL_divergence_test\u001b[49m\u001b[43m(\u001b[49m\u001b[43m)\u001b[49m\n\u001b[0;32m     79\u001b[0m \u001b[38;5;28;01melse\u001b[39;00m:\n\u001b[0;32m     80\u001b[0m     \u001b[38;5;28;01mraise\u001b[39;00m \u001b[38;5;167;01mValueError\u001b[39;00m(\u001b[38;5;124m\"\u001b[39m\u001b[38;5;124mTest not implemented\u001b[39m\u001b[38;5;124m\"\u001b[39m)\n",
      "File \u001b[1;32mc:\\Users\\rabhi\\Documents\\Master 272 IEF - Dauphine\\M2\\S2\\Gestion Quantitative 2\\Price predictability at ultra-high frequency\\main\\RandomnessAnalysis.py:104\u001b[0m, in \u001b[0;36mRandomnessAnalysis.KL_divergence_test\u001b[1;34m(self, m)\u001b[0m\n\u001b[0;32m    102\u001b[0m \u001b[38;5;28;01mdef\u001b[39;00m \u001b[38;5;21mKL_divergence_test\u001b[39m(\u001b[38;5;28mself\u001b[39m,m\u001b[38;5;241m=\u001b[39m\u001b[38;5;241m1\u001b[39m):\n\u001b[1;32m--> 104\u001b[0m     D \u001b[38;5;241m=\u001b[39m \u001b[38;5;28;43mself\u001b[39;49m\u001b[38;5;241;43m.\u001b[39;49m\u001b[43mKL_divergence\u001b[49m\u001b[43m(\u001b[49m\u001b[43m)\u001b[49m\n\u001b[0;32m    105\u001b[0m     df \u001b[38;5;241m=\u001b[39m (\u001b[38;5;28mself\u001b[39m\u001b[38;5;241m.\u001b[39ms\u001b[38;5;241m*\u001b[39m\u001b[38;5;241m*\u001b[39m(\u001b[38;5;28mself\u001b[39m\u001b[38;5;241m.\u001b[39mk\u001b[38;5;241m-\u001b[39m\u001b[38;5;241m1\u001b[39m) \u001b[38;5;241m-\u001b[39m \u001b[38;5;241m1\u001b[39m) \u001b[38;5;241m*\u001b[39m (\u001b[38;5;28mself\u001b[39m\u001b[38;5;241m.\u001b[39ms \u001b[38;5;241m-\u001b[39m \u001b[38;5;241m1\u001b[39m)\n\u001b[0;32m    107\u001b[0m     alpha_90 \u001b[38;5;241m=\u001b[39m \u001b[38;5;241m1\u001b[39m \u001b[38;5;241m-\u001b[39m (\u001b[38;5;241m1\u001b[39m \u001b[38;5;241m-\u001b[39m \u001b[38;5;241m0.1\u001b[39m) \u001b[38;5;241m*\u001b[39m\u001b[38;5;241m*\u001b[39m (\u001b[38;5;241m1\u001b[39m \u001b[38;5;241m/\u001b[39m m)\n",
      "File \u001b[1;32mc:\\Users\\rabhi\\Documents\\Master 272 IEF - Dauphine\\M2\\S2\\Gestion Quantitative 2\\Price predictability at ultra-high frequency\\main\\RandomnessAnalysis.py:87\u001b[0m, in \u001b[0;36mRandomnessAnalysis.KL_divergence\u001b[1;34m(self)\u001b[0m\n\u001b[0;32m     84\u001b[0m f_dot_j \u001b[38;5;241m=\u001b[39m Counter()\n\u001b[0;32m     86\u001b[0m \u001b[38;5;28;01mfor\u001b[39;00m i \u001b[38;5;129;01min\u001b[39;00m \u001b[38;5;28mrange\u001b[39m(\u001b[38;5;28mself\u001b[39m\u001b[38;5;241m.\u001b[39mn_blocks):\n\u001b[1;32m---> 87\u001b[0m     block_i \u001b[38;5;241m=\u001b[39m \u001b[38;5;28mtuple\u001b[39m(\u001b[38;5;28;43mself\u001b[39;49m\u001b[38;5;241;43m.\u001b[39;49m\u001b[43mblocks_df\u001b[49m\u001b[38;5;241;43m.\u001b[39;49m\u001b[43miloc\u001b[49m\u001b[43m[\u001b[49m\u001b[43mi\u001b[49m\u001b[43m,\u001b[49m\u001b[43m:\u001b[49m\u001b[38;5;241;43m-\u001b[39;49m\u001b[38;5;241;43m1\u001b[39;49m\u001b[43m]\u001b[49m\u001b[38;5;241;43m.\u001b[39;49m\u001b[43mvalues\u001b[49m\u001b[38;5;241;43m.\u001b[39;49m\u001b[43mflatten\u001b[49m\u001b[43m(\u001b[49m\u001b[43m)\u001b[49m)\n\u001b[0;32m     88\u001b[0m     symbol_j \u001b[38;5;241m=\u001b[39m \u001b[38;5;28mself\u001b[39m\u001b[38;5;241m.\u001b[39mblocks_df\u001b[38;5;241m.\u001b[39miloc[i, \u001b[38;5;241m-\u001b[39m\u001b[38;5;241m1\u001b[39m]\n\u001b[0;32m     89\u001b[0m     f_ij[(block_i, symbol_j)] \u001b[38;5;241m+\u001b[39m\u001b[38;5;241m=\u001b[39m \u001b[38;5;241m1\u001b[39m\n",
      "\u001b[1;31mKeyboardInterrupt\u001b[0m: "
     ]
    }
   ],
   "source": [
    "data_gen.plot_all(what='aggregation level')\n",
    "data_gen.plot_all(what='time lag')"
   ]
  },
  {
   "cell_type": "markdown",
   "id": "07c44d27",
   "metadata": {},
   "source": [
    "To study the specificities of efficient and inefficent day for a given pair, month, year and aggragation level, one can use the class `PredictableDayAnalysis` and create an instance of it with the name of the pair and the data_manager instance related to the pair. Then one can execute the methode `analyze_days()` with the `pd.Dataframe` of the blocks associated with the pair."
   ]
  },
  {
   "cell_type": "code",
   "execution_count": null,
   "id": "32147c06",
   "metadata": {},
   "outputs": [],
   "source": [
    "analysis = PredictableDayAnalysis(pair=\"BTCUSDT\",data_manager=data_manager)\n",
    "analysis.analyze_days(blocks_btc)\n",
    "analysis.efficient_df"
   ]
  },
  {
   "cell_type": "markdown",
   "id": "eb862afc",
   "metadata": {},
   "source": [
    "To get the properties of a given set of pairs and for a given day or month, one can use you the function `get_asset_properties()` with the following inputs:\n",
    "- the list of pairs ;\n",
    "- the cardinal of the chosen alphabet ;\n",
    "- the year, the month and eventually the day.\n",
    "\n",
    "Of course, one must have already instantiated a data manager first for the given pairs (or at least have their preprocessed data in the corresponding folder)."
   ]
  },
  {
   "cell_type": "code",
   "execution_count": 5,
   "id": "fb20e005",
   "metadata": {},
   "outputs": [],
   "source": [
    "data_manager = DataManager(asset_pairs, symbols, year=2024, month=11, day=5, aggregation_level=1)"
   ]
  },
  {
   "cell_type": "code",
   "execution_count": 6,
   "id": "093358bc",
   "metadata": {},
   "outputs": [],
   "source": [
    "df_prop = get_assets_properties(asset_pairs, s=2, year=2024, month=11, day=5)"
   ]
  },
  {
   "cell_type": "code",
   "execution_count": 8,
   "id": "f0150a56",
   "metadata": {},
   "outputs": [
    {
     "data": {
      "text/html": [
       "<div>\n",
       "<style scoped>\n",
       "    .dataframe tbody tr th:only-of-type {\n",
       "        vertical-align: middle;\n",
       "    }\n",
       "\n",
       "    .dataframe tbody tr th {\n",
       "        vertical-align: top;\n",
       "    }\n",
       "\n",
       "    .dataframe thead th {\n",
       "        text-align: right;\n",
       "    }\n",
       "</style>\n",
       "<table border=\"1\" class=\"dataframe\">\n",
       "  <thead>\n",
       "    <tr style=\"text-align: right;\">\n",
       "      <th></th>\n",
       "      <th>Mean price</th>\n",
       "      <th>Price standard deviation</th>\n",
       "      <th>Mean return</th>\n",
       "      <th>Return standard deviation</th>\n",
       "      <th>Volume</th>\n",
       "      <th>Mean volume</th>\n",
       "      <th>Standard deviation of volume</th>\n",
       "      <th>Daily number of transactions</th>\n",
       "    </tr>\n",
       "  </thead>\n",
       "  <tbody>\n",
       "    <tr>\n",
       "      <th>BTCUSDT</th>\n",
       "      <td>69227.471775</td>\n",
       "      <td>720.381637</td>\n",
       "      <td>2.402404e-08</td>\n",
       "      <td>0.000019</td>\n",
       "      <td>1.033908e+04</td>\n",
       "      <td>0.011197</td>\n",
       "      <td>0.074842</td>\n",
       "      <td>923406.0</td>\n",
       "    </tr>\n",
       "    <tr>\n",
       "      <th>ETHUSDT</th>\n",
       "      <td>2435.963466</td>\n",
       "      <td>20.563697</td>\n",
       "      <td>1.912779e-08</td>\n",
       "      <td>0.000031</td>\n",
       "      <td>8.362522e+04</td>\n",
       "      <td>0.158403</td>\n",
       "      <td>0.722906</td>\n",
       "      <td>527927.0</td>\n",
       "    </tr>\n",
       "    <tr>\n",
       "      <th>BNBUSDT</th>\n",
       "      <td>562.771773</td>\n",
       "      <td>4.988655</td>\n",
       "      <td>1.737900e-07</td>\n",
       "      <td>0.000042</td>\n",
       "      <td>5.640972e+04</td>\n",
       "      <td>0.511101</td>\n",
       "      <td>2.575696</td>\n",
       "      <td>110369.0</td>\n",
       "    </tr>\n",
       "    <tr>\n",
       "      <th>XRPUSDT</th>\n",
       "      <td>0.510427</td>\n",
       "      <td>0.003333</td>\n",
       "      <td>7.873785e-07</td>\n",
       "      <td>0.000198</td>\n",
       "      <td>2.480665e+07</td>\n",
       "      <td>946.349254</td>\n",
       "      <td>3404.033293</td>\n",
       "      <td>26213.0</td>\n",
       "    </tr>\n",
       "  </tbody>\n",
       "</table>\n",
       "</div>"
      ],
      "text/plain": [
       "           Mean price  Price standard deviation   Mean return  \\\n",
       "BTCUSDT  69227.471775                720.381637  2.402404e-08   \n",
       "ETHUSDT   2435.963466                 20.563697  1.912779e-08   \n",
       "BNBUSDT    562.771773                  4.988655  1.737900e-07   \n",
       "XRPUSDT      0.510427                  0.003333  7.873785e-07   \n",
       "\n",
       "         Return standard deviation        Volume  Mean volume  \\\n",
       "BTCUSDT                   0.000019  1.033908e+04     0.011197   \n",
       "ETHUSDT                   0.000031  8.362522e+04     0.158403   \n",
       "BNBUSDT                   0.000042  5.640972e+04     0.511101   \n",
       "XRPUSDT                   0.000198  2.480665e+07   946.349254   \n",
       "\n",
       "         Standard deviation of volume  Daily number of transactions  \n",
       "BTCUSDT                      0.074842                      923406.0  \n",
       "ETHUSDT                      0.722906                      527927.0  \n",
       "BNBUSDT                      2.575696                      110369.0  \n",
       "XRPUSDT                   3404.033293                       26213.0  "
      ]
     },
     "execution_count": 8,
     "metadata": {},
     "output_type": "execute_result"
    }
   ],
   "source": [
    "df_prop"
   ]
  },
  {
   "cell_type": "code",
   "execution_count": 5,
   "id": "9e25d798",
   "metadata": {},
   "outputs": [],
   "source": [
    "data_manager = DataManager(asset_pairs, symbols, year=2024, month=11, day=5, aggregation_level=5)"
   ]
  },
  {
   "cell_type": "code",
   "execution_count": 9,
   "id": "819a8606",
   "metadata": {},
   "outputs": [],
   "source": [
    "import importlib\n",
    "import utils.Analysis\n",
    "importlib.reload(utils.Analysis)\n",
    "from utils.Analysis import localization_predictable_intervals"
   ]
  },
  {
   "cell_type": "code",
   "execution_count": null,
   "id": "0006a3fb",
   "metadata": {},
   "outputs": [
    {
     "data": {
      "text/html": [
       "<div>\n",
       "<style scoped>\n",
       "    .dataframe tbody tr th:only-of-type {\n",
       "        vertical-align: middle;\n",
       "    }\n",
       "\n",
       "    .dataframe tbody tr th {\n",
       "        vertical-align: top;\n",
       "    }\n",
       "\n",
       "    .dataframe thead th {\n",
       "        text-align: right;\n",
       "    }\n",
       "</style>\n",
       "<table border=\"1\" class=\"dataframe\">\n",
       "  <thead>\n",
       "    <tr style=\"text-align: right;\">\n",
       "      <th></th>\n",
       "      <th>Timestamp Start</th>\n",
       "      <th>Timestamp End</th>\n",
       "      <th>Test Stat</th>\n",
       "      <th>Quantile 99%</th>\n",
       "      <th>P-value</th>\n",
       "      <th>Hypothesis</th>\n",
       "    </tr>\n",
       "    <tr>\n",
       "      <th>Rank</th>\n",
       "      <th></th>\n",
       "      <th></th>\n",
       "      <th></th>\n",
       "      <th></th>\n",
       "      <th></th>\n",
       "      <th></th>\n",
       "    </tr>\n",
       "  </thead>\n",
       "  <tbody>\n",
       "    <tr>\n",
       "      <th>1</th>\n",
       "      <td>2024-11-05 01:07:19.539</td>\n",
       "      <td>2024-11-05 01:08:35.880000</td>\n",
       "      <td>765.099422</td>\n",
       "      <td>362.956911</td>\n",
       "      <td>0.0</td>\n",
       "      <td>True</td>\n",
       "    </tr>\n",
       "    <tr>\n",
       "      <th>2</th>\n",
       "      <td>2024-11-05 15:12:38.976</td>\n",
       "      <td>2024-11-05 15:13:05.003000</td>\n",
       "      <td>763.348155</td>\n",
       "      <td>362.956911</td>\n",
       "      <td>0.0</td>\n",
       "      <td>True</td>\n",
       "    </tr>\n",
       "    <tr>\n",
       "      <th>3</th>\n",
       "      <td>2024-11-05 08:43:59.902</td>\n",
       "      <td>2024-11-05 08:45:36.364000</td>\n",
       "      <td>755.555759</td>\n",
       "      <td>362.956911</td>\n",
       "      <td>0.0</td>\n",
       "      <td>True</td>\n",
       "    </tr>\n",
       "    <tr>\n",
       "      <th>4</th>\n",
       "      <td>2024-11-05 15:14:57.148</td>\n",
       "      <td>2024-11-05 15:15:25.603000</td>\n",
       "      <td>742.731022</td>\n",
       "      <td>362.956911</td>\n",
       "      <td>0.0</td>\n",
       "      <td>True</td>\n",
       "    </tr>\n",
       "    <tr>\n",
       "      <th>5</th>\n",
       "      <td>2024-11-05 15:49:40.196</td>\n",
       "      <td>2024-11-05 15:50:35.508000</td>\n",
       "      <td>741.195695</td>\n",
       "      <td>362.956911</td>\n",
       "      <td>0.0</td>\n",
       "      <td>True</td>\n",
       "    </tr>\n",
       "    <tr>\n",
       "      <th>6</th>\n",
       "      <td>2024-11-05 14:03:38.931</td>\n",
       "      <td>2024-11-05 14:05:26.077000</td>\n",
       "      <td>740.881631</td>\n",
       "      <td>362.956911</td>\n",
       "      <td>0.0</td>\n",
       "      <td>True</td>\n",
       "    </tr>\n",
       "    <tr>\n",
       "      <th>7</th>\n",
       "      <td>2024-11-05 02:03:36.286</td>\n",
       "      <td>2024-11-05 02:04:49.218000</td>\n",
       "      <td>736.230903</td>\n",
       "      <td>362.956911</td>\n",
       "      <td>0.0</td>\n",
       "      <td>True</td>\n",
       "    </tr>\n",
       "    <tr>\n",
       "      <th>8</th>\n",
       "      <td>2024-11-05 10:18:20.865</td>\n",
       "      <td>2024-11-05 10:21:21.811000</td>\n",
       "      <td>731.954847</td>\n",
       "      <td>362.956911</td>\n",
       "      <td>0.0</td>\n",
       "      <td>True</td>\n",
       "    </tr>\n",
       "    <tr>\n",
       "      <th>9</th>\n",
       "      <td>2024-11-05 11:23:33.880</td>\n",
       "      <td>2024-11-05 11:25:55.515000</td>\n",
       "      <td>731.082091</td>\n",
       "      <td>362.956911</td>\n",
       "      <td>0.0</td>\n",
       "      <td>True</td>\n",
       "    </tr>\n",
       "    <tr>\n",
       "      <th>10</th>\n",
       "      <td>2024-11-05 16:45:59.939</td>\n",
       "      <td>2024-11-05 16:46:19.265000</td>\n",
       "      <td>731.051935</td>\n",
       "      <td>362.956911</td>\n",
       "      <td>0.0</td>\n",
       "      <td>True</td>\n",
       "    </tr>\n",
       "  </tbody>\n",
       "</table>\n",
       "</div>"
      ],
      "text/plain": [
       "             Timestamp Start               Timestamp End   Test Stat  \\\n",
       "Rank                                                                   \n",
       "1    2024-11-05 01:07:19.539  2024-11-05 01:08:35.880000  765.099422   \n",
       "2    2024-11-05 15:12:38.976  2024-11-05 15:13:05.003000  763.348155   \n",
       "3    2024-11-05 08:43:59.902  2024-11-05 08:45:36.364000  755.555759   \n",
       "4    2024-11-05 15:14:57.148  2024-11-05 15:15:25.603000  742.731022   \n",
       "5    2024-11-05 15:49:40.196  2024-11-05 15:50:35.508000  741.195695   \n",
       "6    2024-11-05 14:03:38.931  2024-11-05 14:05:26.077000  740.881631   \n",
       "7    2024-11-05 02:03:36.286  2024-11-05 02:04:49.218000  736.230903   \n",
       "8    2024-11-05 10:18:20.865  2024-11-05 10:21:21.811000  731.954847   \n",
       "9    2024-11-05 11:23:33.880  2024-11-05 11:25:55.515000  731.082091   \n",
       "10   2024-11-05 16:45:59.939  2024-11-05 16:46:19.265000  731.051935   \n",
       "\n",
       "     Quantile 99% P-value Hypothesis  \n",
       "Rank                                  \n",
       "1      362.956911     0.0       True  \n",
       "2      362.956911     0.0       True  \n",
       "3      362.956911     0.0       True  \n",
       "4      362.956911     0.0       True  \n",
       "5      362.956911     0.0       True  \n",
       "6      362.956911     0.0       True  \n",
       "7      362.956911     0.0       True  \n",
       "8      362.956911     0.0       True  \n",
       "9      362.956911     0.0       True  \n",
       "10     362.956911     0.0       True  "
      ]
     },
     "execution_count": 12,
     "metadata": {},
     "output_type": "execute_result"
    }
   ],
   "source": [
    "df = localization_predictable_intervals(data_manager, \"BTCUSDT\", test='NP Statistic')\n",
    "df.head(10)"
   ]
  },
  {
   "cell_type": "code",
   "execution_count": null,
   "id": "5f2d4010",
   "metadata": {},
   "outputs": [
    {
     "name": "stdout",
     "output_type": "stream",
     "text": [
      "[SYSTEM] Processing 2024-8 with aggregation level 1...\n",
      "[SYSTEM] Processing BTCUSDT...\n",
      "[SYSTEM] Data already available for BTCUSDT (BTCUSDT-trades-2024-08.csv)\n",
      "[SYSTEM] Processing ETHUSDT...\n",
      "[SYSTEM] Data already available for ETHUSDT (ETHUSDT-trades-2024-08.csv)\n",
      "[SYSTEM] Processing SOLUSDT...\n",
      "[SYSTEM] Data already available for SOLUSDT (SOLUSDT-trades-2024-08.csv)\n",
      "[SYSTEM] Processing BNBUSDT...\n",
      "[SYSTEM] Data already available for BNBUSDT (BNBUSDT-trades-2024-08.csv)\n",
      "[SYSTEM] Processing AVAXUSDT...\n",
      "[SYSTEM] Data already available for AVAXUSDT (AVAXUSDT-trades-2024-08.csv)\n",
      "[SYSTEM] Processing UNIUSDT...\n",
      "[SYSTEM] Data already available for UNIUSDT (UNIUSDT-trades-2024-08.csv)\n",
      "[SYSTEM] Processing LINKUSDT...\n",
      "[SYSTEM] Data already available for LINKUSDT (LINKUSDT-trades-2024-08.csv)\n",
      "[SYSTEM] Processing AXSUSDT...\n",
      "[SYSTEM] Data already available for AXSUSDT (AXSUSDT-trades-2024-08.csv)\n",
      "[SYSTEM] Processing RENDERUSDT...\n",
      "[SYSTEM] Data already available for RENDERUSDT (RENDERUSDT-trades-2024-08.csv)\n",
      "[SYSTEM] Processing BTCUSDT...\n",
      "[SYSTEM] Processing ETHUSDT...\n",
      "[SYSTEM] Processing SOLUSDT...\n",
      "[SYSTEM] Processing BNBUSDT...\n",
      "[SYSTEM] Processing AVAXUSDT...\n",
      "[SYSTEM] Processing UNIUSDT...\n",
      "[SYSTEM] Processing LINKUSDT...\n",
      "[SYSTEM] Processing AXSUSDT...\n",
      "[SYSTEM] Processing RENDERUSDT...\n",
      "[SYSTEM] Processing 2024-8 with aggregation level 2...\n",
      "[SYSTEM] Processing BTCUSDT...\n",
      "[SYSTEM] Data already available for BTCUSDT (BTCUSDT-trades-2024-08.csv)\n",
      "[SYSTEM] Processing ETHUSDT...\n",
      "[SYSTEM] Data already available for ETHUSDT (ETHUSDT-trades-2024-08.csv)\n",
      "[SYSTEM] Processing SOLUSDT...\n",
      "[SYSTEM] Data already available for SOLUSDT (SOLUSDT-trades-2024-08.csv)\n",
      "[SYSTEM] Processing BNBUSDT...\n",
      "[SYSTEM] Data already available for BNBUSDT (BNBUSDT-trades-2024-08.csv)\n",
      "[SYSTEM] Processing AVAXUSDT...\n",
      "[SYSTEM] Data already available for AVAXUSDT (AVAXUSDT-trades-2024-08.csv)\n",
      "[SYSTEM] Processing UNIUSDT...\n",
      "[SYSTEM] Data already available for UNIUSDT (UNIUSDT-trades-2024-08.csv)\n",
      "[SYSTEM] Processing LINKUSDT...\n",
      "[SYSTEM] Data already available for LINKUSDT (LINKUSDT-trades-2024-08.csv)\n",
      "[SYSTEM] Processing AXSUSDT...\n",
      "[SYSTEM] Data already available for AXSUSDT (AXSUSDT-trades-2024-08.csv)\n",
      "[SYSTEM] Processing RENDERUSDT...\n",
      "[SYSTEM] Data already available for RENDERUSDT (RENDERUSDT-trades-2024-08.csv)\n",
      "[SYSTEM] Processing BTCUSDT...\n",
      "[SYSTEM] Processing ETHUSDT...\n",
      "[SYSTEM] Processing SOLUSDT...\n",
      "[SYSTEM] Processing BNBUSDT...\n",
      "[SYSTEM] Processing AVAXUSDT...\n",
      "[SYSTEM] Processing UNIUSDT...\n",
      "[SYSTEM] Processing LINKUSDT...\n",
      "[SYSTEM] Processing AXSUSDT...\n",
      "[SYSTEM] Processing RENDERUSDT...\n",
      "[SYSTEM] Processing 2024-8 with aggregation level 3...\n",
      "[SYSTEM] Processing BTCUSDT...\n",
      "[SYSTEM] Data already available for BTCUSDT (BTCUSDT-trades-2024-08.csv)\n",
      "[SYSTEM] Processing ETHUSDT...\n",
      "[SYSTEM] Data already available for ETHUSDT (ETHUSDT-trades-2024-08.csv)\n",
      "[SYSTEM] Processing SOLUSDT...\n",
      "[SYSTEM] Data already available for SOLUSDT (SOLUSDT-trades-2024-08.csv)\n",
      "[SYSTEM] Processing BNBUSDT...\n",
      "[SYSTEM] Data already available for BNBUSDT (BNBUSDT-trades-2024-08.csv)\n",
      "[SYSTEM] Processing AVAXUSDT...\n",
      "[SYSTEM] Data already available for AVAXUSDT (AVAXUSDT-trades-2024-08.csv)\n",
      "[SYSTEM] Processing UNIUSDT...\n",
      "[SYSTEM] Data already available for UNIUSDT (UNIUSDT-trades-2024-08.csv)\n",
      "[SYSTEM] Processing LINKUSDT...\n",
      "[SYSTEM] Data already available for LINKUSDT (LINKUSDT-trades-2024-08.csv)\n",
      "[SYSTEM] Processing AXSUSDT...\n",
      "[SYSTEM] Data already available for AXSUSDT (AXSUSDT-trades-2024-08.csv)\n",
      "[SYSTEM] Processing RENDERUSDT...\n",
      "[SYSTEM] Data already available for RENDERUSDT (RENDERUSDT-trades-2024-08.csv)\n",
      "[SYSTEM] Processing BTCUSDT...\n",
      "[SYSTEM] Processing ETHUSDT...\n",
      "[SYSTEM] Processing SOLUSDT...\n",
      "[SYSTEM] Processing BNBUSDT...\n",
      "[SYSTEM] Processing AVAXUSDT...\n",
      "[SYSTEM] Processing UNIUSDT...\n",
      "[SYSTEM] Processing LINKUSDT...\n",
      "[SYSTEM] Processing AXSUSDT...\n",
      "[SYSTEM] Processing RENDERUSDT...\n",
      "[SYSTEM] Processing 2024-8 with aggregation level 4...\n",
      "[SYSTEM] Processing BTCUSDT...\n",
      "[SYSTEM] Data already available for BTCUSDT (BTCUSDT-trades-2024-08.csv)\n",
      "[SYSTEM] Processing ETHUSDT...\n",
      "[SYSTEM] Data already available for ETHUSDT (ETHUSDT-trades-2024-08.csv)\n",
      "[SYSTEM] Processing SOLUSDT...\n",
      "[SYSTEM] Data already available for SOLUSDT (SOLUSDT-trades-2024-08.csv)\n",
      "[SYSTEM] Processing BNBUSDT...\n",
      "[SYSTEM] Data already available for BNBUSDT (BNBUSDT-trades-2024-08.csv)\n",
      "[SYSTEM] Processing AVAXUSDT...\n",
      "[SYSTEM] Data already available for AVAXUSDT (AVAXUSDT-trades-2024-08.csv)\n",
      "[SYSTEM] Processing UNIUSDT...\n",
      "[SYSTEM] Data already available for UNIUSDT (UNIUSDT-trades-2024-08.csv)\n",
      "[SYSTEM] Processing LINKUSDT...\n",
      "[SYSTEM] Data already available for LINKUSDT (LINKUSDT-trades-2024-08.csv)\n",
      "[SYSTEM] Processing AXSUSDT...\n",
      "[SYSTEM] Data already available for AXSUSDT (AXSUSDT-trades-2024-08.csv)\n",
      "[SYSTEM] Processing RENDERUSDT...\n",
      "[SYSTEM] Data already available for RENDERUSDT (RENDERUSDT-trades-2024-08.csv)\n",
      "[SYSTEM] Processing BTCUSDT...\n",
      "[SYSTEM] Processing ETHUSDT...\n",
      "[SYSTEM] Processing SOLUSDT...\n",
      "[SYSTEM] Processing BNBUSDT...\n",
      "[SYSTEM] Processing AVAXUSDT...\n",
      "[SYSTEM] Processing UNIUSDT...\n",
      "[SYSTEM] Processing LINKUSDT...\n",
      "[SYSTEM] Processing AXSUSDT...\n",
      "[SYSTEM] Processing RENDERUSDT...\n",
      "[SYSTEM] Processing 2024-8 with aggregation level 5...\n",
      "[SYSTEM] Processing BTCUSDT...\n",
      "[SYSTEM] Data already available for BTCUSDT (BTCUSDT-trades-2024-08.csv)\n",
      "[SYSTEM] Processing ETHUSDT...\n",
      "[SYSTEM] Data already available for ETHUSDT (ETHUSDT-trades-2024-08.csv)\n",
      "[SYSTEM] Processing SOLUSDT...\n",
      "[SYSTEM] Data already available for SOLUSDT (SOLUSDT-trades-2024-08.csv)\n",
      "[SYSTEM] Processing BNBUSDT...\n",
      "[SYSTEM] Data already available for BNBUSDT (BNBUSDT-trades-2024-08.csv)\n",
      "[SYSTEM] Processing AVAXUSDT...\n",
      "[SYSTEM] Data already available for AVAXUSDT (AVAXUSDT-trades-2024-08.csv)\n",
      "[SYSTEM] Processing UNIUSDT...\n",
      "[SYSTEM] Data already available for UNIUSDT (UNIUSDT-trades-2024-08.csv)\n",
      "[SYSTEM] Processing LINKUSDT...\n",
      "[SYSTEM] Data already available for LINKUSDT (LINKUSDT-trades-2024-08.csv)\n",
      "[SYSTEM] Processing AXSUSDT...\n",
      "[SYSTEM] Data already available for AXSUSDT (AXSUSDT-trades-2024-08.csv)\n",
      "[SYSTEM] Processing RENDERUSDT...\n",
      "[SYSTEM] Data already available for RENDERUSDT (RENDERUSDT-trades-2024-08.csv)\n",
      "[SYSTEM] Processing BTCUSDT...\n",
      "[SYSTEM] Processing ETHUSDT...\n",
      "[SYSTEM] Processing SOLUSDT...\n",
      "[SYSTEM] Processing BNBUSDT...\n",
      "[SYSTEM] Processing AVAXUSDT...\n",
      "[SYSTEM] Processing UNIUSDT...\n",
      "[SYSTEM] Processing LINKUSDT...\n",
      "[SYSTEM] Processing AXSUSDT...\n",
      "[SYSTEM] Processing RENDERUSDT...\n",
      "[SYSTEM] Processing 2024-8 with aggregation level 6...\n",
      "[SYSTEM] Processing BTCUSDT...\n",
      "[SYSTEM] Data already available for BTCUSDT (BTCUSDT-trades-2024-08.csv)\n",
      "[SYSTEM] Processing ETHUSDT...\n",
      "[SYSTEM] Data already available for ETHUSDT (ETHUSDT-trades-2024-08.csv)\n",
      "[SYSTEM] Processing SOLUSDT...\n",
      "[SYSTEM] Data already available for SOLUSDT (SOLUSDT-trades-2024-08.csv)\n",
      "[SYSTEM] Processing BNBUSDT...\n",
      "[SYSTEM] Data already available for BNBUSDT (BNBUSDT-trades-2024-08.csv)\n",
      "[SYSTEM] Processing AVAXUSDT...\n",
      "[SYSTEM] Data already available for AVAXUSDT (AVAXUSDT-trades-2024-08.csv)\n",
      "[SYSTEM] Processing UNIUSDT...\n",
      "[SYSTEM] Data already available for UNIUSDT (UNIUSDT-trades-2024-08.csv)\n",
      "[SYSTEM] Processing LINKUSDT...\n",
      "[SYSTEM] Data already available for LINKUSDT (LINKUSDT-trades-2024-08.csv)\n",
      "[SYSTEM] Processing AXSUSDT...\n",
      "[SYSTEM] Data already available for AXSUSDT (AXSUSDT-trades-2024-08.csv)\n",
      "[SYSTEM] Processing RENDERUSDT...\n",
      "[SYSTEM] Data already available for RENDERUSDT (RENDERUSDT-trades-2024-08.csv)\n",
      "[SYSTEM] Processing BTCUSDT...\n",
      "[SYSTEM] Processing ETHUSDT...\n",
      "[SYSTEM] Processing SOLUSDT...\n",
      "[SYSTEM] Processing BNBUSDT...\n",
      "[SYSTEM] Processing AVAXUSDT...\n",
      "[SYSTEM] Processing UNIUSDT...\n",
      "[SYSTEM] Processing LINKUSDT...\n",
      "[SYSTEM] Processing AXSUSDT...\n",
      "[SYSTEM] Processing RENDERUSDT...\n",
      "[SYSTEM] Processing 2024-8 with aggregation level 7...\n",
      "[SYSTEM] Processing BTCUSDT...\n",
      "[SYSTEM] Data already available for BTCUSDT (BTCUSDT-trades-2024-08.csv)\n",
      "[SYSTEM] Processing ETHUSDT...\n",
      "[SYSTEM] Data already available for ETHUSDT (ETHUSDT-trades-2024-08.csv)\n",
      "[SYSTEM] Processing SOLUSDT...\n",
      "[SYSTEM] Data already available for SOLUSDT (SOLUSDT-trades-2024-08.csv)\n",
      "[SYSTEM] Processing BNBUSDT...\n",
      "[SYSTEM] Data already available for BNBUSDT (BNBUSDT-trades-2024-08.csv)\n",
      "[SYSTEM] Processing AVAXUSDT...\n",
      "[SYSTEM] Data already available for AVAXUSDT (AVAXUSDT-trades-2024-08.csv)\n",
      "[SYSTEM] Processing UNIUSDT...\n",
      "[SYSTEM] Data already available for UNIUSDT (UNIUSDT-trades-2024-08.csv)\n",
      "[SYSTEM] Processing LINKUSDT...\n",
      "[SYSTEM] Data already available for LINKUSDT (LINKUSDT-trades-2024-08.csv)\n",
      "[SYSTEM] Processing AXSUSDT...\n",
      "[SYSTEM] Data already available for AXSUSDT (AXSUSDT-trades-2024-08.csv)\n",
      "[SYSTEM] Processing RENDERUSDT...\n",
      "[SYSTEM] Data already available for RENDERUSDT (RENDERUSDT-trades-2024-08.csv)\n",
      "[SYSTEM] Processing BTCUSDT...\n",
      "[SYSTEM] Processing ETHUSDT...\n",
      "[SYSTEM] Processing SOLUSDT...\n",
      "[SYSTEM] Processing BNBUSDT...\n",
      "[SYSTEM] Processing AVAXUSDT...\n",
      "[SYSTEM] Processing UNIUSDT...\n",
      "[SYSTEM] Processing LINKUSDT...\n",
      "[SYSTEM] Processing AXSUSDT...\n",
      "[SYSTEM] Processing RENDERUSDT...\n",
      "[SYSTEM] Processing 2024-8 with aggregation level 8...\n",
      "[SYSTEM] Processing BTCUSDT...\n",
      "[SYSTEM] Data already available for BTCUSDT (BTCUSDT-trades-2024-08.csv)\n",
      "[SYSTEM] Processing ETHUSDT...\n",
      "[SYSTEM] Data already available for ETHUSDT (ETHUSDT-trades-2024-08.csv)\n",
      "[SYSTEM] Processing SOLUSDT...\n",
      "[SYSTEM] Data already available for SOLUSDT (SOLUSDT-trades-2024-08.csv)\n",
      "[SYSTEM] Processing BNBUSDT...\n",
      "[SYSTEM] Data already available for BNBUSDT (BNBUSDT-trades-2024-08.csv)\n",
      "[SYSTEM] Processing AVAXUSDT...\n",
      "[SYSTEM] Data already available for AVAXUSDT (AVAXUSDT-trades-2024-08.csv)\n",
      "[SYSTEM] Processing UNIUSDT...\n",
      "[SYSTEM] Data already available for UNIUSDT (UNIUSDT-trades-2024-08.csv)\n",
      "[SYSTEM] Processing LINKUSDT...\n",
      "[SYSTEM] Data already available for LINKUSDT (LINKUSDT-trades-2024-08.csv)\n",
      "[SYSTEM] Processing AXSUSDT...\n",
      "[SYSTEM] Data already available for AXSUSDT (AXSUSDT-trades-2024-08.csv)\n",
      "[SYSTEM] Processing RENDERUSDT...\n",
      "[SYSTEM] Data already available for RENDERUSDT (RENDERUSDT-trades-2024-08.csv)\n",
      "[SYSTEM] Processing BTCUSDT...\n",
      "[SYSTEM] Processing ETHUSDT...\n",
      "[SYSTEM] Processing SOLUSDT...\n",
      "[SYSTEM] Processing BNBUSDT...\n",
      "[SYSTEM] Processing AVAXUSDT...\n",
      "[SYSTEM] Processing UNIUSDT...\n",
      "[SYSTEM] Processing LINKUSDT...\n",
      "[SYSTEM] Processing AXSUSDT...\n",
      "[SYSTEM] Processing RENDERUSDT...\n",
      "[SYSTEM] Processing 2024-8 with aggregation level 9...\n",
      "[SYSTEM] Processing BTCUSDT...\n",
      "[SYSTEM] Data already available for BTCUSDT (BTCUSDT-trades-2024-08.csv)\n",
      "[SYSTEM] Processing ETHUSDT...\n",
      "[SYSTEM] Data already available for ETHUSDT (ETHUSDT-trades-2024-08.csv)\n",
      "[SYSTEM] Processing SOLUSDT...\n",
      "[SYSTEM] Data already available for SOLUSDT (SOLUSDT-trades-2024-08.csv)\n",
      "[SYSTEM] Processing BNBUSDT...\n",
      "[SYSTEM] Data already available for BNBUSDT (BNBUSDT-trades-2024-08.csv)\n",
      "[SYSTEM] Processing AVAXUSDT...\n",
      "[SYSTEM] Data already available for AVAXUSDT (AVAXUSDT-trades-2024-08.csv)\n",
      "[SYSTEM] Processing UNIUSDT...\n",
      "[SYSTEM] Data already available for UNIUSDT (UNIUSDT-trades-2024-08.csv)\n",
      "[SYSTEM] Processing LINKUSDT...\n",
      "[SYSTEM] Data already available for LINKUSDT (LINKUSDT-trades-2024-08.csv)\n",
      "[SYSTEM] Processing AXSUSDT...\n",
      "[SYSTEM] Data already available for AXSUSDT (AXSUSDT-trades-2024-08.csv)\n",
      "[SYSTEM] Processing RENDERUSDT...\n",
      "[SYSTEM] Data already available for RENDERUSDT (RENDERUSDT-trades-2024-08.csv)\n",
      "[SYSTEM] Processing BTCUSDT...\n",
      "[SYSTEM] Processing ETHUSDT...\n",
      "[SYSTEM] Processing SOLUSDT...\n",
      "[SYSTEM] Processing BNBUSDT...\n",
      "[SYSTEM] Processing AVAXUSDT...\n",
      "[SYSTEM] Processing UNIUSDT...\n",
      "[SYSTEM] Processing LINKUSDT...\n",
      "[SYSTEM] Processing AXSUSDT...\n",
      "[SYSTEM] Processing RENDERUSDT...\n",
      "[SYSTEM] Processing 2024-8 with aggregation level 10...\n",
      "[SYSTEM] Processing BTCUSDT...\n",
      "[SYSTEM] Data already available for BTCUSDT (BTCUSDT-trades-2024-08.csv)\n",
      "[SYSTEM] Processing ETHUSDT...\n",
      "[SYSTEM] Data already available for ETHUSDT (ETHUSDT-trades-2024-08.csv)\n",
      "[SYSTEM] Processing SOLUSDT...\n",
      "[SYSTEM] Data already available for SOLUSDT (SOLUSDT-trades-2024-08.csv)\n",
      "[SYSTEM] Processing BNBUSDT...\n",
      "[SYSTEM] Data already available for BNBUSDT (BNBUSDT-trades-2024-08.csv)\n",
      "[SYSTEM] Processing AVAXUSDT...\n",
      "[SYSTEM] Data already available for AVAXUSDT (AVAXUSDT-trades-2024-08.csv)\n",
      "[SYSTEM] Processing UNIUSDT...\n",
      "[SYSTEM] Data already available for UNIUSDT (UNIUSDT-trades-2024-08.csv)\n",
      "[SYSTEM] Processing LINKUSDT...\n",
      "[SYSTEM] Data already available for LINKUSDT (LINKUSDT-trades-2024-08.csv)\n",
      "[SYSTEM] Processing AXSUSDT...\n",
      "[SYSTEM] Data already available for AXSUSDT (AXSUSDT-trades-2024-08.csv)\n",
      "[SYSTEM] Processing RENDERUSDT...\n",
      "[SYSTEM] Data already available for RENDERUSDT (RENDERUSDT-trades-2024-08.csv)\n",
      "[SYSTEM] Processing BTCUSDT...\n",
      "[SYSTEM] Processing ETHUSDT...\n",
      "[SYSTEM] Processing SOLUSDT...\n",
      "[SYSTEM] Processing BNBUSDT...\n",
      "[SYSTEM] Processing AVAXUSDT...\n",
      "[SYSTEM] Processing UNIUSDT...\n",
      "[SYSTEM] Processing LINKUSDT...\n",
      "[SYSTEM] Processing AXSUSDT...\n",
      "[SYSTEM] Processing RENDERUSDT...\n",
      "[SYSTEM] Processing 2024-8 with aggregation level 11...\n",
      "[SYSTEM] Processing BTCUSDT...\n",
      "[SYSTEM] Data already available for BTCUSDT (BTCUSDT-trades-2024-08.csv)\n",
      "[SYSTEM] Processing ETHUSDT...\n",
      "[SYSTEM] Data already available for ETHUSDT (ETHUSDT-trades-2024-08.csv)\n",
      "[SYSTEM] Processing SOLUSDT...\n",
      "[SYSTEM] Data already available for SOLUSDT (SOLUSDT-trades-2024-08.csv)\n",
      "[SYSTEM] Processing BNBUSDT...\n",
      "[SYSTEM] Data already available for BNBUSDT (BNBUSDT-trades-2024-08.csv)\n",
      "[SYSTEM] Processing AVAXUSDT...\n",
      "[SYSTEM] Data already available for AVAXUSDT (AVAXUSDT-trades-2024-08.csv)\n",
      "[SYSTEM] Processing UNIUSDT...\n",
      "[SYSTEM] Data already available for UNIUSDT (UNIUSDT-trades-2024-08.csv)\n",
      "[SYSTEM] Processing LINKUSDT...\n",
      "[SYSTEM] Data already available for LINKUSDT (LINKUSDT-trades-2024-08.csv)\n",
      "[SYSTEM] Processing AXSUSDT...\n",
      "[SYSTEM] Data already available for AXSUSDT (AXSUSDT-trades-2024-08.csv)\n",
      "[SYSTEM] Processing RENDERUSDT...\n",
      "[SYSTEM] Data already available for RENDERUSDT (RENDERUSDT-trades-2024-08.csv)\n",
      "[SYSTEM] Processing BTCUSDT...\n",
      "[SYSTEM] Processing ETHUSDT...\n",
      "[SYSTEM] Processing SOLUSDT...\n",
      "[SYSTEM] Processing BNBUSDT...\n",
      "[SYSTEM] Processing AVAXUSDT...\n",
      "[SYSTEM] Processing UNIUSDT...\n",
      "[SYSTEM] Processing LINKUSDT...\n",
      "[SYSTEM] Processing AXSUSDT...\n",
      "[SYSTEM] Processing RENDERUSDT...\n",
      "[SYSTEM] Processing 2024-8 with aggregation level 12...\n",
      "[SYSTEM] Processing BTCUSDT...\n",
      "[SYSTEM] Data already available for BTCUSDT (BTCUSDT-trades-2024-08.csv)\n",
      "[SYSTEM] Processing ETHUSDT...\n",
      "[SYSTEM] Data already available for ETHUSDT (ETHUSDT-trades-2024-08.csv)\n",
      "[SYSTEM] Processing SOLUSDT...\n",
      "[SYSTEM] Data already available for SOLUSDT (SOLUSDT-trades-2024-08.csv)\n",
      "[SYSTEM] Processing BNBUSDT...\n",
      "[SYSTEM] Data already available for BNBUSDT (BNBUSDT-trades-2024-08.csv)\n",
      "[SYSTEM] Processing AVAXUSDT...\n",
      "[SYSTEM] Data already available for AVAXUSDT (AVAXUSDT-trades-2024-08.csv)\n",
      "[SYSTEM] Processing UNIUSDT...\n",
      "[SYSTEM] Data already available for UNIUSDT (UNIUSDT-trades-2024-08.csv)\n",
      "[SYSTEM] Processing LINKUSDT...\n",
      "[SYSTEM] Data already available for LINKUSDT (LINKUSDT-trades-2024-08.csv)\n",
      "[SYSTEM] Processing AXSUSDT...\n",
      "[SYSTEM] Data already available for AXSUSDT (AXSUSDT-trades-2024-08.csv)\n",
      "[SYSTEM] Processing RENDERUSDT...\n",
      "[SYSTEM] Data already available for RENDERUSDT (RENDERUSDT-trades-2024-08.csv)\n",
      "[SYSTEM] Processing BTCUSDT...\n",
      "[SYSTEM] Processing ETHUSDT...\n",
      "[SYSTEM] Processing SOLUSDT...\n",
      "[SYSTEM] Processing BNBUSDT...\n",
      "[SYSTEM] Processing AVAXUSDT...\n",
      "[SYSTEM] Processing UNIUSDT...\n",
      "[SYSTEM] Processing LINKUSDT...\n",
      "[SYSTEM] Processing AXSUSDT...\n",
      "[SYSTEM] Processing RENDERUSDT...\n",
      "[SYSTEM] Processing 2024-8 with aggregation level 13...\n",
      "[SYSTEM] Processing BTCUSDT...\n",
      "[SYSTEM] Data already available for BTCUSDT (BTCUSDT-trades-2024-08.csv)\n",
      "[SYSTEM] Processing ETHUSDT...\n",
      "[SYSTEM] Data already available for ETHUSDT (ETHUSDT-trades-2024-08.csv)\n",
      "[SYSTEM] Processing SOLUSDT...\n",
      "[SYSTEM] Data already available for SOLUSDT (SOLUSDT-trades-2024-08.csv)\n",
      "[SYSTEM] Processing BNBUSDT...\n",
      "[SYSTEM] Data already available for BNBUSDT (BNBUSDT-trades-2024-08.csv)\n",
      "[SYSTEM] Processing AVAXUSDT...\n",
      "[SYSTEM] Data already available for AVAXUSDT (AVAXUSDT-trades-2024-08.csv)\n",
      "[SYSTEM] Processing UNIUSDT...\n",
      "[SYSTEM] Data already available for UNIUSDT (UNIUSDT-trades-2024-08.csv)\n",
      "[SYSTEM] Processing LINKUSDT...\n",
      "[SYSTEM] Data already available for LINKUSDT (LINKUSDT-trades-2024-08.csv)\n",
      "[SYSTEM] Processing AXSUSDT...\n",
      "[SYSTEM] Data already available for AXSUSDT (AXSUSDT-trades-2024-08.csv)\n",
      "[SYSTEM] Processing RENDERUSDT...\n",
      "[SYSTEM] Data already available for RENDERUSDT (RENDERUSDT-trades-2024-08.csv)\n",
      "[SYSTEM] Processing BTCUSDT...\n",
      "[SYSTEM] Processing ETHUSDT...\n",
      "[SYSTEM] Processing SOLUSDT...\n",
      "[SYSTEM] Processing BNBUSDT...\n",
      "[SYSTEM] Processing AVAXUSDT...\n",
      "[SYSTEM] Processing UNIUSDT...\n",
      "[SYSTEM] Processing LINKUSDT...\n",
      "[SYSTEM] Processing AXSUSDT...\n",
      "[SYSTEM] Processing RENDERUSDT...\n",
      "[SYSTEM] Processing 2024-8 with aggregation level 14...\n",
      "[SYSTEM] Processing BTCUSDT...\n",
      "[SYSTEM] Data already available for BTCUSDT (BTCUSDT-trades-2024-08.csv)\n",
      "[SYSTEM] Processing ETHUSDT...\n",
      "[SYSTEM] Data already available for ETHUSDT (ETHUSDT-trades-2024-08.csv)\n",
      "[SYSTEM] Processing SOLUSDT...\n",
      "[SYSTEM] Data already available for SOLUSDT (SOLUSDT-trades-2024-08.csv)\n",
      "[SYSTEM] Processing BNBUSDT...\n",
      "[SYSTEM] Data already available for BNBUSDT (BNBUSDT-trades-2024-08.csv)\n",
      "[SYSTEM] Processing AVAXUSDT...\n",
      "[SYSTEM] Data already available for AVAXUSDT (AVAXUSDT-trades-2024-08.csv)\n",
      "[SYSTEM] Processing UNIUSDT...\n",
      "[SYSTEM] Data already available for UNIUSDT (UNIUSDT-trades-2024-08.csv)\n",
      "[SYSTEM] Processing LINKUSDT...\n",
      "[SYSTEM] Data already available for LINKUSDT (LINKUSDT-trades-2024-08.csv)\n",
      "[SYSTEM] Processing AXSUSDT...\n",
      "[SYSTEM] Data already available for AXSUSDT (AXSUSDT-trades-2024-08.csv)\n",
      "[SYSTEM] Processing RENDERUSDT...\n",
      "[SYSTEM] Data already available for RENDERUSDT (RENDERUSDT-trades-2024-08.csv)\n",
      "[SYSTEM] Processing BTCUSDT...\n",
      "[SYSTEM] Processing ETHUSDT...\n",
      "[SYSTEM] Processing SOLUSDT...\n",
      "[SYSTEM] Processing BNBUSDT...\n",
      "[SYSTEM] Processing AVAXUSDT...\n",
      "[SYSTEM] Processing UNIUSDT...\n",
      "[SYSTEM] Processing LINKUSDT...\n",
      "[SYSTEM] Processing AXSUSDT...\n",
      "[SYSTEM] Processing RENDERUSDT...\n",
      "[SYSTEM] Processing 2024-8 with aggregation level 15...\n",
      "[SYSTEM] Processing BTCUSDT...\n",
      "[SYSTEM] Data already available for BTCUSDT (BTCUSDT-trades-2024-08.csv)\n",
      "[SYSTEM] Processing ETHUSDT...\n",
      "[SYSTEM] Data already available for ETHUSDT (ETHUSDT-trades-2024-08.csv)\n",
      "[SYSTEM] Processing SOLUSDT...\n",
      "[SYSTEM] Data already available for SOLUSDT (SOLUSDT-trades-2024-08.csv)\n",
      "[SYSTEM] Processing BNBUSDT...\n",
      "[SYSTEM] Data already available for BNBUSDT (BNBUSDT-trades-2024-08.csv)\n",
      "[SYSTEM] Processing AVAXUSDT...\n",
      "[SYSTEM] Data already available for AVAXUSDT (AVAXUSDT-trades-2024-08.csv)\n",
      "[SYSTEM] Processing UNIUSDT...\n",
      "[SYSTEM] Data already available for UNIUSDT (UNIUSDT-trades-2024-08.csv)\n",
      "[SYSTEM] Processing LINKUSDT...\n",
      "[SYSTEM] Data already available for LINKUSDT (LINKUSDT-trades-2024-08.csv)\n",
      "[SYSTEM] Processing AXSUSDT...\n",
      "[SYSTEM] Data already available for AXSUSDT (AXSUSDT-trades-2024-08.csv)\n",
      "[SYSTEM] Processing RENDERUSDT...\n",
      "[SYSTEM] Data already available for RENDERUSDT (RENDERUSDT-trades-2024-08.csv)\n",
      "[SYSTEM] Processing BTCUSDT...\n",
      "[SYSTEM] Processing ETHUSDT...\n",
      "[SYSTEM] Processing SOLUSDT...\n",
      "[SYSTEM] Processing BNBUSDT...\n",
      "[SYSTEM] Processing AVAXUSDT...\n",
      "[SYSTEM] Processing UNIUSDT...\n",
      "[SYSTEM] Processing LINKUSDT...\n",
      "[SYSTEM] Processing AXSUSDT...\n",
      "[SYSTEM] Processing RENDERUSDT...\n",
      "[SYSTEM] Processing 2024-8 with aggregation level 16...\n",
      "[SYSTEM] Processing BTCUSDT...\n",
      "[SYSTEM] Data already available for BTCUSDT (BTCUSDT-trades-2024-08.csv)\n",
      "[SYSTEM] Processing ETHUSDT...\n",
      "[SYSTEM] Data already available for ETHUSDT (ETHUSDT-trades-2024-08.csv)\n",
      "[SYSTEM] Processing SOLUSDT...\n",
      "[SYSTEM] Data already available for SOLUSDT (SOLUSDT-trades-2024-08.csv)\n",
      "[SYSTEM] Processing BNBUSDT...\n",
      "[SYSTEM] Data already available for BNBUSDT (BNBUSDT-trades-2024-08.csv)\n",
      "[SYSTEM] Processing AVAXUSDT...\n",
      "[SYSTEM] Data already available for AVAXUSDT (AVAXUSDT-trades-2024-08.csv)\n",
      "[SYSTEM] Processing UNIUSDT...\n",
      "[SYSTEM] Data already available for UNIUSDT (UNIUSDT-trades-2024-08.csv)\n",
      "[SYSTEM] Processing LINKUSDT...\n",
      "[SYSTEM] Data already available for LINKUSDT (LINKUSDT-trades-2024-08.csv)\n",
      "[SYSTEM] Processing AXSUSDT...\n",
      "[SYSTEM] Data already available for AXSUSDT (AXSUSDT-trades-2024-08.csv)\n",
      "[SYSTEM] Processing RENDERUSDT...\n",
      "[SYSTEM] Data already available for RENDERUSDT (RENDERUSDT-trades-2024-08.csv)\n",
      "[SYSTEM] Processing BTCUSDT...\n",
      "[SYSTEM] Processing ETHUSDT...\n",
      "[SYSTEM] Processing SOLUSDT...\n",
      "[SYSTEM] Processing BNBUSDT...\n",
      "[SYSTEM] Processing AVAXUSDT...\n",
      "[SYSTEM] Processing UNIUSDT...\n",
      "[SYSTEM] Processing LINKUSDT...\n",
      "[SYSTEM] Processing AXSUSDT...\n",
      "[SYSTEM] Processing RENDERUSDT...\n",
      "[SYSTEM] Processing 2024-8 with aggregation level 17...\n",
      "[SYSTEM] Processing BTCUSDT...\n",
      "[SYSTEM] Data already available for BTCUSDT (BTCUSDT-trades-2024-08.csv)\n",
      "[SYSTEM] Processing ETHUSDT...\n",
      "[SYSTEM] Data already available for ETHUSDT (ETHUSDT-trades-2024-08.csv)\n",
      "[SYSTEM] Processing SOLUSDT...\n",
      "[SYSTEM] Data already available for SOLUSDT (SOLUSDT-trades-2024-08.csv)\n",
      "[SYSTEM] Processing BNBUSDT...\n",
      "[SYSTEM] Data already available for BNBUSDT (BNBUSDT-trades-2024-08.csv)\n",
      "[SYSTEM] Processing AVAXUSDT...\n",
      "[SYSTEM] Data already available for AVAXUSDT (AVAXUSDT-trades-2024-08.csv)\n",
      "[SYSTEM] Processing UNIUSDT...\n",
      "[SYSTEM] Data already available for UNIUSDT (UNIUSDT-trades-2024-08.csv)\n",
      "[SYSTEM] Processing LINKUSDT...\n",
      "[SYSTEM] Data already available for LINKUSDT (LINKUSDT-trades-2024-08.csv)\n",
      "[SYSTEM] Processing AXSUSDT...\n",
      "[SYSTEM] Data already available for AXSUSDT (AXSUSDT-trades-2024-08.csv)\n",
      "[SYSTEM] Processing RENDERUSDT...\n",
      "[SYSTEM] Data already available for RENDERUSDT (RENDERUSDT-trades-2024-08.csv)\n",
      "[SYSTEM] Processing BTCUSDT...\n",
      "[SYSTEM] Processing ETHUSDT...\n",
      "[SYSTEM] Processing SOLUSDT...\n",
      "[SYSTEM] Processing BNBUSDT...\n",
      "[SYSTEM] Processing AVAXUSDT...\n",
      "[SYSTEM] Processing UNIUSDT...\n",
      "[SYSTEM] Processing LINKUSDT...\n",
      "[SYSTEM] Processing AXSUSDT...\n",
      "[SYSTEM] Processing RENDERUSDT...\n",
      "[SYSTEM] Processing 2024-8 with aggregation level 18...\n",
      "[SYSTEM] Processing BTCUSDT...\n",
      "[SYSTEM] Data already available for BTCUSDT (BTCUSDT-trades-2024-08.csv)\n",
      "[SYSTEM] Processing ETHUSDT...\n",
      "[SYSTEM] Data already available for ETHUSDT (ETHUSDT-trades-2024-08.csv)\n",
      "[SYSTEM] Processing SOLUSDT...\n",
      "[SYSTEM] Data already available for SOLUSDT (SOLUSDT-trades-2024-08.csv)\n",
      "[SYSTEM] Processing BNBUSDT...\n",
      "[SYSTEM] Data already available for BNBUSDT (BNBUSDT-trades-2024-08.csv)\n",
      "[SYSTEM] Processing AVAXUSDT...\n",
      "[SYSTEM] Data already available for AVAXUSDT (AVAXUSDT-trades-2024-08.csv)\n",
      "[SYSTEM] Processing UNIUSDT...\n",
      "[SYSTEM] Data already available for UNIUSDT (UNIUSDT-trades-2024-08.csv)\n",
      "[SYSTEM] Processing LINKUSDT...\n",
      "[SYSTEM] Data already available for LINKUSDT (LINKUSDT-trades-2024-08.csv)\n",
      "[SYSTEM] Processing AXSUSDT...\n",
      "[SYSTEM] Data already available for AXSUSDT (AXSUSDT-trades-2024-08.csv)\n",
      "[SYSTEM] Processing RENDERUSDT...\n",
      "[SYSTEM] Data already available for RENDERUSDT (RENDERUSDT-trades-2024-08.csv)\n",
      "[SYSTEM] Processing BTCUSDT...\n",
      "[SYSTEM] Processing ETHUSDT...\n",
      "[SYSTEM] Processing SOLUSDT...\n",
      "[SYSTEM] Processing BNBUSDT...\n",
      "[SYSTEM] Processing AVAXUSDT...\n",
      "[SYSTEM] Processing UNIUSDT...\n",
      "[SYSTEM] Processing LINKUSDT...\n",
      "[SYSTEM] Processing AXSUSDT...\n",
      "[SYSTEM] Processing RENDERUSDT...\n",
      "[SYSTEM] Processing 2024-8 with aggregation level 19...\n",
      "[SYSTEM] Processing BTCUSDT...\n",
      "[SYSTEM] Data already available for BTCUSDT (BTCUSDT-trades-2024-08.csv)\n",
      "[SYSTEM] Processing ETHUSDT...\n",
      "[SYSTEM] Data already available for ETHUSDT (ETHUSDT-trades-2024-08.csv)\n",
      "[SYSTEM] Processing SOLUSDT...\n",
      "[SYSTEM] Data already available for SOLUSDT (SOLUSDT-trades-2024-08.csv)\n",
      "[SYSTEM] Processing BNBUSDT...\n",
      "[SYSTEM] Data already available for BNBUSDT (BNBUSDT-trades-2024-08.csv)\n",
      "[SYSTEM] Processing AVAXUSDT...\n",
      "[SYSTEM] Data already available for AVAXUSDT (AVAXUSDT-trades-2024-08.csv)\n",
      "[SYSTEM] Processing UNIUSDT...\n",
      "[SYSTEM] Data already available for UNIUSDT (UNIUSDT-trades-2024-08.csv)\n",
      "[SYSTEM] Processing LINKUSDT...\n",
      "[SYSTEM] Data already available for LINKUSDT (LINKUSDT-trades-2024-08.csv)\n",
      "[SYSTEM] Processing AXSUSDT...\n",
      "[SYSTEM] Data already available for AXSUSDT (AXSUSDT-trades-2024-08.csv)\n",
      "[SYSTEM] Processing RENDERUSDT...\n",
      "[SYSTEM] Data already available for RENDERUSDT (RENDERUSDT-trades-2024-08.csv)\n",
      "[SYSTEM] Processing BTCUSDT...\n",
      "[SYSTEM] Processing ETHUSDT...\n",
      "[SYSTEM] Processing SOLUSDT...\n",
      "[SYSTEM] Processing BNBUSDT...\n",
      "[SYSTEM] Processing AVAXUSDT...\n",
      "[SYSTEM] Processing UNIUSDT...\n",
      "[SYSTEM] Processing LINKUSDT...\n",
      "[SYSTEM] Processing AXSUSDT...\n",
      "[SYSTEM] Processing RENDERUSDT...\n",
      "[SYSTEM] Processing 2024-8 with aggregation level 20...\n",
      "[SYSTEM] Processing BTCUSDT...\n",
      "[SYSTEM] Data already available for BTCUSDT (BTCUSDT-trades-2024-08.csv)\n",
      "[SYSTEM] Processing ETHUSDT...\n",
      "[SYSTEM] Data already available for ETHUSDT (ETHUSDT-trades-2024-08.csv)\n",
      "[SYSTEM] Processing SOLUSDT...\n",
      "[SYSTEM] Data already available for SOLUSDT (SOLUSDT-trades-2024-08.csv)\n",
      "[SYSTEM] Processing BNBUSDT...\n",
      "[SYSTEM] Data already available for BNBUSDT (BNBUSDT-trades-2024-08.csv)\n",
      "[SYSTEM] Processing AVAXUSDT...\n",
      "[SYSTEM] Data already available for AVAXUSDT (AVAXUSDT-trades-2024-08.csv)\n",
      "[SYSTEM] Processing UNIUSDT...\n",
      "[SYSTEM] Data already available for UNIUSDT (UNIUSDT-trades-2024-08.csv)\n",
      "[SYSTEM] Processing LINKUSDT...\n",
      "[SYSTEM] Data already available for LINKUSDT (LINKUSDT-trades-2024-08.csv)\n",
      "[SYSTEM] Processing AXSUSDT...\n",
      "[SYSTEM] Data already available for AXSUSDT (AXSUSDT-trades-2024-08.csv)\n",
      "[SYSTEM] Processing RENDERUSDT...\n",
      "[SYSTEM] Data already available for RENDERUSDT (RENDERUSDT-trades-2024-08.csv)\n",
      "[SYSTEM] Processing BTCUSDT...\n",
      "[SYSTEM] Processing ETHUSDT...\n",
      "[SYSTEM] Processing SOLUSDT...\n",
      "[SYSTEM] Processing BNBUSDT...\n",
      "[SYSTEM] Processing AVAXUSDT...\n",
      "[SYSTEM] Processing UNIUSDT...\n",
      "[SYSTEM] Processing LINKUSDT...\n",
      "[SYSTEM] Processing AXSUSDT...\n",
      "[SYSTEM] Processing RENDERUSDT...\n",
      "[SYSTEM] Processing 2024-8 with aggregation level 21...\n",
      "[SYSTEM] Processing BTCUSDT...\n",
      "[SYSTEM] Data already available for BTCUSDT (BTCUSDT-trades-2024-08.csv)\n",
      "[SYSTEM] Processing ETHUSDT...\n",
      "[SYSTEM] Data already available for ETHUSDT (ETHUSDT-trades-2024-08.csv)\n",
      "[SYSTEM] Processing SOLUSDT...\n",
      "[SYSTEM] Data already available for SOLUSDT (SOLUSDT-trades-2024-08.csv)\n",
      "[SYSTEM] Processing BNBUSDT...\n",
      "[SYSTEM] Data already available for BNBUSDT (BNBUSDT-trades-2024-08.csv)\n",
      "[SYSTEM] Processing AVAXUSDT...\n",
      "[SYSTEM] Data already available for AVAXUSDT (AVAXUSDT-trades-2024-08.csv)\n",
      "[SYSTEM] Processing UNIUSDT...\n",
      "[SYSTEM] Data already available for UNIUSDT (UNIUSDT-trades-2024-08.csv)\n",
      "[SYSTEM] Processing LINKUSDT...\n",
      "[SYSTEM] Data already available for LINKUSDT (LINKUSDT-trades-2024-08.csv)\n",
      "[SYSTEM] Processing AXSUSDT...\n",
      "[SYSTEM] Data already available for AXSUSDT (AXSUSDT-trades-2024-08.csv)\n",
      "[SYSTEM] Processing RENDERUSDT...\n",
      "[SYSTEM] Data already available for RENDERUSDT (RENDERUSDT-trades-2024-08.csv)\n",
      "[SYSTEM] Processing BTCUSDT...\n",
      "[SYSTEM] Processing ETHUSDT...\n",
      "[SYSTEM] Processing SOLUSDT...\n",
      "[SYSTEM] Processing BNBUSDT...\n",
      "[SYSTEM] Processing AVAXUSDT...\n",
      "[SYSTEM] Processing UNIUSDT...\n",
      "[SYSTEM] Processing LINKUSDT...\n",
      "[SYSTEM] Processing AXSUSDT...\n",
      "[SYSTEM] Processing RENDERUSDT...\n",
      "[SYSTEM] Processing 2024-8 with aggregation level 22...\n",
      "[SYSTEM] Processing BTCUSDT...\n",
      "[SYSTEM] Data already available for BTCUSDT (BTCUSDT-trades-2024-08.csv)\n",
      "[SYSTEM] Processing ETHUSDT...\n",
      "[SYSTEM] Data already available for ETHUSDT (ETHUSDT-trades-2024-08.csv)\n",
      "[SYSTEM] Processing SOLUSDT...\n",
      "[SYSTEM] Data already available for SOLUSDT (SOLUSDT-trades-2024-08.csv)\n",
      "[SYSTEM] Processing BNBUSDT...\n",
      "[SYSTEM] Data already available for BNBUSDT (BNBUSDT-trades-2024-08.csv)\n",
      "[SYSTEM] Processing AVAXUSDT...\n",
      "[SYSTEM] Data already available for AVAXUSDT (AVAXUSDT-trades-2024-08.csv)\n",
      "[SYSTEM] Processing UNIUSDT...\n",
      "[SYSTEM] Data already available for UNIUSDT (UNIUSDT-trades-2024-08.csv)\n",
      "[SYSTEM] Processing LINKUSDT...\n",
      "[SYSTEM] Data already available for LINKUSDT (LINKUSDT-trades-2024-08.csv)\n",
      "[SYSTEM] Processing AXSUSDT...\n",
      "[SYSTEM] Data already available for AXSUSDT (AXSUSDT-trades-2024-08.csv)\n",
      "[SYSTEM] Processing RENDERUSDT...\n",
      "[SYSTEM] Data already available for RENDERUSDT (RENDERUSDT-trades-2024-08.csv)\n",
      "[SYSTEM] Processing BTCUSDT...\n",
      "[SYSTEM] Processing ETHUSDT...\n",
      "[SYSTEM] Processing SOLUSDT...\n",
      "[SYSTEM] Processing BNBUSDT...\n",
      "[SYSTEM] Processing AVAXUSDT...\n",
      "[SYSTEM] Processing UNIUSDT...\n",
      "[SYSTEM] Processing LINKUSDT...\n",
      "[SYSTEM] Processing AXSUSDT...\n",
      "[SYSTEM] Processing RENDERUSDT...\n",
      "[SYSTEM] Processing 2024-8 with aggregation level 23...\n",
      "[SYSTEM] Processing BTCUSDT...\n",
      "[SYSTEM] Data already available for BTCUSDT (BTCUSDT-trades-2024-08.csv)\n",
      "[SYSTEM] Processing ETHUSDT...\n",
      "[SYSTEM] Data already available for ETHUSDT (ETHUSDT-trades-2024-08.csv)\n",
      "[SYSTEM] Processing SOLUSDT...\n",
      "[SYSTEM] Data already available for SOLUSDT (SOLUSDT-trades-2024-08.csv)\n",
      "[SYSTEM] Processing BNBUSDT...\n",
      "[SYSTEM] Data already available for BNBUSDT (BNBUSDT-trades-2024-08.csv)\n",
      "[SYSTEM] Processing AVAXUSDT...\n",
      "[SYSTEM] Data already available for AVAXUSDT (AVAXUSDT-trades-2024-08.csv)\n",
      "[SYSTEM] Processing UNIUSDT...\n",
      "[SYSTEM] Data already available for UNIUSDT (UNIUSDT-trades-2024-08.csv)\n",
      "[SYSTEM] Processing LINKUSDT...\n",
      "[SYSTEM] Data already available for LINKUSDT (LINKUSDT-trades-2024-08.csv)\n",
      "[SYSTEM] Processing AXSUSDT...\n",
      "[SYSTEM] Data already available for AXSUSDT (AXSUSDT-trades-2024-08.csv)\n",
      "[SYSTEM] Processing RENDERUSDT...\n",
      "[SYSTEM] Data already available for RENDERUSDT (RENDERUSDT-trades-2024-08.csv)\n",
      "[SYSTEM] Processing BTCUSDT...\n",
      "[SYSTEM] Processing ETHUSDT...\n",
      "[SYSTEM] Processing SOLUSDT...\n",
      "[SYSTEM] Processing BNBUSDT...\n",
      "[SYSTEM] Processing AVAXUSDT...\n",
      "[SYSTEM] Processing UNIUSDT...\n",
      "[SYSTEM] Processing LINKUSDT...\n",
      "[SYSTEM] Processing AXSUSDT...\n",
      "[SYSTEM] Processing RENDERUSDT...\n",
      "[SYSTEM] Processing 2024-8 with aggregation level 24...\n",
      "[SYSTEM] Processing BTCUSDT...\n",
      "[SYSTEM] Data already available for BTCUSDT (BTCUSDT-trades-2024-08.csv)\n",
      "[SYSTEM] Processing ETHUSDT...\n",
      "[SYSTEM] Data already available for ETHUSDT (ETHUSDT-trades-2024-08.csv)\n",
      "[SYSTEM] Processing SOLUSDT...\n",
      "[SYSTEM] Data already available for SOLUSDT (SOLUSDT-trades-2024-08.csv)\n",
      "[SYSTEM] Processing BNBUSDT...\n",
      "[SYSTEM] Data already available for BNBUSDT (BNBUSDT-trades-2024-08.csv)\n",
      "[SYSTEM] Processing AVAXUSDT...\n",
      "[SYSTEM] Data already available for AVAXUSDT (AVAXUSDT-trades-2024-08.csv)\n",
      "[SYSTEM] Processing UNIUSDT...\n",
      "[SYSTEM] Data already available for UNIUSDT (UNIUSDT-trades-2024-08.csv)\n",
      "[SYSTEM] Processing LINKUSDT...\n",
      "[SYSTEM] Data already available for LINKUSDT (LINKUSDT-trades-2024-08.csv)\n",
      "[SYSTEM] Processing AXSUSDT...\n",
      "[SYSTEM] Data already available for AXSUSDT (AXSUSDT-trades-2024-08.csv)\n",
      "[SYSTEM] Processing RENDERUSDT...\n",
      "[SYSTEM] Data already available for RENDERUSDT (RENDERUSDT-trades-2024-08.csv)\n",
      "[SYSTEM] Processing BTCUSDT...\n",
      "[SYSTEM] Processing ETHUSDT...\n",
      "[SYSTEM] Processing SOLUSDT...\n",
      "[SYSTEM] Processing BNBUSDT...\n",
      "[SYSTEM] Processing AVAXUSDT...\n",
      "[SYSTEM] Processing UNIUSDT...\n",
      "[SYSTEM] Processing LINKUSDT...\n",
      "[SYSTEM] Processing AXSUSDT...\n",
      "[SYSTEM] Processing RENDERUSDT...\n",
      "[SYSTEM] Processing 2024-8 with aggregation level 25...\n",
      "[SYSTEM] Processing BTCUSDT...\n",
      "[SYSTEM] Data already available for BTCUSDT (BTCUSDT-trades-2024-08.csv)\n",
      "[SYSTEM] Processing ETHUSDT...\n",
      "[SYSTEM] Data already available for ETHUSDT (ETHUSDT-trades-2024-08.csv)\n",
      "[SYSTEM] Processing SOLUSDT...\n",
      "[SYSTEM] Data already available for SOLUSDT (SOLUSDT-trades-2024-08.csv)\n",
      "[SYSTEM] Processing BNBUSDT...\n",
      "[SYSTEM] Data already available for BNBUSDT (BNBUSDT-trades-2024-08.csv)\n",
      "[SYSTEM] Processing AVAXUSDT...\n",
      "[SYSTEM] Data already available for AVAXUSDT (AVAXUSDT-trades-2024-08.csv)\n",
      "[SYSTEM] Processing UNIUSDT...\n",
      "[SYSTEM] Data already available for UNIUSDT (UNIUSDT-trades-2024-08.csv)\n",
      "[SYSTEM] Processing LINKUSDT...\n",
      "[SYSTEM] Data already available for LINKUSDT (LINKUSDT-trades-2024-08.csv)\n",
      "[SYSTEM] Processing AXSUSDT...\n",
      "[SYSTEM] Data already available for AXSUSDT (AXSUSDT-trades-2024-08.csv)\n",
      "[SYSTEM] Processing RENDERUSDT...\n",
      "[SYSTEM] Data already available for RENDERUSDT (RENDERUSDT-trades-2024-08.csv)\n",
      "[SYSTEM] Processing BTCUSDT...\n",
      "[SYSTEM] Processing ETHUSDT...\n",
      "[SYSTEM] Processing SOLUSDT...\n",
      "[SYSTEM] Processing BNBUSDT...\n",
      "[SYSTEM] Processing AVAXUSDT...\n",
      "[SYSTEM] Processing UNIUSDT...\n",
      "[SYSTEM] Processing LINKUSDT...\n",
      "[SYSTEM] Processing AXSUSDT...\n",
      "[SYSTEM] Processing RENDERUSDT...\n",
      "[SYSTEM] Processing 2024-8 with aggregation level 26...\n",
      "[SYSTEM] Processing BTCUSDT...\n",
      "[SYSTEM] Data already available for BTCUSDT (BTCUSDT-trades-2024-08.csv)\n",
      "[SYSTEM] Processing ETHUSDT...\n",
      "[SYSTEM] Data already available for ETHUSDT (ETHUSDT-trades-2024-08.csv)\n",
      "[SYSTEM] Processing SOLUSDT...\n",
      "[SYSTEM] Data already available for SOLUSDT (SOLUSDT-trades-2024-08.csv)\n",
      "[SYSTEM] Processing BNBUSDT...\n",
      "[SYSTEM] Data already available for BNBUSDT (BNBUSDT-trades-2024-08.csv)\n",
      "[SYSTEM] Processing AVAXUSDT...\n",
      "[SYSTEM] Data already available for AVAXUSDT (AVAXUSDT-trades-2024-08.csv)\n",
      "[SYSTEM] Processing UNIUSDT...\n",
      "[SYSTEM] Data already available for UNIUSDT (UNIUSDT-trades-2024-08.csv)\n",
      "[SYSTEM] Processing LINKUSDT...\n",
      "[SYSTEM] Data already available for LINKUSDT (LINKUSDT-trades-2024-08.csv)\n",
      "[SYSTEM] Processing AXSUSDT...\n",
      "[SYSTEM] Data already available for AXSUSDT (AXSUSDT-trades-2024-08.csv)\n",
      "[SYSTEM] Processing RENDERUSDT...\n",
      "[SYSTEM] Data already available for RENDERUSDT (RENDERUSDT-trades-2024-08.csv)\n",
      "[SYSTEM] Processing BTCUSDT...\n",
      "[SYSTEM] Processing ETHUSDT...\n",
      "[SYSTEM] Processing SOLUSDT...\n",
      "[SYSTEM] Processing BNBUSDT...\n",
      "[SYSTEM] Processing AVAXUSDT...\n",
      "[SYSTEM] Processing UNIUSDT...\n",
      "[SYSTEM] Processing LINKUSDT...\n",
      "[SYSTEM] Processing AXSUSDT...\n",
      "[SYSTEM] Processing RENDERUSDT...\n",
      "[SYSTEM] Processing 2024-8 with aggregation level 27...\n",
      "[SYSTEM] Processing BTCUSDT...\n",
      "[SYSTEM] Data already available for BTCUSDT (BTCUSDT-trades-2024-08.csv)\n",
      "[SYSTEM] Processing ETHUSDT...\n",
      "[SYSTEM] Data already available for ETHUSDT (ETHUSDT-trades-2024-08.csv)\n",
      "[SYSTEM] Processing SOLUSDT...\n",
      "[SYSTEM] Data already available for SOLUSDT (SOLUSDT-trades-2024-08.csv)\n",
      "[SYSTEM] Processing BNBUSDT...\n",
      "[SYSTEM] Data already available for BNBUSDT (BNBUSDT-trades-2024-08.csv)\n",
      "[SYSTEM] Processing AVAXUSDT...\n",
      "[SYSTEM] Data already available for AVAXUSDT (AVAXUSDT-trades-2024-08.csv)\n",
      "[SYSTEM] Processing UNIUSDT...\n",
      "[SYSTEM] Data already available for UNIUSDT (UNIUSDT-trades-2024-08.csv)\n",
      "[SYSTEM] Processing LINKUSDT...\n",
      "[SYSTEM] Data already available for LINKUSDT (LINKUSDT-trades-2024-08.csv)\n",
      "[SYSTEM] Processing AXSUSDT...\n",
      "[SYSTEM] Data already available for AXSUSDT (AXSUSDT-trades-2024-08.csv)\n",
      "[SYSTEM] Processing RENDERUSDT...\n",
      "[SYSTEM] Data already available for RENDERUSDT (RENDERUSDT-trades-2024-08.csv)\n",
      "[SYSTEM] Processing BTCUSDT...\n",
      "[SYSTEM] Processing ETHUSDT...\n",
      "[SYSTEM] Processing SOLUSDT...\n",
      "[SYSTEM] Processing BNBUSDT...\n",
      "[SYSTEM] Processing AVAXUSDT...\n",
      "[SYSTEM] Processing UNIUSDT...\n",
      "[SYSTEM] Processing LINKUSDT...\n",
      "[SYSTEM] Processing AXSUSDT...\n",
      "[SYSTEM] Processing RENDERUSDT...\n",
      "[SYSTEM] Processing 2024-8 with aggregation level 28...\n",
      "[SYSTEM] Processing BTCUSDT...\n",
      "[SYSTEM] Data already available for BTCUSDT (BTCUSDT-trades-2024-08.csv)\n",
      "[SYSTEM] Processing ETHUSDT...\n",
      "[SYSTEM] Data already available for ETHUSDT (ETHUSDT-trades-2024-08.csv)\n",
      "[SYSTEM] Processing SOLUSDT...\n",
      "[SYSTEM] Data already available for SOLUSDT (SOLUSDT-trades-2024-08.csv)\n",
      "[SYSTEM] Processing BNBUSDT...\n",
      "[SYSTEM] Data already available for BNBUSDT (BNBUSDT-trades-2024-08.csv)\n",
      "[SYSTEM] Processing AVAXUSDT...\n",
      "[SYSTEM] Data already available for AVAXUSDT (AVAXUSDT-trades-2024-08.csv)\n",
      "[SYSTEM] Processing UNIUSDT...\n",
      "[SYSTEM] Data already available for UNIUSDT (UNIUSDT-trades-2024-08.csv)\n",
      "[SYSTEM] Processing LINKUSDT...\n",
      "[SYSTEM] Data already available for LINKUSDT (LINKUSDT-trades-2024-08.csv)\n",
      "[SYSTEM] Processing AXSUSDT...\n",
      "[SYSTEM] Data already available for AXSUSDT (AXSUSDT-trades-2024-08.csv)\n",
      "[SYSTEM] Processing RENDERUSDT...\n",
      "[SYSTEM] Data already available for RENDERUSDT (RENDERUSDT-trades-2024-08.csv)\n",
      "[SYSTEM] Processing BTCUSDT...\n",
      "[SYSTEM] Processing ETHUSDT...\n",
      "[SYSTEM] Processing SOLUSDT...\n",
      "[SYSTEM] Processing BNBUSDT...\n",
      "[SYSTEM] Processing AVAXUSDT...\n",
      "[SYSTEM] Processing UNIUSDT...\n",
      "[SYSTEM] Processing LINKUSDT...\n",
      "[SYSTEM] Processing AXSUSDT...\n",
      "[SYSTEM] Processing RENDERUSDT...\n",
      "[SYSTEM] Processing 2024-8 with aggregation level 29...\n",
      "[SYSTEM] Processing BTCUSDT...\n",
      "[SYSTEM] Data already available for BTCUSDT (BTCUSDT-trades-2024-08.csv)\n",
      "[SYSTEM] Processing ETHUSDT...\n",
      "[SYSTEM] Data already available for ETHUSDT (ETHUSDT-trades-2024-08.csv)\n",
      "[SYSTEM] Processing SOLUSDT...\n",
      "[SYSTEM] Data already available for SOLUSDT (SOLUSDT-trades-2024-08.csv)\n",
      "[SYSTEM] Processing BNBUSDT...\n",
      "[SYSTEM] Data already available for BNBUSDT (BNBUSDT-trades-2024-08.csv)\n",
      "[SYSTEM] Processing AVAXUSDT...\n",
      "[SYSTEM] Data already available for AVAXUSDT (AVAXUSDT-trades-2024-08.csv)\n",
      "[SYSTEM] Processing UNIUSDT...\n",
      "[SYSTEM] Data already available for UNIUSDT (UNIUSDT-trades-2024-08.csv)\n",
      "[SYSTEM] Processing LINKUSDT...\n",
      "[SYSTEM] Data already available for LINKUSDT (LINKUSDT-trades-2024-08.csv)\n",
      "[SYSTEM] Processing AXSUSDT...\n",
      "[SYSTEM] Data already available for AXSUSDT (AXSUSDT-trades-2024-08.csv)\n",
      "[SYSTEM] Processing RENDERUSDT...\n",
      "[SYSTEM] Data already available for RENDERUSDT (RENDERUSDT-trades-2024-08.csv)\n",
      "[SYSTEM] Processing BTCUSDT...\n",
      "[SYSTEM] Processing ETHUSDT...\n",
      "[SYSTEM] Processing SOLUSDT...\n",
      "[SYSTEM] Processing BNBUSDT...\n",
      "[SYSTEM] Processing AVAXUSDT...\n",
      "[SYSTEM] Processing UNIUSDT...\n",
      "[SYSTEM] Processing LINKUSDT...\n",
      "[SYSTEM] Processing AXSUSDT...\n",
      "[SYSTEM] Processing RENDERUSDT...\n",
      "[SYSTEM] Processing 2024-8 with aggregation level 30...\n",
      "[SYSTEM] Processing BTCUSDT...\n",
      "[SYSTEM] Data already available for BTCUSDT (BTCUSDT-trades-2024-08.csv)\n",
      "[SYSTEM] Processing ETHUSDT...\n",
      "[SYSTEM] Data already available for ETHUSDT (ETHUSDT-trades-2024-08.csv)\n",
      "[SYSTEM] Processing SOLUSDT...\n",
      "[SYSTEM] Data already available for SOLUSDT (SOLUSDT-trades-2024-08.csv)\n",
      "[SYSTEM] Processing BNBUSDT...\n",
      "[SYSTEM] Data already available for BNBUSDT (BNBUSDT-trades-2024-08.csv)\n",
      "[SYSTEM] Processing AVAXUSDT...\n",
      "[SYSTEM] Data already available for AVAXUSDT (AVAXUSDT-trades-2024-08.csv)\n",
      "[SYSTEM] Processing UNIUSDT...\n",
      "[SYSTEM] Data already available for UNIUSDT (UNIUSDT-trades-2024-08.csv)\n",
      "[SYSTEM] Processing LINKUSDT...\n",
      "[SYSTEM] Data already available for LINKUSDT (LINKUSDT-trades-2024-08.csv)\n",
      "[SYSTEM] Processing AXSUSDT...\n",
      "[SYSTEM] Data already available for AXSUSDT (AXSUSDT-trades-2024-08.csv)\n",
      "[SYSTEM] Processing RENDERUSDT...\n",
      "[SYSTEM] Data already available for RENDERUSDT (RENDERUSDT-trades-2024-08.csv)\n",
      "[SYSTEM] Processing BTCUSDT...\n",
      "[SYSTEM] Processing ETHUSDT...\n",
      "[SYSTEM] Processing SOLUSDT...\n",
      "[SYSTEM] Processing BNBUSDT...\n",
      "[SYSTEM] Processing AVAXUSDT...\n",
      "[SYSTEM] Processing UNIUSDT...\n",
      "[SYSTEM] Processing LINKUSDT...\n",
      "[SYSTEM] Processing AXSUSDT...\n",
      "[SYSTEM] Processing RENDERUSDT...\n",
      "[SYSTEM] Processing 2024-8 with aggregation level 31...\n",
      "[SYSTEM] Processing BTCUSDT...\n",
      "[SYSTEM] Data already available for BTCUSDT (BTCUSDT-trades-2024-08.csv)\n",
      "[SYSTEM] Processing ETHUSDT...\n",
      "[SYSTEM] Data already available for ETHUSDT (ETHUSDT-trades-2024-08.csv)\n",
      "[SYSTEM] Processing SOLUSDT...\n",
      "[SYSTEM] Data already available for SOLUSDT (SOLUSDT-trades-2024-08.csv)\n",
      "[SYSTEM] Processing BNBUSDT...\n",
      "[SYSTEM] Data already available for BNBUSDT (BNBUSDT-trades-2024-08.csv)\n",
      "[SYSTEM] Processing AVAXUSDT...\n",
      "[SYSTEM] Data already available for AVAXUSDT (AVAXUSDT-trades-2024-08.csv)\n",
      "[SYSTEM] Processing UNIUSDT...\n",
      "[SYSTEM] Data already available for UNIUSDT (UNIUSDT-trades-2024-08.csv)\n",
      "[SYSTEM] Processing LINKUSDT...\n",
      "[SYSTEM] Data already available for LINKUSDT (LINKUSDT-trades-2024-08.csv)\n",
      "[SYSTEM] Processing AXSUSDT...\n",
      "[SYSTEM] Data already available for AXSUSDT (AXSUSDT-trades-2024-08.csv)\n",
      "[SYSTEM] Processing RENDERUSDT...\n",
      "[SYSTEM] Data already available for RENDERUSDT (RENDERUSDT-trades-2024-08.csv)\n",
      "[SYSTEM] Processing BTCUSDT...\n",
      "[SYSTEM] Processing ETHUSDT...\n",
      "[SYSTEM] Processing SOLUSDT...\n",
      "[SYSTEM] Processing BNBUSDT...\n",
      "[SYSTEM] Processing AVAXUSDT...\n",
      "[SYSTEM] Processing UNIUSDT...\n",
      "[SYSTEM] Processing LINKUSDT...\n",
      "[SYSTEM] Processing AXSUSDT...\n",
      "[SYSTEM] Processing RENDERUSDT...\n",
      "[SYSTEM] Processing 2024-8 with aggregation level 32...\n",
      "[SYSTEM] Processing BTCUSDT...\n",
      "[SYSTEM] Data already available for BTCUSDT (BTCUSDT-trades-2024-08.csv)\n",
      "[SYSTEM] Processing ETHUSDT...\n",
      "[SYSTEM] Data already available for ETHUSDT (ETHUSDT-trades-2024-08.csv)\n",
      "[SYSTEM] Processing SOLUSDT...\n",
      "[SYSTEM] Data already available for SOLUSDT (SOLUSDT-trades-2024-08.csv)\n",
      "[SYSTEM] Processing BNBUSDT...\n",
      "[SYSTEM] Data already available for BNBUSDT (BNBUSDT-trades-2024-08.csv)\n",
      "[SYSTEM] Processing AVAXUSDT...\n",
      "[SYSTEM] Data already available for AVAXUSDT (AVAXUSDT-trades-2024-08.csv)\n",
      "[SYSTEM] Processing UNIUSDT...\n",
      "[SYSTEM] Data already available for UNIUSDT (UNIUSDT-trades-2024-08.csv)\n",
      "[SYSTEM] Processing LINKUSDT...\n",
      "[SYSTEM] Data already available for LINKUSDT (LINKUSDT-trades-2024-08.csv)\n",
      "[SYSTEM] Processing AXSUSDT...\n",
      "[SYSTEM] Data already available for AXSUSDT (AXSUSDT-trades-2024-08.csv)\n",
      "[SYSTEM] Processing RENDERUSDT...\n",
      "[SYSTEM] Data already available for RENDERUSDT (RENDERUSDT-trades-2024-08.csv)\n",
      "[SYSTEM] Processing BTCUSDT...\n",
      "[SYSTEM] Processing ETHUSDT...\n",
      "[SYSTEM] Processing SOLUSDT...\n",
      "[SYSTEM] Processing BNBUSDT...\n",
      "[SYSTEM] Processing AVAXUSDT...\n",
      "[SYSTEM] Processing UNIUSDT...\n",
      "[SYSTEM] Processing LINKUSDT...\n",
      "[SYSTEM] Processing AXSUSDT...\n",
      "[SYSTEM] Processing RENDERUSDT...\n",
      "[SYSTEM] Processing 2024-8 with aggregation level 33...\n",
      "[SYSTEM] Processing BTCUSDT...\n",
      "[SYSTEM] Data already available for BTCUSDT (BTCUSDT-trades-2024-08.csv)\n",
      "[SYSTEM] Processing ETHUSDT...\n",
      "[SYSTEM] Data already available for ETHUSDT (ETHUSDT-trades-2024-08.csv)\n",
      "[SYSTEM] Processing SOLUSDT...\n",
      "[SYSTEM] Data already available for SOLUSDT (SOLUSDT-trades-2024-08.csv)\n",
      "[SYSTEM] Processing BNBUSDT...\n",
      "[SYSTEM] Data already available for BNBUSDT (BNBUSDT-trades-2024-08.csv)\n",
      "[SYSTEM] Processing AVAXUSDT...\n",
      "[SYSTEM] Data already available for AVAXUSDT (AVAXUSDT-trades-2024-08.csv)\n",
      "[SYSTEM] Processing UNIUSDT...\n",
      "[SYSTEM] Data already available for UNIUSDT (UNIUSDT-trades-2024-08.csv)\n",
      "[SYSTEM] Processing LINKUSDT...\n",
      "[SYSTEM] Data already available for LINKUSDT (LINKUSDT-trades-2024-08.csv)\n",
      "[SYSTEM] Processing AXSUSDT...\n",
      "[SYSTEM] Data already available for AXSUSDT (AXSUSDT-trades-2024-08.csv)\n",
      "[SYSTEM] Processing RENDERUSDT...\n",
      "[SYSTEM] Data already available for RENDERUSDT (RENDERUSDT-trades-2024-08.csv)\n",
      "[SYSTEM] Processing BTCUSDT...\n",
      "[SYSTEM] Processing ETHUSDT...\n",
      "[SYSTEM] Processing SOLUSDT...\n",
      "[SYSTEM] Processing BNBUSDT...\n",
      "[SYSTEM] Processing AVAXUSDT...\n",
      "[SYSTEM] Processing UNIUSDT...\n",
      "[SYSTEM] Processing LINKUSDT...\n",
      "[SYSTEM] Processing AXSUSDT...\n",
      "[SYSTEM] Processing RENDERUSDT...\n",
      "[SYSTEM] Processing 2024-8 with aggregation level 34...\n",
      "[SYSTEM] Processing BTCUSDT...\n",
      "[SYSTEM] Data already available for BTCUSDT (BTCUSDT-trades-2024-08.csv)\n",
      "[SYSTEM] Processing ETHUSDT...\n",
      "[SYSTEM] Data already available for ETHUSDT (ETHUSDT-trades-2024-08.csv)\n",
      "[SYSTEM] Processing SOLUSDT...\n",
      "[SYSTEM] Data already available for SOLUSDT (SOLUSDT-trades-2024-08.csv)\n",
      "[SYSTEM] Processing BNBUSDT...\n",
      "[SYSTEM] Data already available for BNBUSDT (BNBUSDT-trades-2024-08.csv)\n",
      "[SYSTEM] Processing AVAXUSDT...\n",
      "[SYSTEM] Data already available for AVAXUSDT (AVAXUSDT-trades-2024-08.csv)\n",
      "[SYSTEM] Processing UNIUSDT...\n",
      "[SYSTEM] Data already available for UNIUSDT (UNIUSDT-trades-2024-08.csv)\n",
      "[SYSTEM] Processing LINKUSDT...\n",
      "[SYSTEM] Data already available for LINKUSDT (LINKUSDT-trades-2024-08.csv)\n",
      "[SYSTEM] Processing AXSUSDT...\n",
      "[SYSTEM] Data already available for AXSUSDT (AXSUSDT-trades-2024-08.csv)\n",
      "[SYSTEM] Processing RENDERUSDT...\n",
      "[SYSTEM] Data already available for RENDERUSDT (RENDERUSDT-trades-2024-08.csv)\n",
      "[SYSTEM] Processing BTCUSDT...\n",
      "[SYSTEM] Processing ETHUSDT...\n",
      "[SYSTEM] Processing SOLUSDT...\n",
      "[SYSTEM] Processing BNBUSDT...\n",
      "[SYSTEM] Processing AVAXUSDT...\n",
      "[SYSTEM] Processing UNIUSDT...\n",
      "[SYSTEM] Processing LINKUSDT...\n",
      "[SYSTEM] Processing AXSUSDT...\n",
      "[SYSTEM] Processing RENDERUSDT...\n",
      "[SYSTEM] Processing 2024-8 with aggregation level 35...\n",
      "[SYSTEM] Processing BTCUSDT...\n",
      "[SYSTEM] Data already available for BTCUSDT (BTCUSDT-trades-2024-08.csv)\n",
      "[SYSTEM] Processing ETHUSDT...\n",
      "[SYSTEM] Data already available for ETHUSDT (ETHUSDT-trades-2024-08.csv)\n",
      "[SYSTEM] Processing SOLUSDT...\n",
      "[SYSTEM] Data already available for SOLUSDT (SOLUSDT-trades-2024-08.csv)\n",
      "[SYSTEM] Processing BNBUSDT...\n",
      "[SYSTEM] Data already available for BNBUSDT (BNBUSDT-trades-2024-08.csv)\n",
      "[SYSTEM] Processing AVAXUSDT...\n",
      "[SYSTEM] Data already available for AVAXUSDT (AVAXUSDT-trades-2024-08.csv)\n",
      "[SYSTEM] Processing UNIUSDT...\n",
      "[SYSTEM] Data already available for UNIUSDT (UNIUSDT-trades-2024-08.csv)\n",
      "[SYSTEM] Processing LINKUSDT...\n",
      "[SYSTEM] Data already available for LINKUSDT (LINKUSDT-trades-2024-08.csv)\n",
      "[SYSTEM] Processing AXSUSDT...\n",
      "[SYSTEM] Data already available for AXSUSDT (AXSUSDT-trades-2024-08.csv)\n",
      "[SYSTEM] Processing RENDERUSDT...\n",
      "[SYSTEM] Data already available for RENDERUSDT (RENDERUSDT-trades-2024-08.csv)\n",
      "[SYSTEM] Processing BTCUSDT...\n",
      "[SYSTEM] Processing ETHUSDT...\n",
      "[SYSTEM] Processing SOLUSDT...\n",
      "[SYSTEM] Processing BNBUSDT...\n",
      "[SYSTEM] Processing AVAXUSDT...\n",
      "[SYSTEM] Processing UNIUSDT...\n",
      "[SYSTEM] Processing LINKUSDT...\n",
      "[SYSTEM] Processing AXSUSDT...\n",
      "[SYSTEM] Processing RENDERUSDT...\n",
      "[SYSTEM] Processing 2024-8 with aggregation level 36...\n",
      "[SYSTEM] Processing BTCUSDT...\n",
      "[SYSTEM] Data already available for BTCUSDT (BTCUSDT-trades-2024-08.csv)\n",
      "[SYSTEM] Processing ETHUSDT...\n",
      "[SYSTEM] Data already available for ETHUSDT (ETHUSDT-trades-2024-08.csv)\n",
      "[SYSTEM] Processing SOLUSDT...\n",
      "[SYSTEM] Data already available for SOLUSDT (SOLUSDT-trades-2024-08.csv)\n",
      "[SYSTEM] Processing BNBUSDT...\n",
      "[SYSTEM] Data already available for BNBUSDT (BNBUSDT-trades-2024-08.csv)\n",
      "[SYSTEM] Processing AVAXUSDT...\n",
      "[SYSTEM] Data already available for AVAXUSDT (AVAXUSDT-trades-2024-08.csv)\n",
      "[SYSTEM] Processing UNIUSDT...\n",
      "[SYSTEM] Data already available for UNIUSDT (UNIUSDT-trades-2024-08.csv)\n",
      "[SYSTEM] Processing LINKUSDT...\n",
      "[SYSTEM] Data already available for LINKUSDT (LINKUSDT-trades-2024-08.csv)\n",
      "[SYSTEM] Processing AXSUSDT...\n",
      "[SYSTEM] Data already available for AXSUSDT (AXSUSDT-trades-2024-08.csv)\n",
      "[SYSTEM] Processing RENDERUSDT...\n",
      "[SYSTEM] Data already available for RENDERUSDT (RENDERUSDT-trades-2024-08.csv)\n",
      "[SYSTEM] Processing BTCUSDT...\n",
      "[SYSTEM] Processing ETHUSDT...\n",
      "[SYSTEM] Processing SOLUSDT...\n",
      "[SYSTEM] Processing BNBUSDT...\n",
      "[SYSTEM] Processing AVAXUSDT...\n",
      "[SYSTEM] Processing UNIUSDT...\n",
      "[SYSTEM] Processing LINKUSDT...\n",
      "[SYSTEM] Processing AXSUSDT...\n",
      "[SYSTEM] Processing RENDERUSDT...\n",
      "[SYSTEM] Processing 2024-8 with aggregation level 37...\n",
      "[SYSTEM] Processing BTCUSDT...\n",
      "[SYSTEM] Data already available for BTCUSDT (BTCUSDT-trades-2024-08.csv)\n",
      "[SYSTEM] Processing ETHUSDT...\n",
      "[SYSTEM] Data already available for ETHUSDT (ETHUSDT-trades-2024-08.csv)\n",
      "[SYSTEM] Processing SOLUSDT...\n",
      "[SYSTEM] Data already available for SOLUSDT (SOLUSDT-trades-2024-08.csv)\n",
      "[SYSTEM] Processing BNBUSDT...\n",
      "[SYSTEM] Data already available for BNBUSDT (BNBUSDT-trades-2024-08.csv)\n",
      "[SYSTEM] Processing AVAXUSDT...\n",
      "[SYSTEM] Data already available for AVAXUSDT (AVAXUSDT-trades-2024-08.csv)\n",
      "[SYSTEM] Processing UNIUSDT...\n",
      "[SYSTEM] Data already available for UNIUSDT (UNIUSDT-trades-2024-08.csv)\n",
      "[SYSTEM] Processing LINKUSDT...\n",
      "[SYSTEM] Data already available for LINKUSDT (LINKUSDT-trades-2024-08.csv)\n",
      "[SYSTEM] Processing AXSUSDT...\n",
      "[SYSTEM] Data already available for AXSUSDT (AXSUSDT-trades-2024-08.csv)\n",
      "[SYSTEM] Processing RENDERUSDT...\n",
      "[SYSTEM] Data already available for RENDERUSDT (RENDERUSDT-trades-2024-08.csv)\n",
      "[SYSTEM] Processing BTCUSDT...\n",
      "[SYSTEM] Processing ETHUSDT...\n",
      "[SYSTEM] Processing SOLUSDT...\n",
      "[SYSTEM] Processing BNBUSDT...\n",
      "[SYSTEM] Processing AVAXUSDT...\n",
      "[SYSTEM] Processing UNIUSDT...\n",
      "[SYSTEM] Processing LINKUSDT...\n",
      "[SYSTEM] Processing AXSUSDT...\n",
      "[SYSTEM] Processing RENDERUSDT...\n",
      "[SYSTEM] Processing 2024-8 with aggregation level 38...\n",
      "[SYSTEM] Processing BTCUSDT...\n",
      "[SYSTEM] Data already available for BTCUSDT (BTCUSDT-trades-2024-08.csv)\n",
      "[SYSTEM] Processing ETHUSDT...\n",
      "[SYSTEM] Data already available for ETHUSDT (ETHUSDT-trades-2024-08.csv)\n",
      "[SYSTEM] Processing SOLUSDT...\n",
      "[SYSTEM] Data already available for SOLUSDT (SOLUSDT-trades-2024-08.csv)\n",
      "[SYSTEM] Processing BNBUSDT...\n",
      "[SYSTEM] Data already available for BNBUSDT (BNBUSDT-trades-2024-08.csv)\n",
      "[SYSTEM] Processing AVAXUSDT...\n",
      "[SYSTEM] Data already available for AVAXUSDT (AVAXUSDT-trades-2024-08.csv)\n",
      "[SYSTEM] Processing UNIUSDT...\n",
      "[SYSTEM] Data already available for UNIUSDT (UNIUSDT-trades-2024-08.csv)\n",
      "[SYSTEM] Processing LINKUSDT...\n",
      "[SYSTEM] Data already available for LINKUSDT (LINKUSDT-trades-2024-08.csv)\n",
      "[SYSTEM] Processing AXSUSDT...\n",
      "[SYSTEM] Data already available for AXSUSDT (AXSUSDT-trades-2024-08.csv)\n",
      "[SYSTEM] Processing RENDERUSDT...\n",
      "[SYSTEM] Data already available for RENDERUSDT (RENDERUSDT-trades-2024-08.csv)\n",
      "[SYSTEM] Processing BTCUSDT...\n",
      "[SYSTEM] Processing ETHUSDT...\n",
      "[SYSTEM] Processing SOLUSDT...\n",
      "[SYSTEM] Processing BNBUSDT...\n",
      "[SYSTEM] Processing AVAXUSDT...\n",
      "[SYSTEM] Processing UNIUSDT...\n",
      "[SYSTEM] Processing LINKUSDT...\n",
      "[SYSTEM] Processing AXSUSDT...\n",
      "[SYSTEM] Processing RENDERUSDT...\n",
      "[SYSTEM] Processing 2024-8 with aggregation level 39...\n",
      "[SYSTEM] Processing BTCUSDT...\n",
      "[SYSTEM] Data already available for BTCUSDT (BTCUSDT-trades-2024-08.csv)\n",
      "[SYSTEM] Processing ETHUSDT...\n",
      "[SYSTEM] Data already available for ETHUSDT (ETHUSDT-trades-2024-08.csv)\n",
      "[SYSTEM] Processing SOLUSDT...\n",
      "[SYSTEM] Data already available for SOLUSDT (SOLUSDT-trades-2024-08.csv)\n",
      "[SYSTEM] Processing BNBUSDT...\n",
      "[SYSTEM] Data already available for BNBUSDT (BNBUSDT-trades-2024-08.csv)\n",
      "[SYSTEM] Processing AVAXUSDT...\n",
      "[SYSTEM] Data already available for AVAXUSDT (AVAXUSDT-trades-2024-08.csv)\n",
      "[SYSTEM] Processing UNIUSDT...\n",
      "[SYSTEM] Data already available for UNIUSDT (UNIUSDT-trades-2024-08.csv)\n",
      "[SYSTEM] Processing LINKUSDT...\n",
      "[SYSTEM] Data already available for LINKUSDT (LINKUSDT-trades-2024-08.csv)\n",
      "[SYSTEM] Processing AXSUSDT...\n",
      "[SYSTEM] Data already available for AXSUSDT (AXSUSDT-trades-2024-08.csv)\n",
      "[SYSTEM] Processing RENDERUSDT...\n",
      "[SYSTEM] Data already available for RENDERUSDT (RENDERUSDT-trades-2024-08.csv)\n",
      "[SYSTEM] Processing BTCUSDT...\n",
      "[SYSTEM] Processing ETHUSDT...\n",
      "[SYSTEM] Processing SOLUSDT...\n",
      "[SYSTEM] Processing BNBUSDT...\n",
      "[SYSTEM] Processing AVAXUSDT...\n",
      "[SYSTEM] Processing UNIUSDT...\n",
      "[SYSTEM] Processing LINKUSDT...\n",
      "[SYSTEM] Processing AXSUSDT...\n",
      "[SYSTEM] Processing RENDERUSDT...\n",
      "[SYSTEM] Processing 2024-8 with aggregation level 40...\n",
      "[SYSTEM] Processing BTCUSDT...\n",
      "[SYSTEM] Data already available for BTCUSDT (BTCUSDT-trades-2024-08.csv)\n",
      "[SYSTEM] Processing ETHUSDT...\n",
      "[SYSTEM] Data already available for ETHUSDT (ETHUSDT-trades-2024-08.csv)\n",
      "[SYSTEM] Processing SOLUSDT...\n",
      "[SYSTEM] Data already available for SOLUSDT (SOLUSDT-trades-2024-08.csv)\n",
      "[SYSTEM] Processing BNBUSDT...\n",
      "[SYSTEM] Data already available for BNBUSDT (BNBUSDT-trades-2024-08.csv)\n",
      "[SYSTEM] Processing AVAXUSDT...\n",
      "[SYSTEM] Data already available for AVAXUSDT (AVAXUSDT-trades-2024-08.csv)\n",
      "[SYSTEM] Processing UNIUSDT...\n",
      "[SYSTEM] Data already available for UNIUSDT (UNIUSDT-trades-2024-08.csv)\n",
      "[SYSTEM] Processing LINKUSDT...\n",
      "[SYSTEM] Data already available for LINKUSDT (LINKUSDT-trades-2024-08.csv)\n",
      "[SYSTEM] Processing AXSUSDT...\n",
      "[SYSTEM] Data already available for AXSUSDT (AXSUSDT-trades-2024-08.csv)\n",
      "[SYSTEM] Processing RENDERUSDT...\n",
      "[SYSTEM] Data already available for RENDERUSDT (RENDERUSDT-trades-2024-08.csv)\n",
      "[SYSTEM] Processing BTCUSDT...\n",
      "[SYSTEM] Processing ETHUSDT...\n",
      "[SYSTEM] Processing SOLUSDT...\n",
      "[SYSTEM] Processing BNBUSDT...\n",
      "[SYSTEM] Processing AVAXUSDT...\n",
      "[SYSTEM] Processing UNIUSDT...\n",
      "[SYSTEM] Processing LINKUSDT...\n",
      "[SYSTEM] Processing AXSUSDT...\n",
      "[SYSTEM] Processing RENDERUSDT...\n",
      "[SYSTEM] Processing 2024-8 with aggregation level 41...\n",
      "[SYSTEM] Processing BTCUSDT...\n",
      "[SYSTEM] Data already available for BTCUSDT (BTCUSDT-trades-2024-08.csv)\n",
      "[SYSTEM] Processing ETHUSDT...\n",
      "[SYSTEM] Data already available for ETHUSDT (ETHUSDT-trades-2024-08.csv)\n",
      "[SYSTEM] Processing SOLUSDT...\n",
      "[SYSTEM] Data already available for SOLUSDT (SOLUSDT-trades-2024-08.csv)\n",
      "[SYSTEM] Processing BNBUSDT...\n",
      "[SYSTEM] Data already available for BNBUSDT (BNBUSDT-trades-2024-08.csv)\n",
      "[SYSTEM] Processing AVAXUSDT...\n",
      "[SYSTEM] Data already available for AVAXUSDT (AVAXUSDT-trades-2024-08.csv)\n",
      "[SYSTEM] Processing UNIUSDT...\n",
      "[SYSTEM] Data already available for UNIUSDT (UNIUSDT-trades-2024-08.csv)\n",
      "[SYSTEM] Processing LINKUSDT...\n",
      "[SYSTEM] Data already available for LINKUSDT (LINKUSDT-trades-2024-08.csv)\n",
      "[SYSTEM] Processing AXSUSDT...\n",
      "[SYSTEM] Data already available for AXSUSDT (AXSUSDT-trades-2024-08.csv)\n",
      "[SYSTEM] Processing RENDERUSDT...\n",
      "[SYSTEM] Data already available for RENDERUSDT (RENDERUSDT-trades-2024-08.csv)\n",
      "[SYSTEM] Processing BTCUSDT...\n",
      "[SYSTEM] Processing ETHUSDT...\n",
      "[SYSTEM] Processing SOLUSDT...\n",
      "[SYSTEM] Processing BNBUSDT...\n",
      "[SYSTEM] Processing AVAXUSDT...\n",
      "[SYSTEM] Processing UNIUSDT...\n",
      "[SYSTEM] Processing LINKUSDT...\n",
      "[SYSTEM] Processing AXSUSDT...\n",
      "[SYSTEM] Processing RENDERUSDT...\n",
      "[SYSTEM] Processing 2024-8 with aggregation level 42...\n",
      "[SYSTEM] Processing BTCUSDT...\n",
      "[SYSTEM] Data already available for BTCUSDT (BTCUSDT-trades-2024-08.csv)\n",
      "[SYSTEM] Processing ETHUSDT...\n",
      "[SYSTEM] Data already available for ETHUSDT (ETHUSDT-trades-2024-08.csv)\n",
      "[SYSTEM] Processing SOLUSDT...\n",
      "[SYSTEM] Data already available for SOLUSDT (SOLUSDT-trades-2024-08.csv)\n",
      "[SYSTEM] Processing BNBUSDT...\n",
      "[SYSTEM] Data already available for BNBUSDT (BNBUSDT-trades-2024-08.csv)\n",
      "[SYSTEM] Processing AVAXUSDT...\n",
      "[SYSTEM] Data already available for AVAXUSDT (AVAXUSDT-trades-2024-08.csv)\n",
      "[SYSTEM] Processing UNIUSDT...\n",
      "[SYSTEM] Data already available for UNIUSDT (UNIUSDT-trades-2024-08.csv)\n",
      "[SYSTEM] Processing LINKUSDT...\n",
      "[SYSTEM] Data already available for LINKUSDT (LINKUSDT-trades-2024-08.csv)\n",
      "[SYSTEM] Processing AXSUSDT...\n",
      "[SYSTEM] Data already available for AXSUSDT (AXSUSDT-trades-2024-08.csv)\n",
      "[SYSTEM] Processing RENDERUSDT...\n",
      "[SYSTEM] Data already available for RENDERUSDT (RENDERUSDT-trades-2024-08.csv)\n",
      "[SYSTEM] Processing BTCUSDT...\n",
      "[SYSTEM] Processing ETHUSDT...\n",
      "[SYSTEM] Processing SOLUSDT...\n",
      "[SYSTEM] Processing BNBUSDT...\n",
      "[SYSTEM] Processing AVAXUSDT...\n",
      "[SYSTEM] Processing UNIUSDT...\n",
      "[SYSTEM] Processing LINKUSDT...\n",
      "[SYSTEM] Processing AXSUSDT...\n",
      "[SYSTEM] Processing RENDERUSDT...\n",
      "[SYSTEM] Processing 2024-8 with aggregation level 43...\n",
      "[SYSTEM] Processing BTCUSDT...\n",
      "[SYSTEM] Data already available for BTCUSDT (BTCUSDT-trades-2024-08.csv)\n",
      "[SYSTEM] Processing ETHUSDT...\n",
      "[SYSTEM] Data already available for ETHUSDT (ETHUSDT-trades-2024-08.csv)\n",
      "[SYSTEM] Processing SOLUSDT...\n",
      "[SYSTEM] Data already available for SOLUSDT (SOLUSDT-trades-2024-08.csv)\n",
      "[SYSTEM] Processing BNBUSDT...\n",
      "[SYSTEM] Data already available for BNBUSDT (BNBUSDT-trades-2024-08.csv)\n",
      "[SYSTEM] Processing AVAXUSDT...\n",
      "[SYSTEM] Data already available for AVAXUSDT (AVAXUSDT-trades-2024-08.csv)\n",
      "[SYSTEM] Processing UNIUSDT...\n",
      "[SYSTEM] Data already available for UNIUSDT (UNIUSDT-trades-2024-08.csv)\n",
      "[SYSTEM] Processing LINKUSDT...\n",
      "[SYSTEM] Data already available for LINKUSDT (LINKUSDT-trades-2024-08.csv)\n",
      "[SYSTEM] Processing AXSUSDT...\n",
      "[SYSTEM] Data already available for AXSUSDT (AXSUSDT-trades-2024-08.csv)\n",
      "[SYSTEM] Processing RENDERUSDT...\n",
      "[SYSTEM] Data already available for RENDERUSDT (RENDERUSDT-trades-2024-08.csv)\n",
      "[SYSTEM] Processing BTCUSDT...\n",
      "[SYSTEM] Processing ETHUSDT...\n",
      "[SYSTEM] Processing SOLUSDT...\n",
      "[SYSTEM] Processing BNBUSDT...\n",
      "[SYSTEM] Processing AVAXUSDT...\n",
      "[SYSTEM] Processing UNIUSDT...\n",
      "[SYSTEM] Processing LINKUSDT...\n",
      "[SYSTEM] Processing AXSUSDT...\n",
      "[SYSTEM] Processing RENDERUSDT...\n",
      "[SYSTEM] Processing 2024-8 with aggregation level 44...\n",
      "[SYSTEM] Processing BTCUSDT...\n",
      "[SYSTEM] Data already available for BTCUSDT (BTCUSDT-trades-2024-08.csv)\n",
      "[SYSTEM] Processing ETHUSDT...\n",
      "[SYSTEM] Data already available for ETHUSDT (ETHUSDT-trades-2024-08.csv)\n",
      "[SYSTEM] Processing SOLUSDT...\n",
      "[SYSTEM] Data already available for SOLUSDT (SOLUSDT-trades-2024-08.csv)\n",
      "[SYSTEM] Processing BNBUSDT...\n",
      "[SYSTEM] Data already available for BNBUSDT (BNBUSDT-trades-2024-08.csv)\n",
      "[SYSTEM] Processing AVAXUSDT...\n",
      "[SYSTEM] Data already available for AVAXUSDT (AVAXUSDT-trades-2024-08.csv)\n",
      "[SYSTEM] Processing UNIUSDT...\n",
      "[SYSTEM] Data already available for UNIUSDT (UNIUSDT-trades-2024-08.csv)\n",
      "[SYSTEM] Processing LINKUSDT...\n",
      "[SYSTEM] Data already available for LINKUSDT (LINKUSDT-trades-2024-08.csv)\n",
      "[SYSTEM] Processing AXSUSDT...\n",
      "[SYSTEM] Data already available for AXSUSDT (AXSUSDT-trades-2024-08.csv)\n",
      "[SYSTEM] Processing RENDERUSDT...\n",
      "[SYSTEM] Data already available for RENDERUSDT (RENDERUSDT-trades-2024-08.csv)\n",
      "[SYSTEM] Processing BTCUSDT...\n",
      "[SYSTEM] Processing ETHUSDT...\n",
      "[SYSTEM] Processing SOLUSDT...\n",
      "[SYSTEM] Processing BNBUSDT...\n",
      "[SYSTEM] Processing AVAXUSDT...\n",
      "[SYSTEM] Processing UNIUSDT...\n",
      "[SYSTEM] Processing LINKUSDT...\n",
      "[SYSTEM] Processing AXSUSDT...\n",
      "[SYSTEM] Processing RENDERUSDT...\n",
      "[SYSTEM] Processing 2024-8 with aggregation level 45...\n",
      "[SYSTEM] Processing BTCUSDT...\n",
      "[SYSTEM] Data already available for BTCUSDT (BTCUSDT-trades-2024-08.csv)\n",
      "[SYSTEM] Processing ETHUSDT...\n",
      "[SYSTEM] Data already available for ETHUSDT (ETHUSDT-trades-2024-08.csv)\n",
      "[SYSTEM] Processing SOLUSDT...\n",
      "[SYSTEM] Data already available for SOLUSDT (SOLUSDT-trades-2024-08.csv)\n",
      "[SYSTEM] Processing BNBUSDT...\n",
      "[SYSTEM] Data already available for BNBUSDT (BNBUSDT-trades-2024-08.csv)\n",
      "[SYSTEM] Processing AVAXUSDT...\n",
      "[SYSTEM] Data already available for AVAXUSDT (AVAXUSDT-trades-2024-08.csv)\n",
      "[SYSTEM] Processing UNIUSDT...\n",
      "[SYSTEM] Data already available for UNIUSDT (UNIUSDT-trades-2024-08.csv)\n",
      "[SYSTEM] Processing LINKUSDT...\n",
      "[SYSTEM] Data already available for LINKUSDT (LINKUSDT-trades-2024-08.csv)\n",
      "[SYSTEM] Processing AXSUSDT...\n",
      "[SYSTEM] Data already available for AXSUSDT (AXSUSDT-trades-2024-08.csv)\n",
      "[SYSTEM] Processing RENDERUSDT...\n",
      "[SYSTEM] Data already available for RENDERUSDT (RENDERUSDT-trades-2024-08.csv)\n",
      "[SYSTEM] Processing BTCUSDT...\n",
      "[SYSTEM] Processing ETHUSDT...\n",
      "[SYSTEM] Processing SOLUSDT...\n",
      "[SYSTEM] Processing BNBUSDT...\n",
      "[SYSTEM] Processing AVAXUSDT...\n",
      "[SYSTEM] Processing UNIUSDT...\n",
      "[SYSTEM] Processing LINKUSDT...\n",
      "[SYSTEM] Processing AXSUSDT...\n",
      "[SYSTEM] Processing RENDERUSDT...\n",
      "[SYSTEM] Processing 2024-8 with aggregation level 46...\n",
      "[SYSTEM] Processing BTCUSDT...\n",
      "[SYSTEM] Data already available for BTCUSDT (BTCUSDT-trades-2024-08.csv)\n",
      "[SYSTEM] Processing ETHUSDT...\n",
      "[SYSTEM] Data already available for ETHUSDT (ETHUSDT-trades-2024-08.csv)\n",
      "[SYSTEM] Processing SOLUSDT...\n",
      "[SYSTEM] Data already available for SOLUSDT (SOLUSDT-trades-2024-08.csv)\n",
      "[SYSTEM] Processing BNBUSDT...\n",
      "[SYSTEM] Data already available for BNBUSDT (BNBUSDT-trades-2024-08.csv)\n",
      "[SYSTEM] Processing AVAXUSDT...\n",
      "[SYSTEM] Data already available for AVAXUSDT (AVAXUSDT-trades-2024-08.csv)\n",
      "[SYSTEM] Processing UNIUSDT...\n",
      "[SYSTEM] Data already available for UNIUSDT (UNIUSDT-trades-2024-08.csv)\n",
      "[SYSTEM] Processing LINKUSDT...\n",
      "[SYSTEM] Data already available for LINKUSDT (LINKUSDT-trades-2024-08.csv)\n",
      "[SYSTEM] Processing AXSUSDT...\n",
      "[SYSTEM] Data already available for AXSUSDT (AXSUSDT-trades-2024-08.csv)\n",
      "[SYSTEM] Processing RENDERUSDT...\n",
      "[SYSTEM] Data already available for RENDERUSDT (RENDERUSDT-trades-2024-08.csv)\n",
      "[SYSTEM] Processing BTCUSDT...\n",
      "[SYSTEM] Processing ETHUSDT...\n",
      "[SYSTEM] Processing SOLUSDT...\n",
      "[SYSTEM] Processing BNBUSDT...\n",
      "[SYSTEM] Processing AVAXUSDT...\n",
      "[SYSTEM] Processing UNIUSDT...\n",
      "[SYSTEM] Processing LINKUSDT...\n",
      "[SYSTEM] Processing AXSUSDT...\n",
      "[SYSTEM] Processing RENDERUSDT...\n",
      "[SYSTEM] Processing 2024-8 with aggregation level 47...\n",
      "[SYSTEM] Processing BTCUSDT...\n",
      "[SYSTEM] Data already available for BTCUSDT (BTCUSDT-trades-2024-08.csv)\n",
      "[SYSTEM] Processing ETHUSDT...\n",
      "[SYSTEM] Data already available for ETHUSDT (ETHUSDT-trades-2024-08.csv)\n",
      "[SYSTEM] Processing SOLUSDT...\n",
      "[SYSTEM] Data already available for SOLUSDT (SOLUSDT-trades-2024-08.csv)\n",
      "[SYSTEM] Processing BNBUSDT...\n",
      "[SYSTEM] Data already available for BNBUSDT (BNBUSDT-trades-2024-08.csv)\n",
      "[SYSTEM] Processing AVAXUSDT...\n",
      "[SYSTEM] Data already available for AVAXUSDT (AVAXUSDT-trades-2024-08.csv)\n",
      "[SYSTEM] Processing UNIUSDT...\n",
      "[SYSTEM] Data already available for UNIUSDT (UNIUSDT-trades-2024-08.csv)\n",
      "[SYSTEM] Processing LINKUSDT...\n",
      "[SYSTEM] Data already available for LINKUSDT (LINKUSDT-trades-2024-08.csv)\n",
      "[SYSTEM] Processing AXSUSDT...\n",
      "[SYSTEM] Data already available for AXSUSDT (AXSUSDT-trades-2024-08.csv)\n",
      "[SYSTEM] Processing RENDERUSDT...\n",
      "[SYSTEM] Data already available for RENDERUSDT (RENDERUSDT-trades-2024-08.csv)\n",
      "[SYSTEM] Processing BTCUSDT...\n",
      "[SYSTEM] Processing ETHUSDT...\n",
      "[SYSTEM] Processing SOLUSDT...\n",
      "[SYSTEM] Processing BNBUSDT...\n",
      "[SYSTEM] Processing AVAXUSDT...\n",
      "[SYSTEM] Processing UNIUSDT...\n",
      "[SYSTEM] Processing LINKUSDT...\n",
      "[SYSTEM] Processing AXSUSDT...\n",
      "[SYSTEM] Processing RENDERUSDT...\n",
      "[SYSTEM] Processing 2024-8 with aggregation level 48...\n",
      "[SYSTEM] Processing BTCUSDT...\n",
      "[SYSTEM] Data already available for BTCUSDT (BTCUSDT-trades-2024-08.csv)\n",
      "[SYSTEM] Processing ETHUSDT...\n",
      "[SYSTEM] Data already available for ETHUSDT (ETHUSDT-trades-2024-08.csv)\n",
      "[SYSTEM] Processing SOLUSDT...\n",
      "[SYSTEM] Data already available for SOLUSDT (SOLUSDT-trades-2024-08.csv)\n",
      "[SYSTEM] Processing BNBUSDT...\n",
      "[SYSTEM] Data already available for BNBUSDT (BNBUSDT-trades-2024-08.csv)\n",
      "[SYSTEM] Processing AVAXUSDT...\n",
      "[SYSTEM] Data already available for AVAXUSDT (AVAXUSDT-trades-2024-08.csv)\n",
      "[SYSTEM] Processing UNIUSDT...\n",
      "[SYSTEM] Data already available for UNIUSDT (UNIUSDT-trades-2024-08.csv)\n",
      "[SYSTEM] Processing LINKUSDT...\n",
      "[SYSTEM] Data already available for LINKUSDT (LINKUSDT-trades-2024-08.csv)\n",
      "[SYSTEM] Processing AXSUSDT...\n",
      "[SYSTEM] Data already available for AXSUSDT (AXSUSDT-trades-2024-08.csv)\n",
      "[SYSTEM] Processing RENDERUSDT...\n",
      "[SYSTEM] Data already available for RENDERUSDT (RENDERUSDT-trades-2024-08.csv)\n",
      "[SYSTEM] Processing BTCUSDT...\n",
      "[SYSTEM] Processing ETHUSDT...\n",
      "[SYSTEM] Processing SOLUSDT...\n",
      "[SYSTEM] Processing BNBUSDT...\n",
      "[SYSTEM] Processing AVAXUSDT...\n",
      "[SYSTEM] Processing UNIUSDT...\n",
      "[SYSTEM] Processing LINKUSDT...\n",
      "[SYSTEM] Processing AXSUSDT...\n",
      "[SYSTEM] Processing RENDERUSDT...\n",
      "[SYSTEM] Processing 2024-8 with aggregation level 49...\n",
      "[SYSTEM] Processing BTCUSDT...\n",
      "[SYSTEM] Data already available for BTCUSDT (BTCUSDT-trades-2024-08.csv)\n",
      "[SYSTEM] Processing ETHUSDT...\n",
      "[SYSTEM] Data already available for ETHUSDT (ETHUSDT-trades-2024-08.csv)\n",
      "[SYSTEM] Processing SOLUSDT...\n",
      "[SYSTEM] Data already available for SOLUSDT (SOLUSDT-trades-2024-08.csv)\n",
      "[SYSTEM] Processing BNBUSDT...\n",
      "[SYSTEM] Data already available for BNBUSDT (BNBUSDT-trades-2024-08.csv)\n",
      "[SYSTEM] Processing AVAXUSDT...\n",
      "[SYSTEM] Data already available for AVAXUSDT (AVAXUSDT-trades-2024-08.csv)\n",
      "[SYSTEM] Processing UNIUSDT...\n",
      "[SYSTEM] Data already available for UNIUSDT (UNIUSDT-trades-2024-08.csv)\n",
      "[SYSTEM] Processing LINKUSDT...\n",
      "[SYSTEM] Data already available for LINKUSDT (LINKUSDT-trades-2024-08.csv)\n",
      "[SYSTEM] Processing AXSUSDT...\n",
      "[SYSTEM] Data already available for AXSUSDT (AXSUSDT-trades-2024-08.csv)\n",
      "[SYSTEM] Processing RENDERUSDT...\n",
      "[SYSTEM] Data already available for RENDERUSDT (RENDERUSDT-trades-2024-08.csv)\n",
      "[SYSTEM] Processing BTCUSDT...\n",
      "[SYSTEM] Processing ETHUSDT...\n",
      "[SYSTEM] Processing SOLUSDT...\n",
      "[SYSTEM] Processing BNBUSDT...\n",
      "[SYSTEM] Processing AVAXUSDT...\n",
      "[SYSTEM] Processing UNIUSDT...\n",
      "[SYSTEM] Processing LINKUSDT...\n",
      "[SYSTEM] Processing AXSUSDT...\n",
      "[SYSTEM] Processing RENDERUSDT...\n",
      "[SYSTEM] Processing 2024-8 with aggregation level 50...\n",
      "[SYSTEM] Processing BTCUSDT...\n",
      "[SYSTEM] Data already available for BTCUSDT (BTCUSDT-trades-2024-08.csv)\n",
      "[SYSTEM] Processing ETHUSDT...\n",
      "[SYSTEM] Data already available for ETHUSDT (ETHUSDT-trades-2024-08.csv)\n",
      "[SYSTEM] Processing SOLUSDT...\n",
      "[SYSTEM] Data already available for SOLUSDT (SOLUSDT-trades-2024-08.csv)\n",
      "[SYSTEM] Processing BNBUSDT...\n",
      "[SYSTEM] Data already available for BNBUSDT (BNBUSDT-trades-2024-08.csv)\n",
      "[SYSTEM] Processing AVAXUSDT...\n",
      "[SYSTEM] Data already available for AVAXUSDT (AVAXUSDT-trades-2024-08.csv)\n",
      "[SYSTEM] Processing UNIUSDT...\n",
      "[SYSTEM] Data already available for UNIUSDT (UNIUSDT-trades-2024-08.csv)\n",
      "[SYSTEM] Processing LINKUSDT...\n",
      "[SYSTEM] Data already available for LINKUSDT (LINKUSDT-trades-2024-08.csv)\n",
      "[SYSTEM] Processing AXSUSDT...\n",
      "[SYSTEM] Data already available for AXSUSDT (AXSUSDT-trades-2024-08.csv)\n",
      "[SYSTEM] Processing RENDERUSDT...\n",
      "[SYSTEM] Data already available for RENDERUSDT (RENDERUSDT-trades-2024-08.csv)\n",
      "[SYSTEM] Processing BTCUSDT...\n",
      "[SYSTEM] Processing ETHUSDT...\n",
      "[SYSTEM] Processing SOLUSDT...\n",
      "[SYSTEM] Processing BNBUSDT...\n",
      "[SYSTEM] Processing AVAXUSDT...\n",
      "[SYSTEM] Processing UNIUSDT...\n",
      "[SYSTEM] Processing LINKUSDT...\n",
      "[SYSTEM] Processing AXSUSDT...\n",
      "[SYSTEM] Processing RENDERUSDT...\n",
      "[SYSTEM] Processing 2024-9 with aggregation level 1...\n",
      "[SYSTEM] Processing BTCUSDT...\n",
      "[SYSTEM] Downloading BTCUSDT-trades-2024-09.zip from https://data.binance.vision/data/spot/monthly/trades/BTCUSDT/BTCUSDT-trades-2024-09.zip ...\n",
      "[SYSTEM] File downloaded: BTCUSDT-trades-2024-09.zip\n",
      "[SYSTEM] Extracting .\\BTCUSDT-trades-2024-09.zip ...\n",
      "[SYSTEM] Extraction finished.\n",
      "[SYSTEM] ZIP file deleted: BTCUSDT-trades-2024-09.zip\n",
      "[SYSTEM] Processing ETHUSDT...\n",
      "[SYSTEM] Downloading ETHUSDT-trades-2024-09.zip from https://data.binance.vision/data/spot/monthly/trades/ETHUSDT/ETHUSDT-trades-2024-09.zip ...\n",
      "[SYSTEM] File downloaded: ETHUSDT-trades-2024-09.zip\n",
      "[SYSTEM] Extracting .\\ETHUSDT-trades-2024-09.zip ...\n",
      "[SYSTEM] Extraction finished.\n",
      "[SYSTEM] ZIP file deleted: ETHUSDT-trades-2024-09.zip\n",
      "[SYSTEM] Processing SOLUSDT...\n",
      "[SYSTEM] Downloading SOLUSDT-trades-2024-09.zip from https://data.binance.vision/data/spot/monthly/trades/SOLUSDT/SOLUSDT-trades-2024-09.zip ...\n",
      "[SYSTEM] File downloaded: SOLUSDT-trades-2024-09.zip\n",
      "[SYSTEM] Extracting .\\SOLUSDT-trades-2024-09.zip ...\n",
      "[SYSTEM] Extraction finished.\n",
      "[SYSTEM] ZIP file deleted: SOLUSDT-trades-2024-09.zip\n",
      "[SYSTEM] Processing BNBUSDT...\n",
      "[SYSTEM] Downloading BNBUSDT-trades-2024-09.zip from https://data.binance.vision/data/spot/monthly/trades/BNBUSDT/BNBUSDT-trades-2024-09.zip ...\n",
      "[SYSTEM] File downloaded: BNBUSDT-trades-2024-09.zip\n",
      "[SYSTEM] Extracting .\\BNBUSDT-trades-2024-09.zip ...\n",
      "[SYSTEM] Extraction finished.\n",
      "[SYSTEM] ZIP file deleted: BNBUSDT-trades-2024-09.zip\n",
      "[SYSTEM] Processing AVAXUSDT...\n",
      "[SYSTEM] Downloading AVAXUSDT-trades-2024-09.zip from https://data.binance.vision/data/spot/monthly/trades/AVAXUSDT/AVAXUSDT-trades-2024-09.zip ...\n",
      "[SYSTEM] File downloaded: AVAXUSDT-trades-2024-09.zip\n",
      "[SYSTEM] Extracting .\\AVAXUSDT-trades-2024-09.zip ...\n",
      "[SYSTEM] Extraction finished.\n",
      "[SYSTEM] ZIP file deleted: AVAXUSDT-trades-2024-09.zip\n",
      "[SYSTEM] Processing UNIUSDT...\n",
      "[SYSTEM] Downloading UNIUSDT-trades-2024-09.zip from https://data.binance.vision/data/spot/monthly/trades/UNIUSDT/UNIUSDT-trades-2024-09.zip ...\n",
      "[SYSTEM] File downloaded: UNIUSDT-trades-2024-09.zip\n",
      "[SYSTEM] Extracting .\\UNIUSDT-trades-2024-09.zip ...\n",
      "[SYSTEM] Extraction finished.\n",
      "[SYSTEM] ZIP file deleted: UNIUSDT-trades-2024-09.zip\n",
      "[SYSTEM] Processing LINKUSDT...\n",
      "[SYSTEM] Downloading LINKUSDT-trades-2024-09.zip from https://data.binance.vision/data/spot/monthly/trades/LINKUSDT/LINKUSDT-trades-2024-09.zip ...\n",
      "[SYSTEM] File downloaded: LINKUSDT-trades-2024-09.zip\n",
      "[SYSTEM] Extracting .\\LINKUSDT-trades-2024-09.zip ...\n",
      "[SYSTEM] Extraction finished.\n",
      "[SYSTEM] ZIP file deleted: LINKUSDT-trades-2024-09.zip\n",
      "[SYSTEM] Processing AXSUSDT...\n",
      "[SYSTEM] Downloading AXSUSDT-trades-2024-09.zip from https://data.binance.vision/data/spot/monthly/trades/AXSUSDT/AXSUSDT-trades-2024-09.zip ...\n",
      "[SYSTEM] File downloaded: AXSUSDT-trades-2024-09.zip\n",
      "[SYSTEM] Extracting .\\AXSUSDT-trades-2024-09.zip ...\n",
      "[SYSTEM] Extraction finished.\n",
      "[SYSTEM] ZIP file deleted: AXSUSDT-trades-2024-09.zip\n",
      "[SYSTEM] Processing RENDERUSDT...\n",
      "[SYSTEM] Downloading RENDERUSDT-trades-2024-09.zip from https://data.binance.vision/data/spot/monthly/trades/RENDERUSDT/RENDERUSDT-trades-2024-09.zip ...\n",
      "[SYSTEM] File downloaded: RENDERUSDT-trades-2024-09.zip\n",
      "[SYSTEM] Extracting .\\RENDERUSDT-trades-2024-09.zip ...\n",
      "[SYSTEM] Extraction finished.\n",
      "[SYSTEM] ZIP file deleted: RENDERUSDT-trades-2024-09.zip\n",
      "[SYSTEM] Processing BTCUSDT...\n",
      "[SYSTEM] Processing ETHUSDT...\n",
      "[SYSTEM] Processing SOLUSDT...\n",
      "[SYSTEM] Processing BNBUSDT...\n",
      "[SYSTEM] Processing AVAXUSDT...\n",
      "[SYSTEM] Processing UNIUSDT...\n",
      "[SYSTEM] Processing LINKUSDT...\n",
      "[SYSTEM] Processing AXSUSDT...\n",
      "[SYSTEM] Processing RENDERUSDT...\n",
      "[SYSTEM] Processing 2024-9 with aggregation level 2...\n",
      "[SYSTEM] Processing BTCUSDT...\n",
      "[SYSTEM] Data already available for BTCUSDT (BTCUSDT-trades-2024-09.csv)\n",
      "[SYSTEM] Processing ETHUSDT...\n",
      "[SYSTEM] Data already available for ETHUSDT (ETHUSDT-trades-2024-09.csv)\n",
      "[SYSTEM] Processing SOLUSDT...\n",
      "[SYSTEM] Data already available for SOLUSDT (SOLUSDT-trades-2024-09.csv)\n",
      "[SYSTEM] Processing BNBUSDT...\n",
      "[SYSTEM] Data already available for BNBUSDT (BNBUSDT-trades-2024-09.csv)\n",
      "[SYSTEM] Processing AVAXUSDT...\n",
      "[SYSTEM] Data already available for AVAXUSDT (AVAXUSDT-trades-2024-09.csv)\n",
      "[SYSTEM] Processing UNIUSDT...\n",
      "[SYSTEM] Data already available for UNIUSDT (UNIUSDT-trades-2024-09.csv)\n",
      "[SYSTEM] Processing LINKUSDT...\n",
      "[SYSTEM] Data already available for LINKUSDT (LINKUSDT-trades-2024-09.csv)\n",
      "[SYSTEM] Processing AXSUSDT...\n",
      "[SYSTEM] Data already available for AXSUSDT (AXSUSDT-trades-2024-09.csv)\n",
      "[SYSTEM] Processing RENDERUSDT...\n",
      "[SYSTEM] Data already available for RENDERUSDT (RENDERUSDT-trades-2024-09.csv)\n",
      "[SYSTEM] Processing BTCUSDT...\n",
      "[SYSTEM] Processing ETHUSDT...\n",
      "[SYSTEM] Processing SOLUSDT...\n",
      "[SYSTEM] Processing BNBUSDT...\n",
      "[SYSTEM] Processing AVAXUSDT...\n",
      "[SYSTEM] Processing UNIUSDT...\n",
      "[SYSTEM] Processing LINKUSDT...\n",
      "[SYSTEM] Processing AXSUSDT...\n",
      "[SYSTEM] Processing RENDERUSDT...\n",
      "[SYSTEM] Processing 2024-9 with aggregation level 3...\n",
      "[SYSTEM] Processing BTCUSDT...\n",
      "[SYSTEM] Data already available for BTCUSDT (BTCUSDT-trades-2024-09.csv)\n",
      "[SYSTEM] Processing ETHUSDT...\n",
      "[SYSTEM] Data already available for ETHUSDT (ETHUSDT-trades-2024-09.csv)\n",
      "[SYSTEM] Processing SOLUSDT...\n",
      "[SYSTEM] Data already available for SOLUSDT (SOLUSDT-trades-2024-09.csv)\n",
      "[SYSTEM] Processing BNBUSDT...\n",
      "[SYSTEM] Data already available for BNBUSDT (BNBUSDT-trades-2024-09.csv)\n",
      "[SYSTEM] Processing AVAXUSDT...\n",
      "[SYSTEM] Data already available for AVAXUSDT (AVAXUSDT-trades-2024-09.csv)\n",
      "[SYSTEM] Processing UNIUSDT...\n",
      "[SYSTEM] Data already available for UNIUSDT (UNIUSDT-trades-2024-09.csv)\n",
      "[SYSTEM] Processing LINKUSDT...\n",
      "[SYSTEM] Data already available for LINKUSDT (LINKUSDT-trades-2024-09.csv)\n",
      "[SYSTEM] Processing AXSUSDT...\n",
      "[SYSTEM] Data already available for AXSUSDT (AXSUSDT-trades-2024-09.csv)\n",
      "[SYSTEM] Processing RENDERUSDT...\n",
      "[SYSTEM] Data already available for RENDERUSDT (RENDERUSDT-trades-2024-09.csv)\n",
      "[SYSTEM] Processing BTCUSDT...\n",
      "[SYSTEM] Processing ETHUSDT...\n",
      "[SYSTEM] Processing SOLUSDT...\n",
      "[SYSTEM] Processing BNBUSDT...\n",
      "[SYSTEM] Processing AVAXUSDT...\n",
      "[SYSTEM] Processing UNIUSDT...\n",
      "[SYSTEM] Processing LINKUSDT...\n",
      "[SYSTEM] Processing AXSUSDT...\n",
      "[SYSTEM] Processing RENDERUSDT...\n",
      "[SYSTEM] Processing 2024-9 with aggregation level 4...\n",
      "[SYSTEM] Processing BTCUSDT...\n",
      "[SYSTEM] Data already available for BTCUSDT (BTCUSDT-trades-2024-09.csv)\n",
      "[SYSTEM] Processing ETHUSDT...\n",
      "[SYSTEM] Data already available for ETHUSDT (ETHUSDT-trades-2024-09.csv)\n",
      "[SYSTEM] Processing SOLUSDT...\n",
      "[SYSTEM] Data already available for SOLUSDT (SOLUSDT-trades-2024-09.csv)\n",
      "[SYSTEM] Processing BNBUSDT...\n",
      "[SYSTEM] Data already available for BNBUSDT (BNBUSDT-trades-2024-09.csv)\n",
      "[SYSTEM] Processing AVAXUSDT...\n",
      "[SYSTEM] Data already available for AVAXUSDT (AVAXUSDT-trades-2024-09.csv)\n",
      "[SYSTEM] Processing UNIUSDT...\n",
      "[SYSTEM] Data already available for UNIUSDT (UNIUSDT-trades-2024-09.csv)\n",
      "[SYSTEM] Processing LINKUSDT...\n",
      "[SYSTEM] Data already available for LINKUSDT (LINKUSDT-trades-2024-09.csv)\n",
      "[SYSTEM] Processing AXSUSDT...\n",
      "[SYSTEM] Data already available for AXSUSDT (AXSUSDT-trades-2024-09.csv)\n",
      "[SYSTEM] Processing RENDERUSDT...\n",
      "[SYSTEM] Data already available for RENDERUSDT (RENDERUSDT-trades-2024-09.csv)\n",
      "[SYSTEM] Processing BTCUSDT...\n",
      "[SYSTEM] Processing ETHUSDT...\n",
      "[SYSTEM] Processing SOLUSDT...\n",
      "[SYSTEM] Processing BNBUSDT...\n",
      "[SYSTEM] Processing AVAXUSDT...\n",
      "[SYSTEM] Processing UNIUSDT...\n",
      "[SYSTEM] Processing LINKUSDT...\n",
      "[SYSTEM] Processing AXSUSDT...\n",
      "[SYSTEM] Processing RENDERUSDT...\n",
      "[SYSTEM] Processing 2024-9 with aggregation level 5...\n",
      "[SYSTEM] Processing BTCUSDT...\n",
      "[SYSTEM] Data already available for BTCUSDT (BTCUSDT-trades-2024-09.csv)\n",
      "[SYSTEM] Processing ETHUSDT...\n",
      "[SYSTEM] Data already available for ETHUSDT (ETHUSDT-trades-2024-09.csv)\n",
      "[SYSTEM] Processing SOLUSDT...\n",
      "[SYSTEM] Data already available for SOLUSDT (SOLUSDT-trades-2024-09.csv)\n",
      "[SYSTEM] Processing BNBUSDT...\n",
      "[SYSTEM] Data already available for BNBUSDT (BNBUSDT-trades-2024-09.csv)\n",
      "[SYSTEM] Processing AVAXUSDT...\n",
      "[SYSTEM] Data already available for AVAXUSDT (AVAXUSDT-trades-2024-09.csv)\n",
      "[SYSTEM] Processing UNIUSDT...\n",
      "[SYSTEM] Data already available for UNIUSDT (UNIUSDT-trades-2024-09.csv)\n",
      "[SYSTEM] Processing LINKUSDT...\n",
      "[SYSTEM] Data already available for LINKUSDT (LINKUSDT-trades-2024-09.csv)\n",
      "[SYSTEM] Processing AXSUSDT...\n",
      "[SYSTEM] Data already available for AXSUSDT (AXSUSDT-trades-2024-09.csv)\n",
      "[SYSTEM] Processing RENDERUSDT...\n",
      "[SYSTEM] Data already available for RENDERUSDT (RENDERUSDT-trades-2024-09.csv)\n",
      "[SYSTEM] Processing BTCUSDT...\n",
      "[SYSTEM] Processing ETHUSDT...\n",
      "[SYSTEM] Processing SOLUSDT...\n",
      "[SYSTEM] Processing BNBUSDT...\n",
      "[SYSTEM] Processing AVAXUSDT...\n",
      "[SYSTEM] Processing UNIUSDT...\n",
      "[SYSTEM] Processing LINKUSDT...\n",
      "[SYSTEM] Processing AXSUSDT...\n",
      "[SYSTEM] Processing RENDERUSDT...\n",
      "[SYSTEM] Processing 2024-9 with aggregation level 6...\n",
      "[SYSTEM] Processing BTCUSDT...\n",
      "[SYSTEM] Data already available for BTCUSDT (BTCUSDT-trades-2024-09.csv)\n",
      "[SYSTEM] Processing ETHUSDT...\n",
      "[SYSTEM] Data already available for ETHUSDT (ETHUSDT-trades-2024-09.csv)\n",
      "[SYSTEM] Processing SOLUSDT...\n",
      "[SYSTEM] Data already available for SOLUSDT (SOLUSDT-trades-2024-09.csv)\n",
      "[SYSTEM] Processing BNBUSDT...\n",
      "[SYSTEM] Data already available for BNBUSDT (BNBUSDT-trades-2024-09.csv)\n",
      "[SYSTEM] Processing AVAXUSDT...\n",
      "[SYSTEM] Data already available for AVAXUSDT (AVAXUSDT-trades-2024-09.csv)\n",
      "[SYSTEM] Processing UNIUSDT...\n",
      "[SYSTEM] Data already available for UNIUSDT (UNIUSDT-trades-2024-09.csv)\n",
      "[SYSTEM] Processing LINKUSDT...\n",
      "[SYSTEM] Data already available for LINKUSDT (LINKUSDT-trades-2024-09.csv)\n",
      "[SYSTEM] Processing AXSUSDT...\n",
      "[SYSTEM] Data already available for AXSUSDT (AXSUSDT-trades-2024-09.csv)\n",
      "[SYSTEM] Processing RENDERUSDT...\n",
      "[SYSTEM] Data already available for RENDERUSDT (RENDERUSDT-trades-2024-09.csv)\n",
      "[SYSTEM] Processing BTCUSDT...\n",
      "[SYSTEM] Processing ETHUSDT...\n",
      "[SYSTEM] Processing SOLUSDT...\n",
      "[SYSTEM] Processing BNBUSDT...\n",
      "[SYSTEM] Processing AVAXUSDT...\n",
      "[SYSTEM] Processing UNIUSDT...\n",
      "[SYSTEM] Processing LINKUSDT...\n",
      "[SYSTEM] Processing AXSUSDT...\n",
      "[SYSTEM] Processing RENDERUSDT...\n",
      "[SYSTEM] Processing 2024-9 with aggregation level 7...\n",
      "[SYSTEM] Processing BTCUSDT...\n",
      "[SYSTEM] Data already available for BTCUSDT (BTCUSDT-trades-2024-09.csv)\n",
      "[SYSTEM] Processing ETHUSDT...\n",
      "[SYSTEM] Data already available for ETHUSDT (ETHUSDT-trades-2024-09.csv)\n",
      "[SYSTEM] Processing SOLUSDT...\n",
      "[SYSTEM] Data already available for SOLUSDT (SOLUSDT-trades-2024-09.csv)\n",
      "[SYSTEM] Processing BNBUSDT...\n",
      "[SYSTEM] Data already available for BNBUSDT (BNBUSDT-trades-2024-09.csv)\n",
      "[SYSTEM] Processing AVAXUSDT...\n",
      "[SYSTEM] Data already available for AVAXUSDT (AVAXUSDT-trades-2024-09.csv)\n",
      "[SYSTEM] Processing UNIUSDT...\n",
      "[SYSTEM] Data already available for UNIUSDT (UNIUSDT-trades-2024-09.csv)\n",
      "[SYSTEM] Processing LINKUSDT...\n",
      "[SYSTEM] Data already available for LINKUSDT (LINKUSDT-trades-2024-09.csv)\n",
      "[SYSTEM] Processing AXSUSDT...\n",
      "[SYSTEM] Data already available for AXSUSDT (AXSUSDT-trades-2024-09.csv)\n",
      "[SYSTEM] Processing RENDERUSDT...\n",
      "[SYSTEM] Data already available for RENDERUSDT (RENDERUSDT-trades-2024-09.csv)\n",
      "[SYSTEM] Processing BTCUSDT...\n",
      "[SYSTEM] Processing ETHUSDT...\n",
      "[SYSTEM] Processing SOLUSDT...\n",
      "[SYSTEM] Processing BNBUSDT...\n",
      "[SYSTEM] Processing AVAXUSDT...\n",
      "[SYSTEM] Processing UNIUSDT...\n",
      "[SYSTEM] Processing LINKUSDT...\n",
      "[SYSTEM] Processing AXSUSDT...\n",
      "[SYSTEM] Processing RENDERUSDT...\n",
      "[SYSTEM] Processing 2024-9 with aggregation level 8...\n",
      "[SYSTEM] Processing BTCUSDT...\n",
      "[SYSTEM] Data already available for BTCUSDT (BTCUSDT-trades-2024-09.csv)\n",
      "[SYSTEM] Processing ETHUSDT...\n",
      "[SYSTEM] Data already available for ETHUSDT (ETHUSDT-trades-2024-09.csv)\n",
      "[SYSTEM] Processing SOLUSDT...\n",
      "[SYSTEM] Data already available for SOLUSDT (SOLUSDT-trades-2024-09.csv)\n",
      "[SYSTEM] Processing BNBUSDT...\n",
      "[SYSTEM] Data already available for BNBUSDT (BNBUSDT-trades-2024-09.csv)\n",
      "[SYSTEM] Processing AVAXUSDT...\n",
      "[SYSTEM] Data already available for AVAXUSDT (AVAXUSDT-trades-2024-09.csv)\n",
      "[SYSTEM] Processing UNIUSDT...\n",
      "[SYSTEM] Data already available for UNIUSDT (UNIUSDT-trades-2024-09.csv)\n",
      "[SYSTEM] Processing LINKUSDT...\n",
      "[SYSTEM] Data already available for LINKUSDT (LINKUSDT-trades-2024-09.csv)\n",
      "[SYSTEM] Processing AXSUSDT...\n",
      "[SYSTEM] Data already available for AXSUSDT (AXSUSDT-trades-2024-09.csv)\n",
      "[SYSTEM] Processing RENDERUSDT...\n",
      "[SYSTEM] Data already available for RENDERUSDT (RENDERUSDT-trades-2024-09.csv)\n",
      "[SYSTEM] Processing BTCUSDT...\n",
      "[SYSTEM] Processing ETHUSDT...\n",
      "[SYSTEM] Processing SOLUSDT...\n",
      "[SYSTEM] Processing BNBUSDT...\n",
      "[SYSTEM] Processing AVAXUSDT...\n",
      "[SYSTEM] Processing UNIUSDT...\n",
      "[SYSTEM] Processing LINKUSDT...\n",
      "[SYSTEM] Processing AXSUSDT...\n",
      "[SYSTEM] Processing RENDERUSDT...\n",
      "[SYSTEM] Processing 2024-9 with aggregation level 9...\n",
      "[SYSTEM] Processing BTCUSDT...\n",
      "[SYSTEM] Data already available for BTCUSDT (BTCUSDT-trades-2024-09.csv)\n",
      "[SYSTEM] Processing ETHUSDT...\n",
      "[SYSTEM] Data already available for ETHUSDT (ETHUSDT-trades-2024-09.csv)\n",
      "[SYSTEM] Processing SOLUSDT...\n",
      "[SYSTEM] Data already available for SOLUSDT (SOLUSDT-trades-2024-09.csv)\n",
      "[SYSTEM] Processing BNBUSDT...\n",
      "[SYSTEM] Data already available for BNBUSDT (BNBUSDT-trades-2024-09.csv)\n",
      "[SYSTEM] Processing AVAXUSDT...\n",
      "[SYSTEM] Data already available for AVAXUSDT (AVAXUSDT-trades-2024-09.csv)\n",
      "[SYSTEM] Processing UNIUSDT...\n",
      "[SYSTEM] Data already available for UNIUSDT (UNIUSDT-trades-2024-09.csv)\n",
      "[SYSTEM] Processing LINKUSDT...\n",
      "[SYSTEM] Data already available for LINKUSDT (LINKUSDT-trades-2024-09.csv)\n",
      "[SYSTEM] Processing AXSUSDT...\n",
      "[SYSTEM] Data already available for AXSUSDT (AXSUSDT-trades-2024-09.csv)\n",
      "[SYSTEM] Processing RENDERUSDT...\n",
      "[SYSTEM] Data already available for RENDERUSDT (RENDERUSDT-trades-2024-09.csv)\n",
      "[SYSTEM] Processing BTCUSDT...\n",
      "[SYSTEM] Processing ETHUSDT...\n",
      "[SYSTEM] Processing SOLUSDT...\n",
      "[SYSTEM] Processing BNBUSDT...\n",
      "[SYSTEM] Processing AVAXUSDT...\n",
      "[SYSTEM] Processing UNIUSDT...\n",
      "[SYSTEM] Processing LINKUSDT...\n",
      "[SYSTEM] Processing AXSUSDT...\n",
      "[SYSTEM] Processing RENDERUSDT...\n",
      "[SYSTEM] Processing 2024-9 with aggregation level 10...\n",
      "[SYSTEM] Processing BTCUSDT...\n",
      "[SYSTEM] Data already available for BTCUSDT (BTCUSDT-trades-2024-09.csv)\n",
      "[SYSTEM] Processing ETHUSDT...\n",
      "[SYSTEM] Data already available for ETHUSDT (ETHUSDT-trades-2024-09.csv)\n",
      "[SYSTEM] Processing SOLUSDT...\n",
      "[SYSTEM] Data already available for SOLUSDT (SOLUSDT-trades-2024-09.csv)\n",
      "[SYSTEM] Processing BNBUSDT...\n",
      "[SYSTEM] Data already available for BNBUSDT (BNBUSDT-trades-2024-09.csv)\n",
      "[SYSTEM] Processing AVAXUSDT...\n",
      "[SYSTEM] Data already available for AVAXUSDT (AVAXUSDT-trades-2024-09.csv)\n",
      "[SYSTEM] Processing UNIUSDT...\n",
      "[SYSTEM] Data already available for UNIUSDT (UNIUSDT-trades-2024-09.csv)\n",
      "[SYSTEM] Processing LINKUSDT...\n",
      "[SYSTEM] Data already available for LINKUSDT (LINKUSDT-trades-2024-09.csv)\n",
      "[SYSTEM] Processing AXSUSDT...\n",
      "[SYSTEM] Data already available for AXSUSDT (AXSUSDT-trades-2024-09.csv)\n",
      "[SYSTEM] Processing RENDERUSDT...\n",
      "[SYSTEM] Data already available for RENDERUSDT (RENDERUSDT-trades-2024-09.csv)\n",
      "[SYSTEM] Processing BTCUSDT...\n",
      "[SYSTEM] Processing ETHUSDT...\n",
      "[SYSTEM] Processing SOLUSDT...\n",
      "[SYSTEM] Processing BNBUSDT...\n",
      "[SYSTEM] Processing AVAXUSDT...\n",
      "[SYSTEM] Processing UNIUSDT...\n",
      "[SYSTEM] Processing LINKUSDT...\n",
      "[SYSTEM] Processing AXSUSDT...\n",
      "[SYSTEM] Processing RENDERUSDT...\n",
      "[SYSTEM] Processing 2024-9 with aggregation level 11...\n",
      "[SYSTEM] Processing BTCUSDT...\n",
      "[SYSTEM] Data already available for BTCUSDT (BTCUSDT-trades-2024-09.csv)\n",
      "[SYSTEM] Processing ETHUSDT...\n",
      "[SYSTEM] Data already available for ETHUSDT (ETHUSDT-trades-2024-09.csv)\n",
      "[SYSTEM] Processing SOLUSDT...\n",
      "[SYSTEM] Data already available for SOLUSDT (SOLUSDT-trades-2024-09.csv)\n",
      "[SYSTEM] Processing BNBUSDT...\n",
      "[SYSTEM] Data already available for BNBUSDT (BNBUSDT-trades-2024-09.csv)\n",
      "[SYSTEM] Processing AVAXUSDT...\n",
      "[SYSTEM] Data already available for AVAXUSDT (AVAXUSDT-trades-2024-09.csv)\n",
      "[SYSTEM] Processing UNIUSDT...\n",
      "[SYSTEM] Data already available for UNIUSDT (UNIUSDT-trades-2024-09.csv)\n",
      "[SYSTEM] Processing LINKUSDT...\n",
      "[SYSTEM] Data already available for LINKUSDT (LINKUSDT-trades-2024-09.csv)\n",
      "[SYSTEM] Processing AXSUSDT...\n",
      "[SYSTEM] Data already available for AXSUSDT (AXSUSDT-trades-2024-09.csv)\n",
      "[SYSTEM] Processing RENDERUSDT...\n",
      "[SYSTEM] Data already available for RENDERUSDT (RENDERUSDT-trades-2024-09.csv)\n",
      "[SYSTEM] Processing BTCUSDT...\n",
      "[SYSTEM] Processing ETHUSDT...\n",
      "[SYSTEM] Processing SOLUSDT...\n",
      "[SYSTEM] Processing BNBUSDT...\n",
      "[SYSTEM] Processing AVAXUSDT...\n",
      "[SYSTEM] Processing UNIUSDT...\n",
      "[SYSTEM] Processing LINKUSDT...\n",
      "[SYSTEM] Processing AXSUSDT...\n",
      "[SYSTEM] Processing RENDERUSDT...\n",
      "[SYSTEM] Processing 2024-9 with aggregation level 12...\n",
      "[SYSTEM] Processing BTCUSDT...\n",
      "[SYSTEM] Data already available for BTCUSDT (BTCUSDT-trades-2024-09.csv)\n",
      "[SYSTEM] Processing ETHUSDT...\n",
      "[SYSTEM] Data already available for ETHUSDT (ETHUSDT-trades-2024-09.csv)\n",
      "[SYSTEM] Processing SOLUSDT...\n",
      "[SYSTEM] Data already available for SOLUSDT (SOLUSDT-trades-2024-09.csv)\n",
      "[SYSTEM] Processing BNBUSDT...\n",
      "[SYSTEM] Data already available for BNBUSDT (BNBUSDT-trades-2024-09.csv)\n",
      "[SYSTEM] Processing AVAXUSDT...\n",
      "[SYSTEM] Data already available for AVAXUSDT (AVAXUSDT-trades-2024-09.csv)\n",
      "[SYSTEM] Processing UNIUSDT...\n",
      "[SYSTEM] Data already available for UNIUSDT (UNIUSDT-trades-2024-09.csv)\n",
      "[SYSTEM] Processing LINKUSDT...\n",
      "[SYSTEM] Data already available for LINKUSDT (LINKUSDT-trades-2024-09.csv)\n",
      "[SYSTEM] Processing AXSUSDT...\n",
      "[SYSTEM] Data already available for AXSUSDT (AXSUSDT-trades-2024-09.csv)\n",
      "[SYSTEM] Processing RENDERUSDT...\n",
      "[SYSTEM] Data already available for RENDERUSDT (RENDERUSDT-trades-2024-09.csv)\n"
     ]
    }
   ],
   "source": [
    "intervals_analysis(pairs=asset_pairs,\n",
    "                   symbols=symbols,\n",
    "                   max_aggregation_level=50,\n",
    "                   year=2024,\n",
    "                   month=[8,9,10,11,12])"
   ]
  },
  {
   "cell_type": "code",
   "execution_count": null,
   "id": "72007e24",
   "metadata": {},
   "outputs": [],
   "source": [
    "intervals_analysis(pairs=asset_pairs,\n",
    "                   symbols=symbols,\n",
    "                   max_aggregation_level=50,\n",
    "                   year=2024,\n",
    "                   month=[8,9,10,11,12],\n",
    "                   test = 'NP Statistic')"
   ]
  }
 ],
 "metadata": {
  "kernelspec": {
   "display_name": "Python 3",
   "language": "python",
   "name": "python3"
  },
  "language_info": {
   "codemirror_mode": {
    "name": "ipython",
    "version": 3
   },
   "file_extension": ".py",
   "mimetype": "text/x-python",
   "name": "python",
   "nbconvert_exporter": "python",
   "pygments_lexer": "ipython3",
   "version": "3.12.0"
  }
 },
 "nbformat": 4,
 "nbformat_minor": 5
}
