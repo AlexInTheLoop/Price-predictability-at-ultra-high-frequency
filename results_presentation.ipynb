{
 "cells": [
  {
   "cell_type": "markdown",
   "id": "fe3639f7",
   "metadata": {},
   "source": [
    "Moduls importations"
   ]
  },
  {
   "cell_type": "code",
   "execution_count": 1,
   "id": "b14c54d9",
   "metadata": {},
   "outputs": [],
   "source": [
    "import numpy as np\n",
    "import pandas as pd\n",
    "from data.DataManager import DataManager\n",
    "from data.DataGenerator import DataGenerator\n",
    "from data.DataCollectors import HistoricalDataCollector, RealTimeDataCollector\n",
    "from main.RandomnessAnalysis import RandomnessAnalysis\n",
    "from main.PredictableDayAnalysis import PredictableDayAnalysis\n",
    "from utils.Analysis import get_assets_properties, localization_predictable_intervals\n",
    "from utils.MultiTester import MultiTester\n",
    "from utils.VisualizationTools import plot_block_frequencies\n",
    "from utils.Analysis import intervals_analysis"
   ]
  },
  {
   "cell_type": "markdown",
   "id": "4baaa5c6",
   "metadata": {},
   "source": [
    "To import the data, one must first declare the pairs and the symbols associated to the return intervals that will be studied. The symbols variable must be a dictionary with symbols as keys and lists of two tuples as values. The first tuple corresponds to the interval associated with the key and the second specifies if the bounds of the interval are included (True) or not (False)."
   ]
  },
  {
   "cell_type": "code",
   "execution_count": 2,
   "id": "feefa29e",
   "metadata": {},
   "outputs": [],
   "source": [
    "asset_pairs = ['BTCUSDT','ETHUSDT','SOLUSDT',\n",
    "               'BNBUSDT', 'AVAXUSDT', 'UNIUSDT',\n",
    "               'LINKUSDT', 'AXSUSDT', 'RENDERUSDT']\n",
    "symbols = {\n",
    "            0: [(-np.inf, 0)\n",
    "                , (False, False)],\n",
    "            1: [(0, np.inf), (False, False)]\n",
    "        }"
   ]
  },
  {
   "cell_type": "markdown",
   "id": "4ee208f9",
   "metadata": {},
   "source": [
    "Then to start collecting data, one has the choice between:\n",
    "- using the class `RealTimeDataCollector()` to collect them in real time for a certain duration in hours\n",
    "- using the class `HistoricalDataCollector()` to collect them for a given year and month\n",
    "\n",
    "In order to get a great deal of data quickly, the second option is the best."
   ]
  },
  {
   "cell_type": "code",
   "execution_count": 3,
   "id": "11d0eda9",
   "metadata": {},
   "outputs": [
    {
     "data": {
      "text/plain": [
       "<coroutine object RealTimeDataCollector.run at 0x0000026F78AF5240>"
      ]
     },
     "execution_count": 3,
     "metadata": {},
     "output_type": "execute_result"
    }
   ],
   "source": [
    "real_time_collection = RealTimeDataCollector(pairs=asset_pairs,\n",
    "                                             duration_hours=1,\n",
    "                                             update_interval=30)\n",
    "real_time_collection.run()"
   ]
  },
  {
   "cell_type": "markdown",
   "id": "34bacad1",
   "metadata": {},
   "source": [
    "For every asset pair asked, the collector will download the zip file of the historical trades for the year and month given. Then it will unzip it, save it as csv file and delete the original zip file. If the csv file for a certain pair, year and month is already present in the folder data/raw_data, the method `collect()` will notice it and won't download it again to save some execution time."
   ]
  },
  {
   "cell_type": "code",
   "execution_count": 3,
   "id": "9696e80f",
   "metadata": {},
   "outputs": [
    {
     "name": "stdout",
     "output_type": "stream",
     "text": [
      "[SYSTEM] Processing BTCUSDT...\n",
      "[SYSTEM] Data already available for BTCUSDT (BTCUSDT-trades-2024-11-05.csv)\n",
      "[SYSTEM] Processing ETHUSDT...\n",
      "[SYSTEM] Data already available for ETHUSDT (ETHUSDT-trades-2024-11-05.csv)\n",
      "[SYSTEM] Processing BNBUSDT...\n",
      "[SYSTEM] Data already available for BNBUSDT (BNBUSDT-trades-2024-11-05.csv)\n",
      "[SYSTEM] Processing XRPUSDT...\n",
      "[SYSTEM] Data already available for XRPUSDT (XRPUSDT-trades-2024-11-05.csv)\n"
     ]
    }
   ],
   "source": [
    "historical_collector = HistoricalDataCollector(pairs=asset_pairs, year=2024, month=11, day=5)\n",
    "historical_collector.collect()"
   ]
  },
  {
   "cell_type": "markdown",
   "id": "fd74ef5a",
   "metadata": {},
   "source": [
    "Once the data is collected, one can preprocessed them just by creating an instance of the class `DataManager()` and then use the method `block constructor()` to build the blocks for a given size. The method will return a dictionary where each key is a pair and each value is a `pd.Dataframe` containing the built blocks for the pair."
   ]
  },
  {
   "cell_type": "code",
   "execution_count": 5,
   "id": "f94e30a6",
   "metadata": {},
   "outputs": [
    {
     "data": {
      "text/html": [
       "<div>\n",
       "<style scoped>\n",
       "    .dataframe tbody tr th:only-of-type {\n",
       "        vertical-align: middle;\n",
       "    }\n",
       "\n",
       "    .dataframe tbody tr th {\n",
       "        vertical-align: top;\n",
       "    }\n",
       "\n",
       "    .dataframe thead th {\n",
       "        text-align: right;\n",
       "    }\n",
       "</style>\n",
       "<table border=\"1\" class=\"dataframe\">\n",
       "  <thead>\n",
       "    <tr style=\"text-align: right;\">\n",
       "      <th></th>\n",
       "      <th>0</th>\n",
       "      <th>1</th>\n",
       "    </tr>\n",
       "  </thead>\n",
       "  <tbody>\n",
       "    <tr>\n",
       "      <th>0</th>\n",
       "      <td>0</td>\n",
       "      <td>0</td>\n",
       "    </tr>\n",
       "    <tr>\n",
       "      <th>1</th>\n",
       "      <td>0</td>\n",
       "      <td>0</td>\n",
       "    </tr>\n",
       "    <tr>\n",
       "      <th>2</th>\n",
       "      <td>0</td>\n",
       "      <td>0</td>\n",
       "    </tr>\n",
       "  </tbody>\n",
       "</table>\n",
       "</div>"
      ],
      "text/plain": [
       "   0  1\n",
       "0  0  0\n",
       "1  0  0\n",
       "2  0  0"
      ]
     },
     "execution_count": 5,
     "metadata": {},
     "output_type": "execute_result"
    }
   ],
   "source": [
    "data_manager = DataManager(asset_pairs, symbols, year=2024, month=11, day=5, aggregation_level=5)\n",
    "blocks = data_manager.block_constructor(block_size=2, overlapping=False)\n",
    "blocks_btc = blocks['BTCUSDT']\n",
    "blocks_btc.head(3)"
   ]
  },
  {
   "cell_type": "markdown",
   "id": "22fd433c",
   "metadata": {},
   "source": [
    "Now that the blocks are built, one can compute the blocks relative frequencies by creating an instance of the class `RandomnessAnalysis()` and executing the method `compute_blocks_frequencies()` which will return a `pd.Dataframe` with the blocks as index and the absolute and relative frequencies in columns."
   ]
  },
  {
   "cell_type": "code",
   "execution_count": 6,
   "id": "03d9e4ea",
   "metadata": {},
   "outputs": [
    {
     "data": {
      "text/html": [
       "<div>\n",
       "<style scoped>\n",
       "    .dataframe tbody tr th:only-of-type {\n",
       "        vertical-align: middle;\n",
       "    }\n",
       "\n",
       "    .dataframe tbody tr th {\n",
       "        vertical-align: top;\n",
       "    }\n",
       "\n",
       "    .dataframe thead th {\n",
       "        text-align: right;\n",
       "    }\n",
       "</style>\n",
       "<table border=\"1\" class=\"dataframe\">\n",
       "  <thead>\n",
       "    <tr style=\"text-align: right;\">\n",
       "      <th></th>\n",
       "      <th>block</th>\n",
       "      <th>absolute frequency</th>\n",
       "      <th>relative frequency</th>\n",
       "    </tr>\n",
       "  </thead>\n",
       "  <tbody>\n",
       "    <tr>\n",
       "      <th>0</th>\n",
       "      <td>(0, 0)</td>\n",
       "      <td>4987751</td>\n",
       "      <td>0.430066</td>\n",
       "    </tr>\n",
       "    <tr>\n",
       "      <th>1</th>\n",
       "      <td>(0, 1)</td>\n",
       "      <td>694530</td>\n",
       "      <td>0.059885</td>\n",
       "    </tr>\n",
       "    <tr>\n",
       "      <th>2</th>\n",
       "      <td>(1, 0)</td>\n",
       "      <td>693941</td>\n",
       "      <td>0.059835</td>\n",
       "    </tr>\n",
       "    <tr>\n",
       "      <th>3</th>\n",
       "      <td>(1, 1)</td>\n",
       "      <td>5221418</td>\n",
       "      <td>0.450214</td>\n",
       "    </tr>\n",
       "  </tbody>\n",
       "</table>\n",
       "</div>"
      ],
      "text/plain": [
       "    block  absolute frequency  relative frequency\n",
       "0  (0, 0)             4987751            0.430066\n",
       "1  (0, 1)              694530            0.059885\n",
       "2  (1, 0)              693941            0.059835\n",
       "3  (1, 1)             5221418            0.450214"
      ]
     },
     "execution_count": 6,
     "metadata": {},
     "output_type": "execute_result"
    }
   ],
   "source": [
    "s = 2\n",
    "analyser = RandomnessAnalysis(blocks_df=blocks_btc, s=s)\n",
    "frequencies_df = analyser.compute_blocks_frequencies()\n",
    "frequencies_df"
   ]
  },
  {
   "cell_type": "markdown",
   "id": "fd6b6d56",
   "metadata": {},
   "source": [
    "To better visualize the frequencies distributions, one can apply the function `plot_block_frequencies()` on the dataframe."
   ]
  },
  {
   "cell_type": "code",
   "execution_count": 7,
   "id": "27f454b2",
   "metadata": {},
   "outputs": [
    {
     "data": {
      "application/vnd.plotly.v1+json": {
       "config": {
        "plotlyServerURL": "https://plot.ly"
       },
       "data": [
        {
         "marker": {
          "color": "blue"
         },
         "name": "Absolute frequency",
         "type": "bar",
         "x": [
          "(0, 0)",
          "(0, 1)",
          "(1, 0)",
          "(1, 1)"
         ],
         "xaxis": "x",
         "y": [
          4987751,
          694530,
          693941,
          5221418
         ],
         "yaxis": "y"
        },
        {
         "marker": {
          "color": "red"
         },
         "name": "Relative frequency",
         "type": "bar",
         "x": [
          "(0, 0)",
          "(0, 1)",
          "(1, 0)",
          "(1, 1)"
         ],
         "xaxis": "x2",
         "y": [
          0.4300660306752063,
          0.0598854594555444,
          0.05983467326111174,
          0.4502138366081375
         ],
         "yaxis": "y2"
        }
       ],
       "layout": {
        "annotations": [
         {
          "font": {
           "size": 16
          },
          "showarrow": false,
          "text": "Absolute frequency",
          "x": 0.225,
          "xanchor": "center",
          "xref": "paper",
          "y": 1,
          "yanchor": "bottom",
          "yref": "paper"
         },
         {
          "font": {
           "size": 16
          },
          "showarrow": false,
          "text": "Relative frequency",
          "x": 0.775,
          "xanchor": "center",
          "xref": "paper",
          "y": 1,
          "yanchor": "bottom",
          "yref": "paper"
         }
        ],
        "height": 800,
        "showlegend": false,
        "template": {
         "data": {
          "bar": [
           {
            "error_x": {
             "color": "#2a3f5f"
            },
            "error_y": {
             "color": "#2a3f5f"
            },
            "marker": {
             "line": {
              "color": "#E5ECF6",
              "width": 0.5
             },
             "pattern": {
              "fillmode": "overlay",
              "size": 10,
              "solidity": 0.2
             }
            },
            "type": "bar"
           }
          ],
          "barpolar": [
           {
            "marker": {
             "line": {
              "color": "#E5ECF6",
              "width": 0.5
             },
             "pattern": {
              "fillmode": "overlay",
              "size": 10,
              "solidity": 0.2
             }
            },
            "type": "barpolar"
           }
          ],
          "carpet": [
           {
            "aaxis": {
             "endlinecolor": "#2a3f5f",
             "gridcolor": "white",
             "linecolor": "white",
             "minorgridcolor": "white",
             "startlinecolor": "#2a3f5f"
            },
            "baxis": {
             "endlinecolor": "#2a3f5f",
             "gridcolor": "white",
             "linecolor": "white",
             "minorgridcolor": "white",
             "startlinecolor": "#2a3f5f"
            },
            "type": "carpet"
           }
          ],
          "choropleth": [
           {
            "colorbar": {
             "outlinewidth": 0,
             "ticks": ""
            },
            "type": "choropleth"
           }
          ],
          "contour": [
           {
            "colorbar": {
             "outlinewidth": 0,
             "ticks": ""
            },
            "colorscale": [
             [
              0,
              "#0d0887"
             ],
             [
              0.1111111111111111,
              "#46039f"
             ],
             [
              0.2222222222222222,
              "#7201a8"
             ],
             [
              0.3333333333333333,
              "#9c179e"
             ],
             [
              0.4444444444444444,
              "#bd3786"
             ],
             [
              0.5555555555555556,
              "#d8576b"
             ],
             [
              0.6666666666666666,
              "#ed7953"
             ],
             [
              0.7777777777777778,
              "#fb9f3a"
             ],
             [
              0.8888888888888888,
              "#fdca26"
             ],
             [
              1,
              "#f0f921"
             ]
            ],
            "type": "contour"
           }
          ],
          "contourcarpet": [
           {
            "colorbar": {
             "outlinewidth": 0,
             "ticks": ""
            },
            "type": "contourcarpet"
           }
          ],
          "heatmap": [
           {
            "colorbar": {
             "outlinewidth": 0,
             "ticks": ""
            },
            "colorscale": [
             [
              0,
              "#0d0887"
             ],
             [
              0.1111111111111111,
              "#46039f"
             ],
             [
              0.2222222222222222,
              "#7201a8"
             ],
             [
              0.3333333333333333,
              "#9c179e"
             ],
             [
              0.4444444444444444,
              "#bd3786"
             ],
             [
              0.5555555555555556,
              "#d8576b"
             ],
             [
              0.6666666666666666,
              "#ed7953"
             ],
             [
              0.7777777777777778,
              "#fb9f3a"
             ],
             [
              0.8888888888888888,
              "#fdca26"
             ],
             [
              1,
              "#f0f921"
             ]
            ],
            "type": "heatmap"
           }
          ],
          "heatmapgl": [
           {
            "colorbar": {
             "outlinewidth": 0,
             "ticks": ""
            },
            "colorscale": [
             [
              0,
              "#0d0887"
             ],
             [
              0.1111111111111111,
              "#46039f"
             ],
             [
              0.2222222222222222,
              "#7201a8"
             ],
             [
              0.3333333333333333,
              "#9c179e"
             ],
             [
              0.4444444444444444,
              "#bd3786"
             ],
             [
              0.5555555555555556,
              "#d8576b"
             ],
             [
              0.6666666666666666,
              "#ed7953"
             ],
             [
              0.7777777777777778,
              "#fb9f3a"
             ],
             [
              0.8888888888888888,
              "#fdca26"
             ],
             [
              1,
              "#f0f921"
             ]
            ],
            "type": "heatmapgl"
           }
          ],
          "histogram": [
           {
            "marker": {
             "pattern": {
              "fillmode": "overlay",
              "size": 10,
              "solidity": 0.2
             }
            },
            "type": "histogram"
           }
          ],
          "histogram2d": [
           {
            "colorbar": {
             "outlinewidth": 0,
             "ticks": ""
            },
            "colorscale": [
             [
              0,
              "#0d0887"
             ],
             [
              0.1111111111111111,
              "#46039f"
             ],
             [
              0.2222222222222222,
              "#7201a8"
             ],
             [
              0.3333333333333333,
              "#9c179e"
             ],
             [
              0.4444444444444444,
              "#bd3786"
             ],
             [
              0.5555555555555556,
              "#d8576b"
             ],
             [
              0.6666666666666666,
              "#ed7953"
             ],
             [
              0.7777777777777778,
              "#fb9f3a"
             ],
             [
              0.8888888888888888,
              "#fdca26"
             ],
             [
              1,
              "#f0f921"
             ]
            ],
            "type": "histogram2d"
           }
          ],
          "histogram2dcontour": [
           {
            "colorbar": {
             "outlinewidth": 0,
             "ticks": ""
            },
            "colorscale": [
             [
              0,
              "#0d0887"
             ],
             [
              0.1111111111111111,
              "#46039f"
             ],
             [
              0.2222222222222222,
              "#7201a8"
             ],
             [
              0.3333333333333333,
              "#9c179e"
             ],
             [
              0.4444444444444444,
              "#bd3786"
             ],
             [
              0.5555555555555556,
              "#d8576b"
             ],
             [
              0.6666666666666666,
              "#ed7953"
             ],
             [
              0.7777777777777778,
              "#fb9f3a"
             ],
             [
              0.8888888888888888,
              "#fdca26"
             ],
             [
              1,
              "#f0f921"
             ]
            ],
            "type": "histogram2dcontour"
           }
          ],
          "mesh3d": [
           {
            "colorbar": {
             "outlinewidth": 0,
             "ticks": ""
            },
            "type": "mesh3d"
           }
          ],
          "parcoords": [
           {
            "line": {
             "colorbar": {
              "outlinewidth": 0,
              "ticks": ""
             }
            },
            "type": "parcoords"
           }
          ],
          "pie": [
           {
            "automargin": true,
            "type": "pie"
           }
          ],
          "scatter": [
           {
            "fillpattern": {
             "fillmode": "overlay",
             "size": 10,
             "solidity": 0.2
            },
            "type": "scatter"
           }
          ],
          "scatter3d": [
           {
            "line": {
             "colorbar": {
              "outlinewidth": 0,
              "ticks": ""
             }
            },
            "marker": {
             "colorbar": {
              "outlinewidth": 0,
              "ticks": ""
             }
            },
            "type": "scatter3d"
           }
          ],
          "scattercarpet": [
           {
            "marker": {
             "colorbar": {
              "outlinewidth": 0,
              "ticks": ""
             }
            },
            "type": "scattercarpet"
           }
          ],
          "scattergeo": [
           {
            "marker": {
             "colorbar": {
              "outlinewidth": 0,
              "ticks": ""
             }
            },
            "type": "scattergeo"
           }
          ],
          "scattergl": [
           {
            "marker": {
             "colorbar": {
              "outlinewidth": 0,
              "ticks": ""
             }
            },
            "type": "scattergl"
           }
          ],
          "scattermapbox": [
           {
            "marker": {
             "colorbar": {
              "outlinewidth": 0,
              "ticks": ""
             }
            },
            "type": "scattermapbox"
           }
          ],
          "scatterpolar": [
           {
            "marker": {
             "colorbar": {
              "outlinewidth": 0,
              "ticks": ""
             }
            },
            "type": "scatterpolar"
           }
          ],
          "scatterpolargl": [
           {
            "marker": {
             "colorbar": {
              "outlinewidth": 0,
              "ticks": ""
             }
            },
            "type": "scatterpolargl"
           }
          ],
          "scatterternary": [
           {
            "marker": {
             "colorbar": {
              "outlinewidth": 0,
              "ticks": ""
             }
            },
            "type": "scatterternary"
           }
          ],
          "surface": [
           {
            "colorbar": {
             "outlinewidth": 0,
             "ticks": ""
            },
            "colorscale": [
             [
              0,
              "#0d0887"
             ],
             [
              0.1111111111111111,
              "#46039f"
             ],
             [
              0.2222222222222222,
              "#7201a8"
             ],
             [
              0.3333333333333333,
              "#9c179e"
             ],
             [
              0.4444444444444444,
              "#bd3786"
             ],
             [
              0.5555555555555556,
              "#d8576b"
             ],
             [
              0.6666666666666666,
              "#ed7953"
             ],
             [
              0.7777777777777778,
              "#fb9f3a"
             ],
             [
              0.8888888888888888,
              "#fdca26"
             ],
             [
              1,
              "#f0f921"
             ]
            ],
            "type": "surface"
           }
          ],
          "table": [
           {
            "cells": {
             "fill": {
              "color": "#EBF0F8"
             },
             "line": {
              "color": "white"
             }
            },
            "header": {
             "fill": {
              "color": "#C8D4E3"
             },
             "line": {
              "color": "white"
             }
            },
            "type": "table"
           }
          ]
         },
         "layout": {
          "annotationdefaults": {
           "arrowcolor": "#2a3f5f",
           "arrowhead": 0,
           "arrowwidth": 1
          },
          "autotypenumbers": "strict",
          "coloraxis": {
           "colorbar": {
            "outlinewidth": 0,
            "ticks": ""
           }
          },
          "colorscale": {
           "diverging": [
            [
             0,
             "#8e0152"
            ],
            [
             0.1,
             "#c51b7d"
            ],
            [
             0.2,
             "#de77ae"
            ],
            [
             0.3,
             "#f1b6da"
            ],
            [
             0.4,
             "#fde0ef"
            ],
            [
             0.5,
             "#f7f7f7"
            ],
            [
             0.6,
             "#e6f5d0"
            ],
            [
             0.7,
             "#b8e186"
            ],
            [
             0.8,
             "#7fbc41"
            ],
            [
             0.9,
             "#4d9221"
            ],
            [
             1,
             "#276419"
            ]
           ],
           "sequential": [
            [
             0,
             "#0d0887"
            ],
            [
             0.1111111111111111,
             "#46039f"
            ],
            [
             0.2222222222222222,
             "#7201a8"
            ],
            [
             0.3333333333333333,
             "#9c179e"
            ],
            [
             0.4444444444444444,
             "#bd3786"
            ],
            [
             0.5555555555555556,
             "#d8576b"
            ],
            [
             0.6666666666666666,
             "#ed7953"
            ],
            [
             0.7777777777777778,
             "#fb9f3a"
            ],
            [
             0.8888888888888888,
             "#fdca26"
            ],
            [
             1,
             "#f0f921"
            ]
           ],
           "sequentialminus": [
            [
             0,
             "#0d0887"
            ],
            [
             0.1111111111111111,
             "#46039f"
            ],
            [
             0.2222222222222222,
             "#7201a8"
            ],
            [
             0.3333333333333333,
             "#9c179e"
            ],
            [
             0.4444444444444444,
             "#bd3786"
            ],
            [
             0.5555555555555556,
             "#d8576b"
            ],
            [
             0.6666666666666666,
             "#ed7953"
            ],
            [
             0.7777777777777778,
             "#fb9f3a"
            ],
            [
             0.8888888888888888,
             "#fdca26"
            ],
            [
             1,
             "#f0f921"
            ]
           ]
          },
          "colorway": [
           "#636efa",
           "#EF553B",
           "#00cc96",
           "#ab63fa",
           "#FFA15A",
           "#19d3f3",
           "#FF6692",
           "#B6E880",
           "#FF97FF",
           "#FECB52"
          ],
          "font": {
           "color": "#2a3f5f"
          },
          "geo": {
           "bgcolor": "white",
           "lakecolor": "white",
           "landcolor": "#E5ECF6",
           "showlakes": true,
           "showland": true,
           "subunitcolor": "white"
          },
          "hoverlabel": {
           "align": "left"
          },
          "hovermode": "closest",
          "mapbox": {
           "style": "light"
          },
          "paper_bgcolor": "white",
          "plot_bgcolor": "#E5ECF6",
          "polar": {
           "angularaxis": {
            "gridcolor": "white",
            "linecolor": "white",
            "ticks": ""
           },
           "bgcolor": "#E5ECF6",
           "radialaxis": {
            "gridcolor": "white",
            "linecolor": "white",
            "ticks": ""
           }
          },
          "scene": {
           "xaxis": {
            "backgroundcolor": "#E5ECF6",
            "gridcolor": "white",
            "gridwidth": 2,
            "linecolor": "white",
            "showbackground": true,
            "ticks": "",
            "zerolinecolor": "white"
           },
           "yaxis": {
            "backgroundcolor": "#E5ECF6",
            "gridcolor": "white",
            "gridwidth": 2,
            "linecolor": "white",
            "showbackground": true,
            "ticks": "",
            "zerolinecolor": "white"
           },
           "zaxis": {
            "backgroundcolor": "#E5ECF6",
            "gridcolor": "white",
            "gridwidth": 2,
            "linecolor": "white",
            "showbackground": true,
            "ticks": "",
            "zerolinecolor": "white"
           }
          },
          "shapedefaults": {
           "line": {
            "color": "#2a3f5f"
           }
          },
          "ternary": {
           "aaxis": {
            "gridcolor": "white",
            "linecolor": "white",
            "ticks": ""
           },
           "baxis": {
            "gridcolor": "white",
            "linecolor": "white",
            "ticks": ""
           },
           "bgcolor": "#E5ECF6",
           "caxis": {
            "gridcolor": "white",
            "linecolor": "white",
            "ticks": ""
           }
          },
          "title": {
           "x": 0.05
          },
          "xaxis": {
           "automargin": true,
           "gridcolor": "white",
           "linecolor": "white",
           "ticks": "",
           "title": {
            "standoff": 15
           },
           "zerolinecolor": "white",
           "zerolinewidth": 2
          },
          "yaxis": {
           "automargin": true,
           "gridcolor": "white",
           "linecolor": "white",
           "ticks": "",
           "title": {
            "standoff": 15
           },
           "zerolinecolor": "white",
           "zerolinewidth": 2
          }
         }
        },
        "title": {
         "text": "Blocks Analysis"
        },
        "width": 1500,
        "xaxis": {
         "anchor": "y",
         "domain": [
          0,
          0.45
         ],
         "title": {
          "text": "Blocks"
         }
        },
        "xaxis2": {
         "anchor": "y2",
         "domain": [
          0.55,
          1
         ],
         "title": {
          "text": "Blocks"
         }
        },
        "yaxis": {
         "anchor": "x",
         "domain": [
          0,
          1
         ],
         "title": {
          "text": "Absolute Frequency"
         }
        },
        "yaxis2": {
         "anchor": "x2",
         "domain": [
          0,
          1
         ],
         "title": {
          "text": "Relative Frequency"
         }
        }
       }
      }
     },
     "metadata": {},
     "output_type": "display_data"
    }
   ],
   "source": [
    "plot_block_frequencies(frequencies_df)"
   ]
  },
  {
   "cell_type": "markdown",
   "id": "491c66de",
   "metadata": {},
   "source": [
    "The class `RandomnessAnalysis()` has also two other methods :\n",
    "- `entropy_bias_test()` to launch a predictability hypothesis test based on Entropy Bias\n",
    "- `KL_divergence_test()` to launch a predictability hypothesis test based on KL Divergence\n",
    "\n",
    "For both methods, the output is the test results in a `pd.Dataframe` format."
   ]
  },
  {
   "cell_type": "code",
   "execution_count": 8,
   "id": "f2d57410",
   "metadata": {},
   "outputs": [
    {
     "data": {
      "text/html": [
       "<div>\n",
       "<style scoped>\n",
       "    .dataframe tbody tr th:only-of-type {\n",
       "        vertical-align: middle;\n",
       "    }\n",
       "\n",
       "    .dataframe tbody tr th {\n",
       "        vertical-align: top;\n",
       "    }\n",
       "\n",
       "    .dataframe thead th {\n",
       "        text-align: right;\n",
       "    }\n",
       "</style>\n",
       "<table border=\"1\" class=\"dataframe\">\n",
       "  <thead>\n",
       "    <tr style=\"text-align: right;\">\n",
       "      <th></th>\n",
       "      <th>Entropy Bias test</th>\n",
       "    </tr>\n",
       "  </thead>\n",
       "  <tbody>\n",
       "    <tr>\n",
       "      <th>Bias</th>\n",
       "      <td>7585106.567047</td>\n",
       "    </tr>\n",
       "    <tr>\n",
       "      <th>Quantile 90%</th>\n",
       "      <td>6.251389</td>\n",
       "    </tr>\n",
       "    <tr>\n",
       "      <th>Quantile 95%</th>\n",
       "      <td>7.814728</td>\n",
       "    </tr>\n",
       "    <tr>\n",
       "      <th>Quantile 99%</th>\n",
       "      <td>11.344867</td>\n",
       "    </tr>\n",
       "    <tr>\n",
       "      <th>P-value</th>\n",
       "      <td>0.0</td>\n",
       "    </tr>\n",
       "    <tr>\n",
       "      <th>Mean</th>\n",
       "      <td>3</td>\n",
       "    </tr>\n",
       "    <tr>\n",
       "      <th>Hypothesis 1</th>\n",
       "      <td>True</td>\n",
       "    </tr>\n",
       "  </tbody>\n",
       "</table>\n",
       "</div>"
      ],
      "text/plain": [
       "             Entropy Bias test\n",
       "Bias            7585106.567047\n",
       "Quantile 90%          6.251389\n",
       "Quantile 95%          7.814728\n",
       "Quantile 99%         11.344867\n",
       "P-value                    0.0\n",
       "Mean                         3\n",
       "Hypothesis 1              True"
      ]
     },
     "execution_count": 8,
     "metadata": {},
     "output_type": "execute_result"
    }
   ],
   "source": [
    "test_entropy = analyser.entropy_bias_test()\n",
    "test_entropy"
   ]
  },
  {
   "cell_type": "code",
   "execution_count": 9,
   "id": "ef961000",
   "metadata": {},
   "outputs": [
    {
     "data": {
      "text/html": [
       "<div>\n",
       "<style scoped>\n",
       "    .dataframe tbody tr th:only-of-type {\n",
       "        vertical-align: middle;\n",
       "    }\n",
       "\n",
       "    .dataframe tbody tr th {\n",
       "        vertical-align: top;\n",
       "    }\n",
       "\n",
       "    .dataframe thead th {\n",
       "        text-align: right;\n",
       "    }\n",
       "</style>\n",
       "<table border=\"1\" class=\"dataframe\">\n",
       "  <thead>\n",
       "    <tr style=\"text-align: right;\">\n",
       "      <th></th>\n",
       "      <th>KL Divergence test</th>\n",
       "    </tr>\n",
       "  </thead>\n",
       "  <tbody>\n",
       "    <tr>\n",
       "      <th>KL Divergence</th>\n",
       "      <td>7575690.115326</td>\n",
       "    </tr>\n",
       "    <tr>\n",
       "      <th>Quantile 90%</th>\n",
       "      <td>2.705543</td>\n",
       "    </tr>\n",
       "    <tr>\n",
       "      <th>Quantile 95%</th>\n",
       "      <td>3.841459</td>\n",
       "    </tr>\n",
       "    <tr>\n",
       "      <th>Quantile 99%</th>\n",
       "      <td>6.634897</td>\n",
       "    </tr>\n",
       "    <tr>\n",
       "      <th>P-value</th>\n",
       "      <td>0.0</td>\n",
       "    </tr>\n",
       "    <tr>\n",
       "      <th>Mean</th>\n",
       "      <td>1</td>\n",
       "    </tr>\n",
       "    <tr>\n",
       "      <th>Hypothesis 1</th>\n",
       "      <td>True</td>\n",
       "    </tr>\n",
       "  </tbody>\n",
       "</table>\n",
       "</div>"
      ],
      "text/plain": [
       "              KL Divergence test\n",
       "KL Divergence     7575690.115326\n",
       "Quantile 90%            2.705543\n",
       "Quantile 95%            3.841459\n",
       "Quantile 99%            6.634897\n",
       "P-value                      0.0\n",
       "Mean                           1\n",
       "Hypothesis 1                True"
      ]
     },
     "execution_count": 9,
     "metadata": {},
     "output_type": "execute_result"
    }
   ],
   "source": [
    "test_divergence = analyser.KL_divergence_test()\n",
    "test_divergence"
   ]
  },
  {
   "cell_type": "markdown",
   "id": "07cf4da8",
   "metadata": {},
   "source": [
    "If one wants to perform multiple predictability tests for different sets of parameters (block size or aggregation level), the class `MultiTester()` can manage it with the methods `test_by_block_size()` and `test_by_aggregation_level()`. The output is displayed in a `pd.Dataframe` with the test statistics, the quantiles and the theoretical distribution mean by block size or aggregation level."
   ]
  },
  {
   "cell_type": "code",
   "execution_count": 10,
   "id": "317cde8d",
   "metadata": {},
   "outputs": [
    {
     "data": {
      "text/html": [
       "<div>\n",
       "<style scoped>\n",
       "    .dataframe tbody tr th:only-of-type {\n",
       "        vertical-align: middle;\n",
       "    }\n",
       "\n",
       "    .dataframe tbody tr th {\n",
       "        vertical-align: top;\n",
       "    }\n",
       "\n",
       "    .dataframe thead th {\n",
       "        text-align: right;\n",
       "    }\n",
       "</style>\n",
       "<table border=\"1\" class=\"dataframe\">\n",
       "  <thead>\n",
       "    <tr style=\"text-align: right;\">\n",
       "      <th></th>\n",
       "      <th>Test statistic</th>\n",
       "      <th>Quantile 99</th>\n",
       "      <th>Quantile 95</th>\n",
       "      <th>Quantile 90</th>\n",
       "      <th>Mean</th>\n",
       "    </tr>\n",
       "    <tr>\n",
       "      <th>Block size</th>\n",
       "      <th></th>\n",
       "      <th></th>\n",
       "      <th></th>\n",
       "      <th></th>\n",
       "      <th></th>\n",
       "    </tr>\n",
       "  </thead>\n",
       "  <tbody>\n",
       "    <tr>\n",
       "      <th>1</th>\n",
       "      <td>4.716604e+03</td>\n",
       "      <td>6.634897</td>\n",
       "      <td>3.841459</td>\n",
       "      <td>2.705543</td>\n",
       "      <td>1</td>\n",
       "    </tr>\n",
       "    <tr>\n",
       "      <th>2</th>\n",
       "      <td>7.585107e+06</td>\n",
       "      <td>11.344867</td>\n",
       "      <td>7.814728</td>\n",
       "      <td>6.251389</td>\n",
       "      <td>3</td>\n",
       "    </tr>\n",
       "    <tr>\n",
       "      <th>3</th>\n",
       "      <td>1.648109e+06</td>\n",
       "      <td>18.475307</td>\n",
       "      <td>14.067140</td>\n",
       "      <td>12.017037</td>\n",
       "      <td>7</td>\n",
       "    </tr>\n",
       "    <tr>\n",
       "      <th>4</th>\n",
       "      <td>1.862117e+06</td>\n",
       "      <td>30.577914</td>\n",
       "      <td>24.995790</td>\n",
       "      <td>22.307130</td>\n",
       "      <td>15</td>\n",
       "    </tr>\n",
       "    <tr>\n",
       "      <th>5</th>\n",
       "      <td>1.995203e+06</td>\n",
       "      <td>52.191395</td>\n",
       "      <td>44.985343</td>\n",
       "      <td>41.421736</td>\n",
       "      <td>31</td>\n",
       "    </tr>\n",
       "    <tr>\n",
       "      <th>6</th>\n",
       "      <td>2.083016e+06</td>\n",
       "      <td>92.010024</td>\n",
       "      <td>82.528727</td>\n",
       "      <td>77.745385</td>\n",
       "      <td>63</td>\n",
       "    </tr>\n",
       "    <tr>\n",
       "      <th>7</th>\n",
       "      <td>2.145522e+06</td>\n",
       "      <td>166.987390</td>\n",
       "      <td>154.301516</td>\n",
       "      <td>147.804813</td>\n",
       "      <td>127</td>\n",
       "    </tr>\n",
       "    <tr>\n",
       "      <th>8</th>\n",
       "      <td>2.193572e+06</td>\n",
       "      <td>310.457388</td>\n",
       "      <td>293.247835</td>\n",
       "      <td>284.335908</td>\n",
       "      <td>255</td>\n",
       "    </tr>\n",
       "    <tr>\n",
       "      <th>9</th>\n",
       "      <td>2.231650e+06</td>\n",
       "      <td>588.297794</td>\n",
       "      <td>564.696133</td>\n",
       "      <td>552.373933</td>\n",
       "      <td>511</td>\n",
       "    </tr>\n",
       "    <tr>\n",
       "      <th>10</th>\n",
       "      <td>2.263570e+06</td>\n",
       "      <td>1131.158739</td>\n",
       "      <td>1098.520782</td>\n",
       "      <td>1081.379444</td>\n",
       "      <td>1023</td>\n",
       "    </tr>\n",
       "    <tr>\n",
       "      <th>11</th>\n",
       "      <td>2.288890e+06</td>\n",
       "      <td>2198.784497</td>\n",
       "      <td>2153.369631</td>\n",
       "      <td>2129.415591</td>\n",
       "      <td>2047</td>\n",
       "    </tr>\n",
       "    <tr>\n",
       "      <th>12</th>\n",
       "      <td>2.311583e+06</td>\n",
       "      <td>4308.467866</td>\n",
       "      <td>4244.985308</td>\n",
       "      <td>4211.398462</td>\n",
       "      <td>4095</td>\n",
       "    </tr>\n",
       "    <tr>\n",
       "      <th>13</th>\n",
       "      <td>2.333340e+06</td>\n",
       "      <td>8491.692343</td>\n",
       "      <td>8402.659295</td>\n",
       "      <td>8355.450875</td>\n",
       "      <td>8191</td>\n",
       "    </tr>\n",
       "    <tr>\n",
       "      <th>14</th>\n",
       "      <td>2.354937e+06</td>\n",
       "      <td>16807.040058</td>\n",
       "      <td>16681.873910</td>\n",
       "      <td>16615.402568</td>\n",
       "      <td>16383</td>\n",
       "    </tr>\n",
       "    <tr>\n",
       "      <th>15</th>\n",
       "      <td>2.376506e+06</td>\n",
       "      <td>33365.475611</td>\n",
       "      <td>33189.210063</td>\n",
       "      <td>33095.497464</td>\n",
       "      <td>32767</td>\n",
       "    </tr>\n",
       "  </tbody>\n",
       "</table>\n",
       "</div>"
      ],
      "text/plain": [
       "            Test statistic   Quantile 99   Quantile 95   Quantile 90   Mean\n",
       "Block size                                                                 \n",
       "1             4.716604e+03      6.634897      3.841459      2.705543      1\n",
       "2             7.585107e+06     11.344867      7.814728      6.251389      3\n",
       "3             1.648109e+06     18.475307     14.067140     12.017037      7\n",
       "4             1.862117e+06     30.577914     24.995790     22.307130     15\n",
       "5             1.995203e+06     52.191395     44.985343     41.421736     31\n",
       "6             2.083016e+06     92.010024     82.528727     77.745385     63\n",
       "7             2.145522e+06    166.987390    154.301516    147.804813    127\n",
       "8             2.193572e+06    310.457388    293.247835    284.335908    255\n",
       "9             2.231650e+06    588.297794    564.696133    552.373933    511\n",
       "10            2.263570e+06   1131.158739   1098.520782   1081.379444   1023\n",
       "11            2.288890e+06   2198.784497   2153.369631   2129.415591   2047\n",
       "12            2.311583e+06   4308.467866   4244.985308   4211.398462   4095\n",
       "13            2.333340e+06   8491.692343   8402.659295   8355.450875   8191\n",
       "14            2.354937e+06  16807.040058  16681.873910  16615.402568  16383\n",
       "15            2.376506e+06  33365.475611  33189.210063  33095.497464  32767"
      ]
     },
     "execution_count": 10,
     "metadata": {},
     "output_type": "execute_result"
    }
   ],
   "source": [
    "btc_multi_tester = MultiTester(asset='BTCUSDT',symbols=symbols,overlapping=False)\n",
    "btc_multi_tester.test_by_block_size(test='Entropy Bias',\n",
    "                                    max_block_size=15,\n",
    "                                    year=2024,\n",
    "                                    month=11,\n",
    "                                    aggregation_level=50)"
   ]
  },
  {
   "cell_type": "code",
   "execution_count": 11,
   "id": "25f60b48",
   "metadata": {},
   "outputs": [
    {
     "data": {
      "text/html": [
       "<div>\n",
       "<style scoped>\n",
       "    .dataframe tbody tr th:only-of-type {\n",
       "        vertical-align: middle;\n",
       "    }\n",
       "\n",
       "    .dataframe tbody tr th {\n",
       "        vertical-align: top;\n",
       "    }\n",
       "\n",
       "    .dataframe thead th {\n",
       "        text-align: right;\n",
       "    }\n",
       "</style>\n",
       "<table border=\"1\" class=\"dataframe\">\n",
       "  <thead>\n",
       "    <tr style=\"text-align: right;\">\n",
       "      <th></th>\n",
       "      <th>Test statistic</th>\n",
       "      <th>Quantile 90</th>\n",
       "      <th>Quantile 95</th>\n",
       "      <th>Quantile 99</th>\n",
       "      <th>Mean</th>\n",
       "    </tr>\n",
       "    <tr>\n",
       "      <th>Aggregation level</th>\n",
       "      <th></th>\n",
       "      <th></th>\n",
       "      <th></th>\n",
       "      <th></th>\n",
       "      <th></th>\n",
       "    </tr>\n",
       "  </thead>\n",
       "  <tbody>\n",
       "    <tr>\n",
       "      <th>1</th>\n",
       "      <td>7.575690e+06</td>\n",
       "      <td>2.705543</td>\n",
       "      <td>3.841459</td>\n",
       "      <td>6.634897</td>\n",
       "      <td>1</td>\n",
       "    </tr>\n",
       "    <tr>\n",
       "      <th>2</th>\n",
       "      <td>7.575690e+06</td>\n",
       "      <td>2.705543</td>\n",
       "      <td>3.841459</td>\n",
       "      <td>6.634897</td>\n",
       "      <td>1</td>\n",
       "    </tr>\n",
       "    <tr>\n",
       "      <th>3</th>\n",
       "      <td>7.575690e+06</td>\n",
       "      <td>2.705543</td>\n",
       "      <td>3.841459</td>\n",
       "      <td>6.634897</td>\n",
       "      <td>1</td>\n",
       "    </tr>\n",
       "    <tr>\n",
       "      <th>4</th>\n",
       "      <td>7.575690e+06</td>\n",
       "      <td>2.705543</td>\n",
       "      <td>3.841459</td>\n",
       "      <td>6.634897</td>\n",
       "      <td>1</td>\n",
       "    </tr>\n",
       "    <tr>\n",
       "      <th>5</th>\n",
       "      <td>7.575690e+06</td>\n",
       "      <td>2.705543</td>\n",
       "      <td>3.841459</td>\n",
       "      <td>6.634897</td>\n",
       "      <td>1</td>\n",
       "    </tr>\n",
       "    <tr>\n",
       "      <th>6</th>\n",
       "      <td>7.575690e+06</td>\n",
       "      <td>2.705543</td>\n",
       "      <td>3.841459</td>\n",
       "      <td>6.634897</td>\n",
       "      <td>1</td>\n",
       "    </tr>\n",
       "    <tr>\n",
       "      <th>7</th>\n",
       "      <td>7.575690e+06</td>\n",
       "      <td>2.705543</td>\n",
       "      <td>3.841459</td>\n",
       "      <td>6.634897</td>\n",
       "      <td>1</td>\n",
       "    </tr>\n",
       "    <tr>\n",
       "      <th>8</th>\n",
       "      <td>7.575690e+06</td>\n",
       "      <td>2.705543</td>\n",
       "      <td>3.841459</td>\n",
       "      <td>6.634897</td>\n",
       "      <td>1</td>\n",
       "    </tr>\n",
       "    <tr>\n",
       "      <th>9</th>\n",
       "      <td>7.575690e+06</td>\n",
       "      <td>2.705543</td>\n",
       "      <td>3.841459</td>\n",
       "      <td>6.634897</td>\n",
       "      <td>1</td>\n",
       "    </tr>\n",
       "    <tr>\n",
       "      <th>10</th>\n",
       "      <td>7.575690e+06</td>\n",
       "      <td>2.705543</td>\n",
       "      <td>3.841459</td>\n",
       "      <td>6.634897</td>\n",
       "      <td>1</td>\n",
       "    </tr>\n",
       "    <tr>\n",
       "      <th>11</th>\n",
       "      <td>7.575690e+06</td>\n",
       "      <td>2.705543</td>\n",
       "      <td>3.841459</td>\n",
       "      <td>6.634897</td>\n",
       "      <td>1</td>\n",
       "    </tr>\n",
       "    <tr>\n",
       "      <th>12</th>\n",
       "      <td>7.575690e+06</td>\n",
       "      <td>2.705543</td>\n",
       "      <td>3.841459</td>\n",
       "      <td>6.634897</td>\n",
       "      <td>1</td>\n",
       "    </tr>\n",
       "    <tr>\n",
       "      <th>13</th>\n",
       "      <td>7.575690e+06</td>\n",
       "      <td>2.705543</td>\n",
       "      <td>3.841459</td>\n",
       "      <td>6.634897</td>\n",
       "      <td>1</td>\n",
       "    </tr>\n",
       "    <tr>\n",
       "      <th>14</th>\n",
       "      <td>7.575690e+06</td>\n",
       "      <td>2.705543</td>\n",
       "      <td>3.841459</td>\n",
       "      <td>6.634897</td>\n",
       "      <td>1</td>\n",
       "    </tr>\n",
       "    <tr>\n",
       "      <th>15</th>\n",
       "      <td>7.575690e+06</td>\n",
       "      <td>2.705543</td>\n",
       "      <td>3.841459</td>\n",
       "      <td>6.634897</td>\n",
       "      <td>1</td>\n",
       "    </tr>\n",
       "    <tr>\n",
       "      <th>16</th>\n",
       "      <td>7.575690e+06</td>\n",
       "      <td>2.705543</td>\n",
       "      <td>3.841459</td>\n",
       "      <td>6.634897</td>\n",
       "      <td>1</td>\n",
       "    </tr>\n",
       "    <tr>\n",
       "      <th>17</th>\n",
       "      <td>7.575690e+06</td>\n",
       "      <td>2.705543</td>\n",
       "      <td>3.841459</td>\n",
       "      <td>6.634897</td>\n",
       "      <td>1</td>\n",
       "    </tr>\n",
       "    <tr>\n",
       "      <th>18</th>\n",
       "      <td>7.575690e+06</td>\n",
       "      <td>2.705543</td>\n",
       "      <td>3.841459</td>\n",
       "      <td>6.634897</td>\n",
       "      <td>1</td>\n",
       "    </tr>\n",
       "    <tr>\n",
       "      <th>19</th>\n",
       "      <td>7.575690e+06</td>\n",
       "      <td>2.705543</td>\n",
       "      <td>3.841459</td>\n",
       "      <td>6.634897</td>\n",
       "      <td>1</td>\n",
       "    </tr>\n",
       "    <tr>\n",
       "      <th>20</th>\n",
       "      <td>7.575690e+06</td>\n",
       "      <td>2.705543</td>\n",
       "      <td>3.841459</td>\n",
       "      <td>6.634897</td>\n",
       "      <td>1</td>\n",
       "    </tr>\n",
       "    <tr>\n",
       "      <th>21</th>\n",
       "      <td>7.575690e+06</td>\n",
       "      <td>2.705543</td>\n",
       "      <td>3.841459</td>\n",
       "      <td>6.634897</td>\n",
       "      <td>1</td>\n",
       "    </tr>\n",
       "    <tr>\n",
       "      <th>22</th>\n",
       "      <td>7.575690e+06</td>\n",
       "      <td>2.705543</td>\n",
       "      <td>3.841459</td>\n",
       "      <td>6.634897</td>\n",
       "      <td>1</td>\n",
       "    </tr>\n",
       "    <tr>\n",
       "      <th>23</th>\n",
       "      <td>7.575690e+06</td>\n",
       "      <td>2.705543</td>\n",
       "      <td>3.841459</td>\n",
       "      <td>6.634897</td>\n",
       "      <td>1</td>\n",
       "    </tr>\n",
       "    <tr>\n",
       "      <th>24</th>\n",
       "      <td>7.575690e+06</td>\n",
       "      <td>2.705543</td>\n",
       "      <td>3.841459</td>\n",
       "      <td>6.634897</td>\n",
       "      <td>1</td>\n",
       "    </tr>\n",
       "    <tr>\n",
       "      <th>25</th>\n",
       "      <td>7.575690e+06</td>\n",
       "      <td>2.705543</td>\n",
       "      <td>3.841459</td>\n",
       "      <td>6.634897</td>\n",
       "      <td>1</td>\n",
       "    </tr>\n",
       "    <tr>\n",
       "      <th>26</th>\n",
       "      <td>7.575690e+06</td>\n",
       "      <td>2.705543</td>\n",
       "      <td>3.841459</td>\n",
       "      <td>6.634897</td>\n",
       "      <td>1</td>\n",
       "    </tr>\n",
       "    <tr>\n",
       "      <th>27</th>\n",
       "      <td>7.575690e+06</td>\n",
       "      <td>2.705543</td>\n",
       "      <td>3.841459</td>\n",
       "      <td>6.634897</td>\n",
       "      <td>1</td>\n",
       "    </tr>\n",
       "    <tr>\n",
       "      <th>28</th>\n",
       "      <td>7.575690e+06</td>\n",
       "      <td>2.705543</td>\n",
       "      <td>3.841459</td>\n",
       "      <td>6.634897</td>\n",
       "      <td>1</td>\n",
       "    </tr>\n",
       "    <tr>\n",
       "      <th>29</th>\n",
       "      <td>7.575690e+06</td>\n",
       "      <td>2.705543</td>\n",
       "      <td>3.841459</td>\n",
       "      <td>6.634897</td>\n",
       "      <td>1</td>\n",
       "    </tr>\n",
       "    <tr>\n",
       "      <th>30</th>\n",
       "      <td>7.575690e+06</td>\n",
       "      <td>2.705543</td>\n",
       "      <td>3.841459</td>\n",
       "      <td>6.634897</td>\n",
       "      <td>1</td>\n",
       "    </tr>\n",
       "    <tr>\n",
       "      <th>31</th>\n",
       "      <td>7.575690e+06</td>\n",
       "      <td>2.705543</td>\n",
       "      <td>3.841459</td>\n",
       "      <td>6.634897</td>\n",
       "      <td>1</td>\n",
       "    </tr>\n",
       "    <tr>\n",
       "      <th>32</th>\n",
       "      <td>7.575690e+06</td>\n",
       "      <td>2.705543</td>\n",
       "      <td>3.841459</td>\n",
       "      <td>6.634897</td>\n",
       "      <td>1</td>\n",
       "    </tr>\n",
       "    <tr>\n",
       "      <th>33</th>\n",
       "      <td>7.575690e+06</td>\n",
       "      <td>2.705543</td>\n",
       "      <td>3.841459</td>\n",
       "      <td>6.634897</td>\n",
       "      <td>1</td>\n",
       "    </tr>\n",
       "    <tr>\n",
       "      <th>34</th>\n",
       "      <td>7.575690e+06</td>\n",
       "      <td>2.705543</td>\n",
       "      <td>3.841459</td>\n",
       "      <td>6.634897</td>\n",
       "      <td>1</td>\n",
       "    </tr>\n",
       "    <tr>\n",
       "      <th>35</th>\n",
       "      <td>7.575690e+06</td>\n",
       "      <td>2.705543</td>\n",
       "      <td>3.841459</td>\n",
       "      <td>6.634897</td>\n",
       "      <td>1</td>\n",
       "    </tr>\n",
       "    <tr>\n",
       "      <th>36</th>\n",
       "      <td>7.575690e+06</td>\n",
       "      <td>2.705543</td>\n",
       "      <td>3.841459</td>\n",
       "      <td>6.634897</td>\n",
       "      <td>1</td>\n",
       "    </tr>\n",
       "    <tr>\n",
       "      <th>37</th>\n",
       "      <td>7.575690e+06</td>\n",
       "      <td>2.705543</td>\n",
       "      <td>3.841459</td>\n",
       "      <td>6.634897</td>\n",
       "      <td>1</td>\n",
       "    </tr>\n",
       "    <tr>\n",
       "      <th>38</th>\n",
       "      <td>7.575690e+06</td>\n",
       "      <td>2.705543</td>\n",
       "      <td>3.841459</td>\n",
       "      <td>6.634897</td>\n",
       "      <td>1</td>\n",
       "    </tr>\n",
       "    <tr>\n",
       "      <th>39</th>\n",
       "      <td>7.575690e+06</td>\n",
       "      <td>2.705543</td>\n",
       "      <td>3.841459</td>\n",
       "      <td>6.634897</td>\n",
       "      <td>1</td>\n",
       "    </tr>\n",
       "    <tr>\n",
       "      <th>40</th>\n",
       "      <td>7.575690e+06</td>\n",
       "      <td>2.705543</td>\n",
       "      <td>3.841459</td>\n",
       "      <td>6.634897</td>\n",
       "      <td>1</td>\n",
       "    </tr>\n",
       "    <tr>\n",
       "      <th>41</th>\n",
       "      <td>7.575690e+06</td>\n",
       "      <td>2.705543</td>\n",
       "      <td>3.841459</td>\n",
       "      <td>6.634897</td>\n",
       "      <td>1</td>\n",
       "    </tr>\n",
       "    <tr>\n",
       "      <th>42</th>\n",
       "      <td>7.575690e+06</td>\n",
       "      <td>2.705543</td>\n",
       "      <td>3.841459</td>\n",
       "      <td>6.634897</td>\n",
       "      <td>1</td>\n",
       "    </tr>\n",
       "    <tr>\n",
       "      <th>43</th>\n",
       "      <td>7.575690e+06</td>\n",
       "      <td>2.705543</td>\n",
       "      <td>3.841459</td>\n",
       "      <td>6.634897</td>\n",
       "      <td>1</td>\n",
       "    </tr>\n",
       "    <tr>\n",
       "      <th>44</th>\n",
       "      <td>7.575690e+06</td>\n",
       "      <td>2.705543</td>\n",
       "      <td>3.841459</td>\n",
       "      <td>6.634897</td>\n",
       "      <td>1</td>\n",
       "    </tr>\n",
       "    <tr>\n",
       "      <th>45</th>\n",
       "      <td>7.575690e+06</td>\n",
       "      <td>2.705543</td>\n",
       "      <td>3.841459</td>\n",
       "      <td>6.634897</td>\n",
       "      <td>1</td>\n",
       "    </tr>\n",
       "    <tr>\n",
       "      <th>46</th>\n",
       "      <td>7.575690e+06</td>\n",
       "      <td>2.705543</td>\n",
       "      <td>3.841459</td>\n",
       "      <td>6.634897</td>\n",
       "      <td>1</td>\n",
       "    </tr>\n",
       "    <tr>\n",
       "      <th>47</th>\n",
       "      <td>7.575690e+06</td>\n",
       "      <td>2.705543</td>\n",
       "      <td>3.841459</td>\n",
       "      <td>6.634897</td>\n",
       "      <td>1</td>\n",
       "    </tr>\n",
       "    <tr>\n",
       "      <th>48</th>\n",
       "      <td>7.575690e+06</td>\n",
       "      <td>2.705543</td>\n",
       "      <td>3.841459</td>\n",
       "      <td>6.634897</td>\n",
       "      <td>1</td>\n",
       "    </tr>\n",
       "    <tr>\n",
       "      <th>49</th>\n",
       "      <td>7.575690e+06</td>\n",
       "      <td>2.705543</td>\n",
       "      <td>3.841459</td>\n",
       "      <td>6.634897</td>\n",
       "      <td>1</td>\n",
       "    </tr>\n",
       "    <tr>\n",
       "      <th>50</th>\n",
       "      <td>7.575690e+06</td>\n",
       "      <td>2.705543</td>\n",
       "      <td>3.841459</td>\n",
       "      <td>6.634897</td>\n",
       "      <td>1</td>\n",
       "    </tr>\n",
       "  </tbody>\n",
       "</table>\n",
       "</div>"
      ],
      "text/plain": [
       "                   Test statistic  Quantile 90  Quantile 95  Quantile 99  Mean\n",
       "Aggregation level                                                             \n",
       "1                    7.575690e+06     2.705543     3.841459     6.634897     1\n",
       "2                    7.575690e+06     2.705543     3.841459     6.634897     1\n",
       "3                    7.575690e+06     2.705543     3.841459     6.634897     1\n",
       "4                    7.575690e+06     2.705543     3.841459     6.634897     1\n",
       "5                    7.575690e+06     2.705543     3.841459     6.634897     1\n",
       "6                    7.575690e+06     2.705543     3.841459     6.634897     1\n",
       "7                    7.575690e+06     2.705543     3.841459     6.634897     1\n",
       "8                    7.575690e+06     2.705543     3.841459     6.634897     1\n",
       "9                    7.575690e+06     2.705543     3.841459     6.634897     1\n",
       "10                   7.575690e+06     2.705543     3.841459     6.634897     1\n",
       "11                   7.575690e+06     2.705543     3.841459     6.634897     1\n",
       "12                   7.575690e+06     2.705543     3.841459     6.634897     1\n",
       "13                   7.575690e+06     2.705543     3.841459     6.634897     1\n",
       "14                   7.575690e+06     2.705543     3.841459     6.634897     1\n",
       "15                   7.575690e+06     2.705543     3.841459     6.634897     1\n",
       "16                   7.575690e+06     2.705543     3.841459     6.634897     1\n",
       "17                   7.575690e+06     2.705543     3.841459     6.634897     1\n",
       "18                   7.575690e+06     2.705543     3.841459     6.634897     1\n",
       "19                   7.575690e+06     2.705543     3.841459     6.634897     1\n",
       "20                   7.575690e+06     2.705543     3.841459     6.634897     1\n",
       "21                   7.575690e+06     2.705543     3.841459     6.634897     1\n",
       "22                   7.575690e+06     2.705543     3.841459     6.634897     1\n",
       "23                   7.575690e+06     2.705543     3.841459     6.634897     1\n",
       "24                   7.575690e+06     2.705543     3.841459     6.634897     1\n",
       "25                   7.575690e+06     2.705543     3.841459     6.634897     1\n",
       "26                   7.575690e+06     2.705543     3.841459     6.634897     1\n",
       "27                   7.575690e+06     2.705543     3.841459     6.634897     1\n",
       "28                   7.575690e+06     2.705543     3.841459     6.634897     1\n",
       "29                   7.575690e+06     2.705543     3.841459     6.634897     1\n",
       "30                   7.575690e+06     2.705543     3.841459     6.634897     1\n",
       "31                   7.575690e+06     2.705543     3.841459     6.634897     1\n",
       "32                   7.575690e+06     2.705543     3.841459     6.634897     1\n",
       "33                   7.575690e+06     2.705543     3.841459     6.634897     1\n",
       "34                   7.575690e+06     2.705543     3.841459     6.634897     1\n",
       "35                   7.575690e+06     2.705543     3.841459     6.634897     1\n",
       "36                   7.575690e+06     2.705543     3.841459     6.634897     1\n",
       "37                   7.575690e+06     2.705543     3.841459     6.634897     1\n",
       "38                   7.575690e+06     2.705543     3.841459     6.634897     1\n",
       "39                   7.575690e+06     2.705543     3.841459     6.634897     1\n",
       "40                   7.575690e+06     2.705543     3.841459     6.634897     1\n",
       "41                   7.575690e+06     2.705543     3.841459     6.634897     1\n",
       "42                   7.575690e+06     2.705543     3.841459     6.634897     1\n",
       "43                   7.575690e+06     2.705543     3.841459     6.634897     1\n",
       "44                   7.575690e+06     2.705543     3.841459     6.634897     1\n",
       "45                   7.575690e+06     2.705543     3.841459     6.634897     1\n",
       "46                   7.575690e+06     2.705543     3.841459     6.634897     1\n",
       "47                   7.575690e+06     2.705543     3.841459     6.634897     1\n",
       "48                   7.575690e+06     2.705543     3.841459     6.634897     1\n",
       "49                   7.575690e+06     2.705543     3.841459     6.634897     1\n",
       "50                   7.575690e+06     2.705543     3.841459     6.634897     1"
      ]
     },
     "execution_count": 11,
     "metadata": {},
     "output_type": "execute_result"
    }
   ],
   "source": [
    "btc_multi_tester.test_by_aggregation_level(test='KL Divergence',\n",
    "                                           max_aggregation_level=50,\n",
    "                                           year=2024,\n",
    "                                           month=11,\n",
    "                                           block_size=2)"
   ]
  },
  {
   "cell_type": "markdown",
   "id": "96c00479",
   "metadata": {},
   "source": [
    "It is also possible to perfom multiple hypothesis tests by block size and by aggregation level and see the test results in a 3D plot with the method `plot_3D_test_result()`."
   ]
  },
  {
   "cell_type": "code",
   "execution_count": 18,
   "id": "aaeab359",
   "metadata": {},
   "outputs": [],
   "source": [
    "import importlib\n",
    "import utils.MultiTester\n",
    "importlib.reload(utils.MultiTester)\n",
    "from utils.MultiTester import MultiTester"
   ]
  },
  {
   "cell_type": "code",
   "execution_count": null,
   "id": "505a9f16",
   "metadata": {},
   "outputs": [],
   "source": [
    "btc_multi_tester = MultiTester(asset='BTCUSDT',symbols=symbols,overlapping=False)\n",
    "btc_multi_tester.plot_3D_test_result(asset='BTCUSDT',\n",
    "                                     test='Entropy Bias',\n",
    "                                     max_block_size=15,\n",
    "                                     year=2024,month=11,\n",
    "                                     max_aggregation_level=50)"
   ]
  },
  {
   "cell_type": "markdown",
   "id": "f67c0e58",
   "metadata": {},
   "source": [
    "To generate articial transaction data and see the fraction of predictable days by aggregation level and by time lag, the class `DataGenerator()` has 3 methods related to 3 different models to produce those charts:\n",
    "- `lambda_model()` generate the data according to the λ-model\n",
    "- `OD_model()` generate the data according to the Order Driven model\n",
    "- `TS_model()` generate the data according to the TS model\n",
    "\n",
    "In each method, with the argument `plots`, one can specify if he wants the two charts of fraction of predictable days by aggregation level and by time lag (`plots=(True,True)`) or just one chart."
   ]
  },
  {
   "cell_type": "code",
   "execution_count": 3,
   "id": "a9fb28fb",
   "metadata": {},
   "outputs": [
    {
     "name": "stdout",
     "output_type": "stream",
     "text": [
      "Day 1/2\n"
     ]
    },
    {
     "ename": "KeyboardInterrupt",
     "evalue": "",
     "output_type": "error",
     "traceback": [
      "\u001b[1;31m---------------------------------------------------------------------------\u001b[0m",
      "\u001b[1;31mKeyboardInterrupt\u001b[0m                         Traceback (most recent call last)",
      "Cell \u001b[1;32mIn[3], line 2\u001b[0m\n\u001b[0;32m      1\u001b[0m data_gen \u001b[38;5;241m=\u001b[39m DataGenerator()\n\u001b[1;32m----> 2\u001b[0m \u001b[43mdata_gen\u001b[49m\u001b[38;5;241;43m.\u001b[39;49m\u001b[43mlambda_model\u001b[49m\u001b[43m(\u001b[49m\u001b[43mtest\u001b[49m\u001b[38;5;241;43m=\u001b[39;49m\u001b[38;5;124;43m'\u001b[39;49m\u001b[38;5;124;43mKL Divergence\u001b[39;49m\u001b[38;5;124;43m'\u001b[39;49m\u001b[43m,\u001b[49m\n\u001b[0;32m      3\u001b[0m \u001b[43m                      \u001b[49m\u001b[43moverlapping\u001b[49m\u001b[38;5;241;43m=\u001b[39;49m\u001b[38;5;28;43;01mTrue\u001b[39;49;00m\u001b[43m,\u001b[49m\n\u001b[0;32m      4\u001b[0m \u001b[43m                      \u001b[49m\u001b[43mmax_aggregation_level\u001b[49m\u001b[38;5;241;43m=\u001b[39;49m\u001b[38;5;241;43m5\u001b[39;49m\u001b[43m,\u001b[49m\n\u001b[0;32m      5\u001b[0m \u001b[43m                      \u001b[49m\u001b[43mmax_time_lag\u001b[49m\u001b[38;5;241;43m=\u001b[39;49m\u001b[38;5;241;43m5\u001b[39;49m\u001b[43m,\u001b[49m\n\u001b[0;32m      6\u001b[0m \u001b[43m                      \u001b[49m\u001b[43mn_days\u001b[49m\u001b[38;5;241;43m=\u001b[39;49m\u001b[38;5;241;43m2\u001b[39;49m\u001b[43m,\u001b[49m\n\u001b[0;32m      7\u001b[0m \u001b[43m                      \u001b[49m\u001b[43mplots\u001b[49m\u001b[38;5;241;43m=\u001b[39;49m\u001b[43m(\u001b[49m\u001b[38;5;28;43;01mFalse\u001b[39;49;00m\u001b[43m,\u001b[49m\u001b[38;5;28;43;01mTrue\u001b[39;49;00m\u001b[43m)\u001b[49m\u001b[43m)\u001b[49m\n\u001b[0;32m      8\u001b[0m data_gen\u001b[38;5;241m.\u001b[39mOD_model(test\u001b[38;5;241m=\u001b[39m\u001b[38;5;124m'\u001b[39m\u001b[38;5;124mKL Divergence\u001b[39m\u001b[38;5;124m'\u001b[39m,\n\u001b[0;32m      9\u001b[0m                   overlapping\u001b[38;5;241m=\u001b[39m\u001b[38;5;28;01mTrue\u001b[39;00m,\n\u001b[0;32m     10\u001b[0m                   max_aggregation_level\u001b[38;5;241m=\u001b[39m\u001b[38;5;241m5\u001b[39m,\n\u001b[0;32m     11\u001b[0m                   max_time_lag\u001b[38;5;241m=\u001b[39m\u001b[38;5;241m5\u001b[39m,\n\u001b[0;32m     12\u001b[0m                   n_days\u001b[38;5;241m=\u001b[39m\u001b[38;5;241m2\u001b[39m,\n\u001b[0;32m     13\u001b[0m                   plots\u001b[38;5;241m=\u001b[39m(\u001b[38;5;28;01mFalse\u001b[39;00m,\u001b[38;5;28;01mTrue\u001b[39;00m))\n\u001b[0;32m     14\u001b[0m data_gen\u001b[38;5;241m.\u001b[39mTS_model(test\u001b[38;5;241m=\u001b[39m\u001b[38;5;124m'\u001b[39m\u001b[38;5;124mKL Divergence\u001b[39m\u001b[38;5;124m'\u001b[39m,\n\u001b[0;32m     15\u001b[0m                   overlapping\u001b[38;5;241m=\u001b[39m\u001b[38;5;28;01mTrue\u001b[39;00m,\n\u001b[0;32m     16\u001b[0m                   max_aggregation_level\u001b[38;5;241m=\u001b[39m\u001b[38;5;241m10\u001b[39m,\n\u001b[0;32m     17\u001b[0m                   max_time_lag\u001b[38;5;241m=\u001b[39m\u001b[38;5;241m5\u001b[39m,\n\u001b[0;32m     18\u001b[0m                   n_days\u001b[38;5;241m=\u001b[39m\u001b[38;5;241m2\u001b[39m,\n\u001b[0;32m     19\u001b[0m                   plots\u001b[38;5;241m=\u001b[39m(\u001b[38;5;28;01mFalse\u001b[39;00m,\u001b[38;5;28;01mTrue\u001b[39;00m))\n",
      "File \u001b[1;32mc:\\Users\\rabhi\\Documents\\Master 272 IEF - Dauphine\\M2\\S2\\Gestion Quantitative 2\\Price predictability at ultra-high frequency\\data\\DataGenerator.py:59\u001b[0m, in \u001b[0;36mDataGenerator.lambda_model\u001b[1;34m(self, max_aggregation_level, max_time_lag, series_length, nb_initial_orders, n_days, alpha, prob, test, overlapping, k, plots)\u001b[0m\n\u001b[0;32m     57\u001b[0m k \u001b[38;5;241m=\u001b[39m \u001b[38;5;28mint\u001b[39m(np\u001b[38;5;241m.\u001b[39mround(np\u001b[38;5;241m.\u001b[39mlog(np\u001b[38;5;241m.\u001b[39msize(data))\u001b[38;5;241m/\u001b[39mnp\u001b[38;5;241m.\u001b[39mlog(\u001b[38;5;28mself\u001b[39m\u001b[38;5;241m.\u001b[39ms)\u001b[38;5;241m/\u001b[39m\u001b[38;5;241m2\u001b[39m)) \u001b[38;5;28;01mif\u001b[39;00m k \u001b[38;5;129;01mis\u001b[39;00m \u001b[38;5;28;01mNone\u001b[39;00m \u001b[38;5;28;01melse\u001b[39;00m k\n\u001b[0;32m     58\u001b[0m \u001b[38;5;28;01mif\u001b[39;00m overlapping:\n\u001b[1;32m---> 59\u001b[0m     blocks_df \u001b[38;5;241m=\u001b[39m pd\u001b[38;5;241m.\u001b[39mDataFrame(\u001b[43moverlapping_blocks\u001b[49m\u001b[43m(\u001b[49m\u001b[43msymbols\u001b[49m\u001b[38;5;241;43m=\u001b[39;49m\u001b[43mdata\u001b[49m\u001b[43m,\u001b[49m\u001b[43m \u001b[49m\u001b[43mblock_size\u001b[49m\u001b[38;5;241;43m=\u001b[39;49m\u001b[43mk\u001b[49m\u001b[43m)\u001b[49m)\n\u001b[0;32m     60\u001b[0m \u001b[38;5;28;01melse\u001b[39;00m:\n\u001b[0;32m     61\u001b[0m     blocks_df \u001b[38;5;241m=\u001b[39m pd\u001b[38;5;241m.\u001b[39mDataFrame(non_overlapping_blocks(symbols\u001b[38;5;241m=\u001b[39mdata, block_size\u001b[38;5;241m=\u001b[39mk))\n",
      "File \u001b[1;32mc:\\Users\\rabhi\\Documents\\Master 272 IEF - Dauphine\\M2\\S2\\Gestion Quantitative 2\\Price predictability at ultra-high frequency\\utils\\BlockConstructors.py:15\u001b[0m, in \u001b[0;36moverlapping_blocks\u001b[1;34m(symbols, block_size)\u001b[0m\n\u001b[0;32m     13\u001b[0m blocks \u001b[38;5;241m=\u001b[39m np\u001b[38;5;241m.\u001b[39marray([],dtype\u001b[38;5;241m=\u001b[39m\u001b[38;5;28mint\u001b[39m)\n\u001b[0;32m     14\u001b[0m \u001b[38;5;28;01mfor\u001b[39;00m i \u001b[38;5;129;01min\u001b[39;00m \u001b[38;5;28mrange\u001b[39m(n \u001b[38;5;241m-\u001b[39m block_size \u001b[38;5;241m+\u001b[39m \u001b[38;5;241m1\u001b[39m):\n\u001b[1;32m---> 15\u001b[0m     blocks \u001b[38;5;241m=\u001b[39m \u001b[43mnp\u001b[49m\u001b[38;5;241;43m.\u001b[39;49m\u001b[43mappend\u001b[49m\u001b[43m(\u001b[49m\u001b[43mblocks\u001b[49m\u001b[43m,\u001b[49m\u001b[43m \u001b[49m\u001b[43msymbols\u001b[49m\u001b[43m[\u001b[49m\u001b[43mi\u001b[49m\u001b[43m:\u001b[49m\u001b[43mi\u001b[49m\u001b[43m \u001b[49m\u001b[38;5;241;43m+\u001b[39;49m\u001b[43m \u001b[49m\u001b[43mblock_size\u001b[49m\u001b[43m]\u001b[49m\u001b[43m)\u001b[49m\n\u001b[0;32m     16\u001b[0m blocks \u001b[38;5;241m=\u001b[39m blocks\u001b[38;5;241m.\u001b[39mreshape(\u001b[38;5;241m-\u001b[39m\u001b[38;5;241m1\u001b[39m, block_size)\n\u001b[0;32m     17\u001b[0m \u001b[38;5;28;01mreturn\u001b[39;00m blocks\n",
      "File \u001b[1;32m~\\AppData\\Local\\Packages\\PythonSoftwareFoundation.Python.3.12_qbz5n2kfra8p0\\LocalCache\\local-packages\\Python312\\site-packages\\numpy\\lib\\function_base.py:5617\u001b[0m, in \u001b[0;36mappend\u001b[1;34m(arr, values, axis)\u001b[0m\n\u001b[0;32m   5615\u001b[0m     values \u001b[38;5;241m=\u001b[39m ravel(values)\n\u001b[0;32m   5616\u001b[0m     axis \u001b[38;5;241m=\u001b[39m arr\u001b[38;5;241m.\u001b[39mndim\u001b[38;5;241m-\u001b[39m\u001b[38;5;241m1\u001b[39m\n\u001b[1;32m-> 5617\u001b[0m \u001b[38;5;28;01mreturn\u001b[39;00m \u001b[43mconcatenate\u001b[49m\u001b[43m(\u001b[49m\u001b[43m(\u001b[49m\u001b[43marr\u001b[49m\u001b[43m,\u001b[49m\u001b[43m \u001b[49m\u001b[43mvalues\u001b[49m\u001b[43m)\u001b[49m\u001b[43m,\u001b[49m\u001b[43m \u001b[49m\u001b[43maxis\u001b[49m\u001b[38;5;241;43m=\u001b[39;49m\u001b[43maxis\u001b[49m\u001b[43m)\u001b[49m\n",
      "\u001b[1;31mKeyboardInterrupt\u001b[0m: "
     ]
    }
   ],
   "source": [
    "data_gen = DataGenerator()\n",
    "data_gen.lambda_model(test='KL Divergence',\n",
    "                      overlapping=True,\n",
    "                      max_aggregation_level=5,\n",
    "                      max_time_lag=5,\n",
    "                      n_days=2,\n",
    "                      plots=(False,True))\n",
    "data_gen.OD_model(test='KL Divergence',\n",
    "                  overlapping=True,\n",
    "                  max_aggregation_level=5,\n",
    "                  max_time_lag=5,\n",
    "                  n_days=2,\n",
    "                  plots=(False,True))\n",
    "data_gen.TS_model(test='KL Divergence',\n",
    "                  overlapping=True,\n",
    "                  max_aggregation_level=10,\n",
    "                  max_time_lag=5,\n",
    "                  n_days=2,\n",
    "                  plots=(False,True))"
   ]
  },
  {
   "cell_type": "markdown",
   "id": "ca4eb4aa",
   "metadata": {},
   "source": [
    "To observe the fraction of predictable days by aggregation level or by time lag for the data generated by the 3 models on a single chart, one can use the method `plot_all()` and specifiy in the what argument the chart wanted."
   ]
  },
  {
   "cell_type": "code",
   "execution_count": 4,
   "id": "58ace18c",
   "metadata": {},
   "outputs": [
    {
     "name": "stdout",
     "output_type": "stream",
     "text": [
      "Day 1/80\n",
      "Day 2/80\n"
     ]
    },
    {
     "ename": "KeyboardInterrupt",
     "evalue": "",
     "output_type": "error",
     "traceback": [
      "\u001b[1;31m---------------------------------------------------------------------------\u001b[0m",
      "\u001b[1;31mKeyboardInterrupt\u001b[0m                         Traceback (most recent call last)",
      "Cell \u001b[1;32mIn[4], line 1\u001b[0m\n\u001b[1;32m----> 1\u001b[0m \u001b[43mdata_gen\u001b[49m\u001b[38;5;241;43m.\u001b[39;49m\u001b[43mplot_all\u001b[49m\u001b[43m(\u001b[49m\u001b[43mwhat\u001b[49m\u001b[38;5;241;43m=\u001b[39;49m\u001b[38;5;124;43m'\u001b[39;49m\u001b[38;5;124;43maggregation level\u001b[39;49m\u001b[38;5;124;43m'\u001b[39;49m\u001b[43m)\u001b[49m\n\u001b[0;32m      2\u001b[0m data_gen\u001b[38;5;241m.\u001b[39mplot_all(what\u001b[38;5;241m=\u001b[39m\u001b[38;5;124m'\u001b[39m\u001b[38;5;124mtime lag\u001b[39m\u001b[38;5;124m'\u001b[39m)\n",
      "File \u001b[1;32mc:\\Users\\rabhi\\Documents\\Master 272 IEF - Dauphine\\M2\\S2\\Gestion Quantitative 2\\Price predictability at ultra-high frequency\\data\\DataGenerator.py:333\u001b[0m, in \u001b[0;36mDataGenerator.plot_all\u001b[1;34m(self, what, max_aggregation_level, max_time_lag)\u001b[0m\n\u001b[0;32m    331\u001b[0m all_present \u001b[38;5;241m=\u001b[39m \u001b[38;5;28mall\u001b[39m(item \u001b[38;5;129;01min\u001b[39;00m \u001b[38;5;28mself\u001b[39m\u001b[38;5;241m.\u001b[39mfreq_pred_agg \u001b[38;5;28;01mfor\u001b[39;00m item \u001b[38;5;129;01min\u001b[39;00m models)\n\u001b[0;32m    332\u001b[0m \u001b[38;5;28;01mif\u001b[39;00m \u001b[38;5;129;01mnot\u001b[39;00m(all_present):\n\u001b[1;32m--> 333\u001b[0m     \u001b[38;5;28;43mself\u001b[39;49m\u001b[38;5;241;43m.\u001b[39;49m\u001b[43mlambda_model\u001b[49m\u001b[43m(\u001b[49m\u001b[43mmax_aggregation_level\u001b[49m\u001b[38;5;241;43m=\u001b[39;49m\u001b[43mmax_aggregation_level\u001b[49m\u001b[43m,\u001b[49m\n\u001b[0;32m    334\u001b[0m \u001b[43m                      \u001b[49m\u001b[43mmax_time_lag\u001b[49m\u001b[38;5;241;43m=\u001b[39;49m\u001b[43mmax_time_lag\u001b[49m\u001b[43m,\u001b[49m\n\u001b[0;32m    335\u001b[0m \u001b[43m                      \u001b[49m\u001b[43mplots\u001b[49m\u001b[38;5;241;43m=\u001b[39;49m\u001b[43m(\u001b[49m\u001b[38;5;28;43;01mFalse\u001b[39;49;00m\u001b[43m,\u001b[49m\u001b[38;5;28;43;01mFalse\u001b[39;49;00m\u001b[43m)\u001b[49m\u001b[43m)\u001b[49m\n\u001b[0;32m    336\u001b[0m     \u001b[38;5;28mself\u001b[39m\u001b[38;5;241m.\u001b[39mOD_model(max_aggregation_level\u001b[38;5;241m=\u001b[39mmax_aggregation_level,\n\u001b[0;32m    337\u001b[0m                   max_time_lag\u001b[38;5;241m=\u001b[39mmax_time_lag,\n\u001b[0;32m    338\u001b[0m                   plots\u001b[38;5;241m=\u001b[39m(\u001b[38;5;28;01mFalse\u001b[39;00m,\u001b[38;5;28;01mFalse\u001b[39;00m))\n\u001b[0;32m    339\u001b[0m     \u001b[38;5;28mself\u001b[39m\u001b[38;5;241m.\u001b[39mTS_model(max_aggregation_level\u001b[38;5;241m=\u001b[39mmax_aggregation_level,\n\u001b[0;32m    340\u001b[0m                   max_time_lag\u001b[38;5;241m=\u001b[39mmax_time_lag,\n\u001b[0;32m    341\u001b[0m                   plots\u001b[38;5;241m=\u001b[39m(\u001b[38;5;28;01mFalse\u001b[39;00m,\u001b[38;5;28;01mFalse\u001b[39;00m))\n",
      "File \u001b[1;32mc:\\Users\\rabhi\\Documents\\Master 272 IEF - Dauphine\\M2\\S2\\Gestion Quantitative 2\\Price predictability at ultra-high frequency\\data\\DataGenerator.py:78\u001b[0m, in \u001b[0;36mDataGenerator.lambda_model\u001b[1;34m(self, max_aggregation_level, max_time_lag, series_length, nb_initial_orders, n_days, alpha, prob, test, overlapping, k, plots)\u001b[0m\n\u001b[0;32m     76\u001b[0m     result \u001b[38;5;241m=\u001b[39m analysis\u001b[38;5;241m.\u001b[39mentropy_bias_test()\n\u001b[0;32m     77\u001b[0m \u001b[38;5;28;01melif\u001b[39;00m test \u001b[38;5;241m==\u001b[39m \u001b[38;5;124m'\u001b[39m\u001b[38;5;124mKL Divergence\u001b[39m\u001b[38;5;124m'\u001b[39m:\n\u001b[1;32m---> 78\u001b[0m     result \u001b[38;5;241m=\u001b[39m \u001b[43manalysis\u001b[49m\u001b[38;5;241;43m.\u001b[39;49m\u001b[43mKL_divergence_test\u001b[49m\u001b[43m(\u001b[49m\u001b[43m)\u001b[49m\n\u001b[0;32m     79\u001b[0m \u001b[38;5;28;01melse\u001b[39;00m:\n\u001b[0;32m     80\u001b[0m     \u001b[38;5;28;01mraise\u001b[39;00m \u001b[38;5;167;01mValueError\u001b[39;00m(\u001b[38;5;124m\"\u001b[39m\u001b[38;5;124mTest not implemented\u001b[39m\u001b[38;5;124m\"\u001b[39m)\n",
      "File \u001b[1;32mc:\\Users\\rabhi\\Documents\\Master 272 IEF - Dauphine\\M2\\S2\\Gestion Quantitative 2\\Price predictability at ultra-high frequency\\main\\RandomnessAnalysis.py:104\u001b[0m, in \u001b[0;36mRandomnessAnalysis.KL_divergence_test\u001b[1;34m(self, m)\u001b[0m\n\u001b[0;32m    102\u001b[0m \u001b[38;5;28;01mdef\u001b[39;00m \u001b[38;5;21mKL_divergence_test\u001b[39m(\u001b[38;5;28mself\u001b[39m,m\u001b[38;5;241m=\u001b[39m\u001b[38;5;241m1\u001b[39m):\n\u001b[1;32m--> 104\u001b[0m     D \u001b[38;5;241m=\u001b[39m \u001b[38;5;28;43mself\u001b[39;49m\u001b[38;5;241;43m.\u001b[39;49m\u001b[43mKL_divergence\u001b[49m\u001b[43m(\u001b[49m\u001b[43m)\u001b[49m\n\u001b[0;32m    105\u001b[0m     df \u001b[38;5;241m=\u001b[39m (\u001b[38;5;28mself\u001b[39m\u001b[38;5;241m.\u001b[39ms\u001b[38;5;241m*\u001b[39m\u001b[38;5;241m*\u001b[39m(\u001b[38;5;28mself\u001b[39m\u001b[38;5;241m.\u001b[39mk\u001b[38;5;241m-\u001b[39m\u001b[38;5;241m1\u001b[39m) \u001b[38;5;241m-\u001b[39m \u001b[38;5;241m1\u001b[39m) \u001b[38;5;241m*\u001b[39m (\u001b[38;5;28mself\u001b[39m\u001b[38;5;241m.\u001b[39ms \u001b[38;5;241m-\u001b[39m \u001b[38;5;241m1\u001b[39m)\n\u001b[0;32m    107\u001b[0m     alpha_90 \u001b[38;5;241m=\u001b[39m \u001b[38;5;241m1\u001b[39m \u001b[38;5;241m-\u001b[39m (\u001b[38;5;241m1\u001b[39m \u001b[38;5;241m-\u001b[39m \u001b[38;5;241m0.1\u001b[39m) \u001b[38;5;241m*\u001b[39m\u001b[38;5;241m*\u001b[39m (\u001b[38;5;241m1\u001b[39m \u001b[38;5;241m/\u001b[39m m)\n",
      "File \u001b[1;32mc:\\Users\\rabhi\\Documents\\Master 272 IEF - Dauphine\\M2\\S2\\Gestion Quantitative 2\\Price predictability at ultra-high frequency\\main\\RandomnessAnalysis.py:87\u001b[0m, in \u001b[0;36mRandomnessAnalysis.KL_divergence\u001b[1;34m(self)\u001b[0m\n\u001b[0;32m     84\u001b[0m f_dot_j \u001b[38;5;241m=\u001b[39m Counter()\n\u001b[0;32m     86\u001b[0m \u001b[38;5;28;01mfor\u001b[39;00m i \u001b[38;5;129;01min\u001b[39;00m \u001b[38;5;28mrange\u001b[39m(\u001b[38;5;28mself\u001b[39m\u001b[38;5;241m.\u001b[39mn_blocks):\n\u001b[1;32m---> 87\u001b[0m     block_i \u001b[38;5;241m=\u001b[39m \u001b[38;5;28mtuple\u001b[39m(\u001b[38;5;28;43mself\u001b[39;49m\u001b[38;5;241;43m.\u001b[39;49m\u001b[43mblocks_df\u001b[49m\u001b[38;5;241;43m.\u001b[39;49m\u001b[43miloc\u001b[49m\u001b[43m[\u001b[49m\u001b[43mi\u001b[49m\u001b[43m,\u001b[49m\u001b[43m:\u001b[49m\u001b[38;5;241;43m-\u001b[39;49m\u001b[38;5;241;43m1\u001b[39;49m\u001b[43m]\u001b[49m\u001b[38;5;241;43m.\u001b[39;49m\u001b[43mvalues\u001b[49m\u001b[38;5;241;43m.\u001b[39;49m\u001b[43mflatten\u001b[49m\u001b[43m(\u001b[49m\u001b[43m)\u001b[49m)\n\u001b[0;32m     88\u001b[0m     symbol_j \u001b[38;5;241m=\u001b[39m \u001b[38;5;28mself\u001b[39m\u001b[38;5;241m.\u001b[39mblocks_df\u001b[38;5;241m.\u001b[39miloc[i, \u001b[38;5;241m-\u001b[39m\u001b[38;5;241m1\u001b[39m]\n\u001b[0;32m     89\u001b[0m     f_ij[(block_i, symbol_j)] \u001b[38;5;241m+\u001b[39m\u001b[38;5;241m=\u001b[39m \u001b[38;5;241m1\u001b[39m\n",
      "\u001b[1;31mKeyboardInterrupt\u001b[0m: "
     ]
    }
   ],
   "source": [
    "data_gen.plot_all(what='aggregation level')\n",
    "data_gen.plot_all(what='time lag')"
   ]
  },
  {
   "cell_type": "markdown",
   "id": "07c44d27",
   "metadata": {},
   "source": [
    "To study the specificities of efficient and inefficent day for a given pair, month, year and aggragation level, one can use the class `PredictableDayAnalysis` and create an instance of it with the name of the pair and the data_manager instance related to the pair. Then one can execute the methode `analyze_days()` with the `pd.Dataframe` of the blocks associated with the pair."
   ]
  },
  {
   "cell_type": "code",
   "execution_count": null,
   "id": "32147c06",
   "metadata": {},
   "outputs": [],
   "source": [
    "analysis = PredictableDayAnalysis(pair=\"BTCUSDT\",data_manager=data_manager)\n",
    "analysis.analyze_days(blocks_btc)"
   ]
  },
  {
   "cell_type": "markdown",
   "id": "eb862afc",
   "metadata": {},
   "source": [
    "To get the properties of a given set of pairs and for a given day or month, one can use you the function `get_asset_properties()` with the following inputs:\n",
    "- the list of pairs ;\n",
    "- the cardinal of the chosen alphabet ;\n",
    "- the year, the month and eventually the day.\n",
    "\n",
    "Of course, one must have already instantiated a data manager first for the given pairs (or at least have their preprocessed data in the corresponding folder)."
   ]
  },
  {
   "cell_type": "code",
   "execution_count": 5,
   "id": "fb20e005",
   "metadata": {},
   "outputs": [],
   "source": [
    "data_manager = DataManager(asset_pairs, symbols, year=2024, month=11, day=5, aggregation_level=1)"
   ]
  },
  {
   "cell_type": "code",
   "execution_count": 6,
   "id": "093358bc",
   "metadata": {},
   "outputs": [],
   "source": [
    "df_prop = get_assets_properties(asset_pairs, s=2, year=2024, month=11, day=5)"
   ]
  },
  {
   "cell_type": "code",
   "execution_count": 8,
   "id": "f0150a56",
   "metadata": {},
   "outputs": [
    {
     "data": {
      "text/html": [
       "<div>\n",
       "<style scoped>\n",
       "    .dataframe tbody tr th:only-of-type {\n",
       "        vertical-align: middle;\n",
       "    }\n",
       "\n",
       "    .dataframe tbody tr th {\n",
       "        vertical-align: top;\n",
       "    }\n",
       "\n",
       "    .dataframe thead th {\n",
       "        text-align: right;\n",
       "    }\n",
       "</style>\n",
       "<table border=\"1\" class=\"dataframe\">\n",
       "  <thead>\n",
       "    <tr style=\"text-align: right;\">\n",
       "      <th></th>\n",
       "      <th>Mean price</th>\n",
       "      <th>Price standard deviation</th>\n",
       "      <th>Mean return</th>\n",
       "      <th>Return standard deviation</th>\n",
       "      <th>Volume</th>\n",
       "      <th>Mean volume</th>\n",
       "      <th>Standard deviation of volume</th>\n",
       "      <th>Daily number of transactions</th>\n",
       "    </tr>\n",
       "  </thead>\n",
       "  <tbody>\n",
       "    <tr>\n",
       "      <th>BTCUSDT</th>\n",
       "      <td>69227.471775</td>\n",
       "      <td>720.381637</td>\n",
       "      <td>2.402404e-08</td>\n",
       "      <td>0.000019</td>\n",
       "      <td>1.033908e+04</td>\n",
       "      <td>0.011197</td>\n",
       "      <td>0.074842</td>\n",
       "      <td>923406.0</td>\n",
       "    </tr>\n",
       "    <tr>\n",
       "      <th>ETHUSDT</th>\n",
       "      <td>2435.963466</td>\n",
       "      <td>20.563697</td>\n",
       "      <td>1.912779e-08</td>\n",
       "      <td>0.000031</td>\n",
       "      <td>8.362522e+04</td>\n",
       "      <td>0.158403</td>\n",
       "      <td>0.722906</td>\n",
       "      <td>527927.0</td>\n",
       "    </tr>\n",
       "    <tr>\n",
       "      <th>BNBUSDT</th>\n",
       "      <td>562.771773</td>\n",
       "      <td>4.988655</td>\n",
       "      <td>1.737900e-07</td>\n",
       "      <td>0.000042</td>\n",
       "      <td>5.640972e+04</td>\n",
       "      <td>0.511101</td>\n",
       "      <td>2.575696</td>\n",
       "      <td>110369.0</td>\n",
       "    </tr>\n",
       "    <tr>\n",
       "      <th>XRPUSDT</th>\n",
       "      <td>0.510427</td>\n",
       "      <td>0.003333</td>\n",
       "      <td>7.873785e-07</td>\n",
       "      <td>0.000198</td>\n",
       "      <td>2.480665e+07</td>\n",
       "      <td>946.349254</td>\n",
       "      <td>3404.033293</td>\n",
       "      <td>26213.0</td>\n",
       "    </tr>\n",
       "  </tbody>\n",
       "</table>\n",
       "</div>"
      ],
      "text/plain": [
       "           Mean price  Price standard deviation   Mean return  \\\n",
       "BTCUSDT  69227.471775                720.381637  2.402404e-08   \n",
       "ETHUSDT   2435.963466                 20.563697  1.912779e-08   \n",
       "BNBUSDT    562.771773                  4.988655  1.737900e-07   \n",
       "XRPUSDT      0.510427                  0.003333  7.873785e-07   \n",
       "\n",
       "         Return standard deviation        Volume  Mean volume  \\\n",
       "BTCUSDT                   0.000019  1.033908e+04     0.011197   \n",
       "ETHUSDT                   0.000031  8.362522e+04     0.158403   \n",
       "BNBUSDT                   0.000042  5.640972e+04     0.511101   \n",
       "XRPUSDT                   0.000198  2.480665e+07   946.349254   \n",
       "\n",
       "         Standard deviation of volume  Daily number of transactions  \n",
       "BTCUSDT                      0.074842                      923406.0  \n",
       "ETHUSDT                      0.722906                      527927.0  \n",
       "BNBUSDT                      2.575696                      110369.0  \n",
       "XRPUSDT                   3404.033293                       26213.0  "
      ]
     },
     "execution_count": 8,
     "metadata": {},
     "output_type": "execute_result"
    }
   ],
   "source": [
    "df_prop"
   ]
  },
  {
   "cell_type": "code",
   "execution_count": 5,
   "id": "9e25d798",
   "metadata": {},
   "outputs": [],
   "source": [
    "data_manager = DataManager(asset_pairs, symbols, year=2024, month=11, day=5, aggregation_level=5)"
   ]
  },
  {
   "cell_type": "code",
   "execution_count": 9,
   "id": "819a8606",
   "metadata": {},
   "outputs": [],
   "source": [
    "import importlib\n",
    "import utils.Analysis\n",
    "importlib.reload(utils.Analysis)\n",
    "from utils.Analysis import localization_predictable_intervals"
   ]
  },
  {
   "cell_type": "code",
   "execution_count": 12,
   "id": "0006a3fb",
   "metadata": {},
   "outputs": [
    {
     "data": {
      "text/html": [
       "<div>\n",
       "<style scoped>\n",
       "    .dataframe tbody tr th:only-of-type {\n",
       "        vertical-align: middle;\n",
       "    }\n",
       "\n",
       "    .dataframe tbody tr th {\n",
       "        vertical-align: top;\n",
       "    }\n",
       "\n",
       "    .dataframe thead th {\n",
       "        text-align: right;\n",
       "    }\n",
       "</style>\n",
       "<table border=\"1\" class=\"dataframe\">\n",
       "  <thead>\n",
       "    <tr style=\"text-align: right;\">\n",
       "      <th></th>\n",
       "      <th>Timestamp Start</th>\n",
       "      <th>Timestamp End</th>\n",
       "      <th>Test Stat</th>\n",
       "      <th>Quantile 99%</th>\n",
       "      <th>P-value</th>\n",
       "      <th>Hypothesis</th>\n",
       "    </tr>\n",
       "    <tr>\n",
       "      <th>Rank</th>\n",
       "      <th></th>\n",
       "      <th></th>\n",
       "      <th></th>\n",
       "      <th></th>\n",
       "      <th></th>\n",
       "      <th></th>\n",
       "    </tr>\n",
       "  </thead>\n",
       "  <tbody>\n",
       "    <tr>\n",
       "      <th>1</th>\n",
       "      <td>2024-11-05 01:07:19.539</td>\n",
       "      <td>2024-11-05 01:08:35.880000</td>\n",
       "      <td>765.099422</td>\n",
       "      <td>362.956911</td>\n",
       "      <td>0.0</td>\n",
       "      <td>True</td>\n",
       "    </tr>\n",
       "    <tr>\n",
       "      <th>2</th>\n",
       "      <td>2024-11-05 15:12:38.976</td>\n",
       "      <td>2024-11-05 15:13:05.003000</td>\n",
       "      <td>763.348155</td>\n",
       "      <td>362.956911</td>\n",
       "      <td>0.0</td>\n",
       "      <td>True</td>\n",
       "    </tr>\n",
       "    <tr>\n",
       "      <th>3</th>\n",
       "      <td>2024-11-05 08:43:59.902</td>\n",
       "      <td>2024-11-05 08:45:36.364000</td>\n",
       "      <td>755.555759</td>\n",
       "      <td>362.956911</td>\n",
       "      <td>0.0</td>\n",
       "      <td>True</td>\n",
       "    </tr>\n",
       "    <tr>\n",
       "      <th>4</th>\n",
       "      <td>2024-11-05 15:14:57.148</td>\n",
       "      <td>2024-11-05 15:15:25.603000</td>\n",
       "      <td>742.731022</td>\n",
       "      <td>362.956911</td>\n",
       "      <td>0.0</td>\n",
       "      <td>True</td>\n",
       "    </tr>\n",
       "    <tr>\n",
       "      <th>5</th>\n",
       "      <td>2024-11-05 15:49:40.196</td>\n",
       "      <td>2024-11-05 15:50:35.508000</td>\n",
       "      <td>741.195695</td>\n",
       "      <td>362.956911</td>\n",
       "      <td>0.0</td>\n",
       "      <td>True</td>\n",
       "    </tr>\n",
       "    <tr>\n",
       "      <th>6</th>\n",
       "      <td>2024-11-05 14:03:38.931</td>\n",
       "      <td>2024-11-05 14:05:26.077000</td>\n",
       "      <td>740.881631</td>\n",
       "      <td>362.956911</td>\n",
       "      <td>0.0</td>\n",
       "      <td>True</td>\n",
       "    </tr>\n",
       "    <tr>\n",
       "      <th>7</th>\n",
       "      <td>2024-11-05 02:03:36.286</td>\n",
       "      <td>2024-11-05 02:04:49.218000</td>\n",
       "      <td>736.230903</td>\n",
       "      <td>362.956911</td>\n",
       "      <td>0.0</td>\n",
       "      <td>True</td>\n",
       "    </tr>\n",
       "    <tr>\n",
       "      <th>8</th>\n",
       "      <td>2024-11-05 10:18:20.865</td>\n",
       "      <td>2024-11-05 10:21:21.811000</td>\n",
       "      <td>731.954847</td>\n",
       "      <td>362.956911</td>\n",
       "      <td>0.0</td>\n",
       "      <td>True</td>\n",
       "    </tr>\n",
       "    <tr>\n",
       "      <th>9</th>\n",
       "      <td>2024-11-05 11:23:33.880</td>\n",
       "      <td>2024-11-05 11:25:55.515000</td>\n",
       "      <td>731.082091</td>\n",
       "      <td>362.956911</td>\n",
       "      <td>0.0</td>\n",
       "      <td>True</td>\n",
       "    </tr>\n",
       "    <tr>\n",
       "      <th>10</th>\n",
       "      <td>2024-11-05 16:45:59.939</td>\n",
       "      <td>2024-11-05 16:46:19.265000</td>\n",
       "      <td>731.051935</td>\n",
       "      <td>362.956911</td>\n",
       "      <td>0.0</td>\n",
       "      <td>True</td>\n",
       "    </tr>\n",
       "  </tbody>\n",
       "</table>\n",
       "</div>"
      ],
      "text/plain": [
       "             Timestamp Start               Timestamp End   Test Stat  \\\n",
       "Rank                                                                   \n",
       "1    2024-11-05 01:07:19.539  2024-11-05 01:08:35.880000  765.099422   \n",
       "2    2024-11-05 15:12:38.976  2024-11-05 15:13:05.003000  763.348155   \n",
       "3    2024-11-05 08:43:59.902  2024-11-05 08:45:36.364000  755.555759   \n",
       "4    2024-11-05 15:14:57.148  2024-11-05 15:15:25.603000  742.731022   \n",
       "5    2024-11-05 15:49:40.196  2024-11-05 15:50:35.508000  741.195695   \n",
       "6    2024-11-05 14:03:38.931  2024-11-05 14:05:26.077000  740.881631   \n",
       "7    2024-11-05 02:03:36.286  2024-11-05 02:04:49.218000  736.230903   \n",
       "8    2024-11-05 10:18:20.865  2024-11-05 10:21:21.811000  731.954847   \n",
       "9    2024-11-05 11:23:33.880  2024-11-05 11:25:55.515000  731.082091   \n",
       "10   2024-11-05 16:45:59.939  2024-11-05 16:46:19.265000  731.051935   \n",
       "\n",
       "     Quantile 99% P-value Hypothesis  \n",
       "Rank                                  \n",
       "1      362.956911     0.0       True  \n",
       "2      362.956911     0.0       True  \n",
       "3      362.956911     0.0       True  \n",
       "4      362.956911     0.0       True  \n",
       "5      362.956911     0.0       True  \n",
       "6      362.956911     0.0       True  \n",
       "7      362.956911     0.0       True  \n",
       "8      362.956911     0.0       True  \n",
       "9      362.956911     0.0       True  \n",
       "10     362.956911     0.0       True  "
      ]
     },
     "execution_count": 12,
     "metadata": {},
     "output_type": "execute_result"
    }
   ],
   "source": [
    "df = localization_predictable_intervals(data_manager, \"BTCUSDT\", test='KL Divergence')\n",
    "df.head(10)"
   ]
  },
  {
   "cell_type": "code",
   "execution_count": null,
   "id": "5f2d4010",
   "metadata": {},
   "outputs": [
    {
     "name": "stdout",
     "output_type": "stream",
     "text": [
      "[SYSTEM] Processing 2024-8 with aggregation level 1...\n",
      "[SYSTEM] Processing BTCUSDT...\n",
      "[SYSTEM] Data already available for BTCUSDT (BTCUSDT-trades-2024-08.csv)\n",
      "[SYSTEM] Processing ETHUSDT...\n",
      "[SYSTEM] Data already available for ETHUSDT (ETHUSDT-trades-2024-08.csv)\n",
      "[SYSTEM] Processing SOLUSDT...\n",
      "[SYSTEM] Data already available for SOLUSDT (SOLUSDT-trades-2024-08.csv)\n",
      "[SYSTEM] Processing BNBUSDT...\n",
      "[SYSTEM] Data already available for BNBUSDT (BNBUSDT-trades-2024-08.csv)\n",
      "[SYSTEM] Processing AVAXUSDT...\n",
      "[SYSTEM] Data already available for AVAXUSDT (AVAXUSDT-trades-2024-08.csv)\n",
      "[SYSTEM] Processing UNIUSDT...\n",
      "[SYSTEM] Data already available for UNIUSDT (UNIUSDT-trades-2024-08.csv)\n",
      "[SYSTEM] Processing LINKUSDT...\n",
      "[SYSTEM] Data already available for LINKUSDT (LINKUSDT-trades-2024-08.csv)\n",
      "[SYSTEM] Processing AXSUSDT...\n",
      "[SYSTEM] Data already available for AXSUSDT (AXSUSDT-trades-2024-08.csv)\n",
      "[SYSTEM] Processing RENDERUSDT...\n",
      "[SYSTEM] Data already available for RENDERUSDT (RENDERUSDT-trades-2024-08.csv)\n"
     ]
    },
    {
     "ename": "KeyboardInterrupt",
     "evalue": "",
     "output_type": "error",
     "traceback": [
      "\u001b[1;31m---------------------------------------------------------------------------\u001b[0m",
      "\u001b[1;31mKeyboardInterrupt\u001b[0m                         Traceback (most recent call last)",
      "Cell \u001b[1;32mIn[5], line 1\u001b[0m\n\u001b[1;32m----> 1\u001b[0m \u001b[43mintervals_analysis\u001b[49m\u001b[43m(\u001b[49m\u001b[43mpairs\u001b[49m\u001b[38;5;241;43m=\u001b[39;49m\u001b[43masset_pairs\u001b[49m\u001b[43m,\u001b[49m\n\u001b[0;32m      2\u001b[0m \u001b[43m                   \u001b[49m\u001b[43msymbols\u001b[49m\u001b[38;5;241;43m=\u001b[39;49m\u001b[43msymbols\u001b[49m\u001b[43m,\u001b[49m\n\u001b[0;32m      3\u001b[0m \u001b[43m                   \u001b[49m\u001b[43mmax_aggregation_level\u001b[49m\u001b[38;5;241;43m=\u001b[39;49m\u001b[38;5;241;43m5\u001b[39;49m\u001b[43m,\u001b[49m\n\u001b[0;32m      4\u001b[0m \u001b[43m                   \u001b[49m\u001b[43myear\u001b[49m\u001b[38;5;241;43m=\u001b[39;49m\u001b[38;5;241;43m2024\u001b[39;49m\u001b[43m,\u001b[49m\n\u001b[0;32m      5\u001b[0m \u001b[43m                   \u001b[49m\u001b[43mmonth\u001b[49m\u001b[38;5;241;43m=\u001b[39;49m\u001b[43m[\u001b[49m\u001b[38;5;241;43m8\u001b[39;49m\u001b[43m,\u001b[49m\u001b[38;5;241;43m9\u001b[39;49m\u001b[43m,\u001b[49m\u001b[38;5;241;43m10\u001b[39;49m\u001b[43m,\u001b[49m\u001b[38;5;241;43m11\u001b[39;49m\u001b[43m,\u001b[49m\u001b[38;5;241;43m12\u001b[39;49m\u001b[43m]\u001b[49m\u001b[43m)\u001b[49m\n",
      "File \u001b[1;32mc:\\Users\\rabhi\\Documents\\Master 272 IEF - Dauphine\\M2\\S2\\Gestion Quantitative 2\\Price predictability at ultra-high frequency\\utils\\Analysis.py:131\u001b[0m, in \u001b[0;36mintervals_analysis\u001b[1;34m(pairs, symbols, block_size, max_aggregation_level, year, month, day, test)\u001b[0m\n\u001b[0;32m    129\u001b[0m collector \u001b[38;5;241m=\u001b[39m HistoricalDataCollector(pairs, year, m, d)\n\u001b[0;32m    130\u001b[0m collector\u001b[38;5;241m.\u001b[39mcollect()\n\u001b[1;32m--> 131\u001b[0m data_manager \u001b[38;5;241m=\u001b[39m \u001b[43mDataManager\u001b[49m\u001b[43m(\u001b[49m\u001b[43mpairs\u001b[49m\u001b[43m,\u001b[49m\u001b[43m \u001b[49m\n\u001b[0;32m    132\u001b[0m \u001b[43m                        \u001b[49m\u001b[43msymbols\u001b[49m\u001b[43m,\u001b[49m\n\u001b[0;32m    133\u001b[0m \u001b[43m                        \u001b[49m\u001b[43myear\u001b[49m\u001b[38;5;241;43m=\u001b[39;49m\u001b[43myear\u001b[49m\u001b[43m,\u001b[49m\n\u001b[0;32m    134\u001b[0m \u001b[43m                        \u001b[49m\u001b[43mmonth\u001b[49m\u001b[38;5;241;43m=\u001b[39;49m\u001b[43mm\u001b[49m\u001b[43m,\u001b[49m\n\u001b[0;32m    135\u001b[0m \u001b[43m                        \u001b[49m\u001b[43mday\u001b[49m\u001b[38;5;241;43m=\u001b[39;49m\u001b[43md\u001b[49m\u001b[43m,\u001b[49m\n\u001b[0;32m    136\u001b[0m \u001b[43m                        \u001b[49m\u001b[43maggregation_level\u001b[49m\u001b[38;5;241;43m=\u001b[39;49m\u001b[43mlevel\u001b[49m\u001b[43m)\u001b[49m\n\u001b[0;32m    137\u001b[0m frac_pred \u001b[38;5;241m=\u001b[39m []\n\u001b[0;32m    138\u001b[0m \u001b[38;5;28;01mfor\u001b[39;00m pair \u001b[38;5;129;01min\u001b[39;00m pairs:\n",
      "File \u001b[1;32mc:\\Users\\rabhi\\Documents\\Master 272 IEF - Dauphine\\M2\\S2\\Gestion Quantitative 2\\Price predictability at ultra-high frequency\\data\\DataManager.py:48\u001b[0m, in \u001b[0;36mDataManager.__init__\u001b[1;34m(self, asset_pairs, symbols, year, month, day, aggregation_level, exclude_zero, aggregate_by_time)\u001b[0m\n\u001b[0;32m     46\u001b[0m \u001b[38;5;28mself\u001b[39m\u001b[38;5;241m.\u001b[39maggregate_by_time \u001b[38;5;241m=\u001b[39m aggregate_by_time\n\u001b[0;32m     47\u001b[0m \u001b[38;5;28mself\u001b[39m\u001b[38;5;241m.\u001b[39mdatasets \u001b[38;5;241m=\u001b[39m {}\n\u001b[1;32m---> 48\u001b[0m \u001b[38;5;28;43mself\u001b[39;49m\u001b[38;5;241;43m.\u001b[39;49m\u001b[43m__post_init__\u001b[49m\u001b[43m(\u001b[49m\u001b[43m)\u001b[49m\n",
      "File \u001b[1;32mc:\\Users\\rabhi\\Documents\\Master 272 IEF - Dauphine\\M2\\S2\\Gestion Quantitative 2\\Price predictability at ultra-high frequency\\data\\DataManager.py:51\u001b[0m, in \u001b[0;36mDataManager.__post_init__\u001b[1;34m(self)\u001b[0m\n\u001b[0;32m     50\u001b[0m \u001b[38;5;28;01mdef\u001b[39;00m \u001b[38;5;21m__post_init__\u001b[39m(\u001b[38;5;28mself\u001b[39m):\n\u001b[1;32m---> 51\u001b[0m     \u001b[38;5;28;43mself\u001b[39;49m\u001b[38;5;241;43m.\u001b[39;49m\u001b[43mload_data\u001b[49m\u001b[43m(\u001b[49m\u001b[43m)\u001b[49m\n\u001b[0;32m     52\u001b[0m     \u001b[38;5;28mself\u001b[39m\u001b[38;5;241m.\u001b[39mchecks \u001b[38;5;241m=\u001b[39m []\n\u001b[0;32m     53\u001b[0m     \u001b[38;5;28;01mfor\u001b[39;00m pair \u001b[38;5;129;01min\u001b[39;00m \u001b[38;5;28mself\u001b[39m\u001b[38;5;241m.\u001b[39massets_pairs:\n",
      "File \u001b[1;32mc:\\Users\\rabhi\\Documents\\Master 272 IEF - Dauphine\\M2\\S2\\Gestion Quantitative 2\\Price predictability at ultra-high frequency\\data\\DataManager.py:65\u001b[0m, in \u001b[0;36mDataManager.load_data\u001b[1;34m(self)\u001b[0m\n\u001b[0;32m     63\u001b[0m \u001b[38;5;28;01melse\u001b[39;00m:\n\u001b[0;32m     64\u001b[0m     filename \u001b[38;5;241m=\u001b[39m os\u001b[38;5;241m.\u001b[39mpath\u001b[38;5;241m.\u001b[39mjoin(RAW_DATA_FOLDER, \u001b[38;5;124mf\u001b[39m\u001b[38;5;124m\"\u001b[39m\u001b[38;5;132;01m{\u001b[39;00mpair\u001b[38;5;241m.\u001b[39mupper()\u001b[38;5;132;01m}\u001b[39;00m\u001b[38;5;124m-trades-\u001b[39m\u001b[38;5;132;01m{\u001b[39;00m\u001b[38;5;28mself\u001b[39m\u001b[38;5;241m.\u001b[39mwhen\u001b[38;5;132;01m}\u001b[39;00m\u001b[38;5;124m.csv\u001b[39m\u001b[38;5;124m\"\u001b[39m)\n\u001b[1;32m---> 65\u001b[0m     df \u001b[38;5;241m=\u001b[39m \u001b[43mpd\u001b[49m\u001b[38;5;241;43m.\u001b[39;49m\u001b[43mread_csv\u001b[49m\u001b[43m(\u001b[49m\u001b[43mfilename\u001b[49m\u001b[43m,\u001b[49m\n\u001b[0;32m     66\u001b[0m \u001b[43m                     \u001b[49m\u001b[43mheader\u001b[49m\u001b[38;5;241;43m=\u001b[39;49m\u001b[38;5;28;43;01mNone\u001b[39;49;00m\u001b[43m,\u001b[49m\u001b[43m \u001b[49m\n\u001b[0;32m     67\u001b[0m \u001b[43m                     \u001b[49m\u001b[43mnames\u001b[49m\u001b[38;5;241;43m=\u001b[39;49m\u001b[43m[\u001b[49m\u001b[38;5;124;43m\"\u001b[39;49m\u001b[38;5;124;43mtrade_id\u001b[39;49m\u001b[38;5;124;43m\"\u001b[39;49m\u001b[43m,\u001b[49m\u001b[43m \u001b[49m\u001b[38;5;124;43m\"\u001b[39;49m\u001b[38;5;124;43mprice\u001b[39;49m\u001b[38;5;124;43m\"\u001b[39;49m\u001b[43m,\u001b[49m\u001b[43m \u001b[49m\u001b[38;5;124;43m\"\u001b[39;49m\u001b[38;5;124;43mvolume\u001b[39;49m\u001b[38;5;124;43m\"\u001b[39;49m\u001b[43m,\u001b[49m\u001b[43m \u001b[49m\u001b[38;5;124;43m\"\u001b[39;49m\u001b[38;5;124;43mquote_qty\u001b[39;49m\u001b[38;5;124;43m\"\u001b[39;49m\u001b[43m,\u001b[49m\u001b[38;5;124;43m\"\u001b[39;49m\u001b[38;5;124;43mtimestamp\u001b[39;49m\u001b[38;5;124;43m\"\u001b[39;49m\u001b[43m,\u001b[49m\u001b[38;5;124;43m\"\u001b[39;49m\u001b[38;5;124;43mis_buyer_maker\u001b[39;49m\u001b[38;5;124;43m\"\u001b[39;49m\u001b[43m,\u001b[49m\u001b[38;5;124;43m\"\u001b[39;49m\u001b[38;5;124;43mis_best_match\u001b[39;49m\u001b[38;5;124;43m\"\u001b[39;49m\u001b[43m]\u001b[49m\u001b[43m)\u001b[49m\n\u001b[0;32m     68\u001b[0m df[\u001b[38;5;124m\"\u001b[39m\u001b[38;5;124mtimestamp\u001b[39m\u001b[38;5;124m\"\u001b[39m] \u001b[38;5;241m=\u001b[39m pd\u001b[38;5;241m.\u001b[39mto_numeric(df[\u001b[38;5;124m\"\u001b[39m\u001b[38;5;124mtimestamp\u001b[39m\u001b[38;5;124m\"\u001b[39m])\n\u001b[0;32m     69\u001b[0m df[\u001b[38;5;124m\"\u001b[39m\u001b[38;5;124mtimestamp\u001b[39m\u001b[38;5;124m\"\u001b[39m] \u001b[38;5;241m=\u001b[39m pd\u001b[38;5;241m.\u001b[39mto_datetime(df[\u001b[38;5;124m\"\u001b[39m\u001b[38;5;124mtimestamp\u001b[39m\u001b[38;5;124m\"\u001b[39m], unit\u001b[38;5;241m=\u001b[39m\u001b[38;5;124m'\u001b[39m\u001b[38;5;124mms\u001b[39m\u001b[38;5;124m'\u001b[39m)\n",
      "File \u001b[1;32m~\\AppData\\Local\\Packages\\PythonSoftwareFoundation.Python.3.12_qbz5n2kfra8p0\\LocalCache\\local-packages\\Python312\\site-packages\\pandas\\io\\parsers\\readers.py:948\u001b[0m, in \u001b[0;36mread_csv\u001b[1;34m(filepath_or_buffer, sep, delimiter, header, names, index_col, usecols, dtype, engine, converters, true_values, false_values, skipinitialspace, skiprows, skipfooter, nrows, na_values, keep_default_na, na_filter, verbose, skip_blank_lines, parse_dates, infer_datetime_format, keep_date_col, date_parser, date_format, dayfirst, cache_dates, iterator, chunksize, compression, thousands, decimal, lineterminator, quotechar, quoting, doublequote, escapechar, comment, encoding, encoding_errors, dialect, on_bad_lines, delim_whitespace, low_memory, memory_map, float_precision, storage_options, dtype_backend)\u001b[0m\n\u001b[0;32m    935\u001b[0m kwds_defaults \u001b[38;5;241m=\u001b[39m _refine_defaults_read(\n\u001b[0;32m    936\u001b[0m     dialect,\n\u001b[0;32m    937\u001b[0m     delimiter,\n\u001b[1;32m   (...)\u001b[0m\n\u001b[0;32m    944\u001b[0m     dtype_backend\u001b[38;5;241m=\u001b[39mdtype_backend,\n\u001b[0;32m    945\u001b[0m )\n\u001b[0;32m    946\u001b[0m kwds\u001b[38;5;241m.\u001b[39mupdate(kwds_defaults)\n\u001b[1;32m--> 948\u001b[0m \u001b[38;5;28;01mreturn\u001b[39;00m \u001b[43m_read\u001b[49m\u001b[43m(\u001b[49m\u001b[43mfilepath_or_buffer\u001b[49m\u001b[43m,\u001b[49m\u001b[43m \u001b[49m\u001b[43mkwds\u001b[49m\u001b[43m)\u001b[49m\n",
      "File \u001b[1;32m~\\AppData\\Local\\Packages\\PythonSoftwareFoundation.Python.3.12_qbz5n2kfra8p0\\LocalCache\\local-packages\\Python312\\site-packages\\pandas\\io\\parsers\\readers.py:617\u001b[0m, in \u001b[0;36m_read\u001b[1;34m(filepath_or_buffer, kwds)\u001b[0m\n\u001b[0;32m    614\u001b[0m     \u001b[38;5;28;01mreturn\u001b[39;00m parser\n\u001b[0;32m    616\u001b[0m \u001b[38;5;28;01mwith\u001b[39;00m parser:\n\u001b[1;32m--> 617\u001b[0m     \u001b[38;5;28;01mreturn\u001b[39;00m \u001b[43mparser\u001b[49m\u001b[38;5;241;43m.\u001b[39;49m\u001b[43mread\u001b[49m\u001b[43m(\u001b[49m\u001b[43mnrows\u001b[49m\u001b[43m)\u001b[49m\n",
      "File \u001b[1;32m~\\AppData\\Local\\Packages\\PythonSoftwareFoundation.Python.3.12_qbz5n2kfra8p0\\LocalCache\\local-packages\\Python312\\site-packages\\pandas\\io\\parsers\\readers.py:1748\u001b[0m, in \u001b[0;36mTextFileReader.read\u001b[1;34m(self, nrows)\u001b[0m\n\u001b[0;32m   1741\u001b[0m nrows \u001b[38;5;241m=\u001b[39m validate_integer(\u001b[38;5;124m\"\u001b[39m\u001b[38;5;124mnrows\u001b[39m\u001b[38;5;124m\"\u001b[39m, nrows)\n\u001b[0;32m   1742\u001b[0m \u001b[38;5;28;01mtry\u001b[39;00m:\n\u001b[0;32m   1743\u001b[0m     \u001b[38;5;66;03m# error: \"ParserBase\" has no attribute \"read\"\u001b[39;00m\n\u001b[0;32m   1744\u001b[0m     (\n\u001b[0;32m   1745\u001b[0m         index,\n\u001b[0;32m   1746\u001b[0m         columns,\n\u001b[0;32m   1747\u001b[0m         col_dict,\n\u001b[1;32m-> 1748\u001b[0m     ) \u001b[38;5;241m=\u001b[39m \u001b[38;5;28;43mself\u001b[39;49m\u001b[38;5;241;43m.\u001b[39;49m\u001b[43m_engine\u001b[49m\u001b[38;5;241;43m.\u001b[39;49m\u001b[43mread\u001b[49m\u001b[43m(\u001b[49m\u001b[43m  \u001b[49m\u001b[38;5;66;43;03m# type: ignore[attr-defined]\u001b[39;49;00m\n\u001b[0;32m   1749\u001b[0m \u001b[43m        \u001b[49m\u001b[43mnrows\u001b[49m\n\u001b[0;32m   1750\u001b[0m \u001b[43m    \u001b[49m\u001b[43m)\u001b[49m\n\u001b[0;32m   1751\u001b[0m \u001b[38;5;28;01mexcept\u001b[39;00m \u001b[38;5;167;01mException\u001b[39;00m:\n\u001b[0;32m   1752\u001b[0m     \u001b[38;5;28mself\u001b[39m\u001b[38;5;241m.\u001b[39mclose()\n",
      "File \u001b[1;32m~\\AppData\\Local\\Packages\\PythonSoftwareFoundation.Python.3.12_qbz5n2kfra8p0\\LocalCache\\local-packages\\Python312\\site-packages\\pandas\\io\\parsers\\c_parser_wrapper.py:234\u001b[0m, in \u001b[0;36mCParserWrapper.read\u001b[1;34m(self, nrows)\u001b[0m\n\u001b[0;32m    232\u001b[0m \u001b[38;5;28;01mtry\u001b[39;00m:\n\u001b[0;32m    233\u001b[0m     \u001b[38;5;28;01mif\u001b[39;00m \u001b[38;5;28mself\u001b[39m\u001b[38;5;241m.\u001b[39mlow_memory:\n\u001b[1;32m--> 234\u001b[0m         chunks \u001b[38;5;241m=\u001b[39m \u001b[38;5;28;43mself\u001b[39;49m\u001b[38;5;241;43m.\u001b[39;49m\u001b[43m_reader\u001b[49m\u001b[38;5;241;43m.\u001b[39;49m\u001b[43mread_low_memory\u001b[49m\u001b[43m(\u001b[49m\u001b[43mnrows\u001b[49m\u001b[43m)\u001b[49m\n\u001b[0;32m    235\u001b[0m         \u001b[38;5;66;03m# destructive to chunks\u001b[39;00m\n\u001b[0;32m    236\u001b[0m         data \u001b[38;5;241m=\u001b[39m _concatenate_chunks(chunks)\n",
      "File \u001b[1;32mparsers.pyx:843\u001b[0m, in \u001b[0;36mpandas._libs.parsers.TextReader.read_low_memory\u001b[1;34m()\u001b[0m\n",
      "File \u001b[1;32mparsers.pyx:904\u001b[0m, in \u001b[0;36mpandas._libs.parsers.TextReader._read_rows\u001b[1;34m()\u001b[0m\n",
      "File \u001b[1;32mparsers.pyx:879\u001b[0m, in \u001b[0;36mpandas._libs.parsers.TextReader._tokenize_rows\u001b[1;34m()\u001b[0m\n",
      "File \u001b[1;32mparsers.pyx:890\u001b[0m, in \u001b[0;36mpandas._libs.parsers.TextReader._check_tokenize_status\u001b[1;34m()\u001b[0m\n",
      "File \u001b[1;32mparsers.pyx:2050\u001b[0m, in \u001b[0;36mpandas._libs.parsers.raise_parser_error\u001b[1;34m()\u001b[0m\n",
      "File \u001b[1;32m<frozen codecs>:319\u001b[0m, in \u001b[0;36mdecode\u001b[1;34m(self, input, final)\u001b[0m\n",
      "\u001b[1;31mKeyboardInterrupt\u001b[0m: "
     ]
    }
   ],
   "source": [
    "intervals_analysis(pairs=asset_pairs,\n",
    "                   symbols=symbols,\n",
    "                   max_aggregation_level=50,\n",
    "                   year=2024,\n",
    "                   month=[8,9,10,11,12])"
   ]
  }
 ],
 "metadata": {
  "kernelspec": {
   "display_name": "Python 3",
   "language": "python",
   "name": "python3"
  },
  "language_info": {
   "codemirror_mode": {
    "name": "ipython",
    "version": 3
   },
   "file_extension": ".py",
   "mimetype": "text/x-python",
   "name": "python",
   "nbconvert_exporter": "python",
   "pygments_lexer": "ipython3",
   "version": "3.12.10"
  }
 },
 "nbformat": 4,
 "nbformat_minor": 5
}
