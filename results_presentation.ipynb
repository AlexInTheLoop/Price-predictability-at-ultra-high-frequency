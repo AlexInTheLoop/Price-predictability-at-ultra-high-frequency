{
 "cells": [
  {
   "cell_type": "code",
   "execution_count": 1,
   "id": "b14c54d9",
   "metadata": {},
   "outputs": [],
   "source": [
    "import numpy as np\n",
    "import pandas as pd\n",
    "import matplotlib.pyplot as plt\n",
    "from data.DataManager import DataManager\n",
    "from data.DataCollectors import HistoricalDataCollector\n",
    "from main.RandomnessAnalysis import RandomnessAnalysis\n",
    "from utils.MultiTester import MultiTester\n",
    "from utils.VisualizationTools import plot_block_frequencies"
   ]
  },
  {
   "cell_type": "code",
   "execution_count": 2,
   "id": "feefa29e",
   "metadata": {},
   "outputs": [],
   "source": [
    "asset_pairs = [\"BTCUSDT\", \"ETHUSDT\", \"BNBUSDT\", \"XRPUSDT\", \"SOLUSDT\", \"ADAUSDT\", \"DOGEUSDT\", \"DOTUSDT\",\"COMPUSDT\",\"RENDERUSDT\"]\n",
    "symbols = {\n",
    "            0: [(-np.inf, 0), (False, False)],\n",
    "            1: [(0, np.inf), (False, False)]\n",
    "        }"
   ]
  },
  {
   "cell_type": "code",
   "execution_count": 3,
   "id": "9696e80f",
   "metadata": {},
   "outputs": [
    {
     "name": "stdout",
     "output_type": "stream",
     "text": [
      "BTCUSDT\n",
      "Data already available for BTCUSDT (BTCUSDT-trades-2024-11.csv)\n",
      "ETHUSDT\n",
      "Data already available for ETHUSDT (ETHUSDT-trades-2024-11.csv)\n",
      "BNBUSDT\n",
      "Data already available for BNBUSDT (BNBUSDT-trades-2024-11.csv)\n",
      "XRPUSDT\n",
      "Data already available for XRPUSDT (XRPUSDT-trades-2024-11.csv)\n",
      "SOLUSDT\n",
      "Data already available for SOLUSDT (SOLUSDT-trades-2024-11.csv)\n",
      "ADAUSDT\n",
      "Data already available for ADAUSDT (ADAUSDT-trades-2024-11.csv)\n",
      "DOGEUSDT\n",
      "Data already available for DOGEUSDT (DOGEUSDT-trades-2024-11.csv)\n",
      "DOTUSDT\n",
      "Data already available for DOTUSDT (DOTUSDT-trades-2024-11.csv)\n",
      "COMPUSDT\n",
      "Data already available for COMPUSDT (COMPUSDT-trades-2024-11.csv)\n",
      "RENDERUSDT\n",
      "Data already available for RENDERUSDT (RENDERUSDT-trades-2024-11.csv)\n"
     ]
    }
   ],
   "source": [
    "collector = HistoricalDataCollector(pairs=asset_pairs, year=2024, month=11)\n",
    "collector.collect()"
   ]
  },
  {
   "cell_type": "code",
   "execution_count": 10,
   "id": "f94e30a6",
   "metadata": {},
   "outputs": [
    {
     "data": {
      "text/html": [
       "<div>\n",
       "<style scoped>\n",
       "    .dataframe tbody tr th:only-of-type {\n",
       "        vertical-align: middle;\n",
       "    }\n",
       "\n",
       "    .dataframe tbody tr th {\n",
       "        vertical-align: top;\n",
       "    }\n",
       "\n",
       "    .dataframe thead th {\n",
       "        text-align: right;\n",
       "    }\n",
       "</style>\n",
       "<table border=\"1\" class=\"dataframe\">\n",
       "  <thead>\n",
       "    <tr style=\"text-align: right;\">\n",
       "      <th></th>\n",
       "      <th>0</th>\n",
       "      <th>1</th>\n",
       "      <th>2</th>\n",
       "    </tr>\n",
       "  </thead>\n",
       "  <tbody>\n",
       "    <tr>\n",
       "      <th>0</th>\n",
       "      <td>0</td>\n",
       "      <td>0</td>\n",
       "      <td>0</td>\n",
       "    </tr>\n",
       "    <tr>\n",
       "      <th>1</th>\n",
       "      <td>0</td>\n",
       "      <td>0</td>\n",
       "      <td>0</td>\n",
       "    </tr>\n",
       "    <tr>\n",
       "      <th>2</th>\n",
       "      <td>0</td>\n",
       "      <td>0</td>\n",
       "      <td>0</td>\n",
       "    </tr>\n",
       "  </tbody>\n",
       "</table>\n",
       "</div>"
      ],
      "text/plain": [
       "   0  1  2\n",
       "0  0  0  0\n",
       "1  0  0  0\n",
       "2  0  0  0"
      ]
     },
     "execution_count": 10,
     "metadata": {},
     "output_type": "execute_result"
    }
   ],
   "source": [
    "data_manager = DataManager(asset_pairs, symbols, year=2024, month=11, aggregation_level=50)\n",
    "blocks = data_manager.block_constructor(block_size=3, overlapping=False)\n",
    "blocks_btc = blocks['BTCUSDT']\n",
    "blocks_btc.head(3)"
   ]
  },
  {
   "cell_type": "code",
   "execution_count": 11,
   "id": "396db26f",
   "metadata": {},
   "outputs": [
    {
     "data": {
      "text/html": [
       "<div>\n",
       "<style scoped>\n",
       "    .dataframe tbody tr th:only-of-type {\n",
       "        vertical-align: middle;\n",
       "    }\n",
       "\n",
       "    .dataframe tbody tr th {\n",
       "        vertical-align: top;\n",
       "    }\n",
       "\n",
       "    .dataframe thead th {\n",
       "        text-align: right;\n",
       "    }\n",
       "</style>\n",
       "<table border=\"1\" class=\"dataframe\">\n",
       "  <thead>\n",
       "    <tr style=\"text-align: right;\">\n",
       "      <th></th>\n",
       "      <th>block</th>\n",
       "      <th>absolute frequency</th>\n",
       "      <th>relative frequency</th>\n",
       "    </tr>\n",
       "  </thead>\n",
       "  <tbody>\n",
       "    <tr>\n",
       "      <th>0</th>\n",
       "      <td>(0, 0, 0)</td>\n",
       "      <td>438521</td>\n",
       "      <td>0.375483</td>\n",
       "    </tr>\n",
       "    <tr>\n",
       "      <th>1</th>\n",
       "      <td>(0, 0, 1)</td>\n",
       "      <td>55036</td>\n",
       "      <td>0.047125</td>\n",
       "    </tr>\n",
       "    <tr>\n",
       "      <th>2</th>\n",
       "      <td>(0, 1, 0)</td>\n",
       "      <td>14043</td>\n",
       "      <td>0.012024</td>\n",
       "    </tr>\n",
       "    <tr>\n",
       "      <th>3</th>\n",
       "      <td>(0, 1, 1)</td>\n",
       "      <td>54834</td>\n",
       "      <td>0.046952</td>\n",
       "    </tr>\n",
       "    <tr>\n",
       "      <th>4</th>\n",
       "      <td>(1, 0, 0)</td>\n",
       "      <td>55166</td>\n",
       "      <td>0.047236</td>\n",
       "    </tr>\n",
       "    <tr>\n",
       "      <th>5</th>\n",
       "      <td>(1, 0, 1)</td>\n",
       "      <td>13807</td>\n",
       "      <td>0.011822</td>\n",
       "    </tr>\n",
       "    <tr>\n",
       "      <th>6</th>\n",
       "      <td>(1, 1, 0)</td>\n",
       "      <td>54877</td>\n",
       "      <td>0.046988</td>\n",
       "    </tr>\n",
       "    <tr>\n",
       "      <th>7</th>\n",
       "      <td>(1, 1, 1)</td>\n",
       "      <td>481600</td>\n",
       "      <td>0.412370</td>\n",
       "    </tr>\n",
       "  </tbody>\n",
       "</table>\n",
       "</div>"
      ],
      "text/plain": [
       "       block  absolute frequency  relative frequency\n",
       "0  (0, 0, 0)              438521            0.375483\n",
       "1  (0, 0, 1)               55036            0.047125\n",
       "2  (0, 1, 0)               14043            0.012024\n",
       "3  (0, 1, 1)               54834            0.046952\n",
       "4  (1, 0, 0)               55166            0.047236\n",
       "5  (1, 0, 1)               13807            0.011822\n",
       "6  (1, 1, 0)               54877            0.046988\n",
       "7  (1, 1, 1)              481600            0.412370"
      ]
     },
     "execution_count": 11,
     "metadata": {},
     "output_type": "execute_result"
    }
   ],
   "source": [
    "nb_symbols = 2\n",
    "block_size = 3\n",
    "test = RandomnessAnalysis(blocks_df=blocks_btc, s=nb_symbols, k=block_size)\n",
    "frequencies_df = test.compute_blocks_frequencies()\n",
    "frequencies_df"
   ]
  },
  {
   "cell_type": "code",
   "execution_count": 12,
   "id": "a21e0ea2",
   "metadata": {},
   "outputs": [
    {
     "data": {
      "text/html": [
       "<div>\n",
       "<style scoped>\n",
       "    .dataframe tbody tr th:only-of-type {\n",
       "        vertical-align: middle;\n",
       "    }\n",
       "\n",
       "    .dataframe tbody tr th {\n",
       "        vertical-align: top;\n",
       "    }\n",
       "\n",
       "    .dataframe thead th {\n",
       "        text-align: right;\n",
       "    }\n",
       "</style>\n",
       "<table border=\"1\" class=\"dataframe\">\n",
       "  <thead>\n",
       "    <tr style=\"text-align: right;\">\n",
       "      <th></th>\n",
       "      <th>Entropy Bias test</th>\n",
       "    </tr>\n",
       "  </thead>\n",
       "  <tbody>\n",
       "    <tr>\n",
       "      <th>Bias</th>\n",
       "      <td>1553938.20123</td>\n",
       "    </tr>\n",
       "    <tr>\n",
       "      <th>Quantile 90%</th>\n",
       "      <td>12.017037</td>\n",
       "    </tr>\n",
       "    <tr>\n",
       "      <th>Quantile 95%</th>\n",
       "      <td>14.06714</td>\n",
       "    </tr>\n",
       "    <tr>\n",
       "      <th>Quantile 99%</th>\n",
       "      <td>18.475307</td>\n",
       "    </tr>\n",
       "    <tr>\n",
       "      <th>P-value</th>\n",
       "      <td>0.0</td>\n",
       "    </tr>\n",
       "    <tr>\n",
       "      <th>Mean</th>\n",
       "      <td>7</td>\n",
       "    </tr>\n",
       "    <tr>\n",
       "      <th>Hypothesis 1</th>\n",
       "      <td>True</td>\n",
       "    </tr>\n",
       "  </tbody>\n",
       "</table>\n",
       "</div>"
      ],
      "text/plain": [
       "             Entropy Bias test\n",
       "Bias             1553938.20123\n",
       "Quantile 90%         12.017037\n",
       "Quantile 95%          14.06714\n",
       "Quantile 99%         18.475307\n",
       "P-value                    0.0\n",
       "Mean                         7\n",
       "Hypothesis 1              True"
      ]
     },
     "execution_count": 12,
     "metadata": {},
     "output_type": "execute_result"
    }
   ],
   "source": [
    "test_entropy = test.entropy_bias_test()\n",
    "test_entropy"
   ]
  },
  {
   "cell_type": "code",
   "execution_count": 13,
   "id": "fcf57168",
   "metadata": {},
   "outputs": [
    {
     "data": {
      "application/vnd.plotly.v1+json": {
       "config": {
        "plotlyServerURL": "https://plot.ly"
       },
       "data": [
        {
         "marker": {
          "color": "blue"
         },
         "name": "Absolute frequency",
         "type": "bar",
         "x": [
          "(0, 0, 0)",
          "(0, 0, 1)",
          "(0, 1, 0)",
          "(0, 1, 1)",
          "(1, 0, 0)",
          "(1, 0, 1)",
          "(1, 1, 0)",
          "(1, 1, 1)"
         ],
         "xaxis": "x",
         "y": [
          438521,
          55036,
          14043,
          54834,
          55166,
          13807,
          54877,
          481600
         ],
         "yaxis": "y"
        },
        {
         "marker": {
          "color": "red"
         },
         "name": "Relative frequency",
         "type": "bar",
         "x": [
          "(0, 0, 0)",
          "(0, 0, 1)",
          "(0, 1, 0)",
          "(0, 1, 1)",
          "(1, 0, 0)",
          "(1, 0, 1)",
          "(1, 1, 0)",
          "(1, 1, 1)"
         ],
         "xaxis": "x2",
         "y": [
          0.37548335279873685,
          0.04712454319093334,
          0.012024310633590322,
          0.046951580807682955,
          0.04723585561579746,
          0.011822235769990854,
          0.046988399532830315,
          0.4123697216504379
         ],
         "yaxis": "y2"
        }
       ],
       "layout": {
        "annotations": [
         {
          "font": {
           "size": 16
          },
          "showarrow": false,
          "text": "Absolute frequency",
          "x": 0.225,
          "xanchor": "center",
          "xref": "paper",
          "y": 1,
          "yanchor": "bottom",
          "yref": "paper"
         },
         {
          "font": {
           "size": 16
          },
          "showarrow": false,
          "text": "Relative frequency",
          "x": 0.775,
          "xanchor": "center",
          "xref": "paper",
          "y": 1,
          "yanchor": "bottom",
          "yref": "paper"
         }
        ],
        "height": 800,
        "showlegend": false,
        "template": {
         "data": {
          "bar": [
           {
            "error_x": {
             "color": "#2a3f5f"
            },
            "error_y": {
             "color": "#2a3f5f"
            },
            "marker": {
             "line": {
              "color": "#E5ECF6",
              "width": 0.5
             },
             "pattern": {
              "fillmode": "overlay",
              "size": 10,
              "solidity": 0.2
             }
            },
            "type": "bar"
           }
          ],
          "barpolar": [
           {
            "marker": {
             "line": {
              "color": "#E5ECF6",
              "width": 0.5
             },
             "pattern": {
              "fillmode": "overlay",
              "size": 10,
              "solidity": 0.2
             }
            },
            "type": "barpolar"
           }
          ],
          "carpet": [
           {
            "aaxis": {
             "endlinecolor": "#2a3f5f",
             "gridcolor": "white",
             "linecolor": "white",
             "minorgridcolor": "white",
             "startlinecolor": "#2a3f5f"
            },
            "baxis": {
             "endlinecolor": "#2a3f5f",
             "gridcolor": "white",
             "linecolor": "white",
             "minorgridcolor": "white",
             "startlinecolor": "#2a3f5f"
            },
            "type": "carpet"
           }
          ],
          "choropleth": [
           {
            "colorbar": {
             "outlinewidth": 0,
             "ticks": ""
            },
            "type": "choropleth"
           }
          ],
          "contour": [
           {
            "colorbar": {
             "outlinewidth": 0,
             "ticks": ""
            },
            "colorscale": [
             [
              0,
              "#0d0887"
             ],
             [
              0.1111111111111111,
              "#46039f"
             ],
             [
              0.2222222222222222,
              "#7201a8"
             ],
             [
              0.3333333333333333,
              "#9c179e"
             ],
             [
              0.4444444444444444,
              "#bd3786"
             ],
             [
              0.5555555555555556,
              "#d8576b"
             ],
             [
              0.6666666666666666,
              "#ed7953"
             ],
             [
              0.7777777777777778,
              "#fb9f3a"
             ],
             [
              0.8888888888888888,
              "#fdca26"
             ],
             [
              1,
              "#f0f921"
             ]
            ],
            "type": "contour"
           }
          ],
          "contourcarpet": [
           {
            "colorbar": {
             "outlinewidth": 0,
             "ticks": ""
            },
            "type": "contourcarpet"
           }
          ],
          "heatmap": [
           {
            "colorbar": {
             "outlinewidth": 0,
             "ticks": ""
            },
            "colorscale": [
             [
              0,
              "#0d0887"
             ],
             [
              0.1111111111111111,
              "#46039f"
             ],
             [
              0.2222222222222222,
              "#7201a8"
             ],
             [
              0.3333333333333333,
              "#9c179e"
             ],
             [
              0.4444444444444444,
              "#bd3786"
             ],
             [
              0.5555555555555556,
              "#d8576b"
             ],
             [
              0.6666666666666666,
              "#ed7953"
             ],
             [
              0.7777777777777778,
              "#fb9f3a"
             ],
             [
              0.8888888888888888,
              "#fdca26"
             ],
             [
              1,
              "#f0f921"
             ]
            ],
            "type": "heatmap"
           }
          ],
          "heatmapgl": [
           {
            "colorbar": {
             "outlinewidth": 0,
             "ticks": ""
            },
            "colorscale": [
             [
              0,
              "#0d0887"
             ],
             [
              0.1111111111111111,
              "#46039f"
             ],
             [
              0.2222222222222222,
              "#7201a8"
             ],
             [
              0.3333333333333333,
              "#9c179e"
             ],
             [
              0.4444444444444444,
              "#bd3786"
             ],
             [
              0.5555555555555556,
              "#d8576b"
             ],
             [
              0.6666666666666666,
              "#ed7953"
             ],
             [
              0.7777777777777778,
              "#fb9f3a"
             ],
             [
              0.8888888888888888,
              "#fdca26"
             ],
             [
              1,
              "#f0f921"
             ]
            ],
            "type": "heatmapgl"
           }
          ],
          "histogram": [
           {
            "marker": {
             "pattern": {
              "fillmode": "overlay",
              "size": 10,
              "solidity": 0.2
             }
            },
            "type": "histogram"
           }
          ],
          "histogram2d": [
           {
            "colorbar": {
             "outlinewidth": 0,
             "ticks": ""
            },
            "colorscale": [
             [
              0,
              "#0d0887"
             ],
             [
              0.1111111111111111,
              "#46039f"
             ],
             [
              0.2222222222222222,
              "#7201a8"
             ],
             [
              0.3333333333333333,
              "#9c179e"
             ],
             [
              0.4444444444444444,
              "#bd3786"
             ],
             [
              0.5555555555555556,
              "#d8576b"
             ],
             [
              0.6666666666666666,
              "#ed7953"
             ],
             [
              0.7777777777777778,
              "#fb9f3a"
             ],
             [
              0.8888888888888888,
              "#fdca26"
             ],
             [
              1,
              "#f0f921"
             ]
            ],
            "type": "histogram2d"
           }
          ],
          "histogram2dcontour": [
           {
            "colorbar": {
             "outlinewidth": 0,
             "ticks": ""
            },
            "colorscale": [
             [
              0,
              "#0d0887"
             ],
             [
              0.1111111111111111,
              "#46039f"
             ],
             [
              0.2222222222222222,
              "#7201a8"
             ],
             [
              0.3333333333333333,
              "#9c179e"
             ],
             [
              0.4444444444444444,
              "#bd3786"
             ],
             [
              0.5555555555555556,
              "#d8576b"
             ],
             [
              0.6666666666666666,
              "#ed7953"
             ],
             [
              0.7777777777777778,
              "#fb9f3a"
             ],
             [
              0.8888888888888888,
              "#fdca26"
             ],
             [
              1,
              "#f0f921"
             ]
            ],
            "type": "histogram2dcontour"
           }
          ],
          "mesh3d": [
           {
            "colorbar": {
             "outlinewidth": 0,
             "ticks": ""
            },
            "type": "mesh3d"
           }
          ],
          "parcoords": [
           {
            "line": {
             "colorbar": {
              "outlinewidth": 0,
              "ticks": ""
             }
            },
            "type": "parcoords"
           }
          ],
          "pie": [
           {
            "automargin": true,
            "type": "pie"
           }
          ],
          "scatter": [
           {
            "fillpattern": {
             "fillmode": "overlay",
             "size": 10,
             "solidity": 0.2
            },
            "type": "scatter"
           }
          ],
          "scatter3d": [
           {
            "line": {
             "colorbar": {
              "outlinewidth": 0,
              "ticks": ""
             }
            },
            "marker": {
             "colorbar": {
              "outlinewidth": 0,
              "ticks": ""
             }
            },
            "type": "scatter3d"
           }
          ],
          "scattercarpet": [
           {
            "marker": {
             "colorbar": {
              "outlinewidth": 0,
              "ticks": ""
             }
            },
            "type": "scattercarpet"
           }
          ],
          "scattergeo": [
           {
            "marker": {
             "colorbar": {
              "outlinewidth": 0,
              "ticks": ""
             }
            },
            "type": "scattergeo"
           }
          ],
          "scattergl": [
           {
            "marker": {
             "colorbar": {
              "outlinewidth": 0,
              "ticks": ""
             }
            },
            "type": "scattergl"
           }
          ],
          "scattermapbox": [
           {
            "marker": {
             "colorbar": {
              "outlinewidth": 0,
              "ticks": ""
             }
            },
            "type": "scattermapbox"
           }
          ],
          "scatterpolar": [
           {
            "marker": {
             "colorbar": {
              "outlinewidth": 0,
              "ticks": ""
             }
            },
            "type": "scatterpolar"
           }
          ],
          "scatterpolargl": [
           {
            "marker": {
             "colorbar": {
              "outlinewidth": 0,
              "ticks": ""
             }
            },
            "type": "scatterpolargl"
           }
          ],
          "scatterternary": [
           {
            "marker": {
             "colorbar": {
              "outlinewidth": 0,
              "ticks": ""
             }
            },
            "type": "scatterternary"
           }
          ],
          "surface": [
           {
            "colorbar": {
             "outlinewidth": 0,
             "ticks": ""
            },
            "colorscale": [
             [
              0,
              "#0d0887"
             ],
             [
              0.1111111111111111,
              "#46039f"
             ],
             [
              0.2222222222222222,
              "#7201a8"
             ],
             [
              0.3333333333333333,
              "#9c179e"
             ],
             [
              0.4444444444444444,
              "#bd3786"
             ],
             [
              0.5555555555555556,
              "#d8576b"
             ],
             [
              0.6666666666666666,
              "#ed7953"
             ],
             [
              0.7777777777777778,
              "#fb9f3a"
             ],
             [
              0.8888888888888888,
              "#fdca26"
             ],
             [
              1,
              "#f0f921"
             ]
            ],
            "type": "surface"
           }
          ],
          "table": [
           {
            "cells": {
             "fill": {
              "color": "#EBF0F8"
             },
             "line": {
              "color": "white"
             }
            },
            "header": {
             "fill": {
              "color": "#C8D4E3"
             },
             "line": {
              "color": "white"
             }
            },
            "type": "table"
           }
          ]
         },
         "layout": {
          "annotationdefaults": {
           "arrowcolor": "#2a3f5f",
           "arrowhead": 0,
           "arrowwidth": 1
          },
          "autotypenumbers": "strict",
          "coloraxis": {
           "colorbar": {
            "outlinewidth": 0,
            "ticks": ""
           }
          },
          "colorscale": {
           "diverging": [
            [
             0,
             "#8e0152"
            ],
            [
             0.1,
             "#c51b7d"
            ],
            [
             0.2,
             "#de77ae"
            ],
            [
             0.3,
             "#f1b6da"
            ],
            [
             0.4,
             "#fde0ef"
            ],
            [
             0.5,
             "#f7f7f7"
            ],
            [
             0.6,
             "#e6f5d0"
            ],
            [
             0.7,
             "#b8e186"
            ],
            [
             0.8,
             "#7fbc41"
            ],
            [
             0.9,
             "#4d9221"
            ],
            [
             1,
             "#276419"
            ]
           ],
           "sequential": [
            [
             0,
             "#0d0887"
            ],
            [
             0.1111111111111111,
             "#46039f"
            ],
            [
             0.2222222222222222,
             "#7201a8"
            ],
            [
             0.3333333333333333,
             "#9c179e"
            ],
            [
             0.4444444444444444,
             "#bd3786"
            ],
            [
             0.5555555555555556,
             "#d8576b"
            ],
            [
             0.6666666666666666,
             "#ed7953"
            ],
            [
             0.7777777777777778,
             "#fb9f3a"
            ],
            [
             0.8888888888888888,
             "#fdca26"
            ],
            [
             1,
             "#f0f921"
            ]
           ],
           "sequentialminus": [
            [
             0,
             "#0d0887"
            ],
            [
             0.1111111111111111,
             "#46039f"
            ],
            [
             0.2222222222222222,
             "#7201a8"
            ],
            [
             0.3333333333333333,
             "#9c179e"
            ],
            [
             0.4444444444444444,
             "#bd3786"
            ],
            [
             0.5555555555555556,
             "#d8576b"
            ],
            [
             0.6666666666666666,
             "#ed7953"
            ],
            [
             0.7777777777777778,
             "#fb9f3a"
            ],
            [
             0.8888888888888888,
             "#fdca26"
            ],
            [
             1,
             "#f0f921"
            ]
           ]
          },
          "colorway": [
           "#636efa",
           "#EF553B",
           "#00cc96",
           "#ab63fa",
           "#FFA15A",
           "#19d3f3",
           "#FF6692",
           "#B6E880",
           "#FF97FF",
           "#FECB52"
          ],
          "font": {
           "color": "#2a3f5f"
          },
          "geo": {
           "bgcolor": "white",
           "lakecolor": "white",
           "landcolor": "#E5ECF6",
           "showlakes": true,
           "showland": true,
           "subunitcolor": "white"
          },
          "hoverlabel": {
           "align": "left"
          },
          "hovermode": "closest",
          "mapbox": {
           "style": "light"
          },
          "paper_bgcolor": "white",
          "plot_bgcolor": "#E5ECF6",
          "polar": {
           "angularaxis": {
            "gridcolor": "white",
            "linecolor": "white",
            "ticks": ""
           },
           "bgcolor": "#E5ECF6",
           "radialaxis": {
            "gridcolor": "white",
            "linecolor": "white",
            "ticks": ""
           }
          },
          "scene": {
           "xaxis": {
            "backgroundcolor": "#E5ECF6",
            "gridcolor": "white",
            "gridwidth": 2,
            "linecolor": "white",
            "showbackground": true,
            "ticks": "",
            "zerolinecolor": "white"
           },
           "yaxis": {
            "backgroundcolor": "#E5ECF6",
            "gridcolor": "white",
            "gridwidth": 2,
            "linecolor": "white",
            "showbackground": true,
            "ticks": "",
            "zerolinecolor": "white"
           },
           "zaxis": {
            "backgroundcolor": "#E5ECF6",
            "gridcolor": "white",
            "gridwidth": 2,
            "linecolor": "white",
            "showbackground": true,
            "ticks": "",
            "zerolinecolor": "white"
           }
          },
          "shapedefaults": {
           "line": {
            "color": "#2a3f5f"
           }
          },
          "ternary": {
           "aaxis": {
            "gridcolor": "white",
            "linecolor": "white",
            "ticks": ""
           },
           "baxis": {
            "gridcolor": "white",
            "linecolor": "white",
            "ticks": ""
           },
           "bgcolor": "#E5ECF6",
           "caxis": {
            "gridcolor": "white",
            "linecolor": "white",
            "ticks": ""
           }
          },
          "title": {
           "x": 0.05
          },
          "xaxis": {
           "automargin": true,
           "gridcolor": "white",
           "linecolor": "white",
           "ticks": "",
           "title": {
            "standoff": 15
           },
           "zerolinecolor": "white",
           "zerolinewidth": 2
          },
          "yaxis": {
           "automargin": true,
           "gridcolor": "white",
           "linecolor": "white",
           "ticks": "",
           "title": {
            "standoff": 15
           },
           "zerolinecolor": "white",
           "zerolinewidth": 2
          }
         }
        },
        "title": {
         "text": "Blocks Analysis"
        },
        "width": 1500,
        "xaxis": {
         "anchor": "y",
         "domain": [
          0,
          0.45
         ],
         "title": {
          "text": "Blocks"
         }
        },
        "xaxis2": {
         "anchor": "y2",
         "domain": [
          0.55,
          1
         ],
         "title": {
          "text": "Blocks"
         }
        },
        "yaxis": {
         "anchor": "x",
         "domain": [
          0,
          1
         ],
         "title": {
          "text": "Absolute Frequency"
         }
        },
        "yaxis2": {
         "anchor": "x2",
         "domain": [
          0,
          1
         ],
         "title": {
          "text": "Relative Frequency"
         }
        }
       }
      }
     },
     "metadata": {},
     "output_type": "display_data"
    }
   ],
   "source": [
    "plot_block_frequencies(frequencies_df)"
   ]
  },
  {
   "cell_type": "code",
   "execution_count": 14,
   "id": "2f3c8c05",
   "metadata": {},
   "outputs": [
    {
     "data": {
      "text/html": [
       "<div>\n",
       "<style scoped>\n",
       "    .dataframe tbody tr th:only-of-type {\n",
       "        vertical-align: middle;\n",
       "    }\n",
       "\n",
       "    .dataframe tbody tr th {\n",
       "        vertical-align: top;\n",
       "    }\n",
       "\n",
       "    .dataframe thead th {\n",
       "        text-align: right;\n",
       "    }\n",
       "</style>\n",
       "<table border=\"1\" class=\"dataframe\">\n",
       "  <thead>\n",
       "    <tr style=\"text-align: right;\">\n",
       "      <th></th>\n",
       "      <th>Bias</th>\n",
       "      <th>Quantile 99</th>\n",
       "      <th>Quantile 95</th>\n",
       "      <th>Quantile 90</th>\n",
       "      <th>Mean</th>\n",
       "    </tr>\n",
       "    <tr>\n",
       "      <th>Block size</th>\n",
       "      <th></th>\n",
       "      <th></th>\n",
       "      <th></th>\n",
       "      <th></th>\n",
       "      <th></th>\n",
       "    </tr>\n",
       "  </thead>\n",
       "  <tbody>\n",
       "    <tr>\n",
       "      <th>1</th>\n",
       "      <td>4.714656e+03</td>\n",
       "      <td>6.634897</td>\n",
       "      <td>3.841459</td>\n",
       "      <td>2.705543</td>\n",
       "      <td>1</td>\n",
       "    </tr>\n",
       "    <tr>\n",
       "      <th>2</th>\n",
       "      <td>1.161296e+06</td>\n",
       "      <td>11.344867</td>\n",
       "      <td>7.814728</td>\n",
       "      <td>6.251389</td>\n",
       "      <td>3</td>\n",
       "    </tr>\n",
       "    <tr>\n",
       "      <th>3</th>\n",
       "      <td>1.553938e+06</td>\n",
       "      <td>18.475307</td>\n",
       "      <td>14.067140</td>\n",
       "      <td>12.017037</td>\n",
       "      <td>7</td>\n",
       "    </tr>\n",
       "    <tr>\n",
       "      <th>4</th>\n",
       "      <td>1.751166e+06</td>\n",
       "      <td>30.577914</td>\n",
       "      <td>24.995790</td>\n",
       "      <td>22.307130</td>\n",
       "      <td>15</td>\n",
       "    </tr>\n",
       "    <tr>\n",
       "      <th>5</th>\n",
       "      <td>1.874762e+06</td>\n",
       "      <td>52.191395</td>\n",
       "      <td>44.985343</td>\n",
       "      <td>41.421736</td>\n",
       "      <td>31</td>\n",
       "    </tr>\n",
       "    <tr>\n",
       "      <th>6</th>\n",
       "      <td>1.952834e+06</td>\n",
       "      <td>92.010024</td>\n",
       "      <td>82.528727</td>\n",
       "      <td>77.745385</td>\n",
       "      <td>63</td>\n",
       "    </tr>\n",
       "    <tr>\n",
       "      <th>7</th>\n",
       "      <td>2.013015e+06</td>\n",
       "      <td>166.987390</td>\n",
       "      <td>154.301516</td>\n",
       "      <td>147.804813</td>\n",
       "      <td>127</td>\n",
       "    </tr>\n",
       "    <tr>\n",
       "      <th>8</th>\n",
       "      <td>2.054856e+06</td>\n",
       "      <td>310.457388</td>\n",
       "      <td>293.247835</td>\n",
       "      <td>284.335908</td>\n",
       "      <td>255</td>\n",
       "    </tr>\n",
       "    <tr>\n",
       "      <th>9</th>\n",
       "      <td>2.089888e+06</td>\n",
       "      <td>588.297794</td>\n",
       "      <td>564.696133</td>\n",
       "      <td>552.373933</td>\n",
       "      <td>511</td>\n",
       "    </tr>\n",
       "    <tr>\n",
       "      <th>10</th>\n",
       "      <td>2.117752e+06</td>\n",
       "      <td>1131.158739</td>\n",
       "      <td>1098.520782</td>\n",
       "      <td>1081.379444</td>\n",
       "      <td>1023</td>\n",
       "    </tr>\n",
       "  </tbody>\n",
       "</table>\n",
       "</div>"
      ],
      "text/plain": [
       "                    Bias  Quantile 99  Quantile 95  Quantile 90  Mean\n",
       "Block size                                                           \n",
       "1           4.714656e+03     6.634897     3.841459     2.705543     1\n",
       "2           1.161296e+06    11.344867     7.814728     6.251389     3\n",
       "3           1.553938e+06    18.475307    14.067140    12.017037     7\n",
       "4           1.751166e+06    30.577914    24.995790    22.307130    15\n",
       "5           1.874762e+06    52.191395    44.985343    41.421736    31\n",
       "6           1.952834e+06    92.010024    82.528727    77.745385    63\n",
       "7           2.013015e+06   166.987390   154.301516   147.804813   127\n",
       "8           2.054856e+06   310.457388   293.247835   284.335908   255\n",
       "9           2.089888e+06   588.297794   564.696133   552.373933   511\n",
       "10          2.117752e+06  1131.158739  1098.520782  1081.379444  1023"
      ]
     },
     "execution_count": 14,
     "metadata": {},
     "output_type": "execute_result"
    }
   ],
   "source": [
    "btc_multi_tester = MultiTester(asset='BTCUSDT',symbols=symbols,overlapping=False)\n",
    "btc_multi_tester.test_by_block_size(year=2024,month=11,aggregation_level=50)"
   ]
  },
  {
   "cell_type": "code",
   "execution_count": 8,
   "id": "d555c4e8",
   "metadata": {},
   "outputs": [
    {
     "data": {
      "text/html": [
       "<div>\n",
       "<style scoped>\n",
       "    .dataframe tbody tr th:only-of-type {\n",
       "        vertical-align: middle;\n",
       "    }\n",
       "\n",
       "    .dataframe tbody tr th {\n",
       "        vertical-align: top;\n",
       "    }\n",
       "\n",
       "    .dataframe thead th {\n",
       "        text-align: right;\n",
       "    }\n",
       "</style>\n",
       "<table border=\"1\" class=\"dataframe\">\n",
       "  <thead>\n",
       "    <tr style=\"text-align: right;\">\n",
       "      <th></th>\n",
       "      <th>Bias</th>\n",
       "      <th>Quantile 90</th>\n",
       "      <th>Quantile 95</th>\n",
       "      <th>Quantile 99</th>\n",
       "      <th>Mean</th>\n",
       "    </tr>\n",
       "    <tr>\n",
       "      <th>Aggregation level</th>\n",
       "      <th></th>\n",
       "      <th></th>\n",
       "      <th></th>\n",
       "      <th></th>\n",
       "      <th></th>\n",
       "    </tr>\n",
       "  </thead>\n",
       "  <tbody>\n",
       "    <tr>\n",
       "      <th>1</th>\n",
       "      <td>20177.535460</td>\n",
       "      <td>6.251389</td>\n",
       "      <td>7.814728</td>\n",
       "      <td>11.344867</td>\n",
       "      <td>3</td>\n",
       "    </tr>\n",
       "    <tr>\n",
       "      <th>2</th>\n",
       "      <td>18073.273504</td>\n",
       "      <td>6.251389</td>\n",
       "      <td>7.814728</td>\n",
       "      <td>11.344867</td>\n",
       "      <td>3</td>\n",
       "    </tr>\n",
       "    <tr>\n",
       "      <th>3</th>\n",
       "      <td>16209.880649</td>\n",
       "      <td>6.251389</td>\n",
       "      <td>7.814728</td>\n",
       "      <td>11.344867</td>\n",
       "      <td>3</td>\n",
       "    </tr>\n",
       "    <tr>\n",
       "      <th>4</th>\n",
       "      <td>14041.655484</td>\n",
       "      <td>6.251389</td>\n",
       "      <td>7.814728</td>\n",
       "      <td>11.344867</td>\n",
       "      <td>3</td>\n",
       "    </tr>\n",
       "    <tr>\n",
       "      <th>5</th>\n",
       "      <td>12225.704484</td>\n",
       "      <td>6.251389</td>\n",
       "      <td>7.814728</td>\n",
       "      <td>11.344867</td>\n",
       "      <td>3</td>\n",
       "    </tr>\n",
       "  </tbody>\n",
       "</table>\n",
       "</div>"
      ],
      "text/plain": [
       "                           Bias  Quantile 90  Quantile 95  Quantile 99  Mean\n",
       "Aggregation level                                                           \n",
       "1                  20177.535460     6.251389     7.814728    11.344867     3\n",
       "2                  18073.273504     6.251389     7.814728    11.344867     3\n",
       "3                  16209.880649     6.251389     7.814728    11.344867     3\n",
       "4                  14041.655484     6.251389     7.814728    11.344867     3\n",
       "5                  12225.704484     6.251389     7.814728    11.344867     3"
      ]
     },
     "execution_count": 8,
     "metadata": {},
     "output_type": "execute_result"
    }
   ],
   "source": [
    "btc_multi_tester.test_by_aggregation_level().head()"
   ]
  },
  {
   "cell_type": "code",
   "execution_count": 9,
   "id": "85ffce4b",
   "metadata": {},
   "outputs": [
    {
     "data": {
      "application/vnd.plotly.v1+json": {
       "config": {
        "plotlyServerURL": "https://plot.ly"
       },
       "data": [
        {
         "colorscale": [
          [
           0,
           "#440154"
          ],
          [
           0.1111111111111111,
           "#482878"
          ],
          [
           0.2222222222222222,
           "#3e4989"
          ],
          [
           0.3333333333333333,
           "#31688e"
          ],
          [
           0.4444444444444444,
           "#26828e"
          ],
          [
           0.5555555555555556,
           "#1f9e89"
          ],
          [
           0.6666666666666666,
           "#35b779"
          ],
          [
           0.7777777777777778,
           "#6ece58"
          ],
          [
           0.8888888888888888,
           "#b5de2b"
          ],
          [
           1,
           "#fde725"
          ]
         ],
         "name": "Entropy Bias",
         "type": "surface",
         "x": [
          [
           1,
           1,
           1,
           1,
           1,
           1,
           1,
           1,
           1,
           1
          ],
          [
           2,
           2,
           2,
           2,
           2,
           2,
           2,
           2,
           2,
           2
          ],
          [
           3,
           3,
           3,
           3,
           3,
           3,
           3,
           3,
           3,
           3
          ],
          [
           4,
           4,
           4,
           4,
           4,
           4,
           4,
           4,
           4,
           4
          ],
          [
           5,
           5,
           5,
           5,
           5,
           5,
           5,
           5,
           5,
           5
          ],
          [
           6,
           6,
           6,
           6,
           6,
           6,
           6,
           6,
           6,
           6
          ],
          [
           7,
           7,
           7,
           7,
           7,
           7,
           7,
           7,
           7,
           7
          ],
          [
           8,
           8,
           8,
           8,
           8,
           8,
           8,
           8,
           8,
           8
          ],
          [
           9,
           9,
           9,
           9,
           9,
           9,
           9,
           9,
           9,
           9
          ],
          [
           10,
           10,
           10,
           10,
           10,
           10,
           10,
           10,
           10,
           10
          ],
          [
           11,
           11,
           11,
           11,
           11,
           11,
           11,
           11,
           11,
           11
          ],
          [
           12,
           12,
           12,
           12,
           12,
           12,
           12,
           12,
           12,
           12
          ],
          [
           13,
           13,
           13,
           13,
           13,
           13,
           13,
           13,
           13,
           13
          ],
          [
           14,
           14,
           14,
           14,
           14,
           14,
           14,
           14,
           14,
           14
          ],
          [
           15,
           15,
           15,
           15,
           15,
           15,
           15,
           15,
           15,
           15
          ],
          [
           16,
           16,
           16,
           16,
           16,
           16,
           16,
           16,
           16,
           16
          ],
          [
           17,
           17,
           17,
           17,
           17,
           17,
           17,
           17,
           17,
           17
          ],
          [
           18,
           18,
           18,
           18,
           18,
           18,
           18,
           18,
           18,
           18
          ],
          [
           19,
           19,
           19,
           19,
           19,
           19,
           19,
           19,
           19,
           19
          ],
          [
           20,
           20,
           20,
           20,
           20,
           20,
           20,
           20,
           20,
           20
          ],
          [
           21,
           21,
           21,
           21,
           21,
           21,
           21,
           21,
           21,
           21
          ],
          [
           22,
           22,
           22,
           22,
           22,
           22,
           22,
           22,
           22,
           22
          ],
          [
           23,
           23,
           23,
           23,
           23,
           23,
           23,
           23,
           23,
           23
          ],
          [
           24,
           24,
           24,
           24,
           24,
           24,
           24,
           24,
           24,
           24
          ],
          [
           25,
           25,
           25,
           25,
           25,
           25,
           25,
           25,
           25,
           25
          ],
          [
           26,
           26,
           26,
           26,
           26,
           26,
           26,
           26,
           26,
           26
          ],
          [
           27,
           27,
           27,
           27,
           27,
           27,
           27,
           27,
           27,
           27
          ],
          [
           28,
           28,
           28,
           28,
           28,
           28,
           28,
           28,
           28,
           28
          ],
          [
           29,
           29,
           29,
           29,
           29,
           29,
           29,
           29,
           29,
           29
          ],
          [
           30,
           30,
           30,
           30,
           30,
           30,
           30,
           30,
           30,
           30
          ],
          [
           31,
           31,
           31,
           31,
           31,
           31,
           31,
           31,
           31,
           31
          ],
          [
           32,
           32,
           32,
           32,
           32,
           32,
           32,
           32,
           32,
           32
          ],
          [
           33,
           33,
           33,
           33,
           33,
           33,
           33,
           33,
           33,
           33
          ],
          [
           34,
           34,
           34,
           34,
           34,
           34,
           34,
           34,
           34,
           34
          ],
          [
           35,
           35,
           35,
           35,
           35,
           35,
           35,
           35,
           35,
           35
          ],
          [
           36,
           36,
           36,
           36,
           36,
           36,
           36,
           36,
           36,
           36
          ],
          [
           37,
           37,
           37,
           37,
           37,
           37,
           37,
           37,
           37,
           37
          ],
          [
           38,
           38,
           38,
           38,
           38,
           38,
           38,
           38,
           38,
           38
          ],
          [
           39,
           39,
           39,
           39,
           39,
           39,
           39,
           39,
           39,
           39
          ],
          [
           40,
           40,
           40,
           40,
           40,
           40,
           40,
           40,
           40,
           40
          ],
          [
           41,
           41,
           41,
           41,
           41,
           41,
           41,
           41,
           41,
           41
          ],
          [
           42,
           42,
           42,
           42,
           42,
           42,
           42,
           42,
           42,
           42
          ],
          [
           43,
           43,
           43,
           43,
           43,
           43,
           43,
           43,
           43,
           43
          ],
          [
           44,
           44,
           44,
           44,
           44,
           44,
           44,
           44,
           44,
           44
          ],
          [
           45,
           45,
           45,
           45,
           45,
           45,
           45,
           45,
           45,
           45
          ],
          [
           46,
           46,
           46,
           46,
           46,
           46,
           46,
           46,
           46,
           46
          ],
          [
           47,
           47,
           47,
           47,
           47,
           47,
           47,
           47,
           47,
           47
          ],
          [
           48,
           48,
           48,
           48,
           48,
           48,
           48,
           48,
           48,
           48
          ],
          [
           49,
           49,
           49,
           49,
           49,
           49,
           49,
           49,
           49,
           49
          ],
          [
           50,
           50,
           50,
           50,
           50,
           50,
           50,
           50,
           50,
           50
          ]
         ],
         "y": [
          [
           1,
           2,
           3,
           4,
           5,
           6,
           7,
           8,
           9,
           10
          ],
          [
           1,
           2,
           3,
           4,
           5,
           6,
           7,
           8,
           9,
           10
          ],
          [
           1,
           2,
           3,
           4,
           5,
           6,
           7,
           8,
           9,
           10
          ],
          [
           1,
           2,
           3,
           4,
           5,
           6,
           7,
           8,
           9,
           10
          ],
          [
           1,
           2,
           3,
           4,
           5,
           6,
           7,
           8,
           9,
           10
          ],
          [
           1,
           2,
           3,
           4,
           5,
           6,
           7,
           8,
           9,
           10
          ],
          [
           1,
           2,
           3,
           4,
           5,
           6,
           7,
           8,
           9,
           10
          ],
          [
           1,
           2,
           3,
           4,
           5,
           6,
           7,
           8,
           9,
           10
          ],
          [
           1,
           2,
           3,
           4,
           5,
           6,
           7,
           8,
           9,
           10
          ],
          [
           1,
           2,
           3,
           4,
           5,
           6,
           7,
           8,
           9,
           10
          ],
          [
           1,
           2,
           3,
           4,
           5,
           6,
           7,
           8,
           9,
           10
          ],
          [
           1,
           2,
           3,
           4,
           5,
           6,
           7,
           8,
           9,
           10
          ],
          [
           1,
           2,
           3,
           4,
           5,
           6,
           7,
           8,
           9,
           10
          ],
          [
           1,
           2,
           3,
           4,
           5,
           6,
           7,
           8,
           9,
           10
          ],
          [
           1,
           2,
           3,
           4,
           5,
           6,
           7,
           8,
           9,
           10
          ],
          [
           1,
           2,
           3,
           4,
           5,
           6,
           7,
           8,
           9,
           10
          ],
          [
           1,
           2,
           3,
           4,
           5,
           6,
           7,
           8,
           9,
           10
          ],
          [
           1,
           2,
           3,
           4,
           5,
           6,
           7,
           8,
           9,
           10
          ],
          [
           1,
           2,
           3,
           4,
           5,
           6,
           7,
           8,
           9,
           10
          ],
          [
           1,
           2,
           3,
           4,
           5,
           6,
           7,
           8,
           9,
           10
          ],
          [
           1,
           2,
           3,
           4,
           5,
           6,
           7,
           8,
           9,
           10
          ],
          [
           1,
           2,
           3,
           4,
           5,
           6,
           7,
           8,
           9,
           10
          ],
          [
           1,
           2,
           3,
           4,
           5,
           6,
           7,
           8,
           9,
           10
          ],
          [
           1,
           2,
           3,
           4,
           5,
           6,
           7,
           8,
           9,
           10
          ],
          [
           1,
           2,
           3,
           4,
           5,
           6,
           7,
           8,
           9,
           10
          ],
          [
           1,
           2,
           3,
           4,
           5,
           6,
           7,
           8,
           9,
           10
          ],
          [
           1,
           2,
           3,
           4,
           5,
           6,
           7,
           8,
           9,
           10
          ],
          [
           1,
           2,
           3,
           4,
           5,
           6,
           7,
           8,
           9,
           10
          ],
          [
           1,
           2,
           3,
           4,
           5,
           6,
           7,
           8,
           9,
           10
          ],
          [
           1,
           2,
           3,
           4,
           5,
           6,
           7,
           8,
           9,
           10
          ],
          [
           1,
           2,
           3,
           4,
           5,
           6,
           7,
           8,
           9,
           10
          ],
          [
           1,
           2,
           3,
           4,
           5,
           6,
           7,
           8,
           9,
           10
          ],
          [
           1,
           2,
           3,
           4,
           5,
           6,
           7,
           8,
           9,
           10
          ],
          [
           1,
           2,
           3,
           4,
           5,
           6,
           7,
           8,
           9,
           10
          ],
          [
           1,
           2,
           3,
           4,
           5,
           6,
           7,
           8,
           9,
           10
          ],
          [
           1,
           2,
           3,
           4,
           5,
           6,
           7,
           8,
           9,
           10
          ],
          [
           1,
           2,
           3,
           4,
           5,
           6,
           7,
           8,
           9,
           10
          ],
          [
           1,
           2,
           3,
           4,
           5,
           6,
           7,
           8,
           9,
           10
          ],
          [
           1,
           2,
           3,
           4,
           5,
           6,
           7,
           8,
           9,
           10
          ],
          [
           1,
           2,
           3,
           4,
           5,
           6,
           7,
           8,
           9,
           10
          ],
          [
           1,
           2,
           3,
           4,
           5,
           6,
           7,
           8,
           9,
           10
          ],
          [
           1,
           2,
           3,
           4,
           5,
           6,
           7,
           8,
           9,
           10
          ],
          [
           1,
           2,
           3,
           4,
           5,
           6,
           7,
           8,
           9,
           10
          ],
          [
           1,
           2,
           3,
           4,
           5,
           6,
           7,
           8,
           9,
           10
          ],
          [
           1,
           2,
           3,
           4,
           5,
           6,
           7,
           8,
           9,
           10
          ],
          [
           1,
           2,
           3,
           4,
           5,
           6,
           7,
           8,
           9,
           10
          ],
          [
           1,
           2,
           3,
           4,
           5,
           6,
           7,
           8,
           9,
           10
          ],
          [
           1,
           2,
           3,
           4,
           5,
           6,
           7,
           8,
           9,
           10
          ],
          [
           1,
           2,
           3,
           4,
           5,
           6,
           7,
           8,
           9,
           10
          ],
          [
           1,
           2,
           3,
           4,
           5,
           6,
           7,
           8,
           9,
           10
          ]
         ],
         "z": [
          [
           1587.3128784305336,
           20177.53546004728,
           37976.82736933353,
           46912.51987726235,
           52734.26921281339,
           56239.80143681695,
           59206.451360014464,
           61308.71373034697,
           62961.32778646052,
           64509.78391981505
          ],
          [
           905.3116619515846,
           18073.27350356155,
           30303.34564103072,
           36044.664775676065,
           39672.298685017115,
           42223.10201412379,
           44286.488245860965,
           45578.188785350685,
           46824.821988219446,
           47831.00273132363
          ],
          [
           630.4609733218831,
           16209.880648993236,
           25017.446188998303,
           29650.847287050794,
           32667.766887639853,
           34439.42341538575,
           35817.736497355596,
           36908.865111415485,
           37802.05654325945,
           38654.640055571166
          ],
          [
           476.08738710860257,
           14041.655483993778,
           21273.805623774922,
           24749.09995159271,
           27028.167463255213,
           28653.945826057075,
           29660.48628015371,
           30419.095604907052,
           31343.27374840206,
           31881.480317067533
          ],
          [
           371.6321935290195,
           12225.704483740348,
           18219.66654268938,
           21233.554392262056,
           23078.463726791924,
           24341.256556587614,
           25088.482181941385,
           25905.764582877,
           26596.4233698028,
           27101.415120601414
          ],
          [
           308.0963352102095,
           10946.474590806849,
           15871.827740341549,
           18469.852917246724,
           20004.9335495506,
           20930.78704114593,
           21791.120600808394,
           22436.736448277818,
           22985.830500342847,
           23457.01671309354
          ],
          [
           263.7665942452637,
           9600.008861714172,
           13888.14664051962,
           16079.686922211558,
           17534.18815308819,
           18330.709093896494,
           19098.88939674481,
           19579.907355274878,
           20090.819235766514,
           20623.68216917273
          ],
          [
           218.4612562294022,
           8899.967603062543,
           12701.713536484229,
           14703.527695931292,
           15878.469718381773,
           16592.23832205138,
           17247.251215485114,
           17804.103569433566,
           18179.922279010636,
           18547.69402209407
          ],
          [
           189.9326404939855,
           8298.26850392929,
           11638.18565689076,
           13296.916563664648,
           14427.52679100672,
           15123.84405543884,
           15716.426530679693,
           16118.61499051088,
           16527.80686525327,
           16918.419874848456
          ],
          [
           172.2694270973628,
           7512.185047002167,
           10604.959854336668,
           12183.70700569052,
           13166.245974802083,
           13868.016175536264,
           14276.376787358517,
           14729.298700206142,
           15041.68687071509,
           15369.852116882386
          ],
          [
           140.01055925836238,
           7145.981591641579,
           9928.109129342163,
           11311.85744383189,
           12295.19291402622,
           12810.384263727792,
           13072.171365519802,
           13633.3077327183,
           13982.998957143454,
           14250.673105573282
          ],
          [
           124.1230995651881,
           6683.438297983271,
           9346.878295526425,
           10519.442785564928,
           11427.120005816083,
           12040.435508826718,
           12436.888241788452,
           12648.8731966507,
           13054.418479374548,
           13412.51294969166
          ],
          [
           119.04922521732959,
           6275.391736734054,
           8784.988609341752,
           10013.031046741104,
           10706.592889058897,
           11233.693602858404,
           11733.906606454204,
           12008.687889408007,
           12271.17176580891,
           12564.075845988331
          ],
          [
           107.34498220946155,
           6088.258444929535,
           8290.903490450752,
           9519.33307254886,
           10092.099203396525,
           10674.42769784388,
           10957.229179500882,
           11329.406174995858,
           11540.986425370182,
           11754.324927264212
          ],
          [
           101.34071494429514,
           5786.993175777322,
           7804.900312911726,
           8913.32607007403,
           9516.565700002155,
           10015.088619562108,
           10443.367073738043,
           10665.492969930534,
           10949.765679746388,
           11195.207107551762
          ],
          [
           97.13646219838556,
           5420.628553650809,
           7448.108257849157,
           8436.727905892514,
           9019.297465202524,
           9504.739264072265,
           9821.36222738198,
           10136.365418637564,
           10276.99201883187,
           10616.867410650648
          ],
          [
           89.24656784752739,
           5170.188625741343,
           6978.77754227267,
           7902.429592663716,
           8563.365666468277,
           8906.054428939628,
           9252.56835324811,
           9524.174846553786,
           9844.540413876546,
           10032.528162115072
          ],
          [
           82.10551742044231,
           4886.295584736689,
           6590.209408261515,
           7483.979425170468,
           8028.883912073653,
           8419.99941852615,
           8646.85486256531,
           8927.608813417995,
           9275.540360659332,
           9443.932371070629
          ],
          [
           71.62105124551442,
           4774.785669215932,
           6498.625380126128,
           7189.498112149504,
           7747.700747163023,
           8209.646451325572,
           8344.250567934469,
           8631.813939359616,
           8849.618337175494,
           9091.864638867832
          ],
          [
           72.45970842533798,
           4641.17097533678,
           6186.579276737597,
           7028.189988645413,
           7443.005312646434,
           7843.807700383252,
           8159.3280750849035,
           8414.57302292642,
           8486.397140777393,
           8782.257209398798
          ],
          [
           67.57934310975648,
           4416.071387812751,
           5894.517613361689,
           6640.22560572326,
           7009.932155856856,
           7507.953409639565,
           7734.598331742005,
           7898.385153860113,
           8165.677529056876,
           8258.56586108402
          ],
          [
           59.93201444266191,
           4177.610477128637,
           5417.98674756225,
           6319.779867902763,
           6673.969773899803,
           6941.0274100056,
           7311.632602680148,
           7516.479745402715,
           7659.646606516685,
           7888.712708709008
          ],
          [
           63.49974123516494,
           4024.9402409555832,
           5381.3131097986725,
           6093.654631228673,
           6352.8939748840385,
           6837.260954531514,
           6930.918049771147,
           7228.044865495139,
           7387.295930791025,
           7564.756007772538
          ],
          [
           56.16779731853484,
           3846.8202662253702,
           5022.443638626395,
           5873.00076295431,
           6193.762539086305,
           6431.264969152088,
           6733.600876251296,
           6969.523305581177,
           7069.880802066279,
           7293.277042168078
          ],
          [
           62.171947369535395,
           3706.140872576109,
           4994.726144676735,
           5660.978916090116,
           6036.335890926766,
           6238.968899384193,
           6496.375237103351,
           6792.1134137838235,
           6961.888867137373,
           7106.235820223247
          ],
          [
           52.70709513993343,
           3577.218397510699,
           4714.527655914994,
           5382.176690091072,
           5680.700596898441,
           6000.05136896166,
           6231.856847055712,
           6430.145258881868,
           6577.195709177363,
           6745.911014290816
          ],
          [
           49.37628168573534,
           3347.5274092091568,
           4340.152435279974,
           5051.123602103479,
           5406.368999271953,
           5542.708522226908,
           5805.292138436224,
           6057.91278052616,
           6207.743933022522,
           6452.2212162233845
          ],
          [
           44.972147225257906,
           3203.71843644042,
           4405.9710578198465,
           4932.776203159532,
           5287.207532892063,
           5508.630894492241,
           5832.035914463743,
           5977.056961739331,
           6091.71937045712,
           6226.130959643779
          ],
          [
           52.335976580660386,
           3186.547141405905,
           4301.70133649666,
           4815.835601392863,
           5185.869112502086,
           5412.076978844128,
           5648.329257442154,
           5820.428881731721,
           5977.334892073798,
           6122.445353590033
          ],
          [
           50.30228452882511,
           2923.0050563990326,
           4052.5093126596953,
           4553.4009135622155,
           4880.7240011532185,
           5107.302736794978,
           5277.667341777091,
           5478.450737084619,
           5662.6813652768315,
           5768.602045939839
          ],
          [
           49.60492504302338,
           2964.8287731155415,
           3970.702864134657,
           4455.247640905058,
           4839.592757020036,
           5023.229621163266,
           5235.601174356205,
           5380.936570637241,
           5537.341843513788,
           5743.156893831853
          ],
          [
           47.08209655209238,
           2730.5665595627793,
           3755.0749090997333,
           4131.400242375441,
           4537.657407963561,
           4721.082869068634,
           4969.45717004281,
           5124.734264046299,
           5243.876550193723,
           5432.169465427796
          ],
          [
           37.50231906201314,
           2652.8793044019662,
           3494.071215399775,
           4036.309143835111,
           4263.309180982686,
           4493.88814350429,
           4669.816307111208,
           4847.471678180455,
           5026.716933560877,
           5190.057365053221
          ],
          [
           39.48531536025686,
           2714.3345616174893,
           3523.321460645791,
           3999.2160634387355,
           4283.401961998406,
           4476.595661485952,
           4632.949480678127,
           4827.170898709934,
           4944.4874079872625,
           5167.682640547595
          ],
          [
           41.12768535534409,
           2554.8146702773633,
           3238.1123476017247,
           3866.341194675653,
           4084.0816541831,
           4238.61333585351,
           4495.554407985051,
           4662.142382149558,
           4772.811715659053,
           4963.375388355622
          ],
          [
           36.149291579177635,
           2479.3181619156335,
           3309.6872245864515,
           3784.1285553320495,
           3916.2233553087394,
           4218.418520878237,
           4379.212911812697,
           4550.616264029995,
           4663.388719914337,
           4817.851970037943
          ],
          [
           39.494590448865374,
           2373.536340091148,
           3200.9651225454077,
           3529.500803655118,
           3844.5856805658477,
           4024.779292504288,
           4192.61868156494,
           4343.876424383971,
           4510.40622954279,
           4683.373413409697
          ],
          [
           36.60775527787203,
           2354.89430024328,
           3078.26189110299,
           3515.2747521572815,
           3720.499959996716,
           3924.7823978333377,
           4040.390615710705,
           4216.054609082773,
           4331.502685868413,
           4541.136972638614
          ],
          [
           36.59918715481719,
           2214.509205243356,
           2987.9156984749375,
           3358.6556069791304,
           3654.1776654315713,
           3791.6341716485467,
           3971.731090857314,
           4056.5629176862008,
           4305.593284558133,
           4394.425276954428
          ],
          [
           32.703967826113626,
           2210.650617098599,
           2974.869806285286,
           3301.6070188931153,
           3471.8156340909063,
           3775.959165596541,
           3814.7582298581865,
           4007.921657216427,
           4186.168317711819,
           4286.722273915706
          ],
          [
           36.51172043677531,
           2165.6581100599146,
           2883.544321679137,
           3168.0209833285717,
           3445.1498450777517,
           3667.9671509385857,
           3772.206678869939,
           3843.1447462586398,
           3968.210909140449,
           4207.40060877534
          ],
          [
           30.466320116460235,
           2027.3477033522502,
           2642.028122217126,
           3115.0102560748983,
           3279.869262589917,
           3401.8544616501936,
           3578.6675164725843,
           3774.1202880094,
           3858.8459127849815,
           3999.762117345396
          ],
          [
           34.18314474919028,
           1961.3479314826818,
           2607.287637615325,
           2952.93458707824,
           3205.087271348278,
           3347.4379201191646,
           3571.985612193859,
           3673.9130076256215,
           3843.9832473867677,
           3938.3692535656223
          ],
          [
           30.120606786216854,
           1912.9524097529088,
           2559.0959518834907,
           2924.1761787678715,
           3016.41869359641,
           3274.662517219308,
           3379.4773635200963,
           3554.406042854903,
           3628.342050229992,
           3827.6716366158544
          ],
          [
           36.40202584107454,
           1845.875242659018,
           2491.2185857553322,
           2779.0354487816894,
           3059.6385044606677,
           3148.8729107353397,
           3298.7861005683203,
           3434.280824225747,
           3570.283321035676,
           3706.399357013467
          ],
          [
           29.48937407029966,
           1789.6329402872125,
           2448.9375565239643,
           2666.30666384771,
           2951.4917716347336,
           3089.3029081712243,
           3171.28215574573,
           3340.337407140275,
           3423.034464202496,
           3630.0429060876268
          ],
          [
           33.14683369009797,
           1759.3841614129888,
           2366.0552213106143,
           2676.8840095021415,
           2778.0267658426073,
           3010.7511077632234,
           3099.6510962488455,
           3272.545777104176,
           3349.004951340791,
           3489.5894442788485
          ],
          [
           32.295387525879946,
           1783.0198887624804,
           2325.745867981968,
           2599.972552258601,
           2755.0018512396146,
           2988.2721520395903,
           3129.1997864213185,
           3162.8811077222,
           3341.9591926936946,
           3453.0086484596004
          ],
          [
           27.758655585103398,
           1622.0667342705938,
           2224.2283618616766,
           2470.0183188163783,
           2678.783913065808,
           2801.0971883090183,
           2964.328478205927,
           3046.313616153934,
           3232.006229402523,
           3389.297515716631
          ],
          [
           31.31065433968086,
           1686.7831442149434,
           2217.9814429018043,
           2488.6659870341814,
           2643.673220319181,
           2827.0461735925837,
           2867.272063899185,
           3046.73432754666,
           3218.9341710546246,
           3335.081826664815
          ]
         ]
        },
        {
         "colorscale": [
          [
           0,
           "#00224e"
          ],
          [
           0.1111111111111111,
           "#123570"
          ],
          [
           0.2222222222222222,
           "#3b496c"
          ],
          [
           0.3333333333333333,
           "#575d6d"
          ],
          [
           0.4444444444444444,
           "#707173"
          ],
          [
           0.5555555555555556,
           "#8a8678"
          ],
          [
           0.6666666666666666,
           "#a59c74"
          ],
          [
           0.7777777777777778,
           "#c3b369"
          ],
          [
           0.8888888888888888,
           "#e1cc55"
          ],
          [
           1,
           "#fee838"
          ]
         ],
         "name": "Quantile 99",
         "showscale": false,
         "type": "surface",
         "x": [
          [
           1,
           1,
           1,
           1,
           1,
           1,
           1,
           1,
           1,
           1
          ],
          [
           2,
           2,
           2,
           2,
           2,
           2,
           2,
           2,
           2,
           2
          ],
          [
           3,
           3,
           3,
           3,
           3,
           3,
           3,
           3,
           3,
           3
          ],
          [
           4,
           4,
           4,
           4,
           4,
           4,
           4,
           4,
           4,
           4
          ],
          [
           5,
           5,
           5,
           5,
           5,
           5,
           5,
           5,
           5,
           5
          ],
          [
           6,
           6,
           6,
           6,
           6,
           6,
           6,
           6,
           6,
           6
          ],
          [
           7,
           7,
           7,
           7,
           7,
           7,
           7,
           7,
           7,
           7
          ],
          [
           8,
           8,
           8,
           8,
           8,
           8,
           8,
           8,
           8,
           8
          ],
          [
           9,
           9,
           9,
           9,
           9,
           9,
           9,
           9,
           9,
           9
          ],
          [
           10,
           10,
           10,
           10,
           10,
           10,
           10,
           10,
           10,
           10
          ],
          [
           11,
           11,
           11,
           11,
           11,
           11,
           11,
           11,
           11,
           11
          ],
          [
           12,
           12,
           12,
           12,
           12,
           12,
           12,
           12,
           12,
           12
          ],
          [
           13,
           13,
           13,
           13,
           13,
           13,
           13,
           13,
           13,
           13
          ],
          [
           14,
           14,
           14,
           14,
           14,
           14,
           14,
           14,
           14,
           14
          ],
          [
           15,
           15,
           15,
           15,
           15,
           15,
           15,
           15,
           15,
           15
          ],
          [
           16,
           16,
           16,
           16,
           16,
           16,
           16,
           16,
           16,
           16
          ],
          [
           17,
           17,
           17,
           17,
           17,
           17,
           17,
           17,
           17,
           17
          ],
          [
           18,
           18,
           18,
           18,
           18,
           18,
           18,
           18,
           18,
           18
          ],
          [
           19,
           19,
           19,
           19,
           19,
           19,
           19,
           19,
           19,
           19
          ],
          [
           20,
           20,
           20,
           20,
           20,
           20,
           20,
           20,
           20,
           20
          ],
          [
           21,
           21,
           21,
           21,
           21,
           21,
           21,
           21,
           21,
           21
          ],
          [
           22,
           22,
           22,
           22,
           22,
           22,
           22,
           22,
           22,
           22
          ],
          [
           23,
           23,
           23,
           23,
           23,
           23,
           23,
           23,
           23,
           23
          ],
          [
           24,
           24,
           24,
           24,
           24,
           24,
           24,
           24,
           24,
           24
          ],
          [
           25,
           25,
           25,
           25,
           25,
           25,
           25,
           25,
           25,
           25
          ],
          [
           26,
           26,
           26,
           26,
           26,
           26,
           26,
           26,
           26,
           26
          ],
          [
           27,
           27,
           27,
           27,
           27,
           27,
           27,
           27,
           27,
           27
          ],
          [
           28,
           28,
           28,
           28,
           28,
           28,
           28,
           28,
           28,
           28
          ],
          [
           29,
           29,
           29,
           29,
           29,
           29,
           29,
           29,
           29,
           29
          ],
          [
           30,
           30,
           30,
           30,
           30,
           30,
           30,
           30,
           30,
           30
          ],
          [
           31,
           31,
           31,
           31,
           31,
           31,
           31,
           31,
           31,
           31
          ],
          [
           32,
           32,
           32,
           32,
           32,
           32,
           32,
           32,
           32,
           32
          ],
          [
           33,
           33,
           33,
           33,
           33,
           33,
           33,
           33,
           33,
           33
          ],
          [
           34,
           34,
           34,
           34,
           34,
           34,
           34,
           34,
           34,
           34
          ],
          [
           35,
           35,
           35,
           35,
           35,
           35,
           35,
           35,
           35,
           35
          ],
          [
           36,
           36,
           36,
           36,
           36,
           36,
           36,
           36,
           36,
           36
          ],
          [
           37,
           37,
           37,
           37,
           37,
           37,
           37,
           37,
           37,
           37
          ],
          [
           38,
           38,
           38,
           38,
           38,
           38,
           38,
           38,
           38,
           38
          ],
          [
           39,
           39,
           39,
           39,
           39,
           39,
           39,
           39,
           39,
           39
          ],
          [
           40,
           40,
           40,
           40,
           40,
           40,
           40,
           40,
           40,
           40
          ],
          [
           41,
           41,
           41,
           41,
           41,
           41,
           41,
           41,
           41,
           41
          ],
          [
           42,
           42,
           42,
           42,
           42,
           42,
           42,
           42,
           42,
           42
          ],
          [
           43,
           43,
           43,
           43,
           43,
           43,
           43,
           43,
           43,
           43
          ],
          [
           44,
           44,
           44,
           44,
           44,
           44,
           44,
           44,
           44,
           44
          ],
          [
           45,
           45,
           45,
           45,
           45,
           45,
           45,
           45,
           45,
           45
          ],
          [
           46,
           46,
           46,
           46,
           46,
           46,
           46,
           46,
           46,
           46
          ],
          [
           47,
           47,
           47,
           47,
           47,
           47,
           47,
           47,
           47,
           47
          ],
          [
           48,
           48,
           48,
           48,
           48,
           48,
           48,
           48,
           48,
           48
          ],
          [
           49,
           49,
           49,
           49,
           49,
           49,
           49,
           49,
           49,
           49
          ],
          [
           50,
           50,
           50,
           50,
           50,
           50,
           50,
           50,
           50,
           50
          ]
         ],
         "y": [
          [
           1,
           2,
           3,
           4,
           5,
           6,
           7,
           8,
           9,
           10
          ],
          [
           1,
           2,
           3,
           4,
           5,
           6,
           7,
           8,
           9,
           10
          ],
          [
           1,
           2,
           3,
           4,
           5,
           6,
           7,
           8,
           9,
           10
          ],
          [
           1,
           2,
           3,
           4,
           5,
           6,
           7,
           8,
           9,
           10
          ],
          [
           1,
           2,
           3,
           4,
           5,
           6,
           7,
           8,
           9,
           10
          ],
          [
           1,
           2,
           3,
           4,
           5,
           6,
           7,
           8,
           9,
           10
          ],
          [
           1,
           2,
           3,
           4,
           5,
           6,
           7,
           8,
           9,
           10
          ],
          [
           1,
           2,
           3,
           4,
           5,
           6,
           7,
           8,
           9,
           10
          ],
          [
           1,
           2,
           3,
           4,
           5,
           6,
           7,
           8,
           9,
           10
          ],
          [
           1,
           2,
           3,
           4,
           5,
           6,
           7,
           8,
           9,
           10
          ],
          [
           1,
           2,
           3,
           4,
           5,
           6,
           7,
           8,
           9,
           10
          ],
          [
           1,
           2,
           3,
           4,
           5,
           6,
           7,
           8,
           9,
           10
          ],
          [
           1,
           2,
           3,
           4,
           5,
           6,
           7,
           8,
           9,
           10
          ],
          [
           1,
           2,
           3,
           4,
           5,
           6,
           7,
           8,
           9,
           10
          ],
          [
           1,
           2,
           3,
           4,
           5,
           6,
           7,
           8,
           9,
           10
          ],
          [
           1,
           2,
           3,
           4,
           5,
           6,
           7,
           8,
           9,
           10
          ],
          [
           1,
           2,
           3,
           4,
           5,
           6,
           7,
           8,
           9,
           10
          ],
          [
           1,
           2,
           3,
           4,
           5,
           6,
           7,
           8,
           9,
           10
          ],
          [
           1,
           2,
           3,
           4,
           5,
           6,
           7,
           8,
           9,
           10
          ],
          [
           1,
           2,
           3,
           4,
           5,
           6,
           7,
           8,
           9,
           10
          ],
          [
           1,
           2,
           3,
           4,
           5,
           6,
           7,
           8,
           9,
           10
          ],
          [
           1,
           2,
           3,
           4,
           5,
           6,
           7,
           8,
           9,
           10
          ],
          [
           1,
           2,
           3,
           4,
           5,
           6,
           7,
           8,
           9,
           10
          ],
          [
           1,
           2,
           3,
           4,
           5,
           6,
           7,
           8,
           9,
           10
          ],
          [
           1,
           2,
           3,
           4,
           5,
           6,
           7,
           8,
           9,
           10
          ],
          [
           1,
           2,
           3,
           4,
           5,
           6,
           7,
           8,
           9,
           10
          ],
          [
           1,
           2,
           3,
           4,
           5,
           6,
           7,
           8,
           9,
           10
          ],
          [
           1,
           2,
           3,
           4,
           5,
           6,
           7,
           8,
           9,
           10
          ],
          [
           1,
           2,
           3,
           4,
           5,
           6,
           7,
           8,
           9,
           10
          ],
          [
           1,
           2,
           3,
           4,
           5,
           6,
           7,
           8,
           9,
           10
          ],
          [
           1,
           2,
           3,
           4,
           5,
           6,
           7,
           8,
           9,
           10
          ],
          [
           1,
           2,
           3,
           4,
           5,
           6,
           7,
           8,
           9,
           10
          ],
          [
           1,
           2,
           3,
           4,
           5,
           6,
           7,
           8,
           9,
           10
          ],
          [
           1,
           2,
           3,
           4,
           5,
           6,
           7,
           8,
           9,
           10
          ],
          [
           1,
           2,
           3,
           4,
           5,
           6,
           7,
           8,
           9,
           10
          ],
          [
           1,
           2,
           3,
           4,
           5,
           6,
           7,
           8,
           9,
           10
          ],
          [
           1,
           2,
           3,
           4,
           5,
           6,
           7,
           8,
           9,
           10
          ],
          [
           1,
           2,
           3,
           4,
           5,
           6,
           7,
           8,
           9,
           10
          ],
          [
           1,
           2,
           3,
           4,
           5,
           6,
           7,
           8,
           9,
           10
          ],
          [
           1,
           2,
           3,
           4,
           5,
           6,
           7,
           8,
           9,
           10
          ],
          [
           1,
           2,
           3,
           4,
           5,
           6,
           7,
           8,
           9,
           10
          ],
          [
           1,
           2,
           3,
           4,
           5,
           6,
           7,
           8,
           9,
           10
          ],
          [
           1,
           2,
           3,
           4,
           5,
           6,
           7,
           8,
           9,
           10
          ],
          [
           1,
           2,
           3,
           4,
           5,
           6,
           7,
           8,
           9,
           10
          ],
          [
           1,
           2,
           3,
           4,
           5,
           6,
           7,
           8,
           9,
           10
          ],
          [
           1,
           2,
           3,
           4,
           5,
           6,
           7,
           8,
           9,
           10
          ],
          [
           1,
           2,
           3,
           4,
           5,
           6,
           7,
           8,
           9,
           10
          ],
          [
           1,
           2,
           3,
           4,
           5,
           6,
           7,
           8,
           9,
           10
          ],
          [
           1,
           2,
           3,
           4,
           5,
           6,
           7,
           8,
           9,
           10
          ],
          [
           1,
           2,
           3,
           4,
           5,
           6,
           7,
           8,
           9,
           10
          ]
         ],
         "z": [
          [
           6.6348966010212145,
           11.344866730144373,
           18.475306906582357,
           30.57791416689249,
           52.19139483319193,
           92.01002361413214,
           166.98739013667387,
           310.45738821990585,
           588.2977941452372,
           1131.158738963494
          ],
          [
           6.6348966010212145,
           11.344866730144373,
           18.475306906582357,
           30.57791416689249,
           52.19139483319193,
           92.01002361413214,
           166.98739013667387,
           310.45738821990585,
           588.2977941452372,
           1131.158738963494
          ],
          [
           6.6348966010212145,
           11.344866730144373,
           18.475306906582357,
           30.57791416689249,
           52.19139483319193,
           92.01002361413214,
           166.98739013667387,
           310.45738821990585,
           588.2977941452372,
           1131.158738963494
          ],
          [
           6.6348966010212145,
           11.344866730144373,
           18.475306906582357,
           30.57791416689249,
           52.19139483319193,
           92.01002361413214,
           166.98739013667387,
           310.45738821990585,
           588.2977941452372,
           1131.158738963494
          ],
          [
           6.6348966010212145,
           11.344866730144373,
           18.475306906582357,
           30.57791416689249,
           52.19139483319193,
           92.01002361413214,
           166.98739013667387,
           310.45738821990585,
           588.2977941452372,
           1131.158738963494
          ],
          [
           6.6348966010212145,
           11.344866730144373,
           18.475306906582357,
           30.57791416689249,
           52.19139483319193,
           92.01002361413214,
           166.98739013667387,
           310.45738821990585,
           588.2977941452372,
           1131.158738963494
          ],
          [
           6.6348966010212145,
           11.344866730144373,
           18.475306906582357,
           30.57791416689249,
           52.19139483319193,
           92.01002361413214,
           166.98739013667387,
           310.45738821990585,
           588.2977941452372,
           1131.158738963494
          ],
          [
           6.6348966010212145,
           11.344866730144373,
           18.475306906582357,
           30.57791416689249,
           52.19139483319193,
           92.01002361413214,
           166.98739013667387,
           310.45738821990585,
           588.2977941452372,
           1131.158738963494
          ],
          [
           6.6348966010212145,
           11.344866730144373,
           18.475306906582357,
           30.57791416689249,
           52.19139483319193,
           92.01002361413214,
           166.98739013667387,
           310.45738821990585,
           588.2977941452372,
           1131.158738963494
          ],
          [
           6.6348966010212145,
           11.344866730144373,
           18.475306906582357,
           30.57791416689249,
           52.19139483319193,
           92.01002361413214,
           166.98739013667387,
           310.45738821990585,
           588.2977941452372,
           1131.158738963494
          ],
          [
           6.6348966010212145,
           11.344866730144373,
           18.475306906582357,
           30.57791416689249,
           52.19139483319193,
           92.01002361413214,
           166.98739013667387,
           310.45738821990585,
           588.2977941452372,
           1131.158738963494
          ],
          [
           6.6348966010212145,
           11.344866730144373,
           18.475306906582357,
           30.57791416689249,
           52.19139483319193,
           92.01002361413214,
           166.98739013667387,
           310.45738821990585,
           588.2977941452372,
           1131.158738963494
          ],
          [
           6.6348966010212145,
           11.344866730144373,
           18.475306906582357,
           30.57791416689249,
           52.19139483319193,
           92.01002361413214,
           166.98739013667387,
           310.45738821990585,
           588.2977941452372,
           1131.158738963494
          ],
          [
           6.6348966010212145,
           11.344866730144373,
           18.475306906582357,
           30.57791416689249,
           52.19139483319193,
           92.01002361413214,
           166.98739013667387,
           310.45738821990585,
           588.2977941452372,
           1131.158738963494
          ],
          [
           6.6348966010212145,
           11.344866730144373,
           18.475306906582357,
           30.57791416689249,
           52.19139483319193,
           92.01002361413214,
           166.98739013667387,
           310.45738821990585,
           588.2977941452372,
           1131.158738963494
          ],
          [
           6.6348966010212145,
           11.344866730144373,
           18.475306906582357,
           30.57791416689249,
           52.19139483319193,
           92.01002361413214,
           166.98739013667387,
           310.45738821990585,
           588.2977941452372,
           1131.158738963494
          ],
          [
           6.6348966010212145,
           11.344866730144373,
           18.475306906582357,
           30.57791416689249,
           52.19139483319193,
           92.01002361413214,
           166.98739013667387,
           310.45738821990585,
           588.2977941452372,
           1131.158738963494
          ],
          [
           6.6348966010212145,
           11.344866730144373,
           18.475306906582357,
           30.57791416689249,
           52.19139483319193,
           92.01002361413214,
           166.98739013667387,
           310.45738821990585,
           588.2977941452372,
           1131.158738963494
          ],
          [
           6.6348966010212145,
           11.344866730144373,
           18.475306906582357,
           30.57791416689249,
           52.19139483319193,
           92.01002361413214,
           166.98739013667387,
           310.45738821990585,
           588.2977941452372,
           1131.158738963494
          ],
          [
           6.6348966010212145,
           11.344866730144373,
           18.475306906582357,
           30.57791416689249,
           52.19139483319193,
           92.01002361413214,
           166.98739013667387,
           310.45738821990585,
           588.2977941452372,
           1131.158738963494
          ],
          [
           6.6348966010212145,
           11.344866730144373,
           18.475306906582357,
           30.57791416689249,
           52.19139483319193,
           92.01002361413214,
           166.98739013667387,
           310.45738821990585,
           588.2977941452372,
           1131.158738963494
          ],
          [
           6.6348966010212145,
           11.344866730144373,
           18.475306906582357,
           30.57791416689249,
           52.19139483319193,
           92.01002361413214,
           166.98739013667387,
           310.45738821990585,
           588.2977941452372,
           1131.158738963494
          ],
          [
           6.6348966010212145,
           11.344866730144373,
           18.475306906582357,
           30.57791416689249,
           52.19139483319193,
           92.01002361413214,
           166.98739013667387,
           310.45738821990585,
           588.2977941452372,
           1131.158738963494
          ],
          [
           6.6348966010212145,
           11.344866730144373,
           18.475306906582357,
           30.57791416689249,
           52.19139483319193,
           92.01002361413214,
           166.98739013667387,
           310.45738821990585,
           588.2977941452372,
           1131.158738963494
          ],
          [
           6.6348966010212145,
           11.344866730144373,
           18.475306906582357,
           30.57791416689249,
           52.19139483319193,
           92.01002361413214,
           166.98739013667387,
           310.45738821990585,
           588.2977941452372,
           1131.158738963494
          ],
          [
           6.6348966010212145,
           11.344866730144373,
           18.475306906582357,
           30.57791416689249,
           52.19139483319193,
           92.01002361413214,
           166.98739013667387,
           310.45738821990585,
           588.2977941452372,
           1131.158738963494
          ],
          [
           6.6348966010212145,
           11.344866730144373,
           18.475306906582357,
           30.57791416689249,
           52.19139483319193,
           92.01002361413214,
           166.98739013667387,
           310.45738821990585,
           588.2977941452372,
           1131.158738963494
          ],
          [
           6.6348966010212145,
           11.344866730144373,
           18.475306906582357,
           30.57791416689249,
           52.19139483319193,
           92.01002361413214,
           166.98739013667387,
           310.45738821990585,
           588.2977941452372,
           1131.158738963494
          ],
          [
           6.6348966010212145,
           11.344866730144373,
           18.475306906582357,
           30.57791416689249,
           52.19139483319193,
           92.01002361413214,
           166.98739013667387,
           310.45738821990585,
           588.2977941452372,
           1131.158738963494
          ],
          [
           6.6348966010212145,
           11.344866730144373,
           18.475306906582357,
           30.57791416689249,
           52.19139483319193,
           92.01002361413214,
           166.98739013667387,
           310.45738821990585,
           588.2977941452372,
           1131.158738963494
          ],
          [
           6.6348966010212145,
           11.344866730144373,
           18.475306906582357,
           30.57791416689249,
           52.19139483319193,
           92.01002361413214,
           166.98739013667387,
           310.45738821990585,
           588.2977941452372,
           1131.158738963494
          ],
          [
           6.6348966010212145,
           11.344866730144373,
           18.475306906582357,
           30.57791416689249,
           52.19139483319193,
           92.01002361413214,
           166.98739013667387,
           310.45738821990585,
           588.2977941452372,
           1131.158738963494
          ],
          [
           6.6348966010212145,
           11.344866730144373,
           18.475306906582357,
           30.57791416689249,
           52.19139483319193,
           92.01002361413214,
           166.98739013667387,
           310.45738821990585,
           588.2977941452372,
           1131.158738963494
          ],
          [
           6.6348966010212145,
           11.344866730144373,
           18.475306906582357,
           30.57791416689249,
           52.19139483319193,
           92.01002361413214,
           166.98739013667387,
           310.45738821990585,
           588.2977941452372,
           1131.158738963494
          ],
          [
           6.6348966010212145,
           11.344866730144373,
           18.475306906582357,
           30.57791416689249,
           52.19139483319193,
           92.01002361413214,
           166.98739013667387,
           310.45738821990585,
           588.2977941452372,
           1131.158738963494
          ],
          [
           6.6348966010212145,
           11.344866730144373,
           18.475306906582357,
           30.57791416689249,
           52.19139483319193,
           92.01002361413214,
           166.98739013667387,
           310.45738821990585,
           588.2977941452372,
           1131.158738963494
          ],
          [
           6.6348966010212145,
           11.344866730144373,
           18.475306906582357,
           30.57791416689249,
           52.19139483319193,
           92.01002361413214,
           166.98739013667387,
           310.45738821990585,
           588.2977941452372,
           1131.158738963494
          ],
          [
           6.6348966010212145,
           11.344866730144373,
           18.475306906582357,
           30.57791416689249,
           52.19139483319193,
           92.01002361413214,
           166.98739013667387,
           310.45738821990585,
           588.2977941452372,
           1131.158738963494
          ],
          [
           6.6348966010212145,
           11.344866730144373,
           18.475306906582357,
           30.57791416689249,
           52.19139483319193,
           92.01002361413214,
           166.98739013667387,
           310.45738821990585,
           588.2977941452372,
           1131.158738963494
          ],
          [
           6.6348966010212145,
           11.344866730144373,
           18.475306906582357,
           30.57791416689249,
           52.19139483319193,
           92.01002361413214,
           166.98739013667387,
           310.45738821990585,
           588.2977941452372,
           1131.158738963494
          ],
          [
           6.6348966010212145,
           11.344866730144373,
           18.475306906582357,
           30.57791416689249,
           52.19139483319193,
           92.01002361413214,
           166.98739013667387,
           310.45738821990585,
           588.2977941452372,
           1131.158738963494
          ],
          [
           6.6348966010212145,
           11.344866730144373,
           18.475306906582357,
           30.57791416689249,
           52.19139483319193,
           92.01002361413214,
           166.98739013667387,
           310.45738821990585,
           588.2977941452372,
           1131.158738963494
          ],
          [
           6.6348966010212145,
           11.344866730144373,
           18.475306906582357,
           30.57791416689249,
           52.19139483319193,
           92.01002361413214,
           166.98739013667387,
           310.45738821990585,
           588.2977941452372,
           1131.158738963494
          ],
          [
           6.6348966010212145,
           11.344866730144373,
           18.475306906582357,
           30.57791416689249,
           52.19139483319193,
           92.01002361413214,
           166.98739013667387,
           310.45738821990585,
           588.2977941452372,
           1131.158738963494
          ],
          [
           6.6348966010212145,
           11.344866730144373,
           18.475306906582357,
           30.57791416689249,
           52.19139483319193,
           92.01002361413214,
           166.98739013667387,
           310.45738821990585,
           588.2977941452372,
           1131.158738963494
          ],
          [
           6.6348966010212145,
           11.344866730144373,
           18.475306906582357,
           30.57791416689249,
           52.19139483319193,
           92.01002361413214,
           166.98739013667387,
           310.45738821990585,
           588.2977941452372,
           1131.158738963494
          ],
          [
           6.6348966010212145,
           11.344866730144373,
           18.475306906582357,
           30.57791416689249,
           52.19139483319193,
           92.01002361413214,
           166.98739013667387,
           310.45738821990585,
           588.2977941452372,
           1131.158738963494
          ],
          [
           6.6348966010212145,
           11.344866730144373,
           18.475306906582357,
           30.57791416689249,
           52.19139483319193,
           92.01002361413214,
           166.98739013667387,
           310.45738821990585,
           588.2977941452372,
           1131.158738963494
          ],
          [
           6.6348966010212145,
           11.344866730144373,
           18.475306906582357,
           30.57791416689249,
           52.19139483319193,
           92.01002361413214,
           166.98739013667387,
           310.45738821990585,
           588.2977941452372,
           1131.158738963494
          ],
          [
           6.6348966010212145,
           11.344866730144373,
           18.475306906582357,
           30.57791416689249,
           52.19139483319193,
           92.01002361413214,
           166.98739013667387,
           310.45738821990585,
           588.2977941452372,
           1131.158738963494
          ]
         ]
        }
       ],
       "layout": {
        "height": 700,
        "scene": {
         "xaxis": {
          "title": {
           "text": "Aggregation Level"
          }
         },
         "yaxis": {
          "title": {
           "text": "Block Size"
          }
         },
         "zaxis": {
          "title": {
           "text": "Entropy Bias"
          }
         }
        },
        "template": {
         "data": {
          "bar": [
           {
            "error_x": {
             "color": "#2a3f5f"
            },
            "error_y": {
             "color": "#2a3f5f"
            },
            "marker": {
             "line": {
              "color": "#E5ECF6",
              "width": 0.5
             },
             "pattern": {
              "fillmode": "overlay",
              "size": 10,
              "solidity": 0.2
             }
            },
            "type": "bar"
           }
          ],
          "barpolar": [
           {
            "marker": {
             "line": {
              "color": "#E5ECF6",
              "width": 0.5
             },
             "pattern": {
              "fillmode": "overlay",
              "size": 10,
              "solidity": 0.2
             }
            },
            "type": "barpolar"
           }
          ],
          "carpet": [
           {
            "aaxis": {
             "endlinecolor": "#2a3f5f",
             "gridcolor": "white",
             "linecolor": "white",
             "minorgridcolor": "white",
             "startlinecolor": "#2a3f5f"
            },
            "baxis": {
             "endlinecolor": "#2a3f5f",
             "gridcolor": "white",
             "linecolor": "white",
             "minorgridcolor": "white",
             "startlinecolor": "#2a3f5f"
            },
            "type": "carpet"
           }
          ],
          "choropleth": [
           {
            "colorbar": {
             "outlinewidth": 0,
             "ticks": ""
            },
            "type": "choropleth"
           }
          ],
          "contour": [
           {
            "colorbar": {
             "outlinewidth": 0,
             "ticks": ""
            },
            "colorscale": [
             [
              0,
              "#0d0887"
             ],
             [
              0.1111111111111111,
              "#46039f"
             ],
             [
              0.2222222222222222,
              "#7201a8"
             ],
             [
              0.3333333333333333,
              "#9c179e"
             ],
             [
              0.4444444444444444,
              "#bd3786"
             ],
             [
              0.5555555555555556,
              "#d8576b"
             ],
             [
              0.6666666666666666,
              "#ed7953"
             ],
             [
              0.7777777777777778,
              "#fb9f3a"
             ],
             [
              0.8888888888888888,
              "#fdca26"
             ],
             [
              1,
              "#f0f921"
             ]
            ],
            "type": "contour"
           }
          ],
          "contourcarpet": [
           {
            "colorbar": {
             "outlinewidth": 0,
             "ticks": ""
            },
            "type": "contourcarpet"
           }
          ],
          "heatmap": [
           {
            "colorbar": {
             "outlinewidth": 0,
             "ticks": ""
            },
            "colorscale": [
             [
              0,
              "#0d0887"
             ],
             [
              0.1111111111111111,
              "#46039f"
             ],
             [
              0.2222222222222222,
              "#7201a8"
             ],
             [
              0.3333333333333333,
              "#9c179e"
             ],
             [
              0.4444444444444444,
              "#bd3786"
             ],
             [
              0.5555555555555556,
              "#d8576b"
             ],
             [
              0.6666666666666666,
              "#ed7953"
             ],
             [
              0.7777777777777778,
              "#fb9f3a"
             ],
             [
              0.8888888888888888,
              "#fdca26"
             ],
             [
              1,
              "#f0f921"
             ]
            ],
            "type": "heatmap"
           }
          ],
          "heatmapgl": [
           {
            "colorbar": {
             "outlinewidth": 0,
             "ticks": ""
            },
            "colorscale": [
             [
              0,
              "#0d0887"
             ],
             [
              0.1111111111111111,
              "#46039f"
             ],
             [
              0.2222222222222222,
              "#7201a8"
             ],
             [
              0.3333333333333333,
              "#9c179e"
             ],
             [
              0.4444444444444444,
              "#bd3786"
             ],
             [
              0.5555555555555556,
              "#d8576b"
             ],
             [
              0.6666666666666666,
              "#ed7953"
             ],
             [
              0.7777777777777778,
              "#fb9f3a"
             ],
             [
              0.8888888888888888,
              "#fdca26"
             ],
             [
              1,
              "#f0f921"
             ]
            ],
            "type": "heatmapgl"
           }
          ],
          "histogram": [
           {
            "marker": {
             "pattern": {
              "fillmode": "overlay",
              "size": 10,
              "solidity": 0.2
             }
            },
            "type": "histogram"
           }
          ],
          "histogram2d": [
           {
            "colorbar": {
             "outlinewidth": 0,
             "ticks": ""
            },
            "colorscale": [
             [
              0,
              "#0d0887"
             ],
             [
              0.1111111111111111,
              "#46039f"
             ],
             [
              0.2222222222222222,
              "#7201a8"
             ],
             [
              0.3333333333333333,
              "#9c179e"
             ],
             [
              0.4444444444444444,
              "#bd3786"
             ],
             [
              0.5555555555555556,
              "#d8576b"
             ],
             [
              0.6666666666666666,
              "#ed7953"
             ],
             [
              0.7777777777777778,
              "#fb9f3a"
             ],
             [
              0.8888888888888888,
              "#fdca26"
             ],
             [
              1,
              "#f0f921"
             ]
            ],
            "type": "histogram2d"
           }
          ],
          "histogram2dcontour": [
           {
            "colorbar": {
             "outlinewidth": 0,
             "ticks": ""
            },
            "colorscale": [
             [
              0,
              "#0d0887"
             ],
             [
              0.1111111111111111,
              "#46039f"
             ],
             [
              0.2222222222222222,
              "#7201a8"
             ],
             [
              0.3333333333333333,
              "#9c179e"
             ],
             [
              0.4444444444444444,
              "#bd3786"
             ],
             [
              0.5555555555555556,
              "#d8576b"
             ],
             [
              0.6666666666666666,
              "#ed7953"
             ],
             [
              0.7777777777777778,
              "#fb9f3a"
             ],
             [
              0.8888888888888888,
              "#fdca26"
             ],
             [
              1,
              "#f0f921"
             ]
            ],
            "type": "histogram2dcontour"
           }
          ],
          "mesh3d": [
           {
            "colorbar": {
             "outlinewidth": 0,
             "ticks": ""
            },
            "type": "mesh3d"
           }
          ],
          "parcoords": [
           {
            "line": {
             "colorbar": {
              "outlinewidth": 0,
              "ticks": ""
             }
            },
            "type": "parcoords"
           }
          ],
          "pie": [
           {
            "automargin": true,
            "type": "pie"
           }
          ],
          "scatter": [
           {
            "fillpattern": {
             "fillmode": "overlay",
             "size": 10,
             "solidity": 0.2
            },
            "type": "scatter"
           }
          ],
          "scatter3d": [
           {
            "line": {
             "colorbar": {
              "outlinewidth": 0,
              "ticks": ""
             }
            },
            "marker": {
             "colorbar": {
              "outlinewidth": 0,
              "ticks": ""
             }
            },
            "type": "scatter3d"
           }
          ],
          "scattercarpet": [
           {
            "marker": {
             "colorbar": {
              "outlinewidth": 0,
              "ticks": ""
             }
            },
            "type": "scattercarpet"
           }
          ],
          "scattergeo": [
           {
            "marker": {
             "colorbar": {
              "outlinewidth": 0,
              "ticks": ""
             }
            },
            "type": "scattergeo"
           }
          ],
          "scattergl": [
           {
            "marker": {
             "colorbar": {
              "outlinewidth": 0,
              "ticks": ""
             }
            },
            "type": "scattergl"
           }
          ],
          "scattermapbox": [
           {
            "marker": {
             "colorbar": {
              "outlinewidth": 0,
              "ticks": ""
             }
            },
            "type": "scattermapbox"
           }
          ],
          "scatterpolar": [
           {
            "marker": {
             "colorbar": {
              "outlinewidth": 0,
              "ticks": ""
             }
            },
            "type": "scatterpolar"
           }
          ],
          "scatterpolargl": [
           {
            "marker": {
             "colorbar": {
              "outlinewidth": 0,
              "ticks": ""
             }
            },
            "type": "scatterpolargl"
           }
          ],
          "scatterternary": [
           {
            "marker": {
             "colorbar": {
              "outlinewidth": 0,
              "ticks": ""
             }
            },
            "type": "scatterternary"
           }
          ],
          "surface": [
           {
            "colorbar": {
             "outlinewidth": 0,
             "ticks": ""
            },
            "colorscale": [
             [
              0,
              "#0d0887"
             ],
             [
              0.1111111111111111,
              "#46039f"
             ],
             [
              0.2222222222222222,
              "#7201a8"
             ],
             [
              0.3333333333333333,
              "#9c179e"
             ],
             [
              0.4444444444444444,
              "#bd3786"
             ],
             [
              0.5555555555555556,
              "#d8576b"
             ],
             [
              0.6666666666666666,
              "#ed7953"
             ],
             [
              0.7777777777777778,
              "#fb9f3a"
             ],
             [
              0.8888888888888888,
              "#fdca26"
             ],
             [
              1,
              "#f0f921"
             ]
            ],
            "type": "surface"
           }
          ],
          "table": [
           {
            "cells": {
             "fill": {
              "color": "#EBF0F8"
             },
             "line": {
              "color": "white"
             }
            },
            "header": {
             "fill": {
              "color": "#C8D4E3"
             },
             "line": {
              "color": "white"
             }
            },
            "type": "table"
           }
          ]
         },
         "layout": {
          "annotationdefaults": {
           "arrowcolor": "#2a3f5f",
           "arrowhead": 0,
           "arrowwidth": 1
          },
          "autotypenumbers": "strict",
          "coloraxis": {
           "colorbar": {
            "outlinewidth": 0,
            "ticks": ""
           }
          },
          "colorscale": {
           "diverging": [
            [
             0,
             "#8e0152"
            ],
            [
             0.1,
             "#c51b7d"
            ],
            [
             0.2,
             "#de77ae"
            ],
            [
             0.3,
             "#f1b6da"
            ],
            [
             0.4,
             "#fde0ef"
            ],
            [
             0.5,
             "#f7f7f7"
            ],
            [
             0.6,
             "#e6f5d0"
            ],
            [
             0.7,
             "#b8e186"
            ],
            [
             0.8,
             "#7fbc41"
            ],
            [
             0.9,
             "#4d9221"
            ],
            [
             1,
             "#276419"
            ]
           ],
           "sequential": [
            [
             0,
             "#0d0887"
            ],
            [
             0.1111111111111111,
             "#46039f"
            ],
            [
             0.2222222222222222,
             "#7201a8"
            ],
            [
             0.3333333333333333,
             "#9c179e"
            ],
            [
             0.4444444444444444,
             "#bd3786"
            ],
            [
             0.5555555555555556,
             "#d8576b"
            ],
            [
             0.6666666666666666,
             "#ed7953"
            ],
            [
             0.7777777777777778,
             "#fb9f3a"
            ],
            [
             0.8888888888888888,
             "#fdca26"
            ],
            [
             1,
             "#f0f921"
            ]
           ],
           "sequentialminus": [
            [
             0,
             "#0d0887"
            ],
            [
             0.1111111111111111,
             "#46039f"
            ],
            [
             0.2222222222222222,
             "#7201a8"
            ],
            [
             0.3333333333333333,
             "#9c179e"
            ],
            [
             0.4444444444444444,
             "#bd3786"
            ],
            [
             0.5555555555555556,
             "#d8576b"
            ],
            [
             0.6666666666666666,
             "#ed7953"
            ],
            [
             0.7777777777777778,
             "#fb9f3a"
            ],
            [
             0.8888888888888888,
             "#fdca26"
            ],
            [
             1,
             "#f0f921"
            ]
           ]
          },
          "colorway": [
           "#636efa",
           "#EF553B",
           "#00cc96",
           "#ab63fa",
           "#FFA15A",
           "#19d3f3",
           "#FF6692",
           "#B6E880",
           "#FF97FF",
           "#FECB52"
          ],
          "font": {
           "color": "#2a3f5f"
          },
          "geo": {
           "bgcolor": "white",
           "lakecolor": "white",
           "landcolor": "#E5ECF6",
           "showlakes": true,
           "showland": true,
           "subunitcolor": "white"
          },
          "hoverlabel": {
           "align": "left"
          },
          "hovermode": "closest",
          "mapbox": {
           "style": "light"
          },
          "paper_bgcolor": "white",
          "plot_bgcolor": "#E5ECF6",
          "polar": {
           "angularaxis": {
            "gridcolor": "white",
            "linecolor": "white",
            "ticks": ""
           },
           "bgcolor": "#E5ECF6",
           "radialaxis": {
            "gridcolor": "white",
            "linecolor": "white",
            "ticks": ""
           }
          },
          "scene": {
           "xaxis": {
            "backgroundcolor": "#E5ECF6",
            "gridcolor": "white",
            "gridwidth": 2,
            "linecolor": "white",
            "showbackground": true,
            "ticks": "",
            "zerolinecolor": "white"
           },
           "yaxis": {
            "backgroundcolor": "#E5ECF6",
            "gridcolor": "white",
            "gridwidth": 2,
            "linecolor": "white",
            "showbackground": true,
            "ticks": "",
            "zerolinecolor": "white"
           },
           "zaxis": {
            "backgroundcolor": "#E5ECF6",
            "gridcolor": "white",
            "gridwidth": 2,
            "linecolor": "white",
            "showbackground": true,
            "ticks": "",
            "zerolinecolor": "white"
           }
          },
          "shapedefaults": {
           "line": {
            "color": "#2a3f5f"
           }
          },
          "ternary": {
           "aaxis": {
            "gridcolor": "white",
            "linecolor": "white",
            "ticks": ""
           },
           "baxis": {
            "gridcolor": "white",
            "linecolor": "white",
            "ticks": ""
           },
           "bgcolor": "#E5ECF6",
           "caxis": {
            "gridcolor": "white",
            "linecolor": "white",
            "ticks": ""
           }
          },
          "title": {
           "x": 0.05
          },
          "xaxis": {
           "automargin": true,
           "gridcolor": "white",
           "linecolor": "white",
           "ticks": "",
           "title": {
            "standoff": 15
           },
           "zerolinecolor": "white",
           "zerolinewidth": 2
          },
          "yaxis": {
           "automargin": true,
           "gridcolor": "white",
           "linecolor": "white",
           "ticks": "",
           "title": {
            "standoff": 15
           },
           "zerolinecolor": "white",
           "zerolinewidth": 2
          }
         }
        },
        "title": {
         "text": "Entropy Bias by Aggregation Level and Block Size"
        },
        "width": 900
       }
      }
     },
     "metadata": {},
     "output_type": "display_data"
    }
   ],
   "source": [
    "btc_multi_tester.plot_3D_test_result()"
   ]
  },
  {
   "cell_type": "code",
   "execution_count": 10,
   "id": "4eaab9b8",
   "metadata": {},
   "outputs": [],
   "source": [
    "blocks = data_manager.block_constructor(block_size=3, overlapping=True)\n",
    "blocks_eth = blocks['ETHUSDT']\n",
    "test = RandomnessAnalysis(blocks_df=blocks_eth, s=nb_symbols, k=block_size)"
   ]
  },
  {
   "cell_type": "code",
   "execution_count": 11,
   "id": "28bfee39",
   "metadata": {},
   "outputs": [
    {
     "data": {
      "application/vnd.plotly.v1+json": {
       "config": {
        "plotlyServerURL": "https://plot.ly"
       },
       "data": [
        {
         "marker": {
          "color": "blue"
         },
         "name": "Absolute frequency",
         "type": "bar",
         "x": [
          "(0, 0, 0)",
          "(0, 0, 1)",
          "(0, 1, 0)",
          "(0, 1, 1)",
          "(1, 0, 0)",
          "(1, 0, 1)",
          "(1, 1, 0)",
          "(1, 1, 1)"
         ],
         "xaxis": "x",
         "y": [
          29617,
          2013,
          2921,
          2174,
          2013,
          3081,
          2174,
          34707
         ],
         "yaxis": "y"
        },
        {
         "marker": {
          "color": "red"
         },
         "name": "Relative frequency",
         "type": "bar",
         "x": [
          "(0, 0, 0)",
          "(0, 0, 1)",
          "(0, 1, 0)",
          "(0, 1, 1)",
          "(1, 0, 0)",
          "(1, 0, 1)",
          "(1, 1, 0)",
          "(1, 1, 1)"
         ],
         "xaxis": "x2",
         "y": [
          0.37632782719186786,
          0.025578144853875478,
          0.0371156289707751,
          0.027623888182973316,
          0.025578144853875478,
          0.03914866581956798,
          0.027623888182973316,
          0.4410038119440915
         ],
         "yaxis": "y2"
        }
       ],
       "layout": {
        "annotations": [
         {
          "font": {
           "size": 16
          },
          "showarrow": false,
          "text": "Absolute frequency",
          "x": 0.225,
          "xanchor": "center",
          "xref": "paper",
          "y": 1,
          "yanchor": "bottom",
          "yref": "paper"
         },
         {
          "font": {
           "size": 16
          },
          "showarrow": false,
          "text": "Relative frequency",
          "x": 0.775,
          "xanchor": "center",
          "xref": "paper",
          "y": 1,
          "yanchor": "bottom",
          "yref": "paper"
         }
        ],
        "height": 800,
        "showlegend": false,
        "template": {
         "data": {
          "bar": [
           {
            "error_x": {
             "color": "#2a3f5f"
            },
            "error_y": {
             "color": "#2a3f5f"
            },
            "marker": {
             "line": {
              "color": "#E5ECF6",
              "width": 0.5
             },
             "pattern": {
              "fillmode": "overlay",
              "size": 10,
              "solidity": 0.2
             }
            },
            "type": "bar"
           }
          ],
          "barpolar": [
           {
            "marker": {
             "line": {
              "color": "#E5ECF6",
              "width": 0.5
             },
             "pattern": {
              "fillmode": "overlay",
              "size": 10,
              "solidity": 0.2
             }
            },
            "type": "barpolar"
           }
          ],
          "carpet": [
           {
            "aaxis": {
             "endlinecolor": "#2a3f5f",
             "gridcolor": "white",
             "linecolor": "white",
             "minorgridcolor": "white",
             "startlinecolor": "#2a3f5f"
            },
            "baxis": {
             "endlinecolor": "#2a3f5f",
             "gridcolor": "white",
             "linecolor": "white",
             "minorgridcolor": "white",
             "startlinecolor": "#2a3f5f"
            },
            "type": "carpet"
           }
          ],
          "choropleth": [
           {
            "colorbar": {
             "outlinewidth": 0,
             "ticks": ""
            },
            "type": "choropleth"
           }
          ],
          "contour": [
           {
            "colorbar": {
             "outlinewidth": 0,
             "ticks": ""
            },
            "colorscale": [
             [
              0,
              "#0d0887"
             ],
             [
              0.1111111111111111,
              "#46039f"
             ],
             [
              0.2222222222222222,
              "#7201a8"
             ],
             [
              0.3333333333333333,
              "#9c179e"
             ],
             [
              0.4444444444444444,
              "#bd3786"
             ],
             [
              0.5555555555555556,
              "#d8576b"
             ],
             [
              0.6666666666666666,
              "#ed7953"
             ],
             [
              0.7777777777777778,
              "#fb9f3a"
             ],
             [
              0.8888888888888888,
              "#fdca26"
             ],
             [
              1,
              "#f0f921"
             ]
            ],
            "type": "contour"
           }
          ],
          "contourcarpet": [
           {
            "colorbar": {
             "outlinewidth": 0,
             "ticks": ""
            },
            "type": "contourcarpet"
           }
          ],
          "heatmap": [
           {
            "colorbar": {
             "outlinewidth": 0,
             "ticks": ""
            },
            "colorscale": [
             [
              0,
              "#0d0887"
             ],
             [
              0.1111111111111111,
              "#46039f"
             ],
             [
              0.2222222222222222,
              "#7201a8"
             ],
             [
              0.3333333333333333,
              "#9c179e"
             ],
             [
              0.4444444444444444,
              "#bd3786"
             ],
             [
              0.5555555555555556,
              "#d8576b"
             ],
             [
              0.6666666666666666,
              "#ed7953"
             ],
             [
              0.7777777777777778,
              "#fb9f3a"
             ],
             [
              0.8888888888888888,
              "#fdca26"
             ],
             [
              1,
              "#f0f921"
             ]
            ],
            "type": "heatmap"
           }
          ],
          "heatmapgl": [
           {
            "colorbar": {
             "outlinewidth": 0,
             "ticks": ""
            },
            "colorscale": [
             [
              0,
              "#0d0887"
             ],
             [
              0.1111111111111111,
              "#46039f"
             ],
             [
              0.2222222222222222,
              "#7201a8"
             ],
             [
              0.3333333333333333,
              "#9c179e"
             ],
             [
              0.4444444444444444,
              "#bd3786"
             ],
             [
              0.5555555555555556,
              "#d8576b"
             ],
             [
              0.6666666666666666,
              "#ed7953"
             ],
             [
              0.7777777777777778,
              "#fb9f3a"
             ],
             [
              0.8888888888888888,
              "#fdca26"
             ],
             [
              1,
              "#f0f921"
             ]
            ],
            "type": "heatmapgl"
           }
          ],
          "histogram": [
           {
            "marker": {
             "pattern": {
              "fillmode": "overlay",
              "size": 10,
              "solidity": 0.2
             }
            },
            "type": "histogram"
           }
          ],
          "histogram2d": [
           {
            "colorbar": {
             "outlinewidth": 0,
             "ticks": ""
            },
            "colorscale": [
             [
              0,
              "#0d0887"
             ],
             [
              0.1111111111111111,
              "#46039f"
             ],
             [
              0.2222222222222222,
              "#7201a8"
             ],
             [
              0.3333333333333333,
              "#9c179e"
             ],
             [
              0.4444444444444444,
              "#bd3786"
             ],
             [
              0.5555555555555556,
              "#d8576b"
             ],
             [
              0.6666666666666666,
              "#ed7953"
             ],
             [
              0.7777777777777778,
              "#fb9f3a"
             ],
             [
              0.8888888888888888,
              "#fdca26"
             ],
             [
              1,
              "#f0f921"
             ]
            ],
            "type": "histogram2d"
           }
          ],
          "histogram2dcontour": [
           {
            "colorbar": {
             "outlinewidth": 0,
             "ticks": ""
            },
            "colorscale": [
             [
              0,
              "#0d0887"
             ],
             [
              0.1111111111111111,
              "#46039f"
             ],
             [
              0.2222222222222222,
              "#7201a8"
             ],
             [
              0.3333333333333333,
              "#9c179e"
             ],
             [
              0.4444444444444444,
              "#bd3786"
             ],
             [
              0.5555555555555556,
              "#d8576b"
             ],
             [
              0.6666666666666666,
              "#ed7953"
             ],
             [
              0.7777777777777778,
              "#fb9f3a"
             ],
             [
              0.8888888888888888,
              "#fdca26"
             ],
             [
              1,
              "#f0f921"
             ]
            ],
            "type": "histogram2dcontour"
           }
          ],
          "mesh3d": [
           {
            "colorbar": {
             "outlinewidth": 0,
             "ticks": ""
            },
            "type": "mesh3d"
           }
          ],
          "parcoords": [
           {
            "line": {
             "colorbar": {
              "outlinewidth": 0,
              "ticks": ""
             }
            },
            "type": "parcoords"
           }
          ],
          "pie": [
           {
            "automargin": true,
            "type": "pie"
           }
          ],
          "scatter": [
           {
            "fillpattern": {
             "fillmode": "overlay",
             "size": 10,
             "solidity": 0.2
            },
            "type": "scatter"
           }
          ],
          "scatter3d": [
           {
            "line": {
             "colorbar": {
              "outlinewidth": 0,
              "ticks": ""
             }
            },
            "marker": {
             "colorbar": {
              "outlinewidth": 0,
              "ticks": ""
             }
            },
            "type": "scatter3d"
           }
          ],
          "scattercarpet": [
           {
            "marker": {
             "colorbar": {
              "outlinewidth": 0,
              "ticks": ""
             }
            },
            "type": "scattercarpet"
           }
          ],
          "scattergeo": [
           {
            "marker": {
             "colorbar": {
              "outlinewidth": 0,
              "ticks": ""
             }
            },
            "type": "scattergeo"
           }
          ],
          "scattergl": [
           {
            "marker": {
             "colorbar": {
              "outlinewidth": 0,
              "ticks": ""
             }
            },
            "type": "scattergl"
           }
          ],
          "scattermapbox": [
           {
            "marker": {
             "colorbar": {
              "outlinewidth": 0,
              "ticks": ""
             }
            },
            "type": "scattermapbox"
           }
          ],
          "scatterpolar": [
           {
            "marker": {
             "colorbar": {
              "outlinewidth": 0,
              "ticks": ""
             }
            },
            "type": "scatterpolar"
           }
          ],
          "scatterpolargl": [
           {
            "marker": {
             "colorbar": {
              "outlinewidth": 0,
              "ticks": ""
             }
            },
            "type": "scatterpolargl"
           }
          ],
          "scatterternary": [
           {
            "marker": {
             "colorbar": {
              "outlinewidth": 0,
              "ticks": ""
             }
            },
            "type": "scatterternary"
           }
          ],
          "surface": [
           {
            "colorbar": {
             "outlinewidth": 0,
             "ticks": ""
            },
            "colorscale": [
             [
              0,
              "#0d0887"
             ],
             [
              0.1111111111111111,
              "#46039f"
             ],
             [
              0.2222222222222222,
              "#7201a8"
             ],
             [
              0.3333333333333333,
              "#9c179e"
             ],
             [
              0.4444444444444444,
              "#bd3786"
             ],
             [
              0.5555555555555556,
              "#d8576b"
             ],
             [
              0.6666666666666666,
              "#ed7953"
             ],
             [
              0.7777777777777778,
              "#fb9f3a"
             ],
             [
              0.8888888888888888,
              "#fdca26"
             ],
             [
              1,
              "#f0f921"
             ]
            ],
            "type": "surface"
           }
          ],
          "table": [
           {
            "cells": {
             "fill": {
              "color": "#EBF0F8"
             },
             "line": {
              "color": "white"
             }
            },
            "header": {
             "fill": {
              "color": "#C8D4E3"
             },
             "line": {
              "color": "white"
             }
            },
            "type": "table"
           }
          ]
         },
         "layout": {
          "annotationdefaults": {
           "arrowcolor": "#2a3f5f",
           "arrowhead": 0,
           "arrowwidth": 1
          },
          "autotypenumbers": "strict",
          "coloraxis": {
           "colorbar": {
            "outlinewidth": 0,
            "ticks": ""
           }
          },
          "colorscale": {
           "diverging": [
            [
             0,
             "#8e0152"
            ],
            [
             0.1,
             "#c51b7d"
            ],
            [
             0.2,
             "#de77ae"
            ],
            [
             0.3,
             "#f1b6da"
            ],
            [
             0.4,
             "#fde0ef"
            ],
            [
             0.5,
             "#f7f7f7"
            ],
            [
             0.6,
             "#e6f5d0"
            ],
            [
             0.7,
             "#b8e186"
            ],
            [
             0.8,
             "#7fbc41"
            ],
            [
             0.9,
             "#4d9221"
            ],
            [
             1,
             "#276419"
            ]
           ],
           "sequential": [
            [
             0,
             "#0d0887"
            ],
            [
             0.1111111111111111,
             "#46039f"
            ],
            [
             0.2222222222222222,
             "#7201a8"
            ],
            [
             0.3333333333333333,
             "#9c179e"
            ],
            [
             0.4444444444444444,
             "#bd3786"
            ],
            [
             0.5555555555555556,
             "#d8576b"
            ],
            [
             0.6666666666666666,
             "#ed7953"
            ],
            [
             0.7777777777777778,
             "#fb9f3a"
            ],
            [
             0.8888888888888888,
             "#fdca26"
            ],
            [
             1,
             "#f0f921"
            ]
           ],
           "sequentialminus": [
            [
             0,
             "#0d0887"
            ],
            [
             0.1111111111111111,
             "#46039f"
            ],
            [
             0.2222222222222222,
             "#7201a8"
            ],
            [
             0.3333333333333333,
             "#9c179e"
            ],
            [
             0.4444444444444444,
             "#bd3786"
            ],
            [
             0.5555555555555556,
             "#d8576b"
            ],
            [
             0.6666666666666666,
             "#ed7953"
            ],
            [
             0.7777777777777778,
             "#fb9f3a"
            ],
            [
             0.8888888888888888,
             "#fdca26"
            ],
            [
             1,
             "#f0f921"
            ]
           ]
          },
          "colorway": [
           "#636efa",
           "#EF553B",
           "#00cc96",
           "#ab63fa",
           "#FFA15A",
           "#19d3f3",
           "#FF6692",
           "#B6E880",
           "#FF97FF",
           "#FECB52"
          ],
          "font": {
           "color": "#2a3f5f"
          },
          "geo": {
           "bgcolor": "white",
           "lakecolor": "white",
           "landcolor": "#E5ECF6",
           "showlakes": true,
           "showland": true,
           "subunitcolor": "white"
          },
          "hoverlabel": {
           "align": "left"
          },
          "hovermode": "closest",
          "mapbox": {
           "style": "light"
          },
          "paper_bgcolor": "white",
          "plot_bgcolor": "#E5ECF6",
          "polar": {
           "angularaxis": {
            "gridcolor": "white",
            "linecolor": "white",
            "ticks": ""
           },
           "bgcolor": "#E5ECF6",
           "radialaxis": {
            "gridcolor": "white",
            "linecolor": "white",
            "ticks": ""
           }
          },
          "scene": {
           "xaxis": {
            "backgroundcolor": "#E5ECF6",
            "gridcolor": "white",
            "gridwidth": 2,
            "linecolor": "white",
            "showbackground": true,
            "ticks": "",
            "zerolinecolor": "white"
           },
           "yaxis": {
            "backgroundcolor": "#E5ECF6",
            "gridcolor": "white",
            "gridwidth": 2,
            "linecolor": "white",
            "showbackground": true,
            "ticks": "",
            "zerolinecolor": "white"
           },
           "zaxis": {
            "backgroundcolor": "#E5ECF6",
            "gridcolor": "white",
            "gridwidth": 2,
            "linecolor": "white",
            "showbackground": true,
            "ticks": "",
            "zerolinecolor": "white"
           }
          },
          "shapedefaults": {
           "line": {
            "color": "#2a3f5f"
           }
          },
          "ternary": {
           "aaxis": {
            "gridcolor": "white",
            "linecolor": "white",
            "ticks": ""
           },
           "baxis": {
            "gridcolor": "white",
            "linecolor": "white",
            "ticks": ""
           },
           "bgcolor": "#E5ECF6",
           "caxis": {
            "gridcolor": "white",
            "linecolor": "white",
            "ticks": ""
           }
          },
          "title": {
           "x": 0.05
          },
          "xaxis": {
           "automargin": true,
           "gridcolor": "white",
           "linecolor": "white",
           "ticks": "",
           "title": {
            "standoff": 15
           },
           "zerolinecolor": "white",
           "zerolinewidth": 2
          },
          "yaxis": {
           "automargin": true,
           "gridcolor": "white",
           "linecolor": "white",
           "ticks": "",
           "title": {
            "standoff": 15
           },
           "zerolinecolor": "white",
           "zerolinewidth": 2
          }
         }
        },
        "title": {
         "text": "Blocks Analysis"
        },
        "width": 1500,
        "xaxis": {
         "anchor": "y",
         "domain": [
          0,
          0.45
         ],
         "title": {
          "text": "Blocks"
         }
        },
        "xaxis2": {
         "anchor": "y2",
         "domain": [
          0.55,
          1
         ],
         "title": {
          "text": "Blocks"
         }
        },
        "yaxis": {
         "anchor": "x",
         "domain": [
          0,
          1
         ],
         "title": {
          "text": "Absolute Frequency"
         }
        },
        "yaxis2": {
         "anchor": "x2",
         "domain": [
          0,
          1
         ],
         "title": {
          "text": "Relative Frequency"
         }
        }
       }
      }
     },
     "metadata": {},
     "output_type": "display_data"
    }
   ],
   "source": [
    "frequencies_df = test.compute_blocks_frequencies()\n",
    "plot_block_frequencies(frequencies_df)"
   ]
  },
  {
   "cell_type": "code",
   "execution_count": 12,
   "id": "5a0cc666",
   "metadata": {},
   "outputs": [
    {
     "data": {
      "text/html": [
       "<div>\n",
       "<style scoped>\n",
       "    .dataframe tbody tr th:only-of-type {\n",
       "        vertical-align: middle;\n",
       "    }\n",
       "\n",
       "    .dataframe tbody tr th {\n",
       "        vertical-align: top;\n",
       "    }\n",
       "\n",
       "    .dataframe thead th {\n",
       "        text-align: right;\n",
       "    }\n",
       "</style>\n",
       "<table border=\"1\" class=\"dataframe\">\n",
       "  <thead>\n",
       "    <tr style=\"text-align: right;\">\n",
       "      <th></th>\n",
       "      <th>Entropy Bias test</th>\n",
       "    </tr>\n",
       "  </thead>\n",
       "  <tbody>\n",
       "    <tr>\n",
       "      <th>Bias</th>\n",
       "      <td>112647.132569</td>\n",
       "    </tr>\n",
       "    <tr>\n",
       "      <th>Quantile 90%</th>\n",
       "      <td>12.017037</td>\n",
       "    </tr>\n",
       "    <tr>\n",
       "      <th>Quantile 95%</th>\n",
       "      <td>14.06714</td>\n",
       "    </tr>\n",
       "    <tr>\n",
       "      <th>Quantile 99%</th>\n",
       "      <td>18.475307</td>\n",
       "    </tr>\n",
       "    <tr>\n",
       "      <th>P-value</th>\n",
       "      <td>0.0</td>\n",
       "    </tr>\n",
       "    <tr>\n",
       "      <th>Mean</th>\n",
       "      <td>7</td>\n",
       "    </tr>\n",
       "    <tr>\n",
       "      <th>Hypothesis 1</th>\n",
       "      <td>True</td>\n",
       "    </tr>\n",
       "  </tbody>\n",
       "</table>\n",
       "</div>"
      ],
      "text/plain": [
       "             Entropy Bias test\n",
       "Bias             112647.132569\n",
       "Quantile 90%         12.017037\n",
       "Quantile 95%          14.06714\n",
       "Quantile 99%         18.475307\n",
       "P-value                    0.0\n",
       "Mean                         7\n",
       "Hypothesis 1              True"
      ]
     },
     "execution_count": 12,
     "metadata": {},
     "output_type": "execute_result"
    }
   ],
   "source": [
    "test_entropy = test.entropy_bias_test()\n",
    "test_entropy"
   ]
  },
  {
   "cell_type": "code",
   "execution_count": 13,
   "id": "d5fa7af6",
   "metadata": {},
   "outputs": [
    {
     "data": {
      "text/html": [
       "<div>\n",
       "<style scoped>\n",
       "    .dataframe tbody tr th:only-of-type {\n",
       "        vertical-align: middle;\n",
       "    }\n",
       "\n",
       "    .dataframe tbody tr th {\n",
       "        vertical-align: top;\n",
       "    }\n",
       "\n",
       "    .dataframe thead th {\n",
       "        text-align: right;\n",
       "    }\n",
       "</style>\n",
       "<table border=\"1\" class=\"dataframe\">\n",
       "  <thead>\n",
       "    <tr style=\"text-align: right;\">\n",
       "      <th></th>\n",
       "      <th>Bias</th>\n",
       "      <th>Quantile 99</th>\n",
       "      <th>Quantile 95</th>\n",
       "      <th>Quantile 90</th>\n",
       "      <th>Mean</th>\n",
       "    </tr>\n",
       "    <tr>\n",
       "      <th>Block size</th>\n",
       "      <th></th>\n",
       "      <th></th>\n",
       "      <th></th>\n",
       "      <th></th>\n",
       "      <th></th>\n",
       "    </tr>\n",
       "  </thead>\n",
       "  <tbody>\n",
       "    <tr>\n",
       "      <th>1</th>\n",
       "      <td>350.473661</td>\n",
       "      <td>6.634897</td>\n",
       "      <td>3.841459</td>\n",
       "      <td>2.705543</td>\n",
       "      <td>1</td>\n",
       "    </tr>\n",
       "    <tr>\n",
       "      <th>2</th>\n",
       "      <td>48844.131207</td>\n",
       "      <td>11.344867</td>\n",
       "      <td>7.814728</td>\n",
       "      <td>6.251389</td>\n",
       "      <td>3</td>\n",
       "    </tr>\n",
       "    <tr>\n",
       "      <th>3</th>\n",
       "      <td>112647.132569</td>\n",
       "      <td>18.475307</td>\n",
       "      <td>14.067140</td>\n",
       "      <td>12.017037</td>\n",
       "      <td>7</td>\n",
       "    </tr>\n",
       "    <tr>\n",
       "      <th>4</th>\n",
       "      <td>176687.820261</td>\n",
       "      <td>30.577914</td>\n",
       "      <td>24.995790</td>\n",
       "      <td>22.307130</td>\n",
       "      <td>15</td>\n",
       "    </tr>\n",
       "    <tr>\n",
       "      <th>5</th>\n",
       "      <td>241048.932237</td>\n",
       "      <td>52.191395</td>\n",
       "      <td>44.985343</td>\n",
       "      <td>41.421736</td>\n",
       "      <td>31</td>\n",
       "    </tr>\n",
       "    <tr>\n",
       "      <th>6</th>\n",
       "      <td>305443.739938</td>\n",
       "      <td>92.010024</td>\n",
       "      <td>82.528727</td>\n",
       "      <td>77.745385</td>\n",
       "      <td>63</td>\n",
       "    </tr>\n",
       "    <tr>\n",
       "      <th>7</th>\n",
       "      <td>369965.494346</td>\n",
       "      <td>166.987390</td>\n",
       "      <td>154.301516</td>\n",
       "      <td>147.804813</td>\n",
       "      <td>127</td>\n",
       "    </tr>\n",
       "    <tr>\n",
       "      <th>8</th>\n",
       "      <td>434596.295504</td>\n",
       "      <td>310.457388</td>\n",
       "      <td>293.247835</td>\n",
       "      <td>284.335908</td>\n",
       "      <td>255</td>\n",
       "    </tr>\n",
       "    <tr>\n",
       "      <th>9</th>\n",
       "      <td>499405.618065</td>\n",
       "      <td>588.297794</td>\n",
       "      <td>564.696133</td>\n",
       "      <td>552.373933</td>\n",
       "      <td>511</td>\n",
       "    </tr>\n",
       "    <tr>\n",
       "      <th>10</th>\n",
       "      <td>564495.329049</td>\n",
       "      <td>1131.158739</td>\n",
       "      <td>1098.520782</td>\n",
       "      <td>1081.379444</td>\n",
       "      <td>1023</td>\n",
       "    </tr>\n",
       "  </tbody>\n",
       "</table>\n",
       "</div>"
      ],
      "text/plain": [
       "                     Bias  Quantile 99  Quantile 95  Quantile 90  Mean\n",
       "Block size                                                            \n",
       "1              350.473661     6.634897     3.841459     2.705543     1\n",
       "2            48844.131207    11.344867     7.814728     6.251389     3\n",
       "3           112647.132569    18.475307    14.067140    12.017037     7\n",
       "4           176687.820261    30.577914    24.995790    22.307130    15\n",
       "5           241048.932237    52.191395    44.985343    41.421736    31\n",
       "6           305443.739938    92.010024    82.528727    77.745385    63\n",
       "7           369965.494346   166.987390   154.301516   147.804813   127\n",
       "8           434596.295504   310.457388   293.247835   284.335908   255\n",
       "9           499405.618065   588.297794   564.696133   552.373933   511\n",
       "10          564495.329049  1131.158739  1098.520782  1081.379444  1023"
      ]
     },
     "execution_count": 13,
     "metadata": {},
     "output_type": "execute_result"
    }
   ],
   "source": [
    "eth_multi_tester = MultiTester(asset='ETHUSDT',symbols=symbols,overlapping=True)\n",
    "eth_multi_tester.test_by_block_size()"
   ]
  },
  {
   "cell_type": "code",
   "execution_count": 14,
   "id": "24415aaf",
   "metadata": {},
   "outputs": [
    {
     "data": {
      "text/html": [
       "<div>\n",
       "<style scoped>\n",
       "    .dataframe tbody tr th:only-of-type {\n",
       "        vertical-align: middle;\n",
       "    }\n",
       "\n",
       "    .dataframe tbody tr th {\n",
       "        vertical-align: top;\n",
       "    }\n",
       "\n",
       "    .dataframe thead th {\n",
       "        text-align: right;\n",
       "    }\n",
       "</style>\n",
       "<table border=\"1\" class=\"dataframe\">\n",
       "  <thead>\n",
       "    <tr style=\"text-align: right;\">\n",
       "      <th></th>\n",
       "      <th>Bias</th>\n",
       "      <th>Quantile 90</th>\n",
       "      <th>Quantile 95</th>\n",
       "      <th>Quantile 99</th>\n",
       "      <th>Mean</th>\n",
       "    </tr>\n",
       "    <tr>\n",
       "      <th>Aggregation level</th>\n",
       "      <th></th>\n",
       "      <th></th>\n",
       "      <th></th>\n",
       "      <th></th>\n",
       "      <th></th>\n",
       "    </tr>\n",
       "  </thead>\n",
       "  <tbody>\n",
       "    <tr>\n",
       "      <th>1</th>\n",
       "      <td>48844.131207</td>\n",
       "      <td>6.251389</td>\n",
       "      <td>7.814728</td>\n",
       "      <td>11.344867</td>\n",
       "      <td>3</td>\n",
       "    </tr>\n",
       "    <tr>\n",
       "      <th>2</th>\n",
       "      <td>42741.754097</td>\n",
       "      <td>6.251389</td>\n",
       "      <td>7.814728</td>\n",
       "      <td>11.344867</td>\n",
       "      <td>3</td>\n",
       "    </tr>\n",
       "    <tr>\n",
       "      <th>3</th>\n",
       "      <td>36319.958296</td>\n",
       "      <td>6.251389</td>\n",
       "      <td>7.814728</td>\n",
       "      <td>11.344867</td>\n",
       "      <td>3</td>\n",
       "    </tr>\n",
       "    <tr>\n",
       "      <th>4</th>\n",
       "      <td>30709.273000</td>\n",
       "      <td>6.251389</td>\n",
       "      <td>7.814728</td>\n",
       "      <td>11.344867</td>\n",
       "      <td>3</td>\n",
       "    </tr>\n",
       "    <tr>\n",
       "      <th>5</th>\n",
       "      <td>26548.713891</td>\n",
       "      <td>6.251389</td>\n",
       "      <td>7.814728</td>\n",
       "      <td>11.344867</td>\n",
       "      <td>3</td>\n",
       "    </tr>\n",
       "  </tbody>\n",
       "</table>\n",
       "</div>"
      ],
      "text/plain": [
       "                           Bias  Quantile 90  Quantile 95  Quantile 99  Mean\n",
       "Aggregation level                                                           \n",
       "1                  48844.131207     6.251389     7.814728    11.344867     3\n",
       "2                  42741.754097     6.251389     7.814728    11.344867     3\n",
       "3                  36319.958296     6.251389     7.814728    11.344867     3\n",
       "4                  30709.273000     6.251389     7.814728    11.344867     3\n",
       "5                  26548.713891     6.251389     7.814728    11.344867     3"
      ]
     },
     "execution_count": 14,
     "metadata": {},
     "output_type": "execute_result"
    }
   ],
   "source": [
    "eth_multi_tester.test_by_aggregation_level().head()"
   ]
  },
  {
   "cell_type": "code",
   "execution_count": 18,
   "id": "e771d921",
   "metadata": {},
   "outputs": [
    {
     "data": {
      "application/vnd.plotly.v1+json": {
       "config": {
        "plotlyServerURL": "https://plot.ly"
       },
       "data": [
        {
         "colorscale": [
          [
           0,
           "#440154"
          ],
          [
           0.1111111111111111,
           "#482878"
          ],
          [
           0.2222222222222222,
           "#3e4989"
          ],
          [
           0.3333333333333333,
           "#31688e"
          ],
          [
           0.4444444444444444,
           "#26828e"
          ],
          [
           0.5555555555555556,
           "#1f9e89"
          ],
          [
           0.6666666666666666,
           "#35b779"
          ],
          [
           0.7777777777777778,
           "#6ece58"
          ],
          [
           0.8888888888888888,
           "#b5de2b"
          ],
          [
           1,
           "#fde725"
          ]
         ],
         "name": "KL",
         "type": "surface",
         "x": [
          [
           1,
           1,
           1,
           1,
           1,
           1,
           1,
           1,
           1,
           1
          ],
          [
           2,
           2,
           2,
           2,
           2,
           2,
           2,
           2,
           2,
           2
          ],
          [
           3,
           3,
           3,
           3,
           3,
           3,
           3,
           3,
           3,
           3
          ],
          [
           4,
           4,
           4,
           4,
           4,
           4,
           4,
           4,
           4,
           4
          ],
          [
           5,
           5,
           5,
           5,
           5,
           5,
           5,
           5,
           5,
           5
          ],
          [
           6,
           6,
           6,
           6,
           6,
           6,
           6,
           6,
           6,
           6
          ],
          [
           7,
           7,
           7,
           7,
           7,
           7,
           7,
           7,
           7,
           7
          ],
          [
           8,
           8,
           8,
           8,
           8,
           8,
           8,
           8,
           8,
           8
          ],
          [
           9,
           9,
           9,
           9,
           9,
           9,
           9,
           9,
           9,
           9
          ],
          [
           10,
           10,
           10,
           10,
           10,
           10,
           10,
           10,
           10,
           10
          ],
          [
           11,
           11,
           11,
           11,
           11,
           11,
           11,
           11,
           11,
           11
          ],
          [
           12,
           12,
           12,
           12,
           12,
           12,
           12,
           12,
           12,
           12
          ],
          [
           13,
           13,
           13,
           13,
           13,
           13,
           13,
           13,
           13,
           13
          ],
          [
           14,
           14,
           14,
           14,
           14,
           14,
           14,
           14,
           14,
           14
          ],
          [
           15,
           15,
           15,
           15,
           15,
           15,
           15,
           15,
           15,
           15
          ],
          [
           16,
           16,
           16,
           16,
           16,
           16,
           16,
           16,
           16,
           16
          ],
          [
           17,
           17,
           17,
           17,
           17,
           17,
           17,
           17,
           17,
           17
          ],
          [
           18,
           18,
           18,
           18,
           18,
           18,
           18,
           18,
           18,
           18
          ],
          [
           19,
           19,
           19,
           19,
           19,
           19,
           19,
           19,
           19,
           19
          ],
          [
           20,
           20,
           20,
           20,
           20,
           20,
           20,
           20,
           20,
           20
          ],
          [
           21,
           21,
           21,
           21,
           21,
           21,
           21,
           21,
           21,
           21
          ],
          [
           22,
           22,
           22,
           22,
           22,
           22,
           22,
           22,
           22,
           22
          ],
          [
           23,
           23,
           23,
           23,
           23,
           23,
           23,
           23,
           23,
           23
          ],
          [
           24,
           24,
           24,
           24,
           24,
           24,
           24,
           24,
           24,
           24
          ],
          [
           25,
           25,
           25,
           25,
           25,
           25,
           25,
           25,
           25,
           25
          ],
          [
           26,
           26,
           26,
           26,
           26,
           26,
           26,
           26,
           26,
           26
          ],
          [
           27,
           27,
           27,
           27,
           27,
           27,
           27,
           27,
           27,
           27
          ],
          [
           28,
           28,
           28,
           28,
           28,
           28,
           28,
           28,
           28,
           28
          ],
          [
           29,
           29,
           29,
           29,
           29,
           29,
           29,
           29,
           29,
           29
          ],
          [
           30,
           30,
           30,
           30,
           30,
           30,
           30,
           30,
           30,
           30
          ],
          [
           31,
           31,
           31,
           31,
           31,
           31,
           31,
           31,
           31,
           31
          ],
          [
           32,
           32,
           32,
           32,
           32,
           32,
           32,
           32,
           32,
           32
          ],
          [
           33,
           33,
           33,
           33,
           33,
           33,
           33,
           33,
           33,
           33
          ],
          [
           34,
           34,
           34,
           34,
           34,
           34,
           34,
           34,
           34,
           34
          ],
          [
           35,
           35,
           35,
           35,
           35,
           35,
           35,
           35,
           35,
           35
          ],
          [
           36,
           36,
           36,
           36,
           36,
           36,
           36,
           36,
           36,
           36
          ],
          [
           37,
           37,
           37,
           37,
           37,
           37,
           37,
           37,
           37,
           37
          ],
          [
           38,
           38,
           38,
           38,
           38,
           38,
           38,
           38,
           38,
           38
          ],
          [
           39,
           39,
           39,
           39,
           39,
           39,
           39,
           39,
           39,
           39
          ],
          [
           40,
           40,
           40,
           40,
           40,
           40,
           40,
           40,
           40,
           40
          ],
          [
           41,
           41,
           41,
           41,
           41,
           41,
           41,
           41,
           41,
           41
          ],
          [
           42,
           42,
           42,
           42,
           42,
           42,
           42,
           42,
           42,
           42
          ],
          [
           43,
           43,
           43,
           43,
           43,
           43,
           43,
           43,
           43,
           43
          ],
          [
           44,
           44,
           44,
           44,
           44,
           44,
           44,
           44,
           44,
           44
          ],
          [
           45,
           45,
           45,
           45,
           45,
           45,
           45,
           45,
           45,
           45
          ],
          [
           46,
           46,
           46,
           46,
           46,
           46,
           46,
           46,
           46,
           46
          ],
          [
           47,
           47,
           47,
           47,
           47,
           47,
           47,
           47,
           47,
           47
          ],
          [
           48,
           48,
           48,
           48,
           48,
           48,
           48,
           48,
           48,
           48
          ],
          [
           49,
           49,
           49,
           49,
           49,
           49,
           49,
           49,
           49,
           49
          ],
          [
           50,
           50,
           50,
           50,
           50,
           50,
           50,
           50,
           50,
           50
          ]
         ],
         "y": [
          [
           1,
           2,
           3,
           4,
           5,
           6,
           7,
           8,
           9,
           10
          ],
          [
           1,
           2,
           3,
           4,
           5,
           6,
           7,
           8,
           9,
           10
          ],
          [
           1,
           2,
           3,
           4,
           5,
           6,
           7,
           8,
           9,
           10
          ],
          [
           1,
           2,
           3,
           4,
           5,
           6,
           7,
           8,
           9,
           10
          ],
          [
           1,
           2,
           3,
           4,
           5,
           6,
           7,
           8,
           9,
           10
          ],
          [
           1,
           2,
           3,
           4,
           5,
           6,
           7,
           8,
           9,
           10
          ],
          [
           1,
           2,
           3,
           4,
           5,
           6,
           7,
           8,
           9,
           10
          ],
          [
           1,
           2,
           3,
           4,
           5,
           6,
           7,
           8,
           9,
           10
          ],
          [
           1,
           2,
           3,
           4,
           5,
           6,
           7,
           8,
           9,
           10
          ],
          [
           1,
           2,
           3,
           4,
           5,
           6,
           7,
           8,
           9,
           10
          ],
          [
           1,
           2,
           3,
           4,
           5,
           6,
           7,
           8,
           9,
           10
          ],
          [
           1,
           2,
           3,
           4,
           5,
           6,
           7,
           8,
           9,
           10
          ],
          [
           1,
           2,
           3,
           4,
           5,
           6,
           7,
           8,
           9,
           10
          ],
          [
           1,
           2,
           3,
           4,
           5,
           6,
           7,
           8,
           9,
           10
          ],
          [
           1,
           2,
           3,
           4,
           5,
           6,
           7,
           8,
           9,
           10
          ],
          [
           1,
           2,
           3,
           4,
           5,
           6,
           7,
           8,
           9,
           10
          ],
          [
           1,
           2,
           3,
           4,
           5,
           6,
           7,
           8,
           9,
           10
          ],
          [
           1,
           2,
           3,
           4,
           5,
           6,
           7,
           8,
           9,
           10
          ],
          [
           1,
           2,
           3,
           4,
           5,
           6,
           7,
           8,
           9,
           10
          ],
          [
           1,
           2,
           3,
           4,
           5,
           6,
           7,
           8,
           9,
           10
          ],
          [
           1,
           2,
           3,
           4,
           5,
           6,
           7,
           8,
           9,
           10
          ],
          [
           1,
           2,
           3,
           4,
           5,
           6,
           7,
           8,
           9,
           10
          ],
          [
           1,
           2,
           3,
           4,
           5,
           6,
           7,
           8,
           9,
           10
          ],
          [
           1,
           2,
           3,
           4,
           5,
           6,
           7,
           8,
           9,
           10
          ],
          [
           1,
           2,
           3,
           4,
           5,
           6,
           7,
           8,
           9,
           10
          ],
          [
           1,
           2,
           3,
           4,
           5,
           6,
           7,
           8,
           9,
           10
          ],
          [
           1,
           2,
           3,
           4,
           5,
           6,
           7,
           8,
           9,
           10
          ],
          [
           1,
           2,
           3,
           4,
           5,
           6,
           7,
           8,
           9,
           10
          ],
          [
           1,
           2,
           3,
           4,
           5,
           6,
           7,
           8,
           9,
           10
          ],
          [
           1,
           2,
           3,
           4,
           5,
           6,
           7,
           8,
           9,
           10
          ],
          [
           1,
           2,
           3,
           4,
           5,
           6,
           7,
           8,
           9,
           10
          ],
          [
           1,
           2,
           3,
           4,
           5,
           6,
           7,
           8,
           9,
           10
          ],
          [
           1,
           2,
           3,
           4,
           5,
           6,
           7,
           8,
           9,
           10
          ],
          [
           1,
           2,
           3,
           4,
           5,
           6,
           7,
           8,
           9,
           10
          ],
          [
           1,
           2,
           3,
           4,
           5,
           6,
           7,
           8,
           9,
           10
          ],
          [
           1,
           2,
           3,
           4,
           5,
           6,
           7,
           8,
           9,
           10
          ],
          [
           1,
           2,
           3,
           4,
           5,
           6,
           7,
           8,
           9,
           10
          ],
          [
           1,
           2,
           3,
           4,
           5,
           6,
           7,
           8,
           9,
           10
          ],
          [
           1,
           2,
           3,
           4,
           5,
           6,
           7,
           8,
           9,
           10
          ],
          [
           1,
           2,
           3,
           4,
           5,
           6,
           7,
           8,
           9,
           10
          ],
          [
           1,
           2,
           3,
           4,
           5,
           6,
           7,
           8,
           9,
           10
          ],
          [
           1,
           2,
           3,
           4,
           5,
           6,
           7,
           8,
           9,
           10
          ],
          [
           1,
           2,
           3,
           4,
           5,
           6,
           7,
           8,
           9,
           10
          ],
          [
           1,
           2,
           3,
           4,
           5,
           6,
           7,
           8,
           9,
           10
          ],
          [
           1,
           2,
           3,
           4,
           5,
           6,
           7,
           8,
           9,
           10
          ],
          [
           1,
           2,
           3,
           4,
           5,
           6,
           7,
           8,
           9,
           10
          ],
          [
           1,
           2,
           3,
           4,
           5,
           6,
           7,
           8,
           9,
           10
          ],
          [
           1,
           2,
           3,
           4,
           5,
           6,
           7,
           8,
           9,
           10
          ],
          [
           1,
           2,
           3,
           4,
           5,
           6,
           7,
           8,
           9,
           10
          ],
          [
           1,
           2,
           3,
           4,
           5,
           6,
           7,
           8,
           9,
           10
          ]
         ],
         "z": [
          [
           0,
           18590.368247033926,
           23959.776475863637,
           18081.916177710296,
           14566.209084739605,
           12160.931874611255,
           10662.627377436178,
           9338.546698818822,
           8408.315812069277,
           7559.989864928515
          ],
          [
           0,
           17167.96003382007,
           17848.339241508227,
           13235.030493290657,
           10777.596550178723,
           8981.338899480987,
           7836.326811026931,
           6839.824659175117,
           6312.133483228855,
           5410.618070887817
          ],
          [
           0,
           15579.234526617765,
           14031.494670455704,
           10518.376542024875,
           8611.771676804101,
           7046.918423034786,
           6202.988020811205,
           5506.419629222463,
           4871.956462284969,
           4394.583802753692
          ],
          [
           0,
           13565.514993221173,
           11681.728410421934,
           8819.086201121081,
           7280.234960996935,
           5989.782381641547,
           5056.636476723209,
           4495.504198401346,
           4091.3855524190803,
           3809.9830789643624
          ],
          [
           0,
           11854.072290211334,
           10077.810771550998,
           7553.631239799182,
           5974.5183338693905,
           5196.833722708464,
           4358.648143252638,
           3866.027165406582,
           3498.710543237322,
           3114.8543600126686
          ],
          [
           0,
           10635.629919729858,
           8485.115710985667,
           6442.544529479518,
           5181.6905602769175,
           4274.620815296264,
           3640.853428808507,
           3392.42372456164,
           3012.1140410967364,
           2637.3139126591323
          ],
          [
           0,
           9335.965556475152,
           7407.359939249668,
           5483.4268792547045,
           4500.015941520179,
           3723.027074781113,
           3206.5589043340815,
           2804.3413557722324,
           2574.001642911881,
           2335.877558974382
          ],
          [
           0,
           8680.993592833227,
           6624.440944295141,
           5064.00197208611,
           4112.243993448072,
           3365.8139035263757,
           2864.9272070460656,
           2663.0808090308165,
           2297.428690527152,
           2171.896816681252
          ],
          [
           0,
           8108.113780971549,
           6090.902858682966,
           4580.879577871095,
           3704.8122212217067,
           3009.8847882057053,
           2684.526234509506,
           2428.0073751427303,
           2104.644513637108,
           1982.5345499177442
          ],
          [
           0,
           7339.693749556304,
           5456.995760828993,
           4191.382143332722,
           3426.2967659125234,
           2707.9243430867955,
           2395.9122291827607,
           2090.3602638321036,
           1955.695889996149,
           1817.8462096547978
          ],
          [
           0,
           7005.772380288096,
           5162.1559312883355,
           3790.4184799012655,
           3118.973846386129,
           2638.7127976246934,
           2212.2218306449,
           1956.3626882725414,
           1884.088210504074,
           1631.1551171689837
          ],
          [
           0,
           6558.859023638461,
           4862.986671870502,
           3637.731457789016,
           2824.0050801068023,
           2488.9631371670393,
           2067.7875273056097,
           1882.9789447165028,
           1680.6833530648084,
           1477.1548673241214
          ],
          [
           0,
           6156.3302898518705,
           4482.139984103672,
           3416.815107347874,
           2635.3065408832567,
           2303.226343641591,
           2000.049032953589,
           1828.9038168741054,
           1663.67778046905,
           1356.0975394777001
          ],
          [
           0,
           5980.272489813919,
           4295.261235177767,
           3234.4522972294994,
           2586.721585503302,
           2210.4146186684816,
           1895.4910720680682,
           1705.0390722207865,
           1559.7079705665346,
           1436.1998031164837
          ],
          [
           0,
           5685.2516478012085,
           3945.1075506038997,
           2982.2471340163206,
           2441.409230603891,
           2003.6275824938148,
           1809.867963569394,
           1597.2141010839705,
           1438.4113018475457,
           1355.5242326071457
          ],
          [
           0,
           5323.120454989264,
           3720.6289607623603,
           2854.929237239603,
           2242.423952873515,
           1860.806706798386,
           1613.706877520332,
           1399.778703872765,
           1345.5509094317301,
           1201.9665538936993
          ],
          [
           0,
           5080.670985456139,
           3627.344111827674,
           2609.600938269753,
           2163.5822624514713,
           1885.1753200141486,
           1556.821507932765,
           1432.6403892032997,
           1339.9628701346476,
           1166.5821237792763
          ],
          [
           0,
           4803.956860900589,
           3254.471617860779,
           2554.4955580605056,
           1980.6350523849997,
           1683.4478712864654,
           1493.1382455230628,
           1370.7607542810308,
           1189.5889946661762,
           1070.651793522536
          ],
          [
           0,
           4703.156296043873,
           3117.315802419265,
           2425.644042726761,
           1964.5820288663474,
           1573.3218356340672,
           1424.6983444370774,
           1325.657503582038,
           1124.4507328819002,
           1089.4900998179148
          ],
          [
           0,
           4568.518646591597,
           3112.162571265382,
           2404.075046820979,
           1851.04663224323,
           1570.200245729641,
           1497.746941128393,
           1269.3674519754668,
           1139.1082993673472,
           1020.109092009889
          ],
          [
           0,
           4348.440117632041,
           2797.370411397182,
           2278.108829239261,
           1768.2350523356374,
           1469.1943661420553,
           1425.9528918829442,
           1184.7585107884413,
           1035.6803179419614,
           938.2672985023383
          ],
          [
           0,
           4117.486014799909,
           2738.158243515122,
           2103.8080826395067,
           1731.9834503184582,
           1457.091465210604,
           1269.5988250585444,
           1137.8490528157156,
           1004.4680623782009,
           953.1604281401221
          ],
          [
           0,
           3961.4308197061614,
           2667.5807141461737,
           1989.99408562372,
           1650.7561026210317,
           1417.7456010249666,
           1236.564143086584,
           1066.7996395664804,
           948.4769697759384,
           943.2137787595329
          ],
          [
           0,
           3790.5364962289063,
           2633.591575807014,
           1939.1735525598674,
           1548.1162590516567,
           1331.6394140101615,
           1128.546521358095,
           1091.6695824114627,
           957.145326233236,
           887.9179306282145
          ],
          [
           0,
           3643.6526753338967,
           2632.566485567076,
           1837.4401163294328,
           1441.894865150369,
           1358.2577538601643,
           1153.9453175286878,
           982.8117378067911,
           926.0543129641176,
           759.8818421961408
          ],
          [
           0,
           3524.2651301247884,
           2302.1990408376737,
           1771.990548529901,
           1378.5351868621979,
           1186.4137930052852,
           1066.6753576992162,
           969.6897183900236,
           836.6167510399771,
           833.7011121837459
          ],
          [
           0,
           3298.1296000964094,
           2212.7679327315595,
           1675.3583081319994,
           1303.2672526709848,
           1128.0166560546604,
           1041.9472076918416,
           890.7648527555282,
           872.3545894718012,
           718.650645933909
          ],
          [
           0,
           3158.5820758718605,
           2213.188149364763,
           1597.7242244464921,
           1317.3874291314728,
           1114.9884998193006,
           988.0647705973006,
           894.7777412884918,
           841.4214089818935,
           729.7123672627896
          ],
          [
           0,
           3134.1436677710617,
           2080.0312236697855,
           1617.308684758219,
           1297.3973310171727,
           1056.4328494280712,
           937.1230551095296,
           889.868711100479,
           820.022534418384,
           736.4767066354333
          ],
          [
           0,
           2872.6950663621046,
           1976.6847582938221,
           1435.9295333919933,
           1279.744348546829,
           947.7502462518466,
           897.1205351737841,
           747.9617492655789,
           672.3607253898061,
           741.4762686155877
          ],
          [
           0,
           2915.053285894791,
           1920.5479039347895,
           1440.363558037829,
           1216.7700726819803,
           991.2135087554586,
           906.5857006843848,
           814.6102887846499,
           722.9392323837639,
           715.4465957622675
          ],
          [
           0,
           2683.121284614297,
           1894.73464963095,
           1361.320979798216,
           1211.1431675459103,
           935.6353086003968,
           880.1712044549454,
           770.1304582716137,
           677.0456642550947,
           670.5802090709974
          ],
          [
           0,
           2614.9817633487132,
           1757.6451585633956,
           1312.0875702870837,
           1106.4665052586543,
           889.6658101409687,
           716.5829652863778,
           703.2759692329068,
           689.8614328296104,
           664.7644463708318
          ],
          [
           0,
           2674.249579102613,
           1726.705217342995,
           1347.7271379167082,
           1049.2452204797303,
           950.6668097941714,
           816.7048945421269,
           764.2376041885544,
           643.4976847422079,
           609.8852698267514
          ],
          [
           0,
           2513.46843176971,
           1636.6333921755172,
           1315.1381346617848,
           1000.2901799309695,
           849.7066761919874,
           744.8296539788407,
           727.8597931752731,
           631.3752465092921,
           622.2792374971966
          ],
          [
           0,
           2443.0074874799584,
           1678.6576359401283,
           1253.6450094563281,
           962.2970422017147,
           874.5172236356054,
           814.6793039347652,
           684.8393474728013,
           635.351882226534,
           589.4532759570717
          ],
          [
           0,
           2333.9447976920865,
           1507.0602186803708,
           1135.8957135383614,
           916.1713129892597,
           761.8913936948884,
           792.6702624059612,
           603.587851997832,
           566.5520314159353,
           564.2325946560292
          ],
          [
           0,
           2318.284210366038,
           1587.9464408728795,
           1179.4741960396393,
           968.5719706941424,
           828.2362881064045,
           749.6439916378833,
           669.0428797320144,
           542.247483116821,
           583.3920968541296
          ],
          [
           0,
           2177.8717601833355,
           1510.9031820965165,
           1127.9259978183939,
           898.8858721962849,
           792.9486362182462,
           724.4768894818391,
           664.1182993079705,
           564.983011005573,
           544.6578192796176
          ],
          [
           0,
           2177.6752344848164,
           1500.335303730612,
           1044.4242119759333,
           943.3509070779832,
           766.2375190338544,
           623.7842867309765,
           582.4211034415104,
           585.310158539462,
           543.8130726272328
          ],
          [
           0,
           2129.0405248550746,
           1389.3521852422246,
           1025.7500074353736,
           842.3517875355096,
           741.6754593884468,
           680.1731413604987,
           564.8786479692104,
           578.5663363913362,
           580.0958993779556
          ],
          [
           0,
           1996.6262614709897,
           1296.0021145859746,
           1035.9889304700976,
           832.5582654909693,
           702.541015825164,
           645.1364315497947,
           593.1117802609506,
           503.52764983989607,
           550.1165111876041
          ],
          [
           0,
           1927.00996308636,
           1266.0676388261675,
           1008.4802592965976,
           796.1990174942491,
           677.2056949298436,
           657.8792878875449,
           557.0320525397661,
           523.2275806416682,
           500.1097752392509
          ],
          [
           0,
           1882.8078025683558,
           1305.1978135364516,
           980.964380646242,
           728.5685101390322,
           676.1218563174588,
           668.1840280140262,
           551.5492333110336,
           570.4246780375065,
           468.3766538428199
          ],
          [
           0,
           1809.008267504989,
           1223.731996518662,
           931.0980697230043,
           768.4408907861956,
           656.8225759871223,
           556.6289297148944,
           493.44650363297603,
           498.322830237739,
           502.9478914737012
          ],
          [
           0,
           1759.9890852234653,
           1223.288522641079,
           889.1092841214303,
           780.5348340482453,
           619.3233509182843,
           624.428394676734,
           538.7167894897998,
           506.7875326451245,
           505.243056486891
          ],
          [
           0,
           1726.1517377930581,
           1094.2732799354037,
           911.7523172756725,
           727.5420792367654,
           576.493493902399,
           585.5334025817934,
           545.9223005146837,
           478.0556325379695,
           449.5501564215641
          ],
          [
           0,
           1750.5396538311259,
           1165.3135171569545,
           872.6212541079929,
           719.4377645276057,
           584.3130972266929,
           555.2959562023998,
           475.5142658629105,
           496.5504648845312,
           455.7908950748516
          ],
          [
           0,
           1594.1841839286187,
           1102.3472532513085,
           797.2841403869356,
           662.5734315498078,
           552.1506487571206,
           503.28633305392094,
           463.8230901533194,
           503.0079663220351,
           425.17264830386074
          ],
          [
           0,
           1655.4694951455672,
           1047.3400570164695,
           852.9018215749414,
           694.4159772647292,
           527.6290106678831,
           565.8618881236202,
           480.576886375843,
           432.5578867268812,
           477.5257611540028
          ]
         ]
        },
        {
         "colorscale": [
          [
           0,
           "#00224e"
          ],
          [
           0.1111111111111111,
           "#123570"
          ],
          [
           0.2222222222222222,
           "#3b496c"
          ],
          [
           0.3333333333333333,
           "#575d6d"
          ],
          [
           0.4444444444444444,
           "#707173"
          ],
          [
           0.5555555555555556,
           "#8a8678"
          ],
          [
           0.6666666666666666,
           "#a59c74"
          ],
          [
           0.7777777777777778,
           "#c3b369"
          ],
          [
           0.8888888888888888,
           "#e1cc55"
          ],
          [
           1,
           "#fee838"
          ]
         ],
         "name": "Quantile 99",
         "showscale": false,
         "type": "surface",
         "x": [
          [
           1,
           1,
           1,
           1,
           1,
           1,
           1,
           1,
           1,
           1
          ],
          [
           2,
           2,
           2,
           2,
           2,
           2,
           2,
           2,
           2,
           2
          ],
          [
           3,
           3,
           3,
           3,
           3,
           3,
           3,
           3,
           3,
           3
          ],
          [
           4,
           4,
           4,
           4,
           4,
           4,
           4,
           4,
           4,
           4
          ],
          [
           5,
           5,
           5,
           5,
           5,
           5,
           5,
           5,
           5,
           5
          ],
          [
           6,
           6,
           6,
           6,
           6,
           6,
           6,
           6,
           6,
           6
          ],
          [
           7,
           7,
           7,
           7,
           7,
           7,
           7,
           7,
           7,
           7
          ],
          [
           8,
           8,
           8,
           8,
           8,
           8,
           8,
           8,
           8,
           8
          ],
          [
           9,
           9,
           9,
           9,
           9,
           9,
           9,
           9,
           9,
           9
          ],
          [
           10,
           10,
           10,
           10,
           10,
           10,
           10,
           10,
           10,
           10
          ],
          [
           11,
           11,
           11,
           11,
           11,
           11,
           11,
           11,
           11,
           11
          ],
          [
           12,
           12,
           12,
           12,
           12,
           12,
           12,
           12,
           12,
           12
          ],
          [
           13,
           13,
           13,
           13,
           13,
           13,
           13,
           13,
           13,
           13
          ],
          [
           14,
           14,
           14,
           14,
           14,
           14,
           14,
           14,
           14,
           14
          ],
          [
           15,
           15,
           15,
           15,
           15,
           15,
           15,
           15,
           15,
           15
          ],
          [
           16,
           16,
           16,
           16,
           16,
           16,
           16,
           16,
           16,
           16
          ],
          [
           17,
           17,
           17,
           17,
           17,
           17,
           17,
           17,
           17,
           17
          ],
          [
           18,
           18,
           18,
           18,
           18,
           18,
           18,
           18,
           18,
           18
          ],
          [
           19,
           19,
           19,
           19,
           19,
           19,
           19,
           19,
           19,
           19
          ],
          [
           20,
           20,
           20,
           20,
           20,
           20,
           20,
           20,
           20,
           20
          ],
          [
           21,
           21,
           21,
           21,
           21,
           21,
           21,
           21,
           21,
           21
          ],
          [
           22,
           22,
           22,
           22,
           22,
           22,
           22,
           22,
           22,
           22
          ],
          [
           23,
           23,
           23,
           23,
           23,
           23,
           23,
           23,
           23,
           23
          ],
          [
           24,
           24,
           24,
           24,
           24,
           24,
           24,
           24,
           24,
           24
          ],
          [
           25,
           25,
           25,
           25,
           25,
           25,
           25,
           25,
           25,
           25
          ],
          [
           26,
           26,
           26,
           26,
           26,
           26,
           26,
           26,
           26,
           26
          ],
          [
           27,
           27,
           27,
           27,
           27,
           27,
           27,
           27,
           27,
           27
          ],
          [
           28,
           28,
           28,
           28,
           28,
           28,
           28,
           28,
           28,
           28
          ],
          [
           29,
           29,
           29,
           29,
           29,
           29,
           29,
           29,
           29,
           29
          ],
          [
           30,
           30,
           30,
           30,
           30,
           30,
           30,
           30,
           30,
           30
          ],
          [
           31,
           31,
           31,
           31,
           31,
           31,
           31,
           31,
           31,
           31
          ],
          [
           32,
           32,
           32,
           32,
           32,
           32,
           32,
           32,
           32,
           32
          ],
          [
           33,
           33,
           33,
           33,
           33,
           33,
           33,
           33,
           33,
           33
          ],
          [
           34,
           34,
           34,
           34,
           34,
           34,
           34,
           34,
           34,
           34
          ],
          [
           35,
           35,
           35,
           35,
           35,
           35,
           35,
           35,
           35,
           35
          ],
          [
           36,
           36,
           36,
           36,
           36,
           36,
           36,
           36,
           36,
           36
          ],
          [
           37,
           37,
           37,
           37,
           37,
           37,
           37,
           37,
           37,
           37
          ],
          [
           38,
           38,
           38,
           38,
           38,
           38,
           38,
           38,
           38,
           38
          ],
          [
           39,
           39,
           39,
           39,
           39,
           39,
           39,
           39,
           39,
           39
          ],
          [
           40,
           40,
           40,
           40,
           40,
           40,
           40,
           40,
           40,
           40
          ],
          [
           41,
           41,
           41,
           41,
           41,
           41,
           41,
           41,
           41,
           41
          ],
          [
           42,
           42,
           42,
           42,
           42,
           42,
           42,
           42,
           42,
           42
          ],
          [
           43,
           43,
           43,
           43,
           43,
           43,
           43,
           43,
           43,
           43
          ],
          [
           44,
           44,
           44,
           44,
           44,
           44,
           44,
           44,
           44,
           44
          ],
          [
           45,
           45,
           45,
           45,
           45,
           45,
           45,
           45,
           45,
           45
          ],
          [
           46,
           46,
           46,
           46,
           46,
           46,
           46,
           46,
           46,
           46
          ],
          [
           47,
           47,
           47,
           47,
           47,
           47,
           47,
           47,
           47,
           47
          ],
          [
           48,
           48,
           48,
           48,
           48,
           48,
           48,
           48,
           48,
           48
          ],
          [
           49,
           49,
           49,
           49,
           49,
           49,
           49,
           49,
           49,
           49
          ],
          [
           50,
           50,
           50,
           50,
           50,
           50,
           50,
           50,
           50,
           50
          ]
         ],
         "y": [
          [
           1,
           2,
           3,
           4,
           5,
           6,
           7,
           8,
           9,
           10
          ],
          [
           1,
           2,
           3,
           4,
           5,
           6,
           7,
           8,
           9,
           10
          ],
          [
           1,
           2,
           3,
           4,
           5,
           6,
           7,
           8,
           9,
           10
          ],
          [
           1,
           2,
           3,
           4,
           5,
           6,
           7,
           8,
           9,
           10
          ],
          [
           1,
           2,
           3,
           4,
           5,
           6,
           7,
           8,
           9,
           10
          ],
          [
           1,
           2,
           3,
           4,
           5,
           6,
           7,
           8,
           9,
           10
          ],
          [
           1,
           2,
           3,
           4,
           5,
           6,
           7,
           8,
           9,
           10
          ],
          [
           1,
           2,
           3,
           4,
           5,
           6,
           7,
           8,
           9,
           10
          ],
          [
           1,
           2,
           3,
           4,
           5,
           6,
           7,
           8,
           9,
           10
          ],
          [
           1,
           2,
           3,
           4,
           5,
           6,
           7,
           8,
           9,
           10
          ],
          [
           1,
           2,
           3,
           4,
           5,
           6,
           7,
           8,
           9,
           10
          ],
          [
           1,
           2,
           3,
           4,
           5,
           6,
           7,
           8,
           9,
           10
          ],
          [
           1,
           2,
           3,
           4,
           5,
           6,
           7,
           8,
           9,
           10
          ],
          [
           1,
           2,
           3,
           4,
           5,
           6,
           7,
           8,
           9,
           10
          ],
          [
           1,
           2,
           3,
           4,
           5,
           6,
           7,
           8,
           9,
           10
          ],
          [
           1,
           2,
           3,
           4,
           5,
           6,
           7,
           8,
           9,
           10
          ],
          [
           1,
           2,
           3,
           4,
           5,
           6,
           7,
           8,
           9,
           10
          ],
          [
           1,
           2,
           3,
           4,
           5,
           6,
           7,
           8,
           9,
           10
          ],
          [
           1,
           2,
           3,
           4,
           5,
           6,
           7,
           8,
           9,
           10
          ],
          [
           1,
           2,
           3,
           4,
           5,
           6,
           7,
           8,
           9,
           10
          ],
          [
           1,
           2,
           3,
           4,
           5,
           6,
           7,
           8,
           9,
           10
          ],
          [
           1,
           2,
           3,
           4,
           5,
           6,
           7,
           8,
           9,
           10
          ],
          [
           1,
           2,
           3,
           4,
           5,
           6,
           7,
           8,
           9,
           10
          ],
          [
           1,
           2,
           3,
           4,
           5,
           6,
           7,
           8,
           9,
           10
          ],
          [
           1,
           2,
           3,
           4,
           5,
           6,
           7,
           8,
           9,
           10
          ],
          [
           1,
           2,
           3,
           4,
           5,
           6,
           7,
           8,
           9,
           10
          ],
          [
           1,
           2,
           3,
           4,
           5,
           6,
           7,
           8,
           9,
           10
          ],
          [
           1,
           2,
           3,
           4,
           5,
           6,
           7,
           8,
           9,
           10
          ],
          [
           1,
           2,
           3,
           4,
           5,
           6,
           7,
           8,
           9,
           10
          ],
          [
           1,
           2,
           3,
           4,
           5,
           6,
           7,
           8,
           9,
           10
          ],
          [
           1,
           2,
           3,
           4,
           5,
           6,
           7,
           8,
           9,
           10
          ],
          [
           1,
           2,
           3,
           4,
           5,
           6,
           7,
           8,
           9,
           10
          ],
          [
           1,
           2,
           3,
           4,
           5,
           6,
           7,
           8,
           9,
           10
          ],
          [
           1,
           2,
           3,
           4,
           5,
           6,
           7,
           8,
           9,
           10
          ],
          [
           1,
           2,
           3,
           4,
           5,
           6,
           7,
           8,
           9,
           10
          ],
          [
           1,
           2,
           3,
           4,
           5,
           6,
           7,
           8,
           9,
           10
          ],
          [
           1,
           2,
           3,
           4,
           5,
           6,
           7,
           8,
           9,
           10
          ],
          [
           1,
           2,
           3,
           4,
           5,
           6,
           7,
           8,
           9,
           10
          ],
          [
           1,
           2,
           3,
           4,
           5,
           6,
           7,
           8,
           9,
           10
          ],
          [
           1,
           2,
           3,
           4,
           5,
           6,
           7,
           8,
           9,
           10
          ],
          [
           1,
           2,
           3,
           4,
           5,
           6,
           7,
           8,
           9,
           10
          ],
          [
           1,
           2,
           3,
           4,
           5,
           6,
           7,
           8,
           9,
           10
          ],
          [
           1,
           2,
           3,
           4,
           5,
           6,
           7,
           8,
           9,
           10
          ],
          [
           1,
           2,
           3,
           4,
           5,
           6,
           7,
           8,
           9,
           10
          ],
          [
           1,
           2,
           3,
           4,
           5,
           6,
           7,
           8,
           9,
           10
          ],
          [
           1,
           2,
           3,
           4,
           5,
           6,
           7,
           8,
           9,
           10
          ],
          [
           1,
           2,
           3,
           4,
           5,
           6,
           7,
           8,
           9,
           10
          ],
          [
           1,
           2,
           3,
           4,
           5,
           6,
           7,
           8,
           9,
           10
          ],
          [
           1,
           2,
           3,
           4,
           5,
           6,
           7,
           8,
           9,
           10
          ],
          [
           1,
           2,
           3,
           4,
           5,
           6,
           7,
           8,
           9,
           10
          ]
         ],
         "z": [
          [
           null,
           6.6348966010212145,
           11.344866730144373,
           18.475306906582357,
           30.57791416689249,
           52.19139483319193,
           92.01002361413214,
           166.98739013667387,
           310.45738821990585,
           588.2977941452372
          ],
          [
           null,
           6.6348966010212145,
           11.344866730144373,
           18.475306906582357,
           30.57791416689249,
           52.19139483319193,
           92.01002361413214,
           166.98739013667387,
           310.45738821990585,
           588.2977941452372
          ],
          [
           null,
           6.6348966010212145,
           11.344866730144373,
           18.475306906582357,
           30.57791416689249,
           52.19139483319193,
           92.01002361413214,
           166.98739013667387,
           310.45738821990585,
           588.2977941452372
          ],
          [
           null,
           6.6348966010212145,
           11.344866730144373,
           18.475306906582357,
           30.57791416689249,
           52.19139483319193,
           92.01002361413214,
           166.98739013667387,
           310.45738821990585,
           588.2977941452372
          ],
          [
           null,
           6.6348966010212145,
           11.344866730144373,
           18.475306906582357,
           30.57791416689249,
           52.19139483319193,
           92.01002361413214,
           166.98739013667387,
           310.45738821990585,
           588.2977941452372
          ],
          [
           null,
           6.6348966010212145,
           11.344866730144373,
           18.475306906582357,
           30.57791416689249,
           52.19139483319193,
           92.01002361413214,
           166.98739013667387,
           310.45738821990585,
           588.2977941452372
          ],
          [
           null,
           6.6348966010212145,
           11.344866730144373,
           18.475306906582357,
           30.57791416689249,
           52.19139483319193,
           92.01002361413214,
           166.98739013667387,
           310.45738821990585,
           588.2977941452372
          ],
          [
           null,
           6.6348966010212145,
           11.344866730144373,
           18.475306906582357,
           30.57791416689249,
           52.19139483319193,
           92.01002361413214,
           166.98739013667387,
           310.45738821990585,
           588.2977941452372
          ],
          [
           null,
           6.6348966010212145,
           11.344866730144373,
           18.475306906582357,
           30.57791416689249,
           52.19139483319193,
           92.01002361413214,
           166.98739013667387,
           310.45738821990585,
           588.2977941452372
          ],
          [
           null,
           6.6348966010212145,
           11.344866730144373,
           18.475306906582357,
           30.57791416689249,
           52.19139483319193,
           92.01002361413214,
           166.98739013667387,
           310.45738821990585,
           588.2977941452372
          ],
          [
           null,
           6.6348966010212145,
           11.344866730144373,
           18.475306906582357,
           30.57791416689249,
           52.19139483319193,
           92.01002361413214,
           166.98739013667387,
           310.45738821990585,
           588.2977941452372
          ],
          [
           null,
           6.6348966010212145,
           11.344866730144373,
           18.475306906582357,
           30.57791416689249,
           52.19139483319193,
           92.01002361413214,
           166.98739013667387,
           310.45738821990585,
           588.2977941452372
          ],
          [
           null,
           6.6348966010212145,
           11.344866730144373,
           18.475306906582357,
           30.57791416689249,
           52.19139483319193,
           92.01002361413214,
           166.98739013667387,
           310.45738821990585,
           588.2977941452372
          ],
          [
           null,
           6.6348966010212145,
           11.344866730144373,
           18.475306906582357,
           30.57791416689249,
           52.19139483319193,
           92.01002361413214,
           166.98739013667387,
           310.45738821990585,
           588.2977941452372
          ],
          [
           null,
           6.6348966010212145,
           11.344866730144373,
           18.475306906582357,
           30.57791416689249,
           52.19139483319193,
           92.01002361413214,
           166.98739013667387,
           310.45738821990585,
           588.2977941452372
          ],
          [
           null,
           6.6348966010212145,
           11.344866730144373,
           18.475306906582357,
           30.57791416689249,
           52.19139483319193,
           92.01002361413214,
           166.98739013667387,
           310.45738821990585,
           588.2977941452372
          ],
          [
           null,
           6.6348966010212145,
           11.344866730144373,
           18.475306906582357,
           30.57791416689249,
           52.19139483319193,
           92.01002361413214,
           166.98739013667387,
           310.45738821990585,
           588.2977941452372
          ],
          [
           null,
           6.6348966010212145,
           11.344866730144373,
           18.475306906582357,
           30.57791416689249,
           52.19139483319193,
           92.01002361413214,
           166.98739013667387,
           310.45738821990585,
           588.2977941452372
          ],
          [
           null,
           6.6348966010212145,
           11.344866730144373,
           18.475306906582357,
           30.57791416689249,
           52.19139483319193,
           92.01002361413214,
           166.98739013667387,
           310.45738821990585,
           588.2977941452372
          ],
          [
           null,
           6.6348966010212145,
           11.344866730144373,
           18.475306906582357,
           30.57791416689249,
           52.19139483319193,
           92.01002361413214,
           166.98739013667387,
           310.45738821990585,
           588.2977941452372
          ],
          [
           null,
           6.6348966010212145,
           11.344866730144373,
           18.475306906582357,
           30.57791416689249,
           52.19139483319193,
           92.01002361413214,
           166.98739013667387,
           310.45738821990585,
           588.2977941452372
          ],
          [
           null,
           6.6348966010212145,
           11.344866730144373,
           18.475306906582357,
           30.57791416689249,
           52.19139483319193,
           92.01002361413214,
           166.98739013667387,
           310.45738821990585,
           588.2977941452372
          ],
          [
           null,
           6.6348966010212145,
           11.344866730144373,
           18.475306906582357,
           30.57791416689249,
           52.19139483319193,
           92.01002361413214,
           166.98739013667387,
           310.45738821990585,
           588.2977941452372
          ],
          [
           null,
           6.6348966010212145,
           11.344866730144373,
           18.475306906582357,
           30.57791416689249,
           52.19139483319193,
           92.01002361413214,
           166.98739013667387,
           310.45738821990585,
           588.2977941452372
          ],
          [
           null,
           6.6348966010212145,
           11.344866730144373,
           18.475306906582357,
           30.57791416689249,
           52.19139483319193,
           92.01002361413214,
           166.98739013667387,
           310.45738821990585,
           588.2977941452372
          ],
          [
           null,
           6.6348966010212145,
           11.344866730144373,
           18.475306906582357,
           30.57791416689249,
           52.19139483319193,
           92.01002361413214,
           166.98739013667387,
           310.45738821990585,
           588.2977941452372
          ],
          [
           null,
           6.6348966010212145,
           11.344866730144373,
           18.475306906582357,
           30.57791416689249,
           52.19139483319193,
           92.01002361413214,
           166.98739013667387,
           310.45738821990585,
           588.2977941452372
          ],
          [
           null,
           6.6348966010212145,
           11.344866730144373,
           18.475306906582357,
           30.57791416689249,
           52.19139483319193,
           92.01002361413214,
           166.98739013667387,
           310.45738821990585,
           588.2977941452372
          ],
          [
           null,
           6.6348966010212145,
           11.344866730144373,
           18.475306906582357,
           30.57791416689249,
           52.19139483319193,
           92.01002361413214,
           166.98739013667387,
           310.45738821990585,
           588.2977941452372
          ],
          [
           null,
           6.6348966010212145,
           11.344866730144373,
           18.475306906582357,
           30.57791416689249,
           52.19139483319193,
           92.01002361413214,
           166.98739013667387,
           310.45738821990585,
           588.2977941452372
          ],
          [
           null,
           6.6348966010212145,
           11.344866730144373,
           18.475306906582357,
           30.57791416689249,
           52.19139483319193,
           92.01002361413214,
           166.98739013667387,
           310.45738821990585,
           588.2977941452372
          ],
          [
           null,
           6.6348966010212145,
           11.344866730144373,
           18.475306906582357,
           30.57791416689249,
           52.19139483319193,
           92.01002361413214,
           166.98739013667387,
           310.45738821990585,
           588.2977941452372
          ],
          [
           null,
           6.6348966010212145,
           11.344866730144373,
           18.475306906582357,
           30.57791416689249,
           52.19139483319193,
           92.01002361413214,
           166.98739013667387,
           310.45738821990585,
           588.2977941452372
          ],
          [
           null,
           6.6348966010212145,
           11.344866730144373,
           18.475306906582357,
           30.57791416689249,
           52.19139483319193,
           92.01002361413214,
           166.98739013667387,
           310.45738821990585,
           588.2977941452372
          ],
          [
           null,
           6.6348966010212145,
           11.344866730144373,
           18.475306906582357,
           30.57791416689249,
           52.19139483319193,
           92.01002361413214,
           166.98739013667387,
           310.45738821990585,
           588.2977941452372
          ],
          [
           null,
           6.6348966010212145,
           11.344866730144373,
           18.475306906582357,
           30.57791416689249,
           52.19139483319193,
           92.01002361413214,
           166.98739013667387,
           310.45738821990585,
           588.2977941452372
          ],
          [
           null,
           6.6348966010212145,
           11.344866730144373,
           18.475306906582357,
           30.57791416689249,
           52.19139483319193,
           92.01002361413214,
           166.98739013667387,
           310.45738821990585,
           588.2977941452372
          ],
          [
           null,
           6.6348966010212145,
           11.344866730144373,
           18.475306906582357,
           30.57791416689249,
           52.19139483319193,
           92.01002361413214,
           166.98739013667387,
           310.45738821990585,
           588.2977941452372
          ],
          [
           null,
           6.6348966010212145,
           11.344866730144373,
           18.475306906582357,
           30.57791416689249,
           52.19139483319193,
           92.01002361413214,
           166.98739013667387,
           310.45738821990585,
           588.2977941452372
          ],
          [
           null,
           6.6348966010212145,
           11.344866730144373,
           18.475306906582357,
           30.57791416689249,
           52.19139483319193,
           92.01002361413214,
           166.98739013667387,
           310.45738821990585,
           588.2977941452372
          ],
          [
           null,
           6.6348966010212145,
           11.344866730144373,
           18.475306906582357,
           30.57791416689249,
           52.19139483319193,
           92.01002361413214,
           166.98739013667387,
           310.45738821990585,
           588.2977941452372
          ],
          [
           null,
           6.6348966010212145,
           11.344866730144373,
           18.475306906582357,
           30.57791416689249,
           52.19139483319193,
           92.01002361413214,
           166.98739013667387,
           310.45738821990585,
           588.2977941452372
          ],
          [
           null,
           6.6348966010212145,
           11.344866730144373,
           18.475306906582357,
           30.57791416689249,
           52.19139483319193,
           92.01002361413214,
           166.98739013667387,
           310.45738821990585,
           588.2977941452372
          ],
          [
           null,
           6.6348966010212145,
           11.344866730144373,
           18.475306906582357,
           30.57791416689249,
           52.19139483319193,
           92.01002361413214,
           166.98739013667387,
           310.45738821990585,
           588.2977941452372
          ],
          [
           null,
           6.6348966010212145,
           11.344866730144373,
           18.475306906582357,
           30.57791416689249,
           52.19139483319193,
           92.01002361413214,
           166.98739013667387,
           310.45738821990585,
           588.2977941452372
          ],
          [
           null,
           6.6348966010212145,
           11.344866730144373,
           18.475306906582357,
           30.57791416689249,
           52.19139483319193,
           92.01002361413214,
           166.98739013667387,
           310.45738821990585,
           588.2977941452372
          ],
          [
           null,
           6.6348966010212145,
           11.344866730144373,
           18.475306906582357,
           30.57791416689249,
           52.19139483319193,
           92.01002361413214,
           166.98739013667387,
           310.45738821990585,
           588.2977941452372
          ],
          [
           null,
           6.6348966010212145,
           11.344866730144373,
           18.475306906582357,
           30.57791416689249,
           52.19139483319193,
           92.01002361413214,
           166.98739013667387,
           310.45738821990585,
           588.2977941452372
          ],
          [
           null,
           6.6348966010212145,
           11.344866730144373,
           18.475306906582357,
           30.57791416689249,
           52.19139483319193,
           92.01002361413214,
           166.98739013667387,
           310.45738821990585,
           588.2977941452372
          ],
          [
           null,
           6.6348966010212145,
           11.344866730144373,
           18.475306906582357,
           30.57791416689249,
           52.19139483319193,
           92.01002361413214,
           166.98739013667387,
           310.45738821990585,
           588.2977941452372
          ]
         ]
        }
       ],
       "layout": {
        "height": 700,
        "scene": {
         "xaxis": {
          "title": {
           "text": "Aggregation Level"
          }
         },
         "yaxis": {
          "title": {
           "text": "Block Size"
          }
         },
         "zaxis": {
          "title": {
           "text": "KL"
          }
         }
        },
        "template": {
         "data": {
          "bar": [
           {
            "error_x": {
             "color": "#2a3f5f"
            },
            "error_y": {
             "color": "#2a3f5f"
            },
            "marker": {
             "line": {
              "color": "#E5ECF6",
              "width": 0.5
             },
             "pattern": {
              "fillmode": "overlay",
              "size": 10,
              "solidity": 0.2
             }
            },
            "type": "bar"
           }
          ],
          "barpolar": [
           {
            "marker": {
             "line": {
              "color": "#E5ECF6",
              "width": 0.5
             },
             "pattern": {
              "fillmode": "overlay",
              "size": 10,
              "solidity": 0.2
             }
            },
            "type": "barpolar"
           }
          ],
          "carpet": [
           {
            "aaxis": {
             "endlinecolor": "#2a3f5f",
             "gridcolor": "white",
             "linecolor": "white",
             "minorgridcolor": "white",
             "startlinecolor": "#2a3f5f"
            },
            "baxis": {
             "endlinecolor": "#2a3f5f",
             "gridcolor": "white",
             "linecolor": "white",
             "minorgridcolor": "white",
             "startlinecolor": "#2a3f5f"
            },
            "type": "carpet"
           }
          ],
          "choropleth": [
           {
            "colorbar": {
             "outlinewidth": 0,
             "ticks": ""
            },
            "type": "choropleth"
           }
          ],
          "contour": [
           {
            "colorbar": {
             "outlinewidth": 0,
             "ticks": ""
            },
            "colorscale": [
             [
              0,
              "#0d0887"
             ],
             [
              0.1111111111111111,
              "#46039f"
             ],
             [
              0.2222222222222222,
              "#7201a8"
             ],
             [
              0.3333333333333333,
              "#9c179e"
             ],
             [
              0.4444444444444444,
              "#bd3786"
             ],
             [
              0.5555555555555556,
              "#d8576b"
             ],
             [
              0.6666666666666666,
              "#ed7953"
             ],
             [
              0.7777777777777778,
              "#fb9f3a"
             ],
             [
              0.8888888888888888,
              "#fdca26"
             ],
             [
              1,
              "#f0f921"
             ]
            ],
            "type": "contour"
           }
          ],
          "contourcarpet": [
           {
            "colorbar": {
             "outlinewidth": 0,
             "ticks": ""
            },
            "type": "contourcarpet"
           }
          ],
          "heatmap": [
           {
            "colorbar": {
             "outlinewidth": 0,
             "ticks": ""
            },
            "colorscale": [
             [
              0,
              "#0d0887"
             ],
             [
              0.1111111111111111,
              "#46039f"
             ],
             [
              0.2222222222222222,
              "#7201a8"
             ],
             [
              0.3333333333333333,
              "#9c179e"
             ],
             [
              0.4444444444444444,
              "#bd3786"
             ],
             [
              0.5555555555555556,
              "#d8576b"
             ],
             [
              0.6666666666666666,
              "#ed7953"
             ],
             [
              0.7777777777777778,
              "#fb9f3a"
             ],
             [
              0.8888888888888888,
              "#fdca26"
             ],
             [
              1,
              "#f0f921"
             ]
            ],
            "type": "heatmap"
           }
          ],
          "heatmapgl": [
           {
            "colorbar": {
             "outlinewidth": 0,
             "ticks": ""
            },
            "colorscale": [
             [
              0,
              "#0d0887"
             ],
             [
              0.1111111111111111,
              "#46039f"
             ],
             [
              0.2222222222222222,
              "#7201a8"
             ],
             [
              0.3333333333333333,
              "#9c179e"
             ],
             [
              0.4444444444444444,
              "#bd3786"
             ],
             [
              0.5555555555555556,
              "#d8576b"
             ],
             [
              0.6666666666666666,
              "#ed7953"
             ],
             [
              0.7777777777777778,
              "#fb9f3a"
             ],
             [
              0.8888888888888888,
              "#fdca26"
             ],
             [
              1,
              "#f0f921"
             ]
            ],
            "type": "heatmapgl"
           }
          ],
          "histogram": [
           {
            "marker": {
             "pattern": {
              "fillmode": "overlay",
              "size": 10,
              "solidity": 0.2
             }
            },
            "type": "histogram"
           }
          ],
          "histogram2d": [
           {
            "colorbar": {
             "outlinewidth": 0,
             "ticks": ""
            },
            "colorscale": [
             [
              0,
              "#0d0887"
             ],
             [
              0.1111111111111111,
              "#46039f"
             ],
             [
              0.2222222222222222,
              "#7201a8"
             ],
             [
              0.3333333333333333,
              "#9c179e"
             ],
             [
              0.4444444444444444,
              "#bd3786"
             ],
             [
              0.5555555555555556,
              "#d8576b"
             ],
             [
              0.6666666666666666,
              "#ed7953"
             ],
             [
              0.7777777777777778,
              "#fb9f3a"
             ],
             [
              0.8888888888888888,
              "#fdca26"
             ],
             [
              1,
              "#f0f921"
             ]
            ],
            "type": "histogram2d"
           }
          ],
          "histogram2dcontour": [
           {
            "colorbar": {
             "outlinewidth": 0,
             "ticks": ""
            },
            "colorscale": [
             [
              0,
              "#0d0887"
             ],
             [
              0.1111111111111111,
              "#46039f"
             ],
             [
              0.2222222222222222,
              "#7201a8"
             ],
             [
              0.3333333333333333,
              "#9c179e"
             ],
             [
              0.4444444444444444,
              "#bd3786"
             ],
             [
              0.5555555555555556,
              "#d8576b"
             ],
             [
              0.6666666666666666,
              "#ed7953"
             ],
             [
              0.7777777777777778,
              "#fb9f3a"
             ],
             [
              0.8888888888888888,
              "#fdca26"
             ],
             [
              1,
              "#f0f921"
             ]
            ],
            "type": "histogram2dcontour"
           }
          ],
          "mesh3d": [
           {
            "colorbar": {
             "outlinewidth": 0,
             "ticks": ""
            },
            "type": "mesh3d"
           }
          ],
          "parcoords": [
           {
            "line": {
             "colorbar": {
              "outlinewidth": 0,
              "ticks": ""
             }
            },
            "type": "parcoords"
           }
          ],
          "pie": [
           {
            "automargin": true,
            "type": "pie"
           }
          ],
          "scatter": [
           {
            "fillpattern": {
             "fillmode": "overlay",
             "size": 10,
             "solidity": 0.2
            },
            "type": "scatter"
           }
          ],
          "scatter3d": [
           {
            "line": {
             "colorbar": {
              "outlinewidth": 0,
              "ticks": ""
             }
            },
            "marker": {
             "colorbar": {
              "outlinewidth": 0,
              "ticks": ""
             }
            },
            "type": "scatter3d"
           }
          ],
          "scattercarpet": [
           {
            "marker": {
             "colorbar": {
              "outlinewidth": 0,
              "ticks": ""
             }
            },
            "type": "scattercarpet"
           }
          ],
          "scattergeo": [
           {
            "marker": {
             "colorbar": {
              "outlinewidth": 0,
              "ticks": ""
             }
            },
            "type": "scattergeo"
           }
          ],
          "scattergl": [
           {
            "marker": {
             "colorbar": {
              "outlinewidth": 0,
              "ticks": ""
             }
            },
            "type": "scattergl"
           }
          ],
          "scattermapbox": [
           {
            "marker": {
             "colorbar": {
              "outlinewidth": 0,
              "ticks": ""
             }
            },
            "type": "scattermapbox"
           }
          ],
          "scatterpolar": [
           {
            "marker": {
             "colorbar": {
              "outlinewidth": 0,
              "ticks": ""
             }
            },
            "type": "scatterpolar"
           }
          ],
          "scatterpolargl": [
           {
            "marker": {
             "colorbar": {
              "outlinewidth": 0,
              "ticks": ""
             }
            },
            "type": "scatterpolargl"
           }
          ],
          "scatterternary": [
           {
            "marker": {
             "colorbar": {
              "outlinewidth": 0,
              "ticks": ""
             }
            },
            "type": "scatterternary"
           }
          ],
          "surface": [
           {
            "colorbar": {
             "outlinewidth": 0,
             "ticks": ""
            },
            "colorscale": [
             [
              0,
              "#0d0887"
             ],
             [
              0.1111111111111111,
              "#46039f"
             ],
             [
              0.2222222222222222,
              "#7201a8"
             ],
             [
              0.3333333333333333,
              "#9c179e"
             ],
             [
              0.4444444444444444,
              "#bd3786"
             ],
             [
              0.5555555555555556,
              "#d8576b"
             ],
             [
              0.6666666666666666,
              "#ed7953"
             ],
             [
              0.7777777777777778,
              "#fb9f3a"
             ],
             [
              0.8888888888888888,
              "#fdca26"
             ],
             [
              1,
              "#f0f921"
             ]
            ],
            "type": "surface"
           }
          ],
          "table": [
           {
            "cells": {
             "fill": {
              "color": "#EBF0F8"
             },
             "line": {
              "color": "white"
             }
            },
            "header": {
             "fill": {
              "color": "#C8D4E3"
             },
             "line": {
              "color": "white"
             }
            },
            "type": "table"
           }
          ]
         },
         "layout": {
          "annotationdefaults": {
           "arrowcolor": "#2a3f5f",
           "arrowhead": 0,
           "arrowwidth": 1
          },
          "autotypenumbers": "strict",
          "coloraxis": {
           "colorbar": {
            "outlinewidth": 0,
            "ticks": ""
           }
          },
          "colorscale": {
           "diverging": [
            [
             0,
             "#8e0152"
            ],
            [
             0.1,
             "#c51b7d"
            ],
            [
             0.2,
             "#de77ae"
            ],
            [
             0.3,
             "#f1b6da"
            ],
            [
             0.4,
             "#fde0ef"
            ],
            [
             0.5,
             "#f7f7f7"
            ],
            [
             0.6,
             "#e6f5d0"
            ],
            [
             0.7,
             "#b8e186"
            ],
            [
             0.8,
             "#7fbc41"
            ],
            [
             0.9,
             "#4d9221"
            ],
            [
             1,
             "#276419"
            ]
           ],
           "sequential": [
            [
             0,
             "#0d0887"
            ],
            [
             0.1111111111111111,
             "#46039f"
            ],
            [
             0.2222222222222222,
             "#7201a8"
            ],
            [
             0.3333333333333333,
             "#9c179e"
            ],
            [
             0.4444444444444444,
             "#bd3786"
            ],
            [
             0.5555555555555556,
             "#d8576b"
            ],
            [
             0.6666666666666666,
             "#ed7953"
            ],
            [
             0.7777777777777778,
             "#fb9f3a"
            ],
            [
             0.8888888888888888,
             "#fdca26"
            ],
            [
             1,
             "#f0f921"
            ]
           ],
           "sequentialminus": [
            [
             0,
             "#0d0887"
            ],
            [
             0.1111111111111111,
             "#46039f"
            ],
            [
             0.2222222222222222,
             "#7201a8"
            ],
            [
             0.3333333333333333,
             "#9c179e"
            ],
            [
             0.4444444444444444,
             "#bd3786"
            ],
            [
             0.5555555555555556,
             "#d8576b"
            ],
            [
             0.6666666666666666,
             "#ed7953"
            ],
            [
             0.7777777777777778,
             "#fb9f3a"
            ],
            [
             0.8888888888888888,
             "#fdca26"
            ],
            [
             1,
             "#f0f921"
            ]
           ]
          },
          "colorway": [
           "#636efa",
           "#EF553B",
           "#00cc96",
           "#ab63fa",
           "#FFA15A",
           "#19d3f3",
           "#FF6692",
           "#B6E880",
           "#FF97FF",
           "#FECB52"
          ],
          "font": {
           "color": "#2a3f5f"
          },
          "geo": {
           "bgcolor": "white",
           "lakecolor": "white",
           "landcolor": "#E5ECF6",
           "showlakes": true,
           "showland": true,
           "subunitcolor": "white"
          },
          "hoverlabel": {
           "align": "left"
          },
          "hovermode": "closest",
          "mapbox": {
           "style": "light"
          },
          "paper_bgcolor": "white",
          "plot_bgcolor": "#E5ECF6",
          "polar": {
           "angularaxis": {
            "gridcolor": "white",
            "linecolor": "white",
            "ticks": ""
           },
           "bgcolor": "#E5ECF6",
           "radialaxis": {
            "gridcolor": "white",
            "linecolor": "white",
            "ticks": ""
           }
          },
          "scene": {
           "xaxis": {
            "backgroundcolor": "#E5ECF6",
            "gridcolor": "white",
            "gridwidth": 2,
            "linecolor": "white",
            "showbackground": true,
            "ticks": "",
            "zerolinecolor": "white"
           },
           "yaxis": {
            "backgroundcolor": "#E5ECF6",
            "gridcolor": "white",
            "gridwidth": 2,
            "linecolor": "white",
            "showbackground": true,
            "ticks": "",
            "zerolinecolor": "white"
           },
           "zaxis": {
            "backgroundcolor": "#E5ECF6",
            "gridcolor": "white",
            "gridwidth": 2,
            "linecolor": "white",
            "showbackground": true,
            "ticks": "",
            "zerolinecolor": "white"
           }
          },
          "shapedefaults": {
           "line": {
            "color": "#2a3f5f"
           }
          },
          "ternary": {
           "aaxis": {
            "gridcolor": "white",
            "linecolor": "white",
            "ticks": ""
           },
           "baxis": {
            "gridcolor": "white",
            "linecolor": "white",
            "ticks": ""
           },
           "bgcolor": "#E5ECF6",
           "caxis": {
            "gridcolor": "white",
            "linecolor": "white",
            "ticks": ""
           }
          },
          "title": {
           "x": 0.05
          },
          "xaxis": {
           "automargin": true,
           "gridcolor": "white",
           "linecolor": "white",
           "ticks": "",
           "title": {
            "standoff": 15
           },
           "zerolinecolor": "white",
           "zerolinewidth": 2
          },
          "yaxis": {
           "automargin": true,
           "gridcolor": "white",
           "linecolor": "white",
           "ticks": "",
           "title": {
            "standoff": 15
           },
           "zerolinecolor": "white",
           "zerolinewidth": 2
          }
         }
        },
        "title": {
         "text": "KL by Aggregation Level and Block Size"
        },
        "width": 900
       }
      }
     },
     "metadata": {},
     "output_type": "display_data"
    }
   ],
   "source": [
    "eth_multi_tester.plot_3D_test_result(test='KL Divergence')"
   ]
  }
 ],
 "metadata": {
  "kernelspec": {
   "display_name": "base",
   "language": "python",
   "name": "python3"
  },
  "language_info": {
   "codemirror_mode": {
    "name": "ipython",
    "version": 3
   },
   "file_extension": ".py",
   "mimetype": "text/x-python",
   "name": "python",
   "nbconvert_exporter": "python",
   "pygments_lexer": "ipython3",
   "version": "3.12.7"
  }
 },
 "nbformat": 4,
 "nbformat_minor": 5
}
