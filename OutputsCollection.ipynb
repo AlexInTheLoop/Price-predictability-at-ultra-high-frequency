{
 "cells": [
  {
   "cell_type": "markdown",
   "id": "859df6eb",
   "metadata": {},
   "source": [
    "### SET UP"
   ]
  },
  {
   "cell_type": "code",
   "execution_count": 1,
   "id": "ebb8af39",
   "metadata": {},
   "outputs": [],
   "source": [
    "import numpy as np\n",
    "import pandas as pd\n",
    "from data.DataManager import DataManager\n",
    "from data.DataGenerator import DataGenerator\n",
    "from data.DataCollectors import HistoricalDataCollector, RealTimeDataCollector\n",
    "from main.RandomnessAnalysis import RandomnessAnalysis\n",
    "from main.PredictableDayAnalysis import PredictableDayAnalysis\n",
    "from utils.Analysis import get_assets_properties, localization_predictable_intervals\n",
    "from utils.MultiTester import MultiTester\n",
    "from utils.VisualizationTools import plot_block_frequencies\n",
    "from utils.Analysis import intervals_analysis\n",
    "from utils.VisualizationTools import plot_test"
   ]
  },
  {
   "cell_type": "code",
   "execution_count": 2,
   "id": "4a1b94b3",
   "metadata": {},
   "outputs": [],
   "source": [
    "asset_pairs = ['BTCUSDT','ETHUSDT','UNIUSDT']\n",
    "symbols = {\n",
    "            0: [(-np.inf, 0)\n",
    "                , (False, False)],\n",
    "            1: [(0, np.inf), (False, False)]\n",
    "        }\n",
    "s = 2"
   ]
  },
  {
   "cell_type": "code",
   "execution_count": null,
   "id": "32407d2c",
   "metadata": {},
   "outputs": [],
   "source": [
    "year, month = 2025, 2"
   ]
  },
  {
   "cell_type": "code",
   "execution_count": 4,
   "id": "3edaced4",
   "metadata": {},
   "outputs": [
    {
     "name": "stdout",
     "output_type": "stream",
     "text": [
      "[SYSTEM] Processing BTCUSDT...\n",
      "[SYSTEM] Data already available for BTCUSDT (BTCUSDT-trades-2024-11.csv)\n",
      "[SYSTEM] Processing ETHUSDT...\n",
      "[SYSTEM] Data already available for ETHUSDT (ETHUSDT-trades-2024-11.csv)\n",
      "[SYSTEM] Processing UNIUSDT...\n",
      "[SYSTEM] Data already available for UNIUSDT (UNIUSDT-trades-2024-11.csv)\n"
     ]
    }
   ],
   "source": [
    "historical_collector = HistoricalDataCollector(pairs=asset_pairs, year=year, month=month)\n",
    "historical_collector.collect()"
   ]
  },
  {
   "cell_type": "markdown",
   "id": "525fb5f8",
   "metadata": {},
   "source": [
    "### Efficient vs Inefficient days"
   ]
  },
  {
   "cell_type": "markdown",
   "id": "278c40d3",
   "metadata": {},
   "source": [
    "#### BTC"
   ]
  },
  {
   "cell_type": "code",
   "execution_count": null,
   "id": "0c3363db",
   "metadata": {},
   "outputs": [
    {
     "ename": "FileNotFoundError",
     "evalue": "[Errno 2] No such file or directory: 'data/raw_data\\\\B-trades-2024-11.csv'",
     "output_type": "error",
     "traceback": [
      "\u001b[1;31m---------------------------------------------------------------------------\u001b[0m",
      "\u001b[1;31mFileNotFoundError\u001b[0m                         Traceback (most recent call last)",
      "Cell \u001b[1;32mIn[5], line 1\u001b[0m\n\u001b[1;32m----> 1\u001b[0m data_manager \u001b[38;5;241m=\u001b[39m \u001b[43mDataManager\u001b[49m\u001b[43m(\u001b[49m\u001b[38;5;124;43m\"\u001b[39;49m\u001b[38;5;124;43mBTCUSDT\u001b[39;49m\u001b[38;5;124;43m\"\u001b[39;49m\u001b[43m,\u001b[49m\u001b[43m \u001b[49m\u001b[43msymbols\u001b[49m\u001b[43m,\u001b[49m\u001b[43m \u001b[49m\u001b[43myear\u001b[49m\u001b[38;5;241;43m=\u001b[39;49m\u001b[43myear\u001b[49m\u001b[43m,\u001b[49m\u001b[43m \u001b[49m\u001b[43mmonth\u001b[49m\u001b[38;5;241;43m=\u001b[39;49m\u001b[43mmonth\u001b[49m\u001b[43m,\u001b[49m\u001b[43m \u001b[49m\u001b[43maggregation_level\u001b[49m\u001b[38;5;241;43m=\u001b[39;49m\u001b[38;5;241;43m1\u001b[39;49m\u001b[43m)\u001b[49m\n\u001b[0;32m      2\u001b[0m blocks \u001b[38;5;241m=\u001b[39m data_manager\u001b[38;5;241m.\u001b[39mblock_constructor(block_size\u001b[38;5;241m=\u001b[39m\u001b[38;5;241m2\u001b[39m, overlapping\u001b[38;5;241m=\u001b[39m\u001b[38;5;28;01mTrue\u001b[39;00m)\n\u001b[0;32m      3\u001b[0m analysis \u001b[38;5;241m=\u001b[39m PredictableDayAnalysis(pair\u001b[38;5;241m=\u001b[39m\u001b[38;5;124m\"\u001b[39m\u001b[38;5;124mBTCUSDT\u001b[39m\u001b[38;5;124m\"\u001b[39m,data_manager\u001b[38;5;241m=\u001b[39mdata_manager)\n",
      "File \u001b[1;32mc:\\Users\\rabhi\\Documents\\Master 272 IEF - Dauphine\\M2\\S2\\Gestion Quantitative 2\\Price predictability at ultra-high frequency\\data\\DataManager.py:48\u001b[0m, in \u001b[0;36mDataManager.__init__\u001b[1;34m(self, asset_pairs, symbols, year, month, day, aggregation_level, exclude_zero, aggregate_by_time)\u001b[0m\n\u001b[0;32m     46\u001b[0m \u001b[38;5;28mself\u001b[39m\u001b[38;5;241m.\u001b[39maggregate_by_time \u001b[38;5;241m=\u001b[39m aggregate_by_time\n\u001b[0;32m     47\u001b[0m \u001b[38;5;28mself\u001b[39m\u001b[38;5;241m.\u001b[39mdatasets \u001b[38;5;241m=\u001b[39m {}\n\u001b[1;32m---> 48\u001b[0m \u001b[38;5;28;43mself\u001b[39;49m\u001b[38;5;241;43m.\u001b[39;49m\u001b[43m__post_init__\u001b[49m\u001b[43m(\u001b[49m\u001b[43m)\u001b[49m\n",
      "File \u001b[1;32mc:\\Users\\rabhi\\Documents\\Master 272 IEF - Dauphine\\M2\\S2\\Gestion Quantitative 2\\Price predictability at ultra-high frequency\\data\\DataManager.py:51\u001b[0m, in \u001b[0;36mDataManager.__post_init__\u001b[1;34m(self)\u001b[0m\n\u001b[0;32m     50\u001b[0m \u001b[38;5;28;01mdef\u001b[39;00m \u001b[38;5;21m__post_init__\u001b[39m(\u001b[38;5;28mself\u001b[39m):\n\u001b[1;32m---> 51\u001b[0m     \u001b[38;5;28;43mself\u001b[39;49m\u001b[38;5;241;43m.\u001b[39;49m\u001b[43mload_data\u001b[49m\u001b[43m(\u001b[49m\u001b[43m)\u001b[49m\n\u001b[0;32m     52\u001b[0m     \u001b[38;5;28mself\u001b[39m\u001b[38;5;241m.\u001b[39mchecks \u001b[38;5;241m=\u001b[39m []\n\u001b[0;32m     53\u001b[0m     \u001b[38;5;28;01mfor\u001b[39;00m pair \u001b[38;5;129;01min\u001b[39;00m \u001b[38;5;28mself\u001b[39m\u001b[38;5;241m.\u001b[39massets_pairs:\n",
      "File \u001b[1;32mc:\\Users\\rabhi\\Documents\\Master 272 IEF - Dauphine\\M2\\S2\\Gestion Quantitative 2\\Price predictability at ultra-high frequency\\data\\DataManager.py:65\u001b[0m, in \u001b[0;36mDataManager.load_data\u001b[1;34m(self)\u001b[0m\n\u001b[0;32m     63\u001b[0m \u001b[38;5;28;01melse\u001b[39;00m:\n\u001b[0;32m     64\u001b[0m     filename \u001b[38;5;241m=\u001b[39m os\u001b[38;5;241m.\u001b[39mpath\u001b[38;5;241m.\u001b[39mjoin(RAW_DATA_FOLDER, \u001b[38;5;124mf\u001b[39m\u001b[38;5;124m\"\u001b[39m\u001b[38;5;132;01m{\u001b[39;00mpair\u001b[38;5;241m.\u001b[39mupper()\u001b[38;5;132;01m}\u001b[39;00m\u001b[38;5;124m-trades-\u001b[39m\u001b[38;5;132;01m{\u001b[39;00m\u001b[38;5;28mself\u001b[39m\u001b[38;5;241m.\u001b[39mwhen\u001b[38;5;132;01m}\u001b[39;00m\u001b[38;5;124m.csv\u001b[39m\u001b[38;5;124m\"\u001b[39m)\n\u001b[1;32m---> 65\u001b[0m     df \u001b[38;5;241m=\u001b[39m \u001b[43mpd\u001b[49m\u001b[38;5;241;43m.\u001b[39;49m\u001b[43mread_csv\u001b[49m\u001b[43m(\u001b[49m\u001b[43mfilename\u001b[49m\u001b[43m,\u001b[49m\n\u001b[0;32m     66\u001b[0m \u001b[43m                     \u001b[49m\u001b[43mheader\u001b[49m\u001b[38;5;241;43m=\u001b[39;49m\u001b[38;5;28;43;01mNone\u001b[39;49;00m\u001b[43m,\u001b[49m\u001b[43m \u001b[49m\n\u001b[0;32m     67\u001b[0m \u001b[43m                     \u001b[49m\u001b[43mnames\u001b[49m\u001b[38;5;241;43m=\u001b[39;49m\u001b[43m[\u001b[49m\u001b[38;5;124;43m\"\u001b[39;49m\u001b[38;5;124;43mtrade_id\u001b[39;49m\u001b[38;5;124;43m\"\u001b[39;49m\u001b[43m,\u001b[49m\u001b[43m \u001b[49m\u001b[38;5;124;43m\"\u001b[39;49m\u001b[38;5;124;43mprice\u001b[39;49m\u001b[38;5;124;43m\"\u001b[39;49m\u001b[43m,\u001b[49m\u001b[43m \u001b[49m\u001b[38;5;124;43m\"\u001b[39;49m\u001b[38;5;124;43mvolume\u001b[39;49m\u001b[38;5;124;43m\"\u001b[39;49m\u001b[43m,\u001b[49m\u001b[43m \u001b[49m\u001b[38;5;124;43m\"\u001b[39;49m\u001b[38;5;124;43mquote_qty\u001b[39;49m\u001b[38;5;124;43m\"\u001b[39;49m\u001b[43m,\u001b[49m\u001b[38;5;124;43m\"\u001b[39;49m\u001b[38;5;124;43mtimestamp\u001b[39;49m\u001b[38;5;124;43m\"\u001b[39;49m\u001b[43m,\u001b[49m\u001b[38;5;124;43m\"\u001b[39;49m\u001b[38;5;124;43mis_buyer_maker\u001b[39;49m\u001b[38;5;124;43m\"\u001b[39;49m\u001b[43m,\u001b[49m\u001b[38;5;124;43m\"\u001b[39;49m\u001b[38;5;124;43mis_best_match\u001b[39;49m\u001b[38;5;124;43m\"\u001b[39;49m\u001b[43m]\u001b[49m\u001b[43m)\u001b[49m\n\u001b[0;32m     68\u001b[0m df[\u001b[38;5;124m\"\u001b[39m\u001b[38;5;124mtimestamp\u001b[39m\u001b[38;5;124m\"\u001b[39m] \u001b[38;5;241m=\u001b[39m pd\u001b[38;5;241m.\u001b[39mto_numeric(df[\u001b[38;5;124m\"\u001b[39m\u001b[38;5;124mtimestamp\u001b[39m\u001b[38;5;124m\"\u001b[39m])\n\u001b[0;32m     69\u001b[0m df[\u001b[38;5;124m\"\u001b[39m\u001b[38;5;124mtimestamp\u001b[39m\u001b[38;5;124m\"\u001b[39m] \u001b[38;5;241m=\u001b[39m pd\u001b[38;5;241m.\u001b[39mto_datetime(df[\u001b[38;5;124m\"\u001b[39m\u001b[38;5;124mtimestamp\u001b[39m\u001b[38;5;124m\"\u001b[39m], unit\u001b[38;5;241m=\u001b[39m\u001b[38;5;124m'\u001b[39m\u001b[38;5;124mms\u001b[39m\u001b[38;5;124m'\u001b[39m)\n",
      "File \u001b[1;32m~\\AppData\\Local\\Packages\\PythonSoftwareFoundation.Python.3.12_qbz5n2kfra8p0\\LocalCache\\local-packages\\Python312\\site-packages\\pandas\\io\\parsers\\readers.py:948\u001b[0m, in \u001b[0;36mread_csv\u001b[1;34m(filepath_or_buffer, sep, delimiter, header, names, index_col, usecols, dtype, engine, converters, true_values, false_values, skipinitialspace, skiprows, skipfooter, nrows, na_values, keep_default_na, na_filter, verbose, skip_blank_lines, parse_dates, infer_datetime_format, keep_date_col, date_parser, date_format, dayfirst, cache_dates, iterator, chunksize, compression, thousands, decimal, lineterminator, quotechar, quoting, doublequote, escapechar, comment, encoding, encoding_errors, dialect, on_bad_lines, delim_whitespace, low_memory, memory_map, float_precision, storage_options, dtype_backend)\u001b[0m\n\u001b[0;32m    935\u001b[0m kwds_defaults \u001b[38;5;241m=\u001b[39m _refine_defaults_read(\n\u001b[0;32m    936\u001b[0m     dialect,\n\u001b[0;32m    937\u001b[0m     delimiter,\n\u001b[1;32m   (...)\u001b[0m\n\u001b[0;32m    944\u001b[0m     dtype_backend\u001b[38;5;241m=\u001b[39mdtype_backend,\n\u001b[0;32m    945\u001b[0m )\n\u001b[0;32m    946\u001b[0m kwds\u001b[38;5;241m.\u001b[39mupdate(kwds_defaults)\n\u001b[1;32m--> 948\u001b[0m \u001b[38;5;28;01mreturn\u001b[39;00m \u001b[43m_read\u001b[49m\u001b[43m(\u001b[49m\u001b[43mfilepath_or_buffer\u001b[49m\u001b[43m,\u001b[49m\u001b[43m \u001b[49m\u001b[43mkwds\u001b[49m\u001b[43m)\u001b[49m\n",
      "File \u001b[1;32m~\\AppData\\Local\\Packages\\PythonSoftwareFoundation.Python.3.12_qbz5n2kfra8p0\\LocalCache\\local-packages\\Python312\\site-packages\\pandas\\io\\parsers\\readers.py:611\u001b[0m, in \u001b[0;36m_read\u001b[1;34m(filepath_or_buffer, kwds)\u001b[0m\n\u001b[0;32m    608\u001b[0m _validate_names(kwds\u001b[38;5;241m.\u001b[39mget(\u001b[38;5;124m\"\u001b[39m\u001b[38;5;124mnames\u001b[39m\u001b[38;5;124m\"\u001b[39m, \u001b[38;5;28;01mNone\u001b[39;00m))\n\u001b[0;32m    610\u001b[0m \u001b[38;5;66;03m# Create the parser.\u001b[39;00m\n\u001b[1;32m--> 611\u001b[0m parser \u001b[38;5;241m=\u001b[39m \u001b[43mTextFileReader\u001b[49m\u001b[43m(\u001b[49m\u001b[43mfilepath_or_buffer\u001b[49m\u001b[43m,\u001b[49m\u001b[43m \u001b[49m\u001b[38;5;241;43m*\u001b[39;49m\u001b[38;5;241;43m*\u001b[39;49m\u001b[43mkwds\u001b[49m\u001b[43m)\u001b[49m\n\u001b[0;32m    613\u001b[0m \u001b[38;5;28;01mif\u001b[39;00m chunksize \u001b[38;5;129;01mor\u001b[39;00m iterator:\n\u001b[0;32m    614\u001b[0m     \u001b[38;5;28;01mreturn\u001b[39;00m parser\n",
      "File \u001b[1;32m~\\AppData\\Local\\Packages\\PythonSoftwareFoundation.Python.3.12_qbz5n2kfra8p0\\LocalCache\\local-packages\\Python312\\site-packages\\pandas\\io\\parsers\\readers.py:1448\u001b[0m, in \u001b[0;36mTextFileReader.__init__\u001b[1;34m(self, f, engine, **kwds)\u001b[0m\n\u001b[0;32m   1445\u001b[0m     \u001b[38;5;28mself\u001b[39m\u001b[38;5;241m.\u001b[39moptions[\u001b[38;5;124m\"\u001b[39m\u001b[38;5;124mhas_index_names\u001b[39m\u001b[38;5;124m\"\u001b[39m] \u001b[38;5;241m=\u001b[39m kwds[\u001b[38;5;124m\"\u001b[39m\u001b[38;5;124mhas_index_names\u001b[39m\u001b[38;5;124m\"\u001b[39m]\n\u001b[0;32m   1447\u001b[0m \u001b[38;5;28mself\u001b[39m\u001b[38;5;241m.\u001b[39mhandles: IOHandles \u001b[38;5;241m|\u001b[39m \u001b[38;5;28;01mNone\u001b[39;00m \u001b[38;5;241m=\u001b[39m \u001b[38;5;28;01mNone\u001b[39;00m\n\u001b[1;32m-> 1448\u001b[0m \u001b[38;5;28mself\u001b[39m\u001b[38;5;241m.\u001b[39m_engine \u001b[38;5;241m=\u001b[39m \u001b[38;5;28;43mself\u001b[39;49m\u001b[38;5;241;43m.\u001b[39;49m\u001b[43m_make_engine\u001b[49m\u001b[43m(\u001b[49m\u001b[43mf\u001b[49m\u001b[43m,\u001b[49m\u001b[43m \u001b[49m\u001b[38;5;28;43mself\u001b[39;49m\u001b[38;5;241;43m.\u001b[39;49m\u001b[43mengine\u001b[49m\u001b[43m)\u001b[49m\n",
      "File \u001b[1;32m~\\AppData\\Local\\Packages\\PythonSoftwareFoundation.Python.3.12_qbz5n2kfra8p0\\LocalCache\\local-packages\\Python312\\site-packages\\pandas\\io\\parsers\\readers.py:1705\u001b[0m, in \u001b[0;36mTextFileReader._make_engine\u001b[1;34m(self, f, engine)\u001b[0m\n\u001b[0;32m   1703\u001b[0m     \u001b[38;5;28;01mif\u001b[39;00m \u001b[38;5;124m\"\u001b[39m\u001b[38;5;124mb\u001b[39m\u001b[38;5;124m\"\u001b[39m \u001b[38;5;129;01mnot\u001b[39;00m \u001b[38;5;129;01min\u001b[39;00m mode:\n\u001b[0;32m   1704\u001b[0m         mode \u001b[38;5;241m+\u001b[39m\u001b[38;5;241m=\u001b[39m \u001b[38;5;124m\"\u001b[39m\u001b[38;5;124mb\u001b[39m\u001b[38;5;124m\"\u001b[39m\n\u001b[1;32m-> 1705\u001b[0m \u001b[38;5;28mself\u001b[39m\u001b[38;5;241m.\u001b[39mhandles \u001b[38;5;241m=\u001b[39m \u001b[43mget_handle\u001b[49m\u001b[43m(\u001b[49m\n\u001b[0;32m   1706\u001b[0m \u001b[43m    \u001b[49m\u001b[43mf\u001b[49m\u001b[43m,\u001b[49m\n\u001b[0;32m   1707\u001b[0m \u001b[43m    \u001b[49m\u001b[43mmode\u001b[49m\u001b[43m,\u001b[49m\n\u001b[0;32m   1708\u001b[0m \u001b[43m    \u001b[49m\u001b[43mencoding\u001b[49m\u001b[38;5;241;43m=\u001b[39;49m\u001b[38;5;28;43mself\u001b[39;49m\u001b[38;5;241;43m.\u001b[39;49m\u001b[43moptions\u001b[49m\u001b[38;5;241;43m.\u001b[39;49m\u001b[43mget\u001b[49m\u001b[43m(\u001b[49m\u001b[38;5;124;43m\"\u001b[39;49m\u001b[38;5;124;43mencoding\u001b[39;49m\u001b[38;5;124;43m\"\u001b[39;49m\u001b[43m,\u001b[49m\u001b[43m \u001b[49m\u001b[38;5;28;43;01mNone\u001b[39;49;00m\u001b[43m)\u001b[49m\u001b[43m,\u001b[49m\n\u001b[0;32m   1709\u001b[0m \u001b[43m    \u001b[49m\u001b[43mcompression\u001b[49m\u001b[38;5;241;43m=\u001b[39;49m\u001b[38;5;28;43mself\u001b[39;49m\u001b[38;5;241;43m.\u001b[39;49m\u001b[43moptions\u001b[49m\u001b[38;5;241;43m.\u001b[39;49m\u001b[43mget\u001b[49m\u001b[43m(\u001b[49m\u001b[38;5;124;43m\"\u001b[39;49m\u001b[38;5;124;43mcompression\u001b[39;49m\u001b[38;5;124;43m\"\u001b[39;49m\u001b[43m,\u001b[49m\u001b[43m \u001b[49m\u001b[38;5;28;43;01mNone\u001b[39;49;00m\u001b[43m)\u001b[49m\u001b[43m,\u001b[49m\n\u001b[0;32m   1710\u001b[0m \u001b[43m    \u001b[49m\u001b[43mmemory_map\u001b[49m\u001b[38;5;241;43m=\u001b[39;49m\u001b[38;5;28;43mself\u001b[39;49m\u001b[38;5;241;43m.\u001b[39;49m\u001b[43moptions\u001b[49m\u001b[38;5;241;43m.\u001b[39;49m\u001b[43mget\u001b[49m\u001b[43m(\u001b[49m\u001b[38;5;124;43m\"\u001b[39;49m\u001b[38;5;124;43mmemory_map\u001b[39;49m\u001b[38;5;124;43m\"\u001b[39;49m\u001b[43m,\u001b[49m\u001b[43m \u001b[49m\u001b[38;5;28;43;01mFalse\u001b[39;49;00m\u001b[43m)\u001b[49m\u001b[43m,\u001b[49m\n\u001b[0;32m   1711\u001b[0m \u001b[43m    \u001b[49m\u001b[43mis_text\u001b[49m\u001b[38;5;241;43m=\u001b[39;49m\u001b[43mis_text\u001b[49m\u001b[43m,\u001b[49m\n\u001b[0;32m   1712\u001b[0m \u001b[43m    \u001b[49m\u001b[43merrors\u001b[49m\u001b[38;5;241;43m=\u001b[39;49m\u001b[38;5;28;43mself\u001b[39;49m\u001b[38;5;241;43m.\u001b[39;49m\u001b[43moptions\u001b[49m\u001b[38;5;241;43m.\u001b[39;49m\u001b[43mget\u001b[49m\u001b[43m(\u001b[49m\u001b[38;5;124;43m\"\u001b[39;49m\u001b[38;5;124;43mencoding_errors\u001b[39;49m\u001b[38;5;124;43m\"\u001b[39;49m\u001b[43m,\u001b[49m\u001b[43m \u001b[49m\u001b[38;5;124;43m\"\u001b[39;49m\u001b[38;5;124;43mstrict\u001b[39;49m\u001b[38;5;124;43m\"\u001b[39;49m\u001b[43m)\u001b[49m\u001b[43m,\u001b[49m\n\u001b[0;32m   1713\u001b[0m \u001b[43m    \u001b[49m\u001b[43mstorage_options\u001b[49m\u001b[38;5;241;43m=\u001b[39;49m\u001b[38;5;28;43mself\u001b[39;49m\u001b[38;5;241;43m.\u001b[39;49m\u001b[43moptions\u001b[49m\u001b[38;5;241;43m.\u001b[39;49m\u001b[43mget\u001b[49m\u001b[43m(\u001b[49m\u001b[38;5;124;43m\"\u001b[39;49m\u001b[38;5;124;43mstorage_options\u001b[39;49m\u001b[38;5;124;43m\"\u001b[39;49m\u001b[43m,\u001b[49m\u001b[43m \u001b[49m\u001b[38;5;28;43;01mNone\u001b[39;49;00m\u001b[43m)\u001b[49m\u001b[43m,\u001b[49m\n\u001b[0;32m   1714\u001b[0m \u001b[43m\u001b[49m\u001b[43m)\u001b[49m\n\u001b[0;32m   1715\u001b[0m \u001b[38;5;28;01massert\u001b[39;00m \u001b[38;5;28mself\u001b[39m\u001b[38;5;241m.\u001b[39mhandles \u001b[38;5;129;01mis\u001b[39;00m \u001b[38;5;129;01mnot\u001b[39;00m \u001b[38;5;28;01mNone\u001b[39;00m\n\u001b[0;32m   1716\u001b[0m f \u001b[38;5;241m=\u001b[39m \u001b[38;5;28mself\u001b[39m\u001b[38;5;241m.\u001b[39mhandles\u001b[38;5;241m.\u001b[39mhandle\n",
      "File \u001b[1;32m~\\AppData\\Local\\Packages\\PythonSoftwareFoundation.Python.3.12_qbz5n2kfra8p0\\LocalCache\\local-packages\\Python312\\site-packages\\pandas\\io\\common.py:863\u001b[0m, in \u001b[0;36mget_handle\u001b[1;34m(path_or_buf, mode, encoding, compression, memory_map, is_text, errors, storage_options)\u001b[0m\n\u001b[0;32m    858\u001b[0m \u001b[38;5;28;01melif\u001b[39;00m \u001b[38;5;28misinstance\u001b[39m(handle, \u001b[38;5;28mstr\u001b[39m):\n\u001b[0;32m    859\u001b[0m     \u001b[38;5;66;03m# Check whether the filename is to be opened in binary mode.\u001b[39;00m\n\u001b[0;32m    860\u001b[0m     \u001b[38;5;66;03m# Binary mode does not support 'encoding' and 'newline'.\u001b[39;00m\n\u001b[0;32m    861\u001b[0m     \u001b[38;5;28;01mif\u001b[39;00m ioargs\u001b[38;5;241m.\u001b[39mencoding \u001b[38;5;129;01mand\u001b[39;00m \u001b[38;5;124m\"\u001b[39m\u001b[38;5;124mb\u001b[39m\u001b[38;5;124m\"\u001b[39m \u001b[38;5;129;01mnot\u001b[39;00m \u001b[38;5;129;01min\u001b[39;00m ioargs\u001b[38;5;241m.\u001b[39mmode:\n\u001b[0;32m    862\u001b[0m         \u001b[38;5;66;03m# Encoding\u001b[39;00m\n\u001b[1;32m--> 863\u001b[0m         handle \u001b[38;5;241m=\u001b[39m \u001b[38;5;28;43mopen\u001b[39;49m\u001b[43m(\u001b[49m\n\u001b[0;32m    864\u001b[0m \u001b[43m            \u001b[49m\u001b[43mhandle\u001b[49m\u001b[43m,\u001b[49m\n\u001b[0;32m    865\u001b[0m \u001b[43m            \u001b[49m\u001b[43mioargs\u001b[49m\u001b[38;5;241;43m.\u001b[39;49m\u001b[43mmode\u001b[49m\u001b[43m,\u001b[49m\n\u001b[0;32m    866\u001b[0m \u001b[43m            \u001b[49m\u001b[43mencoding\u001b[49m\u001b[38;5;241;43m=\u001b[39;49m\u001b[43mioargs\u001b[49m\u001b[38;5;241;43m.\u001b[39;49m\u001b[43mencoding\u001b[49m\u001b[43m,\u001b[49m\n\u001b[0;32m    867\u001b[0m \u001b[43m            \u001b[49m\u001b[43merrors\u001b[49m\u001b[38;5;241;43m=\u001b[39;49m\u001b[43merrors\u001b[49m\u001b[43m,\u001b[49m\n\u001b[0;32m    868\u001b[0m \u001b[43m            \u001b[49m\u001b[43mnewline\u001b[49m\u001b[38;5;241;43m=\u001b[39;49m\u001b[38;5;124;43m\"\u001b[39;49m\u001b[38;5;124;43m\"\u001b[39;49m\u001b[43m,\u001b[49m\n\u001b[0;32m    869\u001b[0m \u001b[43m        \u001b[49m\u001b[43m)\u001b[49m\n\u001b[0;32m    870\u001b[0m     \u001b[38;5;28;01melse\u001b[39;00m:\n\u001b[0;32m    871\u001b[0m         \u001b[38;5;66;03m# Binary mode\u001b[39;00m\n\u001b[0;32m    872\u001b[0m         handle \u001b[38;5;241m=\u001b[39m \u001b[38;5;28mopen\u001b[39m(handle, ioargs\u001b[38;5;241m.\u001b[39mmode)\n",
      "\u001b[1;31mFileNotFoundError\u001b[0m: [Errno 2] No such file or directory: 'data/raw_data\\\\B-trades-2024-11.csv'"
     ]
    }
   ],
   "source": [
    "data_manager = DataManager([\"BTCUSDT\"], symbols, year=year, month=month, aggregation_level=1)\n",
    "blocks = data_manager.block_constructor(block_size=2, overlapping=True)\n",
    "analysis = PredictableDayAnalysis(pair=\"BTCUSDT\",data_manager=data_manager)\n",
    "analysis.analyze_days(blocks)\n",
    "analysis.efficient_df"
   ]
  },
  {
   "cell_type": "code",
   "execution_count": null,
   "id": "e803999d",
   "metadata": {},
   "outputs": [],
   "source": [
    "analysis.inefficient_df"
   ]
  },
  {
   "cell_type": "markdown",
   "id": "4310d922",
   "metadata": {},
   "source": [
    "#### ETH"
   ]
  },
  {
   "cell_type": "code",
   "execution_count": null,
   "id": "63f86244",
   "metadata": {},
   "outputs": [],
   "source": [
    "data_manager = DataManager([\"ETHUSDT\"], symbols, year=year, month=month, aggregation_level=1)\n",
    "blocks = data_manager.block_constructor(block_size=2, overlapping=True)\n",
    "analysis = PredictableDayAnalysis(pair=\"ETHUSDT\",data_manager=data_manager)\n",
    "analysis.analyze_days(blocks)\n",
    "analysis.efficient_df"
   ]
  },
  {
   "cell_type": "code",
   "execution_count": null,
   "id": "fd7ddba9",
   "metadata": {},
   "outputs": [],
   "source": [
    "analysis.inefficient_df"
   ]
  },
  {
   "cell_type": "markdown",
   "id": "94cbbdf5",
   "metadata": {},
   "source": [
    "### Predictable intervals locations (BTC)"
   ]
  },
  {
   "cell_type": "code",
   "execution_count": null,
   "id": "9349faf5",
   "metadata": {},
   "outputs": [],
   "source": [
    "df = localization_predictable_intervals(data_manager, \"BTCUSDT\", test='NP Statistic')\n",
    "df.head(10)"
   ]
  },
  {
   "cell_type": "markdown",
   "id": "ff2d3118",
   "metadata": {},
   "source": [
    "### Aggregation level 1"
   ]
  },
  {
   "cell_type": "code",
   "execution_count": null,
   "id": "68bad3da",
   "metadata": {},
   "outputs": [],
   "source": [
    "data_manager = DataManager(asset_pairs, symbols, year=year, month=month, aggregation_level=1)"
   ]
  },
  {
   "cell_type": "markdown",
   "id": "77c369eb",
   "metadata": {},
   "source": [
    "#### Non overlapping"
   ]
  },
  {
   "cell_type": "code",
   "execution_count": null,
   "id": "a37bf851",
   "metadata": {},
   "outputs": [],
   "source": [
    "blocks_size_2 = data_manager.block_constructor(block_size=2, overlapping=False)\n",
    "blocks_size_3 = data_manager.block_constructor(block_size=3, overlapping=False)\n",
    "blocks_size_5 = data_manager.block_constructor(block_size=5, overlapping=False)"
   ]
  },
  {
   "cell_type": "markdown",
   "id": "971116cc",
   "metadata": {},
   "source": [
    "##### Block size 2"
   ]
  },
  {
   "cell_type": "code",
   "execution_count": null,
   "id": "4606b774",
   "metadata": {},
   "outputs": [],
   "source": [
    "blocks_btc = blocks_size_2['BTCUSDT']\n",
    "analyser = RandomnessAnalysis(blocks_df=blocks_btc, s=s)\n",
    "frequencies_df = analyser.compute_blocks_frequencies()\n",
    "plot_block_frequencies(frequencies_df)"
   ]
  },
  {
   "cell_type": "code",
   "execution_count": null,
   "id": "b1177465",
   "metadata": {},
   "outputs": [],
   "source": [
    "test_entropy = analyser.entropy_bias_test()\n",
    "test_entropy"
   ]
  },
  {
   "cell_type": "code",
   "execution_count": null,
   "id": "39382c9c",
   "metadata": {},
   "outputs": [],
   "source": [
    "blocks_eth = blocks_size_2['ETHUSDT']\n",
    "analyser = RandomnessAnalysis(blocks_df=blocks_eth, s=s)\n",
    "frequencies_df = analyser.compute_blocks_frequencies()\n",
    "plot_block_frequencies(frequencies_df)"
   ]
  },
  {
   "cell_type": "code",
   "execution_count": null,
   "id": "14caf361",
   "metadata": {},
   "outputs": [],
   "source": [
    "test_entropy = analyser.entropy_bias_test()\n",
    "test_entropy"
   ]
  },
  {
   "cell_type": "code",
   "execution_count": null,
   "id": "90ba85db",
   "metadata": {},
   "outputs": [],
   "source": [
    "blocks_uni = blocks_size_2['UNIUSDT']\n",
    "analyser = RandomnessAnalysis(blocks_df=blocks_uni, s=s)\n",
    "frequencies_df = analyser.compute_blocks_frequencies()\n",
    "plot_block_frequencies(frequencies_df)"
   ]
  },
  {
   "cell_type": "code",
   "execution_count": null,
   "id": "2d14b964",
   "metadata": {},
   "outputs": [],
   "source": [
    "test_entropy = analyser.entropy_bias_test()\n",
    "test_entropy"
   ]
  },
  {
   "cell_type": "markdown",
   "id": "6b1ea084",
   "metadata": {},
   "source": [
    "##### Block size 3"
   ]
  },
  {
   "cell_type": "code",
   "execution_count": null,
   "id": "e293d229",
   "metadata": {},
   "outputs": [],
   "source": [
    "blocks_btc = blocks_size_3['BTCUSDT']\n",
    "analyser = RandomnessAnalysis(blocks_df=blocks_btc, s=s)\n",
    "frequencies_df = analyser.compute_blocks_frequencies()\n",
    "plot_block_frequencies(frequencies_df)"
   ]
  },
  {
   "cell_type": "code",
   "execution_count": null,
   "id": "557b137d",
   "metadata": {},
   "outputs": [],
   "source": [
    "blocks_eth = blocks_size_3['ETHUSDT']\n",
    "analyser = RandomnessAnalysis(blocks_df=blocks_eth, s=s)\n",
    "frequencies_df = analyser.compute_blocks_frequencies()\n",
    "plot_block_frequencies(frequencies_df)"
   ]
  },
  {
   "cell_type": "code",
   "execution_count": null,
   "id": "6a709a7a",
   "metadata": {},
   "outputs": [],
   "source": [
    "blocks_uni = blocks_size_3['UNIUSDT']\n",
    "analyser = RandomnessAnalysis(blocks_df=blocks_uni, s=s)\n",
    "frequencies_df = analyser.compute_blocks_frequencies()\n",
    "plot_block_frequencies(frequencies_df)"
   ]
  },
  {
   "cell_type": "markdown",
   "id": "53b0b7ab",
   "metadata": {},
   "source": [
    "##### Block size 5"
   ]
  },
  {
   "cell_type": "code",
   "execution_count": null,
   "id": "1de157c7",
   "metadata": {},
   "outputs": [],
   "source": [
    "blocks_btc = blocks_size_5['BTCUSDT']\n",
    "analyser = RandomnessAnalysis(blocks_df=blocks_btc, s=s)\n",
    "frequencies_df = analyser.compute_blocks_frequencies()\n",
    "plot_block_frequencies(frequencies_df)"
   ]
  },
  {
   "cell_type": "code",
   "execution_count": null,
   "id": "f26e5484",
   "metadata": {},
   "outputs": [],
   "source": [
    "blocks_eth = blocks_size_5['ETHUSDT']\n",
    "analyser = RandomnessAnalysis(blocks_df=blocks_eth, s=s)\n",
    "frequencies_df = analyser.compute_blocks_frequencies()\n",
    "plot_block_frequencies(frequencies_df)"
   ]
  },
  {
   "cell_type": "code",
   "execution_count": null,
   "id": "da418c1e",
   "metadata": {},
   "outputs": [],
   "source": [
    "blocks_uni = blocks_size_5['UNIUSDT']\n",
    "analyser = RandomnessAnalysis(blocks_df=blocks_uni, s=s)\n",
    "frequencies_df = analyser.compute_blocks_frequencies()\n",
    "plot_block_frequencies(frequencies_df)"
   ]
  },
  {
   "cell_type": "markdown",
   "id": "ff9c233d",
   "metadata": {},
   "source": [
    "#### Overlapping"
   ]
  },
  {
   "cell_type": "code",
   "execution_count": null,
   "id": "96a90aa3",
   "metadata": {},
   "outputs": [],
   "source": [
    "blocks_size_2 = data_manager.block_constructor(block_size=2, overlapping=True)\n",
    "blocks_size_3 = data_manager.block_constructor(block_size=3, overlapping=True)\n",
    "blocks_size_5 = data_manager.block_constructor(block_size=5, overlapping=True)"
   ]
  },
  {
   "cell_type": "markdown",
   "id": "9102de9d",
   "metadata": {},
   "source": [
    "##### Block size 2"
   ]
  },
  {
   "cell_type": "code",
   "execution_count": null,
   "id": "bab48889",
   "metadata": {},
   "outputs": [],
   "source": [
    "blocks_btc = blocks_size_2['BTCUSDT']\n",
    "analyser = RandomnessAnalysis(blocks_df=blocks_btc, s=s)\n",
    "frequencies_df = analyser.compute_blocks_frequencies()\n",
    "plot_block_frequencies(frequencies_df)"
   ]
  },
  {
   "cell_type": "code",
   "execution_count": null,
   "id": "5a49966c",
   "metadata": {},
   "outputs": [],
   "source": [
    "test_divergence = analyser.KL_divergence_test()\n",
    "test_divergence"
   ]
  },
  {
   "cell_type": "code",
   "execution_count": null,
   "id": "5ec85287",
   "metadata": {},
   "outputs": [],
   "source": [
    "blocks_eth = blocks_size_2['ETHUSDT']\n",
    "analyser = RandomnessAnalysis(blocks_df=blocks_eth, s=s)\n",
    "frequencies_df = analyser.compute_blocks_frequencies()\n",
    "plot_block_frequencies(frequencies_df)"
   ]
  },
  {
   "cell_type": "code",
   "execution_count": null,
   "id": "1ee78dfb",
   "metadata": {},
   "outputs": [],
   "source": [
    "test_divergence = analyser.KL_divergence_test()\n",
    "test_divergence"
   ]
  },
  {
   "cell_type": "code",
   "execution_count": null,
   "id": "1f8f678d",
   "metadata": {},
   "outputs": [],
   "source": [
    "blocks_uni = blocks_size_2['UNIUSDT']\n",
    "analyser = RandomnessAnalysis(blocks_df=blocks_uni, s=s)\n",
    "frequencies_df = analyser.compute_blocks_frequencies()\n",
    "plot_block_frequencies(frequencies_df)"
   ]
  },
  {
   "cell_type": "code",
   "execution_count": null,
   "id": "89198a4d",
   "metadata": {},
   "outputs": [],
   "source": [
    "test_divergence = analyser.KL_divergence_test()\n",
    "test_divergence"
   ]
  },
  {
   "cell_type": "markdown",
   "id": "cac0c0d0",
   "metadata": {},
   "source": [
    "##### Block size 3"
   ]
  },
  {
   "cell_type": "code",
   "execution_count": null,
   "id": "4fdace74",
   "metadata": {},
   "outputs": [],
   "source": [
    "blocks_btc = blocks_size_3['BTCUSDT']\n",
    "analyser = RandomnessAnalysis(blocks_df=blocks_btc, s=s)\n",
    "frequencies_df = analyser.compute_blocks_frequencies()\n",
    "plot_block_frequencies(frequencies_df)"
   ]
  },
  {
   "cell_type": "code",
   "execution_count": null,
   "id": "d236d1aa",
   "metadata": {},
   "outputs": [],
   "source": [
    "blocks_eth = blocks_size_3['ETHUSDT']\n",
    "analyser = RandomnessAnalysis(blocks_df=blocks_eth, s=s)\n",
    "frequencies_df = analyser.compute_blocks_frequencies()\n",
    "plot_block_frequencies(frequencies_df)"
   ]
  },
  {
   "cell_type": "code",
   "execution_count": null,
   "id": "a4d2ccf1",
   "metadata": {},
   "outputs": [],
   "source": [
    "blocks_uni = blocks_size_3['UNIUSDT']\n",
    "analyser = RandomnessAnalysis(blocks_df=blocks_uni, s=s)\n",
    "frequencies_df = analyser.compute_blocks_frequencies()\n",
    "plot_block_frequencies(frequencies_df)"
   ]
  },
  {
   "cell_type": "markdown",
   "id": "472c5c50",
   "metadata": {},
   "source": [
    "##### Block size 5"
   ]
  },
  {
   "cell_type": "code",
   "execution_count": null,
   "id": "4e40f5f2",
   "metadata": {},
   "outputs": [],
   "source": [
    "blocks_btc = blocks_size_5['BTCUSDT']\n",
    "analyser = RandomnessAnalysis(blocks_df=blocks_btc, s=s)\n",
    "frequencies_df = analyser.compute_blocks_frequencies()\n",
    "plot_block_frequencies(frequencies_df)"
   ]
  },
  {
   "cell_type": "code",
   "execution_count": null,
   "id": "621f9f6b",
   "metadata": {},
   "outputs": [],
   "source": [
    "blocks_eth = blocks_size_5['ETHUSDT']\n",
    "analyser = RandomnessAnalysis(blocks_df=blocks_eth, s=s)\n",
    "frequencies_df = analyser.compute_blocks_frequencies()\n",
    "plot_block_frequencies(frequencies_df)"
   ]
  },
  {
   "cell_type": "code",
   "execution_count": null,
   "id": "88a1bfac",
   "metadata": {},
   "outputs": [],
   "source": [
    "blocks_uni = blocks_size_5['UNIUSDT']\n",
    "analyser = RandomnessAnalysis(blocks_df=blocks_uni, s=s)\n",
    "frequencies_df = analyser.compute_blocks_frequencies()\n",
    "plot_block_frequencies(frequencies_df)"
   ]
  },
  {
   "cell_type": "markdown",
   "id": "19e27f23",
   "metadata": {},
   "source": [
    "### Aggregation level 5"
   ]
  },
  {
   "cell_type": "code",
   "execution_count": null,
   "id": "a4f2f758",
   "metadata": {},
   "outputs": [],
   "source": [
    "data_manager = DataManager(asset_pairs, symbols, year=year, month=month, aggregation_level=5)"
   ]
  },
  {
   "cell_type": "markdown",
   "id": "30a9ae25",
   "metadata": {},
   "source": [
    "#### Non overlapping"
   ]
  },
  {
   "cell_type": "code",
   "execution_count": null,
   "id": "d6337ff9",
   "metadata": {},
   "outputs": [],
   "source": [
    "blocks_size_2 = data_manager.block_constructor(block_size=2, overlapping=False)\n",
    "blocks_size_3 = data_manager.block_constructor(block_size=3, overlapping=False)\n",
    "blocks_size_5 = data_manager.block_constructor(block_size=5, overlapping=False)"
   ]
  },
  {
   "cell_type": "markdown",
   "id": "4b2568a1",
   "metadata": {},
   "source": [
    "##### Block size 2"
   ]
  },
  {
   "cell_type": "code",
   "execution_count": null,
   "id": "3e85af7f",
   "metadata": {},
   "outputs": [],
   "source": [
    "blocks_btc = blocks_size_2['BTCUSDT']\n",
    "analyser = RandomnessAnalysis(blocks_df=blocks_btc, s=s)\n",
    "frequencies_df = analyser.compute_blocks_frequencies()\n",
    "plot_block_frequencies(frequencies_df)"
   ]
  },
  {
   "cell_type": "code",
   "execution_count": null,
   "id": "75315d20",
   "metadata": {},
   "outputs": [],
   "source": [
    "test_entropy = analyser.entropy_bias_test()\n",
    "test_entropy"
   ]
  },
  {
   "cell_type": "code",
   "execution_count": null,
   "id": "83333ebf",
   "metadata": {},
   "outputs": [],
   "source": [
    "blocks_eth = blocks_size_2['ETHUSDT']\n",
    "analyser = RandomnessAnalysis(blocks_df=blocks_eth, s=s)\n",
    "frequencies_df = analyser.compute_blocks_frequencies()\n",
    "plot_block_frequencies(frequencies_df)"
   ]
  },
  {
   "cell_type": "code",
   "execution_count": null,
   "id": "fe632ce8",
   "metadata": {},
   "outputs": [],
   "source": [
    "test_entropy = analyser.entropy_bias_test()\n",
    "test_entropy"
   ]
  },
  {
   "cell_type": "code",
   "execution_count": null,
   "id": "7ead65b3",
   "metadata": {},
   "outputs": [],
   "source": [
    "blocks_uni = blocks_size_2['UNIUSDT']\n",
    "analyser = RandomnessAnalysis(blocks_df=blocks_uni, s=s)\n",
    "frequencies_df = analyser.compute_blocks_frequencies()\n",
    "plot_block_frequencies(frequencies_df)"
   ]
  },
  {
   "cell_type": "code",
   "execution_count": null,
   "id": "8d0c794a",
   "metadata": {},
   "outputs": [],
   "source": [
    "test_entropy = analyser.entropy_bias_test()\n",
    "test_entropy"
   ]
  },
  {
   "cell_type": "markdown",
   "id": "9bc532d1",
   "metadata": {},
   "source": [
    "##### Block size 3"
   ]
  },
  {
   "cell_type": "code",
   "execution_count": null,
   "id": "da496395",
   "metadata": {},
   "outputs": [],
   "source": [
    "blocks_btc = blocks_size_3['BTCUSDT']\n",
    "analyser = RandomnessAnalysis(blocks_df=blocks_btc, s=s)\n",
    "frequencies_df = analyser.compute_blocks_frequencies()\n",
    "plot_block_frequencies(frequencies_df)"
   ]
  },
  {
   "cell_type": "code",
   "execution_count": null,
   "id": "26cd31ad",
   "metadata": {},
   "outputs": [],
   "source": [
    "blocks_eth = blocks_size_3['ETHUSDT']\n",
    "analyser = RandomnessAnalysis(blocks_df=blocks_eth, s=s)\n",
    "frequencies_df = analyser.compute_blocks_frequencies()\n",
    "plot_block_frequencies(frequencies_df)"
   ]
  },
  {
   "cell_type": "code",
   "execution_count": null,
   "id": "8d84b8ac",
   "metadata": {},
   "outputs": [],
   "source": [
    "blocks_uni = blocks_size_3['UNIUSDT']\n",
    "analyser = RandomnessAnalysis(blocks_df=blocks_uni, s=s)\n",
    "frequencies_df = analyser.compute_blocks_frequencies()\n",
    "plot_block_frequencies(frequencies_df)"
   ]
  },
  {
   "cell_type": "markdown",
   "id": "95a68757",
   "metadata": {},
   "source": [
    "##### Block size 5"
   ]
  },
  {
   "cell_type": "code",
   "execution_count": null,
   "id": "bef03c19",
   "metadata": {},
   "outputs": [],
   "source": [
    "blocks_btc = blocks_size_5['BTCUSDT']\n",
    "analyser = RandomnessAnalysis(blocks_df=blocks_btc, s=s)\n",
    "frequencies_df = analyser.compute_blocks_frequencies()\n",
    "plot_block_frequencies(frequencies_df)"
   ]
  },
  {
   "cell_type": "code",
   "execution_count": null,
   "id": "acfe267f",
   "metadata": {},
   "outputs": [],
   "source": [
    "blocks_eth = blocks_size_5['ETHUSDT']\n",
    "analyser = RandomnessAnalysis(blocks_df=blocks_eth, s=s)\n",
    "frequencies_df = analyser.compute_blocks_frequencies()\n",
    "plot_block_frequencies(frequencies_df)"
   ]
  },
  {
   "cell_type": "code",
   "execution_count": null,
   "id": "3697856c",
   "metadata": {},
   "outputs": [],
   "source": [
    "blocks_uni = blocks_size_5['UNIUSDT']\n",
    "analyser = RandomnessAnalysis(blocks_df=blocks_uni, s=s)\n",
    "frequencies_df = analyser.compute_blocks_frequencies()\n",
    "plot_block_frequencies(frequencies_df)"
   ]
  },
  {
   "cell_type": "markdown",
   "id": "63c96b05",
   "metadata": {},
   "source": [
    "#### Overlapping"
   ]
  },
  {
   "cell_type": "code",
   "execution_count": null,
   "id": "f97530b3",
   "metadata": {},
   "outputs": [],
   "source": [
    "blocks_size_2 = data_manager.block_constructor(block_size=2, overlapping=True)\n",
    "blocks_size_3 = data_manager.block_constructor(block_size=3, overlapping=True)\n",
    "blocks_size_5 = data_manager.block_constructor(block_size=5, overlapping=True)"
   ]
  },
  {
   "cell_type": "markdown",
   "id": "9706b9e2",
   "metadata": {},
   "source": [
    "##### Block size 2"
   ]
  },
  {
   "cell_type": "code",
   "execution_count": null,
   "id": "8ced8fcd",
   "metadata": {},
   "outputs": [],
   "source": [
    "blocks_btc = blocks_size_2['BTCUSDT']\n",
    "analyser = RandomnessAnalysis(blocks_df=blocks_btc, s=s)\n",
    "frequencies_df = analyser.compute_blocks_frequencies()\n",
    "plot_block_frequencies(frequencies_df)"
   ]
  },
  {
   "cell_type": "code",
   "execution_count": null,
   "id": "19a8ab6d",
   "metadata": {},
   "outputs": [],
   "source": [
    "test_divergence = analyser.KL_divergence_test()\n",
    "test_divergence"
   ]
  },
  {
   "cell_type": "code",
   "execution_count": null,
   "id": "2026b3bb",
   "metadata": {},
   "outputs": [],
   "source": [
    "blocks_eth = blocks_size_2['ETHUSDT']\n",
    "analyser = RandomnessAnalysis(blocks_df=blocks_eth, s=s)\n",
    "frequencies_df = analyser.compute_blocks_frequencies()\n",
    "plot_block_frequencies(frequencies_df)"
   ]
  },
  {
   "cell_type": "code",
   "execution_count": null,
   "id": "9f2c04f6",
   "metadata": {},
   "outputs": [],
   "source": [
    "test_divergence = analyser.KL_divergence_test()\n",
    "test_divergence"
   ]
  },
  {
   "cell_type": "code",
   "execution_count": null,
   "id": "7b2ef9e0",
   "metadata": {},
   "outputs": [],
   "source": [
    "blocks_uni = blocks_size_2['UNIUSDT']\n",
    "analyser = RandomnessAnalysis(blocks_df=blocks_uni, s=s)\n",
    "frequencies_df = analyser.compute_blocks_frequencies()\n",
    "plot_block_frequencies(frequencies_df)"
   ]
  },
  {
   "cell_type": "code",
   "execution_count": null,
   "id": "3397f992",
   "metadata": {},
   "outputs": [],
   "source": [
    "test_divergence = analyser.KL_divergence_test()\n",
    "test_divergence"
   ]
  },
  {
   "cell_type": "markdown",
   "id": "9e0b5f5b",
   "metadata": {},
   "source": [
    "##### Block size 3"
   ]
  },
  {
   "cell_type": "code",
   "execution_count": null,
   "id": "74239942",
   "metadata": {},
   "outputs": [],
   "source": [
    "blocks_btc = blocks_size_3['BTCUSDT']\n",
    "analyser = RandomnessAnalysis(blocks_df=blocks_btc, s=s)\n",
    "frequencies_df = analyser.compute_blocks_frequencies()\n",
    "plot_block_frequencies(frequencies_df)"
   ]
  },
  {
   "cell_type": "code",
   "execution_count": null,
   "id": "21a48a45",
   "metadata": {},
   "outputs": [],
   "source": [
    "blocks_eth = blocks_size_3['ETHUSDT']\n",
    "analyser = RandomnessAnalysis(blocks_df=blocks_eth, s=s)\n",
    "frequencies_df = analyser.compute_blocks_frequencies()\n",
    "plot_block_frequencies(frequencies_df)"
   ]
  },
  {
   "cell_type": "code",
   "execution_count": null,
   "id": "c97846f7",
   "metadata": {},
   "outputs": [],
   "source": [
    "blocks_uni = blocks_size_3['UNIUSDT']\n",
    "analyser = RandomnessAnalysis(blocks_df=blocks_uni, s=s)\n",
    "frequencies_df = analyser.compute_blocks_frequencies()\n",
    "plot_block_frequencies(frequencies_df)"
   ]
  },
  {
   "cell_type": "markdown",
   "id": "2175a9eb",
   "metadata": {},
   "source": [
    "##### Block size 5"
   ]
  },
  {
   "cell_type": "code",
   "execution_count": null,
   "id": "94f774be",
   "metadata": {},
   "outputs": [],
   "source": [
    "blocks_btc = blocks_size_5['BTCUSDT']\n",
    "analyser = RandomnessAnalysis(blocks_df=blocks_btc, s=s)\n",
    "frequencies_df = analyser.compute_blocks_frequencies()\n",
    "plot_block_frequencies(frequencies_df)"
   ]
  },
  {
   "cell_type": "code",
   "execution_count": null,
   "id": "64103e5a",
   "metadata": {},
   "outputs": [],
   "source": [
    "blocks_eth = blocks_size_5['ETHUSDT']\n",
    "analyser = RandomnessAnalysis(blocks_df=blocks_eth, s=s)\n",
    "frequencies_df = analyser.compute_blocks_frequencies()\n",
    "plot_block_frequencies(frequencies_df)"
   ]
  },
  {
   "cell_type": "code",
   "execution_count": null,
   "id": "3542b7e5",
   "metadata": {},
   "outputs": [],
   "source": [
    "blocks_uni = blocks_size_5['UNIUSDT']\n",
    "analyser = RandomnessAnalysis(blocks_df=blocks_uni, s=s)\n",
    "frequencies_df = analyser.compute_blocks_frequencies()\n",
    "plot_block_frequencies(frequencies_df)"
   ]
  },
  {
   "cell_type": "markdown",
   "id": "1bb91fb6",
   "metadata": {},
   "source": [
    "### Aggregation level 20"
   ]
  },
  {
   "cell_type": "code",
   "execution_count": null,
   "id": "474a28cc",
   "metadata": {},
   "outputs": [],
   "source": [
    "data_manager = DataManager(asset_pairs, symbols, year=year, month=month, aggregation_level=20)"
   ]
  },
  {
   "cell_type": "markdown",
   "id": "162101c1",
   "metadata": {},
   "source": [
    "#### Non overlapping"
   ]
  },
  {
   "cell_type": "code",
   "execution_count": null,
   "id": "744b8986",
   "metadata": {},
   "outputs": [],
   "source": [
    "blocks_size_2 = data_manager.block_constructor(block_size=2, overlapping=False)\n",
    "blocks_size_3 = data_manager.block_constructor(block_size=3, overlapping=False)\n",
    "blocks_size_5 = data_manager.block_constructor(block_size=5, overlapping=False)"
   ]
  },
  {
   "cell_type": "markdown",
   "id": "2468f475",
   "metadata": {},
   "source": [
    "##### Block size 2"
   ]
  },
  {
   "cell_type": "code",
   "execution_count": null,
   "id": "139f5c2b",
   "metadata": {},
   "outputs": [],
   "source": [
    "blocks_btc = blocks_size_2['BTCUSDT']\n",
    "analyser = RandomnessAnalysis(blocks_df=blocks_btc, s=s)\n",
    "frequencies_df = analyser.compute_blocks_frequencies()\n",
    "plot_block_frequencies(frequencies_df)"
   ]
  },
  {
   "cell_type": "code",
   "execution_count": null,
   "id": "3f2e4b1e",
   "metadata": {},
   "outputs": [],
   "source": [
    "test_entropy = analyser.entropy_bias_test()\n",
    "test_entropy"
   ]
  },
  {
   "cell_type": "code",
   "execution_count": null,
   "id": "2e954c6f",
   "metadata": {},
   "outputs": [],
   "source": [
    "blocks_eth = blocks_size_2['ETHUSDT']\n",
    "analyser = RandomnessAnalysis(blocks_df=blocks_eth, s=s)\n",
    "frequencies_df = analyser.compute_blocks_frequencies()\n",
    "plot_block_frequencies(frequencies_df)"
   ]
  },
  {
   "cell_type": "code",
   "execution_count": null,
   "id": "8a54aeec",
   "metadata": {},
   "outputs": [],
   "source": [
    "test_entropy = analyser.entropy_bias_test()\n",
    "test_entropy"
   ]
  },
  {
   "cell_type": "code",
   "execution_count": null,
   "id": "04840863",
   "metadata": {},
   "outputs": [],
   "source": [
    "blocks_uni = blocks_size_2['UNIUSDT']\n",
    "analyser = RandomnessAnalysis(blocks_df=blocks_uni, s=s)\n",
    "frequencies_df = analyser.compute_blocks_frequencies()\n",
    "plot_block_frequencies(frequencies_df)"
   ]
  },
  {
   "cell_type": "code",
   "execution_count": null,
   "id": "ef145f52",
   "metadata": {},
   "outputs": [],
   "source": [
    "test_entropy = analyser.entropy_bias_test()\n",
    "test_entropy"
   ]
  },
  {
   "cell_type": "markdown",
   "id": "3edee481",
   "metadata": {},
   "source": [
    "##### Block size 3"
   ]
  },
  {
   "cell_type": "code",
   "execution_count": null,
   "id": "664848b2",
   "metadata": {},
   "outputs": [],
   "source": [
    "blocks_btc = blocks_size_3['BTCUSDT']\n",
    "analyser = RandomnessAnalysis(blocks_df=blocks_btc, s=s)\n",
    "frequencies_df = analyser.compute_blocks_frequencies()\n",
    "plot_block_frequencies(frequencies_df)"
   ]
  },
  {
   "cell_type": "code",
   "execution_count": null,
   "id": "11633df5",
   "metadata": {},
   "outputs": [],
   "source": [
    "blocks_eth = blocks_size_3['ETHUSDT']\n",
    "analyser = RandomnessAnalysis(blocks_df=blocks_eth, s=s)\n",
    "frequencies_df = analyser.compute_blocks_frequencies()\n",
    "plot_block_frequencies(frequencies_df)"
   ]
  },
  {
   "cell_type": "code",
   "execution_count": null,
   "id": "89a136b5",
   "metadata": {},
   "outputs": [],
   "source": [
    "blocks_uni = blocks_size_3['UNIUSDT']\n",
    "analyser = RandomnessAnalysis(blocks_df=blocks_uni, s=s)\n",
    "frequencies_df = analyser.compute_blocks_frequencies()\n",
    "plot_block_frequencies(frequencies_df)"
   ]
  },
  {
   "cell_type": "markdown",
   "id": "3fa03a02",
   "metadata": {},
   "source": [
    "##### Block size 5"
   ]
  },
  {
   "cell_type": "code",
   "execution_count": null,
   "id": "85676c46",
   "metadata": {},
   "outputs": [],
   "source": [
    "blocks_btc = blocks_size_5['BTCUSDT']\n",
    "analyser = RandomnessAnalysis(blocks_df=blocks_btc, s=s)\n",
    "frequencies_df = analyser.compute_blocks_frequencies()\n",
    "plot_block_frequencies(frequencies_df)"
   ]
  },
  {
   "cell_type": "code",
   "execution_count": null,
   "id": "3a3400f8",
   "metadata": {},
   "outputs": [],
   "source": [
    "blocks_eth = blocks_size_5['ETHUSDT']\n",
    "analyser = RandomnessAnalysis(blocks_df=blocks_eth, s=s)\n",
    "frequencies_df = analyser.compute_blocks_frequencies()\n",
    "plot_block_frequencies(frequencies_df)"
   ]
  },
  {
   "cell_type": "code",
   "execution_count": null,
   "id": "f43925a6",
   "metadata": {},
   "outputs": [],
   "source": [
    "blocks_uni = blocks_size_5['UNIUSDT']\n",
    "analyser = RandomnessAnalysis(blocks_df=blocks_uni, s=s)\n",
    "frequencies_df = analyser.compute_blocks_frequencies()\n",
    "plot_block_frequencies(frequencies_df)"
   ]
  },
  {
   "cell_type": "markdown",
   "id": "5022db7e",
   "metadata": {},
   "source": [
    "#### Overlapping"
   ]
  },
  {
   "cell_type": "code",
   "execution_count": null,
   "id": "9aa5fd05",
   "metadata": {},
   "outputs": [],
   "source": [
    "blocks_size_2 = data_manager.block_constructor(block_size=2, overlapping=True)\n",
    "blocks_size_3 = data_manager.block_constructor(block_size=3, overlapping=True)\n",
    "blocks_size_5 = data_manager.block_constructor(block_size=5, overlapping=True)"
   ]
  },
  {
   "cell_type": "markdown",
   "id": "d4e07cec",
   "metadata": {},
   "source": [
    "##### Block size 2"
   ]
  },
  {
   "cell_type": "code",
   "execution_count": null,
   "id": "366d6bd5",
   "metadata": {},
   "outputs": [],
   "source": [
    "blocks_btc = blocks_size_2['BTCUSDT']\n",
    "analyser = RandomnessAnalysis(blocks_df=blocks_btc, s=s)\n",
    "frequencies_df = analyser.compute_blocks_frequencies()\n",
    "plot_block_frequencies(frequencies_df)"
   ]
  },
  {
   "cell_type": "code",
   "execution_count": null,
   "id": "099d8034",
   "metadata": {},
   "outputs": [],
   "source": [
    "test_divergence = analyser.KL_divergence_test()\n",
    "test_divergence"
   ]
  },
  {
   "cell_type": "code",
   "execution_count": null,
   "id": "0a598f46",
   "metadata": {},
   "outputs": [],
   "source": [
    "blocks_eth = blocks_size_2['ETHUSDT']\n",
    "analyser = RandomnessAnalysis(blocks_df=blocks_eth, s=s)\n",
    "frequencies_df = analyser.compute_blocks_frequencies()\n",
    "plot_block_frequencies(frequencies_df)"
   ]
  },
  {
   "cell_type": "code",
   "execution_count": null,
   "id": "87ce7cc5",
   "metadata": {},
   "outputs": [],
   "source": [
    "test_divergence = analyser.KL_divergence_test()\n",
    "test_divergence"
   ]
  },
  {
   "cell_type": "code",
   "execution_count": null,
   "id": "dac8f261",
   "metadata": {},
   "outputs": [],
   "source": [
    "blocks_uni = blocks_size_2['UNIUSDT']\n",
    "analyser = RandomnessAnalysis(blocks_df=blocks_uni, s=s)\n",
    "frequencies_df = analyser.compute_blocks_frequencies()\n",
    "plot_block_frequencies(frequencies_df)"
   ]
  },
  {
   "cell_type": "code",
   "execution_count": null,
   "id": "6b2e65db",
   "metadata": {},
   "outputs": [],
   "source": [
    "test_divergence = analyser.KL_divergence_test()\n",
    "test_divergence"
   ]
  },
  {
   "cell_type": "markdown",
   "id": "7052fbe8",
   "metadata": {},
   "source": [
    "##### Block size 3"
   ]
  },
  {
   "cell_type": "code",
   "execution_count": null,
   "id": "d71f8740",
   "metadata": {},
   "outputs": [],
   "source": [
    "blocks_btc = blocks_size_3['BTCUSDT']\n",
    "analyser = RandomnessAnalysis(blocks_df=blocks_btc, s=s)\n",
    "frequencies_df = analyser.compute_blocks_frequencies()\n",
    "plot_block_frequencies(frequencies_df)"
   ]
  },
  {
   "cell_type": "code",
   "execution_count": null,
   "id": "c1d17a11",
   "metadata": {},
   "outputs": [],
   "source": [
    "blocks_eth = blocks_size_3['ETHUSDT']\n",
    "analyser = RandomnessAnalysis(blocks_df=blocks_eth, s=s)\n",
    "frequencies_df = analyser.compute_blocks_frequencies()\n",
    "plot_block_frequencies(frequencies_df)"
   ]
  },
  {
   "cell_type": "code",
   "execution_count": null,
   "id": "d28391b4",
   "metadata": {},
   "outputs": [],
   "source": [
    "blocks_uni = blocks_size_3['UNIUSDT']\n",
    "analyser = RandomnessAnalysis(blocks_df=blocks_uni, s=s)\n",
    "frequencies_df = analyser.compute_blocks_frequencies()\n",
    "plot_block_frequencies(frequencies_df)"
   ]
  },
  {
   "cell_type": "markdown",
   "id": "763342d5",
   "metadata": {},
   "source": [
    "##### Block size 5"
   ]
  },
  {
   "cell_type": "code",
   "execution_count": null,
   "id": "bd43dd8a",
   "metadata": {},
   "outputs": [],
   "source": [
    "blocks_btc = blocks_size_5['BTCUSDT']\n",
    "analyser = RandomnessAnalysis(blocks_df=blocks_btc, s=s)\n",
    "frequencies_df = analyser.compute_blocks_frequencies()\n",
    "plot_block_frequencies(frequencies_df)"
   ]
  },
  {
   "cell_type": "code",
   "execution_count": null,
   "id": "5a67d065",
   "metadata": {},
   "outputs": [],
   "source": [
    "blocks_eth = blocks_size_5['ETHUSDT']\n",
    "analyser = RandomnessAnalysis(blocks_df=blocks_eth, s=s)\n",
    "frequencies_df = analyser.compute_blocks_frequencies()\n",
    "plot_block_frequencies(frequencies_df)"
   ]
  },
  {
   "cell_type": "code",
   "execution_count": null,
   "id": "6f26d4fe",
   "metadata": {},
   "outputs": [],
   "source": [
    "blocks_uni = blocks_size_5['UNIUSDT']\n",
    "analyser = RandomnessAnalysis(blocks_df=blocks_uni, s=s)\n",
    "frequencies_df = analyser.compute_blocks_frequencies()\n",
    "plot_block_frequencies(frequencies_df)"
   ]
  },
  {
   "cell_type": "markdown",
   "id": "b9fae856",
   "metadata": {},
   "source": [
    "### Aggregation level 50"
   ]
  },
  {
   "cell_type": "code",
   "execution_count": null,
   "id": "37307101",
   "metadata": {},
   "outputs": [],
   "source": [
    "data_manager = DataManager(asset_pairs, symbols, year=year, month=month, aggregation_level=50)"
   ]
  },
  {
   "cell_type": "markdown",
   "id": "74a14f05",
   "metadata": {},
   "source": [
    "#### Non overlapping"
   ]
  },
  {
   "cell_type": "code",
   "execution_count": null,
   "id": "efe3e3a4",
   "metadata": {},
   "outputs": [],
   "source": [
    "blocks_size_2 = data_manager.block_constructor(block_size=2, overlapping=False)\n",
    "blocks_size_3 = data_manager.block_constructor(block_size=3, overlapping=False)\n",
    "blocks_size_5 = data_manager.block_constructor(block_size=5, overlapping=False)"
   ]
  },
  {
   "cell_type": "markdown",
   "id": "b008c7a5",
   "metadata": {},
   "source": [
    "##### Block size 2"
   ]
  },
  {
   "cell_type": "code",
   "execution_count": null,
   "id": "8ed05c82",
   "metadata": {},
   "outputs": [],
   "source": [
    "blocks_btc = blocks_size_2['BTCUSDT']\n",
    "analyser = RandomnessAnalysis(blocks_df=blocks_btc, s=s)\n",
    "frequencies_df = analyser.compute_blocks_frequencies()\n",
    "plot_block_frequencies(frequencies_df)"
   ]
  },
  {
   "cell_type": "code",
   "execution_count": null,
   "id": "9e40d132",
   "metadata": {},
   "outputs": [],
   "source": [
    "test_entropy = analyser.entropy_bias_test()\n",
    "test_entropy"
   ]
  },
  {
   "cell_type": "code",
   "execution_count": null,
   "id": "b690c5d6",
   "metadata": {},
   "outputs": [],
   "source": [
    "blocks_eth = blocks_size_2['ETHUSDT']\n",
    "analyser = RandomnessAnalysis(blocks_df=blocks_eth, s=s)\n",
    "frequencies_df = analyser.compute_blocks_frequencies()\n",
    "plot_block_frequencies(frequencies_df)"
   ]
  },
  {
   "cell_type": "code",
   "execution_count": null,
   "id": "618a82cd",
   "metadata": {},
   "outputs": [],
   "source": [
    "test_entropy = analyser.entropy_bias_test()\n",
    "test_entropy"
   ]
  },
  {
   "cell_type": "code",
   "execution_count": null,
   "id": "59ae48d7",
   "metadata": {},
   "outputs": [],
   "source": [
    "blocks_uni = blocks_size_2['UNIUSDT']\n",
    "analyser = RandomnessAnalysis(blocks_df=blocks_uni, s=s)\n",
    "frequencies_df = analyser.compute_blocks_frequencies()\n",
    "plot_block_frequencies(frequencies_df)"
   ]
  },
  {
   "cell_type": "code",
   "execution_count": null,
   "id": "4dac1897",
   "metadata": {},
   "outputs": [],
   "source": [
    "test_entropy = analyser.entropy_bias_test()\n",
    "test_entropy"
   ]
  },
  {
   "cell_type": "markdown",
   "id": "0eb3b3ff",
   "metadata": {},
   "source": [
    "##### Block size 3"
   ]
  },
  {
   "cell_type": "code",
   "execution_count": null,
   "id": "6119f1b4",
   "metadata": {},
   "outputs": [],
   "source": [
    "blocks_btc = blocks_size_3['BTCUSDT']\n",
    "analyser = RandomnessAnalysis(blocks_df=blocks_btc, s=s)\n",
    "frequencies_df = analyser.compute_blocks_frequencies()\n",
    "plot_block_frequencies(frequencies_df)"
   ]
  },
  {
   "cell_type": "code",
   "execution_count": null,
   "id": "0d8bcf81",
   "metadata": {},
   "outputs": [],
   "source": [
    "blocks_eth = blocks_size_3['ETHUSDT']\n",
    "analyser = RandomnessAnalysis(blocks_df=blocks_eth, s=s)\n",
    "frequencies_df = analyser.compute_blocks_frequencies()\n",
    "plot_block_frequencies(frequencies_df)"
   ]
  },
  {
   "cell_type": "code",
   "execution_count": null,
   "id": "4b3e5ba4",
   "metadata": {},
   "outputs": [],
   "source": [
    "blocks_uni = blocks_size_3['UNIUSDT']\n",
    "analyser = RandomnessAnalysis(blocks_df=blocks_uni, s=s)\n",
    "frequencies_df = analyser.compute_blocks_frequencies()\n",
    "plot_block_frequencies(frequencies_df)"
   ]
  },
  {
   "cell_type": "markdown",
   "id": "ef1d992a",
   "metadata": {},
   "source": [
    "##### Block size 5"
   ]
  },
  {
   "cell_type": "code",
   "execution_count": null,
   "id": "d7831f5b",
   "metadata": {},
   "outputs": [],
   "source": [
    "blocks_btc = blocks_size_5['BTCUSDT']\n",
    "analyser = RandomnessAnalysis(blocks_df=blocks_btc, s=s)\n",
    "frequencies_df = analyser.compute_blocks_frequencies()\n",
    "plot_block_frequencies(frequencies_df)"
   ]
  },
  {
   "cell_type": "code",
   "execution_count": null,
   "id": "68690d3d",
   "metadata": {},
   "outputs": [],
   "source": [
    "blocks_eth = blocks_size_5['ETHUSDT']\n",
    "analyser = RandomnessAnalysis(blocks_df=blocks_eth, s=s)\n",
    "frequencies_df = analyser.compute_blocks_frequencies()\n",
    "plot_block_frequencies(frequencies_df)"
   ]
  },
  {
   "cell_type": "code",
   "execution_count": null,
   "id": "cdd21e8a",
   "metadata": {},
   "outputs": [],
   "source": [
    "blocks_uni = blocks_size_5['UNIUSDT']\n",
    "analyser = RandomnessAnalysis(blocks_df=blocks_uni, s=s)\n",
    "frequencies_df = analyser.compute_blocks_frequencies()\n",
    "plot_block_frequencies(frequencies_df)"
   ]
  },
  {
   "cell_type": "markdown",
   "id": "03c493d6",
   "metadata": {},
   "source": [
    "#### Overlapping"
   ]
  },
  {
   "cell_type": "code",
   "execution_count": null,
   "id": "3e85a72f",
   "metadata": {},
   "outputs": [],
   "source": [
    "blocks_size_2 = data_manager.block_constructor(block_size=2, overlapping=False)\n",
    "blocks_size_3 = data_manager.block_constructor(block_size=3, overlapping=False)\n",
    "blocks_size_5 = data_manager.block_constructor(block_size=5, overlapping=False)"
   ]
  },
  {
   "cell_type": "markdown",
   "id": "82e47bd8",
   "metadata": {},
   "source": [
    "##### Block size 2"
   ]
  },
  {
   "cell_type": "code",
   "execution_count": null,
   "id": "a068d6bc",
   "metadata": {},
   "outputs": [],
   "source": [
    "blocks_btc = blocks_size_2['BTCUSDT']\n",
    "analyser = RandomnessAnalysis(blocks_df=blocks_btc, s=s)\n",
    "frequencies_df = analyser.compute_blocks_frequencies()\n",
    "plot_block_frequencies(frequencies_df)"
   ]
  },
  {
   "cell_type": "code",
   "execution_count": null,
   "id": "f6c5a156",
   "metadata": {},
   "outputs": [],
   "source": [
    "test_divergence = analyser.KL_divergence_test()\n",
    "test_divergence"
   ]
  },
  {
   "cell_type": "code",
   "execution_count": null,
   "id": "66555388",
   "metadata": {},
   "outputs": [],
   "source": [
    "blocks_eth = blocks_size_2['ETHUSDT']\n",
    "analyser = RandomnessAnalysis(blocks_df=blocks_eth, s=s)\n",
    "frequencies_df = analyser.compute_blocks_frequencies()\n",
    "plot_block_frequencies(frequencies_df)"
   ]
  },
  {
   "cell_type": "code",
   "execution_count": null,
   "id": "0c222310",
   "metadata": {},
   "outputs": [],
   "source": [
    "test_divergence = analyser.KL_divergence_test()\n",
    "test_divergence"
   ]
  },
  {
   "cell_type": "code",
   "execution_count": null,
   "id": "1783cb41",
   "metadata": {},
   "outputs": [],
   "source": [
    "blocks_uni = blocks_size_2['UNIUSDT']\n",
    "analyser = RandomnessAnalysis(blocks_df=blocks_uni, s=s)\n",
    "frequencies_df = analyser.compute_blocks_frequencies()\n",
    "plot_block_frequencies(frequencies_df)"
   ]
  },
  {
   "cell_type": "code",
   "execution_count": null,
   "id": "fbc18b16",
   "metadata": {},
   "outputs": [],
   "source": [
    "test_divergence = analyser.KL_divergence_test()\n",
    "test_divergence"
   ]
  },
  {
   "cell_type": "markdown",
   "id": "19dc70ae",
   "metadata": {},
   "source": [
    "##### Block size 3"
   ]
  },
  {
   "cell_type": "code",
   "execution_count": null,
   "id": "3e69a85a",
   "metadata": {},
   "outputs": [],
   "source": [
    "blocks_btc = blocks_size_3['BTCUSDT']\n",
    "analyser = RandomnessAnalysis(blocks_df=blocks_btc, s=s)\n",
    "frequencies_df = analyser.compute_blocks_frequencies()\n",
    "plot_block_frequencies(frequencies_df)"
   ]
  },
  {
   "cell_type": "code",
   "execution_count": null,
   "id": "3f7f9696",
   "metadata": {},
   "outputs": [],
   "source": [
    "blocks_eth = blocks_size_3['ETHUSDT']\n",
    "analyser = RandomnessAnalysis(blocks_df=blocks_eth, s=s)\n",
    "frequencies_df = analyser.compute_blocks_frequencies()\n",
    "plot_block_frequencies(frequencies_df)"
   ]
  },
  {
   "cell_type": "code",
   "execution_count": null,
   "id": "557d5d59",
   "metadata": {},
   "outputs": [],
   "source": [
    "blocks_uni = blocks_size_3['UNIUSDT']\n",
    "analyser = RandomnessAnalysis(blocks_df=blocks_uni, s=s)\n",
    "frequencies_df = analyser.compute_blocks_frequencies()\n",
    "plot_block_frequencies(frequencies_df)"
   ]
  },
  {
   "cell_type": "markdown",
   "id": "24201e89",
   "metadata": {},
   "source": [
    "##### Block size 5"
   ]
  },
  {
   "cell_type": "code",
   "execution_count": null,
   "id": "6e8259de",
   "metadata": {},
   "outputs": [],
   "source": [
    "blocks_btc = blocks_size_5['BTCUSDT']\n",
    "analyser = RandomnessAnalysis(blocks_df=blocks_btc, s=s)\n",
    "frequencies_df = analyser.compute_blocks_frequencies()\n",
    "plot_block_frequencies(frequencies_df)"
   ]
  },
  {
   "cell_type": "code",
   "execution_count": null,
   "id": "522a184b",
   "metadata": {},
   "outputs": [],
   "source": [
    "blocks_eth = blocks_size_5['ETHUSDT']\n",
    "analyser = RandomnessAnalysis(blocks_df=blocks_eth, s=s)\n",
    "frequencies_df = analyser.compute_blocks_frequencies()\n",
    "plot_block_frequencies(frequencies_df)"
   ]
  },
  {
   "cell_type": "code",
   "execution_count": null,
   "id": "20ba633e",
   "metadata": {},
   "outputs": [],
   "source": [
    "blocks_uni = blocks_size_5['UNIUSDT']\n",
    "analyser = RandomnessAnalysis(blocks_df=blocks_uni, s=s)\n",
    "frequencies_df = analyser.compute_blocks_frequencies()\n",
    "plot_block_frequencies(frequencies_df)"
   ]
  },
  {
   "cell_type": "markdown",
   "id": "f55c298f",
   "metadata": {},
   "source": [
    "### MultiTester BTC"
   ]
  },
  {
   "cell_type": "code",
   "execution_count": null,
   "id": "26ac4277",
   "metadata": {},
   "outputs": [],
   "source": [
    "multi_tester = MultiTester(asset='BTCUSDT',symbols=symbols,overlapping=False)\n",
    "df_test_block = multi_tester.test_by_block_size(test='Entropy Bias',\n",
    "                                    max_block_size=15,\n",
    "                                    year=year,\n",
    "                                    month=month,\n",
    "                                    aggregation_level=5)\n",
    "df_test_block"
   ]
  },
  {
   "cell_type": "code",
   "execution_count": null,
   "id": "255d8642",
   "metadata": {},
   "outputs": [],
   "source": [
    "plot_test(x_values=df_test_block.index, \n",
    "          y1_values=df_test_block['Test statistic'].values,\n",
    "          y2_values=df_test_block['Quantile 99'].values,\n",
    "          test='Entropy Bias',\n",
    "          x_label='Block size',\n",
    "          pair='BTCUSDT')"
   ]
  },
  {
   "cell_type": "code",
   "execution_count": null,
   "id": "b59d935e",
   "metadata": {},
   "outputs": [],
   "source": [
    "multi_tester = MultiTester(asset='BTCUSDT',symbols=symbols,overlapping=True)\n",
    "df_test_agg = multi_tester.test_by_aggregation_level(test='NP Statistic',\n",
    "                                           max_aggregation_level=50,\n",
    "                                           year=year,\n",
    "                                           month=month,\n",
    "                                           block_size=2)\n",
    "df_test_agg"
   ]
  },
  {
   "cell_type": "code",
   "execution_count": null,
   "id": "bef5c80f",
   "metadata": {},
   "outputs": [],
   "source": [
    "plot_test(x_values=df_test_agg.index, \n",
    "          y1_values=df_test_agg['Test statistic'].values,\n",
    "          y2_values=df_test_agg['Quantile 99'].values,\n",
    "          test='NP Statistic',\n",
    "          x_label='Aggregation level',\n",
    "          pair='BTCUSDT')"
   ]
  },
  {
   "cell_type": "code",
   "execution_count": null,
   "id": "6cb9e636",
   "metadata": {},
   "outputs": [],
   "source": [
    "btc_multi_tester = MultiTester(asset='BTCUSDT',symbols=symbols,overlapping=False)\n",
    "btc_multi_tester.plot_3D_test_result(asset='BTCUSDT',\n",
    "                                     test='Entropy Bias',\n",
    "                                     max_block_size=15,\n",
    "                                     year=year,month=month,\n",
    "                                     max_aggregation_level=50)"
   ]
  },
  {
   "cell_type": "markdown",
   "id": "a26c256d",
   "metadata": {},
   "source": [
    "### MultiTester ETH"
   ]
  },
  {
   "cell_type": "code",
   "execution_count": null,
   "id": "9d4f98b6",
   "metadata": {},
   "outputs": [],
   "source": [
    "multi_tester = MultiTester(asset='ETHUSDT',symbols=symbols,overlapping=False)\n",
    "df_test_block = multi_tester.test_by_block_size(test='Entropy Bias',\n",
    "                                    max_block_size=15,\n",
    "                                    year=year,\n",
    "                                    month=month,\n",
    "                                    aggregation_level=5)\n",
    "df_test_block"
   ]
  },
  {
   "cell_type": "code",
   "execution_count": null,
   "id": "9d374b53",
   "metadata": {},
   "outputs": [],
   "source": [
    "plot_test(x_values=df_test_block.index, \n",
    "          y1_values=df_test_block['Test statistic'].values,\n",
    "          y2_values=df_test_block['Quantile 99'].values,\n",
    "          test='Entropy Bias',\n",
    "          x_label='Block size',\n",
    "          pair='BTCUSDT')"
   ]
  },
  {
   "cell_type": "code",
   "execution_count": null,
   "id": "ae848062",
   "metadata": {},
   "outputs": [],
   "source": [
    "multi_tester = MultiTester(asset='BTCUSDT',symbols=symbols,overlapping=True)\n",
    "df_test_agg = multi_tester.test_by_aggregation_level(test='NP Statistic',\n",
    "                                           max_aggregation_level=50,\n",
    "                                           year=year,\n",
    "                                           month=month,\n",
    "                                           block_size=2)\n",
    "df_test_agg"
   ]
  },
  {
   "cell_type": "code",
   "execution_count": null,
   "id": "a490296c",
   "metadata": {},
   "outputs": [],
   "source": [
    "plot_test(x_values=df_test_agg.index, \n",
    "          y1_values=df_test_agg['Test statistic'].values,\n",
    "          y2_values=df_test_agg['Quantile 99'].values,\n",
    "          test='NP Statistic',\n",
    "          x_label='Aggregation level',\n",
    "          pair='BTCUSDT')"
   ]
  },
  {
   "cell_type": "markdown",
   "id": "d6c40282",
   "metadata": {},
   "source": [
    "### MultiTester UNI"
   ]
  },
  {
   "cell_type": "code",
   "execution_count": null,
   "id": "e47945ff",
   "metadata": {},
   "outputs": [],
   "source": [
    "multi_tester = MultiTester(asset='UNIUSDT',symbols=symbols,overlapping=False)\n",
    "df_test_block = multi_tester.test_by_block_size(test='Entropy Bias',\n",
    "                                    max_block_size=15,\n",
    "                                    year=year,\n",
    "                                    month=month,\n",
    "                                    aggregation_level=5)\n",
    "df_test_block"
   ]
  },
  {
   "cell_type": "code",
   "execution_count": null,
   "id": "5b6caaf0",
   "metadata": {},
   "outputs": [],
   "source": [
    "plot_test(x_values=df_test_block.index, \n",
    "          y1_values=df_test_block['Test statistic'].values,\n",
    "          y2_values=df_test_block['Quantile 99'].values,\n",
    "          test='Entropy Bias',\n",
    "          x_label='Block size',\n",
    "          pair='BTCUSDT')"
   ]
  },
  {
   "cell_type": "code",
   "execution_count": null,
   "id": "35c89f78",
   "metadata": {},
   "outputs": [],
   "source": [
    "multi_tester = MultiTester(asset='BTCUSDT',symbols=symbols,overlapping=True)\n",
    "df_test_agg = multi_tester.test_by_aggregation_level(test='NP Statistic',\n",
    "                                           max_aggregation_level=50,\n",
    "                                           year=year,\n",
    "                                           month=month,\n",
    "                                           block_size=2)\n",
    "df_test_agg"
   ]
  },
  {
   "cell_type": "code",
   "execution_count": null,
   "id": "d223b2b9",
   "metadata": {},
   "outputs": [],
   "source": [
    "plot_test(x_values=df_test_agg.index, \n",
    "          y1_values=df_test_agg['Test statistic'].values,\n",
    "          y2_values=df_test_agg['Quantile 99'].values,\n",
    "          test='NP Statistic',\n",
    "          x_label='Aggregation level',\n",
    "          pair='BTCUSDT')"
   ]
  },
  {
   "cell_type": "markdown",
   "id": "aa05e27f",
   "metadata": {},
   "source": [
    "### Fraction of predictable days"
   ]
  },
  {
   "cell_type": "code",
   "execution_count": null,
   "id": "6c13d2ff",
   "metadata": {},
   "outputs": [],
   "source": [
    "asset_pairs = ['BTCUSDT','ETHUSDT','SOLUSDT',\n",
    "               'BNBUSDT', 'AVAXUSDT', 'UNIUSDT',\n",
    "               'LINKUSDT', 'AXSUSDT', 'RENDERUSDT']"
   ]
  },
  {
   "cell_type": "code",
   "execution_count": null,
   "id": "35a2d53b",
   "metadata": {},
   "outputs": [],
   "source": [
    "intervals_analysis(pairs=asset_pairs,\n",
    "                   symbols=symbols,\n",
    "                   max_aggregation_level=50,\n",
    "                   year=year,\n",
    "                   month=[month])"
   ]
  },
  {
   "cell_type": "code",
   "execution_count": null,
   "id": "ae38fe16",
   "metadata": {},
   "outputs": [],
   "source": [
    "intervals_analysis(pairs=asset_pairs,\n",
    "                   symbols=symbols,\n",
    "                   max_aggregation_level=50,\n",
    "                   year=year,\n",
    "                   month=[month],\n",
    "                   test = 'NP Statistic')"
   ]
  },
  {
   "cell_type": "code",
   "execution_count": null,
   "id": "ad6c5c10",
   "metadata": {},
   "outputs": [],
   "source": [
    "historical_collector = HistoricalDataCollector(pairs=asset_pairs, year=2025, month=2)\n",
    "historical_collector.collect()"
   ]
  },
  {
   "cell_type": "markdown",
   "id": "ee19d82c",
   "metadata": {},
   "source": [
    "### Assets properties"
   ]
  },
  {
   "cell_type": "code",
   "execution_count": null,
   "id": "bd73508a",
   "metadata": {},
   "outputs": [],
   "source": [
    "data_manager = DataManager(asset_pairs, symbols, year=year, month=month, aggregation_level=1)\n",
    "df_prop = get_assets_properties(asset_pairs, s=2, year=year, month=month)\n",
    "df_prop"
   ]
  }
 ],
 "metadata": {
  "kernelspec": {
   "display_name": "Python 3",
   "language": "python",
   "name": "python3"
  },
  "language_info": {
   "codemirror_mode": {
    "name": "ipython",
    "version": 3
   },
   "file_extension": ".py",
   "mimetype": "text/x-python",
   "name": "python",
   "nbconvert_exporter": "python",
   "pygments_lexer": "ipython3",
   "version": "3.12.10"
  }
 },
 "nbformat": 4,
 "nbformat_minor": 5
}
