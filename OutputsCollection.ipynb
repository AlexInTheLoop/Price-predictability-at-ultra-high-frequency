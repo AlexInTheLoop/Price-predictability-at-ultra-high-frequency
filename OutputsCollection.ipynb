{
 "cells": [
  {
   "cell_type": "markdown",
   "id": "859df6eb",
   "metadata": {},
   "source": [
    "### SET UP"
   ]
  },
  {
   "cell_type": "code",
   "execution_count": null,
   "id": "ebb8af39",
   "metadata": {},
   "outputs": [],
   "source": [
    "import numpy as np\n",
    "import pandas as pd\n",
    "from data.DataManager import DataManager\n",
    "from data.DataGenerator import DataGenerator\n",
    "from data.DataCollectors import HistoricalDataCollector, RealTimeDataCollector\n",
    "from main.RandomnessAnalysis import RandomnessAnalysis\n",
    "from main.PredictableDayAnalysis import PredictableDayAnalysis\n",
    "from utils.Analysis import get_assets_properties, localization_predictable_intervals\n",
    "from utils.MultiTester import MultiTester\n",
    "from utils.VisualizationTools import plot_block_frequencies\n",
    "from utils.Analysis import intervals_analysis\n",
    "from utils.VisualizationTools import plot_test"
   ]
  },
  {
   "cell_type": "code",
   "execution_count": null,
   "id": "4a1b94b3",
   "metadata": {},
   "outputs": [],
   "source": [
    "asset_pairs = ['BTCUSDT','ETHUSDT','UNIUSDT']\n",
    "symbols = {\n",
    "            0: [(-np.inf, 0)\n",
    "                , (False, False)],\n",
    "            1: [(0, np.inf), (False, False)]\n",
    "        }\n",
    "s = 2"
   ]
  },
  {
   "cell_type": "code",
   "execution_count": null,
   "id": "32407d2c",
   "metadata": {},
   "outputs": [],
   "source": [
    "year, month = 2025, 2"
   ]
  },
  {
   "cell_type": "code",
   "execution_count": null,
   "id": "3edaced4",
   "metadata": {},
   "outputs": [],
   "source": [
    "historical_collector = HistoricalDataCollector(pairs=asset_pairs, year=year, month=month)\n",
    "historical_collector.collect()"
   ]
  },
  {
   "cell_type": "markdown",
   "id": "525fb5f8",
   "metadata": {},
   "source": [
    "### Efficient vs Inefficient days"
   ]
  },
  {
   "cell_type": "markdown",
   "id": "278c40d3",
   "metadata": {},
   "source": [
    "#### BTC"
   ]
  },
  {
   "cell_type": "code",
   "execution_count": null,
   "id": "0c3363db",
   "metadata": {},
   "outputs": [],
   "source": [
    "data_manager = DataManager(\"BTCUSDT\", symbols, year=year, month=month, aggregation_level=1)\n",
    "blocks = data_manager.block_constructor(block_size=2, overlapping=True)\n",
    "analysis = PredictableDayAnalysis(pair=\"BTCUSDT\",data_manager=data_manager)\n",
    "analysis.analyze_days(blocks)\n",
    "analysis.efficient_df"
   ]
  },
  {
   "cell_type": "code",
   "execution_count": null,
   "id": "e803999d",
   "metadata": {},
   "outputs": [],
   "source": [
    "analysis.inefficient_df"
   ]
  },
  {
   "cell_type": "markdown",
   "id": "4310d922",
   "metadata": {},
   "source": [
    "#### ETH"
   ]
  },
  {
   "cell_type": "code",
   "execution_count": null,
   "id": "63f86244",
   "metadata": {},
   "outputs": [],
   "source": [
    "data_manager = DataManager(\"ETHUSDT\", symbols, year=year, month=month, aggregation_level=1)\n",
    "blocks = data_manager.block_constructor(block_size=2, overlapping=True)\n",
    "analysis = PredictableDayAnalysis(pair=\"ETHUSDT\",data_manager=data_manager)\n",
    "analysis.analyze_days(blocks)\n",
    "analysis.efficient_df"
   ]
  },
  {
   "cell_type": "code",
   "execution_count": null,
   "id": "fd7ddba9",
   "metadata": {},
   "outputs": [],
   "source": [
    "analysis.inefficient_df"
   ]
  },
  {
   "cell_type": "markdown",
   "id": "94cbbdf5",
   "metadata": {},
   "source": [
    "### Predictable intervals locations (BTC)"
   ]
  },
  {
   "cell_type": "code",
   "execution_count": null,
   "id": "9349faf5",
   "metadata": {},
   "outputs": [],
   "source": [
    "df = localization_predictable_intervals(data_manager, \"BTCUSDT\", test='NP Statistic')\n",
    "df.head(10)"
   ]
  },
  {
   "cell_type": "markdown",
   "id": "ff2d3118",
   "metadata": {},
   "source": [
    "### Aggregation level 1"
   ]
  },
  {
   "cell_type": "code",
   "execution_count": null,
   "id": "68bad3da",
   "metadata": {},
   "outputs": [],
   "source": [
    "data_manager = DataManager(asset_pairs, symbols, year=year, month=month, aggregation_level=1)"
   ]
  },
  {
   "cell_type": "markdown",
   "id": "77c369eb",
   "metadata": {},
   "source": [
    "#### Non overlapping"
   ]
  },
  {
   "cell_type": "code",
   "execution_count": null,
   "id": "a37bf851",
   "metadata": {},
   "outputs": [],
   "source": [
    "blocks_size_2 = data_manager.block_constructor(block_size=2, overlapping=False)\n",
    "blocks_size_3 = data_manager.block_constructor(block_size=3, overlapping=False)\n",
    "blocks_size_5 = data_manager.block_constructor(block_size=5, overlapping=False)"
   ]
  },
  {
   "cell_type": "markdown",
   "id": "971116cc",
   "metadata": {},
   "source": [
    "##### Block size 2"
   ]
  },
  {
   "cell_type": "code",
   "execution_count": null,
   "id": "4606b774",
   "metadata": {},
   "outputs": [],
   "source": [
    "blocks_btc = blocks_size_2['BTCUSDT']\n",
    "analyser = RandomnessAnalysis(blocks_df=blocks_btc, s=s)\n",
    "frequencies_df = analyser.compute_blocks_frequencies()\n",
    "plot_block_frequencies(frequencies_df)"
   ]
  },
  {
   "cell_type": "code",
   "execution_count": null,
   "id": "b1177465",
   "metadata": {},
   "outputs": [],
   "source": [
    "test_entropy = analyser.entropy_bias_test()\n",
    "test_entropy"
   ]
  },
  {
   "cell_type": "code",
   "execution_count": null,
   "id": "39382c9c",
   "metadata": {},
   "outputs": [],
   "source": [
    "blocks_eth = blocks_size_2['ETHUSDT']\n",
    "analyser = RandomnessAnalysis(blocks_df=blocks_eth, s=s)\n",
    "frequencies_df = analyser.compute_blocks_frequencies()\n",
    "plot_block_frequencies(frequencies_df)"
   ]
  },
  {
   "cell_type": "code",
   "execution_count": null,
   "id": "14caf361",
   "metadata": {},
   "outputs": [],
   "source": [
    "test_entropy = analyser.entropy_bias_test()\n",
    "test_entropy"
   ]
  },
  {
   "cell_type": "code",
   "execution_count": null,
   "id": "90ba85db",
   "metadata": {},
   "outputs": [],
   "source": [
    "blocks_uni = blocks_size_2['UNIUSDT']\n",
    "analyser = RandomnessAnalysis(blocks_df=blocks_uni, s=s)\n",
    "frequencies_df = analyser.compute_blocks_frequencies()\n",
    "plot_block_frequencies(frequencies_df)"
   ]
  },
  {
   "cell_type": "code",
   "execution_count": null,
   "id": "2d14b964",
   "metadata": {},
   "outputs": [],
   "source": [
    "test_entropy = analyser.entropy_bias_test()\n",
    "test_entropy"
   ]
  },
  {
   "cell_type": "markdown",
   "id": "6b1ea084",
   "metadata": {},
   "source": [
    "##### Block size 3"
   ]
  },
  {
   "cell_type": "code",
   "execution_count": null,
   "id": "e293d229",
   "metadata": {},
   "outputs": [],
   "source": [
    "blocks_btc = blocks_size_3['BTCUSDT']\n",
    "analyser = RandomnessAnalysis(blocks_df=blocks_btc, s=s)\n",
    "frequencies_df = analyser.compute_blocks_frequencies()\n",
    "plot_block_frequencies(frequencies_df)"
   ]
  },
  {
   "cell_type": "code",
   "execution_count": null,
   "id": "557b137d",
   "metadata": {},
   "outputs": [],
   "source": [
    "blocks_eth = blocks_size_3['ETHUSDT']\n",
    "analyser = RandomnessAnalysis(blocks_df=blocks_eth, s=s)\n",
    "frequencies_df = analyser.compute_blocks_frequencies()\n",
    "plot_block_frequencies(frequencies_df)"
   ]
  },
  {
   "cell_type": "code",
   "execution_count": null,
   "id": "6a709a7a",
   "metadata": {},
   "outputs": [],
   "source": [
    "blocks_uni = blocks_size_3['UNIUSDT']\n",
    "analyser = RandomnessAnalysis(blocks_df=blocks_uni, s=s)\n",
    "frequencies_df = analyser.compute_blocks_frequencies()\n",
    "plot_block_frequencies(frequencies_df)"
   ]
  },
  {
   "cell_type": "markdown",
   "id": "53b0b7ab",
   "metadata": {},
   "source": [
    "##### Block size 5"
   ]
  },
  {
   "cell_type": "code",
   "execution_count": null,
   "id": "1de157c7",
   "metadata": {},
   "outputs": [],
   "source": [
    "blocks_btc = blocks_size_5['BTCUSDT']\n",
    "analyser = RandomnessAnalysis(blocks_df=blocks_btc, s=s)\n",
    "frequencies_df = analyser.compute_blocks_frequencies()\n",
    "plot_block_frequencies(frequencies_df)"
   ]
  },
  {
   "cell_type": "code",
   "execution_count": null,
   "id": "f26e5484",
   "metadata": {},
   "outputs": [],
   "source": [
    "blocks_eth = blocks_size_5['ETHUSDT']\n",
    "analyser = RandomnessAnalysis(blocks_df=blocks_eth, s=s)\n",
    "frequencies_df = analyser.compute_blocks_frequencies()\n",
    "plot_block_frequencies(frequencies_df)"
   ]
  },
  {
   "cell_type": "code",
   "execution_count": null,
   "id": "da418c1e",
   "metadata": {},
   "outputs": [],
   "source": [
    "blocks_uni = blocks_size_5['UNIUSDT']\n",
    "analyser = RandomnessAnalysis(blocks_df=blocks_uni, s=s)\n",
    "frequencies_df = analyser.compute_blocks_frequencies()\n",
    "plot_block_frequencies(frequencies_df)"
   ]
  },
  {
   "cell_type": "markdown",
   "id": "ff9c233d",
   "metadata": {},
   "source": [
    "#### Overlapping"
   ]
  },
  {
   "cell_type": "code",
   "execution_count": null,
   "id": "96a90aa3",
   "metadata": {},
   "outputs": [],
   "source": [
    "blocks_size_2 = data_manager.block_constructor(block_size=2, overlapping=True)\n",
    "blocks_size_3 = data_manager.block_constructor(block_size=3, overlapping=True)\n",
    "blocks_size_5 = data_manager.block_constructor(block_size=5, overlapping=True)"
   ]
  },
  {
   "cell_type": "markdown",
   "id": "9102de9d",
   "metadata": {},
   "source": [
    "##### Block size 2"
   ]
  },
  {
   "cell_type": "code",
   "execution_count": null,
   "id": "bab48889",
   "metadata": {},
   "outputs": [],
   "source": [
    "blocks_btc = blocks_size_2['BTCUSDT']\n",
    "analyser = RandomnessAnalysis(blocks_df=blocks_btc, s=s)\n",
    "frequencies_df = analyser.compute_blocks_frequencies()\n",
    "plot_block_frequencies(frequencies_df)"
   ]
  },
  {
   "cell_type": "code",
   "execution_count": null,
   "id": "5a49966c",
   "metadata": {},
   "outputs": [],
   "source": [
    "test_divergence = analyser.KL_divergence_test()\n",
    "test_divergence"
   ]
  },
  {
   "cell_type": "code",
   "execution_count": null,
   "id": "5ec85287",
   "metadata": {},
   "outputs": [],
   "source": [
    "blocks_eth = blocks_size_2['ETHUSDT']\n",
    "analyser = RandomnessAnalysis(blocks_df=blocks_eth, s=s)\n",
    "frequencies_df = analyser.compute_blocks_frequencies()\n",
    "plot_block_frequencies(frequencies_df)"
   ]
  },
  {
   "cell_type": "code",
   "execution_count": null,
   "id": "1ee78dfb",
   "metadata": {},
   "outputs": [],
   "source": [
    "test_divergence = analyser.KL_divergence_test()\n",
    "test_divergence"
   ]
  },
  {
   "cell_type": "code",
   "execution_count": null,
   "id": "1f8f678d",
   "metadata": {},
   "outputs": [],
   "source": [
    "blocks_uni = blocks_size_2['UNIUSDT']\n",
    "analyser = RandomnessAnalysis(blocks_df=blocks_uni, s=s)\n",
    "frequencies_df = analyser.compute_blocks_frequencies()\n",
    "plot_block_frequencies(frequencies_df)"
   ]
  },
  {
   "cell_type": "code",
   "execution_count": null,
   "id": "89198a4d",
   "metadata": {},
   "outputs": [],
   "source": [
    "test_divergence = analyser.KL_divergence_test()\n",
    "test_divergence"
   ]
  },
  {
   "cell_type": "markdown",
   "id": "cac0c0d0",
   "metadata": {},
   "source": [
    "##### Block size 3"
   ]
  },
  {
   "cell_type": "code",
   "execution_count": null,
   "id": "4fdace74",
   "metadata": {},
   "outputs": [],
   "source": [
    "blocks_btc = blocks_size_3['BTCUSDT']\n",
    "analyser = RandomnessAnalysis(blocks_df=blocks_btc, s=s)\n",
    "frequencies_df = analyser.compute_blocks_frequencies()\n",
    "plot_block_frequencies(frequencies_df)"
   ]
  },
  {
   "cell_type": "code",
   "execution_count": null,
   "id": "d236d1aa",
   "metadata": {},
   "outputs": [],
   "source": [
    "blocks_eth = blocks_size_3['ETHUSDT']\n",
    "analyser = RandomnessAnalysis(blocks_df=blocks_eth, s=s)\n",
    "frequencies_df = analyser.compute_blocks_frequencies()\n",
    "plot_block_frequencies(frequencies_df)"
   ]
  },
  {
   "cell_type": "code",
   "execution_count": null,
   "id": "a4d2ccf1",
   "metadata": {},
   "outputs": [],
   "source": [
    "blocks_uni = blocks_size_3['UNIUSDT']\n",
    "analyser = RandomnessAnalysis(blocks_df=blocks_uni, s=s)\n",
    "frequencies_df = analyser.compute_blocks_frequencies()\n",
    "plot_block_frequencies(frequencies_df)"
   ]
  },
  {
   "cell_type": "markdown",
   "id": "472c5c50",
   "metadata": {},
   "source": [
    "##### Block size 5"
   ]
  },
  {
   "cell_type": "code",
   "execution_count": null,
   "id": "4e40f5f2",
   "metadata": {},
   "outputs": [],
   "source": [
    "blocks_btc = blocks_size_5['BTCUSDT']\n",
    "analyser = RandomnessAnalysis(blocks_df=blocks_btc, s=s)\n",
    "frequencies_df = analyser.compute_blocks_frequencies()\n",
    "plot_block_frequencies(frequencies_df)"
   ]
  },
  {
   "cell_type": "code",
   "execution_count": null,
   "id": "621f9f6b",
   "metadata": {},
   "outputs": [],
   "source": [
    "blocks_eth = blocks_size_5['ETHUSDT']\n",
    "analyser = RandomnessAnalysis(blocks_df=blocks_eth, s=s)\n",
    "frequencies_df = analyser.compute_blocks_frequencies()\n",
    "plot_block_frequencies(frequencies_df)"
   ]
  },
  {
   "cell_type": "code",
   "execution_count": null,
   "id": "88a1bfac",
   "metadata": {},
   "outputs": [],
   "source": [
    "blocks_uni = blocks_size_5['UNIUSDT']\n",
    "analyser = RandomnessAnalysis(blocks_df=blocks_uni, s=s)\n",
    "frequencies_df = analyser.compute_blocks_frequencies()\n",
    "plot_block_frequencies(frequencies_df)"
   ]
  },
  {
   "cell_type": "markdown",
   "id": "19e27f23",
   "metadata": {},
   "source": [
    "### Aggregation level 5"
   ]
  },
  {
   "cell_type": "code",
   "execution_count": null,
   "id": "a4f2f758",
   "metadata": {},
   "outputs": [],
   "source": [
    "data_manager = DataManager(asset_pairs, symbols, year=year, month=month, aggregation_level=5)"
   ]
  },
  {
   "cell_type": "markdown",
   "id": "30a9ae25",
   "metadata": {},
   "source": [
    "#### Non overlapping"
   ]
  },
  {
   "cell_type": "code",
   "execution_count": null,
   "id": "d6337ff9",
   "metadata": {},
   "outputs": [],
   "source": [
    "blocks_size_2 = data_manager.block_constructor(block_size=2, overlapping=False)\n",
    "blocks_size_3 = data_manager.block_constructor(block_size=3, overlapping=False)\n",
    "blocks_size_5 = data_manager.block_constructor(block_size=5, overlapping=False)"
   ]
  },
  {
   "cell_type": "markdown",
   "id": "4b2568a1",
   "metadata": {},
   "source": [
    "##### Block size 2"
   ]
  },
  {
   "cell_type": "code",
   "execution_count": null,
   "id": "3e85af7f",
   "metadata": {},
   "outputs": [],
   "source": [
    "blocks_btc = blocks_size_2['BTCUSDT']\n",
    "analyser = RandomnessAnalysis(blocks_df=blocks_btc, s=s)\n",
    "frequencies_df = analyser.compute_blocks_frequencies()\n",
    "plot_block_frequencies(frequencies_df)"
   ]
  },
  {
   "cell_type": "code",
   "execution_count": null,
   "id": "75315d20",
   "metadata": {},
   "outputs": [],
   "source": [
    "test_entropy = analyser.entropy_bias_test()\n",
    "test_entropy"
   ]
  },
  {
   "cell_type": "code",
   "execution_count": null,
   "id": "83333ebf",
   "metadata": {},
   "outputs": [],
   "source": [
    "blocks_eth = blocks_size_2['ETHUSDT']\n",
    "analyser = RandomnessAnalysis(blocks_df=blocks_eth, s=s)\n",
    "frequencies_df = analyser.compute_blocks_frequencies()\n",
    "plot_block_frequencies(frequencies_df)"
   ]
  },
  {
   "cell_type": "code",
   "execution_count": null,
   "id": "fe632ce8",
   "metadata": {},
   "outputs": [],
   "source": [
    "test_entropy = analyser.entropy_bias_test()\n",
    "test_entropy"
   ]
  },
  {
   "cell_type": "code",
   "execution_count": null,
   "id": "7ead65b3",
   "metadata": {},
   "outputs": [],
   "source": [
    "blocks_uni = blocks_size_2['UNIUSDT']\n",
    "analyser = RandomnessAnalysis(blocks_df=blocks_uni, s=s)\n",
    "frequencies_df = analyser.compute_blocks_frequencies()\n",
    "plot_block_frequencies(frequencies_df)"
   ]
  },
  {
   "cell_type": "code",
   "execution_count": null,
   "id": "8d0c794a",
   "metadata": {},
   "outputs": [],
   "source": [
    "test_entropy = analyser.entropy_bias_test()\n",
    "test_entropy"
   ]
  },
  {
   "cell_type": "markdown",
   "id": "9bc532d1",
   "metadata": {},
   "source": [
    "##### Block size 3"
   ]
  },
  {
   "cell_type": "code",
   "execution_count": null,
   "id": "da496395",
   "metadata": {},
   "outputs": [],
   "source": [
    "blocks_btc = blocks_size_3['BTCUSDT']\n",
    "analyser = RandomnessAnalysis(blocks_df=blocks_btc, s=s)\n",
    "frequencies_df = analyser.compute_blocks_frequencies()\n",
    "plot_block_frequencies(frequencies_df)"
   ]
  },
  {
   "cell_type": "code",
   "execution_count": null,
   "id": "26cd31ad",
   "metadata": {},
   "outputs": [],
   "source": [
    "blocks_eth = blocks_size_3['ETHUSDT']\n",
    "analyser = RandomnessAnalysis(blocks_df=blocks_eth, s=s)\n",
    "frequencies_df = analyser.compute_blocks_frequencies()\n",
    "plot_block_frequencies(frequencies_df)"
   ]
  },
  {
   "cell_type": "code",
   "execution_count": null,
   "id": "8d84b8ac",
   "metadata": {},
   "outputs": [],
   "source": [
    "blocks_uni = blocks_size_3['UNIUSDT']\n",
    "analyser = RandomnessAnalysis(blocks_df=blocks_uni, s=s)\n",
    "frequencies_df = analyser.compute_blocks_frequencies()\n",
    "plot_block_frequencies(frequencies_df)"
   ]
  },
  {
   "cell_type": "markdown",
   "id": "95a68757",
   "metadata": {},
   "source": [
    "##### Block size 5"
   ]
  },
  {
   "cell_type": "code",
   "execution_count": null,
   "id": "bef03c19",
   "metadata": {},
   "outputs": [],
   "source": [
    "blocks_btc = blocks_size_5['BTCUSDT']\n",
    "analyser = RandomnessAnalysis(blocks_df=blocks_btc, s=s)\n",
    "frequencies_df = analyser.compute_blocks_frequencies()\n",
    "plot_block_frequencies(frequencies_df)"
   ]
  },
  {
   "cell_type": "code",
   "execution_count": null,
   "id": "acfe267f",
   "metadata": {},
   "outputs": [],
   "source": [
    "blocks_eth = blocks_size_5['ETHUSDT']\n",
    "analyser = RandomnessAnalysis(blocks_df=blocks_eth, s=s)\n",
    "frequencies_df = analyser.compute_blocks_frequencies()\n",
    "plot_block_frequencies(frequencies_df)"
   ]
  },
  {
   "cell_type": "code",
   "execution_count": null,
   "id": "3697856c",
   "metadata": {},
   "outputs": [],
   "source": [
    "blocks_uni = blocks_size_5['UNIUSDT']\n",
    "analyser = RandomnessAnalysis(blocks_df=blocks_uni, s=s)\n",
    "frequencies_df = analyser.compute_blocks_frequencies()\n",
    "plot_block_frequencies(frequencies_df)"
   ]
  },
  {
   "cell_type": "markdown",
   "id": "63c96b05",
   "metadata": {},
   "source": [
    "#### Overlapping"
   ]
  },
  {
   "cell_type": "code",
   "execution_count": null,
   "id": "f97530b3",
   "metadata": {},
   "outputs": [],
   "source": [
    "blocks_size_2 = data_manager.block_constructor(block_size=2, overlapping=True)\n",
    "blocks_size_3 = data_manager.block_constructor(block_size=3, overlapping=True)\n",
    "blocks_size_5 = data_manager.block_constructor(block_size=5, overlapping=True)"
   ]
  },
  {
   "cell_type": "markdown",
   "id": "9706b9e2",
   "metadata": {},
   "source": [
    "##### Block size 2"
   ]
  },
  {
   "cell_type": "code",
   "execution_count": null,
   "id": "8ced8fcd",
   "metadata": {},
   "outputs": [],
   "source": [
    "blocks_btc = blocks_size_2['BTCUSDT']\n",
    "analyser = RandomnessAnalysis(blocks_df=blocks_btc, s=s)\n",
    "frequencies_df = analyser.compute_blocks_frequencies()\n",
    "plot_block_frequencies(frequencies_df)"
   ]
  },
  {
   "cell_type": "code",
   "execution_count": null,
   "id": "19a8ab6d",
   "metadata": {},
   "outputs": [],
   "source": [
    "test_divergence = analyser.KL_divergence_test()\n",
    "test_divergence"
   ]
  },
  {
   "cell_type": "code",
   "execution_count": null,
   "id": "2026b3bb",
   "metadata": {},
   "outputs": [],
   "source": [
    "blocks_eth = blocks_size_2['ETHUSDT']\n",
    "analyser = RandomnessAnalysis(blocks_df=blocks_eth, s=s)\n",
    "frequencies_df = analyser.compute_blocks_frequencies()\n",
    "plot_block_frequencies(frequencies_df)"
   ]
  },
  {
   "cell_type": "code",
   "execution_count": null,
   "id": "9f2c04f6",
   "metadata": {},
   "outputs": [],
   "source": [
    "test_divergence = analyser.KL_divergence_test()\n",
    "test_divergence"
   ]
  },
  {
   "cell_type": "code",
   "execution_count": null,
   "id": "7b2ef9e0",
   "metadata": {},
   "outputs": [],
   "source": [
    "blocks_uni = blocks_size_2['UNIUSDT']\n",
    "analyser = RandomnessAnalysis(blocks_df=blocks_uni, s=s)\n",
    "frequencies_df = analyser.compute_blocks_frequencies()\n",
    "plot_block_frequencies(frequencies_df)"
   ]
  },
  {
   "cell_type": "code",
   "execution_count": null,
   "id": "3397f992",
   "metadata": {},
   "outputs": [],
   "source": [
    "test_divergence = analyser.KL_divergence_test()\n",
    "test_divergence"
   ]
  },
  {
   "cell_type": "markdown",
   "id": "9e0b5f5b",
   "metadata": {},
   "source": [
    "##### Block size 3"
   ]
  },
  {
   "cell_type": "code",
   "execution_count": null,
   "id": "74239942",
   "metadata": {},
   "outputs": [],
   "source": [
    "blocks_btc = blocks_size_3['BTCUSDT']\n",
    "analyser = RandomnessAnalysis(blocks_df=blocks_btc, s=s)\n",
    "frequencies_df = analyser.compute_blocks_frequencies()\n",
    "plot_block_frequencies(frequencies_df)"
   ]
  },
  {
   "cell_type": "code",
   "execution_count": null,
   "id": "21a48a45",
   "metadata": {},
   "outputs": [],
   "source": [
    "blocks_eth = blocks_size_3['ETHUSDT']\n",
    "analyser = RandomnessAnalysis(blocks_df=blocks_eth, s=s)\n",
    "frequencies_df = analyser.compute_blocks_frequencies()\n",
    "plot_block_frequencies(frequencies_df)"
   ]
  },
  {
   "cell_type": "code",
   "execution_count": null,
   "id": "c97846f7",
   "metadata": {},
   "outputs": [],
   "source": [
    "blocks_uni = blocks_size_3['UNIUSDT']\n",
    "analyser = RandomnessAnalysis(blocks_df=blocks_uni, s=s)\n",
    "frequencies_df = analyser.compute_blocks_frequencies()\n",
    "plot_block_frequencies(frequencies_df)"
   ]
  },
  {
   "cell_type": "markdown",
   "id": "2175a9eb",
   "metadata": {},
   "source": [
    "##### Block size 5"
   ]
  },
  {
   "cell_type": "code",
   "execution_count": null,
   "id": "94f774be",
   "metadata": {},
   "outputs": [],
   "source": [
    "blocks_btc = blocks_size_5['BTCUSDT']\n",
    "analyser = RandomnessAnalysis(blocks_df=blocks_btc, s=s)\n",
    "frequencies_df = analyser.compute_blocks_frequencies()\n",
    "plot_block_frequencies(frequencies_df)"
   ]
  },
  {
   "cell_type": "code",
   "execution_count": null,
   "id": "64103e5a",
   "metadata": {},
   "outputs": [],
   "source": [
    "blocks_eth = blocks_size_5['ETHUSDT']\n",
    "analyser = RandomnessAnalysis(blocks_df=blocks_eth, s=s)\n",
    "frequencies_df = analyser.compute_blocks_frequencies()\n",
    "plot_block_frequencies(frequencies_df)"
   ]
  },
  {
   "cell_type": "code",
   "execution_count": null,
   "id": "3542b7e5",
   "metadata": {},
   "outputs": [],
   "source": [
    "blocks_uni = blocks_size_5['UNIUSDT']\n",
    "analyser = RandomnessAnalysis(blocks_df=blocks_uni, s=s)\n",
    "frequencies_df = analyser.compute_blocks_frequencies()\n",
    "plot_block_frequencies(frequencies_df)"
   ]
  },
  {
   "cell_type": "markdown",
   "id": "1bb91fb6",
   "metadata": {},
   "source": [
    "### Aggregation level 20"
   ]
  },
  {
   "cell_type": "code",
   "execution_count": null,
   "id": "474a28cc",
   "metadata": {},
   "outputs": [],
   "source": [
    "data_manager = DataManager(asset_pairs, symbols, year=year, month=month, aggregation_level=20)"
   ]
  },
  {
   "cell_type": "markdown",
   "id": "162101c1",
   "metadata": {},
   "source": [
    "#### Non overlapping"
   ]
  },
  {
   "cell_type": "code",
   "execution_count": null,
   "id": "744b8986",
   "metadata": {},
   "outputs": [],
   "source": [
    "blocks_size_2 = data_manager.block_constructor(block_size=2, overlapping=False)\n",
    "blocks_size_3 = data_manager.block_constructor(block_size=3, overlapping=False)\n",
    "blocks_size_5 = data_manager.block_constructor(block_size=5, overlapping=False)"
   ]
  },
  {
   "cell_type": "markdown",
   "id": "2468f475",
   "metadata": {},
   "source": [
    "##### Block size 2"
   ]
  },
  {
   "cell_type": "code",
   "execution_count": null,
   "id": "139f5c2b",
   "metadata": {},
   "outputs": [],
   "source": [
    "blocks_btc = blocks_size_2['BTCUSDT']\n",
    "analyser = RandomnessAnalysis(blocks_df=blocks_btc, s=s)\n",
    "frequencies_df = analyser.compute_blocks_frequencies()\n",
    "plot_block_frequencies(frequencies_df)"
   ]
  },
  {
   "cell_type": "code",
   "execution_count": null,
   "id": "3f2e4b1e",
   "metadata": {},
   "outputs": [],
   "source": [
    "test_entropy = analyser.entropy_bias_test()\n",
    "test_entropy"
   ]
  },
  {
   "cell_type": "code",
   "execution_count": null,
   "id": "2e954c6f",
   "metadata": {},
   "outputs": [],
   "source": [
    "blocks_eth = blocks_size_2['ETHUSDT']\n",
    "analyser = RandomnessAnalysis(blocks_df=blocks_eth, s=s)\n",
    "frequencies_df = analyser.compute_blocks_frequencies()\n",
    "plot_block_frequencies(frequencies_df)"
   ]
  },
  {
   "cell_type": "code",
   "execution_count": null,
   "id": "8a54aeec",
   "metadata": {},
   "outputs": [],
   "source": [
    "test_entropy = analyser.entropy_bias_test()\n",
    "test_entropy"
   ]
  },
  {
   "cell_type": "code",
   "execution_count": null,
   "id": "04840863",
   "metadata": {},
   "outputs": [],
   "source": [
    "blocks_uni = blocks_size_2['UNIUSDT']\n",
    "analyser = RandomnessAnalysis(blocks_df=blocks_uni, s=s)\n",
    "frequencies_df = analyser.compute_blocks_frequencies()\n",
    "plot_block_frequencies(frequencies_df)"
   ]
  },
  {
   "cell_type": "code",
   "execution_count": null,
   "id": "ef145f52",
   "metadata": {},
   "outputs": [],
   "source": [
    "test_entropy = analyser.entropy_bias_test()\n",
    "test_entropy"
   ]
  },
  {
   "cell_type": "markdown",
   "id": "3edee481",
   "metadata": {},
   "source": [
    "##### Block size 3"
   ]
  },
  {
   "cell_type": "code",
   "execution_count": null,
   "id": "664848b2",
   "metadata": {},
   "outputs": [],
   "source": [
    "blocks_btc = blocks_size_3['BTCUSDT']\n",
    "analyser = RandomnessAnalysis(blocks_df=blocks_btc, s=s)\n",
    "frequencies_df = analyser.compute_blocks_frequencies()\n",
    "plot_block_frequencies(frequencies_df)"
   ]
  },
  {
   "cell_type": "code",
   "execution_count": null,
   "id": "11633df5",
   "metadata": {},
   "outputs": [],
   "source": [
    "blocks_eth = blocks_size_3['ETHUSDT']\n",
    "analyser = RandomnessAnalysis(blocks_df=blocks_eth, s=s)\n",
    "frequencies_df = analyser.compute_blocks_frequencies()\n",
    "plot_block_frequencies(frequencies_df)"
   ]
  },
  {
   "cell_type": "code",
   "execution_count": null,
   "id": "89a136b5",
   "metadata": {},
   "outputs": [],
   "source": [
    "blocks_uni = blocks_size_3['UNIUSDT']\n",
    "analyser = RandomnessAnalysis(blocks_df=blocks_uni, s=s)\n",
    "frequencies_df = analyser.compute_blocks_frequencies()\n",
    "plot_block_frequencies(frequencies_df)"
   ]
  },
  {
   "cell_type": "markdown",
   "id": "3fa03a02",
   "metadata": {},
   "source": [
    "##### Block size 5"
   ]
  },
  {
   "cell_type": "code",
   "execution_count": null,
   "id": "85676c46",
   "metadata": {},
   "outputs": [],
   "source": [
    "blocks_btc = blocks_size_5['BTCUSDT']\n",
    "analyser = RandomnessAnalysis(blocks_df=blocks_btc, s=s)\n",
    "frequencies_df = analyser.compute_blocks_frequencies()\n",
    "plot_block_frequencies(frequencies_df)"
   ]
  },
  {
   "cell_type": "code",
   "execution_count": null,
   "id": "3a3400f8",
   "metadata": {},
   "outputs": [],
   "source": [
    "blocks_eth = blocks_size_5['ETHUSDT']\n",
    "analyser = RandomnessAnalysis(blocks_df=blocks_eth, s=s)\n",
    "frequencies_df = analyser.compute_blocks_frequencies()\n",
    "plot_block_frequencies(frequencies_df)"
   ]
  },
  {
   "cell_type": "code",
   "execution_count": null,
   "id": "f43925a6",
   "metadata": {},
   "outputs": [],
   "source": [
    "blocks_uni = blocks_size_5['UNIUSDT']\n",
    "analyser = RandomnessAnalysis(blocks_df=blocks_uni, s=s)\n",
    "frequencies_df = analyser.compute_blocks_frequencies()\n",
    "plot_block_frequencies(frequencies_df)"
   ]
  },
  {
   "cell_type": "markdown",
   "id": "5022db7e",
   "metadata": {},
   "source": [
    "#### Overlapping"
   ]
  },
  {
   "cell_type": "code",
   "execution_count": null,
   "id": "9aa5fd05",
   "metadata": {},
   "outputs": [],
   "source": [
    "blocks_size_2 = data_manager.block_constructor(block_size=2, overlapping=True)\n",
    "blocks_size_3 = data_manager.block_constructor(block_size=3, overlapping=True)\n",
    "blocks_size_5 = data_manager.block_constructor(block_size=5, overlapping=True)"
   ]
  },
  {
   "cell_type": "markdown",
   "id": "d4e07cec",
   "metadata": {},
   "source": [
    "##### Block size 2"
   ]
  },
  {
   "cell_type": "code",
   "execution_count": null,
   "id": "366d6bd5",
   "metadata": {},
   "outputs": [],
   "source": [
    "blocks_btc = blocks_size_2['BTCUSDT']\n",
    "analyser = RandomnessAnalysis(blocks_df=blocks_btc, s=s)\n",
    "frequencies_df = analyser.compute_blocks_frequencies()\n",
    "plot_block_frequencies(frequencies_df)"
   ]
  },
  {
   "cell_type": "code",
   "execution_count": null,
   "id": "099d8034",
   "metadata": {},
   "outputs": [],
   "source": [
    "test_divergence = analyser.KL_divergence_test()\n",
    "test_divergence"
   ]
  },
  {
   "cell_type": "code",
   "execution_count": null,
   "id": "0a598f46",
   "metadata": {},
   "outputs": [],
   "source": [
    "blocks_eth = blocks_size_2['ETHUSDT']\n",
    "analyser = RandomnessAnalysis(blocks_df=blocks_eth, s=s)\n",
    "frequencies_df = analyser.compute_blocks_frequencies()\n",
    "plot_block_frequencies(frequencies_df)"
   ]
  },
  {
   "cell_type": "code",
   "execution_count": null,
   "id": "87ce7cc5",
   "metadata": {},
   "outputs": [],
   "source": [
    "test_divergence = analyser.KL_divergence_test()\n",
    "test_divergence"
   ]
  },
  {
   "cell_type": "code",
   "execution_count": null,
   "id": "dac8f261",
   "metadata": {},
   "outputs": [],
   "source": [
    "blocks_uni = blocks_size_2['UNIUSDT']\n",
    "analyser = RandomnessAnalysis(blocks_df=blocks_uni, s=s)\n",
    "frequencies_df = analyser.compute_blocks_frequencies()\n",
    "plot_block_frequencies(frequencies_df)"
   ]
  },
  {
   "cell_type": "code",
   "execution_count": null,
   "id": "6b2e65db",
   "metadata": {},
   "outputs": [],
   "source": [
    "test_divergence = analyser.KL_divergence_test()\n",
    "test_divergence"
   ]
  },
  {
   "cell_type": "markdown",
   "id": "7052fbe8",
   "metadata": {},
   "source": [
    "##### Block size 3"
   ]
  },
  {
   "cell_type": "code",
   "execution_count": null,
   "id": "d71f8740",
   "metadata": {},
   "outputs": [],
   "source": [
    "blocks_btc = blocks_size_3['BTCUSDT']\n",
    "analyser = RandomnessAnalysis(blocks_df=blocks_btc, s=s)\n",
    "frequencies_df = analyser.compute_blocks_frequencies()\n",
    "plot_block_frequencies(frequencies_df)"
   ]
  },
  {
   "cell_type": "code",
   "execution_count": null,
   "id": "c1d17a11",
   "metadata": {},
   "outputs": [],
   "source": [
    "blocks_eth = blocks_size_3['ETHUSDT']\n",
    "analyser = RandomnessAnalysis(blocks_df=blocks_eth, s=s)\n",
    "frequencies_df = analyser.compute_blocks_frequencies()\n",
    "plot_block_frequencies(frequencies_df)"
   ]
  },
  {
   "cell_type": "code",
   "execution_count": null,
   "id": "d28391b4",
   "metadata": {},
   "outputs": [],
   "source": [
    "blocks_uni = blocks_size_3['UNIUSDT']\n",
    "analyser = RandomnessAnalysis(blocks_df=blocks_uni, s=s)\n",
    "frequencies_df = analyser.compute_blocks_frequencies()\n",
    "plot_block_frequencies(frequencies_df)"
   ]
  },
  {
   "cell_type": "markdown",
   "id": "763342d5",
   "metadata": {},
   "source": [
    "##### Block size 5"
   ]
  },
  {
   "cell_type": "code",
   "execution_count": null,
   "id": "bd43dd8a",
   "metadata": {},
   "outputs": [],
   "source": [
    "blocks_btc = blocks_size_5['BTCUSDT']\n",
    "analyser = RandomnessAnalysis(blocks_df=blocks_btc, s=s)\n",
    "frequencies_df = analyser.compute_blocks_frequencies()\n",
    "plot_block_frequencies(frequencies_df)"
   ]
  },
  {
   "cell_type": "code",
   "execution_count": null,
   "id": "5a67d065",
   "metadata": {},
   "outputs": [],
   "source": [
    "blocks_eth = blocks_size_5['ETHUSDT']\n",
    "analyser = RandomnessAnalysis(blocks_df=blocks_eth, s=s)\n",
    "frequencies_df = analyser.compute_blocks_frequencies()\n",
    "plot_block_frequencies(frequencies_df)"
   ]
  },
  {
   "cell_type": "code",
   "execution_count": null,
   "id": "6f26d4fe",
   "metadata": {},
   "outputs": [],
   "source": [
    "blocks_uni = blocks_size_5['UNIUSDT']\n",
    "analyser = RandomnessAnalysis(blocks_df=blocks_uni, s=s)\n",
    "frequencies_df = analyser.compute_blocks_frequencies()\n",
    "plot_block_frequencies(frequencies_df)"
   ]
  },
  {
   "cell_type": "markdown",
   "id": "b9fae856",
   "metadata": {},
   "source": [
    "### Aggregation level 50"
   ]
  },
  {
   "cell_type": "code",
   "execution_count": null,
   "id": "37307101",
   "metadata": {},
   "outputs": [],
   "source": [
    "data_manager = DataManager(asset_pairs, symbols, year=year, month=month, aggregation_level=50)"
   ]
  },
  {
   "cell_type": "markdown",
   "id": "74a14f05",
   "metadata": {},
   "source": [
    "#### Non overlapping"
   ]
  },
  {
   "cell_type": "code",
   "execution_count": null,
   "id": "efe3e3a4",
   "metadata": {},
   "outputs": [],
   "source": [
    "blocks_size_2 = data_manager.block_constructor(block_size=2, overlapping=False)\n",
    "blocks_size_3 = data_manager.block_constructor(block_size=3, overlapping=False)\n",
    "blocks_size_5 = data_manager.block_constructor(block_size=5, overlapping=False)"
   ]
  },
  {
   "cell_type": "markdown",
   "id": "b008c7a5",
   "metadata": {},
   "source": [
    "##### Block size 2"
   ]
  },
  {
   "cell_type": "code",
   "execution_count": null,
   "id": "8ed05c82",
   "metadata": {},
   "outputs": [],
   "source": [
    "blocks_btc = blocks_size_2['BTCUSDT']\n",
    "analyser = RandomnessAnalysis(blocks_df=blocks_btc, s=s)\n",
    "frequencies_df = analyser.compute_blocks_frequencies()\n",
    "plot_block_frequencies(frequencies_df)"
   ]
  },
  {
   "cell_type": "code",
   "execution_count": null,
   "id": "9e40d132",
   "metadata": {},
   "outputs": [],
   "source": [
    "test_entropy = analyser.entropy_bias_test()\n",
    "test_entropy"
   ]
  },
  {
   "cell_type": "code",
   "execution_count": null,
   "id": "b690c5d6",
   "metadata": {},
   "outputs": [],
   "source": [
    "blocks_eth = blocks_size_2['ETHUSDT']\n",
    "analyser = RandomnessAnalysis(blocks_df=blocks_eth, s=s)\n",
    "frequencies_df = analyser.compute_blocks_frequencies()\n",
    "plot_block_frequencies(frequencies_df)"
   ]
  },
  {
   "cell_type": "code",
   "execution_count": null,
   "id": "618a82cd",
   "metadata": {},
   "outputs": [],
   "source": [
    "test_entropy = analyser.entropy_bias_test()\n",
    "test_entropy"
   ]
  },
  {
   "cell_type": "code",
   "execution_count": null,
   "id": "59ae48d7",
   "metadata": {},
   "outputs": [],
   "source": [
    "blocks_uni = blocks_size_2['UNIUSDT']\n",
    "analyser = RandomnessAnalysis(blocks_df=blocks_uni, s=s)\n",
    "frequencies_df = analyser.compute_blocks_frequencies()\n",
    "plot_block_frequencies(frequencies_df)"
   ]
  },
  {
   "cell_type": "code",
   "execution_count": null,
   "id": "4dac1897",
   "metadata": {},
   "outputs": [],
   "source": [
    "test_entropy = analyser.entropy_bias_test()\n",
    "test_entropy"
   ]
  },
  {
   "cell_type": "markdown",
   "id": "0eb3b3ff",
   "metadata": {},
   "source": [
    "##### Block size 3"
   ]
  },
  {
   "cell_type": "code",
   "execution_count": null,
   "id": "6119f1b4",
   "metadata": {},
   "outputs": [],
   "source": [
    "blocks_btc = blocks_size_3['BTCUSDT']\n",
    "analyser = RandomnessAnalysis(blocks_df=blocks_btc, s=s)\n",
    "frequencies_df = analyser.compute_blocks_frequencies()\n",
    "plot_block_frequencies(frequencies_df)"
   ]
  },
  {
   "cell_type": "code",
   "execution_count": null,
   "id": "0d8bcf81",
   "metadata": {},
   "outputs": [],
   "source": [
    "blocks_eth = blocks_size_3['ETHUSDT']\n",
    "analyser = RandomnessAnalysis(blocks_df=blocks_eth, s=s)\n",
    "frequencies_df = analyser.compute_blocks_frequencies()\n",
    "plot_block_frequencies(frequencies_df)"
   ]
  },
  {
   "cell_type": "code",
   "execution_count": null,
   "id": "4b3e5ba4",
   "metadata": {},
   "outputs": [],
   "source": [
    "blocks_uni = blocks_size_3['UNIUSDT']\n",
    "analyser = RandomnessAnalysis(blocks_df=blocks_uni, s=s)\n",
    "frequencies_df = analyser.compute_blocks_frequencies()\n",
    "plot_block_frequencies(frequencies_df)"
   ]
  },
  {
   "cell_type": "markdown",
   "id": "ef1d992a",
   "metadata": {},
   "source": [
    "##### Block size 5"
   ]
  },
  {
   "cell_type": "code",
   "execution_count": null,
   "id": "d7831f5b",
   "metadata": {},
   "outputs": [],
   "source": [
    "blocks_btc = blocks_size_5['BTCUSDT']\n",
    "analyser = RandomnessAnalysis(blocks_df=blocks_btc, s=s)\n",
    "frequencies_df = analyser.compute_blocks_frequencies()\n",
    "plot_block_frequencies(frequencies_df)"
   ]
  },
  {
   "cell_type": "code",
   "execution_count": null,
   "id": "68690d3d",
   "metadata": {},
   "outputs": [],
   "source": [
    "blocks_eth = blocks_size_5['ETHUSDT']\n",
    "analyser = RandomnessAnalysis(blocks_df=blocks_eth, s=s)\n",
    "frequencies_df = analyser.compute_blocks_frequencies()\n",
    "plot_block_frequencies(frequencies_df)"
   ]
  },
  {
   "cell_type": "code",
   "execution_count": null,
   "id": "cdd21e8a",
   "metadata": {},
   "outputs": [],
   "source": [
    "blocks_uni = blocks_size_5['UNIUSDT']\n",
    "analyser = RandomnessAnalysis(blocks_df=blocks_uni, s=s)\n",
    "frequencies_df = analyser.compute_blocks_frequencies()\n",
    "plot_block_frequencies(frequencies_df)"
   ]
  },
  {
   "cell_type": "markdown",
   "id": "03c493d6",
   "metadata": {},
   "source": [
    "#### Overlapping"
   ]
  },
  {
   "cell_type": "code",
   "execution_count": null,
   "id": "3e85a72f",
   "metadata": {},
   "outputs": [],
   "source": [
    "blocks_size_2 = data_manager.block_constructor(block_size=2, overlapping=False)\n",
    "blocks_size_3 = data_manager.block_constructor(block_size=3, overlapping=False)\n",
    "blocks_size_5 = data_manager.block_constructor(block_size=5, overlapping=False)"
   ]
  },
  {
   "cell_type": "markdown",
   "id": "82e47bd8",
   "metadata": {},
   "source": [
    "##### Block size 2"
   ]
  },
  {
   "cell_type": "code",
   "execution_count": null,
   "id": "a068d6bc",
   "metadata": {},
   "outputs": [],
   "source": [
    "blocks_btc = blocks_size_2['BTCUSDT']\n",
    "analyser = RandomnessAnalysis(blocks_df=blocks_btc, s=s)\n",
    "frequencies_df = analyser.compute_blocks_frequencies()\n",
    "plot_block_frequencies(frequencies_df)"
   ]
  },
  {
   "cell_type": "code",
   "execution_count": null,
   "id": "f6c5a156",
   "metadata": {},
   "outputs": [],
   "source": [
    "test_divergence = analyser.KL_divergence_test()\n",
    "test_divergence"
   ]
  },
  {
   "cell_type": "code",
   "execution_count": null,
   "id": "66555388",
   "metadata": {},
   "outputs": [],
   "source": [
    "blocks_eth = blocks_size_2['ETHUSDT']\n",
    "analyser = RandomnessAnalysis(blocks_df=blocks_eth, s=s)\n",
    "frequencies_df = analyser.compute_blocks_frequencies()\n",
    "plot_block_frequencies(frequencies_df)"
   ]
  },
  {
   "cell_type": "code",
   "execution_count": null,
   "id": "0c222310",
   "metadata": {},
   "outputs": [],
   "source": [
    "test_divergence = analyser.KL_divergence_test()\n",
    "test_divergence"
   ]
  },
  {
   "cell_type": "code",
   "execution_count": null,
   "id": "1783cb41",
   "metadata": {},
   "outputs": [],
   "source": [
    "blocks_uni = blocks_size_2['UNIUSDT']\n",
    "analyser = RandomnessAnalysis(blocks_df=blocks_uni, s=s)\n",
    "frequencies_df = analyser.compute_blocks_frequencies()\n",
    "plot_block_frequencies(frequencies_df)"
   ]
  },
  {
   "cell_type": "code",
   "execution_count": null,
   "id": "fbc18b16",
   "metadata": {},
   "outputs": [],
   "source": [
    "test_divergence = analyser.KL_divergence_test()\n",
    "test_divergence"
   ]
  },
  {
   "cell_type": "markdown",
   "id": "19dc70ae",
   "metadata": {},
   "source": [
    "##### Block size 3"
   ]
  },
  {
   "cell_type": "code",
   "execution_count": null,
   "id": "3e69a85a",
   "metadata": {},
   "outputs": [],
   "source": [
    "blocks_btc = blocks_size_3['BTCUSDT']\n",
    "analyser = RandomnessAnalysis(blocks_df=blocks_btc, s=s)\n",
    "frequencies_df = analyser.compute_blocks_frequencies()\n",
    "plot_block_frequencies(frequencies_df)"
   ]
  },
  {
   "cell_type": "code",
   "execution_count": null,
   "id": "3f7f9696",
   "metadata": {},
   "outputs": [],
   "source": [
    "blocks_eth = blocks_size_3['ETHUSDT']\n",
    "analyser = RandomnessAnalysis(blocks_df=blocks_eth, s=s)\n",
    "frequencies_df = analyser.compute_blocks_frequencies()\n",
    "plot_block_frequencies(frequencies_df)"
   ]
  },
  {
   "cell_type": "code",
   "execution_count": null,
   "id": "557d5d59",
   "metadata": {},
   "outputs": [],
   "source": [
    "blocks_uni = blocks_size_3['UNIUSDT']\n",
    "analyser = RandomnessAnalysis(blocks_df=blocks_uni, s=s)\n",
    "frequencies_df = analyser.compute_blocks_frequencies()\n",
    "plot_block_frequencies(frequencies_df)"
   ]
  },
  {
   "cell_type": "markdown",
   "id": "24201e89",
   "metadata": {},
   "source": [
    "##### Block size 5"
   ]
  },
  {
   "cell_type": "code",
   "execution_count": null,
   "id": "6e8259de",
   "metadata": {},
   "outputs": [],
   "source": [
    "blocks_btc = blocks_size_5['BTCUSDT']\n",
    "analyser = RandomnessAnalysis(blocks_df=blocks_btc, s=s)\n",
    "frequencies_df = analyser.compute_blocks_frequencies()\n",
    "plot_block_frequencies(frequencies_df)"
   ]
  },
  {
   "cell_type": "code",
   "execution_count": null,
   "id": "522a184b",
   "metadata": {},
   "outputs": [],
   "source": [
    "blocks_eth = blocks_size_5['ETHUSDT']\n",
    "analyser = RandomnessAnalysis(blocks_df=blocks_eth, s=s)\n",
    "frequencies_df = analyser.compute_blocks_frequencies()\n",
    "plot_block_frequencies(frequencies_df)"
   ]
  },
  {
   "cell_type": "code",
   "execution_count": null,
   "id": "20ba633e",
   "metadata": {},
   "outputs": [],
   "source": [
    "blocks_uni = blocks_size_5['UNIUSDT']\n",
    "analyser = RandomnessAnalysis(blocks_df=blocks_uni, s=s)\n",
    "frequencies_df = analyser.compute_blocks_frequencies()\n",
    "plot_block_frequencies(frequencies_df)"
   ]
  },
  {
   "cell_type": "markdown",
   "id": "f55c298f",
   "metadata": {},
   "source": [
    "### MultiTester BTC"
   ]
  },
  {
   "cell_type": "code",
   "execution_count": null,
   "id": "26ac4277",
   "metadata": {},
   "outputs": [],
   "source": [
    "multi_tester = MultiTester(asset='BTCUSDT',symbols=symbols,overlapping=False)\n",
    "df_test_block = multi_tester.test_by_block_size(test='Entropy Bias',\n",
    "                                    max_block_size=15,\n",
    "                                    year=year,\n",
    "                                    month=month,\n",
    "                                    aggregation_level=5)\n",
    "df_test_block"
   ]
  },
  {
   "cell_type": "code",
   "execution_count": null,
   "id": "255d8642",
   "metadata": {},
   "outputs": [],
   "source": [
    "plot_test(x_values=df_test_block.index, \n",
    "          y1_values=df_test_block['Test statistic'].values,\n",
    "          y2_values=df_test_block['Quantile 99'].values,\n",
    "          test='Entropy Bias',\n",
    "          x_label='Block size',\n",
    "          pair='BTCUSDT')"
   ]
  },
  {
   "cell_type": "code",
   "execution_count": null,
   "id": "b59d935e",
   "metadata": {},
   "outputs": [],
   "source": [
    "multi_tester = MultiTester(asset='BTCUSDT',symbols=symbols,overlapping=True)\n",
    "df_test_agg = multi_tester.test_by_aggregation_level(test='NP Statistic',\n",
    "                                           max_aggregation_level=50,\n",
    "                                           year=year,\n",
    "                                           month=month,\n",
    "                                           block_size=2)\n",
    "df_test_agg"
   ]
  },
  {
   "cell_type": "code",
   "execution_count": null,
   "id": "bef5c80f",
   "metadata": {},
   "outputs": [],
   "source": [
    "plot_test(x_values=df_test_agg.index, \n",
    "          y1_values=df_test_agg['Test statistic'].values,\n",
    "          y2_values=df_test_agg['Quantile 99'].values,\n",
    "          test='NP Statistic',\n",
    "          x_label='Aggregation level',\n",
    "          pair='BTCUSDT')"
   ]
  },
  {
   "cell_type": "code",
   "execution_count": null,
   "id": "6cb9e636",
   "metadata": {},
   "outputs": [],
   "source": [
    "btc_multi_tester = MultiTester(asset='BTCUSDT',symbols=symbols,overlapping=False)\n",
    "btc_multi_tester.plot_3D_test_result(asset='BTCUSDT',\n",
    "                                     test='Entropy Bias',\n",
    "                                     max_block_size=15,\n",
    "                                     year=year,month=month,\n",
    "                                     max_aggregation_level=50)"
   ]
  },
  {
   "cell_type": "markdown",
   "id": "a26c256d",
   "metadata": {},
   "source": [
    "### MultiTester ETH"
   ]
  },
  {
   "cell_type": "code",
   "execution_count": null,
   "id": "9d4f98b6",
   "metadata": {},
   "outputs": [],
   "source": [
    "multi_tester = MultiTester(asset='ETHUSDT',symbols=symbols,overlapping=False)\n",
    "df_test_block = multi_tester.test_by_block_size(test='Entropy Bias',\n",
    "                                    max_block_size=15,\n",
    "                                    year=year,\n",
    "                                    month=month,\n",
    "                                    aggregation_level=5)\n",
    "df_test_block"
   ]
  },
  {
   "cell_type": "code",
   "execution_count": null,
   "id": "9d374b53",
   "metadata": {},
   "outputs": [],
   "source": [
    "plot_test(x_values=df_test_block.index, \n",
    "          y1_values=df_test_block['Test statistic'].values,\n",
    "          y2_values=df_test_block['Quantile 99'].values,\n",
    "          test='Entropy Bias',\n",
    "          x_label='Block size',\n",
    "          pair='BTCUSDT')"
   ]
  },
  {
   "cell_type": "code",
   "execution_count": null,
   "id": "ae848062",
   "metadata": {},
   "outputs": [],
   "source": [
    "multi_tester = MultiTester(asset='BTCUSDT',symbols=symbols,overlapping=True)\n",
    "df_test_agg = multi_tester.test_by_aggregation_level(test='NP Statistic',\n",
    "                                           max_aggregation_level=50,\n",
    "                                           year=year,\n",
    "                                           month=month,\n",
    "                                           block_size=2)\n",
    "df_test_agg"
   ]
  },
  {
   "cell_type": "code",
   "execution_count": null,
   "id": "a490296c",
   "metadata": {},
   "outputs": [],
   "source": [
    "plot_test(x_values=df_test_agg.index, \n",
    "          y1_values=df_test_agg['Test statistic'].values,\n",
    "          y2_values=df_test_agg['Quantile 99'].values,\n",
    "          test='NP Statistic',\n",
    "          x_label='Aggregation level',\n",
    "          pair='BTCUSDT')"
   ]
  },
  {
   "cell_type": "markdown",
   "id": "d6c40282",
   "metadata": {},
   "source": [
    "### MultiTester UNI"
   ]
  },
  {
   "cell_type": "code",
   "execution_count": null,
   "id": "e47945ff",
   "metadata": {},
   "outputs": [],
   "source": [
    "multi_tester = MultiTester(asset='UNIUSDT',symbols=symbols,overlapping=False)\n",
    "df_test_block = multi_tester.test_by_block_size(test='Entropy Bias',\n",
    "                                    max_block_size=15,\n",
    "                                    year=year,\n",
    "                                    month=month,\n",
    "                                    aggregation_level=5)\n",
    "df_test_block"
   ]
  },
  {
   "cell_type": "code",
   "execution_count": null,
   "id": "5b6caaf0",
   "metadata": {},
   "outputs": [],
   "source": [
    "plot_test(x_values=df_test_block.index, \n",
    "          y1_values=df_test_block['Test statistic'].values,\n",
    "          y2_values=df_test_block['Quantile 99'].values,\n",
    "          test='Entropy Bias',\n",
    "          x_label='Block size',\n",
    "          pair='BTCUSDT')"
   ]
  },
  {
   "cell_type": "code",
   "execution_count": null,
   "id": "35c89f78",
   "metadata": {},
   "outputs": [],
   "source": [
    "multi_tester = MultiTester(asset='BTCUSDT',symbols=symbols,overlapping=True)\n",
    "df_test_agg = multi_tester.test_by_aggregation_level(test='NP Statistic',\n",
    "                                           max_aggregation_level=50,\n",
    "                                           year=year,\n",
    "                                           month=month,\n",
    "                                           block_size=2)\n",
    "df_test_agg"
   ]
  },
  {
   "cell_type": "code",
   "execution_count": null,
   "id": "d223b2b9",
   "metadata": {},
   "outputs": [],
   "source": [
    "plot_test(x_values=df_test_agg.index, \n",
    "          y1_values=df_test_agg['Test statistic'].values,\n",
    "          y2_values=df_test_agg['Quantile 99'].values,\n",
    "          test='NP Statistic',\n",
    "          x_label='Aggregation level',\n",
    "          pair='BTCUSDT')"
   ]
  },
  {
   "cell_type": "markdown",
   "id": "aa05e27f",
   "metadata": {},
   "source": [
    "### Fraction of predictable days"
   ]
  },
  {
   "cell_type": "code",
   "execution_count": null,
   "id": "6c13d2ff",
   "metadata": {},
   "outputs": [],
   "source": [
    "asset_pairs = ['BTCUSDT','ETHUSDT','SOLUSDT',\n",
    "               'BNBUSDT', 'AVAXUSDT', 'UNIUSDT',\n",
    "               'LINKUSDT', 'AXSUSDT', 'RENDERUSDT']"
   ]
  },
  {
   "cell_type": "code",
   "execution_count": null,
   "id": "35a2d53b",
   "metadata": {},
   "outputs": [],
   "source": [
    "intervals_analysis(pairs=asset_pairs,\n",
    "                   symbols=symbols,\n",
    "                   max_aggregation_level=50,\n",
    "                   year=year,\n",
    "                   month=[month])"
   ]
  },
  {
   "cell_type": "code",
   "execution_count": null,
   "id": "ae38fe16",
   "metadata": {},
   "outputs": [],
   "source": [
    "intervals_analysis(pairs=asset_pairs,\n",
    "                   symbols=symbols,\n",
    "                   max_aggregation_level=50,\n",
    "                   year=year,\n",
    "                   month=[month],\n",
    "                   test = 'NP Statistic')"
   ]
  },
  {
   "cell_type": "code",
   "execution_count": null,
   "id": "ad6c5c10",
   "metadata": {},
   "outputs": [],
   "source": [
    "historical_collector = HistoricalDataCollector(pairs=asset_pairs, year=2025, month=2)\n",
    "historical_collector.collect()"
   ]
  },
  {
   "cell_type": "markdown",
   "id": "ee19d82c",
   "metadata": {},
   "source": [
    "### Assets properties"
   ]
  },
  {
   "cell_type": "code",
   "execution_count": null,
   "id": "bd73508a",
   "metadata": {},
   "outputs": [],
   "source": [
    "data_manager = DataManager(asset_pairs, symbols, year=year, month=month, aggregation_level=1)\n",
    "df_prop = get_assets_properties(asset_pairs, s=2, year=year, month=month)\n",
    "df_prop"
   ]
  }
 ],
 "metadata": {
  "language_info": {
   "name": "python"
  }
 },
 "nbformat": 4,
 "nbformat_minor": 5
}
