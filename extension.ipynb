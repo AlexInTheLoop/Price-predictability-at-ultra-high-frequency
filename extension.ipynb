{
 "cells": [
  {
   "cell_type": "markdown",
   "id": "1c79219c",
   "metadata": {},
   "source": [
    "# Préparation données & librairies"
   ]
  },
  {
   "cell_type": "code",
   "execution_count": 2,
   "id": "14982918",
   "metadata": {},
   "outputs": [],
   "source": [
    "import numpy as np\n",
    "import pandas as pd\n",
    "\n",
    "from data.DataManager import DataManager\n",
    "from main.CrossRandomnessAnalysis import CrossRandomnessAnalysis\n",
    "from data.DataCollectors import HistoricalDataCollectorParquet\n",
    "from main.RandomnessAnalysis import RandomnessAnalysis\n",
    "from main.PredictableDayAnalysis import PredictableDayAnalysis\n",
    "from utils.MultiTester import MultiTester\n",
    "from utils.VisualizationTools import plot_block_frequencies, plot_3D\n",
    "from utils.BlockConstructors import cross_overlapping_blocks, cross_non_overlapping_blocks \n",
    "from utils.MultiTester import CrossMultiTester\n"
   ]
  },
  {
   "cell_type": "code",
   "execution_count": 3,
   "id": "45591dd1",
   "metadata": {},
   "outputs": [],
   "source": [
    "'''\n",
    "asset_pairs = ['BTCUSDT','ETHUSDT','SOLUSDT',\n",
    "               'BNBUSDT', 'AVAXUSDT', 'UNIUSDT',\n",
    "               'LINKUSDT', 'AXSUSDT', 'RENDERUSDT']\n",
    "'''\n",
    "\n",
    "asset_pairs = [\"BTCUSDT\", \"ETHUSDT\"]\n",
    "\n",
    "symbols = {\n",
    "            0: [(-np.inf, 0)\n",
    "                , (False, False)],\n",
    "            1: [(0, np.inf), (False, False)]\n",
    "        }\n",
    "\n",
    "aggregation_levels = [1, 5, 10, 25, 50, 75, 100, 200, 500, 1000]\n",
    "year, month = 2025, 2"
   ]
  },
  {
   "cell_type": "code",
   "execution_count": 3,
   "id": "501c1328",
   "metadata": {},
   "outputs": [
    {
     "name": "stdout",
     "output_type": "stream",
     "text": [
      "[SYSTEM] Processing BTCUSDT...\n",
      "[SYSTEM] Downloading BTCUSDT-trades-2025-02.zip from https://data.binance.vision/data/spot/monthly/trades/BTCUSDT/BTCUSDT-trades-2025-02.zip ...\n",
      "[SYSTEM] File downloaded: BTCUSDT-trades-2025-02.zip\n",
      "[SYSTEM] Extracting data/raw_data\\BTCUSDT-trades-2025-02.zip ...\n",
      "[SYSTEM] Extraction finished.\n",
      "[SYSTEM] Converting BTCUSDT-trades-2025-02.csv → Parquet ...\n",
      "[SYSTEM] Saved parquet to: data/raw_data_parquet\\BTCUSDT-trades-2025-02.parquet\n",
      "[SYSTEM] Deleted temporary CSV file: data/raw_data\\BTCUSDT-trades-2025-02.csv\n",
      "[SYSTEM] Deleted ZIP: data/raw_data\\BTCUSDT-trades-2025-02.zip\n",
      "[SYSTEM] Processing ETHUSDT...\n",
      "[SYSTEM] Downloading ETHUSDT-trades-2025-02.zip from https://data.binance.vision/data/spot/monthly/trades/ETHUSDT/ETHUSDT-trades-2025-02.zip ...\n",
      "[SYSTEM] File downloaded: ETHUSDT-trades-2025-02.zip\n",
      "[SYSTEM] Extracting data/raw_data\\ETHUSDT-trades-2025-02.zip ...\n",
      "[SYSTEM] Extraction finished.\n",
      "[SYSTEM] Converting ETHUSDT-trades-2025-02.csv → Parquet ...\n",
      "[SYSTEM] Saved parquet to: data/raw_data_parquet\\ETHUSDT-trades-2025-02.parquet\n",
      "[SYSTEM] Deleted temporary CSV file: data/raw_data\\ETHUSDT-trades-2025-02.csv\n",
      "[SYSTEM] Deleted ZIP: data/raw_data\\ETHUSDT-trades-2025-02.zip\n"
     ]
    }
   ],
   "source": [
    "historical_collector = HistoricalDataCollectorParquet(pairs=asset_pairs, year=year, month=month)\n",
    "historical_collector.collect()"
   ]
  },
  {
   "cell_type": "markdown",
   "id": "3ddefc1b",
   "metadata": {},
   "source": [
    "# Analyse des transactions"
   ]
  },
  {
   "cell_type": "code",
   "execution_count": null,
   "id": "981ad8f7",
   "metadata": {},
   "outputs": [
    {
     "name": "stdout",
     "output_type": "stream",
     "text": [
      "[DataManager] Loading parquet file: data/raw_data_parquet\\BTCUSDT-trades-2025-02.parquet\n"
     ]
    },
    {
     "ename": "KeyboardInterrupt",
     "evalue": "",
     "output_type": "error",
     "traceback": [
      "\u001b[1;31m---------------------------------------------------------------------------\u001b[0m",
      "\u001b[1;31mKeyboardInterrupt\u001b[0m                         Traceback (most recent call last)",
      "Cell \u001b[1;32mIn[40], line 1\u001b[0m\n\u001b[1;32m----> 1\u001b[0m tx_df \u001b[38;5;241m=\u001b[39m \u001b[43mDataManager\u001b[49m\u001b[38;5;241;43m.\u001b[39;49m\u001b[43msummarize_transaction_characteristics\u001b[49m\u001b[43m(\u001b[49m\n\u001b[0;32m      2\u001b[0m \u001b[43m    \u001b[49m\u001b[43mpairs\u001b[49m\u001b[38;5;241;43m=\u001b[39;49m\u001b[43masset_pairs\u001b[49m\u001b[43m,\u001b[49m\n\u001b[0;32m      3\u001b[0m \u001b[43m    \u001b[49m\u001b[43msymbols\u001b[49m\u001b[38;5;241;43m=\u001b[39;49m\u001b[43msymbols\u001b[49m\u001b[43m,\u001b[49m\n\u001b[0;32m      4\u001b[0m \u001b[43m    \u001b[49m\u001b[43myear\u001b[49m\u001b[38;5;241;43m=\u001b[39;49m\u001b[43myear\u001b[49m\u001b[43m,\u001b[49m\n\u001b[0;32m      5\u001b[0m \u001b[43m    \u001b[49m\u001b[43mmonth\u001b[49m\u001b[38;5;241;43m=\u001b[39;49m\u001b[43mmonth\u001b[49m\u001b[43m,\u001b[49m\n\u001b[0;32m      6\u001b[0m \u001b[43m    \u001b[49m\u001b[43maggregation_levels\u001b[49m\u001b[38;5;241;43m=\u001b[39;49m\u001b[43maggregation_levels\u001b[49m\u001b[43m,\u001b[49m\n\u001b[0;32m      7\u001b[0m \u001b[43m    \u001b[49m\u001b[43mmax_interval_sec\u001b[49m\u001b[38;5;241;43m=\u001b[39;49m\u001b[38;5;241;43m1.0\u001b[39;49m\n\u001b[0;32m      8\u001b[0m \u001b[43m)\u001b[49m\n\u001b[0;32m     10\u001b[0m tx_df\n",
      "File \u001b[1;32mc:\\Users\\julie\\Documents\\Python\\Projets - Gestion Quant\\GQ2\\Price-predictability-at-ultra-high-frequency\\data\\DataManager.py:306\u001b[0m, in \u001b[0;36mDataManager.summarize_transaction_characteristics\u001b[1;34m(pairs, symbols, year, month, day, aggregation_levels, max_interval_sec)\u001b[0m\n\u001b[0;32m    304\u001b[0m \u001b[38;5;28;01mfor\u001b[39;00m pair \u001b[38;5;129;01min\u001b[39;00m pairs:\n\u001b[0;32m    305\u001b[0m     \u001b[38;5;28;01mfor\u001b[39;00m lvl \u001b[38;5;129;01min\u001b[39;00m aggregation_levels:\n\u001b[1;32m--> 306\u001b[0m         dm \u001b[38;5;241m=\u001b[39m \u001b[43mDataManager\u001b[49m\u001b[43m(\u001b[49m\n\u001b[0;32m    307\u001b[0m \u001b[43m            \u001b[49m\u001b[43masset_pairs\u001b[49m\u001b[38;5;241;43m=\u001b[39;49m\u001b[43m[\u001b[49m\u001b[43mpair\u001b[49m\u001b[43m]\u001b[49m\u001b[43m,\u001b[49m\n\u001b[0;32m    308\u001b[0m \u001b[43m            \u001b[49m\u001b[43msymbols\u001b[49m\u001b[38;5;241;43m=\u001b[39;49m\u001b[43msymbols\u001b[49m\u001b[43m,\u001b[49m\n\u001b[0;32m    309\u001b[0m \u001b[43m            \u001b[49m\u001b[43myear\u001b[49m\u001b[38;5;241;43m=\u001b[39;49m\u001b[43myear\u001b[49m\u001b[43m,\u001b[49m\u001b[43m \u001b[49m\u001b[43mmonth\u001b[49m\u001b[38;5;241;43m=\u001b[39;49m\u001b[43mmonth\u001b[49m\u001b[43m,\u001b[49m\u001b[43m \u001b[49m\u001b[43mday\u001b[49m\u001b[38;5;241;43m=\u001b[39;49m\u001b[43mday\u001b[49m\u001b[43m,\u001b[49m\n\u001b[0;32m    310\u001b[0m \u001b[43m            \u001b[49m\u001b[43maggregation_level\u001b[49m\u001b[38;5;241;43m=\u001b[39;49m\u001b[43mlvl\u001b[49m\n\u001b[0;32m    311\u001b[0m \u001b[43m        \u001b[49m\u001b[43m)\u001b[49m\n\u001b[0;32m    312\u001b[0m         dm\u001b[38;5;241m.\u001b[39mload_data()\n\u001b[0;32m    313\u001b[0m         dm\u001b[38;5;241m.\u001b[39mchecks \u001b[38;5;241m=\u001b[39m [\u001b[38;5;28;01mFalse\u001b[39;00m] \u001b[38;5;241m*\u001b[39m \u001b[38;5;28mlen\u001b[39m(dm\u001b[38;5;241m.\u001b[39mchecks)   \u001b[38;5;66;03m# force re-preprocess\u001b[39;00m\n",
      "File \u001b[1;32mc:\\Users\\julie\\Documents\\Python\\Projets - Gestion Quant\\GQ2\\Price-predictability-at-ultra-high-frequency\\data\\DataManager.py:51\u001b[0m, in \u001b[0;36mDataManager.__init__\u001b[1;34m(self, asset_pairs, symbols, year, month, day, aggregation_level, exclude_zero, aggregate_by_time)\u001b[0m\n\u001b[0;32m     49\u001b[0m \u001b[38;5;28mself\u001b[39m\u001b[38;5;241m.\u001b[39maggregate_by_time \u001b[38;5;241m=\u001b[39m aggregate_by_time\n\u001b[0;32m     50\u001b[0m \u001b[38;5;28mself\u001b[39m\u001b[38;5;241m.\u001b[39mdatasets \u001b[38;5;241m=\u001b[39m {}\n\u001b[1;32m---> 51\u001b[0m \u001b[38;5;28;43mself\u001b[39;49m\u001b[38;5;241;43m.\u001b[39;49m\u001b[43m__post_init__\u001b[49m\u001b[43m(\u001b[49m\u001b[43m)\u001b[49m\n",
      "File \u001b[1;32mc:\\Users\\julie\\Documents\\Python\\Projets - Gestion Quant\\GQ2\\Price-predictability-at-ultra-high-frequency\\data\\DataManager.py:54\u001b[0m, in \u001b[0;36mDataManager.__post_init__\u001b[1;34m(self)\u001b[0m\n\u001b[0;32m     53\u001b[0m \u001b[38;5;28;01mdef\u001b[39;00m\u001b[38;5;250m \u001b[39m\u001b[38;5;21m__post_init__\u001b[39m(\u001b[38;5;28mself\u001b[39m):\n\u001b[1;32m---> 54\u001b[0m     \u001b[38;5;28;43mself\u001b[39;49m\u001b[38;5;241;43m.\u001b[39;49m\u001b[43mload_data\u001b[49m\u001b[43m(\u001b[49m\u001b[43m)\u001b[49m\n\u001b[0;32m     55\u001b[0m     \u001b[38;5;28mself\u001b[39m\u001b[38;5;241m.\u001b[39mchecks \u001b[38;5;241m=\u001b[39m []\n\u001b[0;32m     56\u001b[0m     \u001b[38;5;28;01mfor\u001b[39;00m pair \u001b[38;5;129;01min\u001b[39;00m \u001b[38;5;28mself\u001b[39m\u001b[38;5;241m.\u001b[39massets_pairs:\n",
      "File \u001b[1;32mc:\\Users\\julie\\Documents\\Python\\Projets - Gestion Quant\\GQ2\\Price-predictability-at-ultra-high-frequency\\data\\DataManager.py:69\u001b[0m, in \u001b[0;36mDataManager.load_data\u001b[1;34m(self)\u001b[0m\n\u001b[0;32m     67\u001b[0m \u001b[38;5;28;01mif\u001b[39;00m os\u001b[38;5;241m.\u001b[39mpath\u001b[38;5;241m.\u001b[39mexists(parquet_file):\n\u001b[0;32m     68\u001b[0m     \u001b[38;5;28mprint\u001b[39m(\u001b[38;5;124mf\u001b[39m\u001b[38;5;124m\"\u001b[39m\u001b[38;5;124m[DataManager] Loading parquet file: \u001b[39m\u001b[38;5;132;01m{\u001b[39;00mparquet_file\u001b[38;5;132;01m}\u001b[39;00m\u001b[38;5;124m\"\u001b[39m)\n\u001b[1;32m---> 69\u001b[0m     df \u001b[38;5;241m=\u001b[39m \u001b[43mpd\u001b[49m\u001b[38;5;241;43m.\u001b[39;49m\u001b[43mread_parquet\u001b[49m\u001b[43m(\u001b[49m\u001b[43mparquet_file\u001b[49m\u001b[43m)\u001b[49m\n\u001b[0;32m     70\u001b[0m         \u001b[38;5;66;03m# Si colonnes sont anonymes (cas rare), appliquer fix\u001b[39;00m\n\u001b[0;32m     71\u001b[0m     \u001b[38;5;28;01mif\u001b[39;00m \u001b[38;5;28mset\u001b[39m(df\u001b[38;5;241m.\u001b[39mcolumns) \u001b[38;5;241m==\u001b[39m \u001b[38;5;28mset\u001b[39m(\u001b[38;5;28mrange\u001b[39m(df\u001b[38;5;241m.\u001b[39mshape[\u001b[38;5;241m1\u001b[39m])):\n",
      "File \u001b[1;32mc:\\Users\\julie\\AppData\\Local\\Programs\\Python\\Python312\\Lib\\site-packages\\pandas\\io\\parquet.py:667\u001b[0m, in \u001b[0;36mread_parquet\u001b[1;34m(path, engine, columns, storage_options, use_nullable_dtypes, dtype_backend, filesystem, filters, **kwargs)\u001b[0m\n\u001b[0;32m    664\u001b[0m     use_nullable_dtypes \u001b[38;5;241m=\u001b[39m \u001b[38;5;28;01mFalse\u001b[39;00m\n\u001b[0;32m    665\u001b[0m check_dtype_backend(dtype_backend)\n\u001b[1;32m--> 667\u001b[0m \u001b[38;5;28;01mreturn\u001b[39;00m \u001b[43mimpl\u001b[49m\u001b[38;5;241;43m.\u001b[39;49m\u001b[43mread\u001b[49m\u001b[43m(\u001b[49m\n\u001b[0;32m    668\u001b[0m \u001b[43m    \u001b[49m\u001b[43mpath\u001b[49m\u001b[43m,\u001b[49m\n\u001b[0;32m    669\u001b[0m \u001b[43m    \u001b[49m\u001b[43mcolumns\u001b[49m\u001b[38;5;241;43m=\u001b[39;49m\u001b[43mcolumns\u001b[49m\u001b[43m,\u001b[49m\n\u001b[0;32m    670\u001b[0m \u001b[43m    \u001b[49m\u001b[43mfilters\u001b[49m\u001b[38;5;241;43m=\u001b[39;49m\u001b[43mfilters\u001b[49m\u001b[43m,\u001b[49m\n\u001b[0;32m    671\u001b[0m \u001b[43m    \u001b[49m\u001b[43mstorage_options\u001b[49m\u001b[38;5;241;43m=\u001b[39;49m\u001b[43mstorage_options\u001b[49m\u001b[43m,\u001b[49m\n\u001b[0;32m    672\u001b[0m \u001b[43m    \u001b[49m\u001b[43muse_nullable_dtypes\u001b[49m\u001b[38;5;241;43m=\u001b[39;49m\u001b[43muse_nullable_dtypes\u001b[49m\u001b[43m,\u001b[49m\n\u001b[0;32m    673\u001b[0m \u001b[43m    \u001b[49m\u001b[43mdtype_backend\u001b[49m\u001b[38;5;241;43m=\u001b[39;49m\u001b[43mdtype_backend\u001b[49m\u001b[43m,\u001b[49m\n\u001b[0;32m    674\u001b[0m \u001b[43m    \u001b[49m\u001b[43mfilesystem\u001b[49m\u001b[38;5;241;43m=\u001b[39;49m\u001b[43mfilesystem\u001b[49m\u001b[43m,\u001b[49m\n\u001b[0;32m    675\u001b[0m \u001b[43m    \u001b[49m\u001b[38;5;241;43m*\u001b[39;49m\u001b[38;5;241;43m*\u001b[39;49m\u001b[43mkwargs\u001b[49m\u001b[43m,\u001b[49m\n\u001b[0;32m    676\u001b[0m \u001b[43m\u001b[49m\u001b[43m)\u001b[49m\n",
      "File \u001b[1;32mc:\\Users\\julie\\AppData\\Local\\Programs\\Python\\Python312\\Lib\\site-packages\\pandas\\io\\parquet.py:274\u001b[0m, in \u001b[0;36mPyArrowImpl.read\u001b[1;34m(self, path, columns, filters, use_nullable_dtypes, dtype_backend, storage_options, filesystem, **kwargs)\u001b[0m\n\u001b[0;32m    267\u001b[0m path_or_handle, handles, filesystem \u001b[38;5;241m=\u001b[39m _get_path_or_handle(\n\u001b[0;32m    268\u001b[0m     path,\n\u001b[0;32m    269\u001b[0m     filesystem,\n\u001b[0;32m    270\u001b[0m     storage_options\u001b[38;5;241m=\u001b[39mstorage_options,\n\u001b[0;32m    271\u001b[0m     mode\u001b[38;5;241m=\u001b[39m\u001b[38;5;124m\"\u001b[39m\u001b[38;5;124mrb\u001b[39m\u001b[38;5;124m\"\u001b[39m,\n\u001b[0;32m    272\u001b[0m )\n\u001b[0;32m    273\u001b[0m \u001b[38;5;28;01mtry\u001b[39;00m:\n\u001b[1;32m--> 274\u001b[0m     pa_table \u001b[38;5;241m=\u001b[39m \u001b[38;5;28;43mself\u001b[39;49m\u001b[38;5;241;43m.\u001b[39;49m\u001b[43mapi\u001b[49m\u001b[38;5;241;43m.\u001b[39;49m\u001b[43mparquet\u001b[49m\u001b[38;5;241;43m.\u001b[39;49m\u001b[43mread_table\u001b[49m\u001b[43m(\u001b[49m\n\u001b[0;32m    275\u001b[0m \u001b[43m        \u001b[49m\u001b[43mpath_or_handle\u001b[49m\u001b[43m,\u001b[49m\n\u001b[0;32m    276\u001b[0m \u001b[43m        \u001b[49m\u001b[43mcolumns\u001b[49m\u001b[38;5;241;43m=\u001b[39;49m\u001b[43mcolumns\u001b[49m\u001b[43m,\u001b[49m\n\u001b[0;32m    277\u001b[0m \u001b[43m        \u001b[49m\u001b[43mfilesystem\u001b[49m\u001b[38;5;241;43m=\u001b[39;49m\u001b[43mfilesystem\u001b[49m\u001b[43m,\u001b[49m\n\u001b[0;32m    278\u001b[0m \u001b[43m        \u001b[49m\u001b[43mfilters\u001b[49m\u001b[38;5;241;43m=\u001b[39;49m\u001b[43mfilters\u001b[49m\u001b[43m,\u001b[49m\n\u001b[0;32m    279\u001b[0m \u001b[43m        \u001b[49m\u001b[38;5;241;43m*\u001b[39;49m\u001b[38;5;241;43m*\u001b[39;49m\u001b[43mkwargs\u001b[49m\u001b[43m,\u001b[49m\n\u001b[0;32m    280\u001b[0m \u001b[43m    \u001b[49m\u001b[43m)\u001b[49m\n\u001b[0;32m    281\u001b[0m     result \u001b[38;5;241m=\u001b[39m pa_table\u001b[38;5;241m.\u001b[39mto_pandas(\u001b[38;5;241m*\u001b[39m\u001b[38;5;241m*\u001b[39mto_pandas_kwargs)\n\u001b[0;32m    283\u001b[0m     \u001b[38;5;28;01mif\u001b[39;00m manager \u001b[38;5;241m==\u001b[39m \u001b[38;5;124m\"\u001b[39m\u001b[38;5;124marray\u001b[39m\u001b[38;5;124m\"\u001b[39m:\n",
      "File \u001b[1;32mc:\\Users\\julie\\AppData\\Local\\Programs\\Python\\Python312\\Lib\\site-packages\\pyarrow\\parquet\\core.py:1843\u001b[0m, in \u001b[0;36mread_table\u001b[1;34m(source, columns, use_threads, schema, use_pandas_metadata, read_dictionary, memory_map, buffer_size, partitioning, filesystem, filters, use_legacy_dataset, ignore_prefixes, pre_buffer, coerce_int96_timestamp_unit, decryption_properties, thrift_string_size_limit, thrift_container_size_limit, page_checksum_verification)\u001b[0m\n\u001b[0;32m   1831\u001b[0m     \u001b[38;5;66;03m# TODO test that source is not a directory or a list\u001b[39;00m\n\u001b[0;32m   1832\u001b[0m     dataset \u001b[38;5;241m=\u001b[39m ParquetFile(\n\u001b[0;32m   1833\u001b[0m         source, read_dictionary\u001b[38;5;241m=\u001b[39mread_dictionary,\n\u001b[0;32m   1834\u001b[0m         memory_map\u001b[38;5;241m=\u001b[39mmemory_map, buffer_size\u001b[38;5;241m=\u001b[39mbuffer_size,\n\u001b[1;32m   (...)\u001b[0m\n\u001b[0;32m   1840\u001b[0m         page_checksum_verification\u001b[38;5;241m=\u001b[39mpage_checksum_verification,\n\u001b[0;32m   1841\u001b[0m     )\n\u001b[1;32m-> 1843\u001b[0m \u001b[38;5;28;01mreturn\u001b[39;00m \u001b[43mdataset\u001b[49m\u001b[38;5;241;43m.\u001b[39;49m\u001b[43mread\u001b[49m\u001b[43m(\u001b[49m\u001b[43mcolumns\u001b[49m\u001b[38;5;241;43m=\u001b[39;49m\u001b[43mcolumns\u001b[49m\u001b[43m,\u001b[49m\u001b[43m \u001b[49m\u001b[43muse_threads\u001b[49m\u001b[38;5;241;43m=\u001b[39;49m\u001b[43muse_threads\u001b[49m\u001b[43m,\u001b[49m\n\u001b[0;32m   1844\u001b[0m \u001b[43m                    \u001b[49m\u001b[43muse_pandas_metadata\u001b[49m\u001b[38;5;241;43m=\u001b[39;49m\u001b[43muse_pandas_metadata\u001b[49m\u001b[43m)\u001b[49m\n",
      "File \u001b[1;32mc:\\Users\\julie\\AppData\\Local\\Programs\\Python\\Python312\\Lib\\site-packages\\pyarrow\\parquet\\core.py:1485\u001b[0m, in \u001b[0;36mParquetDataset.read\u001b[1;34m(self, columns, use_threads, use_pandas_metadata)\u001b[0m\n\u001b[0;32m   1477\u001b[0m         index_columns \u001b[38;5;241m=\u001b[39m [\n\u001b[0;32m   1478\u001b[0m             col \u001b[38;5;28;01mfor\u001b[39;00m col \u001b[38;5;129;01min\u001b[39;00m _get_pandas_index_columns(metadata)\n\u001b[0;32m   1479\u001b[0m             \u001b[38;5;28;01mif\u001b[39;00m \u001b[38;5;129;01mnot\u001b[39;00m \u001b[38;5;28misinstance\u001b[39m(col, \u001b[38;5;28mdict\u001b[39m)\n\u001b[0;32m   1480\u001b[0m         ]\n\u001b[0;32m   1481\u001b[0m         columns \u001b[38;5;241m=\u001b[39m (\n\u001b[0;32m   1482\u001b[0m             \u001b[38;5;28mlist\u001b[39m(columns) \u001b[38;5;241m+\u001b[39m \u001b[38;5;28mlist\u001b[39m(\u001b[38;5;28mset\u001b[39m(index_columns) \u001b[38;5;241m-\u001b[39m \u001b[38;5;28mset\u001b[39m(columns))\n\u001b[0;32m   1483\u001b[0m         )\n\u001b[1;32m-> 1485\u001b[0m table \u001b[38;5;241m=\u001b[39m \u001b[38;5;28;43mself\u001b[39;49m\u001b[38;5;241;43m.\u001b[39;49m\u001b[43m_dataset\u001b[49m\u001b[38;5;241;43m.\u001b[39;49m\u001b[43mto_table\u001b[49m\u001b[43m(\u001b[49m\n\u001b[0;32m   1486\u001b[0m \u001b[43m    \u001b[49m\u001b[43mcolumns\u001b[49m\u001b[38;5;241;43m=\u001b[39;49m\u001b[43mcolumns\u001b[49m\u001b[43m,\u001b[49m\u001b[43m \u001b[49m\u001b[38;5;28;43mfilter\u001b[39;49m\u001b[38;5;241;43m=\u001b[39;49m\u001b[38;5;28;43mself\u001b[39;49m\u001b[38;5;241;43m.\u001b[39;49m\u001b[43m_filter_expression\u001b[49m\u001b[43m,\u001b[49m\n\u001b[0;32m   1487\u001b[0m \u001b[43m    \u001b[49m\u001b[43muse_threads\u001b[49m\u001b[38;5;241;43m=\u001b[39;49m\u001b[43muse_threads\u001b[49m\n\u001b[0;32m   1488\u001b[0m \u001b[43m\u001b[49m\u001b[43m)\u001b[49m\n\u001b[0;32m   1490\u001b[0m \u001b[38;5;66;03m# if use_pandas_metadata, restore the pandas metadata (which gets\u001b[39;00m\n\u001b[0;32m   1491\u001b[0m \u001b[38;5;66;03m# lost if doing a specific `columns` selection in to_table)\u001b[39;00m\n\u001b[0;32m   1492\u001b[0m \u001b[38;5;28;01mif\u001b[39;00m use_pandas_metadata:\n",
      "\u001b[1;31mKeyboardInterrupt\u001b[0m: "
     ]
    }
   ],
   "source": [
    "tx_df = DataManager.summarize_transaction_characteristics(\n",
    "    pairs=asset_pairs,\n",
    "    symbols=symbols,\n",
    "    year=year,\n",
    "    month=month,\n",
    "    aggregation_levels=aggregation_levels,\n",
    "    max_interval_sec=1.0\n",
    ")\n",
    "\n",
    "tx_df"
   ]
  },
  {
   "cell_type": "code",
   "execution_count": 3,
   "id": "56908ad1",
   "metadata": {},
   "outputs": [
    {
     "name": "stdout",
     "output_type": "stream",
     "text": [
      "[DataManager] Loading parquet file: data/raw_data_parquet\\BTCUSDT-trades-2025-02.parquet\n",
      "[DataManager] Loading parquet file: data/raw_data_parquet\\BTCUSDT-trades-2025-02.parquet\n",
      "[DataManager] Loading parquet file: data/raw_data_parquet\\BTCUSDT-trades-2025-02.parquet\n",
      "[DataManager] Loading parquet file: data/raw_data_parquet\\BTCUSDT-trades-2025-02.parquet\n",
      "[DataManager] Loading parquet file: data/raw_data_parquet\\BTCUSDT-trades-2025-02.parquet\n",
      "[DataManager] Loading parquet file: data/raw_data_parquet\\BTCUSDT-trades-2025-02.parquet\n"
     ]
    },
    {
     "ename": "MemoryError",
     "evalue": "Unable to allocate 3.84 GiB for an array with shape (4, 128881324) and data type float64",
     "output_type": "error",
     "traceback": [
      "\u001b[1;31m---------------------------------------------------------------------------\u001b[0m",
      "\u001b[1;31mMemoryError\u001b[0m                               Traceback (most recent call last)",
      "Cell \u001b[1;32mIn[3], line 1\u001b[0m\n\u001b[1;32m----> 1\u001b[0m fig \u001b[38;5;241m=\u001b[39m \u001b[43mDataManager\u001b[49m\u001b[38;5;241;43m.\u001b[39;49m\u001b[43mplot_transaction_counts_express\u001b[49m\u001b[43m(\u001b[49m\n\u001b[0;32m      2\u001b[0m \u001b[43m    \u001b[49m\u001b[43mpairs\u001b[49m\u001b[38;5;241;43m=\u001b[39;49m\u001b[43masset_pairs\u001b[49m\u001b[43m,\u001b[49m\n\u001b[0;32m      3\u001b[0m \u001b[43m    \u001b[49m\u001b[43msymbols\u001b[49m\u001b[38;5;241;43m=\u001b[39;49m\u001b[43msymbols\u001b[49m\u001b[43m,\u001b[49m\n\u001b[0;32m      4\u001b[0m \u001b[43m    \u001b[49m\u001b[43myear\u001b[49m\u001b[38;5;241;43m=\u001b[39;49m\u001b[43myear\u001b[49m\u001b[43m,\u001b[49m\u001b[43m \u001b[49m\u001b[43mmonth\u001b[49m\u001b[38;5;241;43m=\u001b[39;49m\u001b[43mmonth\u001b[49m\u001b[43m,\u001b[49m\u001b[43m \u001b[49m\u001b[43mday\u001b[49m\u001b[38;5;241;43m=\u001b[39;49m\u001b[38;5;28;43;01mNone\u001b[39;49;00m\u001b[43m,\u001b[49m\n\u001b[0;32m      5\u001b[0m \u001b[43m    \u001b[49m\u001b[43maggregation_levels\u001b[49m\u001b[38;5;241;43m=\u001b[39;49m\u001b[43maggregation_levels\u001b[49m\n\u001b[0;32m      6\u001b[0m \u001b[43m)\u001b[49m\n\u001b[0;32m      7\u001b[0m fig\u001b[38;5;241m.\u001b[39mshow()\n",
      "File \u001b[1;32mc:\\Users\\julie\\Documents\\Python\\Projets - Gestion Quant\\GQ2\\Price-predictability-at-ultra-high-frequency\\data\\DataManager.py:375\u001b[0m, in \u001b[0;36mDataManager.plot_transaction_counts_express\u001b[1;34m(pairs, symbols, year, month, day, aggregation_levels)\u001b[0m\n\u001b[0;32m    373\u001b[0m \u001b[38;5;28;01mfor\u001b[39;00m pair \u001b[38;5;129;01min\u001b[39;00m pairs:\n\u001b[0;32m    374\u001b[0m     \u001b[38;5;28;01mfor\u001b[39;00m lvl \u001b[38;5;129;01min\u001b[39;00m aggregation_levels:\n\u001b[1;32m--> 375\u001b[0m         dm \u001b[38;5;241m=\u001b[39m \u001b[43mDataManager\u001b[49m\u001b[43m(\u001b[49m\n\u001b[0;32m    376\u001b[0m \u001b[43m            \u001b[49m\u001b[43masset_pairs\u001b[49m\u001b[38;5;241;43m=\u001b[39;49m\u001b[43m[\u001b[49m\u001b[43mpair\u001b[49m\u001b[43m]\u001b[49m\u001b[43m,\u001b[49m\n\u001b[0;32m    377\u001b[0m \u001b[43m            \u001b[49m\u001b[43msymbols\u001b[49m\u001b[38;5;241;43m=\u001b[39;49m\u001b[43msymbols\u001b[49m\u001b[43m,\u001b[49m\n\u001b[0;32m    378\u001b[0m \u001b[43m            \u001b[49m\u001b[43myear\u001b[49m\u001b[38;5;241;43m=\u001b[39;49m\u001b[43myear\u001b[49m\u001b[43m,\u001b[49m\u001b[43m \u001b[49m\u001b[43mmonth\u001b[49m\u001b[38;5;241;43m=\u001b[39;49m\u001b[43mmonth\u001b[49m\u001b[43m,\u001b[49m\u001b[43m \u001b[49m\u001b[43mday\u001b[49m\u001b[38;5;241;43m=\u001b[39;49m\u001b[43mday\u001b[49m\u001b[43m,\u001b[49m\n\u001b[0;32m    379\u001b[0m \u001b[43m            \u001b[49m\u001b[43maggregation_level\u001b[49m\u001b[38;5;241;43m=\u001b[39;49m\u001b[43mlvl\u001b[49m\n\u001b[0;32m    380\u001b[0m \u001b[43m        \u001b[49m\u001b[43m)\u001b[49m\n\u001b[0;32m    381\u001b[0m         \u001b[38;5;66;03m# important : on veut forcer un rechargement propre\u001b[39;00m\n\u001b[0;32m    382\u001b[0m         dm\u001b[38;5;241m.\u001b[39mpreprocess_data()\n",
      "File \u001b[1;32mc:\\Users\\julie\\Documents\\Python\\Projets - Gestion Quant\\GQ2\\Price-predictability-at-ultra-high-frequency\\data\\DataManager.py:51\u001b[0m, in \u001b[0;36mDataManager.__init__\u001b[1;34m(self, asset_pairs, symbols, year, month, day, aggregation_level, exclude_zero, aggregate_by_time)\u001b[0m\n\u001b[0;32m     49\u001b[0m \u001b[38;5;28mself\u001b[39m\u001b[38;5;241m.\u001b[39maggregate_by_time \u001b[38;5;241m=\u001b[39m aggregate_by_time\n\u001b[0;32m     50\u001b[0m \u001b[38;5;28mself\u001b[39m\u001b[38;5;241m.\u001b[39mdatasets \u001b[38;5;241m=\u001b[39m {}\n\u001b[1;32m---> 51\u001b[0m \u001b[38;5;28;43mself\u001b[39;49m\u001b[38;5;241;43m.\u001b[39;49m\u001b[43m__post_init__\u001b[49m\u001b[43m(\u001b[49m\u001b[43m)\u001b[49m\n",
      "File \u001b[1;32mc:\\Users\\julie\\Documents\\Python\\Projets - Gestion Quant\\GQ2\\Price-predictability-at-ultra-high-frequency\\data\\DataManager.py:58\u001b[0m, in \u001b[0;36mDataManager.__post_init__\u001b[1;34m(self)\u001b[0m\n\u001b[0;32m     56\u001b[0m \u001b[38;5;28;01mfor\u001b[39;00m pair \u001b[38;5;129;01min\u001b[39;00m \u001b[38;5;28mself\u001b[39m\u001b[38;5;241m.\u001b[39massets_pairs:\n\u001b[0;32m     57\u001b[0m     \u001b[38;5;28mself\u001b[39m\u001b[38;5;241m.\u001b[39mchecks\u001b[38;5;241m.\u001b[39mappend(\u001b[38;5;28mself\u001b[39m\u001b[38;5;241m.\u001b[39mexist(pair))\n\u001b[1;32m---> 58\u001b[0m \u001b[38;5;28;43mself\u001b[39;49m\u001b[38;5;241;43m.\u001b[39;49m\u001b[43mpreprocess_data\u001b[49m\u001b[43m(\u001b[49m\u001b[43m)\u001b[49m\n\u001b[0;32m     59\u001b[0m \u001b[38;5;28mself\u001b[39m\u001b[38;5;241m.\u001b[39msave_data()\n",
      "File \u001b[1;32mc:\\Users\\julie\\Documents\\Python\\Projets - Gestion Quant\\GQ2\\Price-predictability-at-ultra-high-frequency\\data\\DataManager.py:114\u001b[0m, in \u001b[0;36mDataManager.preprocess_data\u001b[1;34m(self)\u001b[0m\n\u001b[0;32m    112\u001b[0m \u001b[38;5;28;01mif\u001b[39;00m \u001b[38;5;28mself\u001b[39m\u001b[38;5;241m.\u001b[39mchecks[i]:\n\u001b[0;32m    113\u001b[0m     \u001b[38;5;28;01mcontinue\u001b[39;00m\n\u001b[1;32m--> 114\u001b[0m dataset \u001b[38;5;241m=\u001b[39m \u001b[43mdataset\u001b[49m\u001b[38;5;241;43m.\u001b[39;49m\u001b[43mcopy\u001b[49m\u001b[43m(\u001b[49m\u001b[43m)\u001b[49m\n\u001b[0;32m    115\u001b[0m dataset\u001b[38;5;241m.\u001b[39mreset_index(inplace\u001b[38;5;241m=\u001b[39m\u001b[38;5;28;01mTrue\u001b[39;00m)\n\u001b[0;32m    116\u001b[0m dataset[\u001b[38;5;124m'\u001b[39m\u001b[38;5;124mkey\u001b[39m\u001b[38;5;124m'\u001b[39m] \u001b[38;5;241m=\u001b[39m np\u001b[38;5;241m.\u001b[39mfloor(np\u001b[38;5;241m.\u001b[39marange(\u001b[38;5;28mlen\u001b[39m(dataset)) \u001b[38;5;241m/\u001b[39m \u001b[38;5;28mself\u001b[39m\u001b[38;5;241m.\u001b[39maggregation_level)\u001b[38;5;241m.\u001b[39mastype(\u001b[38;5;28mint\u001b[39m)\n",
      "File \u001b[1;32mc:\\Users\\julie\\AppData\\Local\\Programs\\Python\\Python312\\Lib\\site-packages\\pandas\\core\\generic.py:6811\u001b[0m, in \u001b[0;36mNDFrame.copy\u001b[1;34m(self, deep)\u001b[0m\n\u001b[0;32m   6662\u001b[0m \u001b[38;5;129m@final\u001b[39m\n\u001b[0;32m   6663\u001b[0m \u001b[38;5;28;01mdef\u001b[39;00m\u001b[38;5;250m \u001b[39m\u001b[38;5;21mcopy\u001b[39m(\u001b[38;5;28mself\u001b[39m, deep: bool_t \u001b[38;5;241m|\u001b[39m \u001b[38;5;28;01mNone\u001b[39;00m \u001b[38;5;241m=\u001b[39m \u001b[38;5;28;01mTrue\u001b[39;00m) \u001b[38;5;241m-\u001b[39m\u001b[38;5;241m>\u001b[39m Self:\n\u001b[0;32m   6664\u001b[0m \u001b[38;5;250m    \u001b[39m\u001b[38;5;124;03m\"\"\"\u001b[39;00m\n\u001b[0;32m   6665\u001b[0m \u001b[38;5;124;03m    Make a copy of this object's indices and data.\u001b[39;00m\n\u001b[0;32m   6666\u001b[0m \n\u001b[1;32m   (...)\u001b[0m\n\u001b[0;32m   6809\u001b[0m \u001b[38;5;124;03m    dtype: int64\u001b[39;00m\n\u001b[0;32m   6810\u001b[0m \u001b[38;5;124;03m    \"\"\"\u001b[39;00m\n\u001b[1;32m-> 6811\u001b[0m     data \u001b[38;5;241m=\u001b[39m \u001b[38;5;28;43mself\u001b[39;49m\u001b[38;5;241;43m.\u001b[39;49m\u001b[43m_mgr\u001b[49m\u001b[38;5;241;43m.\u001b[39;49m\u001b[43mcopy\u001b[49m\u001b[43m(\u001b[49m\u001b[43mdeep\u001b[49m\u001b[38;5;241;43m=\u001b[39;49m\u001b[43mdeep\u001b[49m\u001b[43m)\u001b[49m\n\u001b[0;32m   6812\u001b[0m     \u001b[38;5;28mself\u001b[39m\u001b[38;5;241m.\u001b[39m_clear_item_cache()\n\u001b[0;32m   6813\u001b[0m     \u001b[38;5;28;01mreturn\u001b[39;00m \u001b[38;5;28mself\u001b[39m\u001b[38;5;241m.\u001b[39m_constructor_from_mgr(data, axes\u001b[38;5;241m=\u001b[39mdata\u001b[38;5;241m.\u001b[39maxes)\u001b[38;5;241m.\u001b[39m__finalize__(\n\u001b[0;32m   6814\u001b[0m         \u001b[38;5;28mself\u001b[39m, method\u001b[38;5;241m=\u001b[39m\u001b[38;5;124m\"\u001b[39m\u001b[38;5;124mcopy\u001b[39m\u001b[38;5;124m\"\u001b[39m\n\u001b[0;32m   6815\u001b[0m     )\n",
      "File \u001b[1;32mc:\\Users\\julie\\AppData\\Local\\Programs\\Python\\Python312\\Lib\\site-packages\\pandas\\core\\internals\\managers.py:604\u001b[0m, in \u001b[0;36mBaseBlockManager.copy\u001b[1;34m(self, deep)\u001b[0m\n\u001b[0;32m    601\u001b[0m         res\u001b[38;5;241m.\u001b[39m_blklocs \u001b[38;5;241m=\u001b[39m \u001b[38;5;28mself\u001b[39m\u001b[38;5;241m.\u001b[39m_blklocs\u001b[38;5;241m.\u001b[39mcopy()\n\u001b[0;32m    603\u001b[0m \u001b[38;5;28;01mif\u001b[39;00m deep:\n\u001b[1;32m--> 604\u001b[0m     \u001b[43mres\u001b[49m\u001b[38;5;241;43m.\u001b[39;49m\u001b[43m_consolidate_inplace\u001b[49m\u001b[43m(\u001b[49m\u001b[43m)\u001b[49m\n\u001b[0;32m    605\u001b[0m \u001b[38;5;28;01mreturn\u001b[39;00m res\n",
      "File \u001b[1;32mc:\\Users\\julie\\AppData\\Local\\Programs\\Python\\Python312\\Lib\\site-packages\\pandas\\core\\internals\\managers.py:1788\u001b[0m, in \u001b[0;36mBlockManager._consolidate_inplace\u001b[1;34m(self)\u001b[0m\n\u001b[0;32m   1782\u001b[0m \u001b[38;5;28;01mdef\u001b[39;00m\u001b[38;5;250m \u001b[39m\u001b[38;5;21m_consolidate_inplace\u001b[39m(\u001b[38;5;28mself\u001b[39m) \u001b[38;5;241m-\u001b[39m\u001b[38;5;241m>\u001b[39m \u001b[38;5;28;01mNone\u001b[39;00m:\n\u001b[0;32m   1783\u001b[0m     \u001b[38;5;66;03m# In general, _consolidate_inplace should only be called via\u001b[39;00m\n\u001b[0;32m   1784\u001b[0m     \u001b[38;5;66;03m#  DataFrame._consolidate_inplace, otherwise we will fail to invalidate\u001b[39;00m\n\u001b[0;32m   1785\u001b[0m     \u001b[38;5;66;03m#  the DataFrame's _item_cache. The exception is for newly-created\u001b[39;00m\n\u001b[0;32m   1786\u001b[0m     \u001b[38;5;66;03m#  BlockManager objects not yet attached to a DataFrame.\u001b[39;00m\n\u001b[0;32m   1787\u001b[0m     \u001b[38;5;28;01mif\u001b[39;00m \u001b[38;5;129;01mnot\u001b[39;00m \u001b[38;5;28mself\u001b[39m\u001b[38;5;241m.\u001b[39mis_consolidated():\n\u001b[1;32m-> 1788\u001b[0m         \u001b[38;5;28mself\u001b[39m\u001b[38;5;241m.\u001b[39mblocks \u001b[38;5;241m=\u001b[39m \u001b[43m_consolidate\u001b[49m\u001b[43m(\u001b[49m\u001b[38;5;28;43mself\u001b[39;49m\u001b[38;5;241;43m.\u001b[39;49m\u001b[43mblocks\u001b[49m\u001b[43m)\u001b[49m\n\u001b[0;32m   1789\u001b[0m         \u001b[38;5;28mself\u001b[39m\u001b[38;5;241m.\u001b[39m_is_consolidated \u001b[38;5;241m=\u001b[39m \u001b[38;5;28;01mTrue\u001b[39;00m\n\u001b[0;32m   1790\u001b[0m         \u001b[38;5;28mself\u001b[39m\u001b[38;5;241m.\u001b[39m_known_consolidated \u001b[38;5;241m=\u001b[39m \u001b[38;5;28;01mTrue\u001b[39;00m\n",
      "File \u001b[1;32mc:\\Users\\julie\\AppData\\Local\\Programs\\Python\\Python312\\Lib\\site-packages\\pandas\\core\\internals\\managers.py:2269\u001b[0m, in \u001b[0;36m_consolidate\u001b[1;34m(blocks)\u001b[0m\n\u001b[0;32m   2267\u001b[0m new_blocks: \u001b[38;5;28mlist\u001b[39m[Block] \u001b[38;5;241m=\u001b[39m []\n\u001b[0;32m   2268\u001b[0m \u001b[38;5;28;01mfor\u001b[39;00m (_can_consolidate, dtype), group_blocks \u001b[38;5;129;01min\u001b[39;00m grouper:\n\u001b[1;32m-> 2269\u001b[0m     merged_blocks, _ \u001b[38;5;241m=\u001b[39m \u001b[43m_merge_blocks\u001b[49m\u001b[43m(\u001b[49m\n\u001b[0;32m   2270\u001b[0m \u001b[43m        \u001b[49m\u001b[38;5;28;43mlist\u001b[39;49m\u001b[43m(\u001b[49m\u001b[43mgroup_blocks\u001b[49m\u001b[43m)\u001b[49m\u001b[43m,\u001b[49m\u001b[43m \u001b[49m\u001b[43mdtype\u001b[49m\u001b[38;5;241;43m=\u001b[39;49m\u001b[43mdtype\u001b[49m\u001b[43m,\u001b[49m\u001b[43m \u001b[49m\u001b[43mcan_consolidate\u001b[49m\u001b[38;5;241;43m=\u001b[39;49m\u001b[43m_can_consolidate\u001b[49m\n\u001b[0;32m   2271\u001b[0m \u001b[43m    \u001b[49m\u001b[43m)\u001b[49m\n\u001b[0;32m   2272\u001b[0m     new_blocks \u001b[38;5;241m=\u001b[39m extend_blocks(merged_blocks, new_blocks)\n\u001b[0;32m   2273\u001b[0m \u001b[38;5;28;01mreturn\u001b[39;00m \u001b[38;5;28mtuple\u001b[39m(new_blocks)\n",
      "File \u001b[1;32mc:\\Users\\julie\\AppData\\Local\\Programs\\Python\\Python312\\Lib\\site-packages\\pandas\\core\\internals\\managers.py:2301\u001b[0m, in \u001b[0;36m_merge_blocks\u001b[1;34m(blocks, dtype, can_consolidate)\u001b[0m\n\u001b[0;32m   2298\u001b[0m     new_values \u001b[38;5;241m=\u001b[39m bvals2[\u001b[38;5;241m0\u001b[39m]\u001b[38;5;241m.\u001b[39m_concat_same_type(bvals2, axis\u001b[38;5;241m=\u001b[39m\u001b[38;5;241m0\u001b[39m)\n\u001b[0;32m   2300\u001b[0m argsort \u001b[38;5;241m=\u001b[39m np\u001b[38;5;241m.\u001b[39margsort(new_mgr_locs)\n\u001b[1;32m-> 2301\u001b[0m new_values \u001b[38;5;241m=\u001b[39m \u001b[43mnew_values\u001b[49m\u001b[43m[\u001b[49m\u001b[43margsort\u001b[49m\u001b[43m]\u001b[49m\n\u001b[0;32m   2302\u001b[0m new_mgr_locs \u001b[38;5;241m=\u001b[39m new_mgr_locs[argsort]\n\u001b[0;32m   2304\u001b[0m bp \u001b[38;5;241m=\u001b[39m BlockPlacement(new_mgr_locs)\n",
      "\u001b[1;31mMemoryError\u001b[0m: Unable to allocate 3.84 GiB for an array with shape (4, 128881324) and data type float64"
     ]
    }
   ],
   "source": [
    "fig = DataManager.plot_transaction_counts_express(\n",
    "    pairs=asset_pairs,\n",
    "    symbols=symbols,\n",
    "    year=year, month=month, day=None,\n",
    "    aggregation_levels=aggregation_levels\n",
    ")\n",
    "fig.show()"
   ]
  },
  {
   "cell_type": "markdown",
   "id": "230575c8",
   "metadata": {},
   "source": [
    "#  Cross KL Divergence"
   ]
  },
  {
   "cell_type": "code",
   "execution_count": 4,
   "id": "26920b67",
   "metadata": {},
   "outputs": [
    {
     "name": "stdout",
     "output_type": "stream",
     "text": [
      "[DataManager] Loading parquet file: data/raw_data_parquet\\ETHUSDT-trades-2025-02.parquet\n",
      "[DataManager] Loading parquet file: data/raw_data_parquet\\BTCUSDT-trades-2025-02.parquet\n",
      "[DataManager] Loading parquet file: data/raw_data_parquet\\BTCUSDT-trades-2025-02.parquet\n"
     ]
    }
   ],
   "source": [
    "alpha_eth = 5\n",
    "# Least liquid pair is ETHUSDT\n",
    "dm_eth = DataManager(['ETHUSDT'], symbols, year, month, None,\n",
    "                     aggregation_level=alpha_eth)\n",
    "n_blocks_eth = len(dm_eth.datasets['ETHUSDT']['symbol'])\n",
    "\n",
    "# BTC is the most liquid pair, we use it to match the aggregation level of ETH to have the same number of blocks\n",
    "alpha_btc = dm_eth.matching_aggregation_for(\"BTCUSDT\", blocks=n_blocks_eth, year=year, month=month, day=None)\n",
    "\n",
    "dm_btc = DataManager(['BTCUSDT'], symbols, year, month, None,\n",
    "                      aggregation_level=alpha_btc)\n"
   ]
  },
  {
   "cell_type": "markdown",
   "id": "56e84bb2",
   "metadata": {},
   "source": [
    "## Test simple "
   ]
  },
  {
   "cell_type": "code",
   "execution_count": 6,
   "id": "c2e476a4",
   "metadata": {},
   "outputs": [
    {
     "name": "stdout",
     "output_type": "stream",
     "text": [
      "Optimal k for BTC: 12\n"
     ]
    }
   ],
   "source": [
    "k = 3   \n",
    "\n",
    "symbols_btc = dm_btc.datasets['BTCUSDT']['symbol']\n",
    "symbols_eth = dm_eth.datasets['ETHUSDT']['symbol']\n",
    "\n",
    "cra = CrossRandomnessAnalysis(\n",
    "    symbols_context=symbols_btc,\n",
    "    symbols_target =symbols_eth,\n",
    "    k=k,\n",
    "    s=2,\n",
    "    asset_context='BTCUSDT',\n",
    "    alpha_context=alpha_btc,\n",
    "    asset_target ='ETHUSDT',\n",
    "    alpha_target =alpha_eth\n",
    ")\n",
    "\n",
    "freq_df    = cra.compute_cross_frequencies()\n",
    "res_bias   = cra.entropy_bias_test()       # uses non-overlapping blocks \n",
    "res_kl     = cra.KL_divergence_test()      # uses overlapping blocks \n",
    "\n",
    "s = 2  \n",
    "n_eth = len(dm_eth.datasets[\"ETHUSDT\"][\"symbol\"])\n",
    "k_opt_eth = int(np.floor(0.5 * np.log(n_eth) / np.log(s)))\n",
    "print(f\"Optimal k for BTC: {k_opt_eth}\")"
   ]
  },
  {
   "cell_type": "code",
   "execution_count": null,
   "id": "e5aee485",
   "metadata": {},
   "outputs": [
    {
     "data": {
      "text/html": [
       "<div>\n",
       "<style scoped>\n",
       "    .dataframe tbody tr th:only-of-type {\n",
       "        vertical-align: middle;\n",
       "    }\n",
       "\n",
       "    .dataframe tbody tr th {\n",
       "        vertical-align: top;\n",
       "    }\n",
       "\n",
       "    .dataframe thead th {\n",
       "        text-align: right;\n",
       "    }\n",
       "</style>\n",
       "<table border=\"1\" class=\"dataframe\">\n",
       "  <thead>\n",
       "    <tr style=\"text-align: right;\">\n",
       "      <th></th>\n",
       "      <th>block</th>\n",
       "      <th>absolute frequency</th>\n",
       "      <th>relative frequency</th>\n",
       "      <th>asset</th>\n",
       "      <th>alpha</th>\n",
       "      <th>block_size</th>\n",
       "    </tr>\n",
       "  </thead>\n",
       "  <tbody>\n",
       "    <tr>\n",
       "      <th>0</th>\n",
       "      <td>0</td>\n",
       "      <td>14475365</td>\n",
       "      <td>0.415224</td>\n",
       "      <td>BTCUSDT</td>\n",
       "      <td>1</td>\n",
       "      <td>3</td>\n",
       "    </tr>\n",
       "    <tr>\n",
       "      <th>1</th>\n",
       "      <td>1</td>\n",
       "      <td>539745</td>\n",
       "      <td>0.015483</td>\n",
       "      <td>BTCUSDT</td>\n",
       "      <td>1</td>\n",
       "      <td>3</td>\n",
       "    </tr>\n",
       "    <tr>\n",
       "      <th>2</th>\n",
       "      <td>2</td>\n",
       "      <td>2159760</td>\n",
       "      <td>0.061952</td>\n",
       "      <td>BTCUSDT</td>\n",
       "      <td>1</td>\n",
       "      <td>3</td>\n",
       "    </tr>\n",
       "    <tr>\n",
       "      <th>3</th>\n",
       "      <td>3</td>\n",
       "      <td>524768</td>\n",
       "      <td>0.015053</td>\n",
       "      <td>BTCUSDT</td>\n",
       "      <td>1</td>\n",
       "      <td>3</td>\n",
       "    </tr>\n",
       "    <tr>\n",
       "      <th>4</th>\n",
       "      <td>4</td>\n",
       "      <td>539745</td>\n",
       "      <td>0.015483</td>\n",
       "      <td>BTCUSDT</td>\n",
       "      <td>1</td>\n",
       "      <td>3</td>\n",
       "    </tr>\n",
       "    <tr>\n",
       "      <th>5</th>\n",
       "      <td>5</td>\n",
       "      <td>2144783</td>\n",
       "      <td>0.061523</td>\n",
       "      <td>BTCUSDT</td>\n",
       "      <td>1</td>\n",
       "      <td>3</td>\n",
       "    </tr>\n",
       "    <tr>\n",
       "      <th>6</th>\n",
       "      <td>6</td>\n",
       "      <td>524769</td>\n",
       "      <td>0.015053</td>\n",
       "      <td>BTCUSDT</td>\n",
       "      <td>1</td>\n",
       "      <td>3</td>\n",
       "    </tr>\n",
       "    <tr>\n",
       "      <th>7</th>\n",
       "      <td>7</td>\n",
       "      <td>13952682</td>\n",
       "      <td>0.400230</td>\n",
       "      <td>BTCUSDT</td>\n",
       "      <td>1</td>\n",
       "      <td>3</td>\n",
       "    </tr>\n",
       "    <tr>\n",
       "      <th>8</th>\n",
       "      <td>0</td>\n",
       "      <td>8117376</td>\n",
       "      <td>0.457383</td>\n",
       "      <td>ETHUSDT</td>\n",
       "      <td>5</td>\n",
       "      <td>1</td>\n",
       "    </tr>\n",
       "    <tr>\n",
       "      <th>9</th>\n",
       "      <td>1</td>\n",
       "      <td>9630047</td>\n",
       "      <td>0.542617</td>\n",
       "      <td>ETHUSDT</td>\n",
       "      <td>5</td>\n",
       "      <td>1</td>\n",
       "    </tr>\n",
       "  </tbody>\n",
       "</table>\n",
       "</div>"
      ],
      "text/plain": [
       "   block  absolute frequency  relative frequency    asset  alpha  block_size\n",
       "0      0            14475365            0.415224  BTCUSDT      1           3\n",
       "1      1              539745            0.015483  BTCUSDT      1           3\n",
       "2      2             2159760            0.061952  BTCUSDT      1           3\n",
       "3      3              524768            0.015053  BTCUSDT      1           3\n",
       "4      4              539745            0.015483  BTCUSDT      1           3\n",
       "5      5             2144783            0.061523  BTCUSDT      1           3\n",
       "6      6              524769            0.015053  BTCUSDT      1           3\n",
       "7      7            13952682            0.400230  BTCUSDT      1           3\n",
       "8      0             8117376            0.457383  ETHUSDT      5           1\n",
       "9      1             9630047            0.542617  ETHUSDT      5           1"
      ]
     },
     "execution_count": 25,
     "metadata": {},
     "output_type": "execute_result"
    }
   ],
   "source": [
    "freq_df.set_index('block', inplace=True)"
   ]
  },
  {
   "cell_type": "code",
   "execution_count": 26,
   "id": "51d63dac",
   "metadata": {},
   "outputs": [
    {
     "data": {
      "text/html": [
       "<div>\n",
       "<style scoped>\n",
       "    .dataframe tbody tr th:only-of-type {\n",
       "        vertical-align: middle;\n",
       "    }\n",
       "\n",
       "    .dataframe tbody tr th {\n",
       "        vertical-align: top;\n",
       "    }\n",
       "\n",
       "    .dataframe thead th {\n",
       "        text-align: right;\n",
       "    }\n",
       "</style>\n",
       "<table border=\"1\" class=\"dataframe\">\n",
       "  <thead>\n",
       "    <tr style=\"text-align: right;\">\n",
       "      <th></th>\n",
       "      <th>Entropy Bias test</th>\n",
       "    </tr>\n",
       "  </thead>\n",
       "  <tbody>\n",
       "    <tr>\n",
       "      <th>Bias</th>\n",
       "      <td>8437447.034131</td>\n",
       "    </tr>\n",
       "    <tr>\n",
       "      <th>Quantile 90%</th>\n",
       "      <td>22.30713</td>\n",
       "    </tr>\n",
       "    <tr>\n",
       "      <th>Quantile 95%</th>\n",
       "      <td>24.99579</td>\n",
       "    </tr>\n",
       "    <tr>\n",
       "      <th>Quantile 99%</th>\n",
       "      <td>30.577914</td>\n",
       "    </tr>\n",
       "    <tr>\n",
       "      <th>P-value</th>\n",
       "      <td>0.0</td>\n",
       "    </tr>\n",
       "    <tr>\n",
       "      <th>Mean</th>\n",
       "      <td>15</td>\n",
       "    </tr>\n",
       "    <tr>\n",
       "      <th>Hypothesis 1</th>\n",
       "      <td>True</td>\n",
       "    </tr>\n",
       "  </tbody>\n",
       "</table>\n",
       "</div>"
      ],
      "text/plain": [
       "             Entropy Bias test\n",
       "Bias            8437447.034131\n",
       "Quantile 90%          22.30713\n",
       "Quantile 95%          24.99579\n",
       "Quantile 99%         30.577914\n",
       "P-value                    0.0\n",
       "Mean                        15\n",
       "Hypothesis 1              True"
      ]
     },
     "execution_count": 26,
     "metadata": {},
     "output_type": "execute_result"
    }
   ],
   "source": [
    "res_bias"
   ]
  },
  {
   "cell_type": "code",
   "execution_count": 27,
   "id": "64f47f46",
   "metadata": {},
   "outputs": [
    {
     "data": {
      "text/html": [
       "<div>\n",
       "<style scoped>\n",
       "    .dataframe tbody tr th:only-of-type {\n",
       "        vertical-align: middle;\n",
       "    }\n",
       "\n",
       "    .dataframe tbody tr th {\n",
       "        vertical-align: top;\n",
       "    }\n",
       "\n",
       "    .dataframe thead th {\n",
       "        text-align: right;\n",
       "    }\n",
       "</style>\n",
       "<table border=\"1\" class=\"dataframe\">\n",
       "  <thead>\n",
       "    <tr style=\"text-align: right;\">\n",
       "      <th></th>\n",
       "      <th>NP Statistic test</th>\n",
       "    </tr>\n",
       "  </thead>\n",
       "  <tbody>\n",
       "    <tr>\n",
       "      <th>NP Statistic</th>\n",
       "      <td>37.666349</td>\n",
       "    </tr>\n",
       "    <tr>\n",
       "      <th>Quantile 90%</th>\n",
       "      <td>12.017037</td>\n",
       "    </tr>\n",
       "    <tr>\n",
       "      <th>Quantile 95%</th>\n",
       "      <td>14.06714</td>\n",
       "    </tr>\n",
       "    <tr>\n",
       "      <th>Quantile 99%</th>\n",
       "      <td>18.475307</td>\n",
       "    </tr>\n",
       "    <tr>\n",
       "      <th>P-value</th>\n",
       "      <td>0.000004</td>\n",
       "    </tr>\n",
       "    <tr>\n",
       "      <th>Mean</th>\n",
       "      <td>7</td>\n",
       "    </tr>\n",
       "    <tr>\n",
       "      <th>Hypothesis 1</th>\n",
       "      <td>True</td>\n",
       "    </tr>\n",
       "  </tbody>\n",
       "</table>\n",
       "</div>"
      ],
      "text/plain": [
       "             NP Statistic test\n",
       "NP Statistic         37.666349\n",
       "Quantile 90%         12.017037\n",
       "Quantile 95%          14.06714\n",
       "Quantile 99%         18.475307\n",
       "P-value               0.000004\n",
       "Mean                         7\n",
       "Hypothesis 1              True"
      ]
     },
     "execution_count": 27,
     "metadata": {},
     "output_type": "execute_result"
    }
   ],
   "source": [
    "res_kl"
   ]
  },
  {
   "cell_type": "markdown",
   "id": "43459d17",
   "metadata": {},
   "source": [
    "## Multi-test"
   ]
  },
  {
   "cell_type": "code",
   "execution_count": 31,
   "id": "780c1a58",
   "metadata": {},
   "outputs": [],
   "source": [
    "import importlib\n",
    "\n",
    "import utils.MultiTester\n",
    "importlib.reload(utils.MultiTester)\n",
    "\n",
    "from utils.MultiTester import CrossMultiTester\n"
   ]
  },
  {
   "cell_type": "code",
   "execution_count": 32,
   "id": "9564d55c",
   "metadata": {},
   "outputs": [
    {
     "name": "stdout",
     "output_type": "stream",
     "text": [
      "[DataManager] Loading parquet file: data/raw_data_parquet\\BTCUSDT-trades-2025-02.parquet\n",
      "[DataManager] Loading parquet file: data/raw_data_parquet\\ETHUSDT-trades-2025-02.parquet\n",
      "[DataManager] Loading parquet file: data/raw_data_parquet\\ETHUSDT-trades-2025-02.parquet\n",
      "[DEBUG] self.blocks_ctx will be created\n",
      "[DataManager] Loading parquet file: data/raw_data_parquet\\BTCUSDT-trades-2025-02.parquet\n",
      "[DataManager] Loading parquet file: data/raw_data_parquet\\ETHUSDT-trades-2025-02.parquet\n",
      "[DataManager] Loading parquet file: data/raw_data_parquet\\ETHUSDT-trades-2025-02.parquet\n",
      "[DEBUG] self.blocks_ctx will be created\n",
      "[DataManager] Loading parquet file: data/raw_data_parquet\\BTCUSDT-trades-2025-02.parquet\n",
      "[DataManager] Loading parquet file: data/raw_data_parquet\\ETHUSDT-trades-2025-02.parquet\n",
      "[DataManager] Loading parquet file: data/raw_data_parquet\\ETHUSDT-trades-2025-02.parquet\n",
      "[DEBUG] self.blocks_ctx will be created\n",
      "[DataManager] Loading parquet file: data/raw_data_parquet\\BTCUSDT-trades-2025-02.parquet\n",
      "[DataManager] Loading parquet file: data/raw_data_parquet\\ETHUSDT-trades-2025-02.parquet\n",
      "[DataManager] Loading parquet file: data/raw_data_parquet\\ETHUSDT-trades-2025-02.parquet\n",
      "[DEBUG] self.blocks_ctx will be created\n",
      "[DataManager] Loading parquet file: data/raw_data_parquet\\BTCUSDT-trades-2025-02.parquet\n",
      "[DataManager] Loading parquet file: data/raw_data_parquet\\ETHUSDT-trades-2025-02.parquet\n",
      "[DataManager] Loading parquet file: data/raw_data_parquet\\ETHUSDT-trades-2025-02.parquet\n",
      "[DEBUG] self.blocks_ctx will be created\n",
      "[DataManager] Loading parquet file: data/raw_data_parquet\\BTCUSDT-trades-2025-02.parquet\n",
      "[DataManager] Loading parquet file: data/raw_data_parquet\\ETHUSDT-trades-2025-02.parquet\n",
      "[DataManager] Loading parquet file: data/raw_data_parquet\\ETHUSDT-trades-2025-02.parquet\n",
      "[DEBUG] self.blocks_ctx will be created\n",
      "[DataManager] Loading parquet file: data/raw_data_parquet\\BTCUSDT-trades-2025-02.parquet\n",
      "[DataManager] Loading parquet file: data/raw_data_parquet\\ETHUSDT-trades-2025-02.parquet\n",
      "[DataManager] Loading parquet file: data/raw_data_parquet\\ETHUSDT-trades-2025-02.parquet\n",
      "[DEBUG] self.blocks_ctx will be created\n",
      "[DataManager] Loading parquet file: data/raw_data_parquet\\BTCUSDT-trades-2025-02.parquet\n",
      "[DataManager] Loading parquet file: data/raw_data_parquet\\ETHUSDT-trades-2025-02.parquet\n",
      "[DataManager] Loading parquet file: data/raw_data_parquet\\ETHUSDT-trades-2025-02.parquet\n",
      "[DEBUG] self.blocks_ctx will be created\n",
      "[DataManager] Loading parquet file: data/raw_data_parquet\\BTCUSDT-trades-2025-02.parquet\n",
      "[DataManager] Loading parquet file: data/raw_data_parquet\\ETHUSDT-trades-2025-02.parquet\n",
      "[DataManager] Loading parquet file: data/raw_data_parquet\\ETHUSDT-trades-2025-02.parquet\n",
      "[DEBUG] self.blocks_ctx will be created\n",
      "[DataManager] Loading parquet file: data/raw_data_parquet\\BTCUSDT-trades-2025-02.parquet\n",
      "[DataManager] Loading parquet file: data/raw_data_parquet\\ETHUSDT-trades-2025-02.parquet\n",
      "[DataManager] Loading parquet file: data/raw_data_parquet\\ETHUSDT-trades-2025-02.parquet\n",
      "[DEBUG] self.blocks_ctx will be created\n"
     ]
    },
    {
     "data": {
      "text/html": [
       "<div>\n",
       "<style scoped>\n",
       "    .dataframe tbody tr th:only-of-type {\n",
       "        vertical-align: middle;\n",
       "    }\n",
       "\n",
       "    .dataframe tbody tr th {\n",
       "        vertical-align: top;\n",
       "    }\n",
       "\n",
       "    .dataframe thead th {\n",
       "        text-align: right;\n",
       "    }\n",
       "</style>\n",
       "<table border=\"1\" class=\"dataframe\">\n",
       "  <thead>\n",
       "    <tr style=\"text-align: right;\">\n",
       "      <th></th>\n",
       "      <th>Alpha target</th>\n",
       "      <th>Test statistic</th>\n",
       "      <th>Quantile 90</th>\n",
       "      <th>Quantile 95</th>\n",
       "      <th>Quantile 99</th>\n",
       "      <th>Mean</th>\n",
       "    </tr>\n",
       "    <tr>\n",
       "      <th>Block size</th>\n",
       "      <th></th>\n",
       "      <th></th>\n",
       "      <th></th>\n",
       "      <th></th>\n",
       "      <th></th>\n",
       "      <th></th>\n",
       "    </tr>\n",
       "  </thead>\n",
       "  <tbody>\n",
       "    <tr>\n",
       "      <th>1</th>\n",
       "      <td>1</td>\n",
       "      <td>3.012283</td>\n",
       "      <td>2.705543</td>\n",
       "      <td>3.841459</td>\n",
       "      <td>6.634897</td>\n",
       "      <td>1</td>\n",
       "    </tr>\n",
       "    <tr>\n",
       "      <th>2</th>\n",
       "      <td>1</td>\n",
       "      <td>4.584474</td>\n",
       "      <td>6.251389</td>\n",
       "      <td>7.814728</td>\n",
       "      <td>11.344867</td>\n",
       "      <td>3</td>\n",
       "    </tr>\n",
       "    <tr>\n",
       "      <th>3</th>\n",
       "      <td>1</td>\n",
       "      <td>26.589201</td>\n",
       "      <td>12.017037</td>\n",
       "      <td>14.067140</td>\n",
       "      <td>18.475307</td>\n",
       "      <td>7</td>\n",
       "    </tr>\n",
       "    <tr>\n",
       "      <th>4</th>\n",
       "      <td>1</td>\n",
       "      <td>49.738251</td>\n",
       "      <td>22.307130</td>\n",
       "      <td>24.995790</td>\n",
       "      <td>30.577914</td>\n",
       "      <td>15</td>\n",
       "    </tr>\n",
       "    <tr>\n",
       "      <th>5</th>\n",
       "      <td>1</td>\n",
       "      <td>75.915255</td>\n",
       "      <td>41.421736</td>\n",
       "      <td>44.985343</td>\n",
       "      <td>52.191395</td>\n",
       "      <td>31</td>\n",
       "    </tr>\n",
       "    <tr>\n",
       "      <th>6</th>\n",
       "      <td>1</td>\n",
       "      <td>121.625481</td>\n",
       "      <td>77.745385</td>\n",
       "      <td>82.528727</td>\n",
       "      <td>92.010024</td>\n",
       "      <td>63</td>\n",
       "    </tr>\n",
       "    <tr>\n",
       "      <th>7</th>\n",
       "      <td>1</td>\n",
       "      <td>211.370810</td>\n",
       "      <td>147.804813</td>\n",
       "      <td>154.301516</td>\n",
       "      <td>166.987390</td>\n",
       "      <td>127</td>\n",
       "    </tr>\n",
       "    <tr>\n",
       "      <th>8</th>\n",
       "      <td>1</td>\n",
       "      <td>376.257517</td>\n",
       "      <td>284.335908</td>\n",
       "      <td>293.247835</td>\n",
       "      <td>310.457388</td>\n",
       "      <td>255</td>\n",
       "    </tr>\n",
       "    <tr>\n",
       "      <th>9</th>\n",
       "      <td>1</td>\n",
       "      <td>646.159732</td>\n",
       "      <td>552.373933</td>\n",
       "      <td>564.696133</td>\n",
       "      <td>588.297794</td>\n",
       "      <td>511</td>\n",
       "    </tr>\n",
       "    <tr>\n",
       "      <th>10</th>\n",
       "      <td>1</td>\n",
       "      <td>1132.873388</td>\n",
       "      <td>1081.379444</td>\n",
       "      <td>1098.520782</td>\n",
       "      <td>1131.158739</td>\n",
       "      <td>1023</td>\n",
       "    </tr>\n",
       "  </tbody>\n",
       "</table>\n",
       "</div>"
      ],
      "text/plain": [
       "            Alpha target  Test statistic  Quantile 90  Quantile 95  \\\n",
       "Block size                                                           \n",
       "1                      1        3.012283     2.705543     3.841459   \n",
       "2                      1        4.584474     6.251389     7.814728   \n",
       "3                      1       26.589201    12.017037    14.067140   \n",
       "4                      1       49.738251    22.307130    24.995790   \n",
       "5                      1       75.915255    41.421736    44.985343   \n",
       "6                      1      121.625481    77.745385    82.528727   \n",
       "7                      1      211.370810   147.804813   154.301516   \n",
       "8                      1      376.257517   284.335908   293.247835   \n",
       "9                      1      646.159732   552.373933   564.696133   \n",
       "10                     1     1132.873388  1081.379444  1098.520782   \n",
       "\n",
       "            Quantile 99  Mean  \n",
       "Block size                     \n",
       "1              6.634897     1  \n",
       "2             11.344867     3  \n",
       "3             18.475307     7  \n",
       "4             30.577914    15  \n",
       "5             52.191395    31  \n",
       "6             92.010024    63  \n",
       "7            166.987390   127  \n",
       "8            310.457388   255  \n",
       "9            588.297794   511  \n",
       "10          1131.158739  1023  "
      ]
     },
     "metadata": {},
     "output_type": "display_data"
    }
   ],
   "source": [
    "cmt = CrossMultiTester('BTCUSDT', 'ETHUSDT')\n",
    "\n",
    "df_blocks = cmt.test_by_block_size(\n",
    "    test='NP Statistic',\n",
    "    max_block_size=10,\n",
    "    alpha_context=5,\n",
    "    year=year, month=month, day=None\n",
    ")\n",
    "display(df_blocks)"
   ]
  },
  {
   "cell_type": "code",
   "execution_count": 33,
   "id": "197b1afb",
   "metadata": {},
   "outputs": [
    {
     "name": "stdout",
     "output_type": "stream",
     "text": [
      "[DataManager] Loading parquet file: data/raw_data_parquet\\BTCUSDT-trades-2025-02.parquet\n",
      "[DataManager] Loading parquet file: data/raw_data_parquet\\ETHUSDT-trades-2025-02.parquet\n",
      "[DataManager] Loading parquet file: data/raw_data_parquet\\ETHUSDT-trades-2025-02.parquet\n",
      "[DEBUG] self.blocks_ctx will be created\n",
      "[DataManager] Loading parquet file: data/raw_data_parquet\\BTCUSDT-trades-2025-02.parquet\n",
      "[DataManager] Loading parquet file: data/raw_data_parquet\\ETHUSDT-trades-2025-02.parquet\n",
      "[DataManager] Loading parquet file: data/raw_data_parquet\\ETHUSDT-trades-2025-02.parquet\n",
      "[DEBUG] self.blocks_ctx will be created\n",
      "[DataManager] Loading parquet file: data/raw_data_parquet\\BTCUSDT-trades-2025-02.parquet\n",
      "[DataManager] Loading parquet file: data/raw_data_parquet\\ETHUSDT-trades-2025-02.parquet\n",
      "[DataManager] Loading parquet file: data/raw_data_parquet\\ETHUSDT-trades-2025-02.parquet\n",
      "[DEBUG] self.blocks_ctx will be created\n",
      "[DataManager] Loading parquet file: data/raw_data_parquet\\BTCUSDT-trades-2025-02.parquet\n",
      "[DataManager] Loading parquet file: data/raw_data_parquet\\ETHUSDT-trades-2025-02.parquet\n",
      "[DataManager] Loading parquet file: data/raw_data_parquet\\ETHUSDT-trades-2025-02.parquet\n",
      "[DEBUG] self.blocks_ctx will be created\n",
      "[DataManager] Loading parquet file: data/raw_data_parquet\\BTCUSDT-trades-2025-02.parquet\n",
      "[DataManager] Loading parquet file: data/raw_data_parquet\\ETHUSDT-trades-2025-02.parquet\n",
      "[DataManager] Loading parquet file: data/raw_data_parquet\\ETHUSDT-trades-2025-02.parquet\n",
      "[DEBUG] self.blocks_ctx will be created\n",
      "[DataManager] Loading parquet file: data/raw_data_parquet\\BTCUSDT-trades-2025-02.parquet\n",
      "[DataManager] Loading parquet file: data/raw_data_parquet\\ETHUSDT-trades-2025-02.parquet\n",
      "[DataManager] Loading parquet file: data/raw_data_parquet\\ETHUSDT-trades-2025-02.parquet\n",
      "[DEBUG] self.blocks_ctx will be created\n"
     ]
    },
    {
     "data": {
      "text/html": [
       "<div>\n",
       "<style scoped>\n",
       "    .dataframe tbody tr th:only-of-type {\n",
       "        vertical-align: middle;\n",
       "    }\n",
       "\n",
       "    .dataframe tbody tr th {\n",
       "        vertical-align: top;\n",
       "    }\n",
       "\n",
       "    .dataframe thead th {\n",
       "        text-align: right;\n",
       "    }\n",
       "</style>\n",
       "<table border=\"1\" class=\"dataframe\">\n",
       "  <thead>\n",
       "    <tr style=\"text-align: right;\">\n",
       "      <th></th>\n",
       "      <th>Alpha target</th>\n",
       "      <th>Test statistic</th>\n",
       "      <th>Quantile 90</th>\n",
       "      <th>Quantile 95</th>\n",
       "      <th>Quantile 99</th>\n",
       "      <th>Mean</th>\n",
       "    </tr>\n",
       "    <tr>\n",
       "      <th>Aggregation level</th>\n",
       "      <th></th>\n",
       "      <th></th>\n",
       "      <th></th>\n",
       "      <th></th>\n",
       "      <th></th>\n",
       "      <th></th>\n",
       "    </tr>\n",
       "  </thead>\n",
       "  <tbody>\n",
       "    <tr>\n",
       "      <th>1</th>\n",
       "      <td>1</td>\n",
       "      <td>86.840053</td>\n",
       "      <td>12.017037</td>\n",
       "      <td>14.06714</td>\n",
       "      <td>18.475307</td>\n",
       "      <td>7</td>\n",
       "    </tr>\n",
       "    <tr>\n",
       "      <th>2</th>\n",
       "      <td>1</td>\n",
       "      <td>107.584261</td>\n",
       "      <td>12.017037</td>\n",
       "      <td>14.06714</td>\n",
       "      <td>18.475307</td>\n",
       "      <td>7</td>\n",
       "    </tr>\n",
       "    <tr>\n",
       "      <th>5</th>\n",
       "      <td>1</td>\n",
       "      <td>26.589201</td>\n",
       "      <td>12.017037</td>\n",
       "      <td>14.06714</td>\n",
       "      <td>18.475307</td>\n",
       "      <td>7</td>\n",
       "    </tr>\n",
       "    <tr>\n",
       "      <th>10</th>\n",
       "      <td>2</td>\n",
       "      <td>42.508152</td>\n",
       "      <td>12.017037</td>\n",
       "      <td>14.06714</td>\n",
       "      <td>18.475307</td>\n",
       "      <td>7</td>\n",
       "    </tr>\n",
       "    <tr>\n",
       "      <th>20</th>\n",
       "      <td>5</td>\n",
       "      <td>5.595405</td>\n",
       "      <td>12.017037</td>\n",
       "      <td>14.06714</td>\n",
       "      <td>18.475307</td>\n",
       "      <td>7</td>\n",
       "    </tr>\n",
       "    <tr>\n",
       "      <th>50</th>\n",
       "      <td>12</td>\n",
       "      <td>23.936752</td>\n",
       "      <td>12.017037</td>\n",
       "      <td>14.06714</td>\n",
       "      <td>18.475307</td>\n",
       "      <td>7</td>\n",
       "    </tr>\n",
       "  </tbody>\n",
       "</table>\n",
       "</div>"
      ],
      "text/plain": [
       "                   Alpha target  Test statistic  Quantile 90  Quantile 95  \\\n",
       "Aggregation level                                                           \n",
       "1                             1       86.840053    12.017037     14.06714   \n",
       "2                             1      107.584261    12.017037     14.06714   \n",
       "5                             1       26.589201    12.017037     14.06714   \n",
       "10                            2       42.508152    12.017037     14.06714   \n",
       "20                            5        5.595405    12.017037     14.06714   \n",
       "50                           12       23.936752    12.017037     14.06714   \n",
       "\n",
       "                   Quantile 99  Mean  \n",
       "Aggregation level                     \n",
       "1                    18.475307     7  \n",
       "2                    18.475307     7  \n",
       "5                    18.475307     7  \n",
       "10                   18.475307     7  \n",
       "20                   18.475307     7  \n",
       "50                   18.475307     7  "
      ]
     },
     "execution_count": 33,
     "metadata": {},
     "output_type": "execute_result"
    }
   ],
   "source": [
    "df = cmt.test_by_aggregation_level(\n",
    "    test='NP Statistic',\n",
    "    aggregation_levels=[1,2,5,10,20,50],\n",
    "    k=3,\n",
    "    year=year, month=month, day=None\n",
    ")\n",
    "df"
   ]
  },
  {
   "cell_type": "code",
   "execution_count": null,
   "id": "2c83230d",
   "metadata": {},
   "outputs": [
    {
     "name": "stderr",
     "output_type": "stream",
     "text": [
      "[BTCUSDT→ETHUSDT] Cross test grid:   0%|          | 0/60 [00:00<?, ?it/s]"
     ]
    },
    {
     "name": "stdout",
     "output_type": "stream",
     "text": [
      "[DataManager] Loading parquet file: data/raw_data_parquet\\BTCUSDT-trades-2025-02.parquet\n",
      "[DataManager] Loading parquet file: data/raw_data_parquet\\ETHUSDT-trades-2025-02.parquet\n",
      "[DataManager] Loading parquet file: data/raw_data_parquet\\ETHUSDT-trades-2025-02.parquet\n",
      "[DEBUG] self.blocks_ctx will be created\n"
     ]
    },
    {
     "name": "stderr",
     "output_type": "stream",
     "text": [
      "[BTCUSDT→ETHUSDT] Cross test grid:   2%|▏         | 1/60 [02:01<1:59:19, 121.34s/it]"
     ]
    },
    {
     "name": "stdout",
     "output_type": "stream",
     "text": [
      "[DEBUG] self.blocks_ctx will be created\n"
     ]
    },
    {
     "name": "stderr",
     "output_type": "stream",
     "text": [
      "[BTCUSDT→ETHUSDT] Cross test grid:   3%|▎         | 2/60 [02:23<1:00:52, 62.97s/it] "
     ]
    },
    {
     "name": "stdout",
     "output_type": "stream",
     "text": [
      "[DEBUG] self.blocks_ctx will be created\n"
     ]
    },
    {
     "name": "stderr",
     "output_type": "stream",
     "text": [
      "[BTCUSDT→ETHUSDT] Cross test grid:   5%|▌         | 3/60 [02:40<40:00, 42.12s/it]  "
     ]
    },
    {
     "name": "stdout",
     "output_type": "stream",
     "text": [
      "[DEBUG] self.blocks_ctx will be created\n"
     ]
    },
    {
     "name": "stderr",
     "output_type": "stream",
     "text": [
      "[BTCUSDT→ETHUSDT] Cross test grid:   7%|▋         | 4/60 [02:56<29:27, 31.56s/it]"
     ]
    },
    {
     "name": "stdout",
     "output_type": "stream",
     "text": [
      "[DEBUG] self.blocks_ctx will be created\n"
     ]
    },
    {
     "name": "stderr",
     "output_type": "stream",
     "text": [
      "[BTCUSDT→ETHUSDT] Cross test grid:   8%|▊         | 5/60 [03:11<23:32, 25.68s/it]"
     ]
    },
    {
     "name": "stdout",
     "output_type": "stream",
     "text": [
      "[DEBUG] self.blocks_ctx will be created\n"
     ]
    },
    {
     "name": "stderr",
     "output_type": "stream",
     "text": [
      "[BTCUSDT→ETHUSDT] Cross test grid:  10%|█         | 6/60 [03:25<19:41, 21.89s/it]"
     ]
    },
    {
     "name": "stdout",
     "output_type": "stream",
     "text": [
      "[DEBUG] self.blocks_ctx will be created\n"
     ]
    },
    {
     "name": "stderr",
     "output_type": "stream",
     "text": [
      "[BTCUSDT→ETHUSDT] Cross test grid:  12%|█▏        | 7/60 [03:40<17:10, 19.45s/it]"
     ]
    },
    {
     "name": "stdout",
     "output_type": "stream",
     "text": [
      "[DEBUG] self.blocks_ctx will be created\n"
     ]
    },
    {
     "name": "stderr",
     "output_type": "stream",
     "text": [
      "[BTCUSDT→ETHUSDT] Cross test grid:  13%|█▎        | 8/60 [03:54<15:31, 17.91s/it]"
     ]
    },
    {
     "name": "stdout",
     "output_type": "stream",
     "text": [
      "[DEBUG] self.blocks_ctx will be created\n"
     ]
    },
    {
     "name": "stderr",
     "output_type": "stream",
     "text": [
      "[BTCUSDT→ETHUSDT] Cross test grid:  15%|█▌        | 9/60 [04:09<14:24, 16.95s/it]"
     ]
    },
    {
     "name": "stdout",
     "output_type": "stream",
     "text": [
      "[DEBUG] self.blocks_ctx will be created\n"
     ]
    },
    {
     "name": "stderr",
     "output_type": "stream",
     "text": [
      "[BTCUSDT→ETHUSDT] Cross test grid:  17%|█▋        | 10/60 [04:25<13:42, 16.44s/it]"
     ]
    },
    {
     "name": "stdout",
     "output_type": "stream",
     "text": [
      "[DataManager] Loading parquet file: data/raw_data_parquet\\BTCUSDT-trades-2025-02.parquet\n",
      "[DataManager] Loading parquet file: data/raw_data_parquet\\ETHUSDT-trades-2025-02.parquet\n",
      "[DataManager] Loading parquet file: data/raw_data_parquet\\ETHUSDT-trades-2025-02.parquet\n",
      "[DEBUG] self.blocks_ctx will be created\n"
     ]
    },
    {
     "name": "stderr",
     "output_type": "stream",
     "text": [
      "[BTCUSDT→ETHUSDT] Cross test grid:  18%|█▊        | 11/60 [06:20<38:13, 46.80s/it]"
     ]
    },
    {
     "name": "stdout",
     "output_type": "stream",
     "text": [
      "[DEBUG] self.blocks_ctx will be created\n"
     ]
    },
    {
     "name": "stderr",
     "output_type": "stream",
     "text": [
      "[BTCUSDT→ETHUSDT] Cross test grid:  20%|██        | 12/60 [06:42<31:16, 39.10s/it]"
     ]
    },
    {
     "name": "stdout",
     "output_type": "stream",
     "text": [
      "[DEBUG] self.blocks_ctx will be created\n"
     ]
    },
    {
     "name": "stderr",
     "output_type": "stream",
     "text": [
      "[BTCUSDT→ETHUSDT] Cross test grid:  22%|██▏       | 13/60 [06:59<25:25, 32.46s/it]"
     ]
    },
    {
     "name": "stdout",
     "output_type": "stream",
     "text": [
      "[DEBUG] self.blocks_ctx will be created\n"
     ]
    },
    {
     "name": "stderr",
     "output_type": "stream",
     "text": [
      "[BTCUSDT→ETHUSDT] Cross test grid:  23%|██▎       | 14/60 [07:14<20:53, 27.25s/it]"
     ]
    },
    {
     "name": "stdout",
     "output_type": "stream",
     "text": [
      "[DEBUG] self.blocks_ctx will be created\n"
     ]
    },
    {
     "name": "stderr",
     "output_type": "stream",
     "text": [
      "[BTCUSDT→ETHUSDT] Cross test grid:  25%|██▌       | 15/60 [07:29<17:37, 23.49s/it]"
     ]
    },
    {
     "name": "stdout",
     "output_type": "stream",
     "text": [
      "[DEBUG] self.blocks_ctx will be created\n"
     ]
    },
    {
     "name": "stderr",
     "output_type": "stream",
     "text": [
      "[BTCUSDT→ETHUSDT] Cross test grid:  27%|██▋       | 16/60 [07:43<15:10, 20.70s/it]"
     ]
    },
    {
     "name": "stdout",
     "output_type": "stream",
     "text": [
      "[DEBUG] self.blocks_ctx will be created\n"
     ]
    },
    {
     "name": "stderr",
     "output_type": "stream",
     "text": [
      "[BTCUSDT→ETHUSDT] Cross test grid:  28%|██▊       | 17/60 [07:57<13:27, 18.78s/it]"
     ]
    },
    {
     "name": "stdout",
     "output_type": "stream",
     "text": [
      "[DEBUG] self.blocks_ctx will be created\n"
     ]
    },
    {
     "name": "stderr",
     "output_type": "stream",
     "text": [
      "[BTCUSDT→ETHUSDT] Cross test grid:  30%|███       | 18/60 [08:12<12:13, 17.46s/it]"
     ]
    },
    {
     "name": "stdout",
     "output_type": "stream",
     "text": [
      "[DEBUG] self.blocks_ctx will be created\n"
     ]
    },
    {
     "name": "stderr",
     "output_type": "stream",
     "text": [
      "[BTCUSDT→ETHUSDT] Cross test grid:  32%|███▏      | 19/60 [08:27<11:22, 16.65s/it]"
     ]
    },
    {
     "name": "stdout",
     "output_type": "stream",
     "text": [
      "[DEBUG] self.blocks_ctx will be created\n"
     ]
    },
    {
     "name": "stderr",
     "output_type": "stream",
     "text": [
      "[BTCUSDT→ETHUSDT] Cross test grid:  33%|███▎      | 20/60 [08:42<10:47, 16.19s/it]"
     ]
    },
    {
     "name": "stdout",
     "output_type": "stream",
     "text": [
      "[DataManager] Loading parquet file: data/raw_data_parquet\\BTCUSDT-trades-2025-02.parquet\n",
      "[DataManager] Loading parquet file: data/raw_data_parquet\\ETHUSDT-trades-2025-02.parquet\n",
      "[DataManager] Loading parquet file: data/raw_data_parquet\\ETHUSDT-trades-2025-02.parquet\n",
      "[DEBUG] self.blocks_ctx will be created\n"
     ]
    },
    {
     "name": "stderr",
     "output_type": "stream",
     "text": [
      "[BTCUSDT→ETHUSDT] Cross test grid:  35%|███▌      | 21/60 [11:29<40:05, 61.67s/it]"
     ]
    },
    {
     "name": "stdout",
     "output_type": "stream",
     "text": [
      "[DEBUG] self.blocks_ctx will be created\n"
     ]
    },
    {
     "name": "stderr",
     "output_type": "stream",
     "text": [
      "[BTCUSDT→ETHUSDT] Cross test grid:  37%|███▋      | 22/60 [11:53<31:51, 50.31s/it]"
     ]
    },
    {
     "name": "stdout",
     "output_type": "stream",
     "text": [
      "[DEBUG] self.blocks_ctx will be created\n"
     ]
    },
    {
     "name": "stderr",
     "output_type": "stream",
     "text": [
      "[BTCUSDT→ETHUSDT] Cross test grid:  38%|███▊      | 23/60 [12:12<25:09, 40.80s/it]"
     ]
    },
    {
     "name": "stdout",
     "output_type": "stream",
     "text": [
      "[DEBUG] self.blocks_ctx will be created\n"
     ]
    },
    {
     "name": "stderr",
     "output_type": "stream",
     "text": [
      "[BTCUSDT→ETHUSDT] Cross test grid:  40%|████      | 24/60 [12:28<20:04, 33.47s/it]"
     ]
    },
    {
     "name": "stdout",
     "output_type": "stream",
     "text": [
      "[DEBUG] self.blocks_ctx will be created\n"
     ]
    },
    {
     "name": "stderr",
     "output_type": "stream",
     "text": [
      "[BTCUSDT→ETHUSDT] Cross test grid:  42%|████▏     | 25/60 [12:44<16:20, 28.02s/it]"
     ]
    },
    {
     "name": "stdout",
     "output_type": "stream",
     "text": [
      "[DEBUG] self.blocks_ctx will be created\n"
     ]
    },
    {
     "name": "stderr",
     "output_type": "stream",
     "text": [
      "[BTCUSDT→ETHUSDT] Cross test grid:  43%|████▎     | 26/60 [12:58<13:34, 23.94s/it]"
     ]
    },
    {
     "name": "stdout",
     "output_type": "stream",
     "text": [
      "[DEBUG] self.blocks_ctx will be created\n"
     ]
    },
    {
     "name": "stderr",
     "output_type": "stream",
     "text": [
      "[BTCUSDT→ETHUSDT] Cross test grid:  45%|████▌     | 27/60 [13:12<11:30, 20.93s/it]"
     ]
    },
    {
     "name": "stdout",
     "output_type": "stream",
     "text": [
      "[DEBUG] self.blocks_ctx will be created\n"
     ]
    },
    {
     "name": "stderr",
     "output_type": "stream",
     "text": [
      "[BTCUSDT→ETHUSDT] Cross test grid:  47%|████▋     | 28/60 [13:26<10:00, 18.77s/it]"
     ]
    },
    {
     "name": "stdout",
     "output_type": "stream",
     "text": [
      "[DEBUG] self.blocks_ctx will be created\n"
     ]
    },
    {
     "name": "stderr",
     "output_type": "stream",
     "text": [
      "[BTCUSDT→ETHUSDT] Cross test grid:  48%|████▊     | 29/60 [13:39<08:56, 17.31s/it]"
     ]
    },
    {
     "name": "stdout",
     "output_type": "stream",
     "text": [
      "[DEBUG] self.blocks_ctx will be created\n"
     ]
    },
    {
     "name": "stderr",
     "output_type": "stream",
     "text": [
      "[BTCUSDT→ETHUSDT] Cross test grid:  50%|█████     | 30/60 [13:54<08:13, 16.46s/it]"
     ]
    },
    {
     "name": "stdout",
     "output_type": "stream",
     "text": [
      "[DataManager] Loading parquet file: data/raw_data_parquet\\BTCUSDT-trades-2025-02.parquet\n",
      "[DataManager] Loading parquet file: data/raw_data_parquet\\ETHUSDT-trades-2025-02.parquet\n",
      "[DataManager] Loading parquet file: data/raw_data_parquet\\ETHUSDT-trades-2025-02.parquet\n",
      "[DEBUG] self.blocks_ctx will be created\n"
     ]
    },
    {
     "name": "stderr",
     "output_type": "stream",
     "text": [
      "[BTCUSDT→ETHUSDT] Cross test grid:  52%|█████▏    | 31/60 [16:13<25:45, 53.28s/it]"
     ]
    },
    {
     "name": "stdout",
     "output_type": "stream",
     "text": [
      "[DEBUG] self.blocks_ctx will be created\n"
     ]
    },
    {
     "name": "stderr",
     "output_type": "stream",
     "text": [
      "[BTCUSDT→ETHUSDT] Cross test grid:  53%|█████▎    | 32/60 [16:26<19:10, 41.10s/it]"
     ]
    },
    {
     "name": "stdout",
     "output_type": "stream",
     "text": [
      "[DEBUG] self.blocks_ctx will be created\n"
     ]
    },
    {
     "name": "stderr",
     "output_type": "stream",
     "text": [
      "[BTCUSDT→ETHUSDT] Cross test grid:  55%|█████▌    | 33/60 [16:35<14:12, 31.59s/it]"
     ]
    },
    {
     "name": "stdout",
     "output_type": "stream",
     "text": [
      "[DEBUG] self.blocks_ctx will be created\n"
     ]
    },
    {
     "name": "stderr",
     "output_type": "stream",
     "text": [
      "[BTCUSDT→ETHUSDT] Cross test grid:  57%|█████▋    | 34/60 [16:45<10:47, 24.90s/it]"
     ]
    },
    {
     "name": "stdout",
     "output_type": "stream",
     "text": [
      "[DEBUG] self.blocks_ctx will be created\n"
     ]
    },
    {
     "name": "stderr",
     "output_type": "stream",
     "text": [
      "[BTCUSDT→ETHUSDT] Cross test grid:  58%|█████▊    | 35/60 [16:53<08:21, 20.07s/it]"
     ]
    },
    {
     "name": "stdout",
     "output_type": "stream",
     "text": [
      "[DEBUG] self.blocks_ctx will be created\n"
     ]
    },
    {
     "name": "stderr",
     "output_type": "stream",
     "text": [
      "[BTCUSDT→ETHUSDT] Cross test grid:  60%|██████    | 36/60 [17:02<06:38, 16.60s/it]"
     ]
    },
    {
     "name": "stdout",
     "output_type": "stream",
     "text": [
      "[DEBUG] self.blocks_ctx will be created\n"
     ]
    },
    {
     "name": "stderr",
     "output_type": "stream",
     "text": [
      "[BTCUSDT→ETHUSDT] Cross test grid:  62%|██████▏   | 37/60 [17:10<05:24, 14.11s/it]"
     ]
    },
    {
     "name": "stdout",
     "output_type": "stream",
     "text": [
      "[DEBUG] self.blocks_ctx will be created\n"
     ]
    },
    {
     "name": "stderr",
     "output_type": "stream",
     "text": [
      "[BTCUSDT→ETHUSDT] Cross test grid:  63%|██████▎   | 38/60 [17:18<04:32, 12.37s/it]"
     ]
    },
    {
     "name": "stdout",
     "output_type": "stream",
     "text": [
      "[DEBUG] self.blocks_ctx will be created\n"
     ]
    },
    {
     "name": "stderr",
     "output_type": "stream",
     "text": [
      "[BTCUSDT→ETHUSDT] Cross test grid:  65%|██████▌   | 39/60 [17:27<03:56, 11.26s/it]"
     ]
    },
    {
     "name": "stdout",
     "output_type": "stream",
     "text": [
      "[DEBUG] self.blocks_ctx will be created\n"
     ]
    },
    {
     "name": "stderr",
     "output_type": "stream",
     "text": [
      "[BTCUSDT→ETHUSDT] Cross test grid:  67%|██████▋   | 40/60 [17:36<03:31, 10.59s/it]"
     ]
    },
    {
     "name": "stdout",
     "output_type": "stream",
     "text": [
      "[DataManager] Loading parquet file: data/raw_data_parquet\\BTCUSDT-trades-2025-02.parquet\n",
      "[DataManager] Loading parquet file: data/raw_data_parquet\\ETHUSDT-trades-2025-02.parquet\n",
      "[DataManager] Loading parquet file: data/raw_data_parquet\\ETHUSDT-trades-2025-02.parquet\n",
      "[DEBUG] self.blocks_ctx will be created\n"
     ]
    },
    {
     "name": "stderr",
     "output_type": "stream",
     "text": [
      "[BTCUSDT→ETHUSDT] Cross test grid:  68%|██████▊   | 41/60 [19:43<14:23, 45.44s/it]"
     ]
    },
    {
     "name": "stdout",
     "output_type": "stream",
     "text": [
      "[DEBUG] self.blocks_ctx will be created\n"
     ]
    },
    {
     "name": "stderr",
     "output_type": "stream",
     "text": [
      "[BTCUSDT→ETHUSDT] Cross test grid:  70%|███████   | 42/60 [19:50<10:12, 34.02s/it]"
     ]
    },
    {
     "name": "stdout",
     "output_type": "stream",
     "text": [
      "[DEBUG] self.blocks_ctx will be created\n"
     ]
    },
    {
     "name": "stderr",
     "output_type": "stream",
     "text": [
      "[BTCUSDT→ETHUSDT] Cross test grid:  72%|███████▏  | 43/60 [19:56<07:13, 25.52s/it]"
     ]
    },
    {
     "name": "stdout",
     "output_type": "stream",
     "text": [
      "[DEBUG] self.blocks_ctx will be created\n"
     ]
    },
    {
     "name": "stderr",
     "output_type": "stream",
     "text": [
      "[BTCUSDT→ETHUSDT] Cross test grid:  73%|███████▎  | 44/60 [20:01<05:09, 19.33s/it]"
     ]
    },
    {
     "name": "stdout",
     "output_type": "stream",
     "text": [
      "[DEBUG] self.blocks_ctx will be created\n"
     ]
    },
    {
     "name": "stderr",
     "output_type": "stream",
     "text": [
      "[BTCUSDT→ETHUSDT] Cross test grid:  75%|███████▌  | 45/60 [20:06<03:44, 14.94s/it]"
     ]
    },
    {
     "name": "stdout",
     "output_type": "stream",
     "text": [
      "[DEBUG] self.blocks_ctx will be created\n"
     ]
    },
    {
     "name": "stderr",
     "output_type": "stream",
     "text": [
      "[BTCUSDT→ETHUSDT] Cross test grid:  77%|███████▋  | 46/60 [20:10<02:45, 11.81s/it]"
     ]
    },
    {
     "name": "stdout",
     "output_type": "stream",
     "text": [
      "[DEBUG] self.blocks_ctx will be created\n"
     ]
    },
    {
     "name": "stderr",
     "output_type": "stream",
     "text": [
      "[BTCUSDT→ETHUSDT] Cross test grid:  78%|███████▊  | 47/60 [20:14<02:04,  9.56s/it]"
     ]
    },
    {
     "name": "stdout",
     "output_type": "stream",
     "text": [
      "[DEBUG] self.blocks_ctx will be created\n"
     ]
    },
    {
     "name": "stderr",
     "output_type": "stream",
     "text": [
      "[BTCUSDT→ETHUSDT] Cross test grid:  80%|████████  | 48/60 [20:19<01:36,  8.02s/it]"
     ]
    },
    {
     "name": "stdout",
     "output_type": "stream",
     "text": [
      "[DEBUG] self.blocks_ctx will be created\n"
     ]
    },
    {
     "name": "stderr",
     "output_type": "stream",
     "text": [
      "[BTCUSDT→ETHUSDT] Cross test grid:  82%|████████▏ | 49/60 [20:23<01:16,  6.94s/it]"
     ]
    },
    {
     "name": "stdout",
     "output_type": "stream",
     "text": [
      "[DEBUG] self.blocks_ctx will be created\n"
     ]
    },
    {
     "name": "stderr",
     "output_type": "stream",
     "text": [
      "[BTCUSDT→ETHUSDT] Cross test grid:  83%|████████▎ | 50/60 [20:28<01:02,  6.20s/it]"
     ]
    },
    {
     "name": "stdout",
     "output_type": "stream",
     "text": [
      "[DataManager] Loading parquet file: data/raw_data_parquet\\BTCUSDT-trades-2025-02.parquet\n",
      "[DataManager] Loading parquet file: data/raw_data_parquet\\ETHUSDT-trades-2025-02.parquet\n",
      "[DataManager] Loading parquet file: data/raw_data_parquet\\ETHUSDT-trades-2025-02.parquet\n",
      "[DEBUG] self.blocks_ctx will be created\n"
     ]
    },
    {
     "name": "stderr",
     "output_type": "stream",
     "text": [
      "[BTCUSDT→ETHUSDT] Cross test grid:  85%|████████▌ | 51/60 [22:13<05:24, 36.08s/it]"
     ]
    },
    {
     "name": "stdout",
     "output_type": "stream",
     "text": [
      "[DEBUG] self.blocks_ctx will be created\n"
     ]
    },
    {
     "name": "stderr",
     "output_type": "stream",
     "text": [
      "[BTCUSDT→ETHUSDT] Cross test grid:  87%|████████▋ | 52/60 [22:17<03:29, 26.21s/it]"
     ]
    },
    {
     "name": "stdout",
     "output_type": "stream",
     "text": [
      "[DEBUG] self.blocks_ctx will be created\n"
     ]
    },
    {
     "name": "stderr",
     "output_type": "stream",
     "text": [
      "[BTCUSDT→ETHUSDT] Cross test grid:  88%|████████▊ | 53/60 [22:19<02:13, 19.10s/it]"
     ]
    },
    {
     "name": "stdout",
     "output_type": "stream",
     "text": [
      "[DEBUG] self.blocks_ctx will be created\n"
     ]
    },
    {
     "name": "stderr",
     "output_type": "stream",
     "text": [
      "[BTCUSDT→ETHUSDT] Cross test grid:  90%|█████████ | 54/60 [22:21<01:24, 14.06s/it]"
     ]
    },
    {
     "name": "stdout",
     "output_type": "stream",
     "text": [
      "[DEBUG] self.blocks_ctx will be created\n"
     ]
    },
    {
     "name": "stderr",
     "output_type": "stream",
     "text": [
      "[BTCUSDT→ETHUSDT] Cross test grid:  92%|█████████▏| 55/60 [22:24<00:52, 10.55s/it]"
     ]
    },
    {
     "name": "stdout",
     "output_type": "stream",
     "text": [
      "[DEBUG] self.blocks_ctx will be created\n"
     ]
    },
    {
     "name": "stderr",
     "output_type": "stream",
     "text": [
      "[BTCUSDT→ETHUSDT] Cross test grid:  93%|█████████▎| 56/60 [22:26<00:31,  8.00s/it]"
     ]
    },
    {
     "name": "stdout",
     "output_type": "stream",
     "text": [
      "[DEBUG] self.blocks_ctx will be created\n"
     ]
    },
    {
     "name": "stderr",
     "output_type": "stream",
     "text": [
      "[BTCUSDT→ETHUSDT] Cross test grid:  95%|█████████▌| 57/60 [22:28<00:18,  6.21s/it]"
     ]
    },
    {
     "name": "stdout",
     "output_type": "stream",
     "text": [
      "[DEBUG] self.blocks_ctx will be created\n"
     ]
    },
    {
     "name": "stderr",
     "output_type": "stream",
     "text": [
      "[BTCUSDT→ETHUSDT] Cross test grid:  97%|█████████▋| 58/60 [22:30<00:09,  4.99s/it]"
     ]
    },
    {
     "name": "stdout",
     "output_type": "stream",
     "text": [
      "[DEBUG] self.blocks_ctx will be created\n"
     ]
    },
    {
     "name": "stderr",
     "output_type": "stream",
     "text": [
      "[BTCUSDT→ETHUSDT] Cross test grid:  98%|█████████▊| 59/60 [22:32<00:04,  4.12s/it]"
     ]
    },
    {
     "name": "stdout",
     "output_type": "stream",
     "text": [
      "[DEBUG] self.blocks_ctx will be created\n"
     ]
    },
    {
     "name": "stderr",
     "output_type": "stream",
     "text": [
      "[BTCUSDT→ETHUSDT] Cross test grid: 100%|██████████| 60/60 [22:34<00:00, 22.58s/it]\n"
     ]
    },
    {
     "data": {
      "application/vnd.plotly.v1+json": {
       "config": {
        "plotlyServerURL": "https://plot.ly"
       },
       "data": [
        {
         "colorscale": [
          [
           0,
           "#440154"
          ],
          [
           0.1111111111111111,
           "#482878"
          ],
          [
           0.2222222222222222,
           "#3e4989"
          ],
          [
           0.3333333333333333,
           "#31688e"
          ],
          [
           0.4444444444444444,
           "#26828e"
          ],
          [
           0.5555555555555556,
           "#1f9e89"
          ],
          [
           0.6666666666666666,
           "#35b779"
          ],
          [
           0.7777777777777778,
           "#6ece58"
          ],
          [
           0.8888888888888888,
           "#b5de2b"
          ],
          [
           1,
           "#fde725"
          ]
         ],
         "name": "NP Statistic",
         "type": "surface",
         "x": [
          [
           1,
           1,
           1,
           1,
           1,
           1,
           1,
           1,
           1,
           1
          ],
          [
           2,
           2,
           2,
           2,
           2,
           2,
           2,
           2,
           2,
           2
          ],
          [
           3,
           3,
           3,
           3,
           3,
           3,
           3,
           3,
           3,
           3
          ],
          [
           4,
           4,
           4,
           4,
           4,
           4,
           4,
           4,
           4,
           4
          ],
          [
           5,
           5,
           5,
           5,
           5,
           5,
           5,
           5,
           5,
           5
          ],
          [
           6,
           6,
           6,
           6,
           6,
           6,
           6,
           6,
           6,
           6
          ],
          [
           7,
           7,
           7,
           7,
           7,
           7,
           7,
           7,
           7,
           7
          ],
          [
           8,
           8,
           8,
           8,
           8,
           8,
           8,
           8,
           8,
           8
          ],
          [
           9,
           9,
           9,
           9,
           9,
           9,
           9,
           9,
           9,
           9
          ],
          [
           10,
           10,
           10,
           10,
           10,
           10,
           10,
           10,
           10,
           10
          ],
          [
           11,
           11,
           11,
           11,
           11,
           11,
           11,
           11,
           11,
           11
          ],
          [
           12,
           12,
           12,
           12,
           12,
           12,
           12,
           12,
           12,
           12
          ],
          [
           13,
           13,
           13,
           13,
           13,
           13,
           13,
           13,
           13,
           13
          ],
          [
           14,
           14,
           14,
           14,
           14,
           14,
           14,
           14,
           14,
           14
          ],
          [
           15,
           15,
           15,
           15,
           15,
           15,
           15,
           15,
           15,
           15
          ],
          [
           16,
           16,
           16,
           16,
           16,
           16,
           16,
           16,
           16,
           16
          ],
          [
           17,
           17,
           17,
           17,
           17,
           17,
           17,
           17,
           17,
           17
          ],
          [
           18,
           18,
           18,
           18,
           18,
           18,
           18,
           18,
           18,
           18
          ],
          [
           19,
           19,
           19,
           19,
           19,
           19,
           19,
           19,
           19,
           19
          ],
          [
           20,
           20,
           20,
           20,
           20,
           20,
           20,
           20,
           20,
           20
          ],
          [
           21,
           21,
           21,
           21,
           21,
           21,
           21,
           21,
           21,
           21
          ],
          [
           22,
           22,
           22,
           22,
           22,
           22,
           22,
           22,
           22,
           22
          ],
          [
           23,
           23,
           23,
           23,
           23,
           23,
           23,
           23,
           23,
           23
          ],
          [
           24,
           24,
           24,
           24,
           24,
           24,
           24,
           24,
           24,
           24
          ],
          [
           25,
           25,
           25,
           25,
           25,
           25,
           25,
           25,
           25,
           25
          ],
          [
           26,
           26,
           26,
           26,
           26,
           26,
           26,
           26,
           26,
           26
          ],
          [
           27,
           27,
           27,
           27,
           27,
           27,
           27,
           27,
           27,
           27
          ],
          [
           28,
           28,
           28,
           28,
           28,
           28,
           28,
           28,
           28,
           28
          ],
          [
           29,
           29,
           29,
           29,
           29,
           29,
           29,
           29,
           29,
           29
          ],
          [
           30,
           30,
           30,
           30,
           30,
           30,
           30,
           30,
           30,
           30
          ],
          [
           31,
           31,
           31,
           31,
           31,
           31,
           31,
           31,
           31,
           31
          ],
          [
           32,
           32,
           32,
           32,
           32,
           32,
           32,
           32,
           32,
           32
          ],
          [
           33,
           33,
           33,
           33,
           33,
           33,
           33,
           33,
           33,
           33
          ],
          [
           34,
           34,
           34,
           34,
           34,
           34,
           34,
           34,
           34,
           34
          ],
          [
           35,
           35,
           35,
           35,
           35,
           35,
           35,
           35,
           35,
           35
          ],
          [
           36,
           36,
           36,
           36,
           36,
           36,
           36,
           36,
           36,
           36
          ],
          [
           37,
           37,
           37,
           37,
           37,
           37,
           37,
           37,
           37,
           37
          ],
          [
           38,
           38,
           38,
           38,
           38,
           38,
           38,
           38,
           38,
           38
          ],
          [
           39,
           39,
           39,
           39,
           39,
           39,
           39,
           39,
           39,
           39
          ],
          [
           40,
           40,
           40,
           40,
           40,
           40,
           40,
           40,
           40,
           40
          ],
          [
           41,
           41,
           41,
           41,
           41,
           41,
           41,
           41,
           41,
           41
          ],
          [
           42,
           42,
           42,
           42,
           42,
           42,
           42,
           42,
           42,
           42
          ],
          [
           43,
           43,
           43,
           43,
           43,
           43,
           43,
           43,
           43,
           43
          ],
          [
           44,
           44,
           44,
           44,
           44,
           44,
           44,
           44,
           44,
           44
          ],
          [
           45,
           45,
           45,
           45,
           45,
           45,
           45,
           45,
           45,
           45
          ],
          [
           46,
           46,
           46,
           46,
           46,
           46,
           46,
           46,
           46,
           46
          ],
          [
           47,
           47,
           47,
           47,
           47,
           47,
           47,
           47,
           47,
           47
          ],
          [
           48,
           48,
           48,
           48,
           48,
           48,
           48,
           48,
           48,
           48
          ],
          [
           49,
           49,
           49,
           49,
           49,
           49,
           49,
           49,
           49,
           49
          ],
          [
           50,
           50,
           50,
           50,
           50,
           50,
           50,
           50,
           50,
           50
          ]
         ],
         "y": [
          [
           1,
           2,
           3,
           4,
           5,
           6,
           7,
           8,
           9,
           10
          ],
          [
           1,
           2,
           3,
           4,
           5,
           6,
           7,
           8,
           9,
           10
          ],
          [
           1,
           2,
           3,
           4,
           5,
           6,
           7,
           8,
           9,
           10
          ],
          [
           1,
           2,
           3,
           4,
           5,
           6,
           7,
           8,
           9,
           10
          ],
          [
           1,
           2,
           3,
           4,
           5,
           6,
           7,
           8,
           9,
           10
          ],
          [
           1,
           2,
           3,
           4,
           5,
           6,
           7,
           8,
           9,
           10
          ],
          [
           1,
           2,
           3,
           4,
           5,
           6,
           7,
           8,
           9,
           10
          ],
          [
           1,
           2,
           3,
           4,
           5,
           6,
           7,
           8,
           9,
           10
          ],
          [
           1,
           2,
           3,
           4,
           5,
           6,
           7,
           8,
           9,
           10
          ],
          [
           1,
           2,
           3,
           4,
           5,
           6,
           7,
           8,
           9,
           10
          ],
          [
           1,
           2,
           3,
           4,
           5,
           6,
           7,
           8,
           9,
           10
          ],
          [
           1,
           2,
           3,
           4,
           5,
           6,
           7,
           8,
           9,
           10
          ],
          [
           1,
           2,
           3,
           4,
           5,
           6,
           7,
           8,
           9,
           10
          ],
          [
           1,
           2,
           3,
           4,
           5,
           6,
           7,
           8,
           9,
           10
          ],
          [
           1,
           2,
           3,
           4,
           5,
           6,
           7,
           8,
           9,
           10
          ],
          [
           1,
           2,
           3,
           4,
           5,
           6,
           7,
           8,
           9,
           10
          ],
          [
           1,
           2,
           3,
           4,
           5,
           6,
           7,
           8,
           9,
           10
          ],
          [
           1,
           2,
           3,
           4,
           5,
           6,
           7,
           8,
           9,
           10
          ],
          [
           1,
           2,
           3,
           4,
           5,
           6,
           7,
           8,
           9,
           10
          ],
          [
           1,
           2,
           3,
           4,
           5,
           6,
           7,
           8,
           9,
           10
          ],
          [
           1,
           2,
           3,
           4,
           5,
           6,
           7,
           8,
           9,
           10
          ],
          [
           1,
           2,
           3,
           4,
           5,
           6,
           7,
           8,
           9,
           10
          ],
          [
           1,
           2,
           3,
           4,
           5,
           6,
           7,
           8,
           9,
           10
          ],
          [
           1,
           2,
           3,
           4,
           5,
           6,
           7,
           8,
           9,
           10
          ],
          [
           1,
           2,
           3,
           4,
           5,
           6,
           7,
           8,
           9,
           10
          ],
          [
           1,
           2,
           3,
           4,
           5,
           6,
           7,
           8,
           9,
           10
          ],
          [
           1,
           2,
           3,
           4,
           5,
           6,
           7,
           8,
           9,
           10
          ],
          [
           1,
           2,
           3,
           4,
           5,
           6,
           7,
           8,
           9,
           10
          ],
          [
           1,
           2,
           3,
           4,
           5,
           6,
           7,
           8,
           9,
           10
          ],
          [
           1,
           2,
           3,
           4,
           5,
           6,
           7,
           8,
           9,
           10
          ],
          [
           1,
           2,
           3,
           4,
           5,
           6,
           7,
           8,
           9,
           10
          ],
          [
           1,
           2,
           3,
           4,
           5,
           6,
           7,
           8,
           9,
           10
          ],
          [
           1,
           2,
           3,
           4,
           5,
           6,
           7,
           8,
           9,
           10
          ],
          [
           1,
           2,
           3,
           4,
           5,
           6,
           7,
           8,
           9,
           10
          ],
          [
           1,
           2,
           3,
           4,
           5,
           6,
           7,
           8,
           9,
           10
          ],
          [
           1,
           2,
           3,
           4,
           5,
           6,
           7,
           8,
           9,
           10
          ],
          [
           1,
           2,
           3,
           4,
           5,
           6,
           7,
           8,
           9,
           10
          ],
          [
           1,
           2,
           3,
           4,
           5,
           6,
           7,
           8,
           9,
           10
          ],
          [
           1,
           2,
           3,
           4,
           5,
           6,
           7,
           8,
           9,
           10
          ],
          [
           1,
           2,
           3,
           4,
           5,
           6,
           7,
           8,
           9,
           10
          ],
          [
           1,
           2,
           3,
           4,
           5,
           6,
           7,
           8,
           9,
           10
          ],
          [
           1,
           2,
           3,
           4,
           5,
           6,
           7,
           8,
           9,
           10
          ],
          [
           1,
           2,
           3,
           4,
           5,
           6,
           7,
           8,
           9,
           10
          ],
          [
           1,
           2,
           3,
           4,
           5,
           6,
           7,
           8,
           9,
           10
          ],
          [
           1,
           2,
           3,
           4,
           5,
           6,
           7,
           8,
           9,
           10
          ],
          [
           1,
           2,
           3,
           4,
           5,
           6,
           7,
           8,
           9,
           10
          ],
          [
           1,
           2,
           3,
           4,
           5,
           6,
           7,
           8,
           9,
           10
          ],
          [
           1,
           2,
           3,
           4,
           5,
           6,
           7,
           8,
           9,
           10
          ],
          [
           1,
           2,
           3,
           4,
           5,
           6,
           7,
           8,
           9,
           10
          ],
          [
           1,
           2,
           3,
           4,
           5,
           6,
           7,
           8,
           9,
           10
          ]
         ],
         "z": [
          [
           13.066113999020672,
           51.203086210484344,
           86.84005331682602,
           134.74122637606888,
           187.7386765463225,
           261.19746068015183,
           363.95065780562743,
           516.3452157963019,
           797.7065387248684,
           1402.7911037454694
          ],
          [
           42.10673350093566,
           60.33938335591256,
           107.58426083219138,
           148.50957098187882,
           197.20733615379368,
           276.1757448801054,
           387.02068369687663,
           563.4396466277044,
           881.2791308050412,
           1407.4821075141535
          ],
          [
           0,
           0,
           0,
           0,
           0,
           0,
           0,
           0,
           0,
           0
          ],
          [
           0,
           0,
           0,
           0,
           0,
           0,
           0,
           0,
           0,
           0
          ],
          [
           3.0122830763780257,
           4.5844735339182705,
           26.58920055304884,
           49.738250861523056,
           75.91525467812164,
           121.62548079810756,
           211.3708101917981,
           376.25751665292756,
           646.1597315670506,
           1132.8733876850465
          ],
          [
           0,
           0,
           0,
           0,
           0,
           0,
           0,
           0,
           0,
           0
          ],
          [
           0,
           0,
           0,
           0,
           0,
           0,
           0,
           0,
           0,
           0
          ],
          [
           0,
           0,
           0,
           0,
           0,
           0,
           0,
           0,
           0,
           0
          ],
          [
           0,
           0,
           0,
           0,
           0,
           0,
           0,
           0,
           0,
           0
          ],
          [
           14.412943125751553,
           31.85847441905389,
           42.50815152108885,
           56.382750363217156,
           87.82625655236234,
           155.434784445868,
           259.3202400179288,
           432.3074117213156,
           746.1146578715768,
           1405.5083710017661
          ],
          [
           0,
           0,
           0,
           0,
           0,
           0,
           0,
           0,
           0,
           0
          ],
          [
           0,
           0,
           0,
           0,
           0,
           0,
           0,
           0,
           0,
           0
          ],
          [
           0,
           0,
           0,
           0,
           0,
           0,
           0,
           0,
           0,
           0
          ],
          [
           0,
           0,
           0,
           0,
           0,
           0,
           0,
           0,
           0,
           0
          ],
          [
           0,
           0,
           0,
           0,
           0,
           0,
           0,
           0,
           0,
           0
          ],
          [
           0,
           0,
           0,
           0,
           0,
           0,
           0,
           0,
           0,
           0
          ],
          [
           0,
           0,
           0,
           0,
           0,
           0,
           0,
           0,
           0,
           0
          ],
          [
           0,
           0,
           0,
           0,
           0,
           0,
           0,
           0,
           0,
           0
          ],
          [
           0,
           0,
           0,
           0,
           0,
           0,
           0,
           0,
           0,
           0
          ],
          [
           0.0167422387312115,
           0.21146704771125258,
           5.595404575633609,
           16.5756364893021,
           30.96047713252021,
           57.759485688257676,
           111.74391216908116,
           213.20299837047114,
           473.24859468481304,
           977.7233588978147
          ],
          [
           0,
           0,
           0,
           0,
           0,
           0,
           0,
           0,
           0,
           0
          ],
          [
           0,
           0,
           0,
           0,
           0,
           0,
           0,
           0,
           0,
           0
          ],
          [
           0,
           0,
           0,
           0,
           0,
           0,
           0,
           0,
           0,
           0
          ],
          [
           0,
           0,
           0,
           0,
           0,
           0,
           0,
           0,
           0,
           0
          ],
          [
           0,
           0,
           0,
           0,
           0,
           0,
           0,
           0,
           0,
           0
          ],
          [
           0,
           0,
           0,
           0,
           0,
           0,
           0,
           0,
           0,
           0
          ],
          [
           0,
           0,
           0,
           0,
           0,
           0,
           0,
           0,
           0,
           0
          ],
          [
           0,
           0,
           0,
           0,
           0,
           0,
           0,
           0,
           0,
           0
          ],
          [
           0,
           0,
           0,
           0,
           0,
           0,
           0,
           0,
           0,
           0
          ],
          [
           0,
           0,
           0,
           0,
           0,
           0,
           0,
           0,
           0,
           0
          ],
          [
           0,
           0,
           0,
           0,
           0,
           0,
           0,
           0,
           0,
           0
          ],
          [
           0,
           0,
           0,
           0,
           0,
           0,
           0,
           0,
           0,
           0
          ],
          [
           0,
           0,
           0,
           0,
           0,
           0,
           0,
           0,
           0,
           0
          ],
          [
           0,
           0,
           0,
           0,
           0,
           0,
           0,
           0,
           0,
           0
          ],
          [
           0,
           0,
           0,
           0,
           0,
           0,
           0,
           0,
           0,
           0
          ],
          [
           0,
           0,
           0,
           0,
           0,
           0,
           0,
           0,
           0,
           0
          ],
          [
           0,
           0,
           0,
           0,
           0,
           0,
           0,
           0,
           0,
           0
          ],
          [
           0,
           0,
           0,
           0,
           0,
           0,
           0,
           0,
           0,
           0
          ],
          [
           0,
           0,
           0,
           0,
           0,
           0,
           0,
           0,
           0,
           0
          ],
          [
           0,
           0,
           0,
           0,
           0,
           0,
           0,
           0,
           0,
           0
          ],
          [
           0,
           0,
           0,
           0,
           0,
           0,
           0,
           0,
           0,
           0
          ],
          [
           0,
           0,
           0,
           0,
           0,
           0,
           0,
           0,
           0,
           0
          ],
          [
           0,
           0,
           0,
           0,
           0,
           0,
           0,
           0,
           0,
           0
          ],
          [
           0,
           0,
           0,
           0,
           0,
           0,
           0,
           0,
           0,
           0
          ],
          [
           0,
           0,
           0,
           0,
           0,
           0,
           0,
           0,
           0,
           0
          ],
          [
           0,
           0,
           0,
           0,
           0,
           0,
           0,
           0,
           0,
           0
          ],
          [
           0,
           0,
           0,
           0,
           0,
           0,
           0,
           0,
           0,
           0
          ],
          [
           0,
           0,
           0,
           0,
           0,
           0,
           0,
           0,
           0,
           0
          ],
          [
           0,
           0,
           0,
           0,
           0,
           0,
           0,
           0,
           0,
           0
          ],
          [
           0.0014162450141377292,
           13.310786748371697,
           23.93675236207764,
           31.35409682819784,
           49.63819688292551,
           79.04430004205051,
           132.14011766386665,
           270.2380018496205,
           537.8848421903008,
           1053.332522989504
          ]
         ]
        },
        {
         "colorscale": [
          [
           0,
           "#00224e"
          ],
          [
           0.1111111111111111,
           "#123570"
          ],
          [
           0.2222222222222222,
           "#3b496c"
          ],
          [
           0.3333333333333333,
           "#575d6d"
          ],
          [
           0.4444444444444444,
           "#707173"
          ],
          [
           0.5555555555555556,
           "#8a8678"
          ],
          [
           0.6666666666666666,
           "#a59c74"
          ],
          [
           0.7777777777777778,
           "#c3b369"
          ],
          [
           0.8888888888888888,
           "#e1cc55"
          ],
          [
           1,
           "#fee838"
          ]
         ],
         "name": "Quantile 99",
         "showscale": false,
         "type": "surface",
         "x": [
          [
           1,
           1,
           1,
           1,
           1,
           1,
           1,
           1,
           1,
           1
          ],
          [
           2,
           2,
           2,
           2,
           2,
           2,
           2,
           2,
           2,
           2
          ],
          [
           3,
           3,
           3,
           3,
           3,
           3,
           3,
           3,
           3,
           3
          ],
          [
           4,
           4,
           4,
           4,
           4,
           4,
           4,
           4,
           4,
           4
          ],
          [
           5,
           5,
           5,
           5,
           5,
           5,
           5,
           5,
           5,
           5
          ],
          [
           6,
           6,
           6,
           6,
           6,
           6,
           6,
           6,
           6,
           6
          ],
          [
           7,
           7,
           7,
           7,
           7,
           7,
           7,
           7,
           7,
           7
          ],
          [
           8,
           8,
           8,
           8,
           8,
           8,
           8,
           8,
           8,
           8
          ],
          [
           9,
           9,
           9,
           9,
           9,
           9,
           9,
           9,
           9,
           9
          ],
          [
           10,
           10,
           10,
           10,
           10,
           10,
           10,
           10,
           10,
           10
          ],
          [
           11,
           11,
           11,
           11,
           11,
           11,
           11,
           11,
           11,
           11
          ],
          [
           12,
           12,
           12,
           12,
           12,
           12,
           12,
           12,
           12,
           12
          ],
          [
           13,
           13,
           13,
           13,
           13,
           13,
           13,
           13,
           13,
           13
          ],
          [
           14,
           14,
           14,
           14,
           14,
           14,
           14,
           14,
           14,
           14
          ],
          [
           15,
           15,
           15,
           15,
           15,
           15,
           15,
           15,
           15,
           15
          ],
          [
           16,
           16,
           16,
           16,
           16,
           16,
           16,
           16,
           16,
           16
          ],
          [
           17,
           17,
           17,
           17,
           17,
           17,
           17,
           17,
           17,
           17
          ],
          [
           18,
           18,
           18,
           18,
           18,
           18,
           18,
           18,
           18,
           18
          ],
          [
           19,
           19,
           19,
           19,
           19,
           19,
           19,
           19,
           19,
           19
          ],
          [
           20,
           20,
           20,
           20,
           20,
           20,
           20,
           20,
           20,
           20
          ],
          [
           21,
           21,
           21,
           21,
           21,
           21,
           21,
           21,
           21,
           21
          ],
          [
           22,
           22,
           22,
           22,
           22,
           22,
           22,
           22,
           22,
           22
          ],
          [
           23,
           23,
           23,
           23,
           23,
           23,
           23,
           23,
           23,
           23
          ],
          [
           24,
           24,
           24,
           24,
           24,
           24,
           24,
           24,
           24,
           24
          ],
          [
           25,
           25,
           25,
           25,
           25,
           25,
           25,
           25,
           25,
           25
          ],
          [
           26,
           26,
           26,
           26,
           26,
           26,
           26,
           26,
           26,
           26
          ],
          [
           27,
           27,
           27,
           27,
           27,
           27,
           27,
           27,
           27,
           27
          ],
          [
           28,
           28,
           28,
           28,
           28,
           28,
           28,
           28,
           28,
           28
          ],
          [
           29,
           29,
           29,
           29,
           29,
           29,
           29,
           29,
           29,
           29
          ],
          [
           30,
           30,
           30,
           30,
           30,
           30,
           30,
           30,
           30,
           30
          ],
          [
           31,
           31,
           31,
           31,
           31,
           31,
           31,
           31,
           31,
           31
          ],
          [
           32,
           32,
           32,
           32,
           32,
           32,
           32,
           32,
           32,
           32
          ],
          [
           33,
           33,
           33,
           33,
           33,
           33,
           33,
           33,
           33,
           33
          ],
          [
           34,
           34,
           34,
           34,
           34,
           34,
           34,
           34,
           34,
           34
          ],
          [
           35,
           35,
           35,
           35,
           35,
           35,
           35,
           35,
           35,
           35
          ],
          [
           36,
           36,
           36,
           36,
           36,
           36,
           36,
           36,
           36,
           36
          ],
          [
           37,
           37,
           37,
           37,
           37,
           37,
           37,
           37,
           37,
           37
          ],
          [
           38,
           38,
           38,
           38,
           38,
           38,
           38,
           38,
           38,
           38
          ],
          [
           39,
           39,
           39,
           39,
           39,
           39,
           39,
           39,
           39,
           39
          ],
          [
           40,
           40,
           40,
           40,
           40,
           40,
           40,
           40,
           40,
           40
          ],
          [
           41,
           41,
           41,
           41,
           41,
           41,
           41,
           41,
           41,
           41
          ],
          [
           42,
           42,
           42,
           42,
           42,
           42,
           42,
           42,
           42,
           42
          ],
          [
           43,
           43,
           43,
           43,
           43,
           43,
           43,
           43,
           43,
           43
          ],
          [
           44,
           44,
           44,
           44,
           44,
           44,
           44,
           44,
           44,
           44
          ],
          [
           45,
           45,
           45,
           45,
           45,
           45,
           45,
           45,
           45,
           45
          ],
          [
           46,
           46,
           46,
           46,
           46,
           46,
           46,
           46,
           46,
           46
          ],
          [
           47,
           47,
           47,
           47,
           47,
           47,
           47,
           47,
           47,
           47
          ],
          [
           48,
           48,
           48,
           48,
           48,
           48,
           48,
           48,
           48,
           48
          ],
          [
           49,
           49,
           49,
           49,
           49,
           49,
           49,
           49,
           49,
           49
          ],
          [
           50,
           50,
           50,
           50,
           50,
           50,
           50,
           50,
           50,
           50
          ]
         ],
         "y": [
          [
           1,
           2,
           3,
           4,
           5,
           6,
           7,
           8,
           9,
           10
          ],
          [
           1,
           2,
           3,
           4,
           5,
           6,
           7,
           8,
           9,
           10
          ],
          [
           1,
           2,
           3,
           4,
           5,
           6,
           7,
           8,
           9,
           10
          ],
          [
           1,
           2,
           3,
           4,
           5,
           6,
           7,
           8,
           9,
           10
          ],
          [
           1,
           2,
           3,
           4,
           5,
           6,
           7,
           8,
           9,
           10
          ],
          [
           1,
           2,
           3,
           4,
           5,
           6,
           7,
           8,
           9,
           10
          ],
          [
           1,
           2,
           3,
           4,
           5,
           6,
           7,
           8,
           9,
           10
          ],
          [
           1,
           2,
           3,
           4,
           5,
           6,
           7,
           8,
           9,
           10
          ],
          [
           1,
           2,
           3,
           4,
           5,
           6,
           7,
           8,
           9,
           10
          ],
          [
           1,
           2,
           3,
           4,
           5,
           6,
           7,
           8,
           9,
           10
          ],
          [
           1,
           2,
           3,
           4,
           5,
           6,
           7,
           8,
           9,
           10
          ],
          [
           1,
           2,
           3,
           4,
           5,
           6,
           7,
           8,
           9,
           10
          ],
          [
           1,
           2,
           3,
           4,
           5,
           6,
           7,
           8,
           9,
           10
          ],
          [
           1,
           2,
           3,
           4,
           5,
           6,
           7,
           8,
           9,
           10
          ],
          [
           1,
           2,
           3,
           4,
           5,
           6,
           7,
           8,
           9,
           10
          ],
          [
           1,
           2,
           3,
           4,
           5,
           6,
           7,
           8,
           9,
           10
          ],
          [
           1,
           2,
           3,
           4,
           5,
           6,
           7,
           8,
           9,
           10
          ],
          [
           1,
           2,
           3,
           4,
           5,
           6,
           7,
           8,
           9,
           10
          ],
          [
           1,
           2,
           3,
           4,
           5,
           6,
           7,
           8,
           9,
           10
          ],
          [
           1,
           2,
           3,
           4,
           5,
           6,
           7,
           8,
           9,
           10
          ],
          [
           1,
           2,
           3,
           4,
           5,
           6,
           7,
           8,
           9,
           10
          ],
          [
           1,
           2,
           3,
           4,
           5,
           6,
           7,
           8,
           9,
           10
          ],
          [
           1,
           2,
           3,
           4,
           5,
           6,
           7,
           8,
           9,
           10
          ],
          [
           1,
           2,
           3,
           4,
           5,
           6,
           7,
           8,
           9,
           10
          ],
          [
           1,
           2,
           3,
           4,
           5,
           6,
           7,
           8,
           9,
           10
          ],
          [
           1,
           2,
           3,
           4,
           5,
           6,
           7,
           8,
           9,
           10
          ],
          [
           1,
           2,
           3,
           4,
           5,
           6,
           7,
           8,
           9,
           10
          ],
          [
           1,
           2,
           3,
           4,
           5,
           6,
           7,
           8,
           9,
           10
          ],
          [
           1,
           2,
           3,
           4,
           5,
           6,
           7,
           8,
           9,
           10
          ],
          [
           1,
           2,
           3,
           4,
           5,
           6,
           7,
           8,
           9,
           10
          ],
          [
           1,
           2,
           3,
           4,
           5,
           6,
           7,
           8,
           9,
           10
          ],
          [
           1,
           2,
           3,
           4,
           5,
           6,
           7,
           8,
           9,
           10
          ],
          [
           1,
           2,
           3,
           4,
           5,
           6,
           7,
           8,
           9,
           10
          ],
          [
           1,
           2,
           3,
           4,
           5,
           6,
           7,
           8,
           9,
           10
          ],
          [
           1,
           2,
           3,
           4,
           5,
           6,
           7,
           8,
           9,
           10
          ],
          [
           1,
           2,
           3,
           4,
           5,
           6,
           7,
           8,
           9,
           10
          ],
          [
           1,
           2,
           3,
           4,
           5,
           6,
           7,
           8,
           9,
           10
          ],
          [
           1,
           2,
           3,
           4,
           5,
           6,
           7,
           8,
           9,
           10
          ],
          [
           1,
           2,
           3,
           4,
           5,
           6,
           7,
           8,
           9,
           10
          ],
          [
           1,
           2,
           3,
           4,
           5,
           6,
           7,
           8,
           9,
           10
          ],
          [
           1,
           2,
           3,
           4,
           5,
           6,
           7,
           8,
           9,
           10
          ],
          [
           1,
           2,
           3,
           4,
           5,
           6,
           7,
           8,
           9,
           10
          ],
          [
           1,
           2,
           3,
           4,
           5,
           6,
           7,
           8,
           9,
           10
          ],
          [
           1,
           2,
           3,
           4,
           5,
           6,
           7,
           8,
           9,
           10
          ],
          [
           1,
           2,
           3,
           4,
           5,
           6,
           7,
           8,
           9,
           10
          ],
          [
           1,
           2,
           3,
           4,
           5,
           6,
           7,
           8,
           9,
           10
          ],
          [
           1,
           2,
           3,
           4,
           5,
           6,
           7,
           8,
           9,
           10
          ],
          [
           1,
           2,
           3,
           4,
           5,
           6,
           7,
           8,
           9,
           10
          ],
          [
           1,
           2,
           3,
           4,
           5,
           6,
           7,
           8,
           9,
           10
          ],
          [
           1,
           2,
           3,
           4,
           5,
           6,
           7,
           8,
           9,
           10
          ]
         ],
         "z": [
          [
           6.6348966010212145,
           11.344866730144373,
           18.475306906582357,
           30.57791416689249,
           52.19139483319193,
           92.01002361413214,
           166.98739013667387,
           310.45738821990585,
           588.2977941452372,
           1131.158738963494
          ],
          [
           6.6348966010212145,
           11.344866730144373,
           18.475306906582357,
           30.57791416689249,
           52.19139483319193,
           92.01002361413214,
           166.98739013667387,
           310.45738821990585,
           588.2977941452372,
           1131.158738963494
          ],
          [
           0,
           0,
           0,
           0,
           0,
           0,
           0,
           0,
           0,
           0
          ],
          [
           0,
           0,
           0,
           0,
           0,
           0,
           0,
           0,
           0,
           0
          ],
          [
           6.6348966010212145,
           11.344866730144373,
           18.475306906582357,
           30.57791416689249,
           52.19139483319193,
           92.01002361413214,
           166.98739013667387,
           310.45738821990585,
           588.2977941452372,
           1131.158738963494
          ],
          [
           0,
           0,
           0,
           0,
           0,
           0,
           0,
           0,
           0,
           0
          ],
          [
           0,
           0,
           0,
           0,
           0,
           0,
           0,
           0,
           0,
           0
          ],
          [
           0,
           0,
           0,
           0,
           0,
           0,
           0,
           0,
           0,
           0
          ],
          [
           0,
           0,
           0,
           0,
           0,
           0,
           0,
           0,
           0,
           0
          ],
          [
           6.6348966010212145,
           11.344866730144373,
           18.475306906582357,
           30.57791416689249,
           52.19139483319193,
           92.01002361413214,
           166.98739013667387,
           310.45738821990585,
           588.2977941452372,
           1131.158738963494
          ],
          [
           0,
           0,
           0,
           0,
           0,
           0,
           0,
           0,
           0,
           0
          ],
          [
           0,
           0,
           0,
           0,
           0,
           0,
           0,
           0,
           0,
           0
          ],
          [
           0,
           0,
           0,
           0,
           0,
           0,
           0,
           0,
           0,
           0
          ],
          [
           0,
           0,
           0,
           0,
           0,
           0,
           0,
           0,
           0,
           0
          ],
          [
           0,
           0,
           0,
           0,
           0,
           0,
           0,
           0,
           0,
           0
          ],
          [
           0,
           0,
           0,
           0,
           0,
           0,
           0,
           0,
           0,
           0
          ],
          [
           0,
           0,
           0,
           0,
           0,
           0,
           0,
           0,
           0,
           0
          ],
          [
           0,
           0,
           0,
           0,
           0,
           0,
           0,
           0,
           0,
           0
          ],
          [
           0,
           0,
           0,
           0,
           0,
           0,
           0,
           0,
           0,
           0
          ],
          [
           6.6348966010212145,
           11.344866730144373,
           18.475306906582357,
           30.57791416689249,
           52.19139483319193,
           92.01002361413214,
           166.98739013667387,
           310.45738821990585,
           588.2977941452372,
           1131.158738963494
          ],
          [
           0,
           0,
           0,
           0,
           0,
           0,
           0,
           0,
           0,
           0
          ],
          [
           0,
           0,
           0,
           0,
           0,
           0,
           0,
           0,
           0,
           0
          ],
          [
           0,
           0,
           0,
           0,
           0,
           0,
           0,
           0,
           0,
           0
          ],
          [
           0,
           0,
           0,
           0,
           0,
           0,
           0,
           0,
           0,
           0
          ],
          [
           0,
           0,
           0,
           0,
           0,
           0,
           0,
           0,
           0,
           0
          ],
          [
           0,
           0,
           0,
           0,
           0,
           0,
           0,
           0,
           0,
           0
          ],
          [
           0,
           0,
           0,
           0,
           0,
           0,
           0,
           0,
           0,
           0
          ],
          [
           0,
           0,
           0,
           0,
           0,
           0,
           0,
           0,
           0,
           0
          ],
          [
           0,
           0,
           0,
           0,
           0,
           0,
           0,
           0,
           0,
           0
          ],
          [
           0,
           0,
           0,
           0,
           0,
           0,
           0,
           0,
           0,
           0
          ],
          [
           0,
           0,
           0,
           0,
           0,
           0,
           0,
           0,
           0,
           0
          ],
          [
           0,
           0,
           0,
           0,
           0,
           0,
           0,
           0,
           0,
           0
          ],
          [
           0,
           0,
           0,
           0,
           0,
           0,
           0,
           0,
           0,
           0
          ],
          [
           0,
           0,
           0,
           0,
           0,
           0,
           0,
           0,
           0,
           0
          ],
          [
           0,
           0,
           0,
           0,
           0,
           0,
           0,
           0,
           0,
           0
          ],
          [
           0,
           0,
           0,
           0,
           0,
           0,
           0,
           0,
           0,
           0
          ],
          [
           0,
           0,
           0,
           0,
           0,
           0,
           0,
           0,
           0,
           0
          ],
          [
           0,
           0,
           0,
           0,
           0,
           0,
           0,
           0,
           0,
           0
          ],
          [
           0,
           0,
           0,
           0,
           0,
           0,
           0,
           0,
           0,
           0
          ],
          [
           0,
           0,
           0,
           0,
           0,
           0,
           0,
           0,
           0,
           0
          ],
          [
           0,
           0,
           0,
           0,
           0,
           0,
           0,
           0,
           0,
           0
          ],
          [
           0,
           0,
           0,
           0,
           0,
           0,
           0,
           0,
           0,
           0
          ],
          [
           0,
           0,
           0,
           0,
           0,
           0,
           0,
           0,
           0,
           0
          ],
          [
           0,
           0,
           0,
           0,
           0,
           0,
           0,
           0,
           0,
           0
          ],
          [
           0,
           0,
           0,
           0,
           0,
           0,
           0,
           0,
           0,
           0
          ],
          [
           0,
           0,
           0,
           0,
           0,
           0,
           0,
           0,
           0,
           0
          ],
          [
           0,
           0,
           0,
           0,
           0,
           0,
           0,
           0,
           0,
           0
          ],
          [
           0,
           0,
           0,
           0,
           0,
           0,
           0,
           0,
           0,
           0
          ],
          [
           0,
           0,
           0,
           0,
           0,
           0,
           0,
           0,
           0,
           0
          ],
          [
           6.6348966010212145,
           11.344866730144373,
           18.475306906582357,
           30.57791416689249,
           52.19139483319193,
           92.01002361413214,
           166.98739013667387,
           310.45738821990585,
           588.2977941452372,
           1131.158738963494
          ]
         ]
        }
       ],
       "layout": {
        "height": 700,
        "scene": {
         "xaxis": {
          "title": {
           "text": "Aggregation Level"
          }
         },
         "yaxis": {
          "title": {
           "text": "Block Size"
          }
         },
         "zaxis": {
          "title": {
           "text": "NP Statistic"
          }
         }
        },
        "template": {
         "data": {
          "bar": [
           {
            "error_x": {
             "color": "#2a3f5f"
            },
            "error_y": {
             "color": "#2a3f5f"
            },
            "marker": {
             "line": {
              "color": "#E5ECF6",
              "width": 0.5
             },
             "pattern": {
              "fillmode": "overlay",
              "size": 10,
              "solidity": 0.2
             }
            },
            "type": "bar"
           }
          ],
          "barpolar": [
           {
            "marker": {
             "line": {
              "color": "#E5ECF6",
              "width": 0.5
             },
             "pattern": {
              "fillmode": "overlay",
              "size": 10,
              "solidity": 0.2
             }
            },
            "type": "barpolar"
           }
          ],
          "carpet": [
           {
            "aaxis": {
             "endlinecolor": "#2a3f5f",
             "gridcolor": "white",
             "linecolor": "white",
             "minorgridcolor": "white",
             "startlinecolor": "#2a3f5f"
            },
            "baxis": {
             "endlinecolor": "#2a3f5f",
             "gridcolor": "white",
             "linecolor": "white",
             "minorgridcolor": "white",
             "startlinecolor": "#2a3f5f"
            },
            "type": "carpet"
           }
          ],
          "choropleth": [
           {
            "colorbar": {
             "outlinewidth": 0,
             "ticks": ""
            },
            "type": "choropleth"
           }
          ],
          "contour": [
           {
            "colorbar": {
             "outlinewidth": 0,
             "ticks": ""
            },
            "colorscale": [
             [
              0,
              "#0d0887"
             ],
             [
              0.1111111111111111,
              "#46039f"
             ],
             [
              0.2222222222222222,
              "#7201a8"
             ],
             [
              0.3333333333333333,
              "#9c179e"
             ],
             [
              0.4444444444444444,
              "#bd3786"
             ],
             [
              0.5555555555555556,
              "#d8576b"
             ],
             [
              0.6666666666666666,
              "#ed7953"
             ],
             [
              0.7777777777777778,
              "#fb9f3a"
             ],
             [
              0.8888888888888888,
              "#fdca26"
             ],
             [
              1,
              "#f0f921"
             ]
            ],
            "type": "contour"
           }
          ],
          "contourcarpet": [
           {
            "colorbar": {
             "outlinewidth": 0,
             "ticks": ""
            },
            "type": "contourcarpet"
           }
          ],
          "heatmap": [
           {
            "colorbar": {
             "outlinewidth": 0,
             "ticks": ""
            },
            "colorscale": [
             [
              0,
              "#0d0887"
             ],
             [
              0.1111111111111111,
              "#46039f"
             ],
             [
              0.2222222222222222,
              "#7201a8"
             ],
             [
              0.3333333333333333,
              "#9c179e"
             ],
             [
              0.4444444444444444,
              "#bd3786"
             ],
             [
              0.5555555555555556,
              "#d8576b"
             ],
             [
              0.6666666666666666,
              "#ed7953"
             ],
             [
              0.7777777777777778,
              "#fb9f3a"
             ],
             [
              0.8888888888888888,
              "#fdca26"
             ],
             [
              1,
              "#f0f921"
             ]
            ],
            "type": "heatmap"
           }
          ],
          "heatmapgl": [
           {
            "colorbar": {
             "outlinewidth": 0,
             "ticks": ""
            },
            "colorscale": [
             [
              0,
              "#0d0887"
             ],
             [
              0.1111111111111111,
              "#46039f"
             ],
             [
              0.2222222222222222,
              "#7201a8"
             ],
             [
              0.3333333333333333,
              "#9c179e"
             ],
             [
              0.4444444444444444,
              "#bd3786"
             ],
             [
              0.5555555555555556,
              "#d8576b"
             ],
             [
              0.6666666666666666,
              "#ed7953"
             ],
             [
              0.7777777777777778,
              "#fb9f3a"
             ],
             [
              0.8888888888888888,
              "#fdca26"
             ],
             [
              1,
              "#f0f921"
             ]
            ],
            "type": "heatmapgl"
           }
          ],
          "histogram": [
           {
            "marker": {
             "pattern": {
              "fillmode": "overlay",
              "size": 10,
              "solidity": 0.2
             }
            },
            "type": "histogram"
           }
          ],
          "histogram2d": [
           {
            "colorbar": {
             "outlinewidth": 0,
             "ticks": ""
            },
            "colorscale": [
             [
              0,
              "#0d0887"
             ],
             [
              0.1111111111111111,
              "#46039f"
             ],
             [
              0.2222222222222222,
              "#7201a8"
             ],
             [
              0.3333333333333333,
              "#9c179e"
             ],
             [
              0.4444444444444444,
              "#bd3786"
             ],
             [
              0.5555555555555556,
              "#d8576b"
             ],
             [
              0.6666666666666666,
              "#ed7953"
             ],
             [
              0.7777777777777778,
              "#fb9f3a"
             ],
             [
              0.8888888888888888,
              "#fdca26"
             ],
             [
              1,
              "#f0f921"
             ]
            ],
            "type": "histogram2d"
           }
          ],
          "histogram2dcontour": [
           {
            "colorbar": {
             "outlinewidth": 0,
             "ticks": ""
            },
            "colorscale": [
             [
              0,
              "#0d0887"
             ],
             [
              0.1111111111111111,
              "#46039f"
             ],
             [
              0.2222222222222222,
              "#7201a8"
             ],
             [
              0.3333333333333333,
              "#9c179e"
             ],
             [
              0.4444444444444444,
              "#bd3786"
             ],
             [
              0.5555555555555556,
              "#d8576b"
             ],
             [
              0.6666666666666666,
              "#ed7953"
             ],
             [
              0.7777777777777778,
              "#fb9f3a"
             ],
             [
              0.8888888888888888,
              "#fdca26"
             ],
             [
              1,
              "#f0f921"
             ]
            ],
            "type": "histogram2dcontour"
           }
          ],
          "mesh3d": [
           {
            "colorbar": {
             "outlinewidth": 0,
             "ticks": ""
            },
            "type": "mesh3d"
           }
          ],
          "parcoords": [
           {
            "line": {
             "colorbar": {
              "outlinewidth": 0,
              "ticks": ""
             }
            },
            "type": "parcoords"
           }
          ],
          "pie": [
           {
            "automargin": true,
            "type": "pie"
           }
          ],
          "scatter": [
           {
            "fillpattern": {
             "fillmode": "overlay",
             "size": 10,
             "solidity": 0.2
            },
            "type": "scatter"
           }
          ],
          "scatter3d": [
           {
            "line": {
             "colorbar": {
              "outlinewidth": 0,
              "ticks": ""
             }
            },
            "marker": {
             "colorbar": {
              "outlinewidth": 0,
              "ticks": ""
             }
            },
            "type": "scatter3d"
           }
          ],
          "scattercarpet": [
           {
            "marker": {
             "colorbar": {
              "outlinewidth": 0,
              "ticks": ""
             }
            },
            "type": "scattercarpet"
           }
          ],
          "scattergeo": [
           {
            "marker": {
             "colorbar": {
              "outlinewidth": 0,
              "ticks": ""
             }
            },
            "type": "scattergeo"
           }
          ],
          "scattergl": [
           {
            "marker": {
             "colorbar": {
              "outlinewidth": 0,
              "ticks": ""
             }
            },
            "type": "scattergl"
           }
          ],
          "scattermapbox": [
           {
            "marker": {
             "colorbar": {
              "outlinewidth": 0,
              "ticks": ""
             }
            },
            "type": "scattermapbox"
           }
          ],
          "scatterpolar": [
           {
            "marker": {
             "colorbar": {
              "outlinewidth": 0,
              "ticks": ""
             }
            },
            "type": "scatterpolar"
           }
          ],
          "scatterpolargl": [
           {
            "marker": {
             "colorbar": {
              "outlinewidth": 0,
              "ticks": ""
             }
            },
            "type": "scatterpolargl"
           }
          ],
          "scatterternary": [
           {
            "marker": {
             "colorbar": {
              "outlinewidth": 0,
              "ticks": ""
             }
            },
            "type": "scatterternary"
           }
          ],
          "surface": [
           {
            "colorbar": {
             "outlinewidth": 0,
             "ticks": ""
            },
            "colorscale": [
             [
              0,
              "#0d0887"
             ],
             [
              0.1111111111111111,
              "#46039f"
             ],
             [
              0.2222222222222222,
              "#7201a8"
             ],
             [
              0.3333333333333333,
              "#9c179e"
             ],
             [
              0.4444444444444444,
              "#bd3786"
             ],
             [
              0.5555555555555556,
              "#d8576b"
             ],
             [
              0.6666666666666666,
              "#ed7953"
             ],
             [
              0.7777777777777778,
              "#fb9f3a"
             ],
             [
              0.8888888888888888,
              "#fdca26"
             ],
             [
              1,
              "#f0f921"
             ]
            ],
            "type": "surface"
           }
          ],
          "table": [
           {
            "cells": {
             "fill": {
              "color": "#EBF0F8"
             },
             "line": {
              "color": "white"
             }
            },
            "header": {
             "fill": {
              "color": "#C8D4E3"
             },
             "line": {
              "color": "white"
             }
            },
            "type": "table"
           }
          ]
         },
         "layout": {
          "annotationdefaults": {
           "arrowcolor": "#2a3f5f",
           "arrowhead": 0,
           "arrowwidth": 1
          },
          "autotypenumbers": "strict",
          "coloraxis": {
           "colorbar": {
            "outlinewidth": 0,
            "ticks": ""
           }
          },
          "colorscale": {
           "diverging": [
            [
             0,
             "#8e0152"
            ],
            [
             0.1,
             "#c51b7d"
            ],
            [
             0.2,
             "#de77ae"
            ],
            [
             0.3,
             "#f1b6da"
            ],
            [
             0.4,
             "#fde0ef"
            ],
            [
             0.5,
             "#f7f7f7"
            ],
            [
             0.6,
             "#e6f5d0"
            ],
            [
             0.7,
             "#b8e186"
            ],
            [
             0.8,
             "#7fbc41"
            ],
            [
             0.9,
             "#4d9221"
            ],
            [
             1,
             "#276419"
            ]
           ],
           "sequential": [
            [
             0,
             "#0d0887"
            ],
            [
             0.1111111111111111,
             "#46039f"
            ],
            [
             0.2222222222222222,
             "#7201a8"
            ],
            [
             0.3333333333333333,
             "#9c179e"
            ],
            [
             0.4444444444444444,
             "#bd3786"
            ],
            [
             0.5555555555555556,
             "#d8576b"
            ],
            [
             0.6666666666666666,
             "#ed7953"
            ],
            [
             0.7777777777777778,
             "#fb9f3a"
            ],
            [
             0.8888888888888888,
             "#fdca26"
            ],
            [
             1,
             "#f0f921"
            ]
           ],
           "sequentialminus": [
            [
             0,
             "#0d0887"
            ],
            [
             0.1111111111111111,
             "#46039f"
            ],
            [
             0.2222222222222222,
             "#7201a8"
            ],
            [
             0.3333333333333333,
             "#9c179e"
            ],
            [
             0.4444444444444444,
             "#bd3786"
            ],
            [
             0.5555555555555556,
             "#d8576b"
            ],
            [
             0.6666666666666666,
             "#ed7953"
            ],
            [
             0.7777777777777778,
             "#fb9f3a"
            ],
            [
             0.8888888888888888,
             "#fdca26"
            ],
            [
             1,
             "#f0f921"
            ]
           ]
          },
          "colorway": [
           "#636efa",
           "#EF553B",
           "#00cc96",
           "#ab63fa",
           "#FFA15A",
           "#19d3f3",
           "#FF6692",
           "#B6E880",
           "#FF97FF",
           "#FECB52"
          ],
          "font": {
           "color": "#2a3f5f"
          },
          "geo": {
           "bgcolor": "white",
           "lakecolor": "white",
           "landcolor": "#E5ECF6",
           "showlakes": true,
           "showland": true,
           "subunitcolor": "white"
          },
          "hoverlabel": {
           "align": "left"
          },
          "hovermode": "closest",
          "mapbox": {
           "style": "light"
          },
          "paper_bgcolor": "white",
          "plot_bgcolor": "#E5ECF6",
          "polar": {
           "angularaxis": {
            "gridcolor": "white",
            "linecolor": "white",
            "ticks": ""
           },
           "bgcolor": "#E5ECF6",
           "radialaxis": {
            "gridcolor": "white",
            "linecolor": "white",
            "ticks": ""
           }
          },
          "scene": {
           "xaxis": {
            "backgroundcolor": "#E5ECF6",
            "gridcolor": "white",
            "gridwidth": 2,
            "linecolor": "white",
            "showbackground": true,
            "ticks": "",
            "zerolinecolor": "white"
           },
           "yaxis": {
            "backgroundcolor": "#E5ECF6",
            "gridcolor": "white",
            "gridwidth": 2,
            "linecolor": "white",
            "showbackground": true,
            "ticks": "",
            "zerolinecolor": "white"
           },
           "zaxis": {
            "backgroundcolor": "#E5ECF6",
            "gridcolor": "white",
            "gridwidth": 2,
            "linecolor": "white",
            "showbackground": true,
            "ticks": "",
            "zerolinecolor": "white"
           }
          },
          "shapedefaults": {
           "line": {
            "color": "#2a3f5f"
           }
          },
          "ternary": {
           "aaxis": {
            "gridcolor": "white",
            "linecolor": "white",
            "ticks": ""
           },
           "baxis": {
            "gridcolor": "white",
            "linecolor": "white",
            "ticks": ""
           },
           "bgcolor": "#E5ECF6",
           "caxis": {
            "gridcolor": "white",
            "linecolor": "white",
            "ticks": ""
           }
          },
          "title": {
           "x": 0.05
          },
          "xaxis": {
           "automargin": true,
           "gridcolor": "white",
           "linecolor": "white",
           "ticks": "",
           "title": {
            "standoff": 15
           },
           "zerolinecolor": "white",
           "zerolinewidth": 2
          },
          "yaxis": {
           "automargin": true,
           "gridcolor": "white",
           "linecolor": "white",
           "ticks": "",
           "title": {
            "standoff": 15
           },
           "zerolinecolor": "white",
           "zerolinewidth": 2
          }
         }
        },
        "title": {
         "text": "NP Statistic by Aggregation Level and Block Size"
        },
        "width": 900
       }
      }
     },
     "metadata": {},
     "output_type": "display_data"
    }
   ],
   "source": [
    "cmt = CrossMultiTester('BTCUSDT', 'ETHUSDT')\n",
    "\n",
    "result_3D = cmt.test_grid(\n",
    "    test='NP Statistic',\n",
    "    list_aggregations=[1,2,3,4,5,6,7,8,9,10,11,12,13,14,15,16,17,18,19,20,25,30,35,40,50],\n",
    "    list_block_sizes=[1,2,3,4,5,6,7,8,9,10,11,12],\n",
    "    year=year, month=month, day=None\n",
    ")\n",
    "\n",
    "\n",
    "plot_3D(result_3D, test='NP Statistic')"
   ]
  },
  {
   "cell_type": "code",
   "execution_count": 36,
   "id": "867be7d4",
   "metadata": {},
   "outputs": [
    {
     "data": {
      "text/html": [
       "<div>\n",
       "<style scoped>\n",
       "    .dataframe tbody tr th:only-of-type {\n",
       "        vertical-align: middle;\n",
       "    }\n",
       "\n",
       "    .dataframe tbody tr th {\n",
       "        vertical-align: top;\n",
       "    }\n",
       "\n",
       "    .dataframe thead th {\n",
       "        text-align: right;\n",
       "    }\n",
       "</style>\n",
       "<table border=\"1\" class=\"dataframe\">\n",
       "  <thead>\n",
       "    <tr style=\"text-align: right;\">\n",
       "      <th></th>\n",
       "      <th>Aggregation level</th>\n",
       "      <th>Block size</th>\n",
       "      <th>NP Statistic statistic</th>\n",
       "      <th>Quantile 99</th>\n",
       "    </tr>\n",
       "  </thead>\n",
       "  <tbody>\n",
       "    <tr>\n",
       "      <th>0</th>\n",
       "      <td>1</td>\n",
       "      <td>1</td>\n",
       "      <td>13.066114</td>\n",
       "      <td>6.634897</td>\n",
       "    </tr>\n",
       "    <tr>\n",
       "      <th>1</th>\n",
       "      <td>1</td>\n",
       "      <td>2</td>\n",
       "      <td>51.203086</td>\n",
       "      <td>11.344867</td>\n",
       "    </tr>\n",
       "    <tr>\n",
       "      <th>2</th>\n",
       "      <td>1</td>\n",
       "      <td>3</td>\n",
       "      <td>86.840053</td>\n",
       "      <td>18.475307</td>\n",
       "    </tr>\n",
       "    <tr>\n",
       "      <th>3</th>\n",
       "      <td>1</td>\n",
       "      <td>4</td>\n",
       "      <td>134.741226</td>\n",
       "      <td>30.577914</td>\n",
       "    </tr>\n",
       "    <tr>\n",
       "      <th>4</th>\n",
       "      <td>1</td>\n",
       "      <td>5</td>\n",
       "      <td>187.738677</td>\n",
       "      <td>52.191395</td>\n",
       "    </tr>\n",
       "    <tr>\n",
       "      <th>5</th>\n",
       "      <td>1</td>\n",
       "      <td>6</td>\n",
       "      <td>261.197461</td>\n",
       "      <td>92.010024</td>\n",
       "    </tr>\n",
       "    <tr>\n",
       "      <th>6</th>\n",
       "      <td>1</td>\n",
       "      <td>7</td>\n",
       "      <td>363.950658</td>\n",
       "      <td>166.987390</td>\n",
       "    </tr>\n",
       "    <tr>\n",
       "      <th>7</th>\n",
       "      <td>1</td>\n",
       "      <td>8</td>\n",
       "      <td>516.345216</td>\n",
       "      <td>310.457388</td>\n",
       "    </tr>\n",
       "    <tr>\n",
       "      <th>8</th>\n",
       "      <td>1</td>\n",
       "      <td>9</td>\n",
       "      <td>797.706539</td>\n",
       "      <td>588.297794</td>\n",
       "    </tr>\n",
       "    <tr>\n",
       "      <th>9</th>\n",
       "      <td>1</td>\n",
       "      <td>10</td>\n",
       "      <td>1402.791104</td>\n",
       "      <td>1131.158739</td>\n",
       "    </tr>\n",
       "    <tr>\n",
       "      <th>10</th>\n",
       "      <td>2</td>\n",
       "      <td>1</td>\n",
       "      <td>42.106734</td>\n",
       "      <td>6.634897</td>\n",
       "    </tr>\n",
       "    <tr>\n",
       "      <th>11</th>\n",
       "      <td>2</td>\n",
       "      <td>2</td>\n",
       "      <td>60.339383</td>\n",
       "      <td>11.344867</td>\n",
       "    </tr>\n",
       "    <tr>\n",
       "      <th>12</th>\n",
       "      <td>2</td>\n",
       "      <td>3</td>\n",
       "      <td>107.584261</td>\n",
       "      <td>18.475307</td>\n",
       "    </tr>\n",
       "    <tr>\n",
       "      <th>13</th>\n",
       "      <td>2</td>\n",
       "      <td>4</td>\n",
       "      <td>148.509571</td>\n",
       "      <td>30.577914</td>\n",
       "    </tr>\n",
       "    <tr>\n",
       "      <th>14</th>\n",
       "      <td>2</td>\n",
       "      <td>5</td>\n",
       "      <td>197.207336</td>\n",
       "      <td>52.191395</td>\n",
       "    </tr>\n",
       "    <tr>\n",
       "      <th>15</th>\n",
       "      <td>2</td>\n",
       "      <td>6</td>\n",
       "      <td>276.175745</td>\n",
       "      <td>92.010024</td>\n",
       "    </tr>\n",
       "    <tr>\n",
       "      <th>16</th>\n",
       "      <td>2</td>\n",
       "      <td>7</td>\n",
       "      <td>387.020684</td>\n",
       "      <td>166.987390</td>\n",
       "    </tr>\n",
       "    <tr>\n",
       "      <th>17</th>\n",
       "      <td>2</td>\n",
       "      <td>8</td>\n",
       "      <td>563.439647</td>\n",
       "      <td>310.457388</td>\n",
       "    </tr>\n",
       "    <tr>\n",
       "      <th>18</th>\n",
       "      <td>2</td>\n",
       "      <td>9</td>\n",
       "      <td>881.279131</td>\n",
       "      <td>588.297794</td>\n",
       "    </tr>\n",
       "    <tr>\n",
       "      <th>19</th>\n",
       "      <td>2</td>\n",
       "      <td>10</td>\n",
       "      <td>1407.482108</td>\n",
       "      <td>1131.158739</td>\n",
       "    </tr>\n",
       "    <tr>\n",
       "      <th>20</th>\n",
       "      <td>5</td>\n",
       "      <td>1</td>\n",
       "      <td>0.000000</td>\n",
       "      <td>0.000000</td>\n",
       "    </tr>\n",
       "    <tr>\n",
       "      <th>21</th>\n",
       "      <td>5</td>\n",
       "      <td>2</td>\n",
       "      <td>0.000000</td>\n",
       "      <td>0.000000</td>\n",
       "    </tr>\n",
       "    <tr>\n",
       "      <th>22</th>\n",
       "      <td>5</td>\n",
       "      <td>3</td>\n",
       "      <td>0.000000</td>\n",
       "      <td>0.000000</td>\n",
       "    </tr>\n",
       "    <tr>\n",
       "      <th>23</th>\n",
       "      <td>5</td>\n",
       "      <td>4</td>\n",
       "      <td>0.000000</td>\n",
       "      <td>0.000000</td>\n",
       "    </tr>\n",
       "    <tr>\n",
       "      <th>24</th>\n",
       "      <td>5</td>\n",
       "      <td>5</td>\n",
       "      <td>0.000000</td>\n",
       "      <td>0.000000</td>\n",
       "    </tr>\n",
       "    <tr>\n",
       "      <th>25</th>\n",
       "      <td>5</td>\n",
       "      <td>6</td>\n",
       "      <td>0.000000</td>\n",
       "      <td>0.000000</td>\n",
       "    </tr>\n",
       "    <tr>\n",
       "      <th>26</th>\n",
       "      <td>5</td>\n",
       "      <td>7</td>\n",
       "      <td>0.000000</td>\n",
       "      <td>0.000000</td>\n",
       "    </tr>\n",
       "    <tr>\n",
       "      <th>27</th>\n",
       "      <td>5</td>\n",
       "      <td>8</td>\n",
       "      <td>0.000000</td>\n",
       "      <td>0.000000</td>\n",
       "    </tr>\n",
       "    <tr>\n",
       "      <th>28</th>\n",
       "      <td>5</td>\n",
       "      <td>9</td>\n",
       "      <td>0.000000</td>\n",
       "      <td>0.000000</td>\n",
       "    </tr>\n",
       "    <tr>\n",
       "      <th>29</th>\n",
       "      <td>5</td>\n",
       "      <td>10</td>\n",
       "      <td>0.000000</td>\n",
       "      <td>0.000000</td>\n",
       "    </tr>\n",
       "    <tr>\n",
       "      <th>30</th>\n",
       "      <td>10</td>\n",
       "      <td>1</td>\n",
       "      <td>0.000000</td>\n",
       "      <td>0.000000</td>\n",
       "    </tr>\n",
       "    <tr>\n",
       "      <th>31</th>\n",
       "      <td>10</td>\n",
       "      <td>2</td>\n",
       "      <td>0.000000</td>\n",
       "      <td>0.000000</td>\n",
       "    </tr>\n",
       "    <tr>\n",
       "      <th>32</th>\n",
       "      <td>10</td>\n",
       "      <td>3</td>\n",
       "      <td>0.000000</td>\n",
       "      <td>0.000000</td>\n",
       "    </tr>\n",
       "    <tr>\n",
       "      <th>33</th>\n",
       "      <td>10</td>\n",
       "      <td>4</td>\n",
       "      <td>0.000000</td>\n",
       "      <td>0.000000</td>\n",
       "    </tr>\n",
       "    <tr>\n",
       "      <th>34</th>\n",
       "      <td>10</td>\n",
       "      <td>5</td>\n",
       "      <td>0.000000</td>\n",
       "      <td>0.000000</td>\n",
       "    </tr>\n",
       "    <tr>\n",
       "      <th>35</th>\n",
       "      <td>10</td>\n",
       "      <td>6</td>\n",
       "      <td>0.000000</td>\n",
       "      <td>0.000000</td>\n",
       "    </tr>\n",
       "    <tr>\n",
       "      <th>36</th>\n",
       "      <td>10</td>\n",
       "      <td>7</td>\n",
       "      <td>0.000000</td>\n",
       "      <td>0.000000</td>\n",
       "    </tr>\n",
       "    <tr>\n",
       "      <th>37</th>\n",
       "      <td>10</td>\n",
       "      <td>8</td>\n",
       "      <td>0.000000</td>\n",
       "      <td>0.000000</td>\n",
       "    </tr>\n",
       "    <tr>\n",
       "      <th>38</th>\n",
       "      <td>10</td>\n",
       "      <td>9</td>\n",
       "      <td>0.000000</td>\n",
       "      <td>0.000000</td>\n",
       "    </tr>\n",
       "    <tr>\n",
       "      <th>39</th>\n",
       "      <td>10</td>\n",
       "      <td>10</td>\n",
       "      <td>0.000000</td>\n",
       "      <td>0.000000</td>\n",
       "    </tr>\n",
       "    <tr>\n",
       "      <th>40</th>\n",
       "      <td>20</td>\n",
       "      <td>1</td>\n",
       "      <td>3.012283</td>\n",
       "      <td>6.634897</td>\n",
       "    </tr>\n",
       "    <tr>\n",
       "      <th>41</th>\n",
       "      <td>20</td>\n",
       "      <td>2</td>\n",
       "      <td>4.584474</td>\n",
       "      <td>11.344867</td>\n",
       "    </tr>\n",
       "    <tr>\n",
       "      <th>42</th>\n",
       "      <td>20</td>\n",
       "      <td>3</td>\n",
       "      <td>26.589201</td>\n",
       "      <td>18.475307</td>\n",
       "    </tr>\n",
       "    <tr>\n",
       "      <th>43</th>\n",
       "      <td>20</td>\n",
       "      <td>4</td>\n",
       "      <td>49.738251</td>\n",
       "      <td>30.577914</td>\n",
       "    </tr>\n",
       "    <tr>\n",
       "      <th>44</th>\n",
       "      <td>20</td>\n",
       "      <td>5</td>\n",
       "      <td>75.915255</td>\n",
       "      <td>52.191395</td>\n",
       "    </tr>\n",
       "    <tr>\n",
       "      <th>45</th>\n",
       "      <td>20</td>\n",
       "      <td>6</td>\n",
       "      <td>121.625481</td>\n",
       "      <td>92.010024</td>\n",
       "    </tr>\n",
       "    <tr>\n",
       "      <th>46</th>\n",
       "      <td>20</td>\n",
       "      <td>7</td>\n",
       "      <td>211.370810</td>\n",
       "      <td>166.987390</td>\n",
       "    </tr>\n",
       "    <tr>\n",
       "      <th>47</th>\n",
       "      <td>20</td>\n",
       "      <td>8</td>\n",
       "      <td>376.257517</td>\n",
       "      <td>310.457388</td>\n",
       "    </tr>\n",
       "    <tr>\n",
       "      <th>48</th>\n",
       "      <td>20</td>\n",
       "      <td>9</td>\n",
       "      <td>646.159732</td>\n",
       "      <td>588.297794</td>\n",
       "    </tr>\n",
       "    <tr>\n",
       "      <th>49</th>\n",
       "      <td>20</td>\n",
       "      <td>10</td>\n",
       "      <td>1132.873388</td>\n",
       "      <td>1131.158739</td>\n",
       "    </tr>\n",
       "    <tr>\n",
       "      <th>50</th>\n",
       "      <td>50</td>\n",
       "      <td>1</td>\n",
       "      <td>0.000000</td>\n",
       "      <td>0.000000</td>\n",
       "    </tr>\n",
       "    <tr>\n",
       "      <th>51</th>\n",
       "      <td>50</td>\n",
       "      <td>2</td>\n",
       "      <td>0.000000</td>\n",
       "      <td>0.000000</td>\n",
       "    </tr>\n",
       "    <tr>\n",
       "      <th>52</th>\n",
       "      <td>50</td>\n",
       "      <td>3</td>\n",
       "      <td>0.000000</td>\n",
       "      <td>0.000000</td>\n",
       "    </tr>\n",
       "    <tr>\n",
       "      <th>53</th>\n",
       "      <td>50</td>\n",
       "      <td>4</td>\n",
       "      <td>0.000000</td>\n",
       "      <td>0.000000</td>\n",
       "    </tr>\n",
       "    <tr>\n",
       "      <th>54</th>\n",
       "      <td>50</td>\n",
       "      <td>5</td>\n",
       "      <td>0.000000</td>\n",
       "      <td>0.000000</td>\n",
       "    </tr>\n",
       "    <tr>\n",
       "      <th>55</th>\n",
       "      <td>50</td>\n",
       "      <td>6</td>\n",
       "      <td>0.000000</td>\n",
       "      <td>0.000000</td>\n",
       "    </tr>\n",
       "    <tr>\n",
       "      <th>56</th>\n",
       "      <td>50</td>\n",
       "      <td>7</td>\n",
       "      <td>0.000000</td>\n",
       "      <td>0.000000</td>\n",
       "    </tr>\n",
       "    <tr>\n",
       "      <th>57</th>\n",
       "      <td>50</td>\n",
       "      <td>8</td>\n",
       "      <td>0.000000</td>\n",
       "      <td>0.000000</td>\n",
       "    </tr>\n",
       "    <tr>\n",
       "      <th>58</th>\n",
       "      <td>50</td>\n",
       "      <td>9</td>\n",
       "      <td>0.000000</td>\n",
       "      <td>0.000000</td>\n",
       "    </tr>\n",
       "    <tr>\n",
       "      <th>59</th>\n",
       "      <td>50</td>\n",
       "      <td>10</td>\n",
       "      <td>0.000000</td>\n",
       "      <td>0.000000</td>\n",
       "    </tr>\n",
       "  </tbody>\n",
       "</table>\n",
       "</div>"
      ],
      "text/plain": [
       "    Aggregation level  Block size  NP Statistic statistic  Quantile 99\n",
       "0                   1           1               13.066114     6.634897\n",
       "1                   1           2               51.203086    11.344867\n",
       "2                   1           3               86.840053    18.475307\n",
       "3                   1           4              134.741226    30.577914\n",
       "4                   1           5              187.738677    52.191395\n",
       "5                   1           6              261.197461    92.010024\n",
       "6                   1           7              363.950658   166.987390\n",
       "7                   1           8              516.345216   310.457388\n",
       "8                   1           9              797.706539   588.297794\n",
       "9                   1          10             1402.791104  1131.158739\n",
       "10                  2           1               42.106734     6.634897\n",
       "11                  2           2               60.339383    11.344867\n",
       "12                  2           3              107.584261    18.475307\n",
       "13                  2           4              148.509571    30.577914\n",
       "14                  2           5              197.207336    52.191395\n",
       "15                  2           6              276.175745    92.010024\n",
       "16                  2           7              387.020684   166.987390\n",
       "17                  2           8              563.439647   310.457388\n",
       "18                  2           9              881.279131   588.297794\n",
       "19                  2          10             1407.482108  1131.158739\n",
       "20                  5           1                0.000000     0.000000\n",
       "21                  5           2                0.000000     0.000000\n",
       "22                  5           3                0.000000     0.000000\n",
       "23                  5           4                0.000000     0.000000\n",
       "24                  5           5                0.000000     0.000000\n",
       "25                  5           6                0.000000     0.000000\n",
       "26                  5           7                0.000000     0.000000\n",
       "27                  5           8                0.000000     0.000000\n",
       "28                  5           9                0.000000     0.000000\n",
       "29                  5          10                0.000000     0.000000\n",
       "30                 10           1                0.000000     0.000000\n",
       "31                 10           2                0.000000     0.000000\n",
       "32                 10           3                0.000000     0.000000\n",
       "33                 10           4                0.000000     0.000000\n",
       "34                 10           5                0.000000     0.000000\n",
       "35                 10           6                0.000000     0.000000\n",
       "36                 10           7                0.000000     0.000000\n",
       "37                 10           8                0.000000     0.000000\n",
       "38                 10           9                0.000000     0.000000\n",
       "39                 10          10                0.000000     0.000000\n",
       "40                 20           1                3.012283     6.634897\n",
       "41                 20           2                4.584474    11.344867\n",
       "42                 20           3               26.589201    18.475307\n",
       "43                 20           4               49.738251    30.577914\n",
       "44                 20           5               75.915255    52.191395\n",
       "45                 20           6              121.625481    92.010024\n",
       "46                 20           7              211.370810   166.987390\n",
       "47                 20           8              376.257517   310.457388\n",
       "48                 20           9              646.159732   588.297794\n",
       "49                 20          10             1132.873388  1131.158739\n",
       "50                 50           1                0.000000     0.000000\n",
       "51                 50           2                0.000000     0.000000\n",
       "52                 50           3                0.000000     0.000000\n",
       "53                 50           4                0.000000     0.000000\n",
       "54                 50           5                0.000000     0.000000\n",
       "55                 50           6                0.000000     0.000000\n",
       "56                 50           7                0.000000     0.000000\n",
       "57                 50           8                0.000000     0.000000\n",
       "58                 50           9                0.000000     0.000000\n",
       "59                 50          10                0.000000     0.000000"
      ]
     },
     "execution_count": 36,
     "metadata": {},
     "output_type": "execute_result"
    }
   ],
   "source": [
    "df_grid = CrossMultiTester.to_dataframe_from_grid(\n",
    "    result_3D,\n",
    "    aggregation_levels=[1,2,5,10,20,50],\n",
    "    block_sizes=[1,2,3,4,5,6,7,8,9,10],\n",
    "    test_name='NP Statistic'\n",
    ")\n",
    "\n",
    "df_grid"
   ]
  }
 ],
 "metadata": {
  "kernelspec": {
   "display_name": "Python 3",
   "language": "python",
   "name": "python3"
  },
  "language_info": {
   "codemirror_mode": {
    "name": "ipython",
    "version": 3
   },
   "file_extension": ".py",
   "mimetype": "text/x-python",
   "name": "python",
   "nbconvert_exporter": "python",
   "pygments_lexer": "ipython3",
   "version": "3.12.0"
  }
 },
 "nbformat": 4,
 "nbformat_minor": 5
}
