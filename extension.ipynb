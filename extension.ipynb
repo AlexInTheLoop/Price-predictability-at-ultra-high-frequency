{
 "cells": [
  {
   "cell_type": "markdown",
   "id": "1c79219c",
   "metadata": {},
   "source": [
    "# Préparation données & librairies"
   ]
  },
  {
   "cell_type": "code",
   "execution_count": 1,
   "id": "14982918",
   "metadata": {},
   "outputs": [],
   "source": [
    "import numpy as np\n",
    "import pandas as pd\n",
    "\n",
    "from data.DataManager import DataManager\n",
    "from main.CrossRandomnessAnalysis import CrossRandomnessAnalysis\n",
    "from data.DataCollectors import HistoricalDataCollector\n",
    "from main.RandomnessAnalysis import RandomnessAnalysis\n",
    "from main.PredictableDayAnalysis import PredictableDayAnalysis\n",
    "from utils.MultiTester import MultiTester\n",
    "from utils.VisualizationTools import plot_block_frequencies, plot_3D\n",
    "from utils.BlockConstructors import cross_overlapping_blocks, cross_non_overlapping_blocks \n",
    "from utils.MultiTester import CrossMultiTester\n"
   ]
  },
  {
   "cell_type": "code",
   "execution_count": null,
   "id": "45591dd1",
   "metadata": {},
   "outputs": [],
   "source": [
    "'''\n",
    "asset_pairs = ['BTCUSDT','ETHUSDT','SOLUSDT',\n",
    "               'BNBUSDT', 'AVAXUSDT', 'UNIUSDT',\n",
    "               'LINKUSDT', 'AXSUSDT', 'RENDERUSDT']\n",
    "'''\n",
    "\n",
    "asset_pairs = [\"BTCUSDT\", \"ETHUSDT\"]\n",
    "\n",
    "symbols = {\n",
    "            0: [(-np.inf, 0)\n",
    "                , (False, False)],\n",
    "            1: [(0, np.inf), (False, False)]\n",
    "        }"
   ]
  },
  {
   "cell_type": "code",
   "execution_count": null,
   "id": "36a9d4e3",
   "metadata": {},
   "outputs": [],
   "source": [
    "year, month = 2025, 2"
   ]
  },
  {
   "cell_type": "code",
   "execution_count": null,
   "id": "501c1328",
   "metadata": {},
   "outputs": [],
   "source": [
    "historical_collector = HistoricalDataCollector(pairs=asset_pairs, year=year, month=month)\n",
    "historical_collector.collect()"
   ]
  },
  {
   "cell_type": "markdown",
   "id": "3ddefc1b",
   "metadata": {},
   "source": [
    "# Analyse des transactions"
   ]
  },
  {
   "cell_type": "code",
   "execution_count": null,
   "id": "981ad8f7",
   "metadata": {},
   "outputs": [],
   "source": [
    "pairs = [\"BTCUSDT\", \"ETHUSDT\"]\n",
    "aggregation_levels = [1, 5, 10, 25, 50, 75, 100, 200, 500, 1000]\n",
    "\n",
    "tx_df = DataManager.summarize_transaction_characteristics(\n",
    "    pairs=pairs,\n",
    "    symbols=symbols,\n",
    "    year=year,\n",
    "    month=month,\n",
    "    aggregation_levels=aggregation_levels,\n",
    "    max_interval_sec=1.0\n",
    ")\n",
    "\n",
    "tx_df"
   ]
  },
  {
   "cell_type": "code",
   "execution_count": null,
   "id": "56908ad1",
   "metadata": {},
   "outputs": [],
   "source": [
    "fig = DataManager.plot_transaction_counts(\n",
    "    pairs=pairs,\n",
    "    symbols=symbols,\n",
    "    year=2024, month=11, day=5,\n",
    "    aggregation_levels=aggregation_levels\n",
    ")\n",
    "fig.show()"
   ]
  },
  {
   "cell_type": "markdown",
   "id": "230575c8",
   "metadata": {},
   "source": [
    "#  Cross KL Divergence"
   ]
  },
  {
   "cell_type": "code",
   "execution_count": null,
   "id": "26920b67",
   "metadata": {},
   "outputs": [],
   "source": [
    "alpha_eth = 5\n",
    "# Least liquid pair is ETHUSDT\n",
    "dm_eth = DataManager(['ETHUSDT'], symbols, 2024, 11, 5,\n",
    "                     aggregation_level=alpha_eth)\n",
    "\n",
    "# BTC is the most liquid pair, we use it to match the aggregation level of ETH to have the same number of blocks\n",
    "alpha_btc = dm_eth.matching_aggregation_for('BTCUSDT')\n",
    "\n",
    "dm_btc = DataManager(['BTCUSDT'], symbols, 2024, 11, 5,\n",
    "                      aggregation_level=alpha_btc)\n"
   ]
  },
  {
   "cell_type": "code",
   "execution_count": null,
   "id": "9df4df29",
   "metadata": {},
   "outputs": [],
   "source": [
    "blocks_eth = dm_eth.block_constructor(block_size=1, overlapping=False)['ETHUSDT']\n",
    "blocks_btc = dm_btc.block_constructor(block_size=1, overlapping=False)['BTCUSDT']\n"
   ]
  },
  {
   "cell_type": "markdown",
   "id": "ec47a7ed",
   "metadata": {},
   "source": [
    "We extract every aggregated symbol as its own row—no further grouping. This gives us the full, unbroken sequence of ordinal symbols at the chosen time‐tick granularity. With that sequence in hand, we can freely slide a window of size k over BTC and pair it with the very next ETH symbol (or construct disjoint windows) to perform our cross‐asset KL and entropy‐bias tests. By separating the notions of aggregation and windowing, we retain maximal flexibility and statistical validity."
   ]
  },
  {
   "cell_type": "markdown",
   "id": "56e84bb2",
   "metadata": {},
   "source": [
    "## Test simple "
   ]
  },
  {
   "cell_type": "code",
   "execution_count": null,
   "id": "c2e476a4",
   "metadata": {},
   "outputs": [],
   "source": [
    "k = 3   \n",
    "\n",
    "cra = CrossRandomnessAnalysis(\n",
    "    blocks_context=blocks_btc,\n",
    "    blocks_target =blocks_eth,\n",
    "    k=k,\n",
    "    s=2,\n",
    "    asset_context='BTCUSDT',\n",
    "    alpha_context=alpha_btc,\n",
    "    asset_target ='ETHUSDT',\n",
    "    alpha_target =alpha_eth\n",
    ")\n",
    "\n",
    "freq_df    = cra.compute_cross_frequencies()\n",
    "res_bias   = cra.entropy_bias_test()       # uses non-overlapping blocks \n",
    "res_kl     = cra.KL_divergence_test()      # uses overlapping blocks \n"
   ]
  },
  {
   "cell_type": "markdown",
   "id": "43459d17",
   "metadata": {},
   "source": [
    "## Multi-test"
   ]
  },
  {
   "cell_type": "code",
   "execution_count": null,
   "id": "9564d55c",
   "metadata": {},
   "outputs": [],
   "source": [
    "cmt = CrossMultiTester('BTCUSDT', 'ETHUSDT')\n",
    "\n",
    "df_blocks = cmt.test_by_block_size(\n",
    "    test='NP Statistic',\n",
    "    max_block_size=10,\n",
    "    alpha_context=5,\n",
    "    year=2024, month=11, day=5\n",
    ")\n",
    "display(df_blocks)"
   ]
  },
  {
   "cell_type": "code",
   "execution_count": null,
   "id": "197b1afb",
   "metadata": {},
   "outputs": [],
   "source": [
    "df = cmt.test_by_aggregation_level(\n",
    "    test='NP Statistic',\n",
    "    aggregation_levels=[1,2,5,10,20,50],\n",
    "    k=3,\n",
    "    year=2024, month=11, day=5\n",
    ")"
   ]
  },
  {
   "cell_type": "code",
   "execution_count": null,
   "id": "2c83230d",
   "metadata": {},
   "outputs": [],
   "source": [
    "cmt = CrossMultiTester('BTCUSDT', 'ETHUSDT')\n",
    "result_3D = cmt.test_grid(\n",
    "    test='NP Statistic',\n",
    "    list_aggregations=[1,2,5,10,20,50],\n",
    "    list_block_sizes=[1,2,3,4,5,6,7,8,9,10],\n",
    "    year=2024,\n",
    "    month=11,\n",
    "    day=5\n",
    ")\n",
    "\n",
    "plot_3D(result_3D, test='NP Statistic')"
   ]
  },
  {
   "cell_type": "code",
   "execution_count": null,
   "id": "867be7d4",
   "metadata": {},
   "outputs": [],
   "source": [
    "df_grid = CrossMultiTester.to_dataframe_from_grid(\n",
    "    result_3D,\n",
    "    aggregation_levels=[1,2,5,10,20,50],\n",
    "    block_sizes=[1,2,3,4,5,6,7,8,9,10],\n",
    "    test_name='NP Statistic'\n",
    ")\n"
   ]
  }
 ],
 "metadata": {
  "kernelspec": {
   "display_name": "Python 3",
   "language": "python",
   "name": "python3"
  },
  "language_info": {
   "codemirror_mode": {
    "name": "ipython",
    "version": 3
   },
   "file_extension": ".py",
   "mimetype": "text/x-python",
   "name": "python",
   "nbconvert_exporter": "python",
   "pygments_lexer": "ipython3",
   "version": "3.12.0"
  }
 },
 "nbformat": 4,
 "nbformat_minor": 5
}
