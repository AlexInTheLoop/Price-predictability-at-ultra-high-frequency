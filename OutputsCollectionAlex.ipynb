{
 "cells": [
  {
   "cell_type": "markdown",
   "id": "859df6eb",
   "metadata": {},
   "source": [
    "### SET UP"
   ]
  },
  {
   "cell_type": "code",
   "execution_count": 1,
   "id": "ebb8af39",
   "metadata": {},
   "outputs": [],
   "source": [
    "import numpy as np\n",
    "import pandas as pd\n",
    "from data.DataManager import DataManager\n",
    "from data.DataGenerator import DataGenerator\n",
    "from data.DataCollectors import HistoricalDataCollector, RealTimeDataCollector, HistoricalDataCollectorParquet\n",
    "from main.RandomnessAnalysis import RandomnessAnalysis\n",
    "from main.PredictableDayAnalysis import PredictableDayAnalysis\n",
    "from utils.Analysis import get_assets_properties, localization_predictable_intervals\n",
    "from utils.MultiTester import MultiTester\n",
    "from utils.VisualizationTools import plot_block_frequencies\n",
    "from utils.Analysis import intervals_analysis\n",
    "from utils.VisualizationTools import plot_test"
   ]
  },
  {
   "cell_type": "code",
   "execution_count": null,
   "id": "4a1b94b3",
   "metadata": {},
   "outputs": [],
   "source": [
    "asset_pairs = ['BTCUSDT','ETHUSDT','SOLUSDT',\n",
    "               'BNBUSDT', 'AVAXUSDT', 'UNIUSDT',\n",
    "               'LINKUSDT', 'AXSUSDT', 'RENDERUSDT']\n",
    "symbols = {\n",
    "            0: [(-np.inf, 0)\n",
    "                , (False, False)],\n",
    "            1: [(0, np.inf), (False, False)]\n",
    "        }\n",
    "s = 2"
   ]
  },
  {
   "cell_type": "code",
   "execution_count": 3,
   "id": "32407d2c",
   "metadata": {},
   "outputs": [],
   "source": [
    "year, month, day = 2025, 2, None"
   ]
  },
  {
   "cell_type": "code",
   "execution_count": 4,
   "id": "3edaced4",
   "metadata": {},
   "outputs": [
    {
     "name": "stdout",
     "output_type": "stream",
     "text": [
      "[SYSTEM] Processing BTCUSDT...\n",
      "[SYSTEM] Parquet data already available for BTCUSDT → data/raw_data_parquet\\BTCUSDT-trades-2025-02.parquet → Skipping download.\n",
      "[SYSTEM] Processing ETHUSDT...\n",
      "[SYSTEM] Parquet data already available for ETHUSDT → data/raw_data_parquet\\ETHUSDT-trades-2025-02.parquet → Skipping download.\n",
      "[SYSTEM] Processing UNIUSDT...\n",
      "[SYSTEM] Parquet data already available for UNIUSDT → data/raw_data_parquet\\UNIUSDT-trades-2025-02.parquet → Skipping download.\n"
     ]
    }
   ],
   "source": [
    "historical_collector = HistoricalDataCollectorParquet(pairs=asset_pairs, year=year, month=month, day=day)\n",
    "historical_collector.collect()"
   ]
  },
  {
   "cell_type": "code",
   "execution_count": 8,
   "id": "4d8cce89",
   "metadata": {},
   "outputs": [
    {
     "name": "stdout",
     "output_type": "stream",
     "text": [
      "[DataManager] Loading parquet file: data/raw_data_parquet\\BTCUSDT-trades-2025-02-01.parquet\n",
      "[INFO] Fichier parquet brut : data/raw_data_parquet/BTCUSDT-trades-2025-02-01.parquet\n",
      "[INFO] Nombre de lignes dans le parquet : 2588786\n",
      "[INFO] Colonnes : ['trade_id', 'price', 'volume', 'quote_qty', 'timestamp', 'is_buyer_maker', 'is_best_match']\n",
      "     trade_id      price   volume  quote_qty         timestamp  \\\n",
      "0  4495881901  102429.56  0.00005   5.121478  1738368000182381   \n",
      "1  4495881902  102429.56  0.00006   6.145774  1738368000182381   \n",
      "2  4495881903  102429.56  0.00006   6.145774  1738368000302865   \n",
      "3  4495881904  102429.56  0.00006   6.145774  1738368000302865   \n",
      "4  4495881905  102429.56  0.00012  12.291547  1738368000302865   \n",
      "\n",
      "   is_buyer_maker  is_best_match  \n",
      "0           False           True  \n",
      "1           False           True  \n",
      "2           False           True  \n",
      "3           False           True  \n",
      "4           False           True  \n",
      "\n",
      "[INFO] DataManager dataset :\n",
      "[INFO] Nombre de lignes après preprocessing : 556714\n",
      "[INFO] Colonnes : ['price', 'volume', 'returns', 'symbol']\n",
      "                                price   volume       returns  symbol\n",
      "timestamp                                                           \n",
      "2025-02-01 00:00:00.302865  11.536936  0.00006  5.662412e-06       1\n",
      "2025-02-01 00:00:00.302865  11.536945  0.00006  8.786438e-06       1\n",
      "2025-02-01 00:00:00.302865  11.536947  0.00006  1.464399e-06       1\n",
      "2025-02-01 00:00:00.302865  11.536947  0.00006  9.762651e-08       1\n",
      "2025-02-01 00:00:00.302865  11.536947  0.00006  9.762650e-08       1\n",
      "\n",
      "[INFO] Blocs :\n",
      "[INFO] Nombre total de blocs : 556713 (should be n_rows - block_size + 1)\n",
      "[INFO] Forme blocs : (556713, 2)\n",
      "   0  1\n",
      "0  1  1\n",
      "1  1  1\n",
      "2  1  1\n",
      "3  1  1\n",
      "4  1  1\n",
      "5  1  1\n",
      "6  1  0\n",
      "7  0  1\n",
      "8  1  0\n",
      "9  0  1\n"
     ]
    }
   ],
   "source": [
    "import pandas as pd\n",
    "\n",
    "pair = \"BTCUSDT\"\n",
    "data_manager = DataManager([\"BTCUSDT\"], symbols, year=year, month=month, day=day, aggregation_level=1)\n",
    "blocks = data_manager.block_constructor(block_size=2, overlapping=True)\n",
    "# 1. Charger directement le parquet \"raw_data_parquet\"\n",
    "parquet_file = f\"data/raw_data_parquet/{pair}-trades-{year}-{month:02d}-{day:02d}.parquet\"\n",
    "df_parquet = pd.read_parquet(parquet_file)\n",
    "print(f\"[INFO] Fichier parquet brut : {parquet_file}\")\n",
    "print(f\"[INFO] Nombre de lignes dans le parquet : {len(df_parquet)}\")\n",
    "print(f\"[INFO] Colonnes : {df_parquet.columns.tolist()}\")\n",
    "print(df_parquet.head())\n",
    "\n",
    "# 2. Récupérer le DataFrame préprocessé par DataManager\n",
    "df_preprocessed = data_manager.datasets[pair]\n",
    "print(\"\\n[INFO] DataManager dataset :\")\n",
    "print(f\"[INFO] Nombre de lignes après preprocessing : {len(df_preprocessed)}\")\n",
    "print(f\"[INFO] Colonnes : {df_preprocessed.columns.tolist()}\")\n",
    "print(df_preprocessed.head())\n",
    "\n",
    "# 3. Récupérer les blocs\n",
    "blocks = data_manager.block_constructor(block_size=2, overlapping=True)\n",
    "blocks_btc = blocks[pair]\n",
    "print(\"\\n[INFO] Blocs :\")\n",
    "print(f\"[INFO] Nombre total de blocs : {len(blocks_btc)} (should be n_rows - block_size + 1)\")\n",
    "print(f\"[INFO] Forme blocs : {blocks_btc.shape}\")\n",
    "print(blocks_btc.head(10))  # afficher 10 blocs\n"
   ]
  },
  {
   "cell_type": "markdown",
   "id": "525fb5f8",
   "metadata": {},
   "source": [
    "### Efficient vs Inefficient days"
   ]
  },
  {
   "cell_type": "markdown",
   "id": "278c40d3",
   "metadata": {},
   "source": [
    "#### BTC"
   ]
  },
  {
   "cell_type": "code",
   "execution_count": 6,
   "id": "dc3c491f",
   "metadata": {},
   "outputs": [
    {
     "name": "stdout",
     "output_type": "stream",
     "text": [
      "[DataManager] Loading parquet file: data/raw_data_parquet\\BTCUSDT-trades-2025-02.parquet\n",
      "[SYSTEM] Starting analysis → 28 days to process...\n"
     ]
    },
    {
     "name": "stderr",
     "output_type": "stream",
     "text": [
      "[BTCUSDT] Analyzing days: 100%|██████████| 28/28 [22:40<00:00, 48.58s/it] "
     ]
    },
    {
     "name": "stdout",
     "output_type": "stream",
     "text": [
      "[SYSTEM] Analysis completed : 28 days analyzed → 0 efficient, 28 inefficient.\n"
     ]
    },
    {
     "name": "stderr",
     "output_type": "stream",
     "text": [
      "\n"
     ]
    },
    {
     "data": {
      "text/html": [
       "<div>\n",
       "<style scoped>\n",
       "    .dataframe tbody tr th:only-of-type {\n",
       "        vertical-align: middle;\n",
       "    }\n",
       "\n",
       "    .dataframe tbody tr th {\n",
       "        vertical-align: top;\n",
       "    }\n",
       "\n",
       "    .dataframe thead th {\n",
       "        text-align: right;\n",
       "    }\n",
       "</style>\n",
       "<table border=\"1\" class=\"dataframe\">\n",
       "  <thead>\n",
       "    <tr style=\"text-align: right;\">\n",
       "      <th></th>\n",
       "    </tr>\n",
       "  </thead>\n",
       "  <tbody>\n",
       "  </tbody>\n",
       "</table>\n",
       "</div>"
      ],
      "text/plain": [
       "Empty DataFrame\n",
       "Columns: []\n",
       "Index: []"
      ]
     },
     "execution_count": 6,
     "metadata": {},
     "output_type": "execute_result"
    }
   ],
   "source": [
    "#Nouvelle version : \n",
    "data_manager = DataManager([\"BTCUSDT\"], symbols, year=year, month=month, day=day, aggregation_level=1)\n",
    "blocks = data_manager.block_constructor(block_size=2, overlapping=True)\n",
    "analysis = PredictableDayAnalysis(pair=\"BTCUSDT\", data_manager=data_manager)\n",
    "analysis.analyze_days(block_size=2, n_jobs=8)\n",
    "\n",
    "analysis.efficient_df"
   ]
  },
  {
   "cell_type": "code",
   "execution_count": 7,
   "id": "e803999d",
   "metadata": {},
   "outputs": [
    {
     "data": {
      "text/html": [
       "<div>\n",
       "<style scoped>\n",
       "    .dataframe tbody tr th:only-of-type {\n",
       "        vertical-align: middle;\n",
       "    }\n",
       "\n",
       "    .dataframe tbody tr th {\n",
       "        vertical-align: top;\n",
       "    }\n",
       "\n",
       "    .dataframe thead th {\n",
       "        text-align: right;\n",
       "    }\n",
       "</style>\n",
       "<table border=\"1\" class=\"dataframe\">\n",
       "  <thead>\n",
       "    <tr style=\"text-align: right;\">\n",
       "      <th></th>\n",
       "      <th>Jump fraction</th>\n",
       "      <th>Autocorrelation</th>\n",
       "      <th>Autocorrelation of squared returns</th>\n",
       "      <th>Student distribution degree of freedom</th>\n",
       "      <th>Student distribution mean</th>\n",
       "      <th>Student distribution standard deviation</th>\n",
       "      <th>Returns mean</th>\n",
       "      <th>Fractions of zero-returns</th>\n",
       "      <th>KL Divergence statistics</th>\n",
       "      <th>Empirical quantile</th>\n",
       "      <th>Hypothesis</th>\n",
       "    </tr>\n",
       "  </thead>\n",
       "  <tbody>\n",
       "    <tr>\n",
       "      <th>0</th>\n",
       "      <td>0.009263</td>\n",
       "      <td>-0.036351</td>\n",
       "      <td>0.200766</td>\n",
       "      <td>1.988286</td>\n",
       "      <td>-1.284749e-08</td>\n",
       "      <td>8.283958e-07</td>\n",
       "      <td>-1.480791e-09</td>\n",
       "      <td>0.0</td>\n",
       "      <td>6.623435e+04</td>\n",
       "      <td>6.634897</td>\n",
       "      <td>True</td>\n",
       "    </tr>\n",
       "    <tr>\n",
       "      <th>1</th>\n",
       "      <td>0.009993</td>\n",
       "      <td>-0.126350</td>\n",
       "      <td>0.306825</td>\n",
       "      <td>0.543643</td>\n",
       "      <td>-1.157639e-08</td>\n",
       "      <td>1.904304e-07</td>\n",
       "      <td>-3.173761e-08</td>\n",
       "      <td>0.0</td>\n",
       "      <td>8.223162e+04</td>\n",
       "      <td>6.634897</td>\n",
       "      <td>True</td>\n",
       "    </tr>\n",
       "    <tr>\n",
       "      <th>2</th>\n",
       "      <td>0.008610</td>\n",
       "      <td>-0.279057</td>\n",
       "      <td>0.314318</td>\n",
       "      <td>1.988331</td>\n",
       "      <td>-8.971039e-09</td>\n",
       "      <td>1.152788e-06</td>\n",
       "      <td>3.268467e-10</td>\n",
       "      <td>0.0</td>\n",
       "      <td>1.876580e+05</td>\n",
       "      <td>6.634897</td>\n",
       "      <td>True</td>\n",
       "    </tr>\n",
       "    <tr>\n",
       "      <th>3</th>\n",
       "      <td>0.007354</td>\n",
       "      <td>-0.104142</td>\n",
       "      <td>0.203054</td>\n",
       "      <td>1.988306</td>\n",
       "      <td>-3.746196e-08</td>\n",
       "      <td>1.492806e-06</td>\n",
       "      <td>-9.477338e-09</td>\n",
       "      <td>0.0</td>\n",
       "      <td>8.055670e+05</td>\n",
       "      <td>6.634897</td>\n",
       "      <td>True</td>\n",
       "    </tr>\n",
       "    <tr>\n",
       "      <th>4</th>\n",
       "      <td>0.008015</td>\n",
       "      <td>-0.189714</td>\n",
       "      <td>0.389228</td>\n",
       "      <td>1.988325</td>\n",
       "      <td>5.129374e-10</td>\n",
       "      <td>1.574108e-06</td>\n",
       "      <td>-3.826893e-10</td>\n",
       "      <td>0.0</td>\n",
       "      <td>7.867104e+05</td>\n",
       "      <td>6.634897</td>\n",
       "      <td>True</td>\n",
       "    </tr>\n",
       "    <tr>\n",
       "      <th>5</th>\n",
       "      <td>0.007836</td>\n",
       "      <td>-0.120107</td>\n",
       "      <td>0.167781</td>\n",
       "      <td>1.988297</td>\n",
       "      <td>-1.632158e-08</td>\n",
       "      <td>1.327490e-06</td>\n",
       "      <td>1.171574e-08</td>\n",
       "      <td>0.0</td>\n",
       "      <td>4.160548e+05</td>\n",
       "      <td>6.634897</td>\n",
       "      <td>True</td>\n",
       "    </tr>\n",
       "    <tr>\n",
       "      <th>6</th>\n",
       "      <td>0.007812</td>\n",
       "      <td>-0.074027</td>\n",
       "      <td>0.250404</td>\n",
       "      <td>0.527825</td>\n",
       "      <td>-7.215345e-09</td>\n",
       "      <td>3.215333e-07</td>\n",
       "      <td>-5.093478e-10</td>\n",
       "      <td>0.0</td>\n",
       "      <td>7.226034e+05</td>\n",
       "      <td>6.634897</td>\n",
       "      <td>True</td>\n",
       "    </tr>\n",
       "    <tr>\n",
       "      <th>7</th>\n",
       "      <td>0.008217</td>\n",
       "      <td>-0.121779</td>\n",
       "      <td>0.410299</td>\n",
       "      <td>1.988287</td>\n",
       "      <td>-1.251510e-08</td>\n",
       "      <td>1.099314e-06</td>\n",
       "      <td>-2.233954e-08</td>\n",
       "      <td>0.0</td>\n",
       "      <td>3.146635e+05</td>\n",
       "      <td>6.634897</td>\n",
       "      <td>True</td>\n",
       "    </tr>\n",
       "    <tr>\n",
       "      <th>8</th>\n",
       "      <td>0.010853</td>\n",
       "      <td>-0.046108</td>\n",
       "      <td>0.417502</td>\n",
       "      <td>0.562942</td>\n",
       "      <td>-4.823422e-09</td>\n",
       "      <td>1.929159e-07</td>\n",
       "      <td>2.165876e-09</td>\n",
       "      <td>0.0</td>\n",
       "      <td>4.190663e+04</td>\n",
       "      <td>6.634897</td>\n",
       "      <td>True</td>\n",
       "    </tr>\n",
       "    <tr>\n",
       "      <th>9</th>\n",
       "      <td>0.011210</td>\n",
       "      <td>-0.093456</td>\n",
       "      <td>0.425607</td>\n",
       "      <td>0.556852</td>\n",
       "      <td>-1.533488e-08</td>\n",
       "      <td>1.982305e-07</td>\n",
       "      <td>-4.727323e-08</td>\n",
       "      <td>0.0</td>\n",
       "      <td>4.611823e+04</td>\n",
       "      <td>6.634897</td>\n",
       "      <td>True</td>\n",
       "    </tr>\n",
       "    <tr>\n",
       "      <th>10</th>\n",
       "      <td>0.008143</td>\n",
       "      <td>-0.370297</td>\n",
       "      <td>0.513188</td>\n",
       "      <td>1.988346</td>\n",
       "      <td>7.891336e-09</td>\n",
       "      <td>1.389768e-06</td>\n",
       "      <td>2.037403e-08</td>\n",
       "      <td>0.0</td>\n",
       "      <td>5.077247e+05</td>\n",
       "      <td>6.634897</td>\n",
       "      <td>True</td>\n",
       "    </tr>\n",
       "    <tr>\n",
       "      <th>11</th>\n",
       "      <td>0.008827</td>\n",
       "      <td>-0.138018</td>\n",
       "      <td>0.394540</td>\n",
       "      <td>1.988320</td>\n",
       "      <td>1.354807e-08</td>\n",
       "      <td>1.110209e-06</td>\n",
       "      <td>1.198966e-08</td>\n",
       "      <td>0.0</td>\n",
       "      <td>3.466744e+05</td>\n",
       "      <td>6.634897</td>\n",
       "      <td>True</td>\n",
       "    </tr>\n",
       "    <tr>\n",
       "      <th>12</th>\n",
       "      <td>0.008664</td>\n",
       "      <td>-0.167085</td>\n",
       "      <td>0.435883</td>\n",
       "      <td>0.515201</td>\n",
       "      <td>-1.628858e-09</td>\n",
       "      <td>2.699471e-07</td>\n",
       "      <td>-1.505193e-08</td>\n",
       "      <td>0.0</td>\n",
       "      <td>4.281831e+05</td>\n",
       "      <td>6.634897</td>\n",
       "      <td>True</td>\n",
       "    </tr>\n",
       "    <tr>\n",
       "      <th>13</th>\n",
       "      <td>0.007792</td>\n",
       "      <td>-0.247925</td>\n",
       "      <td>0.568976</td>\n",
       "      <td>0.486271</td>\n",
       "      <td>-1.989561e-08</td>\n",
       "      <td>2.895581e-07</td>\n",
       "      <td>-1.805028e-08</td>\n",
       "      <td>0.0</td>\n",
       "      <td>1.057604e+06</td>\n",
       "      <td>6.634897</td>\n",
       "      <td>True</td>\n",
       "    </tr>\n",
       "    <tr>\n",
       "      <th>14</th>\n",
       "      <td>0.007366</td>\n",
       "      <td>-0.161860</td>\n",
       "      <td>0.363725</td>\n",
       "      <td>0.491557</td>\n",
       "      <td>-2.007294e-08</td>\n",
       "      <td>2.645814e-07</td>\n",
       "      <td>-1.636619e-08</td>\n",
       "      <td>0.0</td>\n",
       "      <td>8.899597e+05</td>\n",
       "      <td>6.634897</td>\n",
       "      <td>True</td>\n",
       "    </tr>\n",
       "    <tr>\n",
       "      <th>15</th>\n",
       "      <td>0.009509</td>\n",
       "      <td>-0.094369</td>\n",
       "      <td>0.361441</td>\n",
       "      <td>0.539789</td>\n",
       "      <td>-1.054874e-08</td>\n",
       "      <td>2.399755e-07</td>\n",
       "      <td>-5.873516e-09</td>\n",
       "      <td>0.0</td>\n",
       "      <td>2.011772e+05</td>\n",
       "      <td>6.634897</td>\n",
       "      <td>True</td>\n",
       "    </tr>\n",
       "    <tr>\n",
       "      <th>16</th>\n",
       "      <td>0.009831</td>\n",
       "      <td>-0.169579</td>\n",
       "      <td>0.334413</td>\n",
       "      <td>1.988283</td>\n",
       "      <td>-9.693965e-09</td>\n",
       "      <td>5.581019e-07</td>\n",
       "      <td>-8.049384e-09</td>\n",
       "      <td>0.0</td>\n",
       "      <td>6.678069e+04</td>\n",
       "      <td>6.634897</td>\n",
       "      <td>True</td>\n",
       "    </tr>\n",
       "    <tr>\n",
       "      <th>17</th>\n",
       "      <td>0.008679</td>\n",
       "      <td>-0.134801</td>\n",
       "      <td>0.352034</td>\n",
       "      <td>1.988336</td>\n",
       "      <td>-2.410056e-08</td>\n",
       "      <td>1.243911e-06</td>\n",
       "      <td>-1.159940e-09</td>\n",
       "      <td>0.0</td>\n",
       "      <td>5.304971e+05</td>\n",
       "      <td>6.634897</td>\n",
       "      <td>True</td>\n",
       "    </tr>\n",
       "    <tr>\n",
       "      <th>18</th>\n",
       "      <td>0.009830</td>\n",
       "      <td>-0.256696</td>\n",
       "      <td>0.488829</td>\n",
       "      <td>0.627751</td>\n",
       "      <td>-4.485591e-09</td>\n",
       "      <td>1.951831e-07</td>\n",
       "      <td>1.065523e-08</td>\n",
       "      <td>0.0</td>\n",
       "      <td>5.678942e+04</td>\n",
       "      <td>6.634897</td>\n",
       "      <td>True</td>\n",
       "    </tr>\n",
       "    <tr>\n",
       "      <th>19</th>\n",
       "      <td>0.007448</td>\n",
       "      <td>0.048342</td>\n",
       "      <td>0.152471</td>\n",
       "      <td>0.569193</td>\n",
       "      <td>-5.907034e-09</td>\n",
       "      <td>3.048788e-07</td>\n",
       "      <td>1.443974e-08</td>\n",
       "      <td>0.0</td>\n",
       "      <td>3.232566e+05</td>\n",
       "      <td>6.634897</td>\n",
       "      <td>True</td>\n",
       "    </tr>\n",
       "    <tr>\n",
       "      <th>20</th>\n",
       "      <td>0.007496</td>\n",
       "      <td>-0.042202</td>\n",
       "      <td>0.321292</td>\n",
       "      <td>0.576017</td>\n",
       "      <td>-5.680409e-09</td>\n",
       "      <td>2.601950e-07</td>\n",
       "      <td>2.527218e-08</td>\n",
       "      <td>0.0</td>\n",
       "      <td>2.580436e+05</td>\n",
       "      <td>6.634897</td>\n",
       "      <td>True</td>\n",
       "    </tr>\n",
       "    <tr>\n",
       "      <th>21</th>\n",
       "      <td>0.006852</td>\n",
       "      <td>-0.436568</td>\n",
       "      <td>0.336916</td>\n",
       "      <td>1.988260</td>\n",
       "      <td>-2.082033e-08</td>\n",
       "      <td>2.350518e-06</td>\n",
       "      <td>1.016555e-08</td>\n",
       "      <td>0.0</td>\n",
       "      <td>1.765551e+06</td>\n",
       "      <td>6.634897</td>\n",
       "      <td>True</td>\n",
       "    </tr>\n",
       "    <tr>\n",
       "      <th>22</th>\n",
       "      <td>0.006991</td>\n",
       "      <td>-0.201939</td>\n",
       "      <td>0.422145</td>\n",
       "      <td>0.554049</td>\n",
       "      <td>-1.350228e-08</td>\n",
       "      <td>2.785775e-07</td>\n",
       "      <td>-1.767062e-08</td>\n",
       "      <td>0.0</td>\n",
       "      <td>6.680532e+05</td>\n",
       "      <td>6.634897</td>\n",
       "      <td>True</td>\n",
       "    </tr>\n",
       "    <tr>\n",
       "      <th>23</th>\n",
       "      <td>0.007117</td>\n",
       "      <td>-0.179395</td>\n",
       "      <td>0.460714</td>\n",
       "      <td>0.570702</td>\n",
       "      <td>-1.706289e-08</td>\n",
       "      <td>2.882973e-07</td>\n",
       "      <td>-3.769693e-08</td>\n",
       "      <td>0.0</td>\n",
       "      <td>7.180572e+05</td>\n",
       "      <td>6.634897</td>\n",
       "      <td>True</td>\n",
       "    </tr>\n",
       "    <tr>\n",
       "      <th>24</th>\n",
       "      <td>0.007184</td>\n",
       "      <td>-0.181656</td>\n",
       "      <td>0.462758</td>\n",
       "      <td>0.526011</td>\n",
       "      <td>6.037709e-09</td>\n",
       "      <td>3.489108e-07</td>\n",
       "      <td>2.835586e-09</td>\n",
       "      <td>0.0</td>\n",
       "      <td>1.426624e+06</td>\n",
       "      <td>6.634897</td>\n",
       "      <td>True</td>\n",
       "    </tr>\n",
       "    <tr>\n",
       "      <th>25</th>\n",
       "      <td>0.007173</td>\n",
       "      <td>-0.125564</td>\n",
       "      <td>0.276660</td>\n",
       "      <td>1.988344</td>\n",
       "      <td>-1.084716e-08</td>\n",
       "      <td>2.116368e-06</td>\n",
       "      <td>-1.195440e-09</td>\n",
       "      <td>0.0</td>\n",
       "      <td>2.607446e+06</td>\n",
       "      <td>6.634897</td>\n",
       "      <td>True</td>\n",
       "    </tr>\n",
       "    <tr>\n",
       "      <th>26</th>\n",
       "      <td>0.006151</td>\n",
       "      <td>-0.158720</td>\n",
       "      <td>0.244610</td>\n",
       "      <td>0.516380</td>\n",
       "      <td>1.227746e-08</td>\n",
       "      <td>3.662402e-07</td>\n",
       "      <td>-2.015603e-08</td>\n",
       "      <td>0.0</td>\n",
       "      <td>1.790728e+06</td>\n",
       "      <td>6.634897</td>\n",
       "      <td>True</td>\n",
       "    </tr>\n",
       "    <tr>\n",
       "      <th>27</th>\n",
       "      <td>0.006861</td>\n",
       "      <td>-0.129215</td>\n",
       "      <td>0.300655</td>\n",
       "      <td>0.500619</td>\n",
       "      <td>-1.492698e-09</td>\n",
       "      <td>3.250361e-07</td>\n",
       "      <td>-1.065070e-08</td>\n",
       "      <td>0.0</td>\n",
       "      <td>1.889855e+06</td>\n",
       "      <td>6.634897</td>\n",
       "      <td>True</td>\n",
       "    </tr>\n",
       "  </tbody>\n",
       "</table>\n",
       "</div>"
      ],
      "text/plain": [
       "    Jump fraction  Autocorrelation  Autocorrelation of squared returns  \\\n",
       "0        0.009263        -0.036351                            0.200766   \n",
       "1        0.009993        -0.126350                            0.306825   \n",
       "2        0.008610        -0.279057                            0.314318   \n",
       "3        0.007354        -0.104142                            0.203054   \n",
       "4        0.008015        -0.189714                            0.389228   \n",
       "5        0.007836        -0.120107                            0.167781   \n",
       "6        0.007812        -0.074027                            0.250404   \n",
       "7        0.008217        -0.121779                            0.410299   \n",
       "8        0.010853        -0.046108                            0.417502   \n",
       "9        0.011210        -0.093456                            0.425607   \n",
       "10       0.008143        -0.370297                            0.513188   \n",
       "11       0.008827        -0.138018                            0.394540   \n",
       "12       0.008664        -0.167085                            0.435883   \n",
       "13       0.007792        -0.247925                            0.568976   \n",
       "14       0.007366        -0.161860                            0.363725   \n",
       "15       0.009509        -0.094369                            0.361441   \n",
       "16       0.009831        -0.169579                            0.334413   \n",
       "17       0.008679        -0.134801                            0.352034   \n",
       "18       0.009830        -0.256696                            0.488829   \n",
       "19       0.007448         0.048342                            0.152471   \n",
       "20       0.007496        -0.042202                            0.321292   \n",
       "21       0.006852        -0.436568                            0.336916   \n",
       "22       0.006991        -0.201939                            0.422145   \n",
       "23       0.007117        -0.179395                            0.460714   \n",
       "24       0.007184        -0.181656                            0.462758   \n",
       "25       0.007173        -0.125564                            0.276660   \n",
       "26       0.006151        -0.158720                            0.244610   \n",
       "27       0.006861        -0.129215                            0.300655   \n",
       "\n",
       "    Student distribution degree of freedom  Student distribution mean  \\\n",
       "0                                 1.988286              -1.284749e-08   \n",
       "1                                 0.543643              -1.157639e-08   \n",
       "2                                 1.988331              -8.971039e-09   \n",
       "3                                 1.988306              -3.746196e-08   \n",
       "4                                 1.988325               5.129374e-10   \n",
       "5                                 1.988297              -1.632158e-08   \n",
       "6                                 0.527825              -7.215345e-09   \n",
       "7                                 1.988287              -1.251510e-08   \n",
       "8                                 0.562942              -4.823422e-09   \n",
       "9                                 0.556852              -1.533488e-08   \n",
       "10                                1.988346               7.891336e-09   \n",
       "11                                1.988320               1.354807e-08   \n",
       "12                                0.515201              -1.628858e-09   \n",
       "13                                0.486271              -1.989561e-08   \n",
       "14                                0.491557              -2.007294e-08   \n",
       "15                                0.539789              -1.054874e-08   \n",
       "16                                1.988283              -9.693965e-09   \n",
       "17                                1.988336              -2.410056e-08   \n",
       "18                                0.627751              -4.485591e-09   \n",
       "19                                0.569193              -5.907034e-09   \n",
       "20                                0.576017              -5.680409e-09   \n",
       "21                                1.988260              -2.082033e-08   \n",
       "22                                0.554049              -1.350228e-08   \n",
       "23                                0.570702              -1.706289e-08   \n",
       "24                                0.526011               6.037709e-09   \n",
       "25                                1.988344              -1.084716e-08   \n",
       "26                                0.516380               1.227746e-08   \n",
       "27                                0.500619              -1.492698e-09   \n",
       "\n",
       "    Student distribution standard deviation  Returns mean  \\\n",
       "0                              8.283958e-07 -1.480791e-09   \n",
       "1                              1.904304e-07 -3.173761e-08   \n",
       "2                              1.152788e-06  3.268467e-10   \n",
       "3                              1.492806e-06 -9.477338e-09   \n",
       "4                              1.574108e-06 -3.826893e-10   \n",
       "5                              1.327490e-06  1.171574e-08   \n",
       "6                              3.215333e-07 -5.093478e-10   \n",
       "7                              1.099314e-06 -2.233954e-08   \n",
       "8                              1.929159e-07  2.165876e-09   \n",
       "9                              1.982305e-07 -4.727323e-08   \n",
       "10                             1.389768e-06  2.037403e-08   \n",
       "11                             1.110209e-06  1.198966e-08   \n",
       "12                             2.699471e-07 -1.505193e-08   \n",
       "13                             2.895581e-07 -1.805028e-08   \n",
       "14                             2.645814e-07 -1.636619e-08   \n",
       "15                             2.399755e-07 -5.873516e-09   \n",
       "16                             5.581019e-07 -8.049384e-09   \n",
       "17                             1.243911e-06 -1.159940e-09   \n",
       "18                             1.951831e-07  1.065523e-08   \n",
       "19                             3.048788e-07  1.443974e-08   \n",
       "20                             2.601950e-07  2.527218e-08   \n",
       "21                             2.350518e-06  1.016555e-08   \n",
       "22                             2.785775e-07 -1.767062e-08   \n",
       "23                             2.882973e-07 -3.769693e-08   \n",
       "24                             3.489108e-07  2.835586e-09   \n",
       "25                             2.116368e-06 -1.195440e-09   \n",
       "26                             3.662402e-07 -2.015603e-08   \n",
       "27                             3.250361e-07 -1.065070e-08   \n",
       "\n",
       "    Fractions of zero-returns  KL Divergence statistics  Empirical quantile  \\\n",
       "0                         0.0              6.623435e+04            6.634897   \n",
       "1                         0.0              8.223162e+04            6.634897   \n",
       "2                         0.0              1.876580e+05            6.634897   \n",
       "3                         0.0              8.055670e+05            6.634897   \n",
       "4                         0.0              7.867104e+05            6.634897   \n",
       "5                         0.0              4.160548e+05            6.634897   \n",
       "6                         0.0              7.226034e+05            6.634897   \n",
       "7                         0.0              3.146635e+05            6.634897   \n",
       "8                         0.0              4.190663e+04            6.634897   \n",
       "9                         0.0              4.611823e+04            6.634897   \n",
       "10                        0.0              5.077247e+05            6.634897   \n",
       "11                        0.0              3.466744e+05            6.634897   \n",
       "12                        0.0              4.281831e+05            6.634897   \n",
       "13                        0.0              1.057604e+06            6.634897   \n",
       "14                        0.0              8.899597e+05            6.634897   \n",
       "15                        0.0              2.011772e+05            6.634897   \n",
       "16                        0.0              6.678069e+04            6.634897   \n",
       "17                        0.0              5.304971e+05            6.634897   \n",
       "18                        0.0              5.678942e+04            6.634897   \n",
       "19                        0.0              3.232566e+05            6.634897   \n",
       "20                        0.0              2.580436e+05            6.634897   \n",
       "21                        0.0              1.765551e+06            6.634897   \n",
       "22                        0.0              6.680532e+05            6.634897   \n",
       "23                        0.0              7.180572e+05            6.634897   \n",
       "24                        0.0              1.426624e+06            6.634897   \n",
       "25                        0.0              2.607446e+06            6.634897   \n",
       "26                        0.0              1.790728e+06            6.634897   \n",
       "27                        0.0              1.889855e+06            6.634897   \n",
       "\n",
       "    Hypothesis  \n",
       "0         True  \n",
       "1         True  \n",
       "2         True  \n",
       "3         True  \n",
       "4         True  \n",
       "5         True  \n",
       "6         True  \n",
       "7         True  \n",
       "8         True  \n",
       "9         True  \n",
       "10        True  \n",
       "11        True  \n",
       "12        True  \n",
       "13        True  \n",
       "14        True  \n",
       "15        True  \n",
       "16        True  \n",
       "17        True  \n",
       "18        True  \n",
       "19        True  \n",
       "20        True  \n",
       "21        True  \n",
       "22        True  \n",
       "23        True  \n",
       "24        True  \n",
       "25        True  \n",
       "26        True  \n",
       "27        True  "
      ]
     },
     "execution_count": 7,
     "metadata": {},
     "output_type": "execute_result"
    }
   ],
   "source": [
    "analysis.inefficient_df"
   ]
  },
  {
   "cell_type": "markdown",
   "id": "4310d922",
   "metadata": {},
   "source": [
    "#### ETH"
   ]
  },
  {
   "cell_type": "code",
   "execution_count": null,
   "id": "63f86244",
   "metadata": {},
   "outputs": [
    {
     "name": "stdout",
     "output_type": "stream",
     "text": [
      "[DataManager] Loading parquet file: data/raw_data_parquet\\ETHUSDT-trades-2025-02.parquet\n",
      "[SYSTEM] Starting analysis → 28 days to process...\n"
     ]
    },
    {
     "name": "stderr",
     "output_type": "stream",
     "text": [
      "[ETHUSDT] Analyzing days:  14%|█▍        | 4/28 [05:08<28:38, 71.61s/it] "
     ]
    }
   ],
   "source": [
    "data_manager = DataManager([\"ETHUSDT\"], symbols, year=year, month=month, aggregation_level=1)\n",
    "blocks = data_manager.block_constructor(block_size=2, overlapping=True)\n",
    "analysis = PredictableDayAnalysis(pair=\"ETHUSDT\",data_manager=data_manager)\n",
    "analysis.analyze_days(block_size=2, n_jobs=8)\n",
    "analysis.efficient_df"
   ]
  },
  {
   "cell_type": "code",
   "execution_count": null,
   "id": "fd7ddba9",
   "metadata": {},
   "outputs": [],
   "source": [
    "analysis.inefficient_df"
   ]
  },
  {
   "cell_type": "markdown",
   "id": "94cbbdf5",
   "metadata": {},
   "source": [
    "### Predictable intervals locations (BTC)"
   ]
  },
  {
   "cell_type": "code",
   "execution_count": null,
   "id": "9349faf5",
   "metadata": {},
   "outputs": [],
   "source": [
    "df = localization_predictable_intervals(data_manager, \"BTCUSDT\", test='NP Statistic')\n",
    "df.head(10)"
   ]
  },
  {
   "cell_type": "markdown",
   "id": "ff2d3118",
   "metadata": {},
   "source": [
    "### Aggregation level 1"
   ]
  },
  {
   "cell_type": "code",
   "execution_count": null,
   "id": "68bad3da",
   "metadata": {},
   "outputs": [],
   "source": [
    "data_manager = DataManager(asset_pairs, symbols, year=year, month=month, aggregation_level=1)"
   ]
  },
  {
   "cell_type": "markdown",
   "id": "77c369eb",
   "metadata": {},
   "source": [
    "#### Non overlapping"
   ]
  },
  {
   "cell_type": "code",
   "execution_count": null,
   "id": "a37bf851",
   "metadata": {},
   "outputs": [],
   "source": [
    "blocks_size_2 = data_manager.block_constructor(block_size=2, overlapping=False)\n",
    "blocks_size_3 = data_manager.block_constructor(block_size=3, overlapping=False)\n",
    "blocks_size_5 = data_manager.block_constructor(block_size=5, overlapping=False)"
   ]
  },
  {
   "cell_type": "markdown",
   "id": "971116cc",
   "metadata": {},
   "source": [
    "##### Block size 2"
   ]
  },
  {
   "cell_type": "code",
   "execution_count": null,
   "id": "4606b774",
   "metadata": {},
   "outputs": [],
   "source": [
    "blocks_btc = blocks_size_2['BTCUSDT']\n",
    "analyser = RandomnessAnalysis(blocks_df=blocks_btc, s=s)\n",
    "frequencies_df = analyser.compute_blocks_frequencies()\n",
    "plot_block_frequencies(frequencies_df)"
   ]
  },
  {
   "cell_type": "code",
   "execution_count": null,
   "id": "b1177465",
   "metadata": {},
   "outputs": [],
   "source": [
    "test_entropy = analyser.entropy_bias_test()\n",
    "test_entropy"
   ]
  },
  {
   "cell_type": "code",
   "execution_count": null,
   "id": "39382c9c",
   "metadata": {},
   "outputs": [],
   "source": [
    "blocks_eth = blocks_size_2['ETHUSDT']\n",
    "analyser = RandomnessAnalysis(blocks_df=blocks_eth, s=s)\n",
    "frequencies_df = analyser.compute_blocks_frequencies()\n",
    "plot_block_frequencies(frequencies_df)"
   ]
  },
  {
   "cell_type": "code",
   "execution_count": null,
   "id": "14caf361",
   "metadata": {},
   "outputs": [],
   "source": [
    "test_entropy = analyser.entropy_bias_test()\n",
    "test_entropy"
   ]
  },
  {
   "cell_type": "code",
   "execution_count": null,
   "id": "90ba85db",
   "metadata": {},
   "outputs": [],
   "source": [
    "blocks_uni = blocks_size_2['UNIUSDT']\n",
    "analyser = RandomnessAnalysis(blocks_df=blocks_uni, s=s)\n",
    "frequencies_df = analyser.compute_blocks_frequencies()\n",
    "plot_block_frequencies(frequencies_df)"
   ]
  },
  {
   "cell_type": "code",
   "execution_count": null,
   "id": "2d14b964",
   "metadata": {},
   "outputs": [],
   "source": [
    "test_entropy = analyser.entropy_bias_test()\n",
    "test_entropy"
   ]
  },
  {
   "cell_type": "markdown",
   "id": "6b1ea084",
   "metadata": {},
   "source": [
    "##### Block size 3"
   ]
  },
  {
   "cell_type": "code",
   "execution_count": null,
   "id": "e293d229",
   "metadata": {},
   "outputs": [],
   "source": [
    "blocks_btc = blocks_size_3['BTCUSDT']\n",
    "analyser = RandomnessAnalysis(blocks_df=blocks_btc, s=s)\n",
    "frequencies_df = analyser.compute_blocks_frequencies()\n",
    "plot_block_frequencies(frequencies_df)"
   ]
  },
  {
   "cell_type": "code",
   "execution_count": null,
   "id": "557b137d",
   "metadata": {},
   "outputs": [],
   "source": [
    "blocks_eth = blocks_size_3['ETHUSDT']\n",
    "analyser = RandomnessAnalysis(blocks_df=blocks_eth, s=s)\n",
    "frequencies_df = analyser.compute_blocks_frequencies()\n",
    "plot_block_frequencies(frequencies_df)"
   ]
  },
  {
   "cell_type": "code",
   "execution_count": null,
   "id": "6a709a7a",
   "metadata": {},
   "outputs": [],
   "source": [
    "blocks_uni = blocks_size_3['UNIUSDT']\n",
    "analyser = RandomnessAnalysis(blocks_df=blocks_uni, s=s)\n",
    "frequencies_df = analyser.compute_blocks_frequencies()\n",
    "plot_block_frequencies(frequencies_df)"
   ]
  },
  {
   "cell_type": "markdown",
   "id": "53b0b7ab",
   "metadata": {},
   "source": [
    "##### Block size 5"
   ]
  },
  {
   "cell_type": "code",
   "execution_count": null,
   "id": "1de157c7",
   "metadata": {},
   "outputs": [],
   "source": [
    "blocks_btc = blocks_size_5['BTCUSDT']\n",
    "analyser = RandomnessAnalysis(blocks_df=blocks_btc, s=s)\n",
    "frequencies_df = analyser.compute_blocks_frequencies()\n",
    "plot_block_frequencies(frequencies_df)"
   ]
  },
  {
   "cell_type": "code",
   "execution_count": null,
   "id": "f26e5484",
   "metadata": {},
   "outputs": [],
   "source": [
    "blocks_eth = blocks_size_5['ETHUSDT']\n",
    "analyser = RandomnessAnalysis(blocks_df=blocks_eth, s=s)\n",
    "frequencies_df = analyser.compute_blocks_frequencies()\n",
    "plot_block_frequencies(frequencies_df)"
   ]
  },
  {
   "cell_type": "code",
   "execution_count": null,
   "id": "da418c1e",
   "metadata": {},
   "outputs": [],
   "source": [
    "blocks_uni = blocks_size_5['UNIUSDT']\n",
    "analyser = RandomnessAnalysis(blocks_df=blocks_uni, s=s)\n",
    "frequencies_df = analyser.compute_blocks_frequencies()\n",
    "plot_block_frequencies(frequencies_df)"
   ]
  },
  {
   "cell_type": "markdown",
   "id": "ff9c233d",
   "metadata": {},
   "source": [
    "#### Overlapping"
   ]
  },
  {
   "cell_type": "code",
   "execution_count": null,
   "id": "96a90aa3",
   "metadata": {},
   "outputs": [],
   "source": [
    "blocks_size_2 = data_manager.block_constructor(block_size=2, overlapping=True)\n",
    "blocks_size_3 = data_manager.block_constructor(block_size=3, overlapping=True)\n",
    "blocks_size_5 = data_manager.block_constructor(block_size=5, overlapping=True)"
   ]
  },
  {
   "cell_type": "markdown",
   "id": "9102de9d",
   "metadata": {},
   "source": [
    "##### Block size 2"
   ]
  },
  {
   "cell_type": "code",
   "execution_count": null,
   "id": "bab48889",
   "metadata": {},
   "outputs": [],
   "source": [
    "blocks_btc = blocks_size_2['BTCUSDT']\n",
    "analyser = RandomnessAnalysis(blocks_df=blocks_btc, s=s)\n",
    "frequencies_df = analyser.compute_blocks_frequencies()\n",
    "plot_block_frequencies(frequencies_df)"
   ]
  },
  {
   "cell_type": "code",
   "execution_count": null,
   "id": "5a49966c",
   "metadata": {},
   "outputs": [],
   "source": [
    "test_divergence = analyser.KL_divergence_test()\n",
    "test_divergence"
   ]
  },
  {
   "cell_type": "code",
   "execution_count": null,
   "id": "5ec85287",
   "metadata": {},
   "outputs": [],
   "source": [
    "blocks_eth = blocks_size_2['ETHUSDT']\n",
    "analyser = RandomnessAnalysis(blocks_df=blocks_eth, s=s)\n",
    "frequencies_df = analyser.compute_blocks_frequencies()\n",
    "plot_block_frequencies(frequencies_df)"
   ]
  },
  {
   "cell_type": "code",
   "execution_count": null,
   "id": "1ee78dfb",
   "metadata": {},
   "outputs": [],
   "source": [
    "test_divergence = analyser.KL_divergence_test()\n",
    "test_divergence"
   ]
  },
  {
   "cell_type": "code",
   "execution_count": null,
   "id": "1f8f678d",
   "metadata": {},
   "outputs": [],
   "source": [
    "blocks_uni = blocks_size_2['UNIUSDT']\n",
    "analyser = RandomnessAnalysis(blocks_df=blocks_uni, s=s)\n",
    "frequencies_df = analyser.compute_blocks_frequencies()\n",
    "plot_block_frequencies(frequencies_df)"
   ]
  },
  {
   "cell_type": "code",
   "execution_count": null,
   "id": "89198a4d",
   "metadata": {},
   "outputs": [],
   "source": [
    "test_divergence = analyser.KL_divergence_test()\n",
    "test_divergence"
   ]
  },
  {
   "cell_type": "markdown",
   "id": "cac0c0d0",
   "metadata": {},
   "source": [
    "##### Block size 3"
   ]
  },
  {
   "cell_type": "code",
   "execution_count": null,
   "id": "4fdace74",
   "metadata": {},
   "outputs": [],
   "source": [
    "blocks_btc = blocks_size_3['BTCUSDT']\n",
    "analyser = RandomnessAnalysis(blocks_df=blocks_btc, s=s)\n",
    "frequencies_df = analyser.compute_blocks_frequencies()\n",
    "plot_block_frequencies(frequencies_df)"
   ]
  },
  {
   "cell_type": "code",
   "execution_count": null,
   "id": "d236d1aa",
   "metadata": {},
   "outputs": [],
   "source": [
    "blocks_eth = blocks_size_3['ETHUSDT']\n",
    "analyser = RandomnessAnalysis(blocks_df=blocks_eth, s=s)\n",
    "frequencies_df = analyser.compute_blocks_frequencies()\n",
    "plot_block_frequencies(frequencies_df)"
   ]
  },
  {
   "cell_type": "code",
   "execution_count": null,
   "id": "a4d2ccf1",
   "metadata": {},
   "outputs": [],
   "source": [
    "blocks_uni = blocks_size_3['UNIUSDT']\n",
    "analyser = RandomnessAnalysis(blocks_df=blocks_uni, s=s)\n",
    "frequencies_df = analyser.compute_blocks_frequencies()\n",
    "plot_block_frequencies(frequencies_df)"
   ]
  },
  {
   "cell_type": "markdown",
   "id": "472c5c50",
   "metadata": {},
   "source": [
    "##### Block size 5"
   ]
  },
  {
   "cell_type": "code",
   "execution_count": null,
   "id": "4e40f5f2",
   "metadata": {},
   "outputs": [],
   "source": [
    "blocks_btc = blocks_size_5['BTCUSDT']\n",
    "analyser = RandomnessAnalysis(blocks_df=blocks_btc, s=s)\n",
    "frequencies_df = analyser.compute_blocks_frequencies()\n",
    "plot_block_frequencies(frequencies_df)"
   ]
  },
  {
   "cell_type": "code",
   "execution_count": null,
   "id": "621f9f6b",
   "metadata": {},
   "outputs": [],
   "source": [
    "blocks_eth = blocks_size_5['ETHUSDT']\n",
    "analyser = RandomnessAnalysis(blocks_df=blocks_eth, s=s)\n",
    "frequencies_df = analyser.compute_blocks_frequencies()\n",
    "plot_block_frequencies(frequencies_df)"
   ]
  },
  {
   "cell_type": "code",
   "execution_count": null,
   "id": "88a1bfac",
   "metadata": {},
   "outputs": [],
   "source": [
    "blocks_uni = blocks_size_5['UNIUSDT']\n",
    "analyser = RandomnessAnalysis(blocks_df=blocks_uni, s=s)\n",
    "frequencies_df = analyser.compute_blocks_frequencies()\n",
    "plot_block_frequencies(frequencies_df)"
   ]
  },
  {
   "cell_type": "markdown",
   "id": "19e27f23",
   "metadata": {},
   "source": [
    "### Aggregation level 5"
   ]
  },
  {
   "cell_type": "code",
   "execution_count": null,
   "id": "a4f2f758",
   "metadata": {},
   "outputs": [],
   "source": [
    "data_manager = DataManager(asset_pairs, symbols, year=year, month=month, aggregation_level=5)"
   ]
  },
  {
   "cell_type": "markdown",
   "id": "30a9ae25",
   "metadata": {},
   "source": [
    "#### Non overlapping"
   ]
  },
  {
   "cell_type": "code",
   "execution_count": null,
   "id": "d6337ff9",
   "metadata": {},
   "outputs": [],
   "source": [
    "blocks_size_2 = data_manager.block_constructor(block_size=2, overlapping=False)\n",
    "blocks_size_3 = data_manager.block_constructor(block_size=3, overlapping=False)\n",
    "blocks_size_5 = data_manager.block_constructor(block_size=5, overlapping=False)"
   ]
  },
  {
   "cell_type": "markdown",
   "id": "4b2568a1",
   "metadata": {},
   "source": [
    "##### Block size 2"
   ]
  },
  {
   "cell_type": "code",
   "execution_count": null,
   "id": "3e85af7f",
   "metadata": {},
   "outputs": [],
   "source": [
    "blocks_btc = blocks_size_2['BTCUSDT']\n",
    "analyser = RandomnessAnalysis(blocks_df=blocks_btc, s=s)\n",
    "frequencies_df = analyser.compute_blocks_frequencies()\n",
    "plot_block_frequencies(frequencies_df)"
   ]
  },
  {
   "cell_type": "code",
   "execution_count": null,
   "id": "75315d20",
   "metadata": {},
   "outputs": [],
   "source": [
    "test_entropy = analyser.entropy_bias_test()\n",
    "test_entropy"
   ]
  },
  {
   "cell_type": "code",
   "execution_count": null,
   "id": "83333ebf",
   "metadata": {},
   "outputs": [],
   "source": [
    "blocks_eth = blocks_size_2['ETHUSDT']\n",
    "analyser = RandomnessAnalysis(blocks_df=blocks_eth, s=s)\n",
    "frequencies_df = analyser.compute_blocks_frequencies()\n",
    "plot_block_frequencies(frequencies_df)"
   ]
  },
  {
   "cell_type": "code",
   "execution_count": null,
   "id": "fe632ce8",
   "metadata": {},
   "outputs": [],
   "source": [
    "test_entropy = analyser.entropy_bias_test()\n",
    "test_entropy"
   ]
  },
  {
   "cell_type": "code",
   "execution_count": null,
   "id": "7ead65b3",
   "metadata": {},
   "outputs": [],
   "source": [
    "blocks_uni = blocks_size_2['UNIUSDT']\n",
    "analyser = RandomnessAnalysis(blocks_df=blocks_uni, s=s)\n",
    "frequencies_df = analyser.compute_blocks_frequencies()\n",
    "plot_block_frequencies(frequencies_df)"
   ]
  },
  {
   "cell_type": "code",
   "execution_count": null,
   "id": "8d0c794a",
   "metadata": {},
   "outputs": [],
   "source": [
    "test_entropy = analyser.entropy_bias_test()\n",
    "test_entropy"
   ]
  },
  {
   "cell_type": "markdown",
   "id": "9bc532d1",
   "metadata": {},
   "source": [
    "##### Block size 3"
   ]
  },
  {
   "cell_type": "code",
   "execution_count": null,
   "id": "da496395",
   "metadata": {},
   "outputs": [],
   "source": [
    "blocks_btc = blocks_size_3['BTCUSDT']\n",
    "analyser = RandomnessAnalysis(blocks_df=blocks_btc, s=s)\n",
    "frequencies_df = analyser.compute_blocks_frequencies()\n",
    "plot_block_frequencies(frequencies_df)"
   ]
  },
  {
   "cell_type": "code",
   "execution_count": null,
   "id": "26cd31ad",
   "metadata": {},
   "outputs": [],
   "source": [
    "blocks_eth = blocks_size_3['ETHUSDT']\n",
    "analyser = RandomnessAnalysis(blocks_df=blocks_eth, s=s)\n",
    "frequencies_df = analyser.compute_blocks_frequencies()\n",
    "plot_block_frequencies(frequencies_df)"
   ]
  },
  {
   "cell_type": "code",
   "execution_count": null,
   "id": "8d84b8ac",
   "metadata": {},
   "outputs": [],
   "source": [
    "blocks_uni = blocks_size_3['UNIUSDT']\n",
    "analyser = RandomnessAnalysis(blocks_df=blocks_uni, s=s)\n",
    "frequencies_df = analyser.compute_blocks_frequencies()\n",
    "plot_block_frequencies(frequencies_df)"
   ]
  },
  {
   "cell_type": "markdown",
   "id": "95a68757",
   "metadata": {},
   "source": [
    "##### Block size 5"
   ]
  },
  {
   "cell_type": "code",
   "execution_count": null,
   "id": "bef03c19",
   "metadata": {},
   "outputs": [],
   "source": [
    "blocks_btc = blocks_size_5['BTCUSDT']\n",
    "analyser = RandomnessAnalysis(blocks_df=blocks_btc, s=s)\n",
    "frequencies_df = analyser.compute_blocks_frequencies()\n",
    "plot_block_frequencies(frequencies_df)"
   ]
  },
  {
   "cell_type": "code",
   "execution_count": null,
   "id": "acfe267f",
   "metadata": {},
   "outputs": [],
   "source": [
    "blocks_eth = blocks_size_5['ETHUSDT']\n",
    "analyser = RandomnessAnalysis(blocks_df=blocks_eth, s=s)\n",
    "frequencies_df = analyser.compute_blocks_frequencies()\n",
    "plot_block_frequencies(frequencies_df)"
   ]
  },
  {
   "cell_type": "code",
   "execution_count": null,
   "id": "3697856c",
   "metadata": {},
   "outputs": [],
   "source": [
    "blocks_uni = blocks_size_5['UNIUSDT']\n",
    "analyser = RandomnessAnalysis(blocks_df=blocks_uni, s=s)\n",
    "frequencies_df = analyser.compute_blocks_frequencies()\n",
    "plot_block_frequencies(frequencies_df)"
   ]
  },
  {
   "cell_type": "markdown",
   "id": "63c96b05",
   "metadata": {},
   "source": [
    "#### Overlapping"
   ]
  },
  {
   "cell_type": "code",
   "execution_count": null,
   "id": "f97530b3",
   "metadata": {},
   "outputs": [],
   "source": [
    "blocks_size_2 = data_manager.block_constructor(block_size=2, overlapping=True)\n",
    "blocks_size_3 = data_manager.block_constructor(block_size=3, overlapping=True)\n",
    "blocks_size_5 = data_manager.block_constructor(block_size=5, overlapping=True)"
   ]
  },
  {
   "cell_type": "markdown",
   "id": "9706b9e2",
   "metadata": {},
   "source": [
    "##### Block size 2"
   ]
  },
  {
   "cell_type": "code",
   "execution_count": null,
   "id": "8ced8fcd",
   "metadata": {},
   "outputs": [],
   "source": [
    "blocks_btc = blocks_size_2['BTCUSDT']\n",
    "analyser = RandomnessAnalysis(blocks_df=blocks_btc, s=s)\n",
    "frequencies_df = analyser.compute_blocks_frequencies()\n",
    "plot_block_frequencies(frequencies_df)"
   ]
  },
  {
   "cell_type": "code",
   "execution_count": null,
   "id": "19a8ab6d",
   "metadata": {},
   "outputs": [],
   "source": [
    "test_divergence = analyser.KL_divergence_test()\n",
    "test_divergence"
   ]
  },
  {
   "cell_type": "code",
   "execution_count": null,
   "id": "2026b3bb",
   "metadata": {},
   "outputs": [],
   "source": [
    "blocks_eth = blocks_size_2['ETHUSDT']\n",
    "analyser = RandomnessAnalysis(blocks_df=blocks_eth, s=s)\n",
    "frequencies_df = analyser.compute_blocks_frequencies()\n",
    "plot_block_frequencies(frequencies_df)"
   ]
  },
  {
   "cell_type": "code",
   "execution_count": null,
   "id": "9f2c04f6",
   "metadata": {},
   "outputs": [],
   "source": [
    "test_divergence = analyser.KL_divergence_test()\n",
    "test_divergence"
   ]
  },
  {
   "cell_type": "code",
   "execution_count": null,
   "id": "7b2ef9e0",
   "metadata": {},
   "outputs": [],
   "source": [
    "blocks_uni = blocks_size_2['UNIUSDT']\n",
    "analyser = RandomnessAnalysis(blocks_df=blocks_uni, s=s)\n",
    "frequencies_df = analyser.compute_blocks_frequencies()\n",
    "plot_block_frequencies(frequencies_df)"
   ]
  },
  {
   "cell_type": "code",
   "execution_count": null,
   "id": "3397f992",
   "metadata": {},
   "outputs": [],
   "source": [
    "test_divergence = analyser.KL_divergence_test()\n",
    "test_divergence"
   ]
  },
  {
   "cell_type": "markdown",
   "id": "9e0b5f5b",
   "metadata": {},
   "source": [
    "##### Block size 3"
   ]
  },
  {
   "cell_type": "code",
   "execution_count": null,
   "id": "74239942",
   "metadata": {},
   "outputs": [],
   "source": [
    "blocks_btc = blocks_size_3['BTCUSDT']\n",
    "analyser = RandomnessAnalysis(blocks_df=blocks_btc, s=s)\n",
    "frequencies_df = analyser.compute_blocks_frequencies()\n",
    "plot_block_frequencies(frequencies_df)"
   ]
  },
  {
   "cell_type": "code",
   "execution_count": null,
   "id": "21a48a45",
   "metadata": {},
   "outputs": [],
   "source": [
    "blocks_eth = blocks_size_3['ETHUSDT']\n",
    "analyser = RandomnessAnalysis(blocks_df=blocks_eth, s=s)\n",
    "frequencies_df = analyser.compute_blocks_frequencies()\n",
    "plot_block_frequencies(frequencies_df)"
   ]
  },
  {
   "cell_type": "code",
   "execution_count": null,
   "id": "c97846f7",
   "metadata": {},
   "outputs": [],
   "source": [
    "blocks_uni = blocks_size_3['UNIUSDT']\n",
    "analyser = RandomnessAnalysis(blocks_df=blocks_uni, s=s)\n",
    "frequencies_df = analyser.compute_blocks_frequencies()\n",
    "plot_block_frequencies(frequencies_df)"
   ]
  },
  {
   "cell_type": "markdown",
   "id": "2175a9eb",
   "metadata": {},
   "source": [
    "##### Block size 5"
   ]
  },
  {
   "cell_type": "code",
   "execution_count": null,
   "id": "94f774be",
   "metadata": {},
   "outputs": [],
   "source": [
    "blocks_btc = blocks_size_5['BTCUSDT']\n",
    "analyser = RandomnessAnalysis(blocks_df=blocks_btc, s=s)\n",
    "frequencies_df = analyser.compute_blocks_frequencies()\n",
    "plot_block_frequencies(frequencies_df)"
   ]
  },
  {
   "cell_type": "code",
   "execution_count": null,
   "id": "64103e5a",
   "metadata": {},
   "outputs": [],
   "source": [
    "blocks_eth = blocks_size_5['ETHUSDT']\n",
    "analyser = RandomnessAnalysis(blocks_df=blocks_eth, s=s)\n",
    "frequencies_df = analyser.compute_blocks_frequencies()\n",
    "plot_block_frequencies(frequencies_df)"
   ]
  },
  {
   "cell_type": "code",
   "execution_count": null,
   "id": "3542b7e5",
   "metadata": {},
   "outputs": [],
   "source": [
    "blocks_uni = blocks_size_5['UNIUSDT']\n",
    "analyser = RandomnessAnalysis(blocks_df=blocks_uni, s=s)\n",
    "frequencies_df = analyser.compute_blocks_frequencies()\n",
    "plot_block_frequencies(frequencies_df)"
   ]
  },
  {
   "cell_type": "markdown",
   "id": "1bb91fb6",
   "metadata": {},
   "source": [
    "### Aggregation level 20"
   ]
  },
  {
   "cell_type": "code",
   "execution_count": null,
   "id": "474a28cc",
   "metadata": {},
   "outputs": [],
   "source": [
    "data_manager = DataManager(asset_pairs, symbols, year=year, month=month, aggregation_level=20)"
   ]
  },
  {
   "cell_type": "markdown",
   "id": "162101c1",
   "metadata": {},
   "source": [
    "#### Non overlapping"
   ]
  },
  {
   "cell_type": "code",
   "execution_count": null,
   "id": "744b8986",
   "metadata": {},
   "outputs": [],
   "source": [
    "blocks_size_2 = data_manager.block_constructor(block_size=2, overlapping=False)\n",
    "blocks_size_3 = data_manager.block_constructor(block_size=3, overlapping=False)\n",
    "blocks_size_5 = data_manager.block_constructor(block_size=5, overlapping=False)"
   ]
  },
  {
   "cell_type": "markdown",
   "id": "2468f475",
   "metadata": {},
   "source": [
    "##### Block size 2"
   ]
  },
  {
   "cell_type": "code",
   "execution_count": null,
   "id": "139f5c2b",
   "metadata": {},
   "outputs": [],
   "source": [
    "blocks_btc = blocks_size_2['BTCUSDT']\n",
    "analyser = RandomnessAnalysis(blocks_df=blocks_btc, s=s)\n",
    "frequencies_df = analyser.compute_blocks_frequencies()\n",
    "plot_block_frequencies(frequencies_df)"
   ]
  },
  {
   "cell_type": "code",
   "execution_count": null,
   "id": "3f2e4b1e",
   "metadata": {},
   "outputs": [],
   "source": [
    "test_entropy = analyser.entropy_bias_test()\n",
    "test_entropy"
   ]
  },
  {
   "cell_type": "code",
   "execution_count": null,
   "id": "2e954c6f",
   "metadata": {},
   "outputs": [],
   "source": [
    "blocks_eth = blocks_size_2['ETHUSDT']\n",
    "analyser = RandomnessAnalysis(blocks_df=blocks_eth, s=s)\n",
    "frequencies_df = analyser.compute_blocks_frequencies()\n",
    "plot_block_frequencies(frequencies_df)"
   ]
  },
  {
   "cell_type": "code",
   "execution_count": null,
   "id": "8a54aeec",
   "metadata": {},
   "outputs": [],
   "source": [
    "test_entropy = analyser.entropy_bias_test()\n",
    "test_entropy"
   ]
  },
  {
   "cell_type": "code",
   "execution_count": null,
   "id": "04840863",
   "metadata": {},
   "outputs": [],
   "source": [
    "blocks_uni = blocks_size_2['UNIUSDT']\n",
    "analyser = RandomnessAnalysis(blocks_df=blocks_uni, s=s)\n",
    "frequencies_df = analyser.compute_blocks_frequencies()\n",
    "plot_block_frequencies(frequencies_df)"
   ]
  },
  {
   "cell_type": "code",
   "execution_count": null,
   "id": "ef145f52",
   "metadata": {},
   "outputs": [],
   "source": [
    "test_entropy = analyser.entropy_bias_test()\n",
    "test_entropy"
   ]
  },
  {
   "cell_type": "markdown",
   "id": "3edee481",
   "metadata": {},
   "source": [
    "##### Block size 3"
   ]
  },
  {
   "cell_type": "code",
   "execution_count": null,
   "id": "664848b2",
   "metadata": {},
   "outputs": [],
   "source": [
    "blocks_btc = blocks_size_3['BTCUSDT']\n",
    "analyser = RandomnessAnalysis(blocks_df=blocks_btc, s=s)\n",
    "frequencies_df = analyser.compute_blocks_frequencies()\n",
    "plot_block_frequencies(frequencies_df)"
   ]
  },
  {
   "cell_type": "code",
   "execution_count": null,
   "id": "11633df5",
   "metadata": {},
   "outputs": [],
   "source": [
    "blocks_eth = blocks_size_3['ETHUSDT']\n",
    "analyser = RandomnessAnalysis(blocks_df=blocks_eth, s=s)\n",
    "frequencies_df = analyser.compute_blocks_frequencies()\n",
    "plot_block_frequencies(frequencies_df)"
   ]
  },
  {
   "cell_type": "code",
   "execution_count": null,
   "id": "89a136b5",
   "metadata": {},
   "outputs": [],
   "source": [
    "blocks_uni = blocks_size_3['UNIUSDT']\n",
    "analyser = RandomnessAnalysis(blocks_df=blocks_uni, s=s)\n",
    "frequencies_df = analyser.compute_blocks_frequencies()\n",
    "plot_block_frequencies(frequencies_df)"
   ]
  },
  {
   "cell_type": "markdown",
   "id": "3fa03a02",
   "metadata": {},
   "source": [
    "##### Block size 5"
   ]
  },
  {
   "cell_type": "code",
   "execution_count": null,
   "id": "85676c46",
   "metadata": {},
   "outputs": [],
   "source": [
    "blocks_btc = blocks_size_5['BTCUSDT']\n",
    "analyser = RandomnessAnalysis(blocks_df=blocks_btc, s=s)\n",
    "frequencies_df = analyser.compute_blocks_frequencies()\n",
    "plot_block_frequencies(frequencies_df)"
   ]
  },
  {
   "cell_type": "code",
   "execution_count": null,
   "id": "3a3400f8",
   "metadata": {},
   "outputs": [],
   "source": [
    "blocks_eth = blocks_size_5['ETHUSDT']\n",
    "analyser = RandomnessAnalysis(blocks_df=blocks_eth, s=s)\n",
    "frequencies_df = analyser.compute_blocks_frequencies()\n",
    "plot_block_frequencies(frequencies_df)"
   ]
  },
  {
   "cell_type": "code",
   "execution_count": null,
   "id": "f43925a6",
   "metadata": {},
   "outputs": [],
   "source": [
    "blocks_uni = blocks_size_5['UNIUSDT']\n",
    "analyser = RandomnessAnalysis(blocks_df=blocks_uni, s=s)\n",
    "frequencies_df = analyser.compute_blocks_frequencies()\n",
    "plot_block_frequencies(frequencies_df)"
   ]
  },
  {
   "cell_type": "markdown",
   "id": "5022db7e",
   "metadata": {},
   "source": [
    "#### Overlapping"
   ]
  },
  {
   "cell_type": "code",
   "execution_count": null,
   "id": "9aa5fd05",
   "metadata": {},
   "outputs": [],
   "source": [
    "blocks_size_2 = data_manager.block_constructor(block_size=2, overlapping=True)\n",
    "blocks_size_3 = data_manager.block_constructor(block_size=3, overlapping=True)\n",
    "blocks_size_5 = data_manager.block_constructor(block_size=5, overlapping=True)"
   ]
  },
  {
   "cell_type": "markdown",
   "id": "d4e07cec",
   "metadata": {},
   "source": [
    "##### Block size 2"
   ]
  },
  {
   "cell_type": "code",
   "execution_count": null,
   "id": "366d6bd5",
   "metadata": {},
   "outputs": [],
   "source": [
    "blocks_btc = blocks_size_2['BTCUSDT']\n",
    "analyser = RandomnessAnalysis(blocks_df=blocks_btc, s=s)\n",
    "frequencies_df = analyser.compute_blocks_frequencies()\n",
    "plot_block_frequencies(frequencies_df)"
   ]
  },
  {
   "cell_type": "code",
   "execution_count": null,
   "id": "099d8034",
   "metadata": {},
   "outputs": [],
   "source": [
    "test_divergence = analyser.KL_divergence_test()\n",
    "test_divergence"
   ]
  },
  {
   "cell_type": "code",
   "execution_count": null,
   "id": "0a598f46",
   "metadata": {},
   "outputs": [],
   "source": [
    "blocks_eth = blocks_size_2['ETHUSDT']\n",
    "analyser = RandomnessAnalysis(blocks_df=blocks_eth, s=s)\n",
    "frequencies_df = analyser.compute_blocks_frequencies()\n",
    "plot_block_frequencies(frequencies_df)"
   ]
  },
  {
   "cell_type": "code",
   "execution_count": null,
   "id": "87ce7cc5",
   "metadata": {},
   "outputs": [],
   "source": [
    "test_divergence = analyser.KL_divergence_test()\n",
    "test_divergence"
   ]
  },
  {
   "cell_type": "code",
   "execution_count": null,
   "id": "dac8f261",
   "metadata": {},
   "outputs": [],
   "source": [
    "blocks_uni = blocks_size_2['UNIUSDT']\n",
    "analyser = RandomnessAnalysis(blocks_df=blocks_uni, s=s)\n",
    "frequencies_df = analyser.compute_blocks_frequencies()\n",
    "plot_block_frequencies(frequencies_df)"
   ]
  },
  {
   "cell_type": "code",
   "execution_count": null,
   "id": "6b2e65db",
   "metadata": {},
   "outputs": [],
   "source": [
    "test_divergence = analyser.KL_divergence_test()\n",
    "test_divergence"
   ]
  },
  {
   "cell_type": "markdown",
   "id": "7052fbe8",
   "metadata": {},
   "source": [
    "##### Block size 3"
   ]
  },
  {
   "cell_type": "code",
   "execution_count": null,
   "id": "d71f8740",
   "metadata": {},
   "outputs": [],
   "source": [
    "blocks_btc = blocks_size_3['BTCUSDT']\n",
    "analyser = RandomnessAnalysis(blocks_df=blocks_btc, s=s)\n",
    "frequencies_df = analyser.compute_blocks_frequencies()\n",
    "plot_block_frequencies(frequencies_df)"
   ]
  },
  {
   "cell_type": "code",
   "execution_count": null,
   "id": "c1d17a11",
   "metadata": {},
   "outputs": [],
   "source": [
    "blocks_eth = blocks_size_3['ETHUSDT']\n",
    "analyser = RandomnessAnalysis(blocks_df=blocks_eth, s=s)\n",
    "frequencies_df = analyser.compute_blocks_frequencies()\n",
    "plot_block_frequencies(frequencies_df)"
   ]
  },
  {
   "cell_type": "code",
   "execution_count": null,
   "id": "d28391b4",
   "metadata": {},
   "outputs": [],
   "source": [
    "blocks_uni = blocks_size_3['UNIUSDT']\n",
    "analyser = RandomnessAnalysis(blocks_df=blocks_uni, s=s)\n",
    "frequencies_df = analyser.compute_blocks_frequencies()\n",
    "plot_block_frequencies(frequencies_df)"
   ]
  },
  {
   "cell_type": "markdown",
   "id": "763342d5",
   "metadata": {},
   "source": [
    "##### Block size 5"
   ]
  },
  {
   "cell_type": "code",
   "execution_count": null,
   "id": "bd43dd8a",
   "metadata": {},
   "outputs": [],
   "source": [
    "blocks_btc = blocks_size_5['BTCUSDT']\n",
    "analyser = RandomnessAnalysis(blocks_df=blocks_btc, s=s)\n",
    "frequencies_df = analyser.compute_blocks_frequencies()\n",
    "plot_block_frequencies(frequencies_df)"
   ]
  },
  {
   "cell_type": "code",
   "execution_count": null,
   "id": "5a67d065",
   "metadata": {},
   "outputs": [],
   "source": [
    "blocks_eth = blocks_size_5['ETHUSDT']\n",
    "analyser = RandomnessAnalysis(blocks_df=blocks_eth, s=s)\n",
    "frequencies_df = analyser.compute_blocks_frequencies()\n",
    "plot_block_frequencies(frequencies_df)"
   ]
  },
  {
   "cell_type": "code",
   "execution_count": null,
   "id": "6f26d4fe",
   "metadata": {},
   "outputs": [],
   "source": [
    "blocks_uni = blocks_size_5['UNIUSDT']\n",
    "analyser = RandomnessAnalysis(blocks_df=blocks_uni, s=s)\n",
    "frequencies_df = analyser.compute_blocks_frequencies()\n",
    "plot_block_frequencies(frequencies_df)"
   ]
  },
  {
   "cell_type": "markdown",
   "id": "b9fae856",
   "metadata": {},
   "source": [
    "### Aggregation level 50"
   ]
  },
  {
   "cell_type": "code",
   "execution_count": null,
   "id": "37307101",
   "metadata": {},
   "outputs": [],
   "source": [
    "data_manager = DataManager(asset_pairs, symbols, year=year, month=month, aggregation_level=50)"
   ]
  },
  {
   "cell_type": "markdown",
   "id": "74a14f05",
   "metadata": {},
   "source": [
    "#### Non overlapping"
   ]
  },
  {
   "cell_type": "code",
   "execution_count": null,
   "id": "efe3e3a4",
   "metadata": {},
   "outputs": [],
   "source": [
    "blocks_size_2 = data_manager.block_constructor(block_size=2, overlapping=False)\n",
    "blocks_size_3 = data_manager.block_constructor(block_size=3, overlapping=False)\n",
    "blocks_size_5 = data_manager.block_constructor(block_size=5, overlapping=False)"
   ]
  },
  {
   "cell_type": "markdown",
   "id": "b008c7a5",
   "metadata": {},
   "source": [
    "##### Block size 2"
   ]
  },
  {
   "cell_type": "code",
   "execution_count": null,
   "id": "8ed05c82",
   "metadata": {},
   "outputs": [],
   "source": [
    "blocks_btc = blocks_size_2['BTCUSDT']\n",
    "analyser = RandomnessAnalysis(blocks_df=blocks_btc, s=s)\n",
    "frequencies_df = analyser.compute_blocks_frequencies()\n",
    "plot_block_frequencies(frequencies_df)"
   ]
  },
  {
   "cell_type": "code",
   "execution_count": null,
   "id": "9e40d132",
   "metadata": {},
   "outputs": [],
   "source": [
    "test_entropy = analyser.entropy_bias_test()\n",
    "test_entropy"
   ]
  },
  {
   "cell_type": "code",
   "execution_count": null,
   "id": "b690c5d6",
   "metadata": {},
   "outputs": [],
   "source": [
    "blocks_eth = blocks_size_2['ETHUSDT']\n",
    "analyser = RandomnessAnalysis(blocks_df=blocks_eth, s=s)\n",
    "frequencies_df = analyser.compute_blocks_frequencies()\n",
    "plot_block_frequencies(frequencies_df)"
   ]
  },
  {
   "cell_type": "code",
   "execution_count": null,
   "id": "618a82cd",
   "metadata": {},
   "outputs": [],
   "source": [
    "test_entropy = analyser.entropy_bias_test()\n",
    "test_entropy"
   ]
  },
  {
   "cell_type": "code",
   "execution_count": null,
   "id": "59ae48d7",
   "metadata": {},
   "outputs": [],
   "source": [
    "blocks_uni = blocks_size_2['UNIUSDT']\n",
    "analyser = RandomnessAnalysis(blocks_df=blocks_uni, s=s)\n",
    "frequencies_df = analyser.compute_blocks_frequencies()\n",
    "plot_block_frequencies(frequencies_df)"
   ]
  },
  {
   "cell_type": "code",
   "execution_count": null,
   "id": "4dac1897",
   "metadata": {},
   "outputs": [],
   "source": [
    "test_entropy = analyser.entropy_bias_test()\n",
    "test_entropy"
   ]
  },
  {
   "cell_type": "markdown",
   "id": "0eb3b3ff",
   "metadata": {},
   "source": [
    "##### Block size 3"
   ]
  },
  {
   "cell_type": "code",
   "execution_count": null,
   "id": "6119f1b4",
   "metadata": {},
   "outputs": [],
   "source": [
    "blocks_btc = blocks_size_3['BTCUSDT']\n",
    "analyser = RandomnessAnalysis(blocks_df=blocks_btc, s=s)\n",
    "frequencies_df = analyser.compute_blocks_frequencies()\n",
    "plot_block_frequencies(frequencies_df)"
   ]
  },
  {
   "cell_type": "code",
   "execution_count": null,
   "id": "0d8bcf81",
   "metadata": {},
   "outputs": [],
   "source": [
    "blocks_eth = blocks_size_3['ETHUSDT']\n",
    "analyser = RandomnessAnalysis(blocks_df=blocks_eth, s=s)\n",
    "frequencies_df = analyser.compute_blocks_frequencies()\n",
    "plot_block_frequencies(frequencies_df)"
   ]
  },
  {
   "cell_type": "code",
   "execution_count": null,
   "id": "4b3e5ba4",
   "metadata": {},
   "outputs": [],
   "source": [
    "blocks_uni = blocks_size_3['UNIUSDT']\n",
    "analyser = RandomnessAnalysis(blocks_df=blocks_uni, s=s)\n",
    "frequencies_df = analyser.compute_blocks_frequencies()\n",
    "plot_block_frequencies(frequencies_df)"
   ]
  },
  {
   "cell_type": "markdown",
   "id": "ef1d992a",
   "metadata": {},
   "source": [
    "##### Block size 5"
   ]
  },
  {
   "cell_type": "code",
   "execution_count": null,
   "id": "d7831f5b",
   "metadata": {},
   "outputs": [],
   "source": [
    "blocks_btc = blocks_size_5['BTCUSDT']\n",
    "analyser = RandomnessAnalysis(blocks_df=blocks_btc, s=s)\n",
    "frequencies_df = analyser.compute_blocks_frequencies()\n",
    "plot_block_frequencies(frequencies_df)"
   ]
  },
  {
   "cell_type": "code",
   "execution_count": null,
   "id": "68690d3d",
   "metadata": {},
   "outputs": [],
   "source": [
    "blocks_eth = blocks_size_5['ETHUSDT']\n",
    "analyser = RandomnessAnalysis(blocks_df=blocks_eth, s=s)\n",
    "frequencies_df = analyser.compute_blocks_frequencies()\n",
    "plot_block_frequencies(frequencies_df)"
   ]
  },
  {
   "cell_type": "code",
   "execution_count": null,
   "id": "cdd21e8a",
   "metadata": {},
   "outputs": [],
   "source": [
    "blocks_uni = blocks_size_5['UNIUSDT']\n",
    "analyser = RandomnessAnalysis(blocks_df=blocks_uni, s=s)\n",
    "frequencies_df = analyser.compute_blocks_frequencies()\n",
    "plot_block_frequencies(frequencies_df)"
   ]
  },
  {
   "cell_type": "markdown",
   "id": "03c493d6",
   "metadata": {},
   "source": [
    "#### Overlapping"
   ]
  },
  {
   "cell_type": "code",
   "execution_count": null,
   "id": "3e85a72f",
   "metadata": {},
   "outputs": [],
   "source": [
    "blocks_size_2 = data_manager.block_constructor(block_size=2, overlapping=False)\n",
    "blocks_size_3 = data_manager.block_constructor(block_size=3, overlapping=False)\n",
    "blocks_size_5 = data_manager.block_constructor(block_size=5, overlapping=False)"
   ]
  },
  {
   "cell_type": "markdown",
   "id": "82e47bd8",
   "metadata": {},
   "source": [
    "##### Block size 2"
   ]
  },
  {
   "cell_type": "code",
   "execution_count": null,
   "id": "a068d6bc",
   "metadata": {},
   "outputs": [],
   "source": [
    "blocks_btc = blocks_size_2['BTCUSDT']\n",
    "analyser = RandomnessAnalysis(blocks_df=blocks_btc, s=s)\n",
    "frequencies_df = analyser.compute_blocks_frequencies()\n",
    "plot_block_frequencies(frequencies_df)"
   ]
  },
  {
   "cell_type": "code",
   "execution_count": null,
   "id": "f6c5a156",
   "metadata": {},
   "outputs": [],
   "source": [
    "test_divergence = analyser.KL_divergence_test()\n",
    "test_divergence"
   ]
  },
  {
   "cell_type": "code",
   "execution_count": null,
   "id": "66555388",
   "metadata": {},
   "outputs": [],
   "source": [
    "blocks_eth = blocks_size_2['ETHUSDT']\n",
    "analyser = RandomnessAnalysis(blocks_df=blocks_eth, s=s)\n",
    "frequencies_df = analyser.compute_blocks_frequencies()\n",
    "plot_block_frequencies(frequencies_df)"
   ]
  },
  {
   "cell_type": "code",
   "execution_count": null,
   "id": "0c222310",
   "metadata": {},
   "outputs": [],
   "source": [
    "test_divergence = analyser.KL_divergence_test()\n",
    "test_divergence"
   ]
  },
  {
   "cell_type": "code",
   "execution_count": null,
   "id": "1783cb41",
   "metadata": {},
   "outputs": [],
   "source": [
    "blocks_uni = blocks_size_2['UNIUSDT']\n",
    "analyser = RandomnessAnalysis(blocks_df=blocks_uni, s=s)\n",
    "frequencies_df = analyser.compute_blocks_frequencies()\n",
    "plot_block_frequencies(frequencies_df)"
   ]
  },
  {
   "cell_type": "code",
   "execution_count": null,
   "id": "fbc18b16",
   "metadata": {},
   "outputs": [],
   "source": [
    "test_divergence = analyser.KL_divergence_test()\n",
    "test_divergence"
   ]
  },
  {
   "cell_type": "markdown",
   "id": "19dc70ae",
   "metadata": {},
   "source": [
    "##### Block size 3"
   ]
  },
  {
   "cell_type": "code",
   "execution_count": null,
   "id": "3e69a85a",
   "metadata": {},
   "outputs": [],
   "source": [
    "blocks_btc = blocks_size_3['BTCUSDT']\n",
    "analyser = RandomnessAnalysis(blocks_df=blocks_btc, s=s)\n",
    "frequencies_df = analyser.compute_blocks_frequencies()\n",
    "plot_block_frequencies(frequencies_df)"
   ]
  },
  {
   "cell_type": "code",
   "execution_count": null,
   "id": "3f7f9696",
   "metadata": {},
   "outputs": [],
   "source": [
    "blocks_eth = blocks_size_3['ETHUSDT']\n",
    "analyser = RandomnessAnalysis(blocks_df=blocks_eth, s=s)\n",
    "frequencies_df = analyser.compute_blocks_frequencies()\n",
    "plot_block_frequencies(frequencies_df)"
   ]
  },
  {
   "cell_type": "code",
   "execution_count": null,
   "id": "557d5d59",
   "metadata": {},
   "outputs": [],
   "source": [
    "blocks_uni = blocks_size_3['UNIUSDT']\n",
    "analyser = RandomnessAnalysis(blocks_df=blocks_uni, s=s)\n",
    "frequencies_df = analyser.compute_blocks_frequencies()\n",
    "plot_block_frequencies(frequencies_df)"
   ]
  },
  {
   "cell_type": "markdown",
   "id": "24201e89",
   "metadata": {},
   "source": [
    "##### Block size 5"
   ]
  },
  {
   "cell_type": "code",
   "execution_count": null,
   "id": "6e8259de",
   "metadata": {},
   "outputs": [],
   "source": [
    "blocks_btc = blocks_size_5['BTCUSDT']\n",
    "analyser = RandomnessAnalysis(blocks_df=blocks_btc, s=s)\n",
    "frequencies_df = analyser.compute_blocks_frequencies()\n",
    "plot_block_frequencies(frequencies_df)"
   ]
  },
  {
   "cell_type": "code",
   "execution_count": null,
   "id": "522a184b",
   "metadata": {},
   "outputs": [],
   "source": [
    "blocks_eth = blocks_size_5['ETHUSDT']\n",
    "analyser = RandomnessAnalysis(blocks_df=blocks_eth, s=s)\n",
    "frequencies_df = analyser.compute_blocks_frequencies()\n",
    "plot_block_frequencies(frequencies_df)"
   ]
  },
  {
   "cell_type": "code",
   "execution_count": null,
   "id": "20ba633e",
   "metadata": {},
   "outputs": [],
   "source": [
    "blocks_uni = blocks_size_5['UNIUSDT']\n",
    "analyser = RandomnessAnalysis(blocks_df=blocks_uni, s=s)\n",
    "frequencies_df = analyser.compute_blocks_frequencies()\n",
    "plot_block_frequencies(frequencies_df)"
   ]
  },
  {
   "cell_type": "markdown",
   "id": "f55c298f",
   "metadata": {},
   "source": [
    "### MultiTester BTC"
   ]
  },
  {
   "cell_type": "code",
   "execution_count": null,
   "id": "26ac4277",
   "metadata": {},
   "outputs": [],
   "source": [
    "multi_tester = MultiTester(asset='BTCUSDT',symbols=symbols,overlapping=False)\n",
    "df_test_block = multi_tester.test_by_block_size(test='Entropy Bias',\n",
    "                                    max_block_size=15,\n",
    "                                    year=year,\n",
    "                                    month=month,\n",
    "                                    aggregation_level=5)\n",
    "df_test_block"
   ]
  },
  {
   "cell_type": "code",
   "execution_count": null,
   "id": "255d8642",
   "metadata": {},
   "outputs": [],
   "source": [
    "plot_test(x_values=df_test_block.index, \n",
    "          y1_values=df_test_block['Test statistic'].values,\n",
    "          y2_values=df_test_block['Quantile 99'].values,\n",
    "          test='Entropy Bias',\n",
    "          x_label='Block size',\n",
    "          pair='BTCUSDT')"
   ]
  },
  {
   "cell_type": "code",
   "execution_count": null,
   "id": "b59d935e",
   "metadata": {},
   "outputs": [],
   "source": [
    "multi_tester = MultiTester(asset='BTCUSDT',symbols=symbols,overlapping=True)\n",
    "df_test_agg = multi_tester.test_by_aggregation_level(test='NP Statistic',\n",
    "                                           max_aggregation_level=50,\n",
    "                                           year=year,\n",
    "                                           month=month,\n",
    "                                           block_size=2)\n",
    "df_test_agg"
   ]
  },
  {
   "cell_type": "code",
   "execution_count": null,
   "id": "bef5c80f",
   "metadata": {},
   "outputs": [],
   "source": [
    "plot_test(x_values=df_test_agg.index, \n",
    "          y1_values=df_test_agg['Test statistic'].values,\n",
    "          y2_values=df_test_agg['Quantile 99'].values,\n",
    "          test='NP Statistic',\n",
    "          x_label='Aggregation level',\n",
    "          pair='BTCUSDT')"
   ]
  },
  {
   "cell_type": "code",
   "execution_count": null,
   "id": "6cb9e636",
   "metadata": {},
   "outputs": [],
   "source": [
    "btc_multi_tester = MultiTester(asset='BTCUSDT',symbols=symbols,overlapping=False)\n",
    "btc_multi_tester.plot_3D_test_result(asset='BTCUSDT',\n",
    "                                     test='Entropy Bias',\n",
    "                                     max_block_size=15,\n",
    "                                     year=year,month=month,\n",
    "                                     max_aggregation_level=50)"
   ]
  },
  {
   "cell_type": "markdown",
   "id": "a26c256d",
   "metadata": {},
   "source": [
    "### MultiTester ETH"
   ]
  },
  {
   "cell_type": "code",
   "execution_count": null,
   "id": "9d4f98b6",
   "metadata": {},
   "outputs": [],
   "source": [
    "multi_tester = MultiTester(asset='ETHUSDT',symbols=symbols,overlapping=False)\n",
    "df_test_block = multi_tester.test_by_block_size(test='Entropy Bias',\n",
    "                                    max_block_size=15,\n",
    "                                    year=year,\n",
    "                                    month=month,\n",
    "                                    aggregation_level=5)\n",
    "df_test_block"
   ]
  },
  {
   "cell_type": "code",
   "execution_count": null,
   "id": "9d374b53",
   "metadata": {},
   "outputs": [],
   "source": [
    "plot_test(x_values=df_test_block.index, \n",
    "          y1_values=df_test_block['Test statistic'].values,\n",
    "          y2_values=df_test_block['Quantile 99'].values,\n",
    "          test='Entropy Bias',\n",
    "          x_label='Block size',\n",
    "          pair='BTCUSDT')"
   ]
  },
  {
   "cell_type": "code",
   "execution_count": null,
   "id": "ae848062",
   "metadata": {},
   "outputs": [],
   "source": [
    "multi_tester = MultiTester(asset='BTCUSDT',symbols=symbols,overlapping=True)\n",
    "df_test_agg = multi_tester.test_by_aggregation_level(test='NP Statistic',\n",
    "                                           max_aggregation_level=50,\n",
    "                                           year=year,\n",
    "                                           month=month,\n",
    "                                           block_size=2)\n",
    "df_test_agg"
   ]
  },
  {
   "cell_type": "code",
   "execution_count": null,
   "id": "a490296c",
   "metadata": {},
   "outputs": [],
   "source": [
    "plot_test(x_values=df_test_agg.index, \n",
    "          y1_values=df_test_agg['Test statistic'].values,\n",
    "          y2_values=df_test_agg['Quantile 99'].values,\n",
    "          test='NP Statistic',\n",
    "          x_label='Aggregation level',\n",
    "          pair='BTCUSDT')"
   ]
  },
  {
   "cell_type": "markdown",
   "id": "d6c40282",
   "metadata": {},
   "source": [
    "### MultiTester UNI"
   ]
  },
  {
   "cell_type": "code",
   "execution_count": null,
   "id": "e47945ff",
   "metadata": {},
   "outputs": [],
   "source": [
    "multi_tester = MultiTester(asset='UNIUSDT',symbols=symbols,overlapping=False)\n",
    "df_test_block = multi_tester.test_by_block_size(test='Entropy Bias',\n",
    "                                    max_block_size=15,\n",
    "                                    year=year,\n",
    "                                    month=month,\n",
    "                                    aggregation_level=5)\n",
    "df_test_block"
   ]
  },
  {
   "cell_type": "code",
   "execution_count": null,
   "id": "5b6caaf0",
   "metadata": {},
   "outputs": [],
   "source": [
    "plot_test(x_values=df_test_block.index, \n",
    "          y1_values=df_test_block['Test statistic'].values,\n",
    "          y2_values=df_test_block['Quantile 99'].values,\n",
    "          test='Entropy Bias',\n",
    "          x_label='Block size',\n",
    "          pair='BTCUSDT')"
   ]
  },
  {
   "cell_type": "code",
   "execution_count": null,
   "id": "35c89f78",
   "metadata": {},
   "outputs": [],
   "source": [
    "multi_tester = MultiTester(asset='BTCUSDT',symbols=symbols,overlapping=True)\n",
    "df_test_agg = multi_tester.test_by_aggregation_level(test='NP Statistic',\n",
    "                                           max_aggregation_level=50,\n",
    "                                           year=year,\n",
    "                                           month=month,\n",
    "                                           block_size=2)\n",
    "df_test_agg"
   ]
  },
  {
   "cell_type": "code",
   "execution_count": null,
   "id": "d223b2b9",
   "metadata": {},
   "outputs": [],
   "source": [
    "plot_test(x_values=df_test_agg.index, \n",
    "          y1_values=df_test_agg['Test statistic'].values,\n",
    "          y2_values=df_test_agg['Quantile 99'].values,\n",
    "          test='NP Statistic',\n",
    "          x_label='Aggregation level',\n",
    "          pair='BTCUSDT')"
   ]
  },
  {
   "cell_type": "markdown",
   "id": "aa05e27f",
   "metadata": {},
   "source": [
    "### Fraction of predictable days"
   ]
  },
  {
   "cell_type": "code",
   "execution_count": null,
   "id": "6c13d2ff",
   "metadata": {},
   "outputs": [],
   "source": [
    "asset_pairs = ['BTCUSDT','ETHUSDT','SOLUSDT',\n",
    "               'BNBUSDT', 'AVAXUSDT', 'UNIUSDT',\n",
    "               'LINKUSDT', 'AXSUSDT', 'RENDERUSDT']"
   ]
  },
  {
   "cell_type": "code",
   "execution_count": null,
   "id": "35a2d53b",
   "metadata": {},
   "outputs": [],
   "source": [
    "intervals_analysis(pairs=asset_pairs,\n",
    "                   symbols=symbols,\n",
    "                   max_aggregation_level=50,\n",
    "                   year=year,\n",
    "                   month=[month])"
   ]
  },
  {
   "cell_type": "code",
   "execution_count": null,
   "id": "ae38fe16",
   "metadata": {},
   "outputs": [],
   "source": [
    "intervals_analysis(pairs=asset_pairs,\n",
    "                   symbols=symbols,\n",
    "                   max_aggregation_level=50,\n",
    "                   year=year,\n",
    "                   month=[month],\n",
    "                   test = 'NP Statistic')"
   ]
  },
  {
   "cell_type": "code",
   "execution_count": null,
   "id": "ad6c5c10",
   "metadata": {},
   "outputs": [],
   "source": [
    "historical_collector = HistoricalDataCollector(pairs=asset_pairs, year=2025, month=2)\n",
    "historical_collector.collect()"
   ]
  },
  {
   "cell_type": "markdown",
   "id": "ee19d82c",
   "metadata": {},
   "source": [
    "### Assets properties"
   ]
  },
  {
   "cell_type": "code",
   "execution_count": null,
   "id": "bd73508a",
   "metadata": {},
   "outputs": [],
   "source": [
    "data_manager = DataManager(asset_pairs, symbols, year=year, month=month, aggregation_level=1)\n",
    "df_prop = get_assets_properties(asset_pairs, s=2, year=year, month=month)\n",
    "df_prop"
   ]
  }
 ],
 "metadata": {
  "kernelspec": {
   "display_name": "Python 3",
   "language": "python",
   "name": "python3"
  },
  "language_info": {
   "codemirror_mode": {
    "name": "ipython",
    "version": 3
   },
   "file_extension": ".py",
   "mimetype": "text/x-python",
   "name": "python",
   "nbconvert_exporter": "python",
   "pygments_lexer": "ipython3",
   "version": "3.12.0"
  }
 },
 "nbformat": 4,
 "nbformat_minor": 5
}
